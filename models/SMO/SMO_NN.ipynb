{
 "cells": [
  {
   "cell_type": "markdown",
   "metadata": {},
   "source": [
    "# Neural Network Final Model - Cape Matatula, American Samoa"
   ]
  },
  {
   "cell_type": "code",
   "execution_count": 1,
   "metadata": {},
   "outputs": [],
   "source": [
    "import pandas as pd\n",
    "from joblib import dump\n",
    "from pathlib import Path\n",
    "import matplotlib.pyplot as plt\n",
    "import seaborn as sns\n",
    "\n",
    "from sklearn.neural_network import MLPClassifier\n",
    "from sklearn.metrics import precision_score, recall_score, f1_score\n",
    "from sklearn.inspection import permutation_importance\n",
    "\n",
    "import sys\n",
    "sys.path.append('../../')\n",
    "import config\n",
    "\n",
    "data_path = Path.home()/'OneDrive'/'Kirstin'/'Uni'/'Year4'/'MSciProject'/'data_files'/'saved_files'"
   ]
  },
  {
   "cell_type": "code",
   "execution_count": 2,
   "metadata": {},
   "outputs": [
    {
     "name": "stdout",
     "output_type": "stream",
     "text": [
      "Creating a neural network model for \u001b[1mCape Matatula, American Samoa\u001b[0;0m.\n"
     ]
    }
   ],
   "source": [
    "site = config.site\n",
    "site_name = config.site_dict[site]\n",
    "assert site == 'SMO', 'This script is only for Cape Matatula, American Samoa. The site can be changed in the config file.'\n",
    "\n",
    "compound = config.compound\n",
    "\n",
    "print(f\"Creating a neural network model for \\033[1m{site_name}\\033[0;0m.\")"
   ]
  },
  {
   "cell_type": "markdown",
   "metadata": {},
   "source": [
    "### Loading & Initialising Data"
   ]
  },
  {
   "cell_type": "code",
   "execution_count": 3,
   "metadata": {},
   "outputs": [
    {
     "data": {
      "text/html": [
       "<div>\n",
       "<style scoped>\n",
       "    .dataframe tbody tr th:only-of-type {\n",
       "        vertical-align: middle;\n",
       "    }\n",
       "\n",
       "    .dataframe tbody tr th {\n",
       "        vertical-align: top;\n",
       "    }\n",
       "\n",
       "    .dataframe thead th {\n",
       "        text-align: right;\n",
       "    }\n",
       "</style>\n",
       "<table border=\"1\" class=\"dataframe\">\n",
       "  <thead>\n",
       "    <tr style=\"text-align: right;\">\n",
       "      <th></th>\n",
       "      <th>time</th>\n",
       "      <th>flag</th>\n",
       "      <th>u10_0</th>\n",
       "      <th>u10_1</th>\n",
       "      <th>u10_2</th>\n",
       "      <th>u10_3</th>\n",
       "      <th>u10_4</th>\n",
       "      <th>u10_5</th>\n",
       "      <th>u10_6</th>\n",
       "      <th>u10_7</th>\n",
       "      <th>...</th>\n",
       "      <th>v500_7_past</th>\n",
       "      <th>v500_8_past</th>\n",
       "      <th>v500_9_past</th>\n",
       "      <th>v500_10_past</th>\n",
       "      <th>v500_11_past</th>\n",
       "      <th>v500_12_past</th>\n",
       "      <th>v500_13_past</th>\n",
       "      <th>v500_14_past</th>\n",
       "      <th>v500_15_past</th>\n",
       "      <th>v500_16_past</th>\n",
       "    </tr>\n",
       "  </thead>\n",
       "  <tbody>\n",
       "    <tr>\n",
       "      <th>6464</th>\n",
       "      <td>2002-05-08 23:00:00</td>\n",
       "      <td>1.0</td>\n",
       "      <td>-3.741451</td>\n",
       "      <td>-3.099824</td>\n",
       "      <td>-2.345070</td>\n",
       "      <td>-3.495545</td>\n",
       "      <td>-4.473929</td>\n",
       "      <td>-6.551684</td>\n",
       "      <td>-7.267127</td>\n",
       "      <td>-4.148966</td>\n",
       "      <td>...</td>\n",
       "      <td>-6.222339</td>\n",
       "      <td>-2.075059</td>\n",
       "      <td>-1.211077</td>\n",
       "      <td>-2.183161</td>\n",
       "      <td>2.065517</td>\n",
       "      <td>2.930336</td>\n",
       "      <td>2.890950</td>\n",
       "      <td>-7.392191</td>\n",
       "      <td>-7.614263</td>\n",
       "      <td>-2.253554</td>\n",
       "    </tr>\n",
       "    <tr>\n",
       "      <th>18051</th>\n",
       "      <td>2006-11-19 05:00:00</td>\n",
       "      <td>1.0</td>\n",
       "      <td>-6.082671</td>\n",
       "      <td>-3.137342</td>\n",
       "      <td>-3.353632</td>\n",
       "      <td>-4.747810</td>\n",
       "      <td>-13.069705</td>\n",
       "      <td>-10.149798</td>\n",
       "      <td>-9.510212</td>\n",
       "      <td>-9.039701</td>\n",
       "      <td>...</td>\n",
       "      <td>12.347516</td>\n",
       "      <td>1.417223</td>\n",
       "      <td>-3.138290</td>\n",
       "      <td>-1.390927</td>\n",
       "      <td>-15.369826</td>\n",
       "      <td>-3.578996</td>\n",
       "      <td>-0.395859</td>\n",
       "      <td>-0.790175</td>\n",
       "      <td>4.393151</td>\n",
       "      <td>-2.530579</td>\n",
       "    </tr>\n",
       "    <tr>\n",
       "      <th>34199</th>\n",
       "      <td>2012-10-04 19:00:00</td>\n",
       "      <td>1.0</td>\n",
       "      <td>-1.796919</td>\n",
       "      <td>-5.331063</td>\n",
       "      <td>-4.468212</td>\n",
       "      <td>-4.075487</td>\n",
       "      <td>-4.602044</td>\n",
       "      <td>-0.286644</td>\n",
       "      <td>-4.803744</td>\n",
       "      <td>-3.958051</td>\n",
       "      <td>...</td>\n",
       "      <td>-5.924686</td>\n",
       "      <td>-7.383830</td>\n",
       "      <td>-3.073888</td>\n",
       "      <td>5.904801</td>\n",
       "      <td>-1.821485</td>\n",
       "      <td>-3.114894</td>\n",
       "      <td>-7.699921</td>\n",
       "      <td>-4.861937</td>\n",
       "      <td>-7.130103</td>\n",
       "      <td>-6.072480</td>\n",
       "    </tr>\n",
       "    <tr>\n",
       "      <th>50389</th>\n",
       "      <td>2019-08-25 11:00:00</td>\n",
       "      <td>1.0</td>\n",
       "      <td>-1.536494</td>\n",
       "      <td>-3.745327</td>\n",
       "      <td>-5.840775</td>\n",
       "      <td>-2.474934</td>\n",
       "      <td>3.202509</td>\n",
       "      <td>-2.903384</td>\n",
       "      <td>-4.036267</td>\n",
       "      <td>-4.240360</td>\n",
       "      <td>...</td>\n",
       "      <td>4.802215</td>\n",
       "      <td>2.286937</td>\n",
       "      <td>1.221569</td>\n",
       "      <td>-4.284485</td>\n",
       "      <td>-4.297093</td>\n",
       "      <td>-11.351218</td>\n",
       "      <td>-4.668126</td>\n",
       "      <td>8.968228</td>\n",
       "      <td>3.536020</td>\n",
       "      <td>-3.029098</td>\n",
       "    </tr>\n",
       "    <tr>\n",
       "      <th>45882</th>\n",
       "      <td>2017-09-03 13:00:00</td>\n",
       "      <td>1.0</td>\n",
       "      <td>-5.664656</td>\n",
       "      <td>-2.382942</td>\n",
       "      <td>-8.344167</td>\n",
       "      <td>-9.715383</td>\n",
       "      <td>-9.218755</td>\n",
       "      <td>-3.916746</td>\n",
       "      <td>-6.368213</td>\n",
       "      <td>-2.131250</td>\n",
       "      <td>...</td>\n",
       "      <td>-2.096853</td>\n",
       "      <td>-1.938402</td>\n",
       "      <td>-0.146763</td>\n",
       "      <td>2.340931</td>\n",
       "      <td>-1.176701</td>\n",
       "      <td>-6.204153</td>\n",
       "      <td>-27.309942</td>\n",
       "      <td>-19.726889</td>\n",
       "      <td>-3.028324</td>\n",
       "      <td>-0.900542</td>\n",
       "    </tr>\n",
       "  </tbody>\n",
       "</table>\n",
       "<p>5 rows × 210 columns</p>\n",
       "</div>"
      ],
      "text/plain": [
       "                     time  flag     u10_0     u10_1     u10_2     u10_3  \\\n",
       "6464  2002-05-08 23:00:00   1.0 -3.741451 -3.099824 -2.345070 -3.495545   \n",
       "18051 2006-11-19 05:00:00   1.0 -6.082671 -3.137342 -3.353632 -4.747810   \n",
       "34199 2012-10-04 19:00:00   1.0 -1.796919 -5.331063 -4.468212 -4.075487   \n",
       "50389 2019-08-25 11:00:00   1.0 -1.536494 -3.745327 -5.840775 -2.474934   \n",
       "45882 2017-09-03 13:00:00   1.0 -5.664656 -2.382942 -8.344167 -9.715383   \n",
       "\n",
       "           u10_4      u10_5     u10_6     u10_7  ...  v500_7_past  \\\n",
       "6464   -4.473929  -6.551684 -7.267127 -4.148966  ...    -6.222339   \n",
       "18051 -13.069705 -10.149798 -9.510212 -9.039701  ...    12.347516   \n",
       "34199  -4.602044  -0.286644 -4.803744 -3.958051  ...    -5.924686   \n",
       "50389   3.202509  -2.903384 -4.036267 -4.240360  ...     4.802215   \n",
       "45882  -9.218755  -3.916746 -6.368213 -2.131250  ...    -2.096853   \n",
       "\n",
       "       v500_8_past  v500_9_past  v500_10_past  v500_11_past  v500_12_past  \\\n",
       "6464     -2.075059    -1.211077     -2.183161      2.065517      2.930336   \n",
       "18051     1.417223    -3.138290     -1.390927    -15.369826     -3.578996   \n",
       "34199    -7.383830    -3.073888      5.904801     -1.821485     -3.114894   \n",
       "50389     2.286937     1.221569     -4.284485     -4.297093    -11.351218   \n",
       "45882    -1.938402    -0.146763      2.340931     -1.176701     -6.204153   \n",
       "\n",
       "       v500_13_past  v500_14_past  v500_15_past  v500_16_past  \n",
       "6464       2.890950     -7.392191     -7.614263     -2.253554  \n",
       "18051     -0.395859     -0.790175      4.393151     -2.530579  \n",
       "34199     -7.699921     -4.861937     -7.130103     -6.072480  \n",
       "50389     -4.668126      8.968228      3.536020     -3.029098  \n",
       "45882    -27.309942    -19.726889     -3.028324     -0.900542  \n",
       "\n",
       "[5 rows x 210 columns]"
      ]
     },
     "execution_count": 3,
     "metadata": {},
     "output_type": "execute_result"
    }
   ],
   "source": [
    "data = pd.read_csv(data_path/f'for_model_{compound}_{site}.csv', parse_dates=['time'])\n",
    "data.sample(5)"
   ]
  },
  {
   "cell_type": "code",
   "execution_count": 4,
   "metadata": {},
   "outputs": [
    {
     "name": "stdout",
     "output_type": "stream",
     "text": [
      "Train range: 2018-01-01 15:00:00 -> 2018-12-31 23:00:00. Length: 2379\n",
      "Val range: 2019-01-01 01:00:00 -> 2019-12-31 23:00:00. Length: 2126\n",
      "Test range: 2020-01-01 01:00:00 -> 2022-12-31 23:00:00. Length: 7925\n"
     ]
    }
   ],
   "source": [
    "train_data = data[(data['time'].dt.year >= 2018) & (data['time'].dt.year <= 2018)]\n",
    "val_data = data[(data['time'].dt.year >= 2019) & (data['time'].dt.year <= 2019)]\n",
    "test_data = data[(data['time'].dt.year >= 2020) & (data['time'].dt.year <= 2023)]\n",
    "\n",
    "print(f\"Train range: {train_data['time'].min()} -> {train_data['time'].max()}. Length: {len(train_data)}\")\n",
    "print(f\"Val range: {val_data['time'].min()} -> {val_data['time'].max()}. Length: {len(val_data)}\")\n",
    "print(f\"Test range: {test_data['time'].min()} -> {test_data['time'].max()}. Length: {len(test_data)}\")\n",
    "\n",
    "\n",
    "# Drop the \"time\" column as it won't be used in the model\n",
    "train_data = train_data.drop(columns=['time'])\n",
    "val_data = val_data.drop(columns=['time'])\n",
    "test_data = test_data.drop(columns=['time'])\n",
    "\n",
    "# Define the features (X) and the target (y)\n",
    "X_train = train_data.drop(columns=['flag'])\n",
    "y_train = train_data['flag']\n",
    "X_val = val_data.drop(columns=['flag'])\n",
    "y_val = val_data['flag']\n",
    "X_test = test_data.drop(columns=['flag'])\n",
    "y_test = test_data['flag']\n",
    "\n",
    "# Balanced Data - removing NaN values and associated data\n",
    "y_train = y_train.dropna()\n",
    "y_val = y_val.dropna()\n",
    "y_test = y_test.dropna()\n",
    "\n",
    "# aligning indices of features sets\n",
    "X_train = X_train.loc[y_train.index]\n",
    "X_val = X_val.loc[y_val.index]\n",
    "X_test = X_test.loc[y_test.index]"
   ]
  },
  {
   "cell_type": "markdown",
   "metadata": {},
   "source": [
    "### Model"
   ]
  },
  {
   "cell_type": "code",
   "execution_count": 9,
   "metadata": {},
   "outputs": [
    {
     "name": "stdout",
     "output_type": "stream",
     "text": [
      "Precision on Training Set = 0.849\n",
      "Precision on Validation Set = 0.742\n",
      "Recall on Training Set = 0.859\n",
      "Recall on Validation Set = 0.674\n",
      "F1 Score on Training Set = 0.854\n",
      "F1 Score on Validation Set = 0.706\n"
     ]
    }
   ],
   "source": [
    "nn_model = MLPClassifier(random_state=42,\n",
    "                         max_iter=1000, \n",
    "                         hidden_layer_sizes=(100,), \n",
    "                         shuffle=False,\n",
    "                         activation='relu', \n",
    "                         solver='adam', \n",
    "                         alpha=0.001, \n",
    "                         learning_rate='constant', \n",
    "                         batch_size=100, \n",
    "                         early_stopping=True,\n",
    "                         learning_rate_init=0.001,\n",
    "                         beta_2=0.9,)\n",
    "\n",
    "nn_model.fit(X_train, y_train)\n",
    "\n",
    "y_pred_val = nn_model.predict(X_val)\n",
    "y_pred_train = nn_model.predict(X_train)\n",
    "\n",
    "\n",
    "precision_val = precision_score(y_val, y_pred_val)\n",
    "precision_train = precision_score(y_train, y_pred_train)\n",
    "recall_val = recall_score(y_val, y_pred_val)\n",
    "recall_train = recall_score(y_train, y_pred_train)\n",
    "f1_val = f1_score(y_val, y_pred_val)\n",
    "f1_train = f1_score(y_train, y_pred_train)\n",
    "\n",
    "print(f\"Precision on Training Set = {precision_train:.3f}\")\n",
    "print(f\"Precision on Validation Set = {precision_val:.3f}\")\n",
    "print(f\"Recall on Training Set = {recall_train:.3f}\")\n",
    "print(f\"Recall on Validation Set = {recall_val:.3f}\")\n",
    "print(f\"F1 Score on Training Set = {f1_train:.3f}\")\n",
    "print(f\"F1 Score on Validation Set = {f1_val:.3f}\")"
   ]
  },
  {
   "cell_type": "code",
   "execution_count": 10,
   "metadata": {},
   "outputs": [
    {
     "name": "stdout",
     "output_type": "stream",
     "text": [
      "Precision on Testing Set = 0.864\n",
      "Recall on Testing Set = 0.832\n",
      "F1 Score on Testing Set = 0.848\n"
     ]
    }
   ],
   "source": [
    "# evaluating model on test set\n",
    "\n",
    "y_pred_test = nn_model.predict(X_test)\n",
    "\n",
    "precision_test = precision_score(y_test, y_pred_test)\n",
    "recall_test = recall_score(y_test, y_pred_test)\n",
    "f1_test = f1_score(y_test, y_pred_test)\n",
    "\n",
    "print(f\"Precision on Testing Set = {precision_test:.3f}\")\n",
    "print(f\"Recall on Testing Set = {recall_test:.3f}\")\n",
    "print(f\"F1 Score on Testing Set = {f1_test:.3f}\")"
   ]
  },
  {
   "cell_type": "code",
   "execution_count": 11,
   "metadata": {},
   "outputs": [
    {
     "data": {
      "text/plain": [
       "['C:\\\\Users\\\\kirst\\\\OneDrive\\\\Kirstin\\\\Uni\\\\Year4\\\\MSciProject\\\\data_files\\\\saved_files\\\\nn_model_SMO.joblib']"
      ]
     },
     "execution_count": 11,
     "metadata": {},
     "output_type": "execute_result"
    }
   ],
   "source": [
    "# saving the model\n",
    "dump(nn_model, data_path/f'nn_model_{site}.joblib')"
   ]
  },
  {
   "cell_type": "markdown",
   "metadata": {},
   "source": [
    "### Assessing Feature Importance"
   ]
  },
  {
   "cell_type": "code",
   "execution_count": 12,
   "metadata": {},
   "outputs": [],
   "source": [
    "# finding most important features in the model using permutation importance\n",
    "# using the testing set\n",
    "perm_importance = permutation_importance(nn_model, X_train, y_train, n_repeats=30, random_state=42)\n",
    "sorted_importances = perm_importance.importances_mean.argsort()"
   ]
  },
  {
   "cell_type": "code",
   "execution_count": 13,
   "metadata": {},
   "outputs": [
    {
     "data": {
      "text/plain": [
       "Text(0.5, 0, 'Permutation Importance')"
      ]
     },
     "execution_count": 13,
     "metadata": {},
     "output_type": "execute_result"
    },
    {
     "data": {
      "image/png": "[encoded data removed]",
      "text/plain": [
       "<Figure size 1200x1200 with 1 Axes>"
      ]
     },
     "metadata": {},
     "output_type": "display_data"
    }
   ],
   "source": [
    "# plotting first 20 most important features in a histogram\n",
    "\n",
    "fig, ax = plt.subplots(figsize=(12, 12))\n",
    "sns.set_theme(style='ticks', font='Arial')\n",
    "\n",
    "ax.barh(X_val.columns[sorted_importances][-20:], perm_importance.importances_mean[sorted_importances][-20:], color='#FF620E')\n",
    "\n",
    "ax.set_xscale('log')\n",
    "\n",
    "ax.set_ylabel('Features', fontsize=12, fontstyle='italic')\n",
    "ax.set_xlabel('Permutation Importance', fontsize=12, fontstyle='italic')\n",
    "# ax.set_title('Permutation Importance (Testing Set)', fontsize=14)"
   ]
  },
  {
   "cell_type": "code",
   "execution_count": 14,
   "metadata": {},
   "outputs": [
    {
     "name": "stdout",
     "output_type": "stream",
     "text": [
      "Position of 'blh': 103\n"
     ]
    }
   ],
   "source": [
    "# determining where blh lies in list of features\n",
    "blh_index = X_val.columns.get_loc('blh')\n",
    "print(f\"Position of 'blh': {blh_index}\")"
   ]
  }
 ],
 "metadata": {
  "kernelspec": {
   "display_name": "venv",
   "language": "python",
   "name": "python3"
  },
  "language_info": {
   "codemirror_mode": {
    "name": "ipython",
    "version": 3
   },
   "file_extension": ".py",
   "mimetype": "text/x-python",
   "name": "python",
   "nbconvert_exporter": "python",
   "pygments_lexer": "ipython3",
   "version": "3.11.9"
  }
 },
 "nbformat": 4,
 "nbformat_minor": 2
}
