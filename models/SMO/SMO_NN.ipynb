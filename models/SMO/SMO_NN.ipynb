{
 "cells": [
  {
   "cell_type": "markdown",
   "metadata": {},
   "source": [
    "# Neural Network Final Model - Cape Matatula, American Samoa"
   ]
  },
  {
   "cell_type": "code",
   "execution_count": 1,
   "metadata": {},
   "outputs": [],
   "source": [
    "import pandas as pd\n",
    "import numpy as np\n",
    "from joblib import dump\n",
    "from pathlib import Path\n",
    "import matplotlib.pyplot as plt\n",
    "import seaborn as sns\n",
    "\n",
    "from sklearn.neural_network import MLPClassifier\n",
    "from sklearn.metrics import precision_score, recall_score, f1_score, accuracy_score\n",
    "\n",
    "import sys\n",
    "sys.path.append('../../')\n",
    "import config as cfg\n",
    "import functions as f\n",
    "\n",
    "data_path = Path.home()/'OneDrive'/'Kirstin'/'Uni'/'Year4'/'MSciProject'/'data_files'/'saved_files'"
   ]
  },
  {
   "cell_type": "code",
   "execution_count": 2,
   "metadata": {},
   "outputs": [
    {
     "name": "stdout",
     "output_type": "stream",
     "text": [
      "Creating a neural network model for \u001b[1mCape Matatula, American Samoa\u001b[0;0m.\n"
     ]
    }
   ],
   "source": [
    "site = cfg.site\n",
    "site_name = cfg.site_dict[site]\n",
    "assert site == 'SMO', 'This script is only for Cape Matatula, American Samoa. The site can be changed in the config file.'\n",
    "\n",
    "compound = cfg.compound\n",
    "\n",
    "print(f\"Creating a neural network model for \\033[1m{site_name}\\033[0;0m.\")"
   ]
  },
  {
   "cell_type": "markdown",
   "metadata": {},
   "source": [
    "### Loading & Initialising Data"
   ]
  },
  {
   "cell_type": "code",
   "execution_count": 3,
   "metadata": {},
   "outputs": [
    {
     "data": {
      "text/html": [
       "<div>\n",
       "<style scoped>\n",
       "    .dataframe tbody tr th:only-of-type {\n",
       "        vertical-align: middle;\n",
       "    }\n",
       "\n",
       "    .dataframe tbody tr th {\n",
       "        vertical-align: top;\n",
       "    }\n",
       "\n",
       "    .dataframe thead th {\n",
       "        text-align: right;\n",
       "    }\n",
       "</style>\n",
       "<table border=\"1\" class=\"dataframe\">\n",
       "  <thead>\n",
       "    <tr style=\"text-align: right;\">\n",
       "      <th></th>\n",
       "      <th>time</th>\n",
       "      <th>flag</th>\n",
       "      <th>u10_0</th>\n",
       "      <th>u10_1</th>\n",
       "      <th>u10_2</th>\n",
       "      <th>u10_3</th>\n",
       "      <th>u10_4</th>\n",
       "      <th>u10_5</th>\n",
       "      <th>u10_6</th>\n",
       "      <th>u10_7</th>\n",
       "      <th>...</th>\n",
       "      <th>v500_7_past</th>\n",
       "      <th>v500_8_past</th>\n",
       "      <th>v500_9_past</th>\n",
       "      <th>v500_10_past</th>\n",
       "      <th>v500_11_past</th>\n",
       "      <th>v500_12_past</th>\n",
       "      <th>v500_13_past</th>\n",
       "      <th>v500_14_past</th>\n",
       "      <th>v500_15_past</th>\n",
       "      <th>v500_16_past</th>\n",
       "    </tr>\n",
       "  </thead>\n",
       "  <tbody>\n",
       "    <tr>\n",
       "      <th>44873</th>\n",
       "      <td>2017-04-17 17:00:00</td>\n",
       "      <td>0.0</td>\n",
       "      <td>1.569756</td>\n",
       "      <td>-1.576597</td>\n",
       "      <td>0.328599</td>\n",
       "      <td>2.256469</td>\n",
       "      <td>-1.970161</td>\n",
       "      <td>-0.737102</td>\n",
       "      <td>-1.231621</td>\n",
       "      <td>-1.305583</td>\n",
       "      <td>...</td>\n",
       "      <td>-0.120972</td>\n",
       "      <td>-0.195152</td>\n",
       "      <td>-3.810936</td>\n",
       "      <td>-2.784784</td>\n",
       "      <td>0.649355</td>\n",
       "      <td>2.820538</td>\n",
       "      <td>-9.889868</td>\n",
       "      <td>-10.762905</td>\n",
       "      <td>-2.476653</td>\n",
       "      <td>-0.551785</td>\n",
       "    </tr>\n",
       "    <tr>\n",
       "      <th>38106</th>\n",
       "      <td>2014-04-17 11:00:00</td>\n",
       "      <td>1.0</td>\n",
       "      <td>-0.396086</td>\n",
       "      <td>-0.055424</td>\n",
       "      <td>-2.380507</td>\n",
       "      <td>1.355826</td>\n",
       "      <td>-1.412834</td>\n",
       "      <td>-2.653990</td>\n",
       "      <td>-4.867107</td>\n",
       "      <td>-3.689319</td>\n",
       "      <td>...</td>\n",
       "      <td>2.941059</td>\n",
       "      <td>-2.706388</td>\n",
       "      <td>-1.077187</td>\n",
       "      <td>1.470229</td>\n",
       "      <td>0.421442</td>\n",
       "      <td>-3.751806</td>\n",
       "      <td>4.655342</td>\n",
       "      <td>5.347795</td>\n",
       "      <td>2.566191</td>\n",
       "      <td>-2.124290</td>\n",
       "    </tr>\n",
       "    <tr>\n",
       "      <th>55670</th>\n",
       "      <td>2021-09-22 21:00:00</td>\n",
       "      <td>1.0</td>\n",
       "      <td>-7.141338</td>\n",
       "      <td>-8.037588</td>\n",
       "      <td>-6.611668</td>\n",
       "      <td>-5.215174</td>\n",
       "      <td>-6.542841</td>\n",
       "      <td>-9.509394</td>\n",
       "      <td>-7.703427</td>\n",
       "      <td>-5.949830</td>\n",
       "      <td>...</td>\n",
       "      <td>-0.172114</td>\n",
       "      <td>1.603692</td>\n",
       "      <td>-3.514862</td>\n",
       "      <td>-1.671343</td>\n",
       "      <td>6.537226</td>\n",
       "      <td>22.797956</td>\n",
       "      <td>6.136668</td>\n",
       "      <td>-2.349430</td>\n",
       "      <td>-5.806623</td>\n",
       "      <td>-2.974109</td>\n",
       "    </tr>\n",
       "    <tr>\n",
       "      <th>42095</th>\n",
       "      <td>2015-11-27 15:00:00</td>\n",
       "      <td>1.0</td>\n",
       "      <td>-2.272896</td>\n",
       "      <td>1.667204</td>\n",
       "      <td>3.106923</td>\n",
       "      <td>-10.773958</td>\n",
       "      <td>-11.653560</td>\n",
       "      <td>-12.449056</td>\n",
       "      <td>-13.902208</td>\n",
       "      <td>-6.995644</td>\n",
       "      <td>...</td>\n",
       "      <td>-4.926132</td>\n",
       "      <td>-4.835523</td>\n",
       "      <td>-7.117207</td>\n",
       "      <td>1.727406</td>\n",
       "      <td>-6.653869</td>\n",
       "      <td>6.869430</td>\n",
       "      <td>-2.154339</td>\n",
       "      <td>-1.139113</td>\n",
       "      <td>3.326437</td>\n",
       "      <td>-4.785071</td>\n",
       "    </tr>\n",
       "    <tr>\n",
       "      <th>20073</th>\n",
       "      <td>2007-09-16 05:00:00</td>\n",
       "      <td>1.0</td>\n",
       "      <td>-9.632996</td>\n",
       "      <td>-7.912108</td>\n",
       "      <td>-7.405064</td>\n",
       "      <td>-10.343622</td>\n",
       "      <td>-10.712961</td>\n",
       "      <td>-9.400087</td>\n",
       "      <td>-7.378713</td>\n",
       "      <td>-8.997598</td>\n",
       "      <td>...</td>\n",
       "      <td>-1.037195</td>\n",
       "      <td>1.059097</td>\n",
       "      <td>7.738808</td>\n",
       "      <td>9.115404</td>\n",
       "      <td>6.558042</td>\n",
       "      <td>15.170439</td>\n",
       "      <td>-4.322515</td>\n",
       "      <td>-8.651437</td>\n",
       "      <td>-2.541865</td>\n",
       "      <td>-5.635486</td>\n",
       "    </tr>\n",
       "  </tbody>\n",
       "</table>\n",
       "<p>5 rows × 210 columns</p>\n",
       "</div>"
      ],
      "text/plain": [
       "                     time  flag     u10_0     u10_1     u10_2      u10_3  \\\n",
       "44873 2017-04-17 17:00:00   0.0  1.569756 -1.576597  0.328599   2.256469   \n",
       "38106 2014-04-17 11:00:00   1.0 -0.396086 -0.055424 -2.380507   1.355826   \n",
       "55670 2021-09-22 21:00:00   1.0 -7.141338 -8.037588 -6.611668  -5.215174   \n",
       "42095 2015-11-27 15:00:00   1.0 -2.272896  1.667204  3.106923 -10.773958   \n",
       "20073 2007-09-16 05:00:00   1.0 -9.632996 -7.912108 -7.405064 -10.343622   \n",
       "\n",
       "           u10_4      u10_5      u10_6     u10_7  ...  v500_7_past  \\\n",
       "44873  -1.970161  -0.737102  -1.231621 -1.305583  ...    -0.120972   \n",
       "38106  -1.412834  -2.653990  -4.867107 -3.689319  ...     2.941059   \n",
       "55670  -6.542841  -9.509394  -7.703427 -5.949830  ...    -0.172114   \n",
       "42095 -11.653560 -12.449056 -13.902208 -6.995644  ...    -4.926132   \n",
       "20073 -10.712961  -9.400087  -7.378713 -8.997598  ...    -1.037195   \n",
       "\n",
       "       v500_8_past  v500_9_past  v500_10_past  v500_11_past  v500_12_past  \\\n",
       "44873    -0.195152    -3.810936     -2.784784      0.649355      2.820538   \n",
       "38106    -2.706388    -1.077187      1.470229      0.421442     -3.751806   \n",
       "55670     1.603692    -3.514862     -1.671343      6.537226     22.797956   \n",
       "42095    -4.835523    -7.117207      1.727406     -6.653869      6.869430   \n",
       "20073     1.059097     7.738808      9.115404      6.558042     15.170439   \n",
       "\n",
       "       v500_13_past  v500_14_past  v500_15_past  v500_16_past  \n",
       "44873     -9.889868    -10.762905     -2.476653     -0.551785  \n",
       "38106      4.655342      5.347795      2.566191     -2.124290  \n",
       "55670      6.136668     -2.349430     -5.806623     -2.974109  \n",
       "42095     -2.154339     -1.139113      3.326437     -4.785071  \n",
       "20073     -4.322515     -8.651437     -2.541865     -5.635486  \n",
       "\n",
       "[5 rows x 210 columns]"
      ]
     },
     "execution_count": 3,
     "metadata": {},
     "output_type": "execute_result"
    }
   ],
   "source": [
    "data = pd.read_csv(data_path/f'for_model_{compound}_{site}.csv', parse_dates=['time'])\n",
    "data.sample(5)"
   ]
  },
  {
   "cell_type": "code",
   "execution_count": 4,
   "metadata": {},
   "outputs": [
    {
     "name": "stdout",
     "output_type": "stream",
     "text": [
      "Train range: 2018-01-01 15:00:00 -> 2018-12-31 23:00:00. Length: 2379\n",
      "Val range: 2019-01-01 01:00:00 -> 2019-12-31 23:00:00. Length: 2126\n",
      "Test range: 2020-01-01 01:00:00 -> 2022-12-31 23:00:00. Length: 7925\n"
     ]
    }
   ],
   "source": [
    "train_data = data[(data['time'].dt.year >= 2018) & (data['time'].dt.year <= 2018)]\n",
    "val_data = data[(data['time'].dt.year >= 2019) & (data['time'].dt.year <= 2019)]\n",
    "test_data = data[(data['time'].dt.year >= 2020) & (data['time'].dt.year <= 2023)]\n",
    "\n",
    "print(f\"Train range: {train_data['time'].min()} -> {train_data['time'].max()}. Length: {len(train_data)}\")\n",
    "print(f\"Val range: {val_data['time'].min()} -> {val_data['time'].max()}. Length: {len(val_data)}\")\n",
    "print(f\"Test range: {test_data['time'].min()} -> {test_data['time'].max()}. Length: {len(test_data)}\")\n",
    "\n",
    "\n",
    "# Drop the \"time\" column as it won't be used in the model\n",
    "train_data = train_data.drop(columns=['time'])\n",
    "val_data = val_data.drop(columns=['time'])\n",
    "test_data = test_data.drop(columns=['time'])\n",
    "\n",
    "# Define the features (X) and the target (y)\n",
    "X_train = train_data.drop(columns=['flag'])\n",
    "y_train = train_data['flag']\n",
    "X_val = val_data.drop(columns=['flag'])\n",
    "y_val = val_data['flag']\n",
    "X_test = test_data.drop(columns=['flag'])\n",
    "y_test = test_data['flag']\n",
    "\n",
    "# Balanced Data - removing NaN values and associated data\n",
    "y_train = y_train.dropna()\n",
    "y_val = y_val.dropna()\n",
    "y_test = y_test.dropna()\n",
    "\n",
    "# aligning indices of features sets\n",
    "X_train = X_train.loc[y_train.index]\n",
    "X_val = X_val.loc[y_val.index]\n",
    "X_test = X_test.loc[y_test.index]"
   ]
  },
  {
   "cell_type": "markdown",
   "metadata": {},
   "source": [
    "### Model"
   ]
  },
  {
   "cell_type": "code",
   "execution_count": 5,
   "metadata": {},
   "outputs": [
    {
     "name": "stdout",
     "output_type": "stream",
     "text": [
      "Precision on Training Set = 0.849\n",
      "Precision on Validation Set = 0.742\n",
      "Recall on Training Set = 0.859\n",
      "Recall on Validation Set = 0.674\n",
      "F1 Score on Training Set = 0.854\n",
      "F1 Score on Validation Set = 0.706\n"
     ]
    }
   ],
   "source": [
    "nn_model = MLPClassifier(random_state=42,\n",
    "                         max_iter=1000, \n",
    "                         hidden_layer_sizes=(100,), \n",
    "                         shuffle=False,\n",
    "                         activation='relu', \n",
    "                         solver='adam', \n",
    "                         alpha=0.001, \n",
    "                         learning_rate='constant', \n",
    "                         batch_size=100, \n",
    "                         early_stopping=True,\n",
    "                         learning_rate_init=0.001,\n",
    "                         beta_2=0.9,)\n",
    "\n",
    "nn_model.fit(X_train, y_train)\n",
    "\n",
    "class_probabilities_val = nn_model.predict_proba(X_val)\n",
    "class_probabilities_train = nn_model.predict_proba(X_train)\n",
    "\n",
    "confidence_threshold = config.confidence_threshold\n",
    "\n",
    "y_pred_val = (class_probabilities_val[:,1] > confidence_threshold).astype(int)\n",
    "y_pred_train = (class_probabilities_train[:,1] > confidence_threshold).astype(int)\n",
    "\n",
    "precision_val = precision_score(y_val, y_pred_val)\n",
    "precision_train = precision_score(y_train, y_pred_train)\n",
    "recall_val = recall_score(y_val, y_pred_val)\n",
    "recall_train = recall_score(y_train, y_pred_train)\n",
    "f1_val = f1_score(y_val, y_pred_val)\n",
    "f1_train = f1_score(y_train, y_pred_train)\n",
    "\n",
    "print(f\"Precision on Training Set = {precision_train:.3f}\")\n",
    "print(f\"Precision on Validation Set = {precision_val:.3f}\")\n",
    "print(f\"Recall on Training Set = {recall_train:.3f}\")\n",
    "print(f\"Recall on Validation Set = {recall_val:.3f}\")\n",
    "print(f\"F1 Score on Training Set = {f1_train:.3f}\")\n",
    "print(f\"F1 Score on Validation Set = {f1_val:.3f}\")"
   ]
  },
  {
   "cell_type": "code",
   "execution_count": 6,
   "metadata": {},
   "outputs": [
    {
     "name": "stdout",
     "output_type": "stream",
     "text": [
      "Precision on Testing Set = 0.864\n",
      "Recall on Testing Set = 0.832\n",
      "F1 Score on Testing Set = 0.848\n"
     ]
    }
   ],
   "source": [
    "# evaluating model on test set\n",
    "class_probabilities_test = nn_model.predict_proba(X_test)\n",
    "\n",
    "y_pred_test = (class_probabilities_test[:,1] > confidence_threshold).astype(int)\n",
    "\n",
    "precision_test = precision_score(y_test, y_pred_test)\n",
    "recall_test = recall_score(y_test, y_pred_test)\n",
    "f1_test = f1_score(y_test, y_pred_test)\n",
    "\n",
    "print(f\"Precision on Testing Set = {precision_test:.3f}\")\n",
    "print(f\"Recall on Testing Set = {recall_test:.3f}\")\n",
    "print(f\"F1 Score on Testing Set = {f1_test:.3f}\")"
   ]
  },
  {
   "cell_type": "code",
   "execution_count": 11,
   "metadata": {},
   "outputs": [
    {
     "data": {
      "text/plain": [
       "['C:\\\\Users\\\\kirst\\\\OneDrive\\\\Kirstin\\\\Uni\\\\Year4\\\\MSciProject\\\\data_files\\\\saved_files\\\\nn_model_SMO.joblib']"
      ]
     },
     "execution_count": 11,
     "metadata": {},
     "output_type": "execute_result"
    }
   ],
   "source": [
    "# saving the model\n",
    "dump(nn_model, data_path/f'nn_model_{site}.joblib')"
   ]
  },
  {
   "cell_type": "markdown",
   "metadata": {},
   "source": [
    "### Assessing Feature Importance"
   ]
  },
  {
   "cell_type": "code",
   "execution_count": 7,
   "metadata": {},
   "outputs": [],
   "source": [
    "# grouping features by category i.e. x-wind, y-wind, temporal etc.\n",
    "u_features = [col for col in data.columns if 'u' in col]\n",
    "v_features = [col for col in data.columns if 'v' in col]\n",
    "temporal_features = ['day_of_year', 'time_of_day']\n",
    "sp = ['sp']\n",
    "blh = ['blh']\n",
    "\n",
    "groups = [u_features, v_features, temporal_features, sp, blh]"
   ]
  },
  {
   "cell_type": "code",
   "execution_count": 8,
   "metadata": {},
   "outputs": [],
   "source": [
    "original_score = accuracy_score(y_train, nn_model.predict(X_train))\n",
    "importances = {}\n",
    "\n",
    "for group in groups:\n",
    "    scores_diff = []\n",
    "    for _ in range(100):\n",
    "        X_train_permuted = f.permute_group(X_train, group)\n",
    "        \n",
    "        permuted_score = accuracy_score(y_train, nn_model.predict(X_train_permuted))\n",
    "        scores_diff.append(original_score - permuted_score)\n",
    "    \n",
    "    importances[str(group)] = np.mean(scores_diff)\n",
    "\n",
    "# Sort groups by importance\n",
    "sorted_importances = sorted(importances.items(), key=lambda x: x[1], reverse=False)"
   ]
  },
  {
   "cell_type": "code",
   "execution_count": 12,
   "metadata": {},
   "outputs": [],
   "source": [
    "# matching the group names to the sorted importances\n",
    "n = len(groups)\n",
    "group_names_sorted = []\n",
    "\n",
    "for i in range(n):\n",
    "    name = sorted_importances[i][0]\n",
    "\n",
    "    if 'u10_0' in name:\n",
    "        group_names_sorted.append('u-wind')\n",
    "\n",
    "    elif 'v10_0' in name:\n",
    "        group_names_sorted.append('v-wind')\n",
    "\n",
    "    elif 'day_of_year' in name:\n",
    "        group_names_sorted.append('temporal')\n",
    "\n",
    "    elif 'sp' in name:\n",
    "        group_names_sorted.append('sp')\n",
    "\n",
    "    elif 'blh' in name:\n",
    "        group_names_sorted.append('blh')"
   ]
  },
  {
   "cell_type": "code",
   "execution_count": 13,
   "metadata": {},
   "outputs": [
    {
     "data": {
      "text/plain": [
       "Text(0, 0.5, 'Feature Group')"
      ]
     },
     "execution_count": 13,
     "metadata": {},
     "output_type": "execute_result"
    },
    {
     "data": {
      "image/png": "[encoded data removed]",
      "text/plain": [
       "<Figure size 1200x800 with 1 Axes>"
      ]
     },
     "metadata": {},
     "output_type": "display_data"
    }
   ],
   "source": [
    "# Plotting the importances of the groups\n",
    "fig, ax = plt.subplots(figsize=(12, 8))\n",
    "sns.set_theme(style='ticks', font='Arial')\n",
    "\n",
    "ax.barh(group_names_sorted, [importance for _, importance in sorted_importances], color='#FF620E')\n",
    "\n",
    "ax.set_xlabel('Importance', fontsize=12, fontstyle='italic')\n",
    "ax.set_ylabel('Feature Group', fontsize=12, fontstyle='italic')\n",
    "# ax.set_title('Permutation Importances', fontsize=14)"
   ]
  }
 ],
 "metadata": {
  "kernelspec": {
   "display_name": "venv",
   "language": "python",
   "name": "python3"
  },
  "language_info": {
   "codemirror_mode": {
    "name": "ipython",
    "version": 3
   },
   "file_extension": ".py",
   "mimetype": "text/x-python",
   "name": "python",
   "nbconvert_exporter": "python",
   "pygments_lexer": "ipython3",
   "version": "3.11.9"
  }
 },
 "nbformat": 4,
 "nbformat_minor": 2
}
