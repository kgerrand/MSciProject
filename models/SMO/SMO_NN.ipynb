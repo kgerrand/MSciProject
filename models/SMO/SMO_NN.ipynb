{
 "cells": [
  {
   "cell_type": "markdown",
   "metadata": {},
   "source": [
    "# Neural Network Final Model - Cape Matatula, American Samoa"
   ]
  },
  {
   "cell_type": "code",
   "execution_count": 1,
   "metadata": {},
   "outputs": [],
   "source": [
    "import pandas as pd\n",
    "from joblib import dump\n",
    "from pathlib import Path\n",
    "import matplotlib.pyplot as plt\n",
    "import seaborn as sns\n",
    "\n",
    "from sklearn.neural_network import MLPClassifier\n",
    "from sklearn.metrics import precision_score, recall_score, f1_score\n",
    "from sklearn.inspection import permutation_importance\n",
    "\n",
    "import sys\n",
    "sys.path.append('../../')\n",
    "import config\n",
    "\n",
    "data_path = Path.home()/'OneDrive'/'Kirstin'/'Uni'/'Year4'/'MSciProject'/'data_files'/'saved_files'"
   ]
  },
  {
   "cell_type": "code",
   "execution_count": 2,
   "metadata": {},
   "outputs": [
    {
     "name": "stdout",
     "output_type": "stream",
     "text": [
      "Creating a neural network model for \u001b[1mCape Matatula, American Samoa\u001b[0;0m.\n"
     ]
    }
   ],
   "source": [
    "site = config.site\n",
    "site_name = config.site_dict[site]\n",
    "assert site == 'SMO', 'This script is only for Cape Matatula, American Samoa. The site can be changed in the config file.'\n",
    "\n",
    "compound = config.compound\n",
    "\n",
    "print(f\"Creating a neural network model for \\033[1m{site_name}\\033[0;0m.\")"
   ]
  },
  {
   "cell_type": "markdown",
   "metadata": {},
   "source": [
    "### Loading & Initialising Data"
   ]
  },
  {
   "cell_type": "code",
   "execution_count": 3,
   "metadata": {},
   "outputs": [
    {
     "data": {
      "text/html": [
       "<div>\n",
       "<style scoped>\n",
       "    .dataframe tbody tr th:only-of-type {\n",
       "        vertical-align: middle;\n",
       "    }\n",
       "\n",
       "    .dataframe tbody tr th {\n",
       "        vertical-align: top;\n",
       "    }\n",
       "\n",
       "    .dataframe thead th {\n",
       "        text-align: right;\n",
       "    }\n",
       "</style>\n",
       "<table border=\"1\" class=\"dataframe\">\n",
       "  <thead>\n",
       "    <tr style=\"text-align: right;\">\n",
       "      <th></th>\n",
       "      <th>time</th>\n",
       "      <th>flag</th>\n",
       "      <th>u10_0</th>\n",
       "      <th>u10_1</th>\n",
       "      <th>u10_2</th>\n",
       "      <th>u10_3</th>\n",
       "      <th>u10_4</th>\n",
       "      <th>u10_5</th>\n",
       "      <th>u10_6</th>\n",
       "      <th>u10_7</th>\n",
       "      <th>...</th>\n",
       "      <th>v500_7_past</th>\n",
       "      <th>v500_8_past</th>\n",
       "      <th>v500_9_past</th>\n",
       "      <th>v500_10_past</th>\n",
       "      <th>v500_11_past</th>\n",
       "      <th>v500_12_past</th>\n",
       "      <th>v500_13_past</th>\n",
       "      <th>v500_14_past</th>\n",
       "      <th>v500_15_past</th>\n",
       "      <th>v500_16_past</th>\n",
       "    </tr>\n",
       "  </thead>\n",
       "  <tbody>\n",
       "    <tr>\n",
       "      <th>2641</th>\n",
       "      <td>2000-12-04 17:00:00</td>\n",
       "      <td>1.0</td>\n",
       "      <td>-6.433093</td>\n",
       "      <td>-4.834558</td>\n",
       "      <td>-7.755699</td>\n",
       "      <td>-6.569259</td>\n",
       "      <td>-5.733766</td>\n",
       "      <td>-6.932024</td>\n",
       "      <td>-5.002582</td>\n",
       "      <td>-4.150133</td>\n",
       "      <td>...</td>\n",
       "      <td>-0.164754</td>\n",
       "      <td>0.356463</td>\n",
       "      <td>1.542770</td>\n",
       "      <td>5.077570</td>\n",
       "      <td>4.436603</td>\n",
       "      <td>3.318354</td>\n",
       "      <td>-4.409443</td>\n",
       "      <td>-8.740283</td>\n",
       "      <td>2.755785</td>\n",
       "      <td>-0.413732</td>\n",
       "    </tr>\n",
       "    <tr>\n",
       "      <th>14955</th>\n",
       "      <td>2005-10-16 13:00:00</td>\n",
       "      <td>1.0</td>\n",
       "      <td>-4.762187</td>\n",
       "      <td>-4.923864</td>\n",
       "      <td>-5.343726</td>\n",
       "      <td>-2.044029</td>\n",
       "      <td>-1.384388</td>\n",
       "      <td>-2.455931</td>\n",
       "      <td>-1.475922</td>\n",
       "      <td>-2.937976</td>\n",
       "      <td>...</td>\n",
       "      <td>-2.054787</td>\n",
       "      <td>1.072685</td>\n",
       "      <td>1.527481</td>\n",
       "      <td>0.653952</td>\n",
       "      <td>-3.609507</td>\n",
       "      <td>-7.663600</td>\n",
       "      <td>-2.459495</td>\n",
       "      <td>0.863319</td>\n",
       "      <td>-3.099615</td>\n",
       "      <td>-0.161474</td>\n",
       "    </tr>\n",
       "    <tr>\n",
       "      <th>17329</th>\n",
       "      <td>2006-09-03 11:00:00</td>\n",
       "      <td>1.0</td>\n",
       "      <td>-9.892614</td>\n",
       "      <td>-5.059865</td>\n",
       "      <td>-3.527909</td>\n",
       "      <td>-8.139325</td>\n",
       "      <td>-9.458179</td>\n",
       "      <td>-10.405249</td>\n",
       "      <td>-5.878890</td>\n",
       "      <td>-7.514195</td>\n",
       "      <td>...</td>\n",
       "      <td>1.912392</td>\n",
       "      <td>0.961714</td>\n",
       "      <td>-2.096064</td>\n",
       "      <td>-3.546405</td>\n",
       "      <td>-4.192015</td>\n",
       "      <td>0.663741</td>\n",
       "      <td>-1.276129</td>\n",
       "      <td>2.173880</td>\n",
       "      <td>1.339756</td>\n",
       "      <td>3.149895</td>\n",
       "    </tr>\n",
       "    <tr>\n",
       "      <th>55121</th>\n",
       "      <td>2021-07-16 21:00:00</td>\n",
       "      <td>1.0</td>\n",
       "      <td>-10.212129</td>\n",
       "      <td>-11.360185</td>\n",
       "      <td>-11.068811</td>\n",
       "      <td>-10.920875</td>\n",
       "      <td>-7.421020</td>\n",
       "      <td>-9.406633</td>\n",
       "      <td>-9.591132</td>\n",
       "      <td>-9.303134</td>\n",
       "      <td>...</td>\n",
       "      <td>-0.294579</td>\n",
       "      <td>5.220552</td>\n",
       "      <td>-5.495043</td>\n",
       "      <td>-6.319930</td>\n",
       "      <td>-2.448618</td>\n",
       "      <td>-4.830964</td>\n",
       "      <td>-2.748396</td>\n",
       "      <td>4.040298</td>\n",
       "      <td>6.176469</td>\n",
       "      <td>-1.856009</td>\n",
       "    </tr>\n",
       "    <tr>\n",
       "      <th>41224</th>\n",
       "      <td>2015-08-02 15:00:00</td>\n",
       "      <td>1.0</td>\n",
       "      <td>-8.239768</td>\n",
       "      <td>-2.852933</td>\n",
       "      <td>-3.977181</td>\n",
       "      <td>-5.386139</td>\n",
       "      <td>-4.015411</td>\n",
       "      <td>-6.459582</td>\n",
       "      <td>-6.990770</td>\n",
       "      <td>-10.213113</td>\n",
       "      <td>...</td>\n",
       "      <td>-4.618887</td>\n",
       "      <td>-6.506410</td>\n",
       "      <td>-1.762471</td>\n",
       "      <td>-0.953991</td>\n",
       "      <td>-2.339957</td>\n",
       "      <td>-4.222133</td>\n",
       "      <td>-8.428154</td>\n",
       "      <td>10.481296</td>\n",
       "      <td>-9.851550</td>\n",
       "      <td>-5.786691</td>\n",
       "    </tr>\n",
       "  </tbody>\n",
       "</table>\n",
       "<p>5 rows × 210 columns</p>\n",
       "</div>"
      ],
      "text/plain": [
       "                     time  flag      u10_0      u10_1      u10_2      u10_3  \\\n",
       "2641  2000-12-04 17:00:00   1.0  -6.433093  -4.834558  -7.755699  -6.569259   \n",
       "14955 2005-10-16 13:00:00   1.0  -4.762187  -4.923864  -5.343726  -2.044029   \n",
       "17329 2006-09-03 11:00:00   1.0  -9.892614  -5.059865  -3.527909  -8.139325   \n",
       "55121 2021-07-16 21:00:00   1.0 -10.212129 -11.360185 -11.068811 -10.920875   \n",
       "41224 2015-08-02 15:00:00   1.0  -8.239768  -2.852933  -3.977181  -5.386139   \n",
       "\n",
       "          u10_4      u10_5     u10_6      u10_7  ...  v500_7_past  \\\n",
       "2641  -5.733766  -6.932024 -5.002582  -4.150133  ...    -0.164754   \n",
       "14955 -1.384388  -2.455931 -1.475922  -2.937976  ...    -2.054787   \n",
       "17329 -9.458179 -10.405249 -5.878890  -7.514195  ...     1.912392   \n",
       "55121 -7.421020  -9.406633 -9.591132  -9.303134  ...    -0.294579   \n",
       "41224 -4.015411  -6.459582 -6.990770 -10.213113  ...    -4.618887   \n",
       "\n",
       "       v500_8_past  v500_9_past  v500_10_past  v500_11_past  v500_12_past  \\\n",
       "2641      0.356463     1.542770      5.077570      4.436603      3.318354   \n",
       "14955     1.072685     1.527481      0.653952     -3.609507     -7.663600   \n",
       "17329     0.961714    -2.096064     -3.546405     -4.192015      0.663741   \n",
       "55121     5.220552    -5.495043     -6.319930     -2.448618     -4.830964   \n",
       "41224    -6.506410    -1.762471     -0.953991     -2.339957     -4.222133   \n",
       "\n",
       "       v500_13_past  v500_14_past  v500_15_past  v500_16_past  \n",
       "2641      -4.409443     -8.740283      2.755785     -0.413732  \n",
       "14955     -2.459495      0.863319     -3.099615     -0.161474  \n",
       "17329     -1.276129      2.173880      1.339756      3.149895  \n",
       "55121     -2.748396      4.040298      6.176469     -1.856009  \n",
       "41224     -8.428154     10.481296     -9.851550     -5.786691  \n",
       "\n",
       "[5 rows x 210 columns]"
      ]
     },
     "execution_count": 3,
     "metadata": {},
     "output_type": "execute_result"
    }
   ],
   "source": [
    "data = pd.read_csv(data_path/f'for_model_{compound}_{site}.csv', parse_dates=['time'])\n",
    "data.sample(5)"
   ]
  },
  {
   "cell_type": "code",
   "execution_count": 4,
   "metadata": {},
   "outputs": [
    {
     "name": "stdout",
     "output_type": "stream",
     "text": [
      "Train range: 2014-01-01 05:00:00 -> 2018-12-31 23:00:00. Length: 11450\n",
      "Val range: 2019-01-01 01:00:00 -> 2019-12-31 23:00:00. Length: 2126\n",
      "Test range: 2020-01-01 01:00:00 -> 2022-12-31 23:00:00. Length: 7925\n"
     ]
    }
   ],
   "source": [
    "train_data = data[(data['time'].dt.year >= 2014) & (data['time'].dt.year <= 2018)]\n",
    "val_data = data[(data['time'].dt.year >= 2019) & (data['time'].dt.year <= 2019)]\n",
    "test_data = data[(data['time'].dt.year >= 2020) & (data['time'].dt.year <= 2023)]\n",
    "\n",
    "print(f\"Train range: {train_data['time'].min()} -> {train_data['time'].max()}. Length: {len(train_data)}\")\n",
    "print(f\"Val range: {val_data['time'].min()} -> {val_data['time'].max()}. Length: {len(val_data)}\")\n",
    "print(f\"Test range: {test_data['time'].min()} -> {test_data['time'].max()}. Length: {len(test_data)}\")\n",
    "\n",
    "\n",
    "# Drop the \"time\" column as it won't be used in the model\n",
    "train_data = train_data.drop(columns=['time'])\n",
    "val_data = val_data.drop(columns=['time'])\n",
    "test_data = test_data.drop(columns=['time'])\n",
    "\n",
    "# Define the features (X) and the target (y)\n",
    "X_train = train_data.drop(columns=['flag'])\n",
    "y_train = train_data['flag']\n",
    "X_val = val_data.drop(columns=['flag'])\n",
    "y_val = val_data['flag']\n",
    "X_test = test_data.drop(columns=['flag'])\n",
    "y_test = test_data['flag']\n",
    "\n",
    "# Balanced Data - removing NaN values and associated data\n",
    "y_train = y_train.dropna()\n",
    "y_val = y_val.dropna()\n",
    "y_test = y_test.dropna()\n",
    "\n",
    "# aligning indices of features sets\n",
    "X_train = X_train.loc[y_train.index]\n",
    "X_val = X_val.loc[y_val.index]\n",
    "X_test = X_test.loc[y_test.index]"
   ]
  },
  {
   "cell_type": "markdown",
   "metadata": {},
   "source": [
    "### Model"
   ]
  },
  {
   "cell_type": "code",
   "execution_count": 5,
   "metadata": {},
   "outputs": [
    {
     "name": "stdout",
     "output_type": "stream",
     "text": [
      "Precision on Training Set = 0.789\n",
      "Precision on Validation Set = 0.754\n",
      "Recall on Training Set = 0.947\n",
      "Recall on Validation Set = 0.924\n",
      "F1 Score on Training Set = 0.861\n",
      "F1 Score on Validation Set = 0.831\n"
     ]
    }
   ],
   "source": [
    "nn_model = MLPClassifier(random_state=42,\n",
    "                         max_iter=1000, \n",
    "                         hidden_layer_sizes=(100,), \n",
    "                         shuffle=False,\n",
    "                         activation='relu', \n",
    "                         solver='adam', \n",
    "                         alpha=0.05, \n",
    "                         learning_rate='constant', \n",
    "                         batch_size=100, \n",
    "                         early_stopping=True,\n",
    "                         learning_rate_init=0.001,\n",
    "                         beta_2=0.9,)\n",
    "\n",
    "nn_model.fit(X_train, y_train)\n",
    "\n",
    "y_pred_val = nn_model.predict(X_val)\n",
    "y_pred_train = nn_model.predict(X_train)\n",
    "\n",
    "\n",
    "precision_val = precision_score(y_val, y_pred_val)\n",
    "precision_train = precision_score(y_train, y_pred_train)\n",
    "recall_val = recall_score(y_val, y_pred_val)\n",
    "recall_train = recall_score(y_train, y_pred_train)\n",
    "f1_val = f1_score(y_val, y_pred_val)\n",
    "f1_train = f1_score(y_train, y_pred_train)\n",
    "\n",
    "print(f\"Precision on Training Set = {precision_train:.3f}\")\n",
    "print(f\"Precision on Validation Set = {precision_val:.3f}\")\n",
    "print(f\"Recall on Training Set = {recall_train:.3f}\")\n",
    "print(f\"Recall on Validation Set = {recall_val:.3f}\")\n",
    "print(f\"F1 Score on Training Set = {f1_train:.3f}\")\n",
    "print(f\"F1 Score on Validation Set = {f1_val:.3f}\")"
   ]
  },
  {
   "cell_type": "code",
   "execution_count": 6,
   "metadata": {},
   "outputs": [
    {
     "name": "stdout",
     "output_type": "stream",
     "text": [
      "Precision on Testing Set = 0.852\n",
      "Recall on Testing Set = 0.949\n",
      "F1 Score on Testing Set = 0.898\n"
     ]
    }
   ],
   "source": [
    "# evaluating model on test set\n",
    "\n",
    "y_pred_test = nn_model.predict(X_test)\n",
    "\n",
    "precision_test = precision_score(y_test, y_pred_test)\n",
    "recall_test = recall_score(y_test, y_pred_test)\n",
    "f1_test = f1_score(y_test, y_pred_test)\n",
    "\n",
    "print(f\"Precision on Testing Set = {precision_test:.3f}\")\n",
    "print(f\"Recall on Testing Set = {recall_test:.3f}\")\n",
    "print(f\"F1 Score on Testing Set = {f1_test:.3f}\")"
   ]
  },
  {
   "cell_type": "code",
   "execution_count": 7,
   "metadata": {},
   "outputs": [
    {
     "data": {
      "text/plain": [
       "['C:\\\\Users\\\\kirst\\\\OneDrive\\\\Kirstin\\\\Uni\\\\Year4\\\\MSciProject\\\\data_files\\\\saved_files\\\\nn_model_SMO.joblib']"
      ]
     },
     "execution_count": 7,
     "metadata": {},
     "output_type": "execute_result"
    }
   ],
   "source": [
    "# saving the model\n",
    "dump(nn_model, data_path/f'nn_model_{site}.joblib')"
   ]
  },
  {
   "cell_type": "markdown",
   "metadata": {},
   "source": [
    "### Assessing Feature Importance"
   ]
  },
  {
   "cell_type": "code",
   "execution_count": 8,
   "metadata": {},
   "outputs": [],
   "source": [
    "# finding most important features in the model using permutation importance\n",
    "# using the testing set\n",
    "perm_importance = permutation_importance(nn_model, X_train, y_train, n_repeats=30, random_state=42)\n",
    "sorted_importances = perm_importance.importances_mean.argsort()"
   ]
  },
  {
   "cell_type": "code",
   "execution_count": 9,
   "metadata": {},
   "outputs": [
    {
     "data": {
      "text/plain": [
       "Text(0.5, 0, 'Permutation Importance')"
      ]
     },
     "execution_count": 9,
     "metadata": {},
     "output_type": "execute_result"
    },
    {
     "data": {
      "image/png": "[encoded data removed]",
      "text/plain": [
       "<Figure size 1200x1200 with 1 Axes>"
      ]
     },
     "metadata": {},
     "output_type": "display_data"
    }
   ],
   "source": [
    "# plotting first 20 most important features in a histogram\n",
    "\n",
    "fig, ax = plt.subplots(figsize=(12, 12))\n",
    "sns.set_theme(style='ticks', font='Arial')\n",
    "\n",
    "ax.barh(X_val.columns[sorted_importances][-20:], perm_importance.importances_mean[sorted_importances][-20:], color='#FF620E')\n",
    "\n",
    "ax.set_xscale('log')\n",
    "\n",
    "ax.set_ylabel('Features', fontsize=12, fontstyle='italic')\n",
    "ax.set_xlabel('Permutation Importance', fontsize=12, fontstyle='italic')\n",
    "# ax.set_title('Permutation Importance (Testing Set)', fontsize=14)"
   ]
  },
  {
   "cell_type": "code",
   "execution_count": 15,
   "metadata": {},
   "outputs": [
    {
     "name": "stdout",
     "output_type": "stream",
     "text": [
      "Position of 'blh': 103\n"
     ]
    }
   ],
   "source": [
    "# determining where blh lies in list of features\n",
    "blh_index = X_val.columns.get_loc('blh')\n",
    "print(f\"Position of 'blh': {blh_index}\")"
   ]
  }
 ],
 "metadata": {
  "kernelspec": {
   "display_name": "venv",
   "language": "python",
   "name": "python3"
  },
  "language_info": {
   "codemirror_mode": {
    "name": "ipython",
    "version": 3
   },
   "file_extension": ".py",
   "mimetype": "text/x-python",
   "name": "python",
   "nbconvert_exporter": "python",
   "pygments_lexer": "ipython3",
   "version": "3.11.5"
  }
 },
 "nbformat": 4,
 "nbformat_minor": 2
}
