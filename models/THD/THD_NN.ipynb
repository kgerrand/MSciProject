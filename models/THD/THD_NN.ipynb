{
 "cells": [
  {
   "cell_type": "markdown",
   "metadata": {},
   "source": [
    "# Neural Network Final Model - Trinidad Head, USA"
   ]
  },
  {
   "cell_type": "code",
   "execution_count": 1,
   "metadata": {},
   "outputs": [],
   "source": [
    "import pandas as pd\n",
    "import numpy as np\n",
    "from joblib import dump\n",
    "from pathlib import Path\n",
    "import matplotlib.pyplot as plt\n",
    "import seaborn as sns\n",
    "\n",
    "from sklearn.neural_network import MLPClassifier\n",
    "from sklearn.metrics import precision_score, recall_score, f1_score, accuracy_score\n",
    "\n",
    "import sys\n",
    "sys.path.append('../../')\n",
    "import config as cfg\n",
    "import functions as f\n",
    "\n",
    "data_path = Path.home()/'OneDrive'/'Kirstin'/'Uni'/'Year4'/'MSciProject'/'data_files'/'saved_files'"
   ]
  },
  {
   "cell_type": "code",
   "execution_count": 2,
   "metadata": {},
   "outputs": [
    {
     "name": "stdout",
     "output_type": "stream",
     "text": [
      "Creating a neural network model for \u001b[1mTrinidad Head, USA\u001b[0;0m.\n"
     ]
    }
   ],
   "source": [
    "site = cfg.site\n",
    "site_name = cfg.site_dict[site]\n",
    "assert site == 'THD', 'This script is only for Trinidad Head, USA. The site can be changed in the config file.'\n",
    "\n",
    "compound = cfg.compound\n",
    "\n",
    "print(f\"Creating a neural network model for \\033[1m{site_name}\\033[0;0m.\")"
   ]
  },
  {
   "cell_type": "markdown",
   "metadata": {},
   "source": [
    "### Loading & Initialising Data"
   ]
  },
  {
   "cell_type": "code",
   "execution_count": 3,
   "metadata": {},
   "outputs": [
    {
     "data": {
      "text/html": [
       "<div>\n",
       "<style scoped>\n",
       "    .dataframe tbody tr th:only-of-type {\n",
       "        vertical-align: middle;\n",
       "    }\n",
       "\n",
       "    .dataframe tbody tr th {\n",
       "        vertical-align: top;\n",
       "    }\n",
       "\n",
       "    .dataframe thead th {\n",
       "        text-align: right;\n",
       "    }\n",
       "</style>\n",
       "<table border=\"1\" class=\"dataframe\">\n",
       "  <thead>\n",
       "    <tr style=\"text-align: right;\">\n",
       "      <th></th>\n",
       "      <th>time</th>\n",
       "      <th>flag</th>\n",
       "      <th>u10_0</th>\n",
       "      <th>u10_1</th>\n",
       "      <th>u10_2</th>\n",
       "      <th>u10_3</th>\n",
       "      <th>u10_4</th>\n",
       "      <th>u10_5</th>\n",
       "      <th>u10_6</th>\n",
       "      <th>u10_7</th>\n",
       "      <th>...</th>\n",
       "      <th>v500_7_past</th>\n",
       "      <th>v500_8_past</th>\n",
       "      <th>v500_9_past</th>\n",
       "      <th>v500_10_past</th>\n",
       "      <th>v500_11_past</th>\n",
       "      <th>v500_12_past</th>\n",
       "      <th>v500_13_past</th>\n",
       "      <th>v500_14_past</th>\n",
       "      <th>v500_15_past</th>\n",
       "      <th>v500_16_past</th>\n",
       "    </tr>\n",
       "  </thead>\n",
       "  <tbody>\n",
       "    <tr>\n",
       "      <th>6748</th>\n",
       "      <td>2006-12-15 21:00:00</td>\n",
       "      <td>1.0</td>\n",
       "      <td>-0.307573</td>\n",
       "      <td>7.389548</td>\n",
       "      <td>8.224836</td>\n",
       "      <td>4.161149</td>\n",
       "      <td>2.307342</td>\n",
       "      <td>0.130101</td>\n",
       "      <td>-0.863195</td>\n",
       "      <td>1.329624</td>\n",
       "      <td>...</td>\n",
       "      <td>-1.024173</td>\n",
       "      <td>-4.436815</td>\n",
       "      <td>4.025748</td>\n",
       "      <td>-5.070028</td>\n",
       "      <td>12.983440</td>\n",
       "      <td>-6.975584</td>\n",
       "      <td>-3.077676</td>\n",
       "      <td>4.885813</td>\n",
       "      <td>6.126594</td>\n",
       "      <td>2.958558</td>\n",
       "    </tr>\n",
       "    <tr>\n",
       "      <th>4033</th>\n",
       "      <td>2004-03-04 03:00:00</td>\n",
       "      <td>1.0</td>\n",
       "      <td>1.206924</td>\n",
       "      <td>5.402441</td>\n",
       "      <td>2.335153</td>\n",
       "      <td>1.007105</td>\n",
       "      <td>0.144622</td>\n",
       "      <td>5.670226</td>\n",
       "      <td>4.293922</td>\n",
       "      <td>2.717120</td>\n",
       "      <td>...</td>\n",
       "      <td>-30.404500</td>\n",
       "      <td>-31.519844</td>\n",
       "      <td>-17.930197</td>\n",
       "      <td>0.698704</td>\n",
       "      <td>5.657160</td>\n",
       "      <td>-2.851080</td>\n",
       "      <td>-18.502800</td>\n",
       "      <td>-5.429548</td>\n",
       "      <td>-19.040272</td>\n",
       "      <td>-16.553140</td>\n",
       "    </tr>\n",
       "    <tr>\n",
       "      <th>2294</th>\n",
       "      <td>2002-09-06 15:00:00</td>\n",
       "      <td>1.0</td>\n",
       "      <td>-0.226355</td>\n",
       "      <td>-1.231239</td>\n",
       "      <td>1.052119</td>\n",
       "      <td>1.865647</td>\n",
       "      <td>1.985633</td>\n",
       "      <td>1.848580</td>\n",
       "      <td>6.977474</td>\n",
       "      <td>-0.992819</td>\n",
       "      <td>...</td>\n",
       "      <td>-1.803577</td>\n",
       "      <td>-5.084053</td>\n",
       "      <td>4.707635</td>\n",
       "      <td>18.457336</td>\n",
       "      <td>19.636671</td>\n",
       "      <td>12.245655</td>\n",
       "      <td>7.176834</td>\n",
       "      <td>-4.759100</td>\n",
       "      <td>-18.138533</td>\n",
       "      <td>-18.544170</td>\n",
       "    </tr>\n",
       "    <tr>\n",
       "      <th>13640</th>\n",
       "      <td>2019-09-10 21:00:00</td>\n",
       "      <td>1.0</td>\n",
       "      <td>3.406469</td>\n",
       "      <td>2.385767</td>\n",
       "      <td>1.818222</td>\n",
       "      <td>1.681395</td>\n",
       "      <td>1.999044</td>\n",
       "      <td>4.655068</td>\n",
       "      <td>1.927331</td>\n",
       "      <td>3.501060</td>\n",
       "      <td>...</td>\n",
       "      <td>-12.195965</td>\n",
       "      <td>-10.060020</td>\n",
       "      <td>0.722839</td>\n",
       "      <td>4.693705</td>\n",
       "      <td>4.963546</td>\n",
       "      <td>-3.058537</td>\n",
       "      <td>-2.590812</td>\n",
       "      <td>-4.730354</td>\n",
       "      <td>-17.352932</td>\n",
       "      <td>-5.477515</td>\n",
       "    </tr>\n",
       "    <tr>\n",
       "      <th>9524</th>\n",
       "      <td>2010-11-15 23:00:00</td>\n",
       "      <td>1.0</td>\n",
       "      <td>2.499172</td>\n",
       "      <td>7.575187</td>\n",
       "      <td>4.798288</td>\n",
       "      <td>0.899251</td>\n",
       "      <td>0.733363</td>\n",
       "      <td>1.629292</td>\n",
       "      <td>-3.146481</td>\n",
       "      <td>4.248529</td>\n",
       "      <td>...</td>\n",
       "      <td>-6.906825</td>\n",
       "      <td>-8.732256</td>\n",
       "      <td>10.878240</td>\n",
       "      <td>-6.304273</td>\n",
       "      <td>-18.780125</td>\n",
       "      <td>-17.537693</td>\n",
       "      <td>-3.567015</td>\n",
       "      <td>-6.121196</td>\n",
       "      <td>0.807265</td>\n",
       "      <td>-7.720892</td>\n",
       "    </tr>\n",
       "  </tbody>\n",
       "</table>\n",
       "<p>5 rows × 210 columns</p>\n",
       "</div>"
      ],
      "text/plain": [
       "                     time  flag     u10_0     u10_1     u10_2     u10_3  \\\n",
       "6748  2006-12-15 21:00:00   1.0 -0.307573  7.389548  8.224836  4.161149   \n",
       "4033  2004-03-04 03:00:00   1.0  1.206924  5.402441  2.335153  1.007105   \n",
       "2294  2002-09-06 15:00:00   1.0 -0.226355 -1.231239  1.052119  1.865647   \n",
       "13640 2019-09-10 21:00:00   1.0  3.406469  2.385767  1.818222  1.681395   \n",
       "9524  2010-11-15 23:00:00   1.0  2.499172  7.575187  4.798288  0.899251   \n",
       "\n",
       "          u10_4     u10_5     u10_6     u10_7  ...  v500_7_past  v500_8_past  \\\n",
       "6748   2.307342  0.130101 -0.863195  1.329624  ...    -1.024173    -4.436815   \n",
       "4033   0.144622  5.670226  4.293922  2.717120  ...   -30.404500   -31.519844   \n",
       "2294   1.985633  1.848580  6.977474 -0.992819  ...    -1.803577    -5.084053   \n",
       "13640  1.999044  4.655068  1.927331  3.501060  ...   -12.195965   -10.060020   \n",
       "9524   0.733363  1.629292 -3.146481  4.248529  ...    -6.906825    -8.732256   \n",
       "\n",
       "       v500_9_past  v500_10_past  v500_11_past  v500_12_past  v500_13_past  \\\n",
       "6748      4.025748     -5.070028     12.983440     -6.975584     -3.077676   \n",
       "4033    -17.930197      0.698704      5.657160     -2.851080    -18.502800   \n",
       "2294      4.707635     18.457336     19.636671     12.245655      7.176834   \n",
       "13640     0.722839      4.693705      4.963546     -3.058537     -2.590812   \n",
       "9524     10.878240     -6.304273    -18.780125    -17.537693     -3.567015   \n",
       "\n",
       "       v500_14_past  v500_15_past  v500_16_past  \n",
       "6748       4.885813      6.126594      2.958558  \n",
       "4033      -5.429548    -19.040272    -16.553140  \n",
       "2294      -4.759100    -18.138533    -18.544170  \n",
       "13640     -4.730354    -17.352932     -5.477515  \n",
       "9524      -6.121196      0.807265     -7.720892  \n",
       "\n",
       "[5 rows x 210 columns]"
      ]
     },
     "execution_count": 3,
     "metadata": {},
     "output_type": "execute_result"
    }
   ],
   "source": [
    "data = pd.read_csv(data_path/f'for_model_{compound}_{site}.csv', parse_dates=['time'])\n",
    "data.sample(5)"
   ]
  },
  {
   "cell_type": "code",
   "execution_count": 4,
   "metadata": {},
   "outputs": [
    {
     "name": "stdout",
     "output_type": "stream",
     "text": [
      "Train range: 2018-01-01 13:00:00 -> 2018-12-31 05:00:00. Length: 435\n",
      "Val range: 2019-01-01 23:00:00 -> 2019-12-29 19:00:00. Length: 432\n",
      "Test range: 2020-01-01 15:00:00 -> 2022-12-31 23:00:00. Length: 1251\n"
     ]
    }
   ],
   "source": [
    "train_data = data[(data['time'].dt.year >= 2018) & (data['time'].dt.year <= 2018)]\n",
    "val_data = data[(data['time'].dt.year >= 2019) & (data['time'].dt.year <= 2019)]\n",
    "test_data = data[(data['time'].dt.year >= 2020) & (data['time'].dt.year <= 2023)]\n",
    "\n",
    "print(f\"Train range: {train_data['time'].min()} -> {train_data['time'].max()}. Length: {len(train_data)}\")\n",
    "print(f\"Val range: {val_data['time'].min()} -> {val_data['time'].max()}. Length: {len(val_data)}\")\n",
    "print(f\"Test range: {test_data['time'].min()} -> {test_data['time'].max()}. Length: {len(test_data)}\")\n",
    "\n",
    "\n",
    "# Drop the \"time\" column as it won't be used in the model\n",
    "train_data = train_data.drop(columns=['time'])\n",
    "val_data = val_data.drop(columns=['time'])\n",
    "test_data = test_data.drop(columns=['time'])\n",
    "\n",
    "# Define the features (X) and the target (y)\n",
    "X_train = train_data.drop(columns=['flag'])\n",
    "y_train = train_data['flag']\n",
    "X_val = val_data.drop(columns=['flag'])\n",
    "y_val = val_data['flag']\n",
    "X_test = test_data.drop(columns=['flag'])\n",
    "y_test = test_data['flag']\n",
    "\n",
    "# Balanced Data - removing NaN values and associated data\n",
    "y_train = y_train.dropna()\n",
    "y_val = y_val.dropna()\n",
    "y_test = y_test.dropna()\n",
    "\n",
    "# aligning indices of features sets\n",
    "X_train = X_train.loc[y_train.index]\n",
    "X_val = X_val.loc[y_val.index]\n",
    "X_test = X_test.loc[y_test.index]"
   ]
  },
  {
   "cell_type": "markdown",
   "metadata": {},
   "source": [
    "### Model"
   ]
  },
  {
   "cell_type": "code",
   "execution_count": 5,
   "metadata": {},
   "outputs": [
    {
     "name": "stdout",
     "output_type": "stream",
     "text": [
      "Precision on Training Set = 0.851\n",
      "Precision on Validation Set = 0.806\n",
      "Recall on Training Set = 0.951\n",
      "Recall on Validation Set = 0.886\n",
      "F1 Score on Training Set = 0.898\n",
      "F1 Score on Validation Set = 0.844\n"
     ]
    }
   ],
   "source": [
    "nn_model = MLPClassifier(random_state=42,\n",
    "                         max_iter=1000, \n",
    "                         hidden_layer_sizes=(100,), \n",
    "                         shuffle=False,\n",
    "                         activation='relu', \n",
    "                         solver='adam', \n",
    "                         alpha=0.05, \n",
    "                         learning_rate='constant', \n",
    "                         batch_size=100, \n",
    "                         early_stopping=True,\n",
    "                         learning_rate_init=0.001,\n",
    "                         beta_2=0.9,)\n",
    "\n",
    "nn_model.fit(X_train, y_train)\n",
    "\n",
    "class_probabilities_val = nn_model.predict_proba(X_val)\n",
    "class_probabilities_train = nn_model.predict_proba(X_train)\n",
    "\n",
    "confidence_threshold = config.confidence_threshold\n",
    "\n",
    "y_pred_val = (class_probabilities_val[:,1] > confidence_threshold).astype(int)\n",
    "y_pred_train = (class_probabilities_train[:,1] > confidence_threshold).astype(int)\n",
    "\n",
    "precision_val = precision_score(y_val, y_pred_val)\n",
    "precision_train = precision_score(y_train, y_pred_train)\n",
    "recall_val = recall_score(y_val, y_pred_val)\n",
    "recall_train = recall_score(y_train, y_pred_train)\n",
    "f1_val = f1_score(y_val, y_pred_val)\n",
    "f1_train = f1_score(y_train, y_pred_train)\n",
    "\n",
    "print(f\"Precision on Training Set = {precision_train:.3f}\")\n",
    "print(f\"Precision on Validation Set = {precision_val:.3f}\")\n",
    "print(f\"Recall on Training Set = {recall_train:.3f}\")\n",
    "print(f\"Recall on Validation Set = {recall_val:.3f}\")\n",
    "print(f\"F1 Score on Training Set = {f1_train:.3f}\")\n",
    "print(f\"F1 Score on Validation Set = {f1_val:.3f}\")"
   ]
  },
  {
   "cell_type": "code",
   "execution_count": 6,
   "metadata": {},
   "outputs": [
    {
     "name": "stdout",
     "output_type": "stream",
     "text": [
      "Precision on Testing Set = 0.842\n",
      "Recall on Testing Set = 0.956\n",
      "F1 Score on Testing Set = 0.895\n"
     ]
    }
   ],
   "source": [
    "# evaluating model on test set\n",
    "class_probabilities_test = nn_model.predict_proba(X_test)\n",
    "\n",
    "y_pred_test = (class_probabilities_test[:,1] > confidence_threshold).astype(int)\n",
    "\n",
    "precision_test = precision_score(y_test, y_pred_test)\n",
    "recall_test = recall_score(y_test, y_pred_test)\n",
    "f1_test = f1_score(y_test, y_pred_test)\n",
    "\n",
    "print(f\"Precision on Testing Set = {precision_test:.3f}\")\n",
    "print(f\"Recall on Testing Set = {recall_test:.3f}\")\n",
    "print(f\"F1 Score on Testing Set = {f1_test:.3f}\")"
   ]
  },
  {
   "cell_type": "code",
   "execution_count": 7,
   "metadata": {},
   "outputs": [
    {
     "data": {
      "text/plain": [
       "['C:\\\\Users\\\\kirst\\\\OneDrive\\\\Kirstin\\\\Uni\\\\Year4\\\\MSciProject\\\\data_files\\\\saved_files\\\\nn_model_THD.joblib']"
      ]
     },
     "execution_count": 7,
     "metadata": {},
     "output_type": "execute_result"
    }
   ],
   "source": [
    "# saving the model\n",
    "dump(nn_model, data_path/f'nn_model_{site}.joblib')"
   ]
  },
  {
   "cell_type": "markdown",
   "metadata": {},
   "source": [
    "### Assessing Feature Importance"
   ]
  },
  {
   "cell_type": "code",
   "execution_count": 7,
   "metadata": {},
   "outputs": [],
   "source": [
    "# grouping features by category i.e. x-wind, y-wind, temporal etc.\n",
    "u_features = [col for col in data.columns if 'u' in col]\n",
    "v_features = [col for col in data.columns if 'v' in col]\n",
    "temporal_features = ['day_of_year', 'time_of_day']\n",
    "sp = ['sp']\n",
    "blh = ['blh']\n",
    "\n",
    "groups = [u_features, v_features, temporal_features, sp, blh]"
   ]
  },
  {
   "cell_type": "code",
   "execution_count": 8,
   "metadata": {},
   "outputs": [],
   "source": [
    "original_score = accuracy_score(y_train, nn_model.predict(X_train))\n",
    "importances = {}\n",
    "\n",
    "for group in groups:\n",
    "    scores_diff = []\n",
    "    for _ in range(100):\n",
    "        X_train_permuted = f.permute_group(X_train, group)\n",
    "        \n",
    "        permuted_score = accuracy_score(y_train, nn_model.predict(X_train_permuted))\n",
    "        scores_diff.append(original_score - permuted_score)\n",
    "    \n",
    "    importances[str(group)] = np.mean(scores_diff)\n",
    "\n",
    "# Sort groups by importance\n",
    "sorted_importances = sorted(importances.items(), key=lambda x: x[1], reverse=False)"
   ]
  },
  {
   "cell_type": "code",
   "execution_count": 9,
   "metadata": {},
   "outputs": [],
   "source": [
    "# matching the group names to the sorted importances\n",
    "n = len(groups)\n",
    "group_names_sorted = []\n",
    "\n",
    "for i in range(n):\n",
    "    name = sorted_importances[i][0]\n",
    "\n",
    "    if 'u10_0' in name:\n",
    "        group_names_sorted.append('u-wind')\n",
    "\n",
    "    elif 'v10_0' in name:\n",
    "        group_names_sorted.append('v-wind')\n",
    "\n",
    "    elif 'day_of_year' in name:\n",
    "        group_names_sorted.append('temporal')\n",
    "\n",
    "    elif 'sp' in name:\n",
    "        group_names_sorted.append('sp')\n",
    "\n",
    "    elif 'blh' in name:\n",
    "        group_names_sorted.append('blh')"
   ]
  },
  {
   "cell_type": "code",
   "execution_count": 10,
   "metadata": {},
   "outputs": [
    {
     "data": {
      "text/plain": [
       "Text(0, 0.5, 'Feature Group')"
      ]
     },
     "execution_count": 10,
     "metadata": {},
     "output_type": "execute_result"
    },
    {
     "data": {
      "image/png": "[encoded data removed]",
      "text/plain": [
       "<Figure size 1200x800 with 1 Axes>"
      ]
     },
     "metadata": {},
     "output_type": "display_data"
    }
   ],
   "source": [
    "# Plotting the importances of the groups\n",
    "fig, ax = plt.subplots(figsize=(12, 8))\n",
    "sns.set_theme(style='ticks', font='Arial')\n",
    "\n",
    "ax.barh(group_names_sorted, [importance for _, importance in sorted_importances], color='#FF620E')\n",
    "\n",
    "ax.set_xlabel('Importance', fontsize=12, fontstyle='italic')\n",
    "ax.set_ylabel('Feature Group', fontsize=12, fontstyle='italic')\n",
    "# ax.set_title('Permutation Importances', fontsize=14)"
   ]
  }
 ],
 "metadata": {
  "kernelspec": {
   "display_name": "venv",
   "language": "python",
   "name": "python3"
  },
  "language_info": {
   "codemirror_mode": {
    "name": "ipython",
    "version": 3
   },
   "file_extension": ".py",
   "mimetype": "text/x-python",
   "name": "python",
   "nbconvert_exporter": "python",
   "pygments_lexer": "ipython3",
   "version": "3.11.9"
  }
 },
 "nbformat": 4,
 "nbformat_minor": 2
}
