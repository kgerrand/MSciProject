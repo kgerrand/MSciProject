{
 "cells": [
  {
   "cell_type": "markdown",
   "metadata": {},
   "source": [
    "# Neural Network Final Model - Trinidad Head, USA"
   ]
  },
  {
   "cell_type": "code",
   "execution_count": 1,
   "metadata": {},
   "outputs": [],
   "source": [
    "import pandas as pd\n",
    "from joblib import dump\n",
    "from pathlib import Path\n",
    "import matplotlib.pyplot as plt\n",
    "import seaborn as sns\n",
    "\n",
    "from sklearn.neural_network import MLPClassifier\n",
    "from sklearn.metrics import precision_score, recall_score, f1_score\n",
    "from sklearn.inspection import permutation_importance\n",
    "\n",
    "import sys\n",
    "sys.path.append('../../')\n",
    "import config\n",
    "\n",
    "data_path = Path.home()/'OneDrive'/'Kirstin'/'Uni'/'Year4'/'MSciProject'/'data_files'/'saved_files'"
   ]
  },
  {
   "cell_type": "code",
   "execution_count": 2,
   "metadata": {},
   "outputs": [
    {
     "name": "stdout",
     "output_type": "stream",
     "text": [
      "Creating a neural network model for \u001b[1mTrinidad Head, USA\u001b[0;0m.\n"
     ]
    }
   ],
   "source": [
    "site = config.site\n",
    "site_name = config.site_dict[site]\n",
    "assert site == 'THD', 'This script is only for Trinidad Head, USA. The site can be changed in the config file.'\n",
    "\n",
    "compound = config.compound\n",
    "\n",
    "print(f\"Creating a neural network model for \\033[1m{site_name}\\033[0;0m.\")"
   ]
  },
  {
   "cell_type": "markdown",
   "metadata": {},
   "source": [
    "### Loading & Initialising Data"
   ]
  },
  {
   "cell_type": "code",
   "execution_count": 3,
   "metadata": {},
   "outputs": [
    {
     "data": {
      "text/html": [
       "<div>\n",
       "<style scoped>\n",
       "    .dataframe tbody tr th:only-of-type {\n",
       "        vertical-align: middle;\n",
       "    }\n",
       "\n",
       "    .dataframe tbody tr th {\n",
       "        vertical-align: top;\n",
       "    }\n",
       "\n",
       "    .dataframe thead th {\n",
       "        text-align: right;\n",
       "    }\n",
       "</style>\n",
       "<table border=\"1\" class=\"dataframe\">\n",
       "  <thead>\n",
       "    <tr style=\"text-align: right;\">\n",
       "      <th></th>\n",
       "      <th>time</th>\n",
       "      <th>flag</th>\n",
       "      <th>u10_0</th>\n",
       "      <th>u10_1</th>\n",
       "      <th>u10_2</th>\n",
       "      <th>u10_3</th>\n",
       "      <th>u10_4</th>\n",
       "      <th>u10_5</th>\n",
       "      <th>u10_6</th>\n",
       "      <th>u10_7</th>\n",
       "      <th>...</th>\n",
       "      <th>v500_7_past</th>\n",
       "      <th>v500_8_past</th>\n",
       "      <th>v500_9_past</th>\n",
       "      <th>v500_10_past</th>\n",
       "      <th>v500_11_past</th>\n",
       "      <th>v500_12_past</th>\n",
       "      <th>v500_13_past</th>\n",
       "      <th>v500_14_past</th>\n",
       "      <th>v500_15_past</th>\n",
       "      <th>v500_16_past</th>\n",
       "    </tr>\n",
       "  </thead>\n",
       "  <tbody>\n",
       "    <tr>\n",
       "      <th>10826</th>\n",
       "      <td>2013-04-15 07:00:00</td>\n",
       "      <td>1.0</td>\n",
       "      <td>1.515924</td>\n",
       "      <td>3.235005</td>\n",
       "      <td>0.714575</td>\n",
       "      <td>0.135224</td>\n",
       "      <td>2.063487</td>\n",
       "      <td>7.610895</td>\n",
       "      <td>2.680264</td>\n",
       "      <td>1.980942</td>\n",
       "      <td>...</td>\n",
       "      <td>-23.582840</td>\n",
       "      <td>-21.038712</td>\n",
       "      <td>4.715954</td>\n",
       "      <td>1.668202</td>\n",
       "      <td>2.752091</td>\n",
       "      <td>-2.727567</td>\n",
       "      <td>-5.036304</td>\n",
       "      <td>1.631252</td>\n",
       "      <td>-18.227718</td>\n",
       "      <td>-21.836575</td>\n",
       "    </tr>\n",
       "    <tr>\n",
       "      <th>7020</th>\n",
       "      <td>2007-04-18 13:00:00</td>\n",
       "      <td>1.0</td>\n",
       "      <td>1.621965</td>\n",
       "      <td>3.216024</td>\n",
       "      <td>1.247125</td>\n",
       "      <td>4.114945</td>\n",
       "      <td>2.260580</td>\n",
       "      <td>5.165586</td>\n",
       "      <td>2.731608</td>\n",
       "      <td>6.672878</td>\n",
       "      <td>...</td>\n",
       "      <td>-32.749580</td>\n",
       "      <td>-11.065534</td>\n",
       "      <td>3.082679</td>\n",
       "      <td>14.141934</td>\n",
       "      <td>22.352463</td>\n",
       "      <td>3.034973</td>\n",
       "      <td>-2.575584</td>\n",
       "      <td>-7.267802</td>\n",
       "      <td>-20.904882</td>\n",
       "      <td>-21.971449</td>\n",
       "    </tr>\n",
       "    <tr>\n",
       "      <th>2446</th>\n",
       "      <td>2002-12-04 05:00:00</td>\n",
       "      <td>0.0</td>\n",
       "      <td>-3.079438</td>\n",
       "      <td>-3.331239</td>\n",
       "      <td>-0.279656</td>\n",
       "      <td>0.720052</td>\n",
       "      <td>0.022354</td>\n",
       "      <td>0.059825</td>\n",
       "      <td>1.510675</td>\n",
       "      <td>2.478908</td>\n",
       "      <td>...</td>\n",
       "      <td>0.841363</td>\n",
       "      <td>2.834033</td>\n",
       "      <td>2.427365</td>\n",
       "      <td>-15.030706</td>\n",
       "      <td>3.980231</td>\n",
       "      <td>14.027923</td>\n",
       "      <td>-4.231432</td>\n",
       "      <td>3.885343</td>\n",
       "      <td>4.023911</td>\n",
       "      <td>19.382374</td>\n",
       "    </tr>\n",
       "    <tr>\n",
       "      <th>10407</th>\n",
       "      <td>2012-05-25 03:00:00</td>\n",
       "      <td>1.0</td>\n",
       "      <td>1.893436</td>\n",
       "      <td>3.266257</td>\n",
       "      <td>-2.967495</td>\n",
       "      <td>3.880328</td>\n",
       "      <td>0.027962</td>\n",
       "      <td>6.343590</td>\n",
       "      <td>2.393531</td>\n",
       "      <td>5.889550</td>\n",
       "      <td>...</td>\n",
       "      <td>-32.229510</td>\n",
       "      <td>-16.994944</td>\n",
       "      <td>2.434841</td>\n",
       "      <td>-3.386282</td>\n",
       "      <td>3.167456</td>\n",
       "      <td>1.061003</td>\n",
       "      <td>-13.088646</td>\n",
       "      <td>-7.957390</td>\n",
       "      <td>-28.034294</td>\n",
       "      <td>-12.967772</td>\n",
       "    </tr>\n",
       "    <tr>\n",
       "      <th>929</th>\n",
       "      <td>2001-04-11 21:00:00</td>\n",
       "      <td>1.0</td>\n",
       "      <td>4.526415</td>\n",
       "      <td>3.900428</td>\n",
       "      <td>1.692811</td>\n",
       "      <td>2.933327</td>\n",
       "      <td>2.347441</td>\n",
       "      <td>6.177831</td>\n",
       "      <td>4.052498</td>\n",
       "      <td>1.257954</td>\n",
       "      <td>...</td>\n",
       "      <td>-18.818241</td>\n",
       "      <td>-21.302904</td>\n",
       "      <td>-29.619190</td>\n",
       "      <td>1.425091</td>\n",
       "      <td>0.665018</td>\n",
       "      <td>2.544591</td>\n",
       "      <td>-17.392073</td>\n",
       "      <td>-5.944814</td>\n",
       "      <td>-12.083104</td>\n",
       "      <td>4.046600</td>\n",
       "    </tr>\n",
       "  </tbody>\n",
       "</table>\n",
       "<p>5 rows × 210 columns</p>\n",
       "</div>"
      ],
      "text/plain": [
       "                     time  flag     u10_0     u10_1     u10_2     u10_3  \\\n",
       "10826 2013-04-15 07:00:00   1.0  1.515924  3.235005  0.714575  0.135224   \n",
       "7020  2007-04-18 13:00:00   1.0  1.621965  3.216024  1.247125  4.114945   \n",
       "2446  2002-12-04 05:00:00   0.0 -3.079438 -3.331239 -0.279656  0.720052   \n",
       "10407 2012-05-25 03:00:00   1.0  1.893436  3.266257 -2.967495  3.880328   \n",
       "929   2001-04-11 21:00:00   1.0  4.526415  3.900428  1.692811  2.933327   \n",
       "\n",
       "          u10_4     u10_5     u10_6     u10_7  ...  v500_7_past  v500_8_past  \\\n",
       "10826  2.063487  7.610895  2.680264  1.980942  ...   -23.582840   -21.038712   \n",
       "7020   2.260580  5.165586  2.731608  6.672878  ...   -32.749580   -11.065534   \n",
       "2446   0.022354  0.059825  1.510675  2.478908  ...     0.841363     2.834033   \n",
       "10407  0.027962  6.343590  2.393531  5.889550  ...   -32.229510   -16.994944   \n",
       "929    2.347441  6.177831  4.052498  1.257954  ...   -18.818241   -21.302904   \n",
       "\n",
       "       v500_9_past  v500_10_past  v500_11_past  v500_12_past  v500_13_past  \\\n",
       "10826     4.715954      1.668202      2.752091     -2.727567     -5.036304   \n",
       "7020      3.082679     14.141934     22.352463      3.034973     -2.575584   \n",
       "2446      2.427365    -15.030706      3.980231     14.027923     -4.231432   \n",
       "10407     2.434841     -3.386282      3.167456      1.061003    -13.088646   \n",
       "929     -29.619190      1.425091      0.665018      2.544591    -17.392073   \n",
       "\n",
       "       v500_14_past  v500_15_past  v500_16_past  \n",
       "10826      1.631252    -18.227718    -21.836575  \n",
       "7020      -7.267802    -20.904882    -21.971449  \n",
       "2446       3.885343      4.023911     19.382374  \n",
       "10407     -7.957390    -28.034294    -12.967772  \n",
       "929       -5.944814    -12.083104      4.046600  \n",
       "\n",
       "[5 rows x 210 columns]"
      ]
     },
     "execution_count": 3,
     "metadata": {},
     "output_type": "execute_result"
    }
   ],
   "source": [
    "data = pd.read_csv(data_path/f'for_model_{compound}_{site}.csv', parse_dates=['time'])\n",
    "data.sample(5)"
   ]
  },
  {
   "cell_type": "code",
   "execution_count": 4,
   "metadata": {},
   "outputs": [
    {
     "name": "stdout",
     "output_type": "stream",
     "text": [
      "Train range: 2018-01-01 13:00:00 -> 2018-12-31 05:00:00. Length: 435\n",
      "Val range: 2019-01-01 23:00:00 -> 2019-12-29 19:00:00. Length: 432\n",
      "Test range: 2020-01-01 15:00:00 -> 2022-12-31 23:00:00. Length: 1251\n"
     ]
    }
   ],
   "source": [
    "train_data = data[(data['time'].dt.year >= 2018) & (data['time'].dt.year <= 2018)]\n",
    "val_data = data[(data['time'].dt.year >= 2019) & (data['time'].dt.year <= 2019)]\n",
    "test_data = data[(data['time'].dt.year >= 2020) & (data['time'].dt.year <= 2023)]\n",
    "\n",
    "print(f\"Train range: {train_data['time'].min()} -> {train_data['time'].max()}. Length: {len(train_data)}\")\n",
    "print(f\"Val range: {val_data['time'].min()} -> {val_data['time'].max()}. Length: {len(val_data)}\")\n",
    "print(f\"Test range: {test_data['time'].min()} -> {test_data['time'].max()}. Length: {len(test_data)}\")\n",
    "\n",
    "\n",
    "# Drop the \"time\" column as it won't be used in the model\n",
    "train_data = train_data.drop(columns=['time'])\n",
    "val_data = val_data.drop(columns=['time'])\n",
    "test_data = test_data.drop(columns=['time'])\n",
    "\n",
    "# Define the features (X) and the target (y)\n",
    "X_train = train_data.drop(columns=['flag'])\n",
    "y_train = train_data['flag']\n",
    "X_val = val_data.drop(columns=['flag'])\n",
    "y_val = val_data['flag']\n",
    "X_test = test_data.drop(columns=['flag'])\n",
    "y_test = test_data['flag']\n",
    "\n",
    "# Balanced Data - removing NaN values and associated data\n",
    "y_train = y_train.dropna()\n",
    "y_val = y_val.dropna()\n",
    "y_test = y_test.dropna()\n",
    "\n",
    "# aligning indices of features sets\n",
    "X_train = X_train.loc[y_train.index]\n",
    "X_val = X_val.loc[y_val.index]\n",
    "X_test = X_test.loc[y_test.index]"
   ]
  },
  {
   "cell_type": "markdown",
   "metadata": {},
   "source": [
    "### Model"
   ]
  },
  {
   "cell_type": "code",
   "execution_count": 5,
   "metadata": {},
   "outputs": [
    {
     "name": "stdout",
     "output_type": "stream",
     "text": [
      "Precision on Training Set = 0.851\n",
      "Precision on Validation Set = 0.806\n",
      "Recall on Training Set = 0.951\n",
      "Recall on Validation Set = 0.886\n",
      "F1 Score on Training Set = 0.898\n",
      "F1 Score on Validation Set = 0.844\n"
     ]
    }
   ],
   "source": [
    "nn_model = MLPClassifier(random_state=42,\n",
    "                         max_iter=1000, \n",
    "                         hidden_layer_sizes=(100,), \n",
    "                         shuffle=False,\n",
    "                         activation='relu', \n",
    "                         solver='adam', \n",
    "                         alpha=0.05, \n",
    "                         learning_rate='constant', \n",
    "                         batch_size=100, \n",
    "                         early_stopping=True,\n",
    "                         learning_rate_init=0.001,\n",
    "                         beta_2=0.9,)\n",
    "\n",
    "nn_model.fit(X_train, y_train)\n",
    "\n",
    "y_pred_val = nn_model.predict(X_val)\n",
    "y_pred_train = nn_model.predict(X_train)\n",
    "\n",
    "\n",
    "precision_val = precision_score(y_val, y_pred_val)\n",
    "precision_train = precision_score(y_train, y_pred_train)\n",
    "recall_val = recall_score(y_val, y_pred_val)\n",
    "recall_train = recall_score(y_train, y_pred_train)\n",
    "f1_val = f1_score(y_val, y_pred_val)\n",
    "f1_train = f1_score(y_train, y_pred_train)\n",
    "\n",
    "print(f\"Precision on Training Set = {precision_train:.3f}\")\n",
    "print(f\"Precision on Validation Set = {precision_val:.3f}\")\n",
    "print(f\"Recall on Training Set = {recall_train:.3f}\")\n",
    "print(f\"Recall on Validation Set = {recall_val:.3f}\")\n",
    "print(f\"F1 Score on Training Set = {f1_train:.3f}\")\n",
    "print(f\"F1 Score on Validation Set = {f1_val:.3f}\")"
   ]
  },
  {
   "cell_type": "code",
   "execution_count": 6,
   "metadata": {},
   "outputs": [
    {
     "name": "stdout",
     "output_type": "stream",
     "text": [
      "Precision on Testing Set = 0.842\n",
      "Recall on Testing Set = 0.956\n",
      "F1 Score on Testing Set = 0.895\n"
     ]
    }
   ],
   "source": [
    "# evaluating model on test set\n",
    "\n",
    "y_pred_test = nn_model.predict(X_test)\n",
    "\n",
    "precision_test = precision_score(y_test, y_pred_test)\n",
    "recall_test = recall_score(y_test, y_pred_test)\n",
    "f1_test = f1_score(y_test, y_pred_test)\n",
    "\n",
    "print(f\"Precision on Testing Set = {precision_test:.3f}\")\n",
    "print(f\"Recall on Testing Set = {recall_test:.3f}\")\n",
    "print(f\"F1 Score on Testing Set = {f1_test:.3f}\")"
   ]
  },
  {
   "cell_type": "code",
   "execution_count": 7,
   "metadata": {},
   "outputs": [
    {
     "data": {
      "text/plain": [
       "['C:\\\\Users\\\\kirst\\\\OneDrive\\\\Kirstin\\\\Uni\\\\Year4\\\\MSciProject\\\\data_files\\\\saved_files\\\\nn_model_THD.joblib']"
      ]
     },
     "execution_count": 7,
     "metadata": {},
     "output_type": "execute_result"
    }
   ],
   "source": [
    "# saving the model\n",
    "dump(nn_model, data_path/f'nn_model_{site}.joblib')"
   ]
  },
  {
   "cell_type": "markdown",
   "metadata": {},
   "source": [
    "### Assessing Feature Importance"
   ]
  },
  {
   "cell_type": "code",
   "execution_count": 8,
   "metadata": {},
   "outputs": [],
   "source": [
    "# finding most important features in the model using permutation importance\n",
    "# using the testing set\n",
    "perm_importance = permutation_importance(nn_model, X_train, y_train, n_repeats=30, random_state=42)\n",
    "sorted_importances = perm_importance.importances_mean.argsort()"
   ]
  },
  {
   "cell_type": "code",
   "execution_count": 9,
   "metadata": {},
   "outputs": [
    {
     "data": {
      "text/plain": [
       "Text(0.5, 0, 'Permutation Importance')"
      ]
     },
     "execution_count": 9,
     "metadata": {},
     "output_type": "execute_result"
    },
    {
     "data": {
      "image/png": "[encoded data removed]",
      "text/plain": [
       "<Figure size 1200x1200 with 1 Axes>"
      ]
     },
     "metadata": {},
     "output_type": "display_data"
    }
   ],
   "source": [
    "# plotting first 20 most important features in a histogram\n",
    "\n",
    "fig, ax = plt.subplots(figsize=(12, 12))\n",
    "sns.set_theme(style='ticks', font='Arial')\n",
    "\n",
    "ax.barh(X_val.columns[sorted_importances][-20:], perm_importance.importances_mean[sorted_importances][-20:], color='#FF620E')\n",
    "\n",
    "ax.set_xscale('log')\n",
    "\n",
    "ax.set_ylabel('Features', fontsize=12, fontstyle='italic')\n",
    "ax.set_xlabel('Permutation Importance', fontsize=12, fontstyle='italic')\n",
    "# ax.set_title('Permutation Importance (Testing Set)', fontsize=14)"
   ]
  }
 ],
 "metadata": {
  "kernelspec": {
   "display_name": "venv",
   "language": "python",
   "name": "python3"
  },
  "language_info": {
   "codemirror_mode": {
    "name": "ipython",
    "version": 3
   },
   "file_extension": ".py",
   "mimetype": "text/x-python",
   "name": "python",
   "nbconvert_exporter": "python",
   "pygments_lexer": "ipython3",
   "version": "3.11.9"
  }
 },
 "nbformat": 4,
 "nbformat_minor": 2
}
