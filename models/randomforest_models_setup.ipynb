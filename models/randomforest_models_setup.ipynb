{
 "cells": [
  {
   "cell_type": "markdown",
   "metadata": {},
   "source": [
    "# Random Forest"
   ]
  },
  {
   "cell_type": "code",
   "execution_count": null,
   "metadata": {},
   "outputs": [],
   "source": [
    "import pandas as pd\n",
    "from sklearn.ensemble import RandomForestClassifier\n",
    "from sklearn.model_selection import GridSearchCV\n",
    "from sklearn.metrics import precision_score, recall_score, f1_score\n",
    "from joblib import dump\n",
    "import matplotlib.pyplot as plt\n",
    "import seaborn as sns\n",
    "import csv\n",
    "from pathlib import Path\n",
    "\n",
    "import sys\n",
    "sys.path.append('../')\n",
    "import config\n",
    "\n",
    "data_path = Path.home()/'OneDrive'/'Kirstin'/'Uni'/'Year4'/'MSciProject'/'data_files'/'saved_files'"
   ]
  },
  {
   "cell_type": "code",
   "execution_count": null,
   "metadata": {},
   "outputs": [],
   "source": [
    "site = config.site\n",
    "site_name = config.site_dict[site]\n",
    "compound = config.compound\n",
    "\n",
    "print(f\"Exploring {compound} at {site_name}.\")"
   ]
  },
  {
   "cell_type": "markdown",
   "metadata": {},
   "source": [
    "### Initialising"
   ]
  },
  {
   "cell_type": "code",
   "execution_count": null,
   "metadata": {},
   "outputs": [],
   "source": [
    "# initialising WandB\n",
    "import wandb, os\n",
    "\n",
    "os.environ[\"WANDB_API_KEY\"] = \"e84d2e19bd2cc42ec6e5d232cd0b6f0fe41f2189\"\n",
    "os.environ[\"WANDB_NOTEBOOK_NAME\"] = \"randomforest_models.ipynb\""
   ]
  },
  {
   "cell_type": "code",
   "execution_count": null,
   "metadata": {},
   "outputs": [],
   "source": [
    "# Load the data\n",
    "data = pd.read_csv(data_path/f'for_model_pca_{compound}_{site}.csv', parse_dates=['time'])\n",
    "\n",
    "data.sample(5)"
   ]
  },
  {
   "cell_type": "code",
   "execution_count": null,
   "metadata": {},
   "outputs": [],
   "source": [
    "if site == \"MHD\":\n",
    "    train_data = data[(data['time'].dt.year >= 2016) & (data['time'].dt.year <= 2018)]\n",
    "    val_data = data[(data['time'].dt.year >= 2019) & (data['time'].dt.year <= 2019)]\n",
    "    test_data = data[(data['time'].dt.year >= 2020) & (data['time'].dt.year <= 2023)]\n",
    "\n",
    "if site == \"GSN\":\n",
    "    train_data = data[(data['time'].dt.year >= 2011) & (data['time'].dt.year <= 2013)]\n",
    "    val_data = data[(data['time'].dt.year >= 2014) & (data['time'].dt.year <= 2014)]\n",
    "    test_data = data[(data['time'].dt.year >= 2015) & (data['time'].dt.year <= 2017)]\n",
    "\n",
    "print(f\"Train range: {train_data['time'].min()} -> {train_data['time'].max()}. Length: {len(train_data)}\")\n",
    "print(f\"Val range: {val_data['time'].min()} -> {val_data['time'].max()}. Length: {len(val_data)}\")\n",
    "print(f\"Test range: {test_data['time'].min()} -> {test_data['time'].max()}. Length: {len(test_data)}\")\n",
    "\n",
    "# saving the date ranges for WandB tracking\n",
    "# training_date_range = \"2016\"\n",
    "# validation_date_range = \"2020-01-01 to 2020-12-31\"\n",
    "# testing_date_range = \"2020-01-01 to 2022-12-31\"\n",
    "\n",
    "# Drop the \"time\" column as it won't be used in the model\n",
    "train_data = train_data.drop(columns=['time'])\n",
    "val_data = val_data.drop(columns=['time'])\n",
    "test_data = test_data.drop(columns=['time'])\n",
    "\n",
    "# Define the features (X) and the target (y)\n",
    "X_train = train_data.drop(columns=['flag'])\n",
    "y_train = train_data['flag']\n",
    "X_val = val_data.drop(columns=['flag'])\n",
    "y_val = val_data['flag']\n",
    "X_test = test_data.drop(columns=['flag'])\n",
    "y_test = test_data['flag']\n",
    "\n",
    "# Balanced Data - removing NaN values and associated data\n",
    "y_train = y_train.dropna()\n",
    "y_val = y_val.dropna()\n",
    "y_test = y_test.dropna()\n",
    "\n",
    "X_train = X_train.loc[y_train.index]\n",
    "X_val = X_val.loc[y_val.index]\n",
    "X_test = X_test.loc[y_test.index]"
   ]
  },
  {
   "cell_type": "markdown",
   "metadata": {},
   "source": [
    "## Models"
   ]
  },
  {
   "cell_type": "markdown",
   "metadata": {},
   "source": [
    "### Basic Model with Default Parameters"
   ]
  },
  {
   "cell_type": "markdown",
   "metadata": {},
   "source": [
    "Shows very basic set-up of model, and how the train/validation/train process works."
   ]
  },
  {
   "cell_type": "code",
   "execution_count": null,
   "metadata": {},
   "outputs": [],
   "source": [
    "# wandb.init(project=\"Random Forest 2.0\")\n",
    "\n",
    "# setting up initial model on training data\n",
    "rf_model = RandomForestClassifier(random_state=42)\n",
    "\n",
    "rf_model.fit(X_train, y_train)\n",
    "\n",
    "# making predictions on training and validation data\n",
    "y_pred_val = rf_model.predict(X_val)\n",
    "y_pred_train = rf_model.predict(X_train)\n",
    "\n",
    "# calculating metrics\n",
    "precision_val = precision_score(y_val, y_pred_val)\n",
    "precision_train = precision_score(y_train, y_pred_train)\n",
    "recall_val = recall_score(y_val, y_pred_val)\n",
    "recall_train = recall_score(y_train, y_pred_train)\n",
    "f1_score_val = f1_score(y_val, y_pred_val)\n",
    "f1_score_train = f1_score(y_train, y_pred_train)\n",
    "\n",
    "print(f\"Precision on Training Set = {precision_train:.3f}\")\n",
    "print(f\"Precision on Validation Set = {precision_val:.3f}\")\n",
    "print(f\"Recall on Training Set = {recall_train:.3f}\")\n",
    "print(f\"Recall on Validation Set = {recall_val:.3f}\")\n",
    "print(f\"F1 Score on Training Set = {f1_score_train:.3f}\")\n",
    "print(f\"F1 Score on Validation Set = {f1_score_val:.3f}\")\n",
    "\n",
    "# wandb.log({\"model_name\":\"Basic model, default parameters\", \"training_precision\":precision_train, \"testing_precision\":precision_test, \n",
    "            # \"training_recall\":recall_train, \"testing_recall\":recall_test, \"training_f1\":f1_score_train, \"testing_f1\":f1_score_test,\n",
    "            # \"training date range\": training_date_range, \"testing date range\": testing_date_range})\n",
    "\n",
    "# wandb.finish()"
   ]
  },
  {
   "cell_type": "code",
   "execution_count": null,
   "metadata": {},
   "outputs": [],
   "source": [
    "# now making predictions on the test data\n",
    "y_pred_test = rf_model.predict(X_test)\n",
    "\n",
    "# calculating metrics\n",
    "precision_test = precision_score(y_test, y_pred_test)\n",
    "recall_test = recall_score(y_test, y_pred_test)\n",
    "f1_score_test = f1_score(y_test, y_pred_test)\n",
    "\n",
    "print(f\"Precision on Test Set = {precision_test:.3f}\")\n",
    "print(f\"Recall on Test Set = {recall_test:.3f}\")\n",
    "print(f\"F1 Score on Test Set = {f1_score_test:.3f}\")"
   ]
  },
  {
   "cell_type": "markdown",
   "metadata": {},
   "source": [
    "### Class Probabilities Model"
   ]
  },
  {
   "cell_type": "markdown",
   "metadata": {},
   "source": [
    "Focusing on a model that makes predictions based on class probabilities in order to optimise precision."
   ]
  },
  {
   "cell_type": "markdown",
   "metadata": {},
   "source": [
    "#### Initial Model"
   ]
  },
  {
   "cell_type": "code",
   "execution_count": null,
   "metadata": {},
   "outputs": [],
   "source": [
    "# wandb.init(project=\"Random Forest 2.0\")\n",
    "\n",
    "rf_model = RandomForestClassifier(random_state=42, n_estimators=200)\n",
    "\n",
    "rf_model.fit(X_train, y_train)\n",
    "\n",
    "# finding class probabilities for each sample - using validation set\n",
    "class_probabilities_val = rf_model.predict_proba(X_val)\n",
    "class_probabilites_train = rf_model.predict_proba(X_train)\n",
    "\n",
    "confidence_threshold = config.confidence_threshold\n",
    "\n",
    "# make predictions based on threshold\n",
    "y_pred_val = (class_probabilities_val[:, 1] >= confidence_threshold).astype(int)\n",
    "y_pred_train = (class_probabilites_train[:, 1] >= confidence_threshold).astype(int)\n",
    "\n",
    "\n",
    "# Calculate scores\n",
    "precision_train = precision_score(y_train, y_pred_train)\n",
    "precision_val = precision_score(y_val, y_pred_val)\n",
    "recall_train = recall_score(y_train, y_pred_train)\n",
    "recall_val = recall_score(y_val, y_pred_val)\n",
    "f1_train = f1_score(y_train, y_pred_train)\n",
    "f1_val = f1_score(y_val, y_pred_val)\n",
    "\n",
    "print(f\"Precision on Training Set = {precision_train:.3f}\")\n",
    "print(f\"Precision on Validation Set = {precision_val:.3f}\")\n",
    "print(f\"Recall on Training Set = {recall_train:.3f}\")\n",
    "print(f\"Recall on Validation Set = {recall_val:.3f}\")\n",
    "print(f\"F1 Score on Training Set = {f1_train:.3f}\")\n",
    "print(f\"F1 Score on Validation Set = {f1_val:.3f}\")\n",
    "\n",
    "\n",
    "# wandb.log({\"model_name\":\"Class probabilities model\", \"training_precision\":precision_train_threshold, \"testing_precision\":precision_test_threshold, \n",
    "            # \"training_recall\":recall_train_threshold, \"testing_recall\":recall_test_threshold, \"training_f1\":f1_train_threshold, \"testing_f1\":f1_test_threshold,\n",
    "            # \"training date range\": training_date_range, \"testing date range\": testing_date_range})\n",
    "\n",
    "# wandb.finish()"
   ]
  },
  {
   "cell_type": "markdown",
   "metadata": {},
   "source": [
    "#### Optimising Model Using Validation Set"
   ]
  },
  {
   "cell_type": "markdown",
   "metadata": {},
   "source": [
    "##### Optimising Threshold"
   ]
  },
  {
   "cell_type": "code",
   "execution_count": null,
   "metadata": {},
   "outputs": [],
   "source": [
    "confidence_threshold_vals = [0.5, 0.6, 0.7, 0.75, 0.8, 0.9]\n",
    "\n",
    "train_precisions_values = []\n",
    "val_precisions_values = []\n",
    "train_recalls_values = []\n",
    "val_recalls_values = []\n",
    "\n",
    "directory = './results'\n",
    "file_path = os.path.join(directory, 'threshold_results.csv')\n",
    "\n",
    "with open(file_path, mode='w', newline='') as file:\n",
    "    writer = csv.writer(file)\n",
    "    \n",
    "    # adding header\n",
    "    writer.writerow(['Confidence Threshold', 'Training Precision', 'Validation Precision', 'Training Recall', 'Validation Recall'])\n",
    "\n",
    "    for threshold in confidence_threshold_vals:\n",
    "        rf_model = RandomForestClassifier(random_state=42)\n",
    "        rf_model.fit(X_train, y_train)\n",
    "\n",
    "        class_probabilities_val = rf_model.predict_proba(X_val)\n",
    "        class_probabilites_train = rf_model.predict_proba(X_train)\n",
    "        \n",
    "        # make predictions based on threshold\n",
    "        y_pred_val = (class_probabilities_val[:, 1] >= threshold).astype(int)\n",
    "        y_pred_train = (class_probabilites_train[:, 1] >= threshold).astype(int)\n",
    "\n",
    "        # calculating precision & recall of validation/training sets\n",
    "        val_precision = precision_score(y_val, y_pred_val)\n",
    "        train_precision = precision_score(y_train, y_pred_train)\n",
    "        val_recall = recall_score(y_val, y_pred_val)\n",
    "        train_recall = recall_score(y_train, y_pred_train)\n",
    "\n",
    "        train_precisions_values.append(train_precision)\n",
    "        val_precisions_values.append(val_precision)\n",
    "        train_recalls_values.append(train_recall)\n",
    "        val_recalls_values.append(val_recall)\n",
    "\n",
    "        writer.writerow([threshold, train_precision, val_precision, train_recall, val_recall])\n",
    "\n",
    "# reading in results\n",
    "results = pd.read_csv('results/threshold_results.csv')\n",
    "\n",
    "# plotting\n",
    "fig, axs = plt.subplots(2,1, figsize=(10, 8))\n",
    "sns.set(style='darkgrid')\n",
    "sns.set_palette(\"colorblind\")\n",
    "\n",
    "# line plot of precision vs. max_depth (training and validation)\n",
    "axs[0].plot(results['Confidence Threshold'], results['Training Precision'], label='Training Precision', marker='x')\n",
    "axs[0].plot(results['Confidence Threshold'], results['Validation Precision'], label='Validation Precision', marker='x')\n",
    "axs[0].set_xlabel('confidence threshold')\n",
    "axs[0].set_xticks(results['Confidence Threshold'])\n",
    "axs[0].set_xticklabels(results['Confidence Threshold'])\n",
    "axs[0].set_ylabel('Precision')\n",
    "axs[0].legend()\n",
    "axs[0].set_title('Training and Validation Precision vs. Confidence Threshold', fontstyle='italic', fontsize=14)\n",
    "\n",
    "# line plot of recall vs. max_depth (training and validation)\n",
    "axs[1].plot(results['Confidence Threshold'], results['Training Recall'], label='Training Recall', marker='x')\n",
    "axs[1].plot(results['Confidence Threshold'], results['Validation Recall'], label='Validation Recall', marker='x')\n",
    "axs[1].set_xlabel('confidence threshold')\n",
    "axs[1].set_xticks(results['Confidence Threshold'])\n",
    "axs[1].set_xticklabels(results['Confidence Threshold'])\n",
    "axs[1].set_ylabel('Recall')\n",
    "axs[1].legend()\n",
    "axs[1].set_title('Training and Validation Recall vs. Confidence Threshold', fontstyle='italic', fontsize=14)\n",
    "\n",
    "fig.tight_layout()"
   ]
  },
  {
   "cell_type": "markdown",
   "metadata": {},
   "source": [
    "##### Exploring max_depth"
   ]
  },
  {
   "cell_type": "markdown",
   "metadata": {},
   "source": [
    "This particular hyperparameter has shown to help significantly with overfitting issues so this is explored first."
   ]
  },
  {
   "cell_type": "code",
   "execution_count": null,
   "metadata": {},
   "outputs": [],
   "source": [
    "# List of max_depth values to try\n",
    "max_depth_values = [3, 5, 6, 7, 8, 9, 10, 12, 15, 20]\n",
    "\n",
    "train_precisions_values = []\n",
    "val_precisions_values = []\n",
    "difference_values = []\n",
    "\n",
    "directory = './results'\n",
    "file_path = os.path.join(directory, 'max_depth_results.csv')\n",
    "\n",
    "# creating csv file to store results - allows for easy plotting/analysis\n",
    "with open(file_path, mode='w', newline='') as file:\n",
    "    writer = csv.writer(file)\n",
    "    \n",
    "    # adding header\n",
    "    writer.writerow(['Max Depth', 'Training Precision', 'Validation Precision', 'Difference'])\n",
    "\n",
    "    for max_depth in max_depth_values:\n",
    "        rf_model = RandomForestClassifier(random_state=42, max_depth=max_depth, n_estimators=100, criterion='entropy')\n",
    "        rf_model.fit(X_train, y_train)\n",
    "\n",
    "        # finding class probabilities for each sample\n",
    "        class_probabilities_val = rf_model.predict_proba(X_val)\n",
    "        class_probabilites_train = rf_model.predict_proba(X_train)\n",
    "\n",
    "        confidence_threshold = config.confidence_threshold\n",
    "\n",
    "        # make predictions based on threshold\n",
    "        y_pred_val = (class_probabilities_val[:, 1] >= confidence_threshold).astype(int)\n",
    "        y_pred_train = (class_probabilites_train[:, 1] >= confidence_threshold).astype(int)\n",
    "\n",
    "        # calculating precision of testing/training sets\n",
    "        val_precision = precision_score(y_val, y_pred_val)\n",
    "        train_precision = precision_score(y_train, y_pred_train)\n",
    "        difference = abs(train_precision-val_precision)\n",
    "\n",
    "        train_precisions_values.append(train_precision)\n",
    "        val_precisions_values.append(val_precision)\n",
    "        difference_values.append(difference)\n",
    "\n",
    "        writer.writerow([max_depth, train_precision, val_precision, difference])\n",
    "\n",
    "\n",
    "results = pd.read_csv('results/max_depth_results.csv')\n",
    "\n",
    "# plotting\n",
    "fig, axs = plt.subplots(2,1, figsize=(10, 8))\n",
    "sns.set(style='darkgrid')\n",
    "sns.set_palette(\"colorblind\")\n",
    "\n",
    "# line plot of precision vs. max_depth (training and validation)\n",
    "axs[0].plot(results['Max Depth'], results['Training Precision'], label='Training Precision', marker='x')\n",
    "axs[0].plot(results['Max Depth'], results['Validation Precision'], label='Validation Precision', marker='x')\n",
    "axs[0].set_xlabel('max_depth')\n",
    "axs[0].set_xticks(results['Max Depth'])\n",
    "axs[0].set_xticklabels(results['Max Depth'].astype(int))\n",
    "axs[0].set_ylabel('Precision')\n",
    "axs[0].legend()\n",
    "axs[0].set_title('Training and Validation Precision vs. max_depth', fontstyle='italic', fontsize=14)\n",
    "\n",
    "# bar chart of difference between training and validation precision\n",
    "axs[1].bar(results['Max Depth'], results['Difference'])\n",
    "\n",
    "# Add data labels to the bar chart\n",
    "for i, v in zip(results['Max Depth'], results['Difference']):\n",
    "    axs[1].text(i, v, f\"{v:.2f}\", fontsize=8, ha='center', va='bottom')\n",
    "\n",
    "axs[1].set_xlabel('max_depth')\n",
    "axs[1].set_xticks(results['Max Depth'])\n",
    "axs[1].set_xticklabels(results['Max Depth'].astype(int))\n",
    "\n",
    "axs[1].set_ylabel('Difference')\n",
    "axs[1].set_title('Difference between Training and Validation Precision vs. max_depth', fontstyle='italic', fontsize=14)\n",
    "\n",
    "fig.tight_layout()"
   ]
  },
  {
   "cell_type": "markdown",
   "metadata": {},
   "source": [
    "##### Grid Search"
   ]
  },
  {
   "cell_type": "code",
   "execution_count": null,
   "metadata": {},
   "outputs": [],
   "source": [
    "model = RandomForestClassifier(random_state=42, max_depth=5)\n",
    "\n",
    "# Define the hyperparameters to search over\n",
    "'''\n",
    "INITIAL GRID\n",
    "param_grid = {'n_estimators': [50, 100, 200],\n",
    "    'max_depth': [None, 10, 20],\n",
    "    'min_samples_split': [2, 5, 10],\n",
    "    'min_samples_leaf': [1, 2, 4],\n",
    "    'class_weight': [None, 'balanced']}\n",
    "'''\n",
    "param_grid = {\n",
    "    'n_estimators': [10, 50, 100, 200, 500],\n",
    "    'max_features': ['auto', 'sqrt', 'log2', None],\n",
    "    'bootstrap' : [True, False]\n",
    "}\n",
    "\n",
    "# Initialize the grid search with 5-fold cross-validation\n",
    "grid_search = GridSearchCV(model, param_grid, n_jobs=-1, cv=5, scoring='f1')\n",
    "\n",
    "# Perform the grid search on the training data\n",
    "grid_search.fit(X_train, y_train)\n",
    "\n",
    "# extracting best parameters and score\n",
    "results = grid_search.best_estimator_\n",
    "\n",
    "validation_f1 = results.score(X_val, y_val)\n",
    "\n",
    "print(f'Validation F1 Score: {validation_f1:.3f}')\n",
    "print(f'Best Parameters: {grid_search.best_params_}')"
   ]
  },
  {
   "cell_type": "markdown",
   "metadata": {},
   "source": [
    "#### Applying Optimisations to Model"
   ]
  },
  {
   "cell_type": "code",
   "execution_count": null,
   "metadata": {},
   "outputs": [],
   "source": [
    "# wandb.init(project=\"Random Forest 2.0\")\n",
    "\n",
    "rf_model = RandomForestClassifier(random_state=42,\n",
    "                                  n_estimators=200,\n",
    "                                  max_depth=5,\n",
    "                                  criterion='entropy',\n",
    "                                  bootstrap=True,\n",
    "                                  max_features=None,)\n",
    "\n",
    "rf_model.fit(X_train, y_train)\n",
    "\n",
    "# making predictions based on confidence threshold\n",
    "class_probabilities_val = rf_model.predict_proba(X_val)\n",
    "class_probabilites_train = rf_model.predict_proba(X_train)\n",
    "\n",
    "confidence_threshold = config.confidence_threshold\n",
    "\n",
    "y_pred_val = (class_probabilities_val[:, 1] >= confidence_threshold).astype(int)\n",
    "y_pred_train = (class_probabilites_train[:, 1] >= confidence_threshold).astype(int)\n",
    "\n",
    "\n",
    "# calculating performance metrics\n",
    "precision_val = precision_score(y_val, y_pred_val)\n",
    "precision_train = precision_score(y_train, y_pred_train)\n",
    "recall_val = recall_score(y_val, y_pred_val)\n",
    "recall_train = recall_score(y_train, y_pred_train)\n",
    "f1_val = f1_score(y_val, y_pred_val)\n",
    "f1_train = f1_score(y_train, y_pred_train)\n",
    "\n",
    "print(f\"Precision on Training Set = {precision_train:.3f}\")\n",
    "print(f\"Precision on Validation Set = {precision_val:.3f}\")\n",
    "print(f\"Recall on Training Set = {recall_train:.3f}\")\n",
    "print(f\"Recall on Validation Set = {recall_val:.3f}\")\n",
    "print(f\"F1 Score on Training Set = {f1_train:.3f}\")\n",
    "print(f\"F1 Score on Validation Set = {f1_val:.3f}\")\n",
    "\n",
    "\n",
    "# wandb.log({\"model_name\":\"Optimising hyperparameters\", \"training_precision\":precision_train, \"testing_precision\":precision_test, \n",
    "            # \"training_recall\":recall_train, \"testing_recall\":recall_test, \"training_f1\":f1_train, \"testing_f1\":f1_test,\n",
    "            # \"training date range\": training_date_range, \"testing date range\": testing_date_range})\n",
    "\n",
    "# wandb.finish()"
   ]
  },
  {
   "cell_type": "markdown",
   "metadata": {},
   "source": [
    "##### Evaluating Model on Test Data"
   ]
  },
  {
   "cell_type": "code",
   "execution_count": null,
   "metadata": {},
   "outputs": [],
   "source": [
    "class_probabilities_test = rf_model.predict_proba(X_test)\n",
    "\n",
    "y_pred_test = (class_probabilities_test[:, 1] >= confidence_threshold).astype(int)\n",
    "\n",
    "precision_test = precision_score(y_test, y_pred_test)\n",
    "recall_test = recall_score(y_test, y_pred_test)\n",
    "f1_test = f1_score(y_test, y_pred_test)\n",
    "\n",
    "print(f\"Precision on Test Set = {precision_test:.3f}\")\n",
    "print(f\"Recall on Test Set = {recall_test:.3f}\")\n",
    "print(f\"F1 Score on Test Set = {f1_test:.3f}\")"
   ]
  }
 ],
 "metadata": {
  "kernelspec": {
   "display_name": "Python 3",
   "language": "python",
   "name": "python3"
  },
  "language_info": {
   "codemirror_mode": {
    "name": "ipython",
    "version": 3
   },
   "file_extension": ".py",
   "mimetype": "text/x-python",
   "name": "python",
   "nbconvert_exporter": "python",
   "pygments_lexer": "ipython3",
   "version": "3.11.8"
  },
  "orig_nbformat": 4
 },
 "nbformat": 4,
 "nbformat_minor": 2
}
