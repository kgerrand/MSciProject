{
 "cells": [
  {
   "cell_type": "markdown",
   "metadata": {},
   "source": [
    "# Neural Network Final Model - Mace Head, Ireland"
   ]
  },
  {
   "cell_type": "code",
   "execution_count": 75,
   "metadata": {},
   "outputs": [],
   "source": [
    "import pandas as pd\n",
    "import numpy as np\n",
    "from joblib import dump\n",
    "from pathlib import Path\n",
    "import matplotlib.pyplot as plt\n",
    "import seaborn as sns\n",
    "\n",
    "from sklearn.neural_network import MLPClassifier\n",
    "from sklearn.metrics import precision_score, recall_score, f1_score, accuracy_score\n",
    "\n",
    "import sys\n",
    "sys.path.append('../../')\n",
    "import config as cfg\n",
    "import functions as f\n",
    "\n",
    "data_path = Path.home()/'OneDrive'/'Kirstin'/'Uni'/'Year4'/'MSciProject'/'data_files'/'saved_files'"
   ]
  },
  {
   "cell_type": "code",
   "execution_count": 76,
   "metadata": {},
   "outputs": [
    {
     "name": "stdout",
     "output_type": "stream",
     "text": [
      "Creating a neural network model for \u001b[1mMace Head, Ireland\u001b[0;0m.\n"
     ]
    }
   ],
   "source": [
    "site = cfg.site\n",
    "site_name = cfg.site_dict[site]\n",
    "assert site == 'MHD', 'This script is only for Mace Head, Ireland. The site can be changed in the config file.'\n",
    "\n",
    "compound = cfg.compound\n",
    "\n",
    "print(f\"Creating a neural network model for \\033[1m{site_name}\\033[0;0m.\")"
   ]
  },
  {
   "cell_type": "markdown",
   "metadata": {},
   "source": [
    "### Loading & Initialising Data"
   ]
  },
  {
   "cell_type": "code",
   "execution_count": 3,
   "metadata": {},
   "outputs": [
    {
     "data": {
      "text/html": [
       "<div>\n",
       "<style scoped>\n",
       "    .dataframe tbody tr th:only-of-type {\n",
       "        vertical-align: middle;\n",
       "    }\n",
       "\n",
       "    .dataframe tbody tr th {\n",
       "        vertical-align: top;\n",
       "    }\n",
       "\n",
       "    .dataframe thead th {\n",
       "        text-align: right;\n",
       "    }\n",
       "</style>\n",
       "<table border=\"1\" class=\"dataframe\">\n",
       "  <thead>\n",
       "    <tr style=\"text-align: right;\">\n",
       "      <th></th>\n",
       "      <th>time</th>\n",
       "      <th>flag</th>\n",
       "      <th>u10_0</th>\n",
       "      <th>u10_1</th>\n",
       "      <th>u10_2</th>\n",
       "      <th>u10_3</th>\n",
       "      <th>u10_4</th>\n",
       "      <th>u10_5</th>\n",
       "      <th>u10_6</th>\n",
       "      <th>u10_7</th>\n",
       "      <th>...</th>\n",
       "      <th>v500_7_past</th>\n",
       "      <th>v500_8_past</th>\n",
       "      <th>v500_9_past</th>\n",
       "      <th>v500_10_past</th>\n",
       "      <th>v500_11_past</th>\n",
       "      <th>v500_12_past</th>\n",
       "      <th>v500_13_past</th>\n",
       "      <th>v500_14_past</th>\n",
       "      <th>v500_15_past</th>\n",
       "      <th>v500_16_past</th>\n",
       "    </tr>\n",
       "  </thead>\n",
       "  <tbody>\n",
       "    <tr>\n",
       "      <th>41907</th>\n",
       "      <td>2011-12-13 07:00:00</td>\n",
       "      <td>1.0</td>\n",
       "      <td>15.972193</td>\n",
       "      <td>-7.145165</td>\n",
       "      <td>2.708235</td>\n",
       "      <td>13.910332</td>\n",
       "      <td>15.490408</td>\n",
       "      <td>18.375795</td>\n",
       "      <td>17.981539</td>\n",
       "      <td>21.616625</td>\n",
       "      <td>...</td>\n",
       "      <td>-0.441944</td>\n",
       "      <td>-6.032746</td>\n",
       "      <td>4.504299</td>\n",
       "      <td>8.811197</td>\n",
       "      <td>14.744258</td>\n",
       "      <td>-8.237447</td>\n",
       "      <td>5.333017</td>\n",
       "      <td>3.310738</td>\n",
       "      <td>-3.504898</td>\n",
       "      <td>-0.782465</td>\n",
       "    </tr>\n",
       "    <tr>\n",
       "      <th>8607</th>\n",
       "      <td>1993-05-25 03:00:00</td>\n",
       "      <td>0.0</td>\n",
       "      <td>-1.707527</td>\n",
       "      <td>-10.648696</td>\n",
       "      <td>-5.716942</td>\n",
       "      <td>-1.510902</td>\n",
       "      <td>-4.888263</td>\n",
       "      <td>-5.889377</td>\n",
       "      <td>-6.641142</td>\n",
       "      <td>-6.330388</td>\n",
       "      <td>...</td>\n",
       "      <td>11.185470</td>\n",
       "      <td>8.561833</td>\n",
       "      <td>9.186872</td>\n",
       "      <td>2.741355</td>\n",
       "      <td>9.851546</td>\n",
       "      <td>10.667145</td>\n",
       "      <td>24.797580</td>\n",
       "      <td>-13.425791</td>\n",
       "      <td>0.407372</td>\n",
       "      <td>-0.620131</td>\n",
       "    </tr>\n",
       "    <tr>\n",
       "      <th>31048</th>\n",
       "      <td>2005-10-20 23:00:00</td>\n",
       "      <td>0.0</td>\n",
       "      <td>-6.716316</td>\n",
       "      <td>0.906433</td>\n",
       "      <td>2.452583</td>\n",
       "      <td>-2.621353</td>\n",
       "      <td>1.674979</td>\n",
       "      <td>12.377485</td>\n",
       "      <td>10.207023</td>\n",
       "      <td>0.002015</td>\n",
       "      <td>...</td>\n",
       "      <td>-1.211673</td>\n",
       "      <td>-7.236194</td>\n",
       "      <td>-4.901379</td>\n",
       "      <td>0.143219</td>\n",
       "      <td>7.444305</td>\n",
       "      <td>6.459384</td>\n",
       "      <td>3.434624</td>\n",
       "      <td>-5.551328</td>\n",
       "      <td>-12.327455</td>\n",
       "      <td>-0.936694</td>\n",
       "    </tr>\n",
       "    <tr>\n",
       "      <th>45100</th>\n",
       "      <td>2013-10-05 05:00:00</td>\n",
       "      <td>0.0</td>\n",
       "      <td>4.340994</td>\n",
       "      <td>2.707195</td>\n",
       "      <td>4.655055</td>\n",
       "      <td>4.565616</td>\n",
       "      <td>0.714958</td>\n",
       "      <td>3.928618</td>\n",
       "      <td>3.387888</td>\n",
       "      <td>3.493030</td>\n",
       "      <td>...</td>\n",
       "      <td>-0.372204</td>\n",
       "      <td>1.598321</td>\n",
       "      <td>9.112487</td>\n",
       "      <td>17.530323</td>\n",
       "      <td>10.254775</td>\n",
       "      <td>24.414845</td>\n",
       "      <td>-3.646662</td>\n",
       "      <td>-3.557373</td>\n",
       "      <td>1.790755</td>\n",
       "      <td>1.281189</td>\n",
       "    </tr>\n",
       "    <tr>\n",
       "      <th>30483</th>\n",
       "      <td>2005-07-23 17:00:00</td>\n",
       "      <td>0.0</td>\n",
       "      <td>-4.540809</td>\n",
       "      <td>-4.893448</td>\n",
       "      <td>-1.098828</td>\n",
       "      <td>-2.900752</td>\n",
       "      <td>1.432075</td>\n",
       "      <td>6.257440</td>\n",
       "      <td>10.192537</td>\n",
       "      <td>-5.355346</td>\n",
       "      <td>...</td>\n",
       "      <td>11.361510</td>\n",
       "      <td>3.170589</td>\n",
       "      <td>-8.918643</td>\n",
       "      <td>-8.808904</td>\n",
       "      <td>-13.106616</td>\n",
       "      <td>-3.208350</td>\n",
       "      <td>-3.704731</td>\n",
       "      <td>-1.402749</td>\n",
       "      <td>2.942178</td>\n",
       "      <td>-4.050539</td>\n",
       "    </tr>\n",
       "  </tbody>\n",
       "</table>\n",
       "<p>5 rows × 210 columns</p>\n",
       "</div>"
      ],
      "text/plain": [
       "                     time  flag      u10_0      u10_1     u10_2      u10_3  \\\n",
       "41907 2011-12-13 07:00:00   1.0  15.972193  -7.145165  2.708235  13.910332   \n",
       "8607  1993-05-25 03:00:00   0.0  -1.707527 -10.648696 -5.716942  -1.510902   \n",
       "31048 2005-10-20 23:00:00   0.0  -6.716316   0.906433  2.452583  -2.621353   \n",
       "45100 2013-10-05 05:00:00   0.0   4.340994   2.707195  4.655055   4.565616   \n",
       "30483 2005-07-23 17:00:00   0.0  -4.540809  -4.893448 -1.098828  -2.900752   \n",
       "\n",
       "           u10_4      u10_5      u10_6      u10_7  ...  v500_7_past  \\\n",
       "41907  15.490408  18.375795  17.981539  21.616625  ...    -0.441944   \n",
       "8607   -4.888263  -5.889377  -6.641142  -6.330388  ...    11.185470   \n",
       "31048   1.674979  12.377485  10.207023   0.002015  ...    -1.211673   \n",
       "45100   0.714958   3.928618   3.387888   3.493030  ...    -0.372204   \n",
       "30483   1.432075   6.257440  10.192537  -5.355346  ...    11.361510   \n",
       "\n",
       "       v500_8_past  v500_9_past  v500_10_past  v500_11_past  v500_12_past  \\\n",
       "41907    -6.032746     4.504299      8.811197     14.744258     -8.237447   \n",
       "8607      8.561833     9.186872      2.741355      9.851546     10.667145   \n",
       "31048    -7.236194    -4.901379      0.143219      7.444305      6.459384   \n",
       "45100     1.598321     9.112487     17.530323     10.254775     24.414845   \n",
       "30483     3.170589    -8.918643     -8.808904    -13.106616     -3.208350   \n",
       "\n",
       "       v500_13_past  v500_14_past  v500_15_past  v500_16_past  \n",
       "41907      5.333017      3.310738     -3.504898     -0.782465  \n",
       "8607      24.797580    -13.425791      0.407372     -0.620131  \n",
       "31048      3.434624     -5.551328    -12.327455     -0.936694  \n",
       "45100     -3.646662     -3.557373      1.790755      1.281189  \n",
       "30483     -3.704731     -1.402749      2.942178     -4.050539  \n",
       "\n",
       "[5 rows x 210 columns]"
      ]
     },
     "execution_count": 3,
     "metadata": {},
     "output_type": "execute_result"
    }
   ],
   "source": [
    "data = pd.read_csv(data_path/f'for_model_{compound}_{site}.csv', parse_dates=['time'])\n",
    "data.sample(5)"
   ]
  },
  {
   "cell_type": "code",
   "execution_count": 4,
   "metadata": {},
   "outputs": [
    {
     "name": "stdout",
     "output_type": "stream",
     "text": [
      "Train range: 2018-01-01 01:00:00 -> 2018-12-31 21:00:00. Length: 1850\n",
      "Val range: 2019-01-02 03:00:00 -> 2019-12-31 23:00:00. Length: 1540\n",
      "Test range: 2020-01-01 17:00:00 -> 2022-12-31 19:00:00. Length: 5322\n"
     ]
    }
   ],
   "source": [
    "train_data = data[(data['time'].dt.year >= 2018) & (data['time'].dt.year <= 2018)]\n",
    "val_data = data[(data['time'].dt.year >= 2019) & (data['time'].dt.year <= 2019)]\n",
    "test_data = data[(data['time'].dt.year >= 2020) & (data['time'].dt.year <= 2023)]\n",
    "\n",
    "\n",
    "print(f\"Train range: {train_data['time'].min()} -> {train_data['time'].max()}. Length: {len(train_data)}\")\n",
    "print(f\"Val range: {val_data['time'].min()} -> {val_data['time'].max()}. Length: {len(val_data)}\")\n",
    "print(f\"Test range: {test_data['time'].min()} -> {test_data['time'].max()}. Length: {len(test_data)}\")\n",
    "\n",
    "\n",
    "# Drop the \"time\" column as it won't be used in the model\n",
    "train_data = train_data.drop(columns=['time'])\n",
    "val_data = val_data.drop(columns=['time'])\n",
    "test_data = test_data.drop(columns=['time'])\n",
    "\n",
    "# Define the features (X) and the target (y)\n",
    "X_train = train_data.drop(columns=['flag'])\n",
    "y_train = train_data['flag']\n",
    "X_val = val_data.drop(columns=['flag'])\n",
    "y_val = val_data['flag']\n",
    "X_test = test_data.drop(columns=['flag'])\n",
    "y_test = test_data['flag']\n",
    "\n",
    "# Balanced Data - removing NaN values and associated data\n",
    "y_train = y_train.dropna()\n",
    "y_val = y_val.dropna()\n",
    "y_test = y_test.dropna()\n",
    "\n",
    "# aligning indices of features sets\n",
    "X_train = X_train.loc[y_train.index]\n",
    "X_val = X_val.loc[y_val.index]\n",
    "X_test = X_test.loc[y_test.index]"
   ]
  },
  {
   "cell_type": "markdown",
   "metadata": {},
   "source": [
    "### Model"
   ]
  },
  {
   "cell_type": "code",
   "execution_count": 5,
   "metadata": {},
   "outputs": [
    {
     "name": "stdout",
     "output_type": "stream",
     "text": [
      "Precision on Training Set = 0.858\n",
      "Precision on Validation Set = 0.780\n",
      "Recall on Training Set = 0.701\n",
      "Recall on Validation Set = 0.673\n",
      "F1 Score on Training Set = 0.772\n",
      "F1 Score on Validation Set = 0.723\n"
     ]
    }
   ],
   "source": [
    "nn_model = MLPClassifier(random_state=42,\n",
    "                         max_iter=1000, \n",
    "                         hidden_layer_sizes=(200,150,), \n",
    "                         shuffle=False,\n",
    "                         activation='relu', \n",
    "                         solver='adam', \n",
    "                         alpha=0.05, \n",
    "                         learning_rate='constant', \n",
    "                         batch_size=100, \n",
    "                         early_stopping=True,\n",
    "                         learning_rate_init=0.01,\n",
    "                         beta_2=0.9,)\n",
    "\n",
    "nn_model.fit(X_train, y_train)\n",
    "\n",
    "class_probabilities_val = nn_model.predict_proba(X_val)\n",
    "class_probabilities_train = nn_model.predict_proba(X_train)\n",
    "\n",
    "confidence_threshold = cfg.confidence_threshold\n",
    "\n",
    "y_pred_val = (class_probabilities_val[:,1] > confidence_threshold).astype(int)\n",
    "y_pred_train = (class_probabilities_train[:,1] > confidence_threshold).astype(int)\n",
    "\n",
    "precision_val = precision_score(y_val, y_pred_val)\n",
    "precision_train = precision_score(y_train, y_pred_train)\n",
    "recall_val = recall_score(y_val, y_pred_val)\n",
    "recall_train = recall_score(y_train, y_pred_train)\n",
    "f1_val = f1_score(y_val, y_pred_val)\n",
    "f1_train = f1_score(y_train, y_pred_train)\n",
    "\n",
    "print(f\"Precision on Training Set = {precision_train:.3f}\")\n",
    "print(f\"Precision on Validation Set = {precision_val:.3f}\")\n",
    "print(f\"Recall on Training Set = {recall_train:.3f}\")\n",
    "print(f\"Recall on Validation Set = {recall_val:.3f}\")\n",
    "print(f\"F1 Score on Training Set = {f1_train:.3f}\")\n",
    "print(f\"F1 Score on Validation Set = {f1_val:.3f}\")"
   ]
  },
  {
   "cell_type": "code",
   "execution_count": 6,
   "metadata": {},
   "outputs": [
    {
     "name": "stdout",
     "output_type": "stream",
     "text": [
      "Precision on Testing Set = 0.851\n",
      "Recall on Testing Set = 0.678\n",
      "F1 Score on Testing Set = 0.755\n"
     ]
    }
   ],
   "source": [
    "class_probabilities_test = nn_model.predict_proba(X_test)\n",
    "\n",
    "y_pred_test = (class_probabilities_test[:,1] > confidence_threshold).astype(int)\n",
    "\n",
    "precision_test = precision_score(y_test, y_pred_test)\n",
    "recall_test = recall_score(y_test, y_pred_test)\n",
    "f1_test = f1_score(y_test, y_pred_test)\n",
    "\n",
    "print(f\"Precision on Testing Set = {precision_test:.3f}\")\n",
    "print(f\"Recall on Testing Set = {recall_test:.3f}\")\n",
    "print(f\"F1 Score on Testing Set = {f1_test:.3f}\")"
   ]
  },
  {
   "cell_type": "code",
   "execution_count": 7,
   "metadata": {},
   "outputs": [
    {
     "data": {
      "text/plain": [
       "['C:\\\\Users\\\\kirst\\\\OneDrive\\\\Kirstin\\\\Uni\\\\Year4\\\\MSciProject\\\\data_files\\\\saved_files\\\\nn_model_MHD.joblib']"
      ]
     },
     "execution_count": 7,
     "metadata": {},
     "output_type": "execute_result"
    }
   ],
   "source": [
    "# saving the model\n",
    "dump(nn_model, data_path/f'nn_model_{site}.joblib')"
   ]
  },
  {
   "cell_type": "markdown",
   "metadata": {},
   "source": [
    "### Assessing Feature Importance"
   ]
  },
  {
   "cell_type": "code",
   "execution_count": 84,
   "metadata": {},
   "outputs": [],
   "source": [
    "# grouping features by category i.e. x-wind, y-wind, temporal etc.\n",
    "u_features = [col for col in data.columns if 'u' in col]\n",
    "v_features = [col for col in data.columns if 'v' in col]\n",
    "temporal_features = ['day_of_year', 'time_of_day']\n",
    "sp = ['sp']\n",
    "blh = ['blh']\n",
    "\n",
    "groups = [u_features, v_features, temporal_features, sp, blh]"
   ]
  },
  {
   "cell_type": "code",
   "execution_count": 85,
   "metadata": {},
   "outputs": [],
   "source": [
    "original_score = accuracy_score(y_train, nn_model.predict(X_train))\n",
    "importances = {}\n",
    "\n",
    "for group in groups:\n",
    "    scores_diff = []\n",
    "    for _ in range(100):\n",
    "        X_train_permuted = f.permute_group(X_train, group)\n",
    "        \n",
    "        permuted_score = accuracy_score(y_train, nn_model.predict(X_train_permuted))\n",
    "        scores_diff.append(original_score - permuted_score)\n",
    "    \n",
    "    importances[str(group)] = np.mean(scores_diff)\n",
    "\n",
    "# Sort groups by importance\n",
    "sorted_importances = sorted(importances.items(), key=lambda x: x[1], reverse=False)"
   ]
  },
  {
   "cell_type": "code",
   "execution_count": 107,
   "metadata": {},
   "outputs": [],
   "source": [
    "# matching the group names to the sorted importances\n",
    "n = len(groups)\n",
    "group_names_sorted = []\n",
    "\n",
    "for i in range(n):\n",
    "    name = sorted_importances[i][0]\n",
    "\n",
    "    if 'u10_0' in name:\n",
    "        group_names_sorted.append('u-wind')\n",
    "\n",
    "    elif 'v10_0' in name:\n",
    "        group_names_sorted.append('v-wind')\n",
    "\n",
    "    elif 'day_of_year' in name:\n",
    "        group_names_sorted.append('temporal')\n",
    "\n",
    "    elif 'sp' in name:\n",
    "        group_names_sorted.append('sp')\n",
    "\n",
    "    elif 'blh' in name:\n",
    "        group_names_sorted.append('blh')"
   ]
  },
  {
   "cell_type": "code",
   "execution_count": 108,
   "metadata": {},
   "outputs": [
    {
     "data": {
      "text/plain": [
       "Text(0, 0.5, 'Feature Group')"
      ]
     },
     "execution_count": 108,
     "metadata": {},
     "output_type": "execute_result"
    },
    {
     "data": {
      "image/png": "[encoded data removed]",
      "text/plain": [
       "<Figure size 1200x800 with 1 Axes>"
      ]
     },
     "metadata": {},
     "output_type": "display_data"
    }
   ],
   "source": [
    "# Plotting the importances of the groups\n",
    "fig, ax = plt.subplots(figsize=(12, 8))\n",
    "sns.set_theme(style='ticks', font='Arial')\n",
    "\n",
    "ax.barh(group_names_sorted, [importance for _, importance in sorted_importances], color='#FF620E')\n",
    "\n",
    "ax.set_xlabel('Importance', fontsize=12, fontstyle='italic')\n",
    "ax.set_ylabel('Feature Group', fontsize=12, fontstyle='italic')\n",
    "# ax.set_title('Permutation Importances', fontsize=14)"
   ]
  }
 ],
 "metadata": {
  "kernelspec": {
   "display_name": "venv",
   "language": "python",
   "name": "python3"
  },
  "language_info": {
   "codemirror_mode": {
    "name": "ipython",
    "version": 3
   },
   "file_extension": ".py",
   "mimetype": "text/x-python",
   "name": "python",
   "nbconvert_exporter": "python",
   "pygments_lexer": "ipython3",
   "version": "3.11.9"
  }
 },
 "nbformat": 4,
 "nbformat_minor": 2
}
