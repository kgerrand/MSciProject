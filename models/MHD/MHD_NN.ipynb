{
 "cells": [
  {
   "cell_type": "markdown",
   "metadata": {},
   "source": [
    "# Neural Network Final Model - Mace Head, Ireland"
   ]
  },
  {
   "cell_type": "code",
   "execution_count": 1,
   "metadata": {},
   "outputs": [],
   "source": [
    "import pandas as pd\n",
    "import numpy as np\n",
    "from joblib import dump\n",
    "from pathlib import Path\n",
    "import matplotlib.pyplot as plt\n",
    "import seaborn as sns\n",
    "\n",
    "from sklearn.neural_network import MLPClassifier\n",
    "from sklearn.metrics import precision_score, recall_score, f1_score, accuracy_score\n",
    "\n",
    "import sys\n",
    "sys.path.append('../../')\n",
    "import config as cfg\n",
    "import functions as f\n",
    "\n",
    "data_path = Path.home()/'OneDrive'/'Kirstin'/'Uni'/'Year4'/'MSciProject'/'data_files'/'saved_files'"
   ]
  },
  {
   "cell_type": "code",
   "execution_count": 2,
   "metadata": {},
   "outputs": [
    {
     "name": "stdout",
     "output_type": "stream",
     "text": [
      "Creating a neural network model for \u001b[1mMace Head, Ireland\u001b[0;0m.\n"
     ]
    }
   ],
   "source": [
    "site = cfg.site\n",
    "site_name = cfg.site_dict[site]\n",
    "assert site == 'MHD', 'This script is only for Mace Head, Ireland. The site can be changed in the config file.'\n",
    "\n",
    "compound = cfg.compound\n",
    "\n",
    "print(f\"Creating a neural network model for \\033[1m{site_name}\\033[0;0m.\")"
   ]
  },
  {
   "cell_type": "markdown",
   "metadata": {},
   "source": [
    "### Loading & Initialising Data"
   ]
  },
  {
   "cell_type": "code",
   "execution_count": 3,
   "metadata": {},
   "outputs": [
    {
     "data": {
      "text/html": [
       "<div>\n",
       "<style scoped>\n",
       "    .dataframe tbody tr th:only-of-type {\n",
       "        vertical-align: middle;\n",
       "    }\n",
       "\n",
       "    .dataframe tbody tr th {\n",
       "        vertical-align: top;\n",
       "    }\n",
       "\n",
       "    .dataframe thead th {\n",
       "        text-align: right;\n",
       "    }\n",
       "</style>\n",
       "<table border=\"1\" class=\"dataframe\">\n",
       "  <thead>\n",
       "    <tr style=\"text-align: right;\">\n",
       "      <th></th>\n",
       "      <th>time</th>\n",
       "      <th>flag</th>\n",
       "      <th>u10_0</th>\n",
       "      <th>u10_1</th>\n",
       "      <th>u10_2</th>\n",
       "      <th>u10_3</th>\n",
       "      <th>u10_4</th>\n",
       "      <th>u10_5</th>\n",
       "      <th>u10_6</th>\n",
       "      <th>u10_7</th>\n",
       "      <th>...</th>\n",
       "      <th>v500_7_past</th>\n",
       "      <th>v500_8_past</th>\n",
       "      <th>v500_9_past</th>\n",
       "      <th>v500_10_past</th>\n",
       "      <th>v500_11_past</th>\n",
       "      <th>v500_12_past</th>\n",
       "      <th>v500_13_past</th>\n",
       "      <th>v500_14_past</th>\n",
       "      <th>v500_15_past</th>\n",
       "      <th>v500_16_past</th>\n",
       "    </tr>\n",
       "  </thead>\n",
       "  <tbody>\n",
       "    <tr>\n",
       "      <th>17917</th>\n",
       "      <td>2001-09-16 11:00:00</td>\n",
       "      <td>1.0</td>\n",
       "      <td>3.622591</td>\n",
       "      <td>6.594802</td>\n",
       "      <td>2.659961</td>\n",
       "      <td>5.838978</td>\n",
       "      <td>0.801790</td>\n",
       "      <td>-0.516594</td>\n",
       "      <td>-2.848693</td>\n",
       "      <td>3.029257</td>\n",
       "      <td>...</td>\n",
       "      <td>-12.375592</td>\n",
       "      <td>-22.152843</td>\n",
       "      <td>-21.291119</td>\n",
       "      <td>5.514544</td>\n",
       "      <td>-20.367432</td>\n",
       "      <td>-12.647943</td>\n",
       "      <td>-2.846195</td>\n",
       "      <td>6.727874</td>\n",
       "      <td>-3.566700</td>\n",
       "      <td>-11.296276</td>\n",
       "    </tr>\n",
       "    <tr>\n",
       "      <th>38136</th>\n",
       "      <td>2016-09-27 17:00:00</td>\n",
       "      <td>1.0</td>\n",
       "      <td>6.717131</td>\n",
       "      <td>17.483862</td>\n",
       "      <td>9.480547</td>\n",
       "      <td>3.155181</td>\n",
       "      <td>3.370862</td>\n",
       "      <td>5.267702</td>\n",
       "      <td>6.496315</td>\n",
       "      <td>8.983068</td>\n",
       "      <td>...</td>\n",
       "      <td>6.632273</td>\n",
       "      <td>8.140738</td>\n",
       "      <td>3.829052</td>\n",
       "      <td>15.033607</td>\n",
       "      <td>-14.522324</td>\n",
       "      <td>-19.511223</td>\n",
       "      <td>-13.056879</td>\n",
       "      <td>6.381093</td>\n",
       "      <td>8.527916</td>\n",
       "      <td>-3.976944</td>\n",
       "    </tr>\n",
       "    <tr>\n",
       "      <th>5518</th>\n",
       "      <td>1992-09-01 19:00:00</td>\n",
       "      <td>1.0</td>\n",
       "      <td>-6.342769</td>\n",
       "      <td>3.448785</td>\n",
       "      <td>5.601636</td>\n",
       "      <td>6.171244</td>\n",
       "      <td>7.159210</td>\n",
       "      <td>5.159688</td>\n",
       "      <td>10.333330</td>\n",
       "      <td>-2.112690</td>\n",
       "      <td>...</td>\n",
       "      <td>12.002295</td>\n",
       "      <td>3.138912</td>\n",
       "      <td>-5.812018</td>\n",
       "      <td>5.334636</td>\n",
       "      <td>-7.362439</td>\n",
       "      <td>-3.901526</td>\n",
       "      <td>0.172213</td>\n",
       "      <td>2.966643</td>\n",
       "      <td>-1.246888</td>\n",
       "      <td>-0.460382</td>\n",
       "    </tr>\n",
       "    <tr>\n",
       "      <th>8865</th>\n",
       "      <td>1994-12-29 11:00:00</td>\n",
       "      <td>1.0</td>\n",
       "      <td>10.681748</td>\n",
       "      <td>1.211512</td>\n",
       "      <td>1.787554</td>\n",
       "      <td>9.013522</td>\n",
       "      <td>12.342588</td>\n",
       "      <td>15.656063</td>\n",
       "      <td>16.442171</td>\n",
       "      <td>18.051315</td>\n",
       "      <td>...</td>\n",
       "      <td>17.115438</td>\n",
       "      <td>11.008887</td>\n",
       "      <td>4.727723</td>\n",
       "      <td>9.967792</td>\n",
       "      <td>24.108236</td>\n",
       "      <td>6.183939</td>\n",
       "      <td>15.321526</td>\n",
       "      <td>13.249219</td>\n",
       "      <td>5.068715</td>\n",
       "      <td>1.729632</td>\n",
       "    </tr>\n",
       "    <tr>\n",
       "      <th>29209</th>\n",
       "      <td>2010-01-29 05:00:00</td>\n",
       "      <td>1.0</td>\n",
       "      <td>3.881719</td>\n",
       "      <td>1.570517</td>\n",
       "      <td>2.090740</td>\n",
       "      <td>1.340206</td>\n",
       "      <td>12.529781</td>\n",
       "      <td>10.649768</td>\n",
       "      <td>5.724942</td>\n",
       "      <td>6.398951</td>\n",
       "      <td>...</td>\n",
       "      <td>-22.128950</td>\n",
       "      <td>-26.606415</td>\n",
       "      <td>-34.082733</td>\n",
       "      <td>-11.801642</td>\n",
       "      <td>-16.191538</td>\n",
       "      <td>-17.670149</td>\n",
       "      <td>-15.333082</td>\n",
       "      <td>-8.509937</td>\n",
       "      <td>-23.003197</td>\n",
       "      <td>-22.220825</td>\n",
       "    </tr>\n",
       "  </tbody>\n",
       "</table>\n",
       "<p>5 rows × 210 columns</p>\n",
       "</div>"
      ],
      "text/plain": [
       "                     time  flag      u10_0      u10_1     u10_2     u10_3  \\\n",
       "17917 2001-09-16 11:00:00   1.0   3.622591   6.594802  2.659961  5.838978   \n",
       "38136 2016-09-27 17:00:00   1.0   6.717131  17.483862  9.480547  3.155181   \n",
       "5518  1992-09-01 19:00:00   1.0  -6.342769   3.448785  5.601636  6.171244   \n",
       "8865  1994-12-29 11:00:00   1.0  10.681748   1.211512  1.787554  9.013522   \n",
       "29209 2010-01-29 05:00:00   1.0   3.881719   1.570517  2.090740  1.340206   \n",
       "\n",
       "           u10_4      u10_5      u10_6      u10_7  ...  v500_7_past  \\\n",
       "17917   0.801790  -0.516594  -2.848693   3.029257  ...   -12.375592   \n",
       "38136   3.370862   5.267702   6.496315   8.983068  ...     6.632273   \n",
       "5518    7.159210   5.159688  10.333330  -2.112690  ...    12.002295   \n",
       "8865   12.342588  15.656063  16.442171  18.051315  ...    17.115438   \n",
       "29209  12.529781  10.649768   5.724942   6.398951  ...   -22.128950   \n",
       "\n",
       "       v500_8_past  v500_9_past  v500_10_past  v500_11_past  v500_12_past  \\\n",
       "17917   -22.152843   -21.291119      5.514544    -20.367432    -12.647943   \n",
       "38136     8.140738     3.829052     15.033607    -14.522324    -19.511223   \n",
       "5518      3.138912    -5.812018      5.334636     -7.362439     -3.901526   \n",
       "8865     11.008887     4.727723      9.967792     24.108236      6.183939   \n",
       "29209   -26.606415   -34.082733    -11.801642    -16.191538    -17.670149   \n",
       "\n",
       "       v500_13_past  v500_14_past  v500_15_past  v500_16_past  \n",
       "17917     -2.846195      6.727874     -3.566700    -11.296276  \n",
       "38136    -13.056879      6.381093      8.527916     -3.976944  \n",
       "5518       0.172213      2.966643     -1.246888     -0.460382  \n",
       "8865      15.321526     13.249219      5.068715      1.729632  \n",
       "29209    -15.333082     -8.509937    -23.003197    -22.220825  \n",
       "\n",
       "[5 rows x 210 columns]"
      ]
     },
     "execution_count": 3,
     "metadata": {},
     "output_type": "execute_result"
    }
   ],
   "source": [
    "data = pd.read_csv(data_path/f'for_model_{compound}_{site}.csv', parse_dates=['time'])\n",
    "data.sample(5)"
   ]
  },
  {
   "cell_type": "code",
   "execution_count": 4,
   "metadata": {},
   "outputs": [
    {
     "name": "stdout",
     "output_type": "stream",
     "text": [
      "Train range: 2018-01-01 01:00:00 -> 2018-12-31 19:00:00. Length: 1344\n",
      "Val range: 2019-01-03 07:00:00 -> 2019-12-30 11:00:00. Length: 1053\n",
      "Test range: 2020-01-01 01:00:00 -> 2023-12-31 23:00:00. Length: 5124\n"
     ]
    }
   ],
   "source": [
    "train_data = data[(data['time'].dt.year >= 2018) & (data['time'].dt.year <= 2018)]\n",
    "val_data = data[(data['time'].dt.year >= 2019) & (data['time'].dt.year <= 2019)]\n",
    "test_data = data[(data['time'].dt.year >= 2020) & (data['time'].dt.year <= 2023)]\n",
    "\n",
    "\n",
    "print(f\"Train range: {train_data['time'].min()} -> {train_data['time'].max()}. Length: {len(train_data)}\")\n",
    "print(f\"Val range: {val_data['time'].min()} -> {val_data['time'].max()}. Length: {len(val_data)}\")\n",
    "print(f\"Test range: {test_data['time'].min()} -> {test_data['time'].max()}. Length: {len(test_data)}\")\n",
    "\n",
    "\n",
    "# Drop the \"time\" column as it won't be used in the model\n",
    "train_data = train_data.drop(columns=['time'])\n",
    "val_data = val_data.drop(columns=['time'])\n",
    "test_data = test_data.drop(columns=['time'])\n",
    "\n",
    "# Define the features (X) and the target (y)\n",
    "X_train = train_data.drop(columns=['flag'])\n",
    "y_train = train_data['flag']\n",
    "X_val = val_data.drop(columns=['flag'])\n",
    "y_val = val_data['flag']\n",
    "X_test = test_data.drop(columns=['flag'])\n",
    "y_test = test_data['flag']\n",
    "\n",
    "# Balanced Data - removing NaN values and associated data\n",
    "y_train = y_train.dropna()\n",
    "y_val = y_val.dropna()\n",
    "y_test = y_test.dropna()\n",
    "\n",
    "# aligning indices of features sets\n",
    "X_train = X_train.loc[y_train.index]\n",
    "X_val = X_val.loc[y_val.index]\n",
    "X_test = X_test.loc[y_test.index]"
   ]
  },
  {
   "cell_type": "markdown",
   "metadata": {},
   "source": [
    "### Model"
   ]
  },
  {
   "cell_type": "code",
   "execution_count": 5,
   "metadata": {},
   "outputs": [
    {
     "name": "stdout",
     "output_type": "stream",
     "text": [
      "Precision on Training Set = 0.949\n",
      "Precision on Validation Set = 0.921\n",
      "Recall on Training Set = 0.697\n",
      "Recall on Validation Set = 0.659\n",
      "F1 Score on Training Set = 0.804\n",
      "F1 Score on Validation Set = 0.768\n",
      "Misclassification Rate on Training Set = 0.276\n",
      "Misclassification Rate on Validation Set = 0.288\n"
     ]
    }
   ],
   "source": [
    "nn_model = MLPClassifier(random_state=42,\n",
    "                         max_iter=1000, \n",
    "                         hidden_layer_sizes=(200,150,), \n",
    "                         shuffle=False,\n",
    "                         activation='relu', \n",
    "                         solver='adam', \n",
    "                         alpha=0.05, \n",
    "                         learning_rate='constant', \n",
    "                         batch_size=100, \n",
    "                         early_stopping=True,\n",
    "                         learning_rate_init=0.01,\n",
    "                         beta_2=0.9,)\n",
    "\n",
    "nn_model.fit(X_train, y_train)\n",
    "\n",
    "class_probabilities_val = nn_model.predict_proba(X_val)\n",
    "class_probabilities_train = nn_model.predict_proba(X_train)\n",
    "\n",
    "confidence_threshold = cfg.confidence_threshold\n",
    "\n",
    "y_pred_val = (class_probabilities_val[:,1] > confidence_threshold).astype(int)\n",
    "y_pred_train = (class_probabilities_train[:,1] > confidence_threshold).astype(int)\n",
    "\n",
    "precision_val = precision_score(y_val, y_pred_val)\n",
    "precision_train = precision_score(y_train, y_pred_train)\n",
    "recall_val = recall_score(y_val, y_pred_val)\n",
    "recall_train = recall_score(y_train, y_pred_train)\n",
    "f1_val = f1_score(y_val, y_pred_val)\n",
    "f1_train = f1_score(y_train, y_pred_train)\n",
    "misclassification_rate_val = 1 - accuracy_score(y_val, y_pred_val)\n",
    "misclassification_rate_train = 1 - accuracy_score(y_train, y_pred_train)\n",
    "\n",
    "\n",
    "print(f\"Precision on Training Set = {precision_train:.3f}\")\n",
    "print(f\"Precision on Validation Set = {precision_val:.3f}\")\n",
    "print(f\"Recall on Training Set = {recall_train:.3f}\")\n",
    "print(f\"Recall on Validation Set = {recall_val:.3f}\")\n",
    "print(f\"F1 Score on Training Set = {f1_train:.3f}\")\n",
    "print(f\"F1 Score on Validation Set = {f1_val:.3f}\")\n",
    "print(f\"Misclassification Rate on Training Set = {misclassification_rate_train:.3f}\")\n",
    "print(f\"Misclassification Rate on Validation Set = {misclassification_rate_val:.3f}\")"
   ]
  },
  {
   "cell_type": "code",
   "execution_count": 7,
   "metadata": {},
   "outputs": [
    {
     "name": "stdout",
     "output_type": "stream",
     "text": [
      "Precision on Testing Set = 0.943\n",
      "Recall on Testing Set = 0.670\n",
      "F1 Score on Testing Set = 0.784\n",
      "Misclassification Rate on Testing Set = 0.290\n"
     ]
    }
   ],
   "source": [
    "class_probabilities_test = nn_model.predict_proba(X_test)\n",
    "\n",
    "y_pred_test = (class_probabilities_test[:,1] > confidence_threshold).astype(int)\n",
    "\n",
    "precision_test = precision_score(y_test, y_pred_test)\n",
    "recall_test = recall_score(y_test, y_pred_test)\n",
    "f1_test = f1_score(y_test, y_pred_test)\n",
    "misclassification_rate_test = 1 - accuracy_score(y_test, y_pred_test)\n",
    "\n",
    "print(f\"Precision on Testing Set = {precision_test:.3f}\")\n",
    "print(f\"Recall on Testing Set = {recall_test:.3f}\")\n",
    "print(f\"F1 Score on Testing Set = {f1_test:.3f}\")\n",
    "print(f\"Misclassification Rate on Testing Set = {misclassification_rate_test:.3f}\")"
   ]
  },
  {
   "cell_type": "code",
   "execution_count": 10,
   "metadata": {},
   "outputs": [
    {
     "data": {
      "text/plain": [
       "['../model_files/nn_model_MHD.joblib']"
      ]
     },
     "execution_count": 10,
     "metadata": {},
     "output_type": "execute_result"
    }
   ],
   "source": [
    "# saving the model\n",
    "dump(nn_model, data_path/f'nn_model_{site}.joblib')\n",
    "dump(nn_model, f'../model_files/nn_model_{site}.joblib')"
   ]
  },
  {
   "cell_type": "markdown",
   "metadata": {},
   "source": [
    "### Confusion Matrix"
   ]
  },
  {
   "cell_type": "code",
   "execution_count": 11,
   "metadata": {},
   "outputs": [
    {
     "data": {
      "text/plain": [
       "Text(0.5, 1.0, 'Mace Head, Ireland')"
      ]
     },
     "execution_count": 11,
     "metadata": {},
     "output_type": "execute_result"
    },
    {
     "data": {
      "image/png": "[encoded data removed]",
      "text/plain": [
       "<Figure size 600x600 with 2 Axes>"
      ]
     },
     "metadata": {},
     "output_type": "display_data"
    }
   ],
   "source": [
    "# creating a confusion matrix\n",
    "conf_matrix = pd.crosstab(y_test, y_pred_test, rownames=['Actual'], colnames=['Predicted'])\n",
    "\n",
    "conf_matrix.columns = ['Non-Baseline', 'Baseline']\n",
    "conf_matrix.index = ['Non-Baseline', 'Baseline']\n",
    "\n",
    "fig, ax = plt.subplots(figsize=(6, 6))\n",
    "\n",
    "sns.heatmap(conf_matrix, annot=True, fmt='d', cmap='BuPu', cbar=True, ax=ax)\n",
    "\n",
    "ax.set_xlabel('Predicted')\n",
    "ax.set_ylabel('Actual')\n",
    "\n",
    "ax.set_title(f'{site_name}')"
   ]
  },
  {
   "cell_type": "markdown",
   "metadata": {},
   "source": [
    "### Assessing Feature Importance"
   ]
  },
  {
   "cell_type": "code",
   "execution_count": 12,
   "metadata": {},
   "outputs": [],
   "source": [
    "# grouping features by category i.e. x-wind, y-wind, temporal etc.\n",
    "u_features = [col for col in data.columns if 'u' in col]\n",
    "v_features = [col for col in data.columns if 'v' in col]\n",
    "temporal_features = ['day_of_year', 'time_of_day']\n",
    "sp = ['sp']\n",
    "blh = ['blh']\n",
    "\n",
    "groups = [u_features, v_features, temporal_features, sp, blh]"
   ]
  },
  {
   "cell_type": "code",
   "execution_count": 13,
   "metadata": {},
   "outputs": [],
   "source": [
    "original_score = accuracy_score(y_train, nn_model.predict(X_train))\n",
    "importances = {}\n",
    "\n",
    "for group in groups:\n",
    "    scores_diff = []\n",
    "    for _ in range(100):\n",
    "        X_train_permuted = f.permute_group(X_train, group)\n",
    "        \n",
    "        permuted_score = accuracy_score(y_train, nn_model.predict(X_train_permuted))\n",
    "        scores_diff.append(original_score - permuted_score)\n",
    "    \n",
    "    importances[str(group)] = np.mean(scores_diff)\n",
    "\n",
    "# Sort groups by importance\n",
    "sorted_importances = sorted(importances.items(), key=lambda x: x[1], reverse=False)"
   ]
  },
  {
   "cell_type": "code",
   "execution_count": 14,
   "metadata": {},
   "outputs": [],
   "source": [
    "# matching the group names to the sorted importances\n",
    "n = len(groups)\n",
    "group_names_sorted = []\n",
    "\n",
    "for i in range(n):\n",
    "    name = sorted_importances[i][0]\n",
    "\n",
    "    if 'u10_0' in name:\n",
    "        group_names_sorted.append('u-wind')\n",
    "\n",
    "    elif 'v10_0' in name:\n",
    "        group_names_sorted.append('v-wind')\n",
    "\n",
    "    elif 'day_of_year' in name:\n",
    "        group_names_sorted.append('temporal')\n",
    "\n",
    "    elif 'sp' in name:\n",
    "        group_names_sorted.append('sp')\n",
    "\n",
    "    elif 'blh' in name:\n",
    "        group_names_sorted.append('blh')"
   ]
  },
  {
   "cell_type": "code",
   "execution_count": 15,
   "metadata": {},
   "outputs": [
    {
     "data": {
      "text/plain": [
       "Text(0, 0.5, 'Feature Group')"
      ]
     },
     "execution_count": 15,
     "metadata": {},
     "output_type": "execute_result"
    },
    {
     "data": {
      "image/png": "[encoded data removed]",
      "text/plain": [
       "<Figure size 1200x800 with 1 Axes>"
      ]
     },
     "metadata": {},
     "output_type": "display_data"
    }
   ],
   "source": [
    "# Plotting the importances of the groups\n",
    "fig, ax = plt.subplots(figsize=(12, 8))\n",
    "sns.set_theme(style='ticks', font='Arial')\n",
    "\n",
    "ax.barh(group_names_sorted, [importance for _, importance in sorted_importances], color='#FF620E')\n",
    "\n",
    "ax.set_xlabel('Importance', fontsize=12, fontstyle='italic')\n",
    "ax.set_ylabel('Feature Group', fontsize=12, fontstyle='italic')\n",
    "# ax.set_title('Permutation Importances', fontsize=14)"
   ]
  }
 ],
 "metadata": {
  "kernelspec": {
   "display_name": "venv",
   "language": "python",
   "name": "python3"
  },
  "language_info": {
   "codemirror_mode": {
    "name": "ipython",
    "version": 3
   },
   "file_extension": ".py",
   "mimetype": "text/x-python",
   "name": "python",
   "nbconvert_exporter": "python",
   "pygments_lexer": "ipython3",
   "version": "3.11.9"
  }
 },
 "nbformat": 4,
 "nbformat_minor": 2
}
