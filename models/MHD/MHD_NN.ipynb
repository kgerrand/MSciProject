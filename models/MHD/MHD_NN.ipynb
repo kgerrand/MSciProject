{
 "cells": [
  {
   "cell_type": "markdown",
   "metadata": {},
   "source": [
    "# Neural Network Final Model - Mace Head, Ireland"
   ]
  },
  {
   "cell_type": "code",
   "execution_count": 1,
   "metadata": {},
   "outputs": [],
   "source": [
    "import pandas as pd\n",
    "from joblib import dump\n",
    "from pathlib import Path\n",
    "import matplotlib.pyplot as plt\n",
    "import seaborn as sns\n",
    "\n",
    "from sklearn.neural_network import MLPClassifier\n",
    "from sklearn.metrics import precision_score, recall_score, f1_score\n",
    "from sklearn.inspection import permutation_importance\n",
    "\n",
    "import sys\n",
    "sys.path.append('../../')\n",
    "import config\n",
    "\n",
    "data_path = Path.home()/'OneDrive'/'Kirstin'/'Uni'/'Year4'/'MSciProject'/'data_files'/'saved_files'"
   ]
  },
  {
   "cell_type": "code",
   "execution_count": 2,
   "metadata": {},
   "outputs": [
    {
     "name": "stdout",
     "output_type": "stream",
     "text": [
      "Creating a neural network model for \u001b[1mMace Head, Ireland\u001b[0;0m.\n"
     ]
    }
   ],
   "source": [
    "site = config.site\n",
    "site_name = config.site_dict[site]\n",
    "assert site == 'MHD', 'This script is only for Mace Head, Ireland. The site can be changed in the config file.'\n",
    "\n",
    "compound = config.compound\n",
    "\n",
    "print(f\"Creating a neural network model for \\033[1m{site_name}\\033[0;0m.\")"
   ]
  },
  {
   "cell_type": "markdown",
   "metadata": {},
   "source": [
    "### Loading & Initialising Data"
   ]
  },
  {
   "cell_type": "code",
   "execution_count": 3,
   "metadata": {},
   "outputs": [
    {
     "data": {
      "text/html": [
       "<div>\n",
       "<style scoped>\n",
       "    .dataframe tbody tr th:only-of-type {\n",
       "        vertical-align: middle;\n",
       "    }\n",
       "\n",
       "    .dataframe tbody tr th {\n",
       "        vertical-align: top;\n",
       "    }\n",
       "\n",
       "    .dataframe thead th {\n",
       "        text-align: right;\n",
       "    }\n",
       "</style>\n",
       "<table border=\"1\" class=\"dataframe\">\n",
       "  <thead>\n",
       "    <tr style=\"text-align: right;\">\n",
       "      <th></th>\n",
       "      <th>time</th>\n",
       "      <th>flag</th>\n",
       "      <th>u10_0</th>\n",
       "      <th>u10_1</th>\n",
       "      <th>u10_2</th>\n",
       "      <th>u10_3</th>\n",
       "      <th>u10_4</th>\n",
       "      <th>u10_5</th>\n",
       "      <th>u10_6</th>\n",
       "      <th>u10_7</th>\n",
       "      <th>...</th>\n",
       "      <th>v500_7_past</th>\n",
       "      <th>v500_8_past</th>\n",
       "      <th>v500_9_past</th>\n",
       "      <th>v500_10_past</th>\n",
       "      <th>v500_11_past</th>\n",
       "      <th>v500_12_past</th>\n",
       "      <th>v500_13_past</th>\n",
       "      <th>v500_14_past</th>\n",
       "      <th>v500_15_past</th>\n",
       "      <th>v500_16_past</th>\n",
       "    </tr>\n",
       "  </thead>\n",
       "  <tbody>\n",
       "    <tr>\n",
       "      <th>5372</th>\n",
       "      <td>1992-08-11 01:00:00</td>\n",
       "      <td>1.0</td>\n",
       "      <td>4.708369</td>\n",
       "      <td>2.205256</td>\n",
       "      <td>-0.658148</td>\n",
       "      <td>2.885019</td>\n",
       "      <td>5.998676</td>\n",
       "      <td>9.740624</td>\n",
       "      <td>10.836882</td>\n",
       "      <td>6.794395</td>\n",
       "      <td>...</td>\n",
       "      <td>9.608852</td>\n",
       "      <td>17.836010</td>\n",
       "      <td>-1.664407</td>\n",
       "      <td>6.634213</td>\n",
       "      <td>0.405782</td>\n",
       "      <td>3.431785</td>\n",
       "      <td>-4.107542</td>\n",
       "      <td>-0.677327</td>\n",
       "      <td>-5.613844</td>\n",
       "      <td>1.924367</td>\n",
       "    </tr>\n",
       "    <tr>\n",
       "      <th>12405</th>\n",
       "      <td>1997-12-12 21:00:00</td>\n",
       "      <td>1.0</td>\n",
       "      <td>5.689755</td>\n",
       "      <td>11.389117</td>\n",
       "      <td>5.872931</td>\n",
       "      <td>6.661073</td>\n",
       "      <td>0.846822</td>\n",
       "      <td>-0.335792</td>\n",
       "      <td>-1.585088</td>\n",
       "      <td>6.779977</td>\n",
       "      <td>...</td>\n",
       "      <td>1.838327</td>\n",
       "      <td>4.902772</td>\n",
       "      <td>22.757841</td>\n",
       "      <td>7.705098</td>\n",
       "      <td>-9.412208</td>\n",
       "      <td>-10.845031</td>\n",
       "      <td>-19.084133</td>\n",
       "      <td>15.695334</td>\n",
       "      <td>9.710756</td>\n",
       "      <td>-7.997055</td>\n",
       "    </tr>\n",
       "    <tr>\n",
       "      <th>46044</th>\n",
       "      <td>2022-11-15 09:00:00</td>\n",
       "      <td>1.0</td>\n",
       "      <td>-0.393576</td>\n",
       "      <td>-0.239877</td>\n",
       "      <td>-6.909859</td>\n",
       "      <td>10.116763</td>\n",
       "      <td>2.472879</td>\n",
       "      <td>13.260161</td>\n",
       "      <td>15.649937</td>\n",
       "      <td>5.468953</td>\n",
       "      <td>...</td>\n",
       "      <td>8.754684</td>\n",
       "      <td>14.145430</td>\n",
       "      <td>25.729397</td>\n",
       "      <td>17.169660</td>\n",
       "      <td>6.998679</td>\n",
       "      <td>0.486040</td>\n",
       "      <td>11.245504</td>\n",
       "      <td>-20.357864</td>\n",
       "      <td>3.979168</td>\n",
       "      <td>11.948851</td>\n",
       "    </tr>\n",
       "    <tr>\n",
       "      <th>41106</th>\n",
       "      <td>2018-12-16 09:00:00</td>\n",
       "      <td>1.0</td>\n",
       "      <td>3.221292</td>\n",
       "      <td>4.514288</td>\n",
       "      <td>7.274171</td>\n",
       "      <td>3.680190</td>\n",
       "      <td>5.215623</td>\n",
       "      <td>13.071729</td>\n",
       "      <td>13.038538</td>\n",
       "      <td>11.767909</td>\n",
       "      <td>...</td>\n",
       "      <td>7.516555</td>\n",
       "      <td>9.561571</td>\n",
       "      <td>20.078308</td>\n",
       "      <td>7.559196</td>\n",
       "      <td>7.983890</td>\n",
       "      <td>6.402798</td>\n",
       "      <td>17.593246</td>\n",
       "      <td>-7.649649</td>\n",
       "      <td>1.528190</td>\n",
       "      <td>13.417934</td>\n",
       "    </tr>\n",
       "    <tr>\n",
       "      <th>27310</th>\n",
       "      <td>2008-07-02 09:00:00</td>\n",
       "      <td>1.0</td>\n",
       "      <td>4.232874</td>\n",
       "      <td>-0.317127</td>\n",
       "      <td>-1.532228</td>\n",
       "      <td>0.506291</td>\n",
       "      <td>3.633275</td>\n",
       "      <td>7.156066</td>\n",
       "      <td>8.557289</td>\n",
       "      <td>10.352552</td>\n",
       "      <td>...</td>\n",
       "      <td>8.406284</td>\n",
       "      <td>10.912675</td>\n",
       "      <td>30.053118</td>\n",
       "      <td>14.549603</td>\n",
       "      <td>29.206083</td>\n",
       "      <td>3.900336</td>\n",
       "      <td>6.157939</td>\n",
       "      <td>-15.355822</td>\n",
       "      <td>-3.697520</td>\n",
       "      <td>14.086741</td>\n",
       "    </tr>\n",
       "  </tbody>\n",
       "</table>\n",
       "<p>5 rows × 210 columns</p>\n",
       "</div>"
      ],
      "text/plain": [
       "                     time  flag     u10_0      u10_1     u10_2      u10_3  \\\n",
       "5372  1992-08-11 01:00:00   1.0  4.708369   2.205256 -0.658148   2.885019   \n",
       "12405 1997-12-12 21:00:00   1.0  5.689755  11.389117  5.872931   6.661073   \n",
       "46044 2022-11-15 09:00:00   1.0 -0.393576  -0.239877 -6.909859  10.116763   \n",
       "41106 2018-12-16 09:00:00   1.0  3.221292   4.514288  7.274171   3.680190   \n",
       "27310 2008-07-02 09:00:00   1.0  4.232874  -0.317127 -1.532228   0.506291   \n",
       "\n",
       "          u10_4      u10_5      u10_6      u10_7  ...  v500_7_past  \\\n",
       "5372   5.998676   9.740624  10.836882   6.794395  ...     9.608852   \n",
       "12405  0.846822  -0.335792  -1.585088   6.779977  ...     1.838327   \n",
       "46044  2.472879  13.260161  15.649937   5.468953  ...     8.754684   \n",
       "41106  5.215623  13.071729  13.038538  11.767909  ...     7.516555   \n",
       "27310  3.633275   7.156066   8.557289  10.352552  ...     8.406284   \n",
       "\n",
       "       v500_8_past  v500_9_past  v500_10_past  v500_11_past  v500_12_past  \\\n",
       "5372     17.836010    -1.664407      6.634213      0.405782      3.431785   \n",
       "12405     4.902772    22.757841      7.705098     -9.412208    -10.845031   \n",
       "46044    14.145430    25.729397     17.169660      6.998679      0.486040   \n",
       "41106     9.561571    20.078308      7.559196      7.983890      6.402798   \n",
       "27310    10.912675    30.053118     14.549603     29.206083      3.900336   \n",
       "\n",
       "       v500_13_past  v500_14_past  v500_15_past  v500_16_past  \n",
       "5372      -4.107542     -0.677327     -5.613844      1.924367  \n",
       "12405    -19.084133     15.695334      9.710756     -7.997055  \n",
       "46044     11.245504    -20.357864      3.979168     11.948851  \n",
       "41106     17.593246     -7.649649      1.528190     13.417934  \n",
       "27310      6.157939    -15.355822     -3.697520     14.086741  \n",
       "\n",
       "[5 rows x 210 columns]"
      ]
     },
     "execution_count": 3,
     "metadata": {},
     "output_type": "execute_result"
    }
   ],
   "source": [
    "data = pd.read_csv(data_path/f'for_model_{compound}_{site}.csv', parse_dates=['time'])\n",
    "data.sample(5)"
   ]
  },
  {
   "cell_type": "code",
   "execution_count": 4,
   "metadata": {},
   "outputs": [
    {
     "name": "stdout",
     "output_type": "stream",
     "text": [
      "Train range: 2014-01-01 03:00:00 -> 2018-12-31 01:00:00. Length: 6851\n",
      "Val range: 2019-01-04 05:00:00 -> 2019-12-30 13:00:00. Length: 1067\n",
      "Test range: 2020-01-02 17:00:00 -> 2022-12-31 19:00:00. Length: 3985\n"
     ]
    }
   ],
   "source": [
    "train_data = data[(data['time'].dt.year >= 2014) & (data['time'].dt.year <= 2018)]\n",
    "val_data = data[(data['time'].dt.year >= 2019) & (data['time'].dt.year <= 2019)]\n",
    "test_data = data[(data['time'].dt.year >= 2020) & (data['time'].dt.year <= 2023)]\n",
    "\n",
    "print(f\"Train range: {train_data['time'].min()} -> {train_data['time'].max()}. Length: {len(train_data)}\")\n",
    "print(f\"Val range: {val_data['time'].min()} -> {val_data['time'].max()}. Length: {len(val_data)}\")\n",
    "print(f\"Test range: {test_data['time'].min()} -> {test_data['time'].max()}. Length: {len(test_data)}\")\n",
    "\n",
    "\n",
    "# Drop the \"time\" column as it won't be used in the model\n",
    "train_data = train_data.drop(columns=['time'])\n",
    "val_data = val_data.drop(columns=['time'])\n",
    "test_data = test_data.drop(columns=['time'])\n",
    "\n",
    "# Define the features (X) and the target (y)\n",
    "X_train = train_data.drop(columns=['flag'])\n",
    "y_train = train_data['flag']\n",
    "X_val = val_data.drop(columns=['flag'])\n",
    "y_val = val_data['flag']\n",
    "X_test = test_data.drop(columns=['flag'])\n",
    "y_test = test_data['flag']\n",
    "\n",
    "# Balanced Data - removing NaN values and associated data\n",
    "y_train = y_train.dropna()\n",
    "y_val = y_val.dropna()\n",
    "y_test = y_test.dropna()\n",
    "\n",
    "# aligning indices of features sets\n",
    "X_train = X_train.loc[y_train.index]\n",
    "X_val = X_val.loc[y_val.index]\n",
    "X_test = X_test.loc[y_test.index]"
   ]
  },
  {
   "cell_type": "markdown",
   "metadata": {},
   "source": [
    "### Model"
   ]
  },
  {
   "cell_type": "code",
   "execution_count": 5,
   "metadata": {},
   "outputs": [
    {
     "name": "stdout",
     "output_type": "stream",
     "text": [
      "Precision on Training Set = 0.879\n",
      "Precision on Validation Set = 0.825\n",
      "Recall on Training Set = 0.968\n",
      "Recall on Validation Set = 0.962\n",
      "F1 Score on Training Set = 0.922\n",
      "F1 Score on Validation Set = 0.888\n"
     ]
    }
   ],
   "source": [
    "nn_model = MLPClassifier(random_state=42,\n",
    "                         max_iter=1000, \n",
    "                         hidden_layer_sizes=(100,), \n",
    "                         shuffle=False,\n",
    "                         activation='relu', \n",
    "                         solver='adam', \n",
    "                         alpha=0.05, \n",
    "                         learning_rate='constant', \n",
    "                         batch_size=100, \n",
    "                         early_stopping=True,\n",
    "                         learning_rate_init=0.001,\n",
    "                         beta_2=0.9,)\n",
    "\n",
    "nn_model.fit(X_train, y_train)\n",
    "\n",
    "y_pred_val = nn_model.predict(X_val)\n",
    "y_pred_train = nn_model.predict(X_train)\n",
    "\n",
    "\n",
    "precision_val = precision_score(y_val, y_pred_val)\n",
    "precision_train = precision_score(y_train, y_pred_train)\n",
    "recall_val = recall_score(y_val, y_pred_val)\n",
    "recall_train = recall_score(y_train, y_pred_train)\n",
    "f1_val = f1_score(y_val, y_pred_val)\n",
    "f1_train = f1_score(y_train, y_pred_train)\n",
    "\n",
    "print(f\"Precision on Training Set = {precision_train:.3f}\")\n",
    "print(f\"Precision on Validation Set = {precision_val:.3f}\")\n",
    "print(f\"Recall on Training Set = {recall_train:.3f}\")\n",
    "print(f\"Recall on Validation Set = {recall_val:.3f}\")\n",
    "print(f\"F1 Score on Training Set = {f1_train:.3f}\")\n",
    "print(f\"F1 Score on Validation Set = {f1_val:.3f}\")"
   ]
  },
  {
   "cell_type": "code",
   "execution_count": 6,
   "metadata": {},
   "outputs": [
    {
     "name": "stdout",
     "output_type": "stream",
     "text": [
      "Precision on Testing Set = 0.878\n",
      "Recall on Testing Set = 0.972\n",
      "F1 Score on Testing Set = 0.923\n"
     ]
    }
   ],
   "source": [
    "# evaluating model on test set\n",
    "\n",
    "y_pred_test = nn_model.predict(X_test)\n",
    "\n",
    "precision_test = precision_score(y_test, y_pred_test)\n",
    "recall_test = recall_score(y_test, y_pred_test)\n",
    "f1_test = f1_score(y_test, y_pred_test)\n",
    "\n",
    "print(f\"Precision on Testing Set = {precision_test:.3f}\")\n",
    "print(f\"Recall on Testing Set = {recall_test:.3f}\")\n",
    "print(f\"F1 Score on Testing Set = {f1_test:.3f}\")"
   ]
  },
  {
   "cell_type": "code",
   "execution_count": 7,
   "metadata": {},
   "outputs": [
    {
     "data": {
      "text/plain": [
       "['C:\\\\Users\\\\kirst\\\\OneDrive\\\\Kirstin\\\\Uni\\\\Year4\\\\MSciProject\\\\data_files\\\\saved_files\\\\nn_model_MHD.joblib']"
      ]
     },
     "execution_count": 7,
     "metadata": {},
     "output_type": "execute_result"
    }
   ],
   "source": [
    "# saving the model\n",
    "dump(nn_model, data_path/f'nn_model_{site}.joblib')"
   ]
  },
  {
   "cell_type": "markdown",
   "metadata": {},
   "source": [
    "### Assessing Feature Importance"
   ]
  },
  {
   "cell_type": "code",
   "execution_count": 8,
   "metadata": {},
   "outputs": [],
   "source": [
    "# finding most important features in the model using permutation importance\n",
    "# using the testing set\n",
    "perm_importance = permutation_importance(nn_model, X_train, y_train, n_repeats=30, random_state=42)\n",
    "sorted_importances = perm_importance.importances_mean.argsort()"
   ]
  },
  {
   "cell_type": "code",
   "execution_count": 16,
   "metadata": {},
   "outputs": [
    {
     "data": {
      "text/plain": [
       "Text(0.5, 0, 'Permutation Importance')"
      ]
     },
     "execution_count": 16,
     "metadata": {},
     "output_type": "execute_result"
    },
    {
     "data": {
      "image/png": "[encoded data removed]",
      "text/plain": [
       "<Figure size 1200x1200 with 1 Axes>"
      ]
     },
     "metadata": {},
     "output_type": "display_data"
    }
   ],
   "source": [
    "# plotting first 20 most important features in a histogram\n",
    "\n",
    "fig, ax = plt.subplots(figsize=(12, 12))\n",
    "sns.set_theme(style='ticks', font='Arial')\n",
    "\n",
    "ax.barh(X_val.columns[sorted_importances][-20:], perm_importance.importances_mean[sorted_importances][-20:], color='#FF620E')\n",
    "\n",
    "ax.set_xscale('log')\n",
    "\n",
    "ax.set_ylabel('Features', fontsize=12, fontstyle='italic')\n",
    "ax.set_xlabel('Permutation Importance', fontsize=12, fontstyle='italic')\n",
    "# ax.set_title('Permutation Importance (Testing Set)', fontsize=14)"
   ]
  }
 ],
 "metadata": {
  "kernelspec": {
   "display_name": "venv",
   "language": "python",
   "name": "python3"
  },
  "language_info": {
   "codemirror_mode": {
    "name": "ipython",
    "version": 3
   },
   "file_extension": ".py",
   "mimetype": "text/x-python",
   "name": "python",
   "nbconvert_exporter": "python",
   "pygments_lexer": "ipython3",
   "version": "3.11.5"
  }
 },
 "nbformat": 4,
 "nbformat_minor": 2
}
