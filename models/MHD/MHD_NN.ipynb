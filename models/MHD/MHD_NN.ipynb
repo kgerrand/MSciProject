{
 "cells": [
  {
   "cell_type": "markdown",
   "metadata": {},
   "source": [
    "# Neural Network Final Model - Mace Head, Ireland"
   ]
  },
  {
   "cell_type": "code",
   "execution_count": 1,
   "metadata": {},
   "outputs": [],
   "source": [
    "import pandas as pd\n",
    "from joblib import dump\n",
    "from pathlib import Path\n",
    "import matplotlib.pyplot as plt\n",
    "import seaborn as sns\n",
    "\n",
    "from sklearn.neural_network import MLPClassifier\n",
    "from sklearn.metrics import precision_score, recall_score, f1_score\n",
    "from sklearn.inspection import permutation_importance\n",
    "\n",
    "import sys\n",
    "sys.path.append('../../')\n",
    "import config\n",
    "\n",
    "data_path = Path.home()/'OneDrive'/'Kirstin'/'Uni'/'Year4'/'MSciProject'/'data_files'/'saved_files'"
   ]
  },
  {
   "cell_type": "code",
   "execution_count": 2,
   "metadata": {},
   "outputs": [
    {
     "name": "stdout",
     "output_type": "stream",
     "text": [
      "Creating a neural network model for \u001b[1mMace Head, Ireland\u001b[0;0m.\n"
     ]
    }
   ],
   "source": [
    "site = config.site\n",
    "site_name = config.site_dict[site]\n",
    "assert site == 'MHD', 'This script is only for Mace Head, Ireland. The site can be changed in the config file.'\n",
    "\n",
    "compound = config.compound\n",
    "\n",
    "print(f\"Creating a neural network model for \\033[1m{site_name}\\033[0;0m.\")"
   ]
  },
  {
   "cell_type": "markdown",
   "metadata": {},
   "source": [
    "### Loading & Initialising Data"
   ]
  },
  {
   "cell_type": "code",
   "execution_count": 3,
   "metadata": {},
   "outputs": [
    {
     "data": {
      "text/html": [
       "<div>\n",
       "<style scoped>\n",
       "    .dataframe tbody tr th:only-of-type {\n",
       "        vertical-align: middle;\n",
       "    }\n",
       "\n",
       "    .dataframe tbody tr th {\n",
       "        vertical-align: top;\n",
       "    }\n",
       "\n",
       "    .dataframe thead th {\n",
       "        text-align: right;\n",
       "    }\n",
       "</style>\n",
       "<table border=\"1\" class=\"dataframe\">\n",
       "  <thead>\n",
       "    <tr style=\"text-align: right;\">\n",
       "      <th></th>\n",
       "      <th>time</th>\n",
       "      <th>flag</th>\n",
       "      <th>u10_0</th>\n",
       "      <th>u10_1</th>\n",
       "      <th>u10_2</th>\n",
       "      <th>u10_3</th>\n",
       "      <th>u10_4</th>\n",
       "      <th>u10_5</th>\n",
       "      <th>u10_6</th>\n",
       "      <th>u10_7</th>\n",
       "      <th>...</th>\n",
       "      <th>v500_7_past</th>\n",
       "      <th>v500_8_past</th>\n",
       "      <th>v500_9_past</th>\n",
       "      <th>v500_10_past</th>\n",
       "      <th>v500_11_past</th>\n",
       "      <th>v500_12_past</th>\n",
       "      <th>v500_13_past</th>\n",
       "      <th>v500_14_past</th>\n",
       "      <th>v500_15_past</th>\n",
       "      <th>v500_16_past</th>\n",
       "    </tr>\n",
       "  </thead>\n",
       "  <tbody>\n",
       "    <tr>\n",
       "      <th>11503</th>\n",
       "      <td>1997-02-11 05:00:00</td>\n",
       "      <td>1.0</td>\n",
       "      <td>6.830777</td>\n",
       "      <td>15.692579</td>\n",
       "      <td>8.839367</td>\n",
       "      <td>8.202379</td>\n",
       "      <td>5.982528</td>\n",
       "      <td>4.433272</td>\n",
       "      <td>12.898159</td>\n",
       "      <td>7.564592</td>\n",
       "      <td>...</td>\n",
       "      <td>-6.853314</td>\n",
       "      <td>0.422875</td>\n",
       "      <td>2.694627</td>\n",
       "      <td>11.014505</td>\n",
       "      <td>-10.282343</td>\n",
       "      <td>-7.139753</td>\n",
       "      <td>-6.438473</td>\n",
       "      <td>1.313468</td>\n",
       "      <td>1.976885</td>\n",
       "      <td>13.208886</td>\n",
       "    </tr>\n",
       "    <tr>\n",
       "      <th>5056</th>\n",
       "      <td>1992-04-30 21:00:00</td>\n",
       "      <td>0.0</td>\n",
       "      <td>6.173993</td>\n",
       "      <td>14.633542</td>\n",
       "      <td>5.664463</td>\n",
       "      <td>5.952848</td>\n",
       "      <td>8.797851</td>\n",
       "      <td>11.580096</td>\n",
       "      <td>9.668237</td>\n",
       "      <td>7.422418</td>\n",
       "      <td>...</td>\n",
       "      <td>-7.939813</td>\n",
       "      <td>-1.302299</td>\n",
       "      <td>0.539424</td>\n",
       "      <td>-10.574477</td>\n",
       "      <td>-11.777398</td>\n",
       "      <td>-27.453497</td>\n",
       "      <td>-12.212801</td>\n",
       "      <td>-4.030719</td>\n",
       "      <td>3.174089</td>\n",
       "      <td>15.047563</td>\n",
       "    </tr>\n",
       "    <tr>\n",
       "      <th>39070</th>\n",
       "      <td>2017-06-01 23:00:00</td>\n",
       "      <td>0.0</td>\n",
       "      <td>3.910048</td>\n",
       "      <td>5.395973</td>\n",
       "      <td>0.089182</td>\n",
       "      <td>2.715550</td>\n",
       "      <td>-0.526575</td>\n",
       "      <td>2.262545</td>\n",
       "      <td>6.291993</td>\n",
       "      <td>7.697423</td>\n",
       "      <td>...</td>\n",
       "      <td>-0.083910</td>\n",
       "      <td>3.180630</td>\n",
       "      <td>11.049322</td>\n",
       "      <td>4.035337</td>\n",
       "      <td>6.704766</td>\n",
       "      <td>4.111257</td>\n",
       "      <td>-4.772553</td>\n",
       "      <td>-2.231698</td>\n",
       "      <td>6.240677</td>\n",
       "      <td>7.882743</td>\n",
       "    </tr>\n",
       "    <tr>\n",
       "      <th>31291</th>\n",
       "      <td>2011-11-04 19:00:00</td>\n",
       "      <td>1.0</td>\n",
       "      <td>4.289873</td>\n",
       "      <td>8.505770</td>\n",
       "      <td>2.064489</td>\n",
       "      <td>2.634778</td>\n",
       "      <td>1.086515</td>\n",
       "      <td>2.545229</td>\n",
       "      <td>5.447733</td>\n",
       "      <td>8.373016</td>\n",
       "      <td>...</td>\n",
       "      <td>2.245750</td>\n",
       "      <td>11.345844</td>\n",
       "      <td>25.134476</td>\n",
       "      <td>24.060125</td>\n",
       "      <td>14.696479</td>\n",
       "      <td>16.519520</td>\n",
       "      <td>2.554626</td>\n",
       "      <td>-15.617025</td>\n",
       "      <td>3.216024</td>\n",
       "      <td>11.092365</td>\n",
       "    </tr>\n",
       "    <tr>\n",
       "      <th>8683</th>\n",
       "      <td>1994-11-11 15:00:00</td>\n",
       "      <td>0.0</td>\n",
       "      <td>-7.608931</td>\n",
       "      <td>-11.055407</td>\n",
       "      <td>-5.116380</td>\n",
       "      <td>-2.339516</td>\n",
       "      <td>0.192274</td>\n",
       "      <td>4.606824</td>\n",
       "      <td>5.147788</td>\n",
       "      <td>2.766517</td>\n",
       "      <td>...</td>\n",
       "      <td>-0.427546</td>\n",
       "      <td>2.408293</td>\n",
       "      <td>-5.169497</td>\n",
       "      <td>-11.248136</td>\n",
       "      <td>-0.942277</td>\n",
       "      <td>-18.383580</td>\n",
       "      <td>-4.329843</td>\n",
       "      <td>9.683680</td>\n",
       "      <td>13.788650</td>\n",
       "      <td>3.260815</td>\n",
       "    </tr>\n",
       "  </tbody>\n",
       "</table>\n",
       "<p>5 rows × 210 columns</p>\n",
       "</div>"
      ],
      "text/plain": [
       "                     time  flag     u10_0      u10_1     u10_2     u10_3  \\\n",
       "11503 1997-02-11 05:00:00   1.0  6.830777  15.692579  8.839367  8.202379   \n",
       "5056  1992-04-30 21:00:00   0.0  6.173993  14.633542  5.664463  5.952848   \n",
       "39070 2017-06-01 23:00:00   0.0  3.910048   5.395973  0.089182  2.715550   \n",
       "31291 2011-11-04 19:00:00   1.0  4.289873   8.505770  2.064489  2.634778   \n",
       "8683  1994-11-11 15:00:00   0.0 -7.608931 -11.055407 -5.116380 -2.339516   \n",
       "\n",
       "          u10_4      u10_5      u10_6     u10_7  ...  v500_7_past  \\\n",
       "11503  5.982528   4.433272  12.898159  7.564592  ...    -6.853314   \n",
       "5056   8.797851  11.580096   9.668237  7.422418  ...    -7.939813   \n",
       "39070 -0.526575   2.262545   6.291993  7.697423  ...    -0.083910   \n",
       "31291  1.086515   2.545229   5.447733  8.373016  ...     2.245750   \n",
       "8683   0.192274   4.606824   5.147788  2.766517  ...    -0.427546   \n",
       "\n",
       "       v500_8_past  v500_9_past  v500_10_past  v500_11_past  v500_12_past  \\\n",
       "11503     0.422875     2.694627     11.014505    -10.282343     -7.139753   \n",
       "5056     -1.302299     0.539424    -10.574477    -11.777398    -27.453497   \n",
       "39070     3.180630    11.049322      4.035337      6.704766      4.111257   \n",
       "31291    11.345844    25.134476     24.060125     14.696479     16.519520   \n",
       "8683      2.408293    -5.169497    -11.248136     -0.942277    -18.383580   \n",
       "\n",
       "       v500_13_past  v500_14_past  v500_15_past  v500_16_past  \n",
       "11503     -6.438473      1.313468      1.976885     13.208886  \n",
       "5056     -12.212801     -4.030719      3.174089     15.047563  \n",
       "39070     -4.772553     -2.231698      6.240677      7.882743  \n",
       "31291      2.554626    -15.617025      3.216024     11.092365  \n",
       "8683      -4.329843      9.683680     13.788650      3.260815  \n",
       "\n",
       "[5 rows x 210 columns]"
      ]
     },
     "execution_count": 3,
     "metadata": {},
     "output_type": "execute_result"
    }
   ],
   "source": [
    "data = pd.read_csv(data_path/f'for_model_{compound}_{site}.csv', parse_dates=['time'])\n",
    "data.sample(5)"
   ]
  },
  {
   "cell_type": "code",
   "execution_count": 4,
   "metadata": {},
   "outputs": [
    {
     "name": "stdout",
     "output_type": "stream",
     "text": [
      "Train range: 2018-01-01 01:00:00 -> 2018-12-31 01:00:00. Length: 1354\n",
      "Val range: 2019-01-04 05:00:00 -> 2019-12-30 13:00:00. Length: 1067\n",
      "Test range: 2020-01-02 17:00:00 -> 2022-12-31 19:00:00. Length: 3985\n"
     ]
    }
   ],
   "source": [
    "train_data = data[(data['time'].dt.year >= 2018) & (data['time'].dt.year <= 2018)]\n",
    "val_data = data[(data['time'].dt.year >= 2019) & (data['time'].dt.year <= 2019)]\n",
    "test_data = data[(data['time'].dt.year >= 2020) & (data['time'].dt.year <= 2023)]\n",
    "\n",
    "\n",
    "print(f\"Train range: {train_data['time'].min()} -> {train_data['time'].max()}. Length: {len(train_data)}\")\n",
    "print(f\"Val range: {val_data['time'].min()} -> {val_data['time'].max()}. Length: {len(val_data)}\")\n",
    "print(f\"Test range: {test_data['time'].min()} -> {test_data['time'].max()}. Length: {len(test_data)}\")\n",
    "\n",
    "\n",
    "# Drop the \"time\" column as it won't be used in the model\n",
    "train_data = train_data.drop(columns=['time'])\n",
    "val_data = val_data.drop(columns=['time'])\n",
    "test_data = test_data.drop(columns=['time'])\n",
    "\n",
    "# Define the features (X) and the target (y)\n",
    "X_train = train_data.drop(columns=['flag'])\n",
    "y_train = train_data['flag']\n",
    "X_val = val_data.drop(columns=['flag'])\n",
    "y_val = val_data['flag']\n",
    "X_test = test_data.drop(columns=['flag'])\n",
    "y_test = test_data['flag']\n",
    "\n",
    "# Balanced Data - removing NaN values and associated data\n",
    "y_train = y_train.dropna()\n",
    "y_val = y_val.dropna()\n",
    "y_test = y_test.dropna()\n",
    "\n",
    "# aligning indices of features sets\n",
    "X_train = X_train.loc[y_train.index]\n",
    "X_val = X_val.loc[y_val.index]\n",
    "X_test = X_test.loc[y_test.index]"
   ]
  },
  {
   "cell_type": "markdown",
   "metadata": {},
   "source": [
    "### Model"
   ]
  },
  {
   "cell_type": "code",
   "execution_count": 5,
   "metadata": {},
   "outputs": [
    {
     "name": "stdout",
     "output_type": "stream",
     "text": [
      "Precision on Training Set = 0.899\n",
      "Precision on Validation Set = 0.817\n",
      "Recall on Training Set = 0.869\n",
      "Recall on Validation Set = 0.873\n",
      "F1 Score on Training Set = 0.884\n",
      "F1 Score on Validation Set = 0.844\n"
     ]
    }
   ],
   "source": [
    "nn_model = MLPClassifier(random_state=42,\n",
    "                         max_iter=1000, \n",
    "                         hidden_layer_sizes=(100,), \n",
    "                         shuffle=False,\n",
    "                         activation='relu', \n",
    "                         solver='adam', \n",
    "                         alpha=0.5, \n",
    "                         learning_rate='constant', \n",
    "                         batch_size=100, \n",
    "                         early_stopping=True,\n",
    "                         learning_rate_init=0.01,\n",
    "                         beta_2=0.9,)\n",
    "\n",
    "nn_model.fit(X_train, y_train)\n",
    "\n",
    "class_probabilities_val = nn_model.predict_proba(X_val)\n",
    "class_probabilities_train = nn_model.predict_proba(X_train)\n",
    "\n",
    "confidence_threshold = 0.8\n",
    "\n",
    "y_pred_val = (class_probabilities_val[:,1] > confidence_threshold).astype(int)\n",
    "y_pred_train = (class_probabilities_train[:,1] > confidence_threshold).astype(int)\n",
    "\n",
    "precision_val = precision_score(y_val, y_pred_val)\n",
    "precision_train = precision_score(y_train, y_pred_train)\n",
    "recall_val = recall_score(y_val, y_pred_val)\n",
    "recall_train = recall_score(y_train, y_pred_train)\n",
    "f1_val = f1_score(y_val, y_pred_val)\n",
    "f1_train = f1_score(y_train, y_pred_train)\n",
    "\n",
    "print(f\"Precision on Training Set = {precision_train:.3f}\")\n",
    "print(f\"Precision on Validation Set = {precision_val:.3f}\")\n",
    "print(f\"Recall on Training Set = {recall_train:.3f}\")\n",
    "print(f\"Recall on Validation Set = {recall_val:.3f}\")\n",
    "print(f\"F1 Score on Training Set = {f1_train:.3f}\")\n",
    "print(f\"F1 Score on Validation Set = {f1_val:.3f}\")"
   ]
  },
  {
   "cell_type": "code",
   "execution_count": 6,
   "metadata": {},
   "outputs": [
    {
     "name": "stdout",
     "output_type": "stream",
     "text": [
      "Precision on Testing Set = 0.888\n",
      "Recall on Testing Set = 0.859\n",
      "F1 Score on Testing Set = 0.873\n"
     ]
    }
   ],
   "source": [
    "class_probabilities_test = nn_model.predict_proba(X_test)\n",
    "\n",
    "y_pred_test = (class_probabilities_test[:,1] > confidence_threshold).astype(int)\n",
    "\n",
    "precision_test = precision_score(y_test, y_pred_test)\n",
    "recall_test = recall_score(y_test, y_pred_test)\n",
    "f1_test = f1_score(y_test, y_pred_test)\n",
    "\n",
    "print(f\"Precision on Testing Set = {precision_test:.3f}\")\n",
    "print(f\"Recall on Testing Set = {recall_test:.3f}\")\n",
    "print(f\"F1 Score on Testing Set = {f1_test:.3f}\")"
   ]
  },
  {
   "cell_type": "code",
   "execution_count": 7,
   "metadata": {},
   "outputs": [
    {
     "data": {
      "text/plain": [
       "['C:\\\\Users\\\\kirst\\\\OneDrive\\\\Kirstin\\\\Uni\\\\Year4\\\\MSciProject\\\\data_files\\\\saved_files\\\\nn_model_MHD.joblib']"
      ]
     },
     "execution_count": 7,
     "metadata": {},
     "output_type": "execute_result"
    }
   ],
   "source": [
    "# saving the model\n",
    "dump(nn_model, data_path/f'nn_model_{site}.joblib')"
   ]
  },
  {
   "cell_type": "markdown",
   "metadata": {},
   "source": [
    "### Assessing Feature Importance"
   ]
  },
  {
   "cell_type": "code",
   "execution_count": 8,
   "metadata": {},
   "outputs": [],
   "source": [
    "# finding most important features in the model using permutation importance\n",
    "# using the testing set\n",
    "perm_importance = permutation_importance(nn_model, X_train, y_train, n_repeats=30, random_state=42)\n",
    "sorted_importances = perm_importance.importances_mean.argsort()"
   ]
  },
  {
   "cell_type": "code",
   "execution_count": 9,
   "metadata": {},
   "outputs": [
    {
     "data": {
      "text/plain": [
       "Text(0.5, 0, 'Permutation Importance')"
      ]
     },
     "execution_count": 9,
     "metadata": {},
     "output_type": "execute_result"
    },
    {
     "data": {
      "image/png": "[encoded data removed]",
      "text/plain": [
       "<Figure size 1200x1200 with 1 Axes>"
      ]
     },
     "metadata": {},
     "output_type": "display_data"
    }
   ],
   "source": [
    "# plotting first 20 most important features in a histogram\n",
    "\n",
    "fig, ax = plt.subplots(figsize=(12, 12))\n",
    "sns.set_theme(style='ticks', font='Arial')\n",
    "\n",
    "ax.barh(X_val.columns[sorted_importances][-20:], perm_importance.importances_mean[sorted_importances][-20:], color='#FF620E')\n",
    "\n",
    "ax.set_xscale('log')\n",
    "\n",
    "ax.set_ylabel('Features', fontsize=12, fontstyle='italic')\n",
    "ax.set_xlabel('Permutation Importance', fontsize=12, fontstyle='italic')\n",
    "# ax.set_title('Permutation Importance (Testing Set)', fontsize=14)"
   ]
  }
 ],
 "metadata": {
  "kernelspec": {
   "display_name": "venv",
   "language": "python",
   "name": "python3"
  },
  "language_info": {
   "codemirror_mode": {
    "name": "ipython",
    "version": 3
   },
   "file_extension": ".py",
   "mimetype": "text/x-python",
   "name": "python",
   "nbconvert_exporter": "python",
   "pygments_lexer": "ipython3",
   "version": "3.11.9"
  }
 },
 "nbformat": 4,
 "nbformat_minor": 2
}
