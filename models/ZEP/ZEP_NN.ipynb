{
 "cells": [
  {
   "cell_type": "markdown",
   "metadata": {},
   "source": [
    "# Neural Network Final Model - Zeppelin, Svalbard"
   ]
  },
  {
   "cell_type": "code",
   "execution_count": 3,
   "metadata": {},
   "outputs": [],
   "source": [
    "import pandas as pd\n",
    "import numpy as np\n",
    "from joblib import dump\n",
    "from pathlib import Path\n",
    "import matplotlib.pyplot as plt\n",
    "import seaborn as sns\n",
    "\n",
    "from sklearn.neural_network import MLPClassifier\n",
    "from sklearn.metrics import precision_score, recall_score, f1_score, accuracy_score\n",
    "\n",
    "import sys\n",
    "sys.path.append('../../')\n",
    "import config as cfg\n",
    "import functions as f\n",
    "\n",
    "data_path = Path.home()/'OneDrive'/'Kirstin'/'Uni'/'Year4'/'MSciProject'/'data_files'/'saved_files'"
   ]
  },
  {
   "cell_type": "code",
   "execution_count": 4,
   "metadata": {},
   "outputs": [
    {
     "name": "stdout",
     "output_type": "stream",
     "text": [
      "Creating a neural network model for \u001b[1mZeppelin, Svalbard\u001b[0;0m.\n"
     ]
    }
   ],
   "source": [
    "site = cfg.site\n",
    "site_name = cfg.site_dict[site]\n",
    "assert site == 'ZEP', 'This script is only for Zeppelin, Svalbard. The site can be changed in the config file.'\n",
    "\n",
    "compound = cfg.compound\n",
    "\n",
    "print(f\"Creating a neural network model for \\033[1m{site_name}\\033[0;0m.\")"
   ]
  },
  {
   "cell_type": "markdown",
   "metadata": {},
   "source": [
    "### Loading & Initialising Data"
   ]
  },
  {
   "cell_type": "code",
   "execution_count": 5,
   "metadata": {},
   "outputs": [
    {
     "data": {
      "text/html": [
       "<div>\n",
       "<style scoped>\n",
       "    .dataframe tbody tr th:only-of-type {\n",
       "        vertical-align: middle;\n",
       "    }\n",
       "\n",
       "    .dataframe tbody tr th {\n",
       "        vertical-align: top;\n",
       "    }\n",
       "\n",
       "    .dataframe thead th {\n",
       "        text-align: right;\n",
       "    }\n",
       "</style>\n",
       "<table border=\"1\" class=\"dataframe\">\n",
       "  <thead>\n",
       "    <tr style=\"text-align: right;\">\n",
       "      <th></th>\n",
       "      <th>time</th>\n",
       "      <th>flag</th>\n",
       "      <th>u10_0</th>\n",
       "      <th>u10_1</th>\n",
       "      <th>u10_2</th>\n",
       "      <th>u10_3</th>\n",
       "      <th>u10_4</th>\n",
       "      <th>u10_5</th>\n",
       "      <th>u10_6</th>\n",
       "      <th>u10_7</th>\n",
       "      <th>...</th>\n",
       "      <th>v500_7_past</th>\n",
       "      <th>v500_8_past</th>\n",
       "      <th>v500_9_past</th>\n",
       "      <th>v500_10_past</th>\n",
       "      <th>v500_11_past</th>\n",
       "      <th>v500_12_past</th>\n",
       "      <th>v500_13_past</th>\n",
       "      <th>v500_14_past</th>\n",
       "      <th>v500_15_past</th>\n",
       "      <th>v500_16_past</th>\n",
       "    </tr>\n",
       "  </thead>\n",
       "  <tbody>\n",
       "    <tr>\n",
       "      <th>14449</th>\n",
       "      <td>2018-12-08 19:00:00</td>\n",
       "      <td>1.0</td>\n",
       "      <td>1.051292</td>\n",
       "      <td>0.197331</td>\n",
       "      <td>-1.659878</td>\n",
       "      <td>1.059872</td>\n",
       "      <td>-1.543767</td>\n",
       "      <td>-2.006496</td>\n",
       "      <td>-1.249199</td>\n",
       "      <td>0.617734</td>\n",
       "      <td>...</td>\n",
       "      <td>-7.491185</td>\n",
       "      <td>-0.929444</td>\n",
       "      <td>6.286968</td>\n",
       "      <td>8.749842</td>\n",
       "      <td>-20.639269</td>\n",
       "      <td>5.603595</td>\n",
       "      <td>3.925233</td>\n",
       "      <td>-4.611453</td>\n",
       "      <td>-10.682533</td>\n",
       "      <td>3.241861</td>\n",
       "    </tr>\n",
       "    <tr>\n",
       "      <th>5426</th>\n",
       "      <td>2014-08-19 21:00:00</td>\n",
       "      <td>1.0</td>\n",
       "      <td>-2.331871</td>\n",
       "      <td>2.488455</td>\n",
       "      <td>2.443439</td>\n",
       "      <td>-0.648883</td>\n",
       "      <td>-6.117607</td>\n",
       "      <td>-5.662702</td>\n",
       "      <td>-2.447572</td>\n",
       "      <td>-1.944887</td>\n",
       "      <td>...</td>\n",
       "      <td>-11.432735</td>\n",
       "      <td>-11.246730</td>\n",
       "      <td>-17.049162</td>\n",
       "      <td>-16.434994</td>\n",
       "      <td>-9.028704</td>\n",
       "      <td>8.453460</td>\n",
       "      <td>1.130230</td>\n",
       "      <td>-9.997335</td>\n",
       "      <td>-10.747206</td>\n",
       "      <td>-17.175505</td>\n",
       "    </tr>\n",
       "    <tr>\n",
       "      <th>10247</th>\n",
       "      <td>2016-12-29 17:00:00</td>\n",
       "      <td>1.0</td>\n",
       "      <td>-9.242764</td>\n",
       "      <td>-11.393134</td>\n",
       "      <td>-10.940464</td>\n",
       "      <td>-5.758911</td>\n",
       "      <td>11.826851</td>\n",
       "      <td>10.081580</td>\n",
       "      <td>8.527337</td>\n",
       "      <td>-12.705061</td>\n",
       "      <td>...</td>\n",
       "      <td>4.510669</td>\n",
       "      <td>-0.455417</td>\n",
       "      <td>-7.078056</td>\n",
       "      <td>-6.141666</td>\n",
       "      <td>2.757617</td>\n",
       "      <td>-3.918632</td>\n",
       "      <td>-0.510814</td>\n",
       "      <td>3.397365</td>\n",
       "      <td>4.358774</td>\n",
       "      <td>-7.774988</td>\n",
       "    </tr>\n",
       "    <tr>\n",
       "      <th>640</th>\n",
       "      <td>2012-05-16 05:00:00</td>\n",
       "      <td>1.0</td>\n",
       "      <td>-1.682496</td>\n",
       "      <td>-2.514249</td>\n",
       "      <td>-2.456480</td>\n",
       "      <td>-1.704897</td>\n",
       "      <td>-5.224076</td>\n",
       "      <td>-5.462225</td>\n",
       "      <td>-10.647857</td>\n",
       "      <td>-1.542790</td>\n",
       "      <td>...</td>\n",
       "      <td>-10.475187</td>\n",
       "      <td>-3.515251</td>\n",
       "      <td>-1.604653</td>\n",
       "      <td>-2.244710</td>\n",
       "      <td>-0.916729</td>\n",
       "      <td>15.760312</td>\n",
       "      <td>17.912983</td>\n",
       "      <td>-4.345410</td>\n",
       "      <td>-9.361925</td>\n",
       "      <td>-1.101361</td>\n",
       "    </tr>\n",
       "    <tr>\n",
       "      <th>19355</th>\n",
       "      <td>2021-05-02 05:00:00</td>\n",
       "      <td>1.0</td>\n",
       "      <td>-1.848458</td>\n",
       "      <td>0.551631</td>\n",
       "      <td>0.178305</td>\n",
       "      <td>-1.196085</td>\n",
       "      <td>-9.700625</td>\n",
       "      <td>-9.573183</td>\n",
       "      <td>-4.710467</td>\n",
       "      <td>-2.698391</td>\n",
       "      <td>...</td>\n",
       "      <td>-16.319893</td>\n",
       "      <td>-16.088015</td>\n",
       "      <td>-15.398001</td>\n",
       "      <td>-12.763013</td>\n",
       "      <td>-5.642223</td>\n",
       "      <td>-3.005831</td>\n",
       "      <td>-12.046296</td>\n",
       "      <td>-14.128990</td>\n",
       "      <td>-18.093416</td>\n",
       "      <td>-17.631063</td>\n",
       "    </tr>\n",
       "  </tbody>\n",
       "</table>\n",
       "<p>5 rows × 210 columns</p>\n",
       "</div>"
      ],
      "text/plain": [
       "                     time  flag     u10_0      u10_1      u10_2     u10_3  \\\n",
       "14449 2018-12-08 19:00:00   1.0  1.051292   0.197331  -1.659878  1.059872   \n",
       "5426  2014-08-19 21:00:00   1.0 -2.331871   2.488455   2.443439 -0.648883   \n",
       "10247 2016-12-29 17:00:00   1.0 -9.242764 -11.393134 -10.940464 -5.758911   \n",
       "640   2012-05-16 05:00:00   1.0 -1.682496  -2.514249  -2.456480 -1.704897   \n",
       "19355 2021-05-02 05:00:00   1.0 -1.848458   0.551631   0.178305 -1.196085   \n",
       "\n",
       "           u10_4      u10_5      u10_6      u10_7  ...  v500_7_past  \\\n",
       "14449  -1.543767  -2.006496  -1.249199   0.617734  ...    -7.491185   \n",
       "5426   -6.117607  -5.662702  -2.447572  -1.944887  ...   -11.432735   \n",
       "10247  11.826851  10.081580   8.527337 -12.705061  ...     4.510669   \n",
       "640    -5.224076  -5.462225 -10.647857  -1.542790  ...   -10.475187   \n",
       "19355  -9.700625  -9.573183  -4.710467  -2.698391  ...   -16.319893   \n",
       "\n",
       "       v500_8_past  v500_9_past  v500_10_past  v500_11_past  v500_12_past  \\\n",
       "14449    -0.929444     6.286968      8.749842    -20.639269      5.603595   \n",
       "5426    -11.246730   -17.049162    -16.434994     -9.028704      8.453460   \n",
       "10247    -0.455417    -7.078056     -6.141666      2.757617     -3.918632   \n",
       "640      -3.515251    -1.604653     -2.244710     -0.916729     15.760312   \n",
       "19355   -16.088015   -15.398001    -12.763013     -5.642223     -3.005831   \n",
       "\n",
       "       v500_13_past  v500_14_past  v500_15_past  v500_16_past  \n",
       "14449      3.925233     -4.611453    -10.682533      3.241861  \n",
       "5426       1.130230     -9.997335    -10.747206    -17.175505  \n",
       "10247     -0.510814      3.397365      4.358774     -7.774988  \n",
       "640       17.912983     -4.345410     -9.361925     -1.101361  \n",
       "19355    -12.046296    -14.128990    -18.093416    -17.631063  \n",
       "\n",
       "[5 rows x 210 columns]"
      ]
     },
     "execution_count": 5,
     "metadata": {},
     "output_type": "execute_result"
    }
   ],
   "source": [
    "data = pd.read_csv(data_path/f'for_model_{compound}_{site}.csv', parse_dates=['time'])\n",
    "data.sample(5)"
   ]
  },
  {
   "cell_type": "code",
   "execution_count": 6,
   "metadata": {},
   "outputs": [
    {
     "name": "stdout",
     "output_type": "stream",
     "text": [
      "Train range: 2018-01-01 01:00:00 -> 2018-12-31 23:00:00. Length: 1877\n",
      "Val range: 2019-01-01 01:00:00 -> 2019-12-30 19:00:00. Length: 2043\n",
      "Test range: 2020-01-01 17:00:00 -> 2022-12-31 01:00:00. Length: 5767\n"
     ]
    }
   ],
   "source": [
    "train_data = data[(data['time'].dt.year >= 2018) & (data['time'].dt.year <= 2018)]\n",
    "val_data = data[(data['time'].dt.year >= 2019) & (data['time'].dt.year <= 2019)]\n",
    "test_data = data[(data['time'].dt.year >= 2020) & (data['time'].dt.year <= 2023)]\n",
    "\n",
    "\n",
    "print(f\"Train range: {train_data['time'].min()} -> {train_data['time'].max()}. Length: {len(train_data)}\")\n",
    "print(f\"Val range: {val_data['time'].min()} -> {val_data['time'].max()}. Length: {len(val_data)}\")\n",
    "print(f\"Test range: {test_data['time'].min()} -> {test_data['time'].max()}. Length: {len(test_data)}\")\n",
    "\n",
    "\n",
    "# Drop the \"time\" column as it won't be used in the model\n",
    "train_data = train_data.drop(columns=['time'])\n",
    "val_data = val_data.drop(columns=['time'])\n",
    "test_data = test_data.drop(columns=['time'])\n",
    "\n",
    "# Define the features (X) and the target (y)\n",
    "X_train = train_data.drop(columns=['flag'])\n",
    "y_train = train_data['flag']\n",
    "X_val = val_data.drop(columns=['flag'])\n",
    "y_val = val_data['flag']\n",
    "X_test = test_data.drop(columns=['flag'])\n",
    "y_test = test_data['flag']\n",
    "\n",
    "# Balanced Data - removing NaN values and associated data\n",
    "y_train = y_train.dropna()\n",
    "y_val = y_val.dropna()\n",
    "y_test = y_test.dropna()\n",
    "\n",
    "# aligning indices of features sets\n",
    "X_train = X_train.loc[y_train.index]\n",
    "X_val = X_val.loc[y_val.index]\n",
    "X_test = X_test.loc[y_test.index]"
   ]
  },
  {
   "cell_type": "markdown",
   "metadata": {},
   "source": [
    "### Model"
   ]
  },
  {
   "cell_type": "code",
   "execution_count": 7,
   "metadata": {},
   "outputs": [
    {
     "name": "stdout",
     "output_type": "stream",
     "text": [
      "Precision on Training Set = 0.921\n",
      "Precision on Validation Set = 0.877\n",
      "Recall on Training Set = 0.798\n",
      "Recall on Validation Set = 0.876\n",
      "F1 Score on Training Set = 0.855\n",
      "F1 Score on Validation Set = 0.877\n"
     ]
    }
   ],
   "source": [
    "nn_model = MLPClassifier(random_state=42,\n",
    "                         max_iter=1000, \n",
    "                         hidden_layer_sizes=(200,150,), \n",
    "                         shuffle=False,\n",
    "                         activation='relu', \n",
    "                         solver='adam', \n",
    "                         alpha=0.05, \n",
    "                         learning_rate='constant', \n",
    "                         batch_size=100, \n",
    "                         early_stopping=True,\n",
    "                         learning_rate_init=0.01,\n",
    "                         beta_2=0.9,)\n",
    "\n",
    "nn_model.fit(X_train, y_train)\n",
    "\n",
    "class_probabilities_val = nn_model.predict_proba(X_val)\n",
    "class_probabilities_train = nn_model.predict_proba(X_train)\n",
    "\n",
    "confidence_threshold = cfg.confidence_threshold\n",
    "\n",
    "y_pred_val = (class_probabilities_val[:,1] > confidence_threshold).astype(int)\n",
    "y_pred_train = (class_probabilities_train[:,1] > confidence_threshold).astype(int)\n",
    "\n",
    "precision_val = precision_score(y_val, y_pred_val)\n",
    "precision_train = precision_score(y_train, y_pred_train)\n",
    "recall_val = recall_score(y_val, y_pred_val)\n",
    "recall_train = recall_score(y_train, y_pred_train)\n",
    "f1_val = f1_score(y_val, y_pred_val)\n",
    "f1_train = f1_score(y_train, y_pred_train)\n",
    "\n",
    "print(f\"Precision on Training Set = {precision_train:.3f}\")\n",
    "print(f\"Precision on Validation Set = {precision_val:.3f}\")\n",
    "print(f\"Recall on Training Set = {recall_train:.3f}\")\n",
    "print(f\"Recall on Validation Set = {recall_val:.3f}\")\n",
    "print(f\"F1 Score on Training Set = {f1_train:.3f}\")\n",
    "print(f\"F1 Score on Validation Set = {f1_val:.3f}\")"
   ]
  },
  {
   "cell_type": "code",
   "execution_count": 8,
   "metadata": {},
   "outputs": [
    {
     "name": "stdout",
     "output_type": "stream",
     "text": [
      "Precision on Testing Set = 0.896\n",
      "Recall on Testing Set = 0.826\n",
      "F1 Score on Testing Set = 0.859\n"
     ]
    }
   ],
   "source": [
    "class_probabilities_test = nn_model.predict_proba(X_test)\n",
    "\n",
    "y_pred_test = (class_probabilities_test[:,1] > confidence_threshold).astype(int)\n",
    "\n",
    "precision_test = precision_score(y_test, y_pred_test)\n",
    "recall_test = recall_score(y_test, y_pred_test)\n",
    "f1_test = f1_score(y_test, y_pred_test)\n",
    "\n",
    "print(f\"Precision on Testing Set = {precision_test:.3f}\")\n",
    "print(f\"Recall on Testing Set = {recall_test:.3f}\")\n",
    "print(f\"F1 Score on Testing Set = {f1_test:.3f}\")"
   ]
  },
  {
   "cell_type": "code",
   "execution_count": 19,
   "metadata": {},
   "outputs": [
    {
     "data": {
      "text/plain": [
       "['C:\\\\Users\\\\kirst\\\\OneDrive\\\\Kirstin\\\\Uni\\\\Year4\\\\MSciProject\\\\data_files\\\\saved_files\\\\nn_model_ZEP.joblib']"
      ]
     },
     "execution_count": 19,
     "metadata": {},
     "output_type": "execute_result"
    }
   ],
   "source": [
    "# saving the model\n",
    "dump(nn_model, data_path/f'nn_model_{site}.joblib')"
   ]
  },
  {
   "cell_type": "markdown",
   "metadata": {},
   "source": [
    "### Assessing Feature Importance"
   ]
  },
  {
   "cell_type": "code",
   "execution_count": 9,
   "metadata": {},
   "outputs": [],
   "source": [
    "# grouping features by category i.e. x-wind, y-wind, temporal etc.\n",
    "u_features = [col for col in data.columns if 'u' in col]\n",
    "v_features = [col for col in data.columns if 'v' in col]\n",
    "temporal_features = ['day_of_year', 'time_of_day']\n",
    "sp = ['sp']\n",
    "blh = ['blh']\n",
    "\n",
    "groups = [u_features, v_features, temporal_features, sp, blh]"
   ]
  },
  {
   "cell_type": "code",
   "execution_count": 10,
   "metadata": {},
   "outputs": [],
   "source": [
    "original_score = accuracy_score(y_train, nn_model.predict(X_train))\n",
    "importances = {}\n",
    "\n",
    "for group in groups:\n",
    "    scores_diff = []\n",
    "    for _ in range(100):\n",
    "        X_train_permuted = f.permute_group(X_train, group)\n",
    "        \n",
    "        permuted_score = accuracy_score(y_train, nn_model.predict(X_train_permuted))\n",
    "        scores_diff.append(original_score - permuted_score)\n",
    "    \n",
    "    importances[str(group)] = np.mean(scores_diff)\n",
    "\n",
    "# Sort groups by importance\n",
    "sorted_importances = sorted(importances.items(), key=lambda x: x[1], reverse=False)"
   ]
  },
  {
   "cell_type": "code",
   "execution_count": 11,
   "metadata": {},
   "outputs": [],
   "source": [
    "# matching the group names to the sorted importances\n",
    "n = len(groups)\n",
    "group_names_sorted = []\n",
    "\n",
    "for i in range(n):\n",
    "    name = sorted_importances[i][0]\n",
    "\n",
    "    if 'u10_0' in name:\n",
    "        group_names_sorted.append('u-wind')\n",
    "\n",
    "    elif 'v10_0' in name:\n",
    "        group_names_sorted.append('v-wind')\n",
    "\n",
    "    elif 'day_of_year' in name:\n",
    "        group_names_sorted.append('temporal')\n",
    "\n",
    "    elif 'sp' in name:\n",
    "        group_names_sorted.append('sp')\n",
    "\n",
    "    elif 'blh' in name:\n",
    "        group_names_sorted.append('blh')"
   ]
  },
  {
   "cell_type": "code",
   "execution_count": 12,
   "metadata": {},
   "outputs": [
    {
     "data": {
      "text/plain": [
       "Text(0, 0.5, 'Feature Group')"
      ]
     },
     "execution_count": 12,
     "metadata": {},
     "output_type": "execute_result"
    },
    {
     "data": {
      "image/png": "[encoded data removed]",
      "text/plain": [
       "<Figure size 1200x800 with 1 Axes>"
      ]
     },
     "metadata": {},
     "output_type": "display_data"
    }
   ],
   "source": [
    "# Plotting the importances of the groups\n",
    "fig, ax = plt.subplots(figsize=(12, 8))\n",
    "sns.set_theme(style='ticks', font='Arial')\n",
    "\n",
    "ax.barh(group_names_sorted, [importance for _, importance in sorted_importances], color='#FF620E')\n",
    "\n",
    "ax.set_xlabel('Importance', fontsize=12, fontstyle='italic')\n",
    "ax.set_ylabel('Feature Group', fontsize=12, fontstyle='italic')\n",
    "# ax.set_title('Permutation Importances', fontsize=14)"
   ]
  }
 ],
 "metadata": {
  "kernelspec": {
   "display_name": "venv",
   "language": "python",
   "name": "python3"
  },
  "language_info": {
   "codemirror_mode": {
    "name": "ipython",
    "version": 3
   },
   "file_extension": ".py",
   "mimetype": "text/x-python",
   "name": "python",
   "nbconvert_exporter": "python",
   "pygments_lexer": "ipython3",
   "version": "3.11.9"
  }
 },
 "nbformat": 4,
 "nbformat_minor": 2
}
