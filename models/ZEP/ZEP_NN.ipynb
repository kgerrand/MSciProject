{
 "cells": [
  {
   "cell_type": "markdown",
   "metadata": {},
   "source": [
    "# Neural Network Final Model - Zeppelin, Svalbard"
   ]
  },
  {
   "cell_type": "code",
   "execution_count": 13,
   "metadata": {},
   "outputs": [],
   "source": [
    "import pandas as pd\n",
    "from joblib import dump\n",
    "from pathlib import Path\n",
    "import matplotlib.pyplot as plt\n",
    "import seaborn as sns\n",
    "\n",
    "from sklearn.neural_network import MLPClassifier\n",
    "from sklearn.metrics import precision_score, recall_score, f1_score\n",
    "from sklearn.inspection import permutation_importance\n",
    "\n",
    "import sys\n",
    "sys.path.append('../../')\n",
    "import config\n",
    "\n",
    "data_path = Path.home()/'OneDrive'/'Kirstin'/'Uni'/'Year4'/'MSciProject'/'data_files'/'saved_files'"
   ]
  },
  {
   "cell_type": "code",
   "execution_count": 14,
   "metadata": {},
   "outputs": [
    {
     "name": "stdout",
     "output_type": "stream",
     "text": [
      "Creating a neural network model for \u001b[1mZeppelin, Svalbard\u001b[0;0m.\n"
     ]
    }
   ],
   "source": [
    "site = config.site\n",
    "site_name = config.site_dict[site]\n",
    "assert site == 'ZEP', 'This script is only for Zeppelin, Svalbard. The site can be changed in the config file.'\n",
    "\n",
    "compound = config.compound\n",
    "\n",
    "print(f\"Creating a neural network model for \\033[1m{site_name}\\033[0;0m.\")"
   ]
  },
  {
   "cell_type": "markdown",
   "metadata": {},
   "source": [
    "### Loading & Initialising Data"
   ]
  },
  {
   "cell_type": "code",
   "execution_count": 15,
   "metadata": {},
   "outputs": [
    {
     "data": {
      "text/html": [
       "<div>\n",
       "<style scoped>\n",
       "    .dataframe tbody tr th:only-of-type {\n",
       "        vertical-align: middle;\n",
       "    }\n",
       "\n",
       "    .dataframe tbody tr th {\n",
       "        vertical-align: top;\n",
       "    }\n",
       "\n",
       "    .dataframe thead th {\n",
       "        text-align: right;\n",
       "    }\n",
       "</style>\n",
       "<table border=\"1\" class=\"dataframe\">\n",
       "  <thead>\n",
       "    <tr style=\"text-align: right;\">\n",
       "      <th></th>\n",
       "      <th>time</th>\n",
       "      <th>flag</th>\n",
       "      <th>u10_0</th>\n",
       "      <th>u10_1</th>\n",
       "      <th>u10_2</th>\n",
       "      <th>u10_3</th>\n",
       "      <th>u10_4</th>\n",
       "      <th>u10_5</th>\n",
       "      <th>u10_6</th>\n",
       "      <th>u10_7</th>\n",
       "      <th>...</th>\n",
       "      <th>v500_7_past</th>\n",
       "      <th>v500_8_past</th>\n",
       "      <th>v500_9_past</th>\n",
       "      <th>v500_10_past</th>\n",
       "      <th>v500_11_past</th>\n",
       "      <th>v500_12_past</th>\n",
       "      <th>v500_13_past</th>\n",
       "      <th>v500_14_past</th>\n",
       "      <th>v500_15_past</th>\n",
       "      <th>v500_16_past</th>\n",
       "    </tr>\n",
       "  </thead>\n",
       "  <tbody>\n",
       "    <tr>\n",
       "      <th>822</th>\n",
       "      <td>2012-06-10 03:00:00</td>\n",
       "      <td>0.0</td>\n",
       "      <td>-1.615050</td>\n",
       "      <td>5.046753</td>\n",
       "      <td>5.112235</td>\n",
       "      <td>-0.764968</td>\n",
       "      <td>-5.583810</td>\n",
       "      <td>-4.371604</td>\n",
       "      <td>-3.826053</td>\n",
       "      <td>-0.622170</td>\n",
       "      <td>...</td>\n",
       "      <td>0.436128</td>\n",
       "      <td>6.127753</td>\n",
       "      <td>7.259836</td>\n",
       "      <td>8.032966</td>\n",
       "      <td>-3.132993</td>\n",
       "      <td>-1.120936</td>\n",
       "      <td>-14.479028</td>\n",
       "      <td>-12.313305</td>\n",
       "      <td>2.294520</td>\n",
       "      <td>5.996897</td>\n",
       "    </tr>\n",
       "    <tr>\n",
       "      <th>16528</th>\n",
       "      <td>2019-12-09 01:00:00</td>\n",
       "      <td>1.0</td>\n",
       "      <td>-0.008023</td>\n",
       "      <td>0.008296</td>\n",
       "      <td>-1.559494</td>\n",
       "      <td>0.814785</td>\n",
       "      <td>-10.418320</td>\n",
       "      <td>-5.884409</td>\n",
       "      <td>-3.645696</td>\n",
       "      <td>0.027752</td>\n",
       "      <td>...</td>\n",
       "      <td>-9.924776</td>\n",
       "      <td>-13.740526</td>\n",
       "      <td>-6.046208</td>\n",
       "      <td>-2.744271</td>\n",
       "      <td>-9.739546</td>\n",
       "      <td>6.059820</td>\n",
       "      <td>-0.854919</td>\n",
       "      <td>-11.111862</td>\n",
       "      <td>-9.008287</td>\n",
       "      <td>-9.167747</td>\n",
       "    </tr>\n",
       "    <tr>\n",
       "      <th>4183</th>\n",
       "      <td>2014-01-07 05:00:00</td>\n",
       "      <td>1.0</td>\n",
       "      <td>-2.840917</td>\n",
       "      <td>-5.096101</td>\n",
       "      <td>-4.661976</td>\n",
       "      <td>-1.755088</td>\n",
       "      <td>-16.008532</td>\n",
       "      <td>-15.292895</td>\n",
       "      <td>-14.899501</td>\n",
       "      <td>-3.313196</td>\n",
       "      <td>...</td>\n",
       "      <td>-1.840844</td>\n",
       "      <td>-4.170058</td>\n",
       "      <td>-1.384668</td>\n",
       "      <td>-2.638396</td>\n",
       "      <td>-9.828447</td>\n",
       "      <td>11.790045</td>\n",
       "      <td>8.515248</td>\n",
       "      <td>8.099856</td>\n",
       "      <td>-1.869543</td>\n",
       "      <td>0.116784</td>\n",
       "    </tr>\n",
       "    <tr>\n",
       "      <th>10708</th>\n",
       "      <td>2017-03-11 01:00:00</td>\n",
       "      <td>1.0</td>\n",
       "      <td>0.414703</td>\n",
       "      <td>3.485207</td>\n",
       "      <td>1.771664</td>\n",
       "      <td>2.226215</td>\n",
       "      <td>8.537605</td>\n",
       "      <td>10.263927</td>\n",
       "      <td>11.121916</td>\n",
       "      <td>3.249108</td>\n",
       "      <td>...</td>\n",
       "      <td>-13.429424</td>\n",
       "      <td>-10.728035</td>\n",
       "      <td>-5.731011</td>\n",
       "      <td>-1.064833</td>\n",
       "      <td>2.185885</td>\n",
       "      <td>-2.950031</td>\n",
       "      <td>-14.164465</td>\n",
       "      <td>-13.802406</td>\n",
       "      <td>-13.407576</td>\n",
       "      <td>-10.189630</td>\n",
       "    </tr>\n",
       "    <tr>\n",
       "      <th>125</th>\n",
       "      <td>2012-02-13 05:00:00</td>\n",
       "      <td>1.0</td>\n",
       "      <td>-1.138971</td>\n",
       "      <td>0.931307</td>\n",
       "      <td>0.125060</td>\n",
       "      <td>0.261029</td>\n",
       "      <td>9.025204</td>\n",
       "      <td>7.164003</td>\n",
       "      <td>0.370350</td>\n",
       "      <td>0.282210</td>\n",
       "      <td>...</td>\n",
       "      <td>-6.492272</td>\n",
       "      <td>-3.406470</td>\n",
       "      <td>-2.788961</td>\n",
       "      <td>-2.458464</td>\n",
       "      <td>4.356741</td>\n",
       "      <td>-6.787980</td>\n",
       "      <td>-1.830519</td>\n",
       "      <td>-4.458843</td>\n",
       "      <td>-5.645155</td>\n",
       "      <td>-3.143811</td>\n",
       "    </tr>\n",
       "  </tbody>\n",
       "</table>\n",
       "<p>5 rows × 210 columns</p>\n",
       "</div>"
      ],
      "text/plain": [
       "                     time  flag     u10_0     u10_1     u10_2     u10_3  \\\n",
       "822   2012-06-10 03:00:00   0.0 -1.615050  5.046753  5.112235 -0.764968   \n",
       "16528 2019-12-09 01:00:00   1.0 -0.008023  0.008296 -1.559494  0.814785   \n",
       "4183  2014-01-07 05:00:00   1.0 -2.840917 -5.096101 -4.661976 -1.755088   \n",
       "10708 2017-03-11 01:00:00   1.0  0.414703  3.485207  1.771664  2.226215   \n",
       "125   2012-02-13 05:00:00   1.0 -1.138971  0.931307  0.125060  0.261029   \n",
       "\n",
       "           u10_4      u10_5      u10_6     u10_7  ...  v500_7_past  \\\n",
       "822    -5.583810  -4.371604  -3.826053 -0.622170  ...     0.436128   \n",
       "16528 -10.418320  -5.884409  -3.645696  0.027752  ...    -9.924776   \n",
       "4183  -16.008532 -15.292895 -14.899501 -3.313196  ...    -1.840844   \n",
       "10708   8.537605  10.263927  11.121916  3.249108  ...   -13.429424   \n",
       "125     9.025204   7.164003   0.370350  0.282210  ...    -6.492272   \n",
       "\n",
       "       v500_8_past  v500_9_past  v500_10_past  v500_11_past  v500_12_past  \\\n",
       "822       6.127753     7.259836      8.032966     -3.132993     -1.120936   \n",
       "16528   -13.740526    -6.046208     -2.744271     -9.739546      6.059820   \n",
       "4183     -4.170058    -1.384668     -2.638396     -9.828447     11.790045   \n",
       "10708   -10.728035    -5.731011     -1.064833      2.185885     -2.950031   \n",
       "125      -3.406470    -2.788961     -2.458464      4.356741     -6.787980   \n",
       "\n",
       "       v500_13_past  v500_14_past  v500_15_past  v500_16_past  \n",
       "822      -14.479028    -12.313305      2.294520      5.996897  \n",
       "16528     -0.854919    -11.111862     -9.008287     -9.167747  \n",
       "4183       8.515248      8.099856     -1.869543      0.116784  \n",
       "10708    -14.164465    -13.802406    -13.407576    -10.189630  \n",
       "125       -1.830519     -4.458843     -5.645155     -3.143811  \n",
       "\n",
       "[5 rows x 210 columns]"
      ]
     },
     "execution_count": 15,
     "metadata": {},
     "output_type": "execute_result"
    }
   ],
   "source": [
    "data = pd.read_csv(data_path/f'for_model_{compound}_{site}.csv', parse_dates=['time'])\n",
    "data.sample(5)"
   ]
  },
  {
   "cell_type": "code",
   "execution_count": 16,
   "metadata": {},
   "outputs": [
    {
     "name": "stdout",
     "output_type": "stream",
     "text": [
      "Train range: 2018-01-01 01:00:00 -> 2018-12-31 23:00:00. Length: 1877\n",
      "Val range: 2019-01-01 01:00:00 -> 2019-12-30 19:00:00. Length: 2043\n",
      "Test range: 2020-01-01 17:00:00 -> 2022-12-31 01:00:00. Length: 5767\n"
     ]
    }
   ],
   "source": [
    "train_data = data[(data['time'].dt.year >= 2018) & (data['time'].dt.year <= 2018)]\n",
    "val_data = data[(data['time'].dt.year >= 2019) & (data['time'].dt.year <= 2019)]\n",
    "test_data = data[(data['time'].dt.year >= 2020) & (data['time'].dt.year <= 2023)]\n",
    "\n",
    "\n",
    "print(f\"Train range: {train_data['time'].min()} -> {train_data['time'].max()}. Length: {len(train_data)}\")\n",
    "print(f\"Val range: {val_data['time'].min()} -> {val_data['time'].max()}. Length: {len(val_data)}\")\n",
    "print(f\"Test range: {test_data['time'].min()} -> {test_data['time'].max()}. Length: {len(test_data)}\")\n",
    "\n",
    "\n",
    "# Drop the \"time\" column as it won't be used in the model\n",
    "train_data = train_data.drop(columns=['time'])\n",
    "val_data = val_data.drop(columns=['time'])\n",
    "test_data = test_data.drop(columns=['time'])\n",
    "\n",
    "# Define the features (X) and the target (y)\n",
    "X_train = train_data.drop(columns=['flag'])\n",
    "y_train = train_data['flag']\n",
    "X_val = val_data.drop(columns=['flag'])\n",
    "y_val = val_data['flag']\n",
    "X_test = test_data.drop(columns=['flag'])\n",
    "y_test = test_data['flag']\n",
    "\n",
    "# Balanced Data - removing NaN values and associated data\n",
    "y_train = y_train.dropna()\n",
    "y_val = y_val.dropna()\n",
    "y_test = y_test.dropna()\n",
    "\n",
    "# aligning indices of features sets\n",
    "X_train = X_train.loc[y_train.index]\n",
    "X_val = X_val.loc[y_val.index]\n",
    "X_test = X_test.loc[y_test.index]"
   ]
  },
  {
   "cell_type": "markdown",
   "metadata": {},
   "source": [
    "### Model"
   ]
  },
  {
   "cell_type": "code",
   "execution_count": 17,
   "metadata": {},
   "outputs": [
    {
     "name": "stdout",
     "output_type": "stream",
     "text": [
      "Precision on Training Set = 0.921\n",
      "Precision on Validation Set = 0.877\n",
      "Recall on Training Set = 0.798\n",
      "Recall on Validation Set = 0.876\n",
      "F1 Score on Training Set = 0.855\n",
      "F1 Score on Validation Set = 0.877\n"
     ]
    }
   ],
   "source": [
    "nn_model = MLPClassifier(random_state=42,\n",
    "                         max_iter=1000, \n",
    "                         hidden_layer_sizes=(200,150,), \n",
    "                         shuffle=False,\n",
    "                         activation='relu', \n",
    "                         solver='adam', \n",
    "                         alpha=0.05, \n",
    "                         learning_rate='constant', \n",
    "                         batch_size=100, \n",
    "                         early_stopping=True,\n",
    "                         learning_rate_init=0.01,\n",
    "                         beta_2=0.9,)\n",
    "\n",
    "nn_model.fit(X_train, y_train)\n",
    "\n",
    "class_probabilities_val = nn_model.predict_proba(X_val)\n",
    "class_probabilities_train = nn_model.predict_proba(X_train)\n",
    "\n",
    "confidence_threshold = 0.8\n",
    "\n",
    "y_pred_val = (class_probabilities_val[:,1] > confidence_threshold).astype(int)\n",
    "y_pred_train = (class_probabilities_train[:,1] > confidence_threshold).astype(int)\n",
    "\n",
    "precision_val = precision_score(y_val, y_pred_val)\n",
    "precision_train = precision_score(y_train, y_pred_train)\n",
    "recall_val = recall_score(y_val, y_pred_val)\n",
    "recall_train = recall_score(y_train, y_pred_train)\n",
    "f1_val = f1_score(y_val, y_pred_val)\n",
    "f1_train = f1_score(y_train, y_pred_train)\n",
    "\n",
    "print(f\"Precision on Training Set = {precision_train:.3f}\")\n",
    "print(f\"Precision on Validation Set = {precision_val:.3f}\")\n",
    "print(f\"Recall on Training Set = {recall_train:.3f}\")\n",
    "print(f\"Recall on Validation Set = {recall_val:.3f}\")\n",
    "print(f\"F1 Score on Training Set = {f1_train:.3f}\")\n",
    "print(f\"F1 Score on Validation Set = {f1_val:.3f}\")"
   ]
  },
  {
   "cell_type": "code",
   "execution_count": 18,
   "metadata": {},
   "outputs": [
    {
     "name": "stdout",
     "output_type": "stream",
     "text": [
      "Precision on Testing Set = 0.896\n",
      "Recall on Testing Set = 0.826\n",
      "F1 Score on Testing Set = 0.859\n"
     ]
    }
   ],
   "source": [
    "class_probabilities_test = nn_model.predict_proba(X_test)\n",
    "\n",
    "y_pred_test = (class_probabilities_test[:,1] > confidence_threshold).astype(int)\n",
    "\n",
    "precision_test = precision_score(y_test, y_pred_test)\n",
    "recall_test = recall_score(y_test, y_pred_test)\n",
    "f1_test = f1_score(y_test, y_pred_test)\n",
    "\n",
    "print(f\"Precision on Testing Set = {precision_test:.3f}\")\n",
    "print(f\"Recall on Testing Set = {recall_test:.3f}\")\n",
    "print(f\"F1 Score on Testing Set = {f1_test:.3f}\")"
   ]
  },
  {
   "cell_type": "code",
   "execution_count": 19,
   "metadata": {},
   "outputs": [
    {
     "data": {
      "text/plain": [
       "['C:\\\\Users\\\\kirst\\\\OneDrive\\\\Kirstin\\\\Uni\\\\Year4\\\\MSciProject\\\\data_files\\\\saved_files\\\\nn_model_ZEP.joblib']"
      ]
     },
     "execution_count": 19,
     "metadata": {},
     "output_type": "execute_result"
    }
   ],
   "source": [
    "# saving the model\n",
    "dump(nn_model, data_path/f'nn_model_{site}.joblib')"
   ]
  },
  {
   "cell_type": "markdown",
   "metadata": {},
   "source": [
    "### Assessing Feature Importance"
   ]
  },
  {
   "cell_type": "code",
   "execution_count": 20,
   "metadata": {},
   "outputs": [],
   "source": [
    "# finding most important features in the model using permutation importance\n",
    "# using the testing set\n",
    "perm_importance = permutation_importance(nn_model, X_train, y_train, n_repeats=30, random_state=42)\n",
    "sorted_importances = perm_importance.importances_mean.argsort()"
   ]
  },
  {
   "cell_type": "code",
   "execution_count": 21,
   "metadata": {},
   "outputs": [
    {
     "data": {
      "text/plain": [
       "Text(0.5, 0, 'Permutation Importance')"
      ]
     },
     "execution_count": 21,
     "metadata": {},
     "output_type": "execute_result"
    },
    {
     "data": {
      "image/png": "[encoded data removed]",
      "text/plain": [
       "<Figure size 1200x1200 with 1 Axes>"
      ]
     },
     "metadata": {},
     "output_type": "display_data"
    }
   ],
   "source": [
    "# plotting first 20 most important features in a histogram\n",
    "\n",
    "fig, ax = plt.subplots(figsize=(12, 12))\n",
    "sns.set_theme(style='ticks', font='Arial')\n",
    "\n",
    "ax.barh(X_val.columns[sorted_importances][-20:], perm_importance.importances_mean[sorted_importances][-20:], color='#FF620E')\n",
    "\n",
    "ax.set_xscale('log')\n",
    "\n",
    "ax.set_ylabel('Features', fontsize=12, fontstyle='italic')\n",
    "ax.set_xlabel('Permutation Importance', fontsize=12, fontstyle='italic')\n",
    "# ax.set_title('Permutation Importance (Testing Set)', fontsize=14)"
   ]
  }
 ],
 "metadata": {
  "kernelspec": {
   "display_name": "venv",
   "language": "python",
   "name": "python3"
  },
  "language_info": {
   "codemirror_mode": {
    "name": "ipython",
    "version": 3
   },
   "file_extension": ".py",
   "mimetype": "text/x-python",
   "name": "python",
   "nbconvert_exporter": "python",
   "pygments_lexer": "ipython3",
   "version": "3.11.9"
  }
 },
 "nbformat": 4,
 "nbformat_minor": 2
}
