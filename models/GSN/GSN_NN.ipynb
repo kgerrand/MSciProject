{
 "cells": [
  {
   "cell_type": "markdown",
   "metadata": {},
   "source": [
    "# Neural Network Final Model - Gosan, South Korea"
   ]
  },
  {
   "cell_type": "code",
   "execution_count": 1,
   "metadata": {},
   "outputs": [],
   "source": [
    "import pandas as pd\n",
    "import numpy as np\n",
    "from joblib import dump\n",
    "from pathlib import Path\n",
    "import matplotlib.pyplot as plt\n",
    "import seaborn as sns\n",
    "\n",
    "from sklearn.neural_network import MLPClassifier\n",
    "from sklearn.metrics import precision_score, recall_score, f1_score, accuracy_score\n",
    "\n",
    "import sys\n",
    "sys.path.append('../../')\n",
    "import config as cfg\n",
    "import functions as f\n",
    "\n",
    "data_path = Path.home()/'OneDrive'/'Kirstin'/'Uni'/'Year4'/'MSciProject'/'data_files'/'saved_files'"
   ]
  },
  {
   "cell_type": "code",
   "execution_count": 2,
   "metadata": {},
   "outputs": [
    {
     "name": "stdout",
     "output_type": "stream",
     "text": [
      "Creating a neural network model for \u001b[1mGosan, South Korea\u001b[0;0m.\n"
     ]
    }
   ],
   "source": [
    "site = cfg.site\n",
    "site_name = cfg.site_dict[site]\n",
    "assert site == 'GSN', 'This script is only for Gosan, South Korea. The site can be changed in the config file.'\n",
    "\n",
    "compound = cfg.compound\n",
    "\n",
    "print(f\"Creating a neural network model for \\033[1m{site_name}\\033[0;0m.\")"
   ]
  },
  {
   "cell_type": "markdown",
   "metadata": {},
   "source": [
    "### Loading & Initialising Data"
   ]
  },
  {
   "cell_type": "code",
   "execution_count": 3,
   "metadata": {},
   "outputs": [
    {
     "data": {
      "text/html": [
       "<div>\n",
       "<style scoped>\n",
       "    .dataframe tbody tr th:only-of-type {\n",
       "        vertical-align: middle;\n",
       "    }\n",
       "\n",
       "    .dataframe tbody tr th {\n",
       "        vertical-align: top;\n",
       "    }\n",
       "\n",
       "    .dataframe thead th {\n",
       "        text-align: right;\n",
       "    }\n",
       "</style>\n",
       "<table border=\"1\" class=\"dataframe\">\n",
       "  <thead>\n",
       "    <tr style=\"text-align: right;\">\n",
       "      <th></th>\n",
       "      <th>time</th>\n",
       "      <th>flag</th>\n",
       "      <th>u10_0</th>\n",
       "      <th>u10_1</th>\n",
       "      <th>u10_2</th>\n",
       "      <th>u10_3</th>\n",
       "      <th>u10_4</th>\n",
       "      <th>u10_5</th>\n",
       "      <th>u10_6</th>\n",
       "      <th>u10_7</th>\n",
       "      <th>...</th>\n",
       "      <th>v500_7_past</th>\n",
       "      <th>v500_8_past</th>\n",
       "      <th>v500_9_past</th>\n",
       "      <th>v500_10_past</th>\n",
       "      <th>v500_11_past</th>\n",
       "      <th>v500_12_past</th>\n",
       "      <th>v500_13_past</th>\n",
       "      <th>v500_14_past</th>\n",
       "      <th>v500_15_past</th>\n",
       "      <th>v500_16_past</th>\n",
       "    </tr>\n",
       "  </thead>\n",
       "  <tbody>\n",
       "    <tr>\n",
       "      <th>475</th>\n",
       "      <td>2008-02-11 17:00:00</td>\n",
       "      <td>1.0</td>\n",
       "      <td>3.606809</td>\n",
       "      <td>4.282457</td>\n",
       "      <td>11.727278</td>\n",
       "      <td>0.849762</td>\n",
       "      <td>3.280616</td>\n",
       "      <td>3.568215</td>\n",
       "      <td>1.175426</td>\n",
       "      <td>-0.312269</td>\n",
       "      <td>...</td>\n",
       "      <td>-6.902031</td>\n",
       "      <td>3.163988</td>\n",
       "      <td>5.541533</td>\n",
       "      <td>6.421309</td>\n",
       "      <td>-0.695788</td>\n",
       "      <td>2.676286</td>\n",
       "      <td>3.550085</td>\n",
       "      <td>-3.139078</td>\n",
       "      <td>-1.965247</td>\n",
       "      <td>-9.458879</td>\n",
       "    </tr>\n",
       "    <tr>\n",
       "      <th>6660</th>\n",
       "      <td>2013-07-22 23:00:00</td>\n",
       "      <td>1.0</td>\n",
       "      <td>2.880458</td>\n",
       "      <td>-1.280703</td>\n",
       "      <td>-4.003438</td>\n",
       "      <td>2.024843</td>\n",
       "      <td>1.802525</td>\n",
       "      <td>2.315362</td>\n",
       "      <td>1.254257</td>\n",
       "      <td>2.770628</td>\n",
       "      <td>...</td>\n",
       "      <td>4.765497</td>\n",
       "      <td>2.912685</td>\n",
       "      <td>4.536651</td>\n",
       "      <td>1.337879</td>\n",
       "      <td>-6.736178</td>\n",
       "      <td>-2.388087</td>\n",
       "      <td>0.988676</td>\n",
       "      <td>4.395952</td>\n",
       "      <td>3.009309</td>\n",
       "      <td>6.913268</td>\n",
       "    </tr>\n",
       "    <tr>\n",
       "      <th>190</th>\n",
       "      <td>2007-12-13 21:00:00</td>\n",
       "      <td>1.0</td>\n",
       "      <td>5.229158</td>\n",
       "      <td>2.331286</td>\n",
       "      <td>-1.849780</td>\n",
       "      <td>3.310393</td>\n",
       "      <td>7.166003</td>\n",
       "      <td>2.164175</td>\n",
       "      <td>-0.133740</td>\n",
       "      <td>4.398534</td>\n",
       "      <td>...</td>\n",
       "      <td>-8.555866</td>\n",
       "      <td>-8.198358</td>\n",
       "      <td>-10.755581</td>\n",
       "      <td>15.955865</td>\n",
       "      <td>9.346881</td>\n",
       "      <td>5.154085</td>\n",
       "      <td>5.267788</td>\n",
       "      <td>1.999921</td>\n",
       "      <td>-4.463654</td>\n",
       "      <td>-5.824809</td>\n",
       "    </tr>\n",
       "    <tr>\n",
       "      <th>5624</th>\n",
       "      <td>2012-08-02 21:00:00</td>\n",
       "      <td>1.0</td>\n",
       "      <td>-7.651175</td>\n",
       "      <td>-3.314996</td>\n",
       "      <td>-3.625885</td>\n",
       "      <td>-3.236557</td>\n",
       "      <td>-9.990013</td>\n",
       "      <td>-7.897016</td>\n",
       "      <td>-7.187233</td>\n",
       "      <td>-7.298197</td>\n",
       "      <td>...</td>\n",
       "      <td>-11.087224</td>\n",
       "      <td>5.148296</td>\n",
       "      <td>10.708876</td>\n",
       "      <td>-0.198164</td>\n",
       "      <td>0.731869</td>\n",
       "      <td>-4.645647</td>\n",
       "      <td>18.132790</td>\n",
       "      <td>-5.059176</td>\n",
       "      <td>-2.592710</td>\n",
       "      <td>2.086872</td>\n",
       "    </tr>\n",
       "    <tr>\n",
       "      <th>1222</th>\n",
       "      <td>2008-11-22 19:00:00</td>\n",
       "      <td>1.0</td>\n",
       "      <td>-1.839847</td>\n",
       "      <td>0.963796</td>\n",
       "      <td>8.650950</td>\n",
       "      <td>0.714783</td>\n",
       "      <td>-1.852007</td>\n",
       "      <td>-2.284476</td>\n",
       "      <td>0.529213</td>\n",
       "      <td>-3.862087</td>\n",
       "      <td>...</td>\n",
       "      <td>6.064653</td>\n",
       "      <td>-10.145239</td>\n",
       "      <td>-13.550945</td>\n",
       "      <td>-7.399214</td>\n",
       "      <td>-4.065040</td>\n",
       "      <td>-10.324068</td>\n",
       "      <td>9.663760</td>\n",
       "      <td>2.215184</td>\n",
       "      <td>1.121013</td>\n",
       "      <td>-15.349837</td>\n",
       "    </tr>\n",
       "  </tbody>\n",
       "</table>\n",
       "<p>5 rows × 210 columns</p>\n",
       "</div>"
      ],
      "text/plain": [
       "                    time  flag     u10_0     u10_1      u10_2     u10_3  \\\n",
       "475  2008-02-11 17:00:00   1.0  3.606809  4.282457  11.727278  0.849762   \n",
       "6660 2013-07-22 23:00:00   1.0  2.880458 -1.280703  -4.003438  2.024843   \n",
       "190  2007-12-13 21:00:00   1.0  5.229158  2.331286  -1.849780  3.310393   \n",
       "5624 2012-08-02 21:00:00   1.0 -7.651175 -3.314996  -3.625885 -3.236557   \n",
       "1222 2008-11-22 19:00:00   1.0 -1.839847  0.963796   8.650950  0.714783   \n",
       "\n",
       "         u10_4     u10_5     u10_6     u10_7  ...  v500_7_past  v500_8_past  \\\n",
       "475   3.280616  3.568215  1.175426 -0.312269  ...    -6.902031     3.163988   \n",
       "6660  1.802525  2.315362  1.254257  2.770628  ...     4.765497     2.912685   \n",
       "190   7.166003  2.164175 -0.133740  4.398534  ...    -8.555866    -8.198358   \n",
       "5624 -9.990013 -7.897016 -7.187233 -7.298197  ...   -11.087224     5.148296   \n",
       "1222 -1.852007 -2.284476  0.529213 -3.862087  ...     6.064653   -10.145239   \n",
       "\n",
       "      v500_9_past  v500_10_past  v500_11_past  v500_12_past  v500_13_past  \\\n",
       "475      5.541533      6.421309     -0.695788      2.676286      3.550085   \n",
       "6660     4.536651      1.337879     -6.736178     -2.388087      0.988676   \n",
       "190    -10.755581     15.955865      9.346881      5.154085      5.267788   \n",
       "5624    10.708876     -0.198164      0.731869     -4.645647     18.132790   \n",
       "1222   -13.550945     -7.399214     -4.065040    -10.324068      9.663760   \n",
       "\n",
       "      v500_14_past  v500_15_past  v500_16_past  \n",
       "475      -3.139078     -1.965247     -9.458879  \n",
       "6660      4.395952      3.009309      6.913268  \n",
       "190       1.999921     -4.463654     -5.824809  \n",
       "5624     -5.059176     -2.592710      2.086872  \n",
       "1222      2.215184      1.121013    -15.349837  \n",
       "\n",
       "[5 rows x 210 columns]"
      ]
     },
     "execution_count": 3,
     "metadata": {},
     "output_type": "execute_result"
    }
   ],
   "source": [
    "data = pd.read_csv(data_path/f'for_model_{compound}_{site}.csv', parse_dates=['time'])\n",
    "data.sample(5)"
   ]
  },
  {
   "cell_type": "code",
   "execution_count": 4,
   "metadata": {},
   "outputs": [
    {
     "name": "stdout",
     "output_type": "stream",
     "text": [
      "Train range: 2013-01-01 13:00:00 -> 2013-12-30 11:00:00. Length: 1066\n",
      "Val range: 2014-01-02 09:00:00 -> 2014-12-31 23:00:00. Length: 915\n",
      "Test range: 2015-01-01 01:00:00 -> 2017-12-31 23:00:00. Length: 2808\n"
     ]
    }
   ],
   "source": [
    "train_data = data[(data['time'].dt.year >= 2013) & (data['time'].dt.year <= 2013)]\n",
    "val_data = data[(data['time'].dt.year >= 2014) & (data['time'].dt.year <= 2014)]\n",
    "test_data = data[(data['time'].dt.year >= 2015) & (data['time'].dt.year <= 2017)]\n",
    "\n",
    "print(f\"Train range: {train_data['time'].min()} -> {train_data['time'].max()}. Length: {len(train_data)}\")\n",
    "print(f\"Val range: {val_data['time'].min()} -> {val_data['time'].max()}. Length: {len(val_data)}\")\n",
    "print(f\"Test range: {test_data['time'].min()} -> {test_data['time'].max()}. Length: {len(test_data)}\")\n",
    "\n",
    "\n",
    "# Drop the \"time\" column as it won't be used in the model\n",
    "train_data = train_data.drop(columns=['time'])\n",
    "val_data = val_data.drop(columns=['time'])\n",
    "test_data = test_data.drop(columns=['time'])\n",
    "\n",
    "# Define the features (X) and the target (y)\n",
    "X_train = train_data.drop(columns=['flag'])\n",
    "y_train = train_data['flag']\n",
    "X_val = val_data.drop(columns=['flag'])\n",
    "y_val = val_data['flag']\n",
    "X_test = test_data.drop(columns=['flag'])\n",
    "y_test = test_data['flag']\n",
    "\n",
    "# Balanced Data - removing NaN values and associated data\n",
    "y_train = y_train.dropna()\n",
    "y_val = y_val.dropna()\n",
    "y_test = y_test.dropna()\n",
    "\n",
    "# aligning indices of features sets\n",
    "X_train = X_train.loc[y_train.index]\n",
    "X_val = X_val.loc[y_val.index]\n",
    "X_test = X_test.loc[y_test.index]"
   ]
  },
  {
   "cell_type": "markdown",
   "metadata": {},
   "source": [
    "### Model"
   ]
  },
  {
   "cell_type": "code",
   "execution_count": 5,
   "metadata": {},
   "outputs": [
    {
     "name": "stdout",
     "output_type": "stream",
     "text": [
      "Precision on Training Set = 0.885\n",
      "Precision on Validation Set = 0.866\n",
      "Recall on Training Set = 0.762\n",
      "Recall on Validation Set = 0.814\n",
      "F1 Score on Training Set = 0.819\n",
      "F1 Score on Validation Set = 0.839\n"
     ]
    }
   ],
   "source": [
    "nn_model = MLPClassifier(random_state=42,\n",
    "                         max_iter=1000, \n",
    "                         hidden_layer_sizes=(100,), \n",
    "                         shuffle=False,\n",
    "                         activation='relu', \n",
    "                         solver='adam', \n",
    "                         alpha=0.0001, \n",
    "                         learning_rate='constant', \n",
    "                         batch_size=100, \n",
    "                         early_stopping=False,\n",
    "                         learning_rate_init=0.01,\n",
    "                         beta_2=0.9,)\n",
    "\n",
    "nn_model.fit(X_train, y_train)\n",
    "\n",
    "class_probabilities_val = nn_model.predict_proba(X_val)\n",
    "class_probabilities_train = nn_model.predict_proba(X_train)\n",
    "\n",
    "confidence_threshold = config.confidence_threshold\n",
    "\n",
    "y_pred_val = (class_probabilities_val[:,1] > confidence_threshold).astype(int)\n",
    "y_pred_train = (class_probabilities_train[:,1] > confidence_threshold).astype(int)\n",
    "\n",
    "precision_val = precision_score(y_val, y_pred_val)\n",
    "precision_train = precision_score(y_train, y_pred_train)\n",
    "recall_val = recall_score(y_val, y_pred_val)\n",
    "recall_train = recall_score(y_train, y_pred_train)\n",
    "f1_val = f1_score(y_val, y_pred_val)\n",
    "f1_train = f1_score(y_train, y_pred_train)\n",
    "\n",
    "print(f\"Precision on Training Set = {precision_train:.3f}\")\n",
    "print(f\"Precision on Validation Set = {precision_val:.3f}\")\n",
    "print(f\"Recall on Training Set = {recall_train:.3f}\")\n",
    "print(f\"Recall on Validation Set = {recall_val:.3f}\")\n",
    "print(f\"F1 Score on Training Set = {f1_train:.3f}\")\n",
    "print(f\"F1 Score on Validation Set = {f1_val:.3f}\")"
   ]
  },
  {
   "cell_type": "code",
   "execution_count": 6,
   "metadata": {},
   "outputs": [
    {
     "name": "stdout",
     "output_type": "stream",
     "text": [
      "Precision on Testing Set = 0.886\n",
      "Recall on Testing Set = 0.820\n",
      "F1 Score on Testing Set = 0.852\n"
     ]
    }
   ],
   "source": [
    "# evaluating model on test set\n",
    "class_probabilities_test = nn_model.predict_proba(X_test)\n",
    "\n",
    "y_pred_test = (class_probabilities_test[:,1] > confidence_threshold).astype(int)\n",
    "\n",
    "precision_test = precision_score(y_test, y_pred_test)\n",
    "recall_test = recall_score(y_test, y_pred_test)\n",
    "f1_test = f1_score(y_test, y_pred_test)\n",
    "\n",
    "print(f\"Precision on Testing Set = {precision_test:.3f}\")\n",
    "print(f\"Recall on Testing Set = {recall_test:.3f}\")\n",
    "print(f\"F1 Score on Testing Set = {f1_test:.3f}\")"
   ]
  },
  {
   "cell_type": "code",
   "execution_count": 13,
   "metadata": {},
   "outputs": [
    {
     "data": {
      "text/plain": [
       "['C:\\\\Users\\\\kirst\\\\OneDrive\\\\Kirstin\\\\Uni\\\\Year4\\\\MSciProject\\\\data_files\\\\saved_files\\\\nn_model_GSN.joblib']"
      ]
     },
     "execution_count": 13,
     "metadata": {},
     "output_type": "execute_result"
    }
   ],
   "source": [
    "# saving the model\n",
    "dump(nn_model, data_path/f'nn_model_GSN.joblib')"
   ]
  },
  {
   "cell_type": "markdown",
   "metadata": {},
   "source": [
    "### Assessing Feature Importance"
   ]
  },
  {
   "cell_type": "code",
   "execution_count": 7,
   "metadata": {},
   "outputs": [],
   "source": [
    "# grouping features by category i.e. x-wind, y-wind, temporal etc.\n",
    "u_features = [col for col in data.columns if 'u' in col]\n",
    "v_features = [col for col in data.columns if 'v' in col]\n",
    "temporal_features = ['day_of_year', 'time_of_day']\n",
    "sp = ['sp']\n",
    "blh = ['blh']\n",
    "\n",
    "groups = [u_features, v_features, temporal_features, sp, blh]"
   ]
  },
  {
   "cell_type": "code",
   "execution_count": 8,
   "metadata": {},
   "outputs": [],
   "source": [
    "original_score = accuracy_score(y_train, nn_model.predict(X_train))\n",
    "importances = {}\n",
    "\n",
    "for group in groups:\n",
    "    scores_diff = []\n",
    "    for _ in range(100):\n",
    "        X_train_permuted = f.permute_group(X_train, group)\n",
    "        \n",
    "        permuted_score = accuracy_score(y_train, nn_model.predict(X_train_permuted))\n",
    "        scores_diff.append(original_score - permuted_score)\n",
    "    \n",
    "    importances[str(group)] = np.mean(scores_diff)\n",
    "\n",
    "# Sort groups by importance\n",
    "sorted_importances = sorted(importances.items(), key=lambda x: x[1], reverse=False)"
   ]
  },
  {
   "cell_type": "code",
   "execution_count": 9,
   "metadata": {},
   "outputs": [],
   "source": [
    "# matching the group names to the sorted importances\n",
    "n = len(groups)\n",
    "group_names_sorted = []\n",
    "\n",
    "for i in range(n):\n",
    "    name = sorted_importances[i][0]\n",
    "\n",
    "    if 'u10_0' in name:\n",
    "        group_names_sorted.append('u-wind')\n",
    "\n",
    "    elif 'v10_0' in name:\n",
    "        group_names_sorted.append('v-wind')\n",
    "\n",
    "    elif 'day_of_year' in name:\n",
    "        group_names_sorted.append('temporal')\n",
    "\n",
    "    elif 'sp' in name:\n",
    "        group_names_sorted.append('sp')\n",
    "\n",
    "    elif 'blh' in name:\n",
    "        group_names_sorted.append('blh')"
   ]
  },
  {
   "cell_type": "code",
   "execution_count": 10,
   "metadata": {},
   "outputs": [
    {
     "data": {
      "text/plain": [
       "Text(0, 0.5, 'Feature Group')"
      ]
     },
     "execution_count": 10,
     "metadata": {},
     "output_type": "execute_result"
    },
    {
     "data": {
      "image/png": "[encoded data removed]",
      "text/plain": [
       "<Figure size 1200x800 with 1 Axes>"
      ]
     },
     "metadata": {},
     "output_type": "display_data"
    }
   ],
   "source": [
    "# Plotting the importances of the groups\n",
    "fig, ax = plt.subplots(figsize=(12, 8))\n",
    "sns.set_theme(style='ticks', font='Arial')\n",
    "\n",
    "ax.barh(group_names_sorted, [importance for _, importance in sorted_importances], color='#FF620E')\n",
    "\n",
    "ax.set_xlabel('Importance', fontsize=12, fontstyle='italic')\n",
    "ax.set_ylabel('Feature Group', fontsize=12, fontstyle='italic')\n",
    "# ax.set_title('Permutation Importances', fontsize=14)"
   ]
  }
 ],
 "metadata": {
  "kernelspec": {
   "display_name": "venv",
   "language": "python",
   "name": "python3"
  },
  "language_info": {
   "codemirror_mode": {
    "name": "ipython",
    "version": 3
   },
   "file_extension": ".py",
   "mimetype": "text/x-python",
   "name": "python",
   "nbconvert_exporter": "python",
   "pygments_lexer": "ipython3",
   "version": "3.11.9"
  }
 },
 "nbformat": 4,
 "nbformat_minor": 2
}
