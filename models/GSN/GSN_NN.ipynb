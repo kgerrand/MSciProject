{
 "cells": [
  {
   "cell_type": "markdown",
   "metadata": {},
   "source": [
    "# Neural Network Final Model - Gosan, South Korea"
   ]
  },
  {
   "cell_type": "code",
   "execution_count": 1,
   "metadata": {},
   "outputs": [],
   "source": [
    "import pandas as pd\n",
    "from joblib import dump\n",
    "from pathlib import Path\n",
    "import matplotlib.pyplot as plt\n",
    "import seaborn as sns\n",
    "\n",
    "from sklearn.neural_network import MLPClassifier\n",
    "from sklearn.metrics import precision_score, recall_score, f1_score\n",
    "from sklearn.inspection import permutation_importance\n",
    "\n",
    "import sys\n",
    "sys.path.append('../../')\n",
    "import config\n",
    "\n",
    "data_path = Path.home()/'OneDrive'/'Kirstin'/'Uni'/'Year4'/'MSciProject'/'data_files'/'saved_files'"
   ]
  },
  {
   "cell_type": "code",
   "execution_count": 2,
   "metadata": {},
   "outputs": [
    {
     "name": "stdout",
     "output_type": "stream",
     "text": [
      "Creating a neural network model for \u001b[1mGosan, South Korea\u001b[0;0m.\n"
     ]
    }
   ],
   "source": [
    "site = config.site\n",
    "site_name = config.site_dict[site]\n",
    "assert site == 'GSN', 'This script is only for Gosan, South Korea. The site can be changed in the config file.'\n",
    "\n",
    "compound = config.compound\n",
    "\n",
    "print(f\"Creating a neural network model for \\033[1m{site_name}\\033[0;0m.\")"
   ]
  },
  {
   "cell_type": "markdown",
   "metadata": {},
   "source": [
    "### Loading & Initialising Data"
   ]
  },
  {
   "cell_type": "code",
   "execution_count": 3,
   "metadata": {},
   "outputs": [
    {
     "data": {
      "text/html": [
       "<div>\n",
       "<style scoped>\n",
       "    .dataframe tbody tr th:only-of-type {\n",
       "        vertical-align: middle;\n",
       "    }\n",
       "\n",
       "    .dataframe tbody tr th {\n",
       "        vertical-align: top;\n",
       "    }\n",
       "\n",
       "    .dataframe thead th {\n",
       "        text-align: right;\n",
       "    }\n",
       "</style>\n",
       "<table border=\"1\" class=\"dataframe\">\n",
       "  <thead>\n",
       "    <tr style=\"text-align: right;\">\n",
       "      <th></th>\n",
       "      <th>time</th>\n",
       "      <th>flag</th>\n",
       "      <th>u10_0</th>\n",
       "      <th>u10_1</th>\n",
       "      <th>u10_2</th>\n",
       "      <th>u10_3</th>\n",
       "      <th>u10_4</th>\n",
       "      <th>u10_5</th>\n",
       "      <th>u10_6</th>\n",
       "      <th>u10_7</th>\n",
       "      <th>...</th>\n",
       "      <th>v500_7_past</th>\n",
       "      <th>v500_8_past</th>\n",
       "      <th>v500_9_past</th>\n",
       "      <th>v500_10_past</th>\n",
       "      <th>v500_11_past</th>\n",
       "      <th>v500_12_past</th>\n",
       "      <th>v500_13_past</th>\n",
       "      <th>v500_14_past</th>\n",
       "      <th>v500_15_past</th>\n",
       "      <th>v500_16_past</th>\n",
       "    </tr>\n",
       "  </thead>\n",
       "  <tbody>\n",
       "    <tr>\n",
       "      <th>9953</th>\n",
       "      <td>2017-01-31 07:00:00</td>\n",
       "      <td>1.0</td>\n",
       "      <td>1.066592</td>\n",
       "      <td>2.298656</td>\n",
       "      <td>5.749096</td>\n",
       "      <td>0.398606</td>\n",
       "      <td>-4.515357</td>\n",
       "      <td>-3.149146</td>\n",
       "      <td>-2.514146</td>\n",
       "      <td>-0.781779</td>\n",
       "      <td>...</td>\n",
       "      <td>4.194950</td>\n",
       "      <td>1.378134</td>\n",
       "      <td>-3.271864</td>\n",
       "      <td>-10.570795</td>\n",
       "      <td>-9.722370</td>\n",
       "      <td>-2.577801</td>\n",
       "      <td>12.222874</td>\n",
       "      <td>8.647770</td>\n",
       "      <td>7.140212</td>\n",
       "      <td>-7.420469</td>\n",
       "    </tr>\n",
       "    <tr>\n",
       "      <th>560</th>\n",
       "      <td>2008-02-25 19:00:00</td>\n",
       "      <td>1.0</td>\n",
       "      <td>3.867446</td>\n",
       "      <td>1.694058</td>\n",
       "      <td>9.958856</td>\n",
       "      <td>-0.521625</td>\n",
       "      <td>-1.825870</td>\n",
       "      <td>-0.489376</td>\n",
       "      <td>-0.013567</td>\n",
       "      <td>4.918455</td>\n",
       "      <td>...</td>\n",
       "      <td>7.794763</td>\n",
       "      <td>3.770029</td>\n",
       "      <td>4.537442</td>\n",
       "      <td>7.779223</td>\n",
       "      <td>1.286097</td>\n",
       "      <td>-0.310886</td>\n",
       "      <td>2.043947</td>\n",
       "      <td>1.517994</td>\n",
       "      <td>7.405079</td>\n",
       "      <td>-12.905064</td>\n",
       "    </tr>\n",
       "    <tr>\n",
       "      <th>2922</th>\n",
       "      <td>2010-03-27 01:00:00</td>\n",
       "      <td>1.0</td>\n",
       "      <td>1.809918</td>\n",
       "      <td>-2.010918</td>\n",
       "      <td>-4.233082</td>\n",
       "      <td>1.344453</td>\n",
       "      <td>-6.806356</td>\n",
       "      <td>-5.811641</td>\n",
       "      <td>0.013568</td>\n",
       "      <td>-0.130669</td>\n",
       "      <td>...</td>\n",
       "      <td>-0.524079</td>\n",
       "      <td>-11.852918</td>\n",
       "      <td>-16.213966</td>\n",
       "      <td>11.646963</td>\n",
       "      <td>-1.690208</td>\n",
       "      <td>6.176046</td>\n",
       "      <td>-1.444707</td>\n",
       "      <td>0.359042</td>\n",
       "      <td>0.190260</td>\n",
       "      <td>-17.697199</td>\n",
       "    </tr>\n",
       "    <tr>\n",
       "      <th>5944</th>\n",
       "      <td>2012-11-29 03:00:00</td>\n",
       "      <td>1.0</td>\n",
       "      <td>-2.060659</td>\n",
       "      <td>1.689836</td>\n",
       "      <td>2.417792</td>\n",
       "      <td>1.017524</td>\n",
       "      <td>-0.762499</td>\n",
       "      <td>4.652142</td>\n",
       "      <td>-0.741274</td>\n",
       "      <td>-4.444730</td>\n",
       "      <td>...</td>\n",
       "      <td>-1.726764</td>\n",
       "      <td>1.040216</td>\n",
       "      <td>-0.669091</td>\n",
       "      <td>2.976608</td>\n",
       "      <td>1.536347</td>\n",
       "      <td>5.087016</td>\n",
       "      <td>2.284246</td>\n",
       "      <td>-0.001413</td>\n",
       "      <td>-10.204187</td>\n",
       "      <td>-8.798483</td>\n",
       "    </tr>\n",
       "    <tr>\n",
       "      <th>11890</th>\n",
       "      <td>2019-01-02 19:00:00</td>\n",
       "      <td>1.0</td>\n",
       "      <td>0.648907</td>\n",
       "      <td>1.417436</td>\n",
       "      <td>3.485810</td>\n",
       "      <td>1.362577</td>\n",
       "      <td>2.105201</td>\n",
       "      <td>-2.626358</td>\n",
       "      <td>0.448266</td>\n",
       "      <td>-2.127551</td>\n",
       "      <td>...</td>\n",
       "      <td>1.819985</td>\n",
       "      <td>-7.849344</td>\n",
       "      <td>-2.946537</td>\n",
       "      <td>-12.508213</td>\n",
       "      <td>-5.888680</td>\n",
       "      <td>1.258813</td>\n",
       "      <td>1.655069</td>\n",
       "      <td>-1.251570</td>\n",
       "      <td>0.153649</td>\n",
       "      <td>-4.005892</td>\n",
       "    </tr>\n",
       "  </tbody>\n",
       "</table>\n",
       "<p>5 rows × 210 columns</p>\n",
       "</div>"
      ],
      "text/plain": [
       "                     time  flag     u10_0     u10_1     u10_2     u10_3  \\\n",
       "9953  2017-01-31 07:00:00   1.0  1.066592  2.298656  5.749096  0.398606   \n",
       "560   2008-02-25 19:00:00   1.0  3.867446  1.694058  9.958856 -0.521625   \n",
       "2922  2010-03-27 01:00:00   1.0  1.809918 -2.010918 -4.233082  1.344453   \n",
       "5944  2012-11-29 03:00:00   1.0 -2.060659  1.689836  2.417792  1.017524   \n",
       "11890 2019-01-02 19:00:00   1.0  0.648907  1.417436  3.485810  1.362577   \n",
       "\n",
       "          u10_4     u10_5     u10_6     u10_7  ...  v500_7_past  v500_8_past  \\\n",
       "9953  -4.515357 -3.149146 -2.514146 -0.781779  ...     4.194950     1.378134   \n",
       "560   -1.825870 -0.489376 -0.013567  4.918455  ...     7.794763     3.770029   \n",
       "2922  -6.806356 -5.811641  0.013568 -0.130669  ...    -0.524079   -11.852918   \n",
       "5944  -0.762499  4.652142 -0.741274 -4.444730  ...    -1.726764     1.040216   \n",
       "11890  2.105201 -2.626358  0.448266 -2.127551  ...     1.819985    -7.849344   \n",
       "\n",
       "       v500_9_past  v500_10_past  v500_11_past  v500_12_past  v500_13_past  \\\n",
       "9953     -3.271864    -10.570795     -9.722370     -2.577801     12.222874   \n",
       "560       4.537442      7.779223      1.286097     -0.310886      2.043947   \n",
       "2922    -16.213966     11.646963     -1.690208      6.176046     -1.444707   \n",
       "5944     -0.669091      2.976608      1.536347      5.087016      2.284246   \n",
       "11890    -2.946537    -12.508213     -5.888680      1.258813      1.655069   \n",
       "\n",
       "       v500_14_past  v500_15_past  v500_16_past  \n",
       "9953       8.647770      7.140212     -7.420469  \n",
       "560        1.517994      7.405079    -12.905064  \n",
       "2922       0.359042      0.190260    -17.697199  \n",
       "5944      -0.001413    -10.204187     -8.798483  \n",
       "11890     -1.251570      0.153649     -4.005892  \n",
       "\n",
       "[5 rows x 210 columns]"
      ]
     },
     "execution_count": 3,
     "metadata": {},
     "output_type": "execute_result"
    }
   ],
   "source": [
    "data = pd.read_csv(data_path/f'for_model_{compound}_{site}.csv', parse_dates=['time'])\n",
    "data.sample(5)"
   ]
  },
  {
   "cell_type": "code",
   "execution_count": 25,
   "metadata": {},
   "outputs": [
    {
     "name": "stdout",
     "output_type": "stream",
     "text": [
      "Train range: 2009-01-01 01:00:00 -> 2013-12-30 11:00:00. Length: 5748\n",
      "Val range: 2014-01-02 09:00:00 -> 2014-12-31 23:00:00. Length: 915\n",
      "Test range: 2015-01-01 01:00:00 -> 2017-12-31 23:00:00. Length: 2808\n"
     ]
    }
   ],
   "source": [
    "train_data = data[(data['time'].dt.year >= 2009) & (data['time'].dt.year <= 2013)]\n",
    "val_data = data[(data['time'].dt.year >= 2014) & (data['time'].dt.year <= 2014)]\n",
    "test_data = data[(data['time'].dt.year >= 2015) & (data['time'].dt.year <= 2017)]\n",
    "\n",
    "print(f\"Train range: {train_data['time'].min()} -> {train_data['time'].max()}. Length: {len(train_data)}\")\n",
    "print(f\"Val range: {val_data['time'].min()} -> {val_data['time'].max()}. Length: {len(val_data)}\")\n",
    "print(f\"Test range: {test_data['time'].min()} -> {test_data['time'].max()}. Length: {len(test_data)}\")\n",
    "\n",
    "\n",
    "# Drop the \"time\" column as it won't be used in the model\n",
    "train_data = train_data.drop(columns=['time'])\n",
    "val_data = val_data.drop(columns=['time'])\n",
    "test_data = test_data.drop(columns=['time'])\n",
    "\n",
    "# Define the features (X) and the target (y)\n",
    "X_train = train_data.drop(columns=['flag'])\n",
    "y_train = train_data['flag']\n",
    "X_val = val_data.drop(columns=['flag'])\n",
    "y_val = val_data['flag']\n",
    "X_test = test_data.drop(columns=['flag'])\n",
    "y_test = test_data['flag']\n",
    "\n",
    "# Balanced Data - removing NaN values and associated data\n",
    "y_train = y_train.dropna()\n",
    "y_val = y_val.dropna()\n",
    "y_test = y_test.dropna()\n",
    "\n",
    "# aligning indices of features sets\n",
    "X_train = X_train.loc[y_train.index]\n",
    "X_val = X_val.loc[y_val.index]\n",
    "X_test = X_test.loc[y_test.index]"
   ]
  },
  {
   "cell_type": "markdown",
   "metadata": {},
   "source": [
    "### Model"
   ]
  },
  {
   "cell_type": "code",
   "execution_count": 32,
   "metadata": {},
   "outputs": [
    {
     "name": "stdout",
     "output_type": "stream",
     "text": [
      "Precision on Training Set = 0.935\n",
      "Precision on Validation Set = 0.917\n",
      "Recall on Training Set = 0.522\n",
      "Recall on Validation Set = 0.609\n",
      "F1 Score on Training Set = 0.670\n",
      "F1 Score on Validation Set = 0.732\n"
     ]
    }
   ],
   "source": [
    "nn_model = MLPClassifier(random_state=42,\n",
    "                         max_iter=1000, \n",
    "                         hidden_layer_sizes=(100,), \n",
    "                         shuffle=False,\n",
    "                         activation='relu', \n",
    "                         solver='adam', \n",
    "                         alpha=0.0001, \n",
    "                         learning_rate='constant', \n",
    "                         batch_size=100, \n",
    "                         early_stopping=False,\n",
    "                         learning_rate_init=0.001,\n",
    "                         beta_2=0.9,)\n",
    "\n",
    "nn_model.fit(X_train, y_train)\n",
    "\n",
    "y_pred_val = nn_model.predict(X_val)\n",
    "y_pred_train = nn_model.predict(X_train)\n",
    "\n",
    "\n",
    "precision_val = precision_score(y_val, y_pred_val)\n",
    "precision_train = precision_score(y_train, y_pred_train)\n",
    "recall_val = recall_score(y_val, y_pred_val)\n",
    "recall_train = recall_score(y_train, y_pred_train)\n",
    "f1_val = f1_score(y_val, y_pred_val)\n",
    "f1_train = f1_score(y_train, y_pred_train)\n",
    "\n",
    "print(f\"Precision on Training Set = {precision_train:.3f}\")\n",
    "print(f\"Precision on Validation Set = {precision_val:.3f}\")\n",
    "print(f\"Recall on Training Set = {recall_train:.3f}\")\n",
    "print(f\"Recall on Validation Set = {recall_val:.3f}\")\n",
    "print(f\"F1 Score on Training Set = {f1_train:.3f}\")\n",
    "print(f\"F1 Score on Validation Set = {f1_val:.3f}\")"
   ]
  },
  {
   "cell_type": "code",
   "execution_count": 33,
   "metadata": {},
   "outputs": [
    {
     "name": "stdout",
     "output_type": "stream",
     "text": [
      "Precision on Testing Set = 0.933\n",
      "Recall on Testing Set = 0.641\n",
      "F1 Score on Testing Set = 0.760\n"
     ]
    }
   ],
   "source": [
    "# evaluating model on test set\n",
    "y_pred_test = nn_model.predict(X_test)\n",
    "\n",
    "precision_test = precision_score(y_test, y_pred_test)\n",
    "recall_test = recall_score(y_test, y_pred_test)\n",
    "f1_test = f1_score(y_test, y_pred_test)\n",
    "\n",
    "print(f\"Precision on Testing Set = {precision_test:.3f}\")\n",
    "print(f\"Recall on Testing Set = {recall_test:.3f}\")\n",
    "print(f\"F1 Score on Testing Set = {f1_test:.3f}\")"
   ]
  },
  {
   "cell_type": "code",
   "execution_count": 34,
   "metadata": {},
   "outputs": [
    {
     "data": {
      "text/plain": [
       "['C:\\\\Users\\\\kirst\\\\OneDrive\\\\Kirstin\\\\Uni\\\\Year4\\\\MSciProject\\\\data_files\\\\saved_files\\\\nn_model_GSN.joblib']"
      ]
     },
     "execution_count": 34,
     "metadata": {},
     "output_type": "execute_result"
    }
   ],
   "source": [
    "# saving the model\n",
    "dump(nn_model, data_path/f'nn_model_GSN.joblib')"
   ]
  },
  {
   "cell_type": "markdown",
   "metadata": {},
   "source": [
    "### Assessing Feature Importance"
   ]
  },
  {
   "cell_type": "code",
   "execution_count": 35,
   "metadata": {},
   "outputs": [],
   "source": [
    "# finding most important features in the model using permutation importance\n",
    "# using the testing set\n",
    "perm_importance = permutation_importance(nn_model, X_train, y_train, n_repeats=30, random_state=42)\n",
    "sorted_importances = perm_importance.importances_mean.argsort()"
   ]
  },
  {
   "cell_type": "code",
   "execution_count": 36,
   "metadata": {},
   "outputs": [
    {
     "data": {
      "text/plain": [
       "Text(0.5, 1.0, 'Permutation Importance (Testing Set)')"
      ]
     },
     "execution_count": 36,
     "metadata": {},
     "output_type": "execute_result"
    },
    {
     "data": {
      "image/png": "[encoded data removed]",
      "text/plain": [
       "<Figure size 1000x1000 with 1 Axes>"
      ]
     },
     "metadata": {},
     "output_type": "display_data"
    }
   ],
   "source": [
    "# plotting first 20 most important features in a histogram\n",
    "\n",
    "fig, ax = plt.subplots(figsize=(10, 10))\n",
    "sns.set_theme(style='ticks', font='Arial')\n",
    "ax.minorticks_on()\n",
    "\n",
    "ax.barh(X_val.columns[sorted_importances][-20:], perm_importance.importances_mean[sorted_importances][-20:], color='#FF620E')\n",
    "\n",
    "ax.set_xscale('log')\n",
    "\n",
    "ax.set_ylabel('Features')\n",
    "ax.set_xlabel('Permutation Importance')\n",
    "ax.set_title('Permutation Importance (Testing Set)', fontsize=14)"
   ]
  }
 ],
 "metadata": {
  "kernelspec": {
   "display_name": "venv",
   "language": "python",
   "name": "python3"
  },
  "language_info": {
   "codemirror_mode": {
    "name": "ipython",
    "version": 3
   },
   "file_extension": ".py",
   "mimetype": "text/x-python",
   "name": "python",
   "nbconvert_exporter": "python",
   "pygments_lexer": "ipython3",
   "version": "3.11.5"
  }
 },
 "nbformat": 4,
 "nbformat_minor": 2
}
