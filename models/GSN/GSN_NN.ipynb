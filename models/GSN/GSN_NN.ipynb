{
 "cells": [
  {
   "cell_type": "markdown",
   "metadata": {},
   "source": [
    "# Neural Network Final Model - Gosan, South Korea"
   ]
  },
  {
   "cell_type": "code",
   "execution_count": 1,
   "metadata": {},
   "outputs": [],
   "source": [
    "import pandas as pd\n",
    "from joblib import dump\n",
    "from pathlib import Path\n",
    "import matplotlib.pyplot as plt\n",
    "import seaborn as sns\n",
    "\n",
    "from sklearn.neural_network import MLPClassifier\n",
    "from sklearn.metrics import precision_score, recall_score, f1_score\n",
    "from sklearn.inspection import permutation_importance\n",
    "\n",
    "import sys\n",
    "sys.path.append('../../')\n",
    "import config\n",
    "\n",
    "data_path = Path.home()/'OneDrive'/'Kirstin'/'Uni'/'Year4'/'MSciProject'/'data_files'/'saved_files'"
   ]
  },
  {
   "cell_type": "code",
   "execution_count": 2,
   "metadata": {},
   "outputs": [
    {
     "name": "stdout",
     "output_type": "stream",
     "text": [
      "Creating a neural network model for \u001b[1mGosan, South Korea\u001b[0;0m.\n"
     ]
    }
   ],
   "source": [
    "site = config.site\n",
    "site_name = config.site_dict[site]\n",
    "assert site == 'GSN', 'This script is only for Gosan, South Korea. The site can be changed in the config file.'\n",
    "\n",
    "compound = config.compound\n",
    "\n",
    "print(f\"Creating a neural network model for \\033[1m{site_name}\\033[0;0m.\")"
   ]
  },
  {
   "cell_type": "markdown",
   "metadata": {},
   "source": [
    "### Loading & Initialising Data"
   ]
  },
  {
   "cell_type": "code",
   "execution_count": 3,
   "metadata": {},
   "outputs": [
    {
     "data": {
      "text/html": [
       "<div>\n",
       "<style scoped>\n",
       "    .dataframe tbody tr th:only-of-type {\n",
       "        vertical-align: middle;\n",
       "    }\n",
       "\n",
       "    .dataframe tbody tr th {\n",
       "        vertical-align: top;\n",
       "    }\n",
       "\n",
       "    .dataframe thead th {\n",
       "        text-align: right;\n",
       "    }\n",
       "</style>\n",
       "<table border=\"1\" class=\"dataframe\">\n",
       "  <thead>\n",
       "    <tr style=\"text-align: right;\">\n",
       "      <th></th>\n",
       "      <th>time</th>\n",
       "      <th>flag</th>\n",
       "      <th>u10_0</th>\n",
       "      <th>u10_1</th>\n",
       "      <th>u10_2</th>\n",
       "      <th>u10_3</th>\n",
       "      <th>u10_4</th>\n",
       "      <th>u10_5</th>\n",
       "      <th>u10_6</th>\n",
       "      <th>u10_7</th>\n",
       "      <th>...</th>\n",
       "      <th>v500_7_past</th>\n",
       "      <th>v500_8_past</th>\n",
       "      <th>v500_9_past</th>\n",
       "      <th>v500_10_past</th>\n",
       "      <th>v500_11_past</th>\n",
       "      <th>v500_12_past</th>\n",
       "      <th>v500_13_past</th>\n",
       "      <th>v500_14_past</th>\n",
       "      <th>v500_15_past</th>\n",
       "      <th>v500_16_past</th>\n",
       "    </tr>\n",
       "  </thead>\n",
       "  <tbody>\n",
       "    <tr>\n",
       "      <th>11930</th>\n",
       "      <td>2019-01-10 09:00:00</td>\n",
       "      <td>1.0</td>\n",
       "      <td>2.081327</td>\n",
       "      <td>1.941133</td>\n",
       "      <td>9.792016</td>\n",
       "      <td>2.903699</td>\n",
       "      <td>2.971256</td>\n",
       "      <td>-3.946013</td>\n",
       "      <td>-0.816530</td>\n",
       "      <td>-0.328898</td>\n",
       "      <td>...</td>\n",
       "      <td>6.657513</td>\n",
       "      <td>-0.435008</td>\n",
       "      <td>-6.417784</td>\n",
       "      <td>-5.916165</td>\n",
       "      <td>-6.045579</td>\n",
       "      <td>-1.072912</td>\n",
       "      <td>8.500217</td>\n",
       "      <td>10.266190</td>\n",
       "      <td>2.140655</td>\n",
       "      <td>6.134135</td>\n",
       "    </tr>\n",
       "    <tr>\n",
       "      <th>5965</th>\n",
       "      <td>2012-12-04 11:00:00</td>\n",
       "      <td>1.0</td>\n",
       "      <td>2.196390</td>\n",
       "      <td>1.741403</td>\n",
       "      <td>13.506461</td>\n",
       "      <td>2.619071</td>\n",
       "      <td>2.991272</td>\n",
       "      <td>-3.530663</td>\n",
       "      <td>-0.443344</td>\n",
       "      <td>-2.064742</td>\n",
       "      <td>...</td>\n",
       "      <td>5.632684</td>\n",
       "      <td>-13.724314</td>\n",
       "      <td>-12.545633</td>\n",
       "      <td>24.230204</td>\n",
       "      <td>-1.792609</td>\n",
       "      <td>10.537596</td>\n",
       "      <td>2.029367</td>\n",
       "      <td>-1.668401</td>\n",
       "      <td>4.786519</td>\n",
       "      <td>-5.313121</td>\n",
       "    </tr>\n",
       "    <tr>\n",
       "      <th>8906</th>\n",
       "      <td>2016-01-07 21:00:00</td>\n",
       "      <td>1.0</td>\n",
       "      <td>4.430702</td>\n",
       "      <td>2.060550</td>\n",
       "      <td>6.775737</td>\n",
       "      <td>3.168132</td>\n",
       "      <td>5.641813</td>\n",
       "      <td>2.225339</td>\n",
       "      <td>-1.279349</td>\n",
       "      <td>4.076006</td>\n",
       "      <td>...</td>\n",
       "      <td>7.132246</td>\n",
       "      <td>-2.418266</td>\n",
       "      <td>-6.353641</td>\n",
       "      <td>-0.081850</td>\n",
       "      <td>9.726998</td>\n",
       "      <td>5.435414</td>\n",
       "      <td>3.448380</td>\n",
       "      <td>9.987612</td>\n",
       "      <td>-6.377540</td>\n",
       "      <td>-13.013507</td>\n",
       "    </tr>\n",
       "    <tr>\n",
       "      <th>633</th>\n",
       "      <td>2008-03-11 11:00:00</td>\n",
       "      <td>0.0</td>\n",
       "      <td>-0.091662</td>\n",
       "      <td>-0.444823</td>\n",
       "      <td>-7.483113</td>\n",
       "      <td>-0.497278</td>\n",
       "      <td>-3.229081</td>\n",
       "      <td>-5.247812</td>\n",
       "      <td>-1.224374</td>\n",
       "      <td>-3.486162</td>\n",
       "      <td>...</td>\n",
       "      <td>-2.541775</td>\n",
       "      <td>-3.370158</td>\n",
       "      <td>-2.630784</td>\n",
       "      <td>-1.403637</td>\n",
       "      <td>10.361071</td>\n",
       "      <td>8.576129</td>\n",
       "      <td>8.982014</td>\n",
       "      <td>6.077924</td>\n",
       "      <td>-1.017929</td>\n",
       "      <td>-7.773170</td>\n",
       "    </tr>\n",
       "    <tr>\n",
       "      <th>1349</th>\n",
       "      <td>2008-12-19 17:00:00</td>\n",
       "      <td>1.0</td>\n",
       "      <td>4.456158</td>\n",
       "      <td>1.805359</td>\n",
       "      <td>7.064444</td>\n",
       "      <td>0.616569</td>\n",
       "      <td>-2.400770</td>\n",
       "      <td>-1.021711</td>\n",
       "      <td>1.275510</td>\n",
       "      <td>3.748483</td>\n",
       "      <td>...</td>\n",
       "      <td>-0.329897</td>\n",
       "      <td>3.651840</td>\n",
       "      <td>9.714284</td>\n",
       "      <td>10.583875</td>\n",
       "      <td>-12.715388</td>\n",
       "      <td>11.921179</td>\n",
       "      <td>5.319698</td>\n",
       "      <td>-6.248324</td>\n",
       "      <td>-4.092179</td>\n",
       "      <td>-10.107989</td>\n",
       "    </tr>\n",
       "  </tbody>\n",
       "</table>\n",
       "<p>5 rows × 210 columns</p>\n",
       "</div>"
      ],
      "text/plain": [
       "                     time  flag     u10_0     u10_1      u10_2     u10_3  \\\n",
       "11930 2019-01-10 09:00:00   1.0  2.081327  1.941133   9.792016  2.903699   \n",
       "5965  2012-12-04 11:00:00   1.0  2.196390  1.741403  13.506461  2.619071   \n",
       "8906  2016-01-07 21:00:00   1.0  4.430702  2.060550   6.775737  3.168132   \n",
       "633   2008-03-11 11:00:00   0.0 -0.091662 -0.444823  -7.483113 -0.497278   \n",
       "1349  2008-12-19 17:00:00   1.0  4.456158  1.805359   7.064444  0.616569   \n",
       "\n",
       "          u10_4     u10_5     u10_6     u10_7  ...  v500_7_past  v500_8_past  \\\n",
       "11930  2.971256 -3.946013 -0.816530 -0.328898  ...     6.657513    -0.435008   \n",
       "5965   2.991272 -3.530663 -0.443344 -2.064742  ...     5.632684   -13.724314   \n",
       "8906   5.641813  2.225339 -1.279349  4.076006  ...     7.132246    -2.418266   \n",
       "633   -3.229081 -5.247812 -1.224374 -3.486162  ...    -2.541775    -3.370158   \n",
       "1349  -2.400770 -1.021711  1.275510  3.748483  ...    -0.329897     3.651840   \n",
       "\n",
       "       v500_9_past  v500_10_past  v500_11_past  v500_12_past  v500_13_past  \\\n",
       "11930    -6.417784     -5.916165     -6.045579     -1.072912      8.500217   \n",
       "5965    -12.545633     24.230204     -1.792609     10.537596      2.029367   \n",
       "8906     -6.353641     -0.081850      9.726998      5.435414      3.448380   \n",
       "633      -2.630784     -1.403637     10.361071      8.576129      8.982014   \n",
       "1349      9.714284     10.583875    -12.715388     11.921179      5.319698   \n",
       "\n",
       "       v500_14_past  v500_15_past  v500_16_past  \n",
       "11930     10.266190      2.140655      6.134135  \n",
       "5965      -1.668401      4.786519     -5.313121  \n",
       "8906       9.987612     -6.377540    -13.013507  \n",
       "633        6.077924     -1.017929     -7.773170  \n",
       "1349      -6.248324     -4.092179    -10.107989  \n",
       "\n",
       "[5 rows x 210 columns]"
      ]
     },
     "execution_count": 3,
     "metadata": {},
     "output_type": "execute_result"
    }
   ],
   "source": [
    "data = pd.read_csv(data_path/f'for_model_{compound}_{site}.csv', parse_dates=['time'])\n",
    "data.sample(5)"
   ]
  },
  {
   "cell_type": "code",
   "execution_count": 4,
   "metadata": {},
   "outputs": [
    {
     "name": "stdout",
     "output_type": "stream",
     "text": [
      "Train range: 2013-01-01 13:00:00 -> 2013-12-30 11:00:00. Length: 1066\n",
      "Val range: 2014-01-02 09:00:00 -> 2014-12-31 23:00:00. Length: 915\n",
      "Test range: 2015-01-01 01:00:00 -> 2017-12-31 23:00:00. Length: 2808\n"
     ]
    }
   ],
   "source": [
    "train_data = data[(data['time'].dt.year >= 2013) & (data['time'].dt.year <= 2013)]\n",
    "val_data = data[(data['time'].dt.year >= 2014) & (data['time'].dt.year <= 2014)]\n",
    "test_data = data[(data['time'].dt.year >= 2015) & (data['time'].dt.year <= 2017)]\n",
    "\n",
    "print(f\"Train range: {train_data['time'].min()} -> {train_data['time'].max()}. Length: {len(train_data)}\")\n",
    "print(f\"Val range: {val_data['time'].min()} -> {val_data['time'].max()}. Length: {len(val_data)}\")\n",
    "print(f\"Test range: {test_data['time'].min()} -> {test_data['time'].max()}. Length: {len(test_data)}\")\n",
    "\n",
    "\n",
    "# Drop the \"time\" column as it won't be used in the model\n",
    "train_data = train_data.drop(columns=['time'])\n",
    "val_data = val_data.drop(columns=['time'])\n",
    "test_data = test_data.drop(columns=['time'])\n",
    "\n",
    "# Define the features (X) and the target (y)\n",
    "X_train = train_data.drop(columns=['flag'])\n",
    "y_train = train_data['flag']\n",
    "X_val = val_data.drop(columns=['flag'])\n",
    "y_val = val_data['flag']\n",
    "X_test = test_data.drop(columns=['flag'])\n",
    "y_test = test_data['flag']\n",
    "\n",
    "# Balanced Data - removing NaN values and associated data\n",
    "y_train = y_train.dropna()\n",
    "y_val = y_val.dropna()\n",
    "y_test = y_test.dropna()\n",
    "\n",
    "# aligning indices of features sets\n",
    "X_train = X_train.loc[y_train.index]\n",
    "X_val = X_val.loc[y_val.index]\n",
    "X_test = X_test.loc[y_test.index]"
   ]
  },
  {
   "cell_type": "markdown",
   "metadata": {},
   "source": [
    "### Model"
   ]
  },
  {
   "cell_type": "code",
   "execution_count": 11,
   "metadata": {},
   "outputs": [
    {
     "name": "stdout",
     "output_type": "stream",
     "text": [
      "Precision on Training Set = 0.885\n",
      "Precision on Validation Set = 0.866\n",
      "Recall on Training Set = 0.762\n",
      "Recall on Validation Set = 0.814\n",
      "F1 Score on Training Set = 0.819\n",
      "F1 Score on Validation Set = 0.839\n"
     ]
    }
   ],
   "source": [
    "nn_model = MLPClassifier(random_state=42,\n",
    "                         max_iter=1000, \n",
    "                         hidden_layer_sizes=(100,), \n",
    "                         shuffle=False,\n",
    "                         activation='relu', \n",
    "                         solver='adam', \n",
    "                         alpha=0.0001, \n",
    "                         learning_rate='constant', \n",
    "                         batch_size=100, \n",
    "                         early_stopping=False,\n",
    "                         learning_rate_init=0.01,\n",
    "                         beta_2=0.9,)\n",
    "\n",
    "nn_model.fit(X_train, y_train)\n",
    "\n",
    "y_pred_val = nn_model.predict(X_val)\n",
    "y_pred_train = nn_model.predict(X_train)\n",
    "\n",
    "\n",
    "precision_val = precision_score(y_val, y_pred_val)\n",
    "precision_train = precision_score(y_train, y_pred_train)\n",
    "recall_val = recall_score(y_val, y_pred_val)\n",
    "recall_train = recall_score(y_train, y_pred_train)\n",
    "f1_val = f1_score(y_val, y_pred_val)\n",
    "f1_train = f1_score(y_train, y_pred_train)\n",
    "\n",
    "print(f\"Precision on Training Set = {precision_train:.3f}\")\n",
    "print(f\"Precision on Validation Set = {precision_val:.3f}\")\n",
    "print(f\"Recall on Training Set = {recall_train:.3f}\")\n",
    "print(f\"Recall on Validation Set = {recall_val:.3f}\")\n",
    "print(f\"F1 Score on Training Set = {f1_train:.3f}\")\n",
    "print(f\"F1 Score on Validation Set = {f1_val:.3f}\")"
   ]
  },
  {
   "cell_type": "code",
   "execution_count": 12,
   "metadata": {},
   "outputs": [
    {
     "name": "stdout",
     "output_type": "stream",
     "text": [
      "Precision on Testing Set = 0.886\n",
      "Recall on Testing Set = 0.820\n",
      "F1 Score on Testing Set = 0.852\n"
     ]
    }
   ],
   "source": [
    "# evaluating model on test set\n",
    "y_pred_test = nn_model.predict(X_test)\n",
    "\n",
    "precision_test = precision_score(y_test, y_pred_test)\n",
    "recall_test = recall_score(y_test, y_pred_test)\n",
    "f1_test = f1_score(y_test, y_pred_test)\n",
    "\n",
    "print(f\"Precision on Testing Set = {precision_test:.3f}\")\n",
    "print(f\"Recall on Testing Set = {recall_test:.3f}\")\n",
    "print(f\"F1 Score on Testing Set = {f1_test:.3f}\")"
   ]
  },
  {
   "cell_type": "code",
   "execution_count": 13,
   "metadata": {},
   "outputs": [
    {
     "data": {
      "text/plain": [
       "['C:\\\\Users\\\\kirst\\\\OneDrive\\\\Kirstin\\\\Uni\\\\Year4\\\\MSciProject\\\\data_files\\\\saved_files\\\\nn_model_GSN.joblib']"
      ]
     },
     "execution_count": 13,
     "metadata": {},
     "output_type": "execute_result"
    }
   ],
   "source": [
    "# saving the model\n",
    "dump(nn_model, data_path/f'nn_model_GSN.joblib')"
   ]
  },
  {
   "cell_type": "markdown",
   "metadata": {},
   "source": [
    "### Assessing Feature Importance"
   ]
  },
  {
   "cell_type": "code",
   "execution_count": 14,
   "metadata": {},
   "outputs": [],
   "source": [
    "# finding most important features in the model using permutation importance\n",
    "# using the testing set\n",
    "perm_importance = permutation_importance(nn_model, X_train, y_train, n_repeats=30, random_state=42)\n",
    "sorted_importances = perm_importance.importances_mean.argsort()"
   ]
  },
  {
   "cell_type": "code",
   "execution_count": 15,
   "metadata": {},
   "outputs": [
    {
     "data": {
      "text/plain": [
       "Text(0.5, 1.0, 'Permutation Importance (Testing Set)')"
      ]
     },
     "execution_count": 15,
     "metadata": {},
     "output_type": "execute_result"
    },
    {
     "data": {
      "image/png": "[encoded data removed]",
      "text/plain": [
       "<Figure size 1000x1000 with 1 Axes>"
      ]
     },
     "metadata": {},
     "output_type": "display_data"
    }
   ],
   "source": [
    "# plotting first 20 most important features in a histogram\n",
    "\n",
    "fig, ax = plt.subplots(figsize=(10, 10))\n",
    "sns.set_theme(style='ticks', font='Arial')\n",
    "ax.minorticks_on()\n",
    "\n",
    "ax.barh(X_val.columns[sorted_importances][-20:], perm_importance.importances_mean[sorted_importances][-20:], color='#FF620E')\n",
    "\n",
    "ax.set_xscale('log')\n",
    "\n",
    "ax.set_ylabel('Features')\n",
    "ax.set_xlabel('Permutation Importance')\n",
    "ax.set_title('Permutation Importance (Testing Set)', fontsize=14)"
   ]
  }
 ],
 "metadata": {
  "kernelspec": {
   "display_name": "venv",
   "language": "python",
   "name": "python3"
  },
  "language_info": {
   "codemirror_mode": {
    "name": "ipython",
    "version": 3
   },
   "file_extension": ".py",
   "mimetype": "text/x-python",
   "name": "python",
   "nbconvert_exporter": "python",
   "pygments_lexer": "ipython3",
   "version": "3.11.9"
  }
 },
 "nbformat": 4,
 "nbformat_minor": 2
}
