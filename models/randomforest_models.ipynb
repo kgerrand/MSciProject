{
 "cells": [
  {
   "cell_type": "markdown",
   "metadata": {},
   "source": [
    "# Random Forest"
   ]
  },
  {
   "cell_type": "code",
   "execution_count": 2,
   "metadata": {},
   "outputs": [],
   "source": [
    "import pandas as pd\n",
    "from sklearn.ensemble import RandomForestClassifier\n",
    "from sklearn.model_selection import GridSearchCV\n",
    "from sklearn.metrics import precision_score, recall_score, f1_score\n",
    "from joblib import dump\n",
    "import matplotlib.pyplot as plt\n",
    "import seaborn as sns\n",
    "import csv\n",
    "from pathlib import Path\n",
    "\n",
    "import sys\n",
    "sys.path.append('../')\n",
    "import config\n",
    "\n",
    "data_path = Path.home()/'OneDrive'/'Kirstin'/'Uni'/'Year4'/'MSciProject'/'data_files'/'saved_files'"
   ]
  },
  {
   "cell_type": "markdown",
   "metadata": {},
   "source": [
    "### Initialising"
   ]
  },
  {
   "cell_type": "code",
   "execution_count": 3,
   "metadata": {},
   "outputs": [],
   "source": [
    "# initialising WandB\n",
    "import wandb, os\n",
    "\n",
    "os.environ[\"WANDB_API_KEY\"] = \"e84d2e19bd2cc42ec6e5d232cd0b6f0fe41f2189\"\n",
    "os.environ[\"WANDB_NOTEBOOK_NAME\"] = \"randomforest_models.ipynb\""
   ]
  },
  {
   "cell_type": "code",
   "execution_count": 4,
   "metadata": {},
   "outputs": [
    {
     "data": {
      "text/html": [
       "<div>\n",
       "<style scoped>\n",
       "    .dataframe tbody tr th:only-of-type {\n",
       "        vertical-align: middle;\n",
       "    }\n",
       "\n",
       "    .dataframe tbody tr th {\n",
       "        vertical-align: top;\n",
       "    }\n",
       "\n",
       "    .dataframe thead th {\n",
       "        text-align: right;\n",
       "    }\n",
       "</style>\n",
       "<table border=\"1\" class=\"dataframe\">\n",
       "  <thead>\n",
       "    <tr style=\"text-align: right;\">\n",
       "      <th></th>\n",
       "      <th>time</th>\n",
       "      <th>PC1</th>\n",
       "      <th>PC2</th>\n",
       "      <th>PC3</th>\n",
       "      <th>PC4</th>\n",
       "      <th>PC5</th>\n",
       "      <th>PC6</th>\n",
       "      <th>PC7</th>\n",
       "      <th>PC8</th>\n",
       "      <th>PC9</th>\n",
       "      <th>...</th>\n",
       "      <th>PC23</th>\n",
       "      <th>PC24</th>\n",
       "      <th>PC25</th>\n",
       "      <th>PC26</th>\n",
       "      <th>PC27</th>\n",
       "      <th>PC28</th>\n",
       "      <th>PC29</th>\n",
       "      <th>PC30</th>\n",
       "      <th>PC31</th>\n",
       "      <th>flag</th>\n",
       "    </tr>\n",
       "  </thead>\n",
       "  <tbody>\n",
       "    <tr>\n",
       "      <th>8791</th>\n",
       "      <td>2008-12-09 04:08:00</td>\n",
       "      <td>-13.810294</td>\n",
       "      <td>5.242953</td>\n",
       "      <td>-0.966785</td>\n",
       "      <td>-1.310597</td>\n",
       "      <td>1.137769</td>\n",
       "      <td>0.829760</td>\n",
       "      <td>-0.549607</td>\n",
       "      <td>1.782570</td>\n",
       "      <td>1.207704</td>\n",
       "      <td>...</td>\n",
       "      <td>-1.137353</td>\n",
       "      <td>0.312279</td>\n",
       "      <td>-0.119590</td>\n",
       "      <td>0.696805</td>\n",
       "      <td>1.493021</td>\n",
       "      <td>-0.068322</td>\n",
       "      <td>1.427406</td>\n",
       "      <td>0.268118</td>\n",
       "      <td>0.047225</td>\n",
       "      <td>1.0</td>\n",
       "    </tr>\n",
       "    <tr>\n",
       "      <th>18697</th>\n",
       "      <td>2018-07-19 03:10:00</td>\n",
       "      <td>-4.819471</td>\n",
       "      <td>-3.615290</td>\n",
       "      <td>-0.776134</td>\n",
       "      <td>-4.136356</td>\n",
       "      <td>1.038540</td>\n",
       "      <td>0.722561</td>\n",
       "      <td>1.102200</td>\n",
       "      <td>-0.590905</td>\n",
       "      <td>0.005671</td>\n",
       "      <td>...</td>\n",
       "      <td>-0.594157</td>\n",
       "      <td>-0.369950</td>\n",
       "      <td>-0.614024</td>\n",
       "      <td>0.217000</td>\n",
       "      <td>-0.830833</td>\n",
       "      <td>-0.944422</td>\n",
       "      <td>0.108572</td>\n",
       "      <td>-0.066009</td>\n",
       "      <td>-0.343760</td>\n",
       "      <td>1.0</td>\n",
       "    </tr>\n",
       "    <tr>\n",
       "      <th>21885</th>\n",
       "      <td>2021-11-06 14:30:00</td>\n",
       "      <td>0.254070</td>\n",
       "      <td>6.697540</td>\n",
       "      <td>-6.731990</td>\n",
       "      <td>-2.363456</td>\n",
       "      <td>-1.847013</td>\n",
       "      <td>0.040401</td>\n",
       "      <td>-1.685037</td>\n",
       "      <td>-1.154538</td>\n",
       "      <td>-0.850119</td>\n",
       "      <td>...</td>\n",
       "      <td>0.680254</td>\n",
       "      <td>0.617556</td>\n",
       "      <td>0.614310</td>\n",
       "      <td>-0.096086</td>\n",
       "      <td>0.336945</td>\n",
       "      <td>-1.088581</td>\n",
       "      <td>-0.421256</td>\n",
       "      <td>-0.522307</td>\n",
       "      <td>0.659868</td>\n",
       "      <td>1.0</td>\n",
       "    </tr>\n",
       "    <tr>\n",
       "      <th>3032</th>\n",
       "      <td>2003-05-13 16:05:00</td>\n",
       "      <td>-5.947681</td>\n",
       "      <td>3.832348</td>\n",
       "      <td>2.063314</td>\n",
       "      <td>3.303908</td>\n",
       "      <td>-1.837285</td>\n",
       "      <td>0.890874</td>\n",
       "      <td>-0.850165</td>\n",
       "      <td>-0.946917</td>\n",
       "      <td>-1.319995</td>\n",
       "      <td>...</td>\n",
       "      <td>-0.169969</td>\n",
       "      <td>-0.746540</td>\n",
       "      <td>-0.097757</td>\n",
       "      <td>-0.645420</td>\n",
       "      <td>-0.910434</td>\n",
       "      <td>0.465885</td>\n",
       "      <td>0.550100</td>\n",
       "      <td>0.909977</td>\n",
       "      <td>-0.210945</td>\n",
       "      <td>1.0</td>\n",
       "    </tr>\n",
       "    <tr>\n",
       "      <th>13788</th>\n",
       "      <td>2013-11-01 04:40:00</td>\n",
       "      <td>6.999081</td>\n",
       "      <td>2.697848</td>\n",
       "      <td>-1.316249</td>\n",
       "      <td>-0.721944</td>\n",
       "      <td>-2.830900</td>\n",
       "      <td>1.101743</td>\n",
       "      <td>0.738973</td>\n",
       "      <td>3.047015</td>\n",
       "      <td>1.067360</td>\n",
       "      <td>...</td>\n",
       "      <td>-0.549512</td>\n",
       "      <td>-0.825661</td>\n",
       "      <td>0.620914</td>\n",
       "      <td>-0.596856</td>\n",
       "      <td>0.383658</td>\n",
       "      <td>-1.262118</td>\n",
       "      <td>-1.095188</td>\n",
       "      <td>0.994862</td>\n",
       "      <td>-0.659610</td>\n",
       "      <td>1.0</td>\n",
       "    </tr>\n",
       "  </tbody>\n",
       "</table>\n",
       "<p>5 rows × 33 columns</p>\n",
       "</div>"
      ],
      "text/plain": [
       "                     time        PC1       PC2       PC3       PC4       PC5  \\\n",
       "8791  2008-12-09 04:08:00 -13.810294  5.242953 -0.966785 -1.310597  1.137769   \n",
       "18697 2018-07-19 03:10:00  -4.819471 -3.615290 -0.776134 -4.136356  1.038540   \n",
       "21885 2021-11-06 14:30:00   0.254070  6.697540 -6.731990 -2.363456 -1.847013   \n",
       "3032  2003-05-13 16:05:00  -5.947681  3.832348  2.063314  3.303908 -1.837285   \n",
       "13788 2013-11-01 04:40:00   6.999081  2.697848 -1.316249 -0.721944 -2.830900   \n",
       "\n",
       "            PC6       PC7       PC8       PC9  ...      PC23      PC24  \\\n",
       "8791   0.829760 -0.549607  1.782570  1.207704  ... -1.137353  0.312279   \n",
       "18697  0.722561  1.102200 -0.590905  0.005671  ... -0.594157 -0.369950   \n",
       "21885  0.040401 -1.685037 -1.154538 -0.850119  ...  0.680254  0.617556   \n",
       "3032   0.890874 -0.850165 -0.946917 -1.319995  ... -0.169969 -0.746540   \n",
       "13788  1.101743  0.738973  3.047015  1.067360  ... -0.549512 -0.825661   \n",
       "\n",
       "           PC25      PC26      PC27      PC28      PC29      PC30      PC31  \\\n",
       "8791  -0.119590  0.696805  1.493021 -0.068322  1.427406  0.268118  0.047225   \n",
       "18697 -0.614024  0.217000 -0.830833 -0.944422  0.108572 -0.066009 -0.343760   \n",
       "21885  0.614310 -0.096086  0.336945 -1.088581 -0.421256 -0.522307  0.659868   \n",
       "3032  -0.097757 -0.645420 -0.910434  0.465885  0.550100  0.909977 -0.210945   \n",
       "13788  0.620914 -0.596856  0.383658 -1.262118 -1.095188  0.994862 -0.659610   \n",
       "\n",
       "       flag  \n",
       "8791    1.0  \n",
       "18697   1.0  \n",
       "21885   1.0  \n",
       "3032    1.0  \n",
       "13788   1.0  \n",
       "\n",
       "[5 rows x 33 columns]"
      ]
     },
     "execution_count": 4,
     "metadata": {},
     "output_type": "execute_result"
    }
   ],
   "source": [
    "# Load the data\n",
    "data = pd.read_csv(data_path/'for_model_pca.csv', parse_dates=['time'])\n",
    "\n",
    "data.sample(5)"
   ]
  },
  {
   "cell_type": "code",
   "execution_count": 13,
   "metadata": {},
   "outputs": [
    {
     "name": "stdout",
     "output_type": "stream",
     "text": [
      "Train range: 2016-01-01 02:09:00 -> 2018-12-31 16:10:00. Length: 3118\n",
      "Val range: 2019-01-01 13:50:00 -> 2019-12-29 18:29:00. Length: 642\n",
      "Test range: 2020-01-03 00:50:00 -> 2022-12-31 08:37:00. Length: 2978\n"
     ]
    }
   ],
   "source": [
    "# Convert \"time\" column to datetime format\n",
    "#data['time'] = pd.to_datetime(data['time'], format='%d/%m/%Y %H:%M')\n",
    "\n",
    "# Split the data into training and testing sets based on the date\n",
    "train_data = data[(data['time'].dt.year >= 2016) & (data['time'].dt.year <= 2018)]\n",
    "val_data = data[(data['time'].dt.year >= 2019) & (data['time'].dt.year <= 2019)]\n",
    "test_data = data[(data['time'].dt.year >= 2020) & (data['time'].dt.year <= 2023)]\n",
    "\n",
    "print(f\"Train range: {train_data['time'].min()} -> {train_data['time'].max()}. Length: {len(train_data)}\")\n",
    "print(f\"Val range: {val_data['time'].min()} -> {val_data['time'].max()}. Length: {len(val_data)}\")\n",
    "print(f\"Test range: {test_data['time'].min()} -> {test_data['time'].max()}. Length: {len(test_data)}\")\n",
    "\n",
    "# saving the date ranges for WandB tracking\n",
    "# training_date_range = \"2016\"\n",
    "# validation_date_range = \"2020-01-01 to 2020-12-31\"\n",
    "# testing_date_range = \"2020-01-01 to 2022-12-31\"\n",
    "\n",
    "# Drop the \"time\" column as it won't be used in the model\n",
    "train_data = train_data.drop(columns=['time'])\n",
    "val_data = val_data.drop(columns=['time'])\n",
    "test_data = test_data.drop(columns=['time'])\n",
    "\n",
    "# Define the features (X) and the target (y)\n",
    "X_train = train_data.drop(columns=['flag'])\n",
    "y_train = train_data['flag']\n",
    "X_val = val_data.drop(columns=['flag'])\n",
    "y_val = val_data['flag']\n",
    "X_test = test_data.drop(columns=['flag'])\n",
    "y_test = test_data['flag']\n",
    "\n",
    "# Balanced Data - removing NaN values and associated data\n",
    "y_train = y_train.dropna()\n",
    "y_val = y_val.dropna()\n",
    "y_test = y_test.dropna()\n",
    "\n",
    "X_train = X_train.loc[y_train.index]\n",
    "X_val = X_val.loc[y_val.index]\n",
    "X_test = X_test.loc[y_test.index]"
   ]
  },
  {
   "cell_type": "markdown",
   "metadata": {},
   "source": [
    "## Models"
   ]
  },
  {
   "cell_type": "markdown",
   "metadata": {},
   "source": [
    "### Basic Model with Default Parameters"
   ]
  },
  {
   "cell_type": "markdown",
   "metadata": {},
   "source": [
    "Shows very basic set-up of model, and how the train/validation/train process works."
   ]
  },
  {
   "cell_type": "code",
   "execution_count": 14,
   "metadata": {},
   "outputs": [
    {
     "name": "stdout",
     "output_type": "stream",
     "text": [
      "Precision on Training Set = 1.000\n",
      "Precision on Validation Set = 0.840\n",
      "Recall on Training Set = 1.000\n",
      "Recall on Validation Set = 0.944\n",
      "F1 Score on Training Set = 1.000\n",
      "F1 Score on Validation Set = 0.889\n"
     ]
    }
   ],
   "source": [
    "# wandb.init(project=\"Random Forest 2.0\")\n",
    "\n",
    "# setting up initial model on training data\n",
    "rf_model = RandomForestClassifier(random_state=42)\n",
    "\n",
    "rf_model.fit(X_train, y_train)\n",
    "\n",
    "# making predictions on training and validation data\n",
    "y_pred_val = rf_model.predict(X_val)\n",
    "y_pred_train = rf_model.predict(X_train)\n",
    "\n",
    "# calculating metrics\n",
    "precision_val = precision_score(y_val, y_pred_val)\n",
    "precision_train = precision_score(y_train, y_pred_train)\n",
    "recall_val = recall_score(y_val, y_pred_val)\n",
    "recall_train = recall_score(y_train, y_pred_train)\n",
    "f1_score_val = f1_score(y_val, y_pred_val)\n",
    "f1_score_train = f1_score(y_train, y_pred_train)\n",
    "\n",
    "print(f\"Precision on Training Set = {precision_train:.3f}\")\n",
    "print(f\"Precision on Validation Set = {precision_val:.3f}\")\n",
    "print(f\"Recall on Training Set = {recall_train:.3f}\")\n",
    "print(f\"Recall on Validation Set = {recall_val:.3f}\")\n",
    "print(f\"F1 Score on Training Set = {f1_score_train:.3f}\")\n",
    "print(f\"F1 Score on Validation Set = {f1_score_val:.3f}\")\n",
    "\n",
    "# wandb.log({\"model_name\":\"Basic model, default parameters\", \"training_precision\":precision_train, \"testing_precision\":precision_test, \n",
    "            # \"training_recall\":recall_train, \"testing_recall\":recall_test, \"training_f1\":f1_score_train, \"testing_f1\":f1_score_test,\n",
    "            # \"training date range\": training_date_range, \"testing date range\": testing_date_range})\n",
    "\n",
    "# wandb.finish()"
   ]
  },
  {
   "cell_type": "code",
   "execution_count": 15,
   "metadata": {},
   "outputs": [
    {
     "name": "stdout",
     "output_type": "stream",
     "text": [
      "Precision on Test Set = 0.891\n",
      "Recall on Test Set = 0.949\n",
      "F1 Score on Test Set = 0.919\n"
     ]
    }
   ],
   "source": [
    "# now making predictions on the test data\n",
    "y_pred_test = rf_model.predict(X_test)\n",
    "\n",
    "# calculating metrics\n",
    "precision_test = precision_score(y_test, y_pred_test)\n",
    "recall_test = recall_score(y_test, y_pred_test)\n",
    "f1_score_test = f1_score(y_test, y_pred_test)\n",
    "\n",
    "print(f\"Precision on Test Set = {precision_test:.3f}\")\n",
    "print(f\"Recall on Test Set = {recall_test:.3f}\")\n",
    "print(f\"F1 Score on Test Set = {f1_score_test:.3f}\")"
   ]
  },
  {
   "cell_type": "markdown",
   "metadata": {},
   "source": [
    "### Class Probabilities Model"
   ]
  },
  {
   "cell_type": "markdown",
   "metadata": {},
   "source": [
    "Focusing on a model that makes predictions based on class probabilities in order to optimise precision."
   ]
  },
  {
   "cell_type": "markdown",
   "metadata": {},
   "source": [
    "#### Initial Model"
   ]
  },
  {
   "cell_type": "code",
   "execution_count": 18,
   "metadata": {},
   "outputs": [
    {
     "name": "stdout",
     "output_type": "stream",
     "text": [
      "Precision on Training Set = 1.000\n",
      "Precision on Testing Set = 0.963\n",
      "Recall on Training Set = 0.990\n",
      "Recall on Testing Set = 0.592\n",
      "F1 Score on Training Set = 0.995\n",
      "F1 Score on Testing Set = 0.734\n"
     ]
    }
   ],
   "source": [
    "# wandb.init(project=\"Random Forest 2.0\")\n",
    "\n",
    "rf_model = RandomForestClassifier(random_state=42, n_estimators=200)\n",
    "\n",
    "rf_model.fit(X_train, y_train)\n",
    "\n",
    "# finding class probabilities for each sample - using validation set\n",
    "class_probabilities_val = rf_model.predict_proba(X_val)\n",
    "class_probabilites_train = rf_model.predict_proba(X_train)\n",
    "\n",
    "confidence_threshold = config.confidence_threshold\n",
    "\n",
    "# make predictions based on threshold\n",
    "y_pred_val = (class_probabilities_val[:, 1] >= confidence_threshold).astype(int)\n",
    "y_pred_train = (class_probabilites_train[:, 1] >= confidence_threshold).astype(int)\n",
    "\n",
    "\n",
    "# Calculate scores\n",
    "precision_train = precision_score(y_train, y_pred_train)\n",
    "precision_val = precision_score(y_val, y_pred_val)\n",
    "recall_train = recall_score(y_train, y_pred_train)\n",
    "recall_val = recall_score(y_val, y_pred_val)\n",
    "f1_train = f1_score(y_train, y_pred_train)\n",
    "f1_val = f1_score(y_val, y_pred_val)\n",
    "\n",
    "print(f\"Precision on Training Set = {precision_train:.3f}\")\n",
    "print(f\"Precision on Testing Set = {precision_val:.3f}\")\n",
    "print(f\"Recall on Training Set = {recall_train:.3f}\")\n",
    "print(f\"Recall on Testing Set = {recall_val:.3f}\")\n",
    "print(f\"F1 Score on Training Set = {f1_train:.3f}\")\n",
    "print(f\"F1 Score on Testing Set = {f1_val:.3f}\")\n",
    "\n",
    "\n",
    "# wandb.log({\"model_name\":\"Class probabilities model\", \"training_precision\":precision_train_threshold, \"testing_precision\":precision_test_threshold, \n",
    "            # \"training_recall\":recall_train_threshold, \"testing_recall\":recall_test_threshold, \"training_f1\":f1_train_threshold, \"testing_f1\":f1_test_threshold,\n",
    "            # \"training date range\": training_date_range, \"testing date range\": testing_date_range})\n",
    "\n",
    "# wandb.finish()"
   ]
  },
  {
   "cell_type": "markdown",
   "metadata": {},
   "source": [
    "#### Optimising Model Using Validation Set"
   ]
  },
  {
   "cell_type": "markdown",
   "metadata": {},
   "source": [
    "##### Optimising Threshold"
   ]
  },
  {
   "cell_type": "code",
   "execution_count": 19,
   "metadata": {},
   "outputs": [
    {
     "data": {
      "image/png": "[encoded data removed]",
      "text/plain": [
       "<Figure size 1000x800 with 2 Axes>"
      ]
     },
     "metadata": {},
     "output_type": "display_data"
    }
   ],
   "source": [
    "confidence_threshold_vals = [0.5, 0.6, 0.7, 0.75, 0.8, 0.9]\n",
    "\n",
    "train_precisions_values = []\n",
    "val_precisions_values = []\n",
    "train_recalls_values = []\n",
    "val_recalls_values = []\n",
    "\n",
    "directory = './results'\n",
    "file_path = os.path.join(directory, 'threshold_results.csv')\n",
    "\n",
    "with open(file_path, mode='w', newline='') as file:\n",
    "    writer = csv.writer(file)\n",
    "    \n",
    "    # adding header\n",
    "    writer.writerow(['Confidence Threshold', 'Training Precision', 'Validation Precision', 'Training Recall', 'Validation Recall'])\n",
    "\n",
    "    for threshold in confidence_threshold_vals:\n",
    "        rf_model = RandomForestClassifier(random_state=42)\n",
    "        rf_model.fit(X_train, y_train)\n",
    "\n",
    "        class_probabilities_val = rf_model.predict_proba(X_val)\n",
    "        class_probabilites_train = rf_model.predict_proba(X_train)\n",
    "        \n",
    "        # make predictions based on threshold\n",
    "        y_pred_val = (class_probabilities_val[:, 1] >= threshold).astype(int)\n",
    "        y_pred_train = (class_probabilites_train[:, 1] >= threshold).astype(int)\n",
    "\n",
    "        # calculating precision & recall of validation/training sets\n",
    "        val_precision = precision_score(y_val, y_pred_val)\n",
    "        train_precision = precision_score(y_train, y_pred_train)\n",
    "        val_recall = recall_score(y_val, y_pred_val)\n",
    "        train_recall = recall_score(y_train, y_pred_train)\n",
    "\n",
    "        train_precisions_values.append(train_precision)\n",
    "        val_precisions_values.append(val_precision)\n",
    "        train_recalls_values.append(train_recall)\n",
    "        val_recalls_values.append(val_recall)\n",
    "\n",
    "        writer.writerow([threshold, train_precision, val_precision, train_recall, val_recall])\n",
    "\n",
    "# reading in results\n",
    "results = pd.read_csv('results/threshold_results.csv')\n",
    "\n",
    "# plotting\n",
    "fig, axs = plt.subplots(2,1, figsize=(10, 8))\n",
    "sns.set(style='darkgrid')\n",
    "sns.set_palette(\"colorblind\")\n",
    "\n",
    "# line plot of precision vs. max_depth (training and validation)\n",
    "axs[0].plot(results['Confidence Threshold'], results['Training Precision'], label='Training Precision', marker='x')\n",
    "axs[0].plot(results['Confidence Threshold'], results['Validation Precision'], label='Validation Precision', marker='x')\n",
    "axs[0].set_xlabel('confidence threshold')\n",
    "axs[0].set_xticks(results['Confidence Threshold'])\n",
    "axs[0].set_xticklabels(results['Confidence Threshold'])\n",
    "axs[0].set_ylabel('Precision')\n",
    "axs[0].legend()\n",
    "axs[0].set_title('Training and Validation Precision vs. Confidence Threshold', fontstyle='italic', fontsize=14)\n",
    "\n",
    "# line plot of recall vs. max_depth (training and validation)\n",
    "axs[1].plot(results['Confidence Threshold'], results['Training Recall'], label='Training Recall', marker='x')\n",
    "axs[1].plot(results['Confidence Threshold'], results['Validation Recall'], label='Validation Recall', marker='x')\n",
    "axs[1].set_xlabel('confidence threshold')\n",
    "axs[1].set_xticks(results['Confidence Threshold'])\n",
    "axs[1].set_xticklabels(results['Confidence Threshold'])\n",
    "axs[1].set_ylabel('Recall')\n",
    "axs[1].legend()\n",
    "axs[1].set_title('Training and Validation Recall vs. Confidence Threshold', fontstyle='italic', fontsize=14)\n",
    "\n",
    "fig.tight_layout()"
   ]
  },
  {
   "cell_type": "markdown",
   "metadata": {},
   "source": [
    "##### Exploring max_depth"
   ]
  },
  {
   "cell_type": "markdown",
   "metadata": {},
   "source": [
    "This particular hyperparameter has shown to help significantly with overfitting issues so this is explored first."
   ]
  },
  {
   "cell_type": "code",
   "execution_count": 45,
   "metadata": {},
   "outputs": [],
   "source": [
    "# List of max_depth values to try\n",
    "max_depth_values = [3, 5, 6, 7, 8, 9, 10, 12, 15, 20]\n",
    "\n",
    "train_precisions_values = []\n",
    "val_precisions_values = []\n",
    "difference_values = []\n",
    "\n",
    "directory = './results'\n",
    "file_path = os.path.join(directory, 'max_depth_results.csv')\n",
    "\n",
    "# creating csv file to store results - allows for easy plotting/analysis\n",
    "with open(file_path, mode='w', newline='') as file:\n",
    "    writer = csv.writer(file)\n",
    "    \n",
    "    # adding header\n",
    "    writer.writerow(['Max Depth', 'Training Precision', 'Validation Precision', 'Difference'])\n",
    "\n",
    "    for max_depth in max_depth_values:\n",
    "        rf_model = RandomForestClassifier(random_state=42, max_depth=max_depth)\n",
    "        rf_model.fit(X_train, y_train)\n",
    "\n",
    "        # finding class probabilities for each sample\n",
    "        class_probabilities_val = rf_model.predict_proba(X_val)\n",
    "        class_probabilites_train = rf_model.predict_proba(X_train)\n",
    "\n",
    "        confidence_threshold = config.confidence_threshold\n",
    "\n",
    "        # make predictions based on threshold\n",
    "        y_pred_val = (class_probabilities_val[:, 1] >= confidence_threshold).astype(int)\n",
    "        y_pred_train = (class_probabilites_train[:, 1] >= confidence_threshold).astype(int)\n",
    "\n",
    "        # calculating precision of testing/training sets\n",
    "        val_precision = precision_score(y_val, y_pred_val)\n",
    "        train_precision = precision_score(y_train, y_pred_train)\n",
    "        difference = abs(train_precision-val_precision)\n",
    "\n",
    "        train_precisions_values.append(train_precision)\n",
    "        val_precisions_values.append(val_precision)\n",
    "        difference_values.append(difference)\n",
    "\n",
    "        writer.writerow([max_depth, train_precision, val_precision, difference])\n",
    "\n",
    "\n",
    "results = pd.read_csv('results/max_depth_results.csv')\n",
    "\n",
    "# plotting\n",
    "fig, axs = plt.subplots(2,1, figsize=(10, 8))\n",
    "sns.set(style='darkgrid')\n",
    "sns.set_palette(\"colorblind\")\n",
    "\n",
    "# line plot of precision vs. max_depth (training and validation)\n",
    "axs[0].plot(results['Max Depth'], results['Training Precision'], label='Training Precision', marker='x')\n",
    "axs[0].plot(results['Max Depth'], results['Validation Precision'], label='Validation Precision', marker='x')\n",
    "axs[0].set_xlabel('max_depth')\n",
    "axs[0].set_xticks(results['Max Depth'])\n",
    "axs[0].set_xticklabels(results['Max Depth'].astype(int))\n",
    "axs[0].set_ylabel('Precision')\n",
    "axs[0].legend()\n",
    "axs[0].set_title('Training and Validation Precision vs. max_depth', fontstyle='italic', fontsize=14)\n",
    "\n",
    "# bar chart of difference between training and validation precision\n",
    "axs[1].bar(results['Max Depth'], results['Difference'])\n",
    "\n",
    "# Add data labels to the bar chart\n",
    "for i, v in zip(results['Max Depth'], results['Difference']):\n",
    "    axs[1].text(i, v, f\"{v:.2f}\", fontsize=8, ha='center', va='bottom')\n",
    "\n",
    "axs[1].set_xlabel('max_depth')\n",
    "axs[1].set_xticks(results['Max Depth'])\n",
    "axs[1].set_xticklabels(results['Max Depth'].astype(int))\n",
    "\n",
    "axs[1].set_ylabel('Difference')\n",
    "axs[1].set_title('Difference between Training and Validation Precision vs. max_depth', fontstyle='italic', fontsize=14)\n",
    "\n",
    "fig.tight_layout()"
   ]
  },
  {
   "cell_type": "markdown",
   "metadata": {},
   "source": [
    "##### Grid Search"
   ]
  },
  {
   "cell_type": "code",
   "execution_count": null,
   "metadata": {},
   "outputs": [],
   "source": [
    "model = RandomForestClassifier(random_state=42)\n",
    "\n",
    "# Define the hyperparameters to search over\n",
    "'''\n",
    "INITIAL GRID\n",
    "param_grid = {'n_estimators': [50, 100, 200],\n",
    "    'max_depth': [None, 10, 20],\n",
    "    'min_samples_split': [2, 5, 10],\n",
    "    'min_samples_leaf': [1, 2, 4],\n",
    "    'class_weight': [None, 'balanced']}\n",
    "'''\n",
    "param_grid = {\n",
    "    'n_estimators': [10, 50, 100, 200, 500],\n",
    "    'max_features': ['auto', 'sqrt', 'log2', None],\n",
    "    'bootstrap' : [True, False]\n",
    "}\n",
    "\n",
    "# Initialize the grid search with 5-fold cross-validation\n",
    "grid_search = GridSearchCV(model, param_grid, n_jobs=-1, cv=5, scoring='f1')\n",
    "\n",
    "# Perform the grid search on the training data\n",
    "grid_search.fit(X_train, y_train)\n",
    "\n",
    "# extracting best parameters and score\n",
    "results = grid_search.best_estimator_\n",
    "\n",
    "validation_f1 = results.score(X_val, y_val)\n",
    "\n",
    "print(f'Validation F1 Score: {validation_f1:.3f}')\n",
    "print(f'Best Parameters: {grid_search.best_params_}')"
   ]
  },
  {
   "cell_type": "markdown",
   "metadata": {},
   "source": [
    "#### Applying Optimisations to Model"
   ]
  },
  {
   "cell_type": "code",
   "execution_count": 20,
   "metadata": {},
   "outputs": [
    {
     "name": "stdout",
     "output_type": "stream",
     "text": [
      "Precision on Training Set = 0.942\n",
      "Precision on Validation Set = 0.919\n",
      "Recall on Training Set = 0.784\n",
      "Recall on Validation Set = 0.743\n",
      "F1 Score on Training Set = 0.856\n",
      "F1 Score on Validation Set = 0.822\n"
     ]
    }
   ],
   "source": [
    "# wandb.init(project=\"Random Forest 2.0\")\n",
    "\n",
    "rf_model = RandomForestClassifier(random_state=42,\n",
    "                                  n_estimators=100,\n",
    "                                  max_depth=3,\n",
    "                                  criterion='entropy',)\n",
    "\n",
    "rf_model.fit(X_train, y_train)\n",
    "\n",
    "# making predictions based on confidence threshold\n",
    "class_probabilities_val = rf_model.predict_proba(X_val)\n",
    "class_probabilites_train = rf_model.predict_proba(X_train)\n",
    "\n",
    "confidence_threshold = config.confidence_threshold\n",
    "\n",
    "y_pred_val = (class_probabilities_val[:, 1] >= confidence_threshold).astype(int)\n",
    "y_pred_train = (class_probabilites_train[:, 1] >= confidence_threshold).astype(int)\n",
    "\n",
    "\n",
    "# calculating performance metrics\n",
    "precision_val = precision_score(y_val, y_pred_val)\n",
    "precision_train = precision_score(y_train, y_pred_train)\n",
    "recall_val = recall_score(y_val, y_pred_val)\n",
    "recall_train = recall_score(y_train, y_pred_train)\n",
    "f1_val = f1_score(y_val, y_pred_val)\n",
    "f1_train = f1_score(y_train, y_pred_train)\n",
    "\n",
    "print(f\"Precision on Training Set = {precision_train:.3f}\")\n",
    "print(f\"Precision on Validation Set = {precision_val:.3f}\")\n",
    "print(f\"Recall on Training Set = {recall_train:.3f}\")\n",
    "print(f\"Recall on Validation Set = {recall_val:.3f}\")\n",
    "print(f\"F1 Score on Training Set = {f1_train:.3f}\")\n",
    "print(f\"F1 Score on Validation Set = {f1_val:.3f}\")\n",
    "\n",
    "\n",
    "# wandb.log({\"model_name\":\"Optimising hyperparameters\", \"training_precision\":precision_train, \"testing_precision\":precision_test, \n",
    "            # \"training_recall\":recall_train, \"testing_recall\":recall_test, \"training_f1\":f1_train, \"testing_f1\":f1_test,\n",
    "            # \"training date range\": training_date_range, \"testing date range\": testing_date_range})\n",
    "\n",
    "# wandb.finish()"
   ]
  },
  {
   "cell_type": "markdown",
   "metadata": {},
   "source": [
    "##### Evaluating Model on Test Data"
   ]
  },
  {
   "cell_type": "code",
   "execution_count": 21,
   "metadata": {},
   "outputs": [
    {
     "name": "stdout",
     "output_type": "stream",
     "text": [
      "Precision on Test Set = 0.939\n",
      "Recall on Test Set = 0.721\n",
      "F1 Score on Test Set = 0.816\n"
     ]
    }
   ],
   "source": [
    "class_probabilities_test = rf_model.predict_proba(X_test)\n",
    "\n",
    "y_pred_test = (class_probabilities_test[:, 1] >= confidence_threshold).astype(int)\n",
    "\n",
    "precision_test = precision_score(y_test, y_pred_test)\n",
    "recall_test = recall_score(y_test, y_pred_test)\n",
    "f1_test = f1_score(y_test, y_pred_test)\n",
    "\n",
    "print(f\"Precision on Test Set = {precision_test:.3f}\")\n",
    "print(f\"Recall on Test Set = {recall_test:.3f}\")\n",
    "print(f\"F1 Score on Test Set = {f1_test:.3f}\")"
   ]
  },
  {
   "cell_type": "code",
   "execution_count": null,
   "metadata": {},
   "outputs": [],
   "source": [
    "# Save the model\n",
    "dump(rf_model, data_path/'rf_model.joblib')"
   ]
  }
 ],
 "metadata": {
  "kernelspec": {
   "display_name": "Python 3",
   "language": "python",
   "name": "python3"
  },
  "language_info": {
   "codemirror_mode": {
    "name": "ipython",
    "version": 3
   },
   "file_extension": ".py",
   "mimetype": "text/x-python",
   "name": "python",
   "nbconvert_exporter": "python",
   "pygments_lexer": "ipython3",
   "version": "3.11.8"
  },
  "orig_nbformat": 4
 },
 "nbformat": 4,
 "nbformat_minor": 2
}
