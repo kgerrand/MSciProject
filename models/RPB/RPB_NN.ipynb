{
 "cells": [
  {
   "cell_type": "markdown",
   "metadata": {},
   "source": [
    "# Neural Network Final Model - Ragged Point, Barbados"
   ]
  },
  {
   "cell_type": "code",
   "execution_count": 1,
   "metadata": {},
   "outputs": [],
   "source": [
    "import pandas as pd\n",
    "from joblib import dump\n",
    "from pathlib import Path\n",
    "import matplotlib.pyplot as plt\n",
    "import seaborn as sns\n",
    "\n",
    "from sklearn.neural_network import MLPClassifier\n",
    "from sklearn.metrics import precision_score, recall_score, f1_score\n",
    "from sklearn.inspection import permutation_importance\n",
    "\n",
    "import sys\n",
    "sys.path.append('../../')\n",
    "import config\n",
    "\n",
    "data_path = Path.home()/'OneDrive'/'Kirstin'/'Uni'/'Year4'/'MSciProject'/'data_files'/'saved_files'"
   ]
  },
  {
   "cell_type": "code",
   "execution_count": 2,
   "metadata": {},
   "outputs": [
    {
     "name": "stdout",
     "output_type": "stream",
     "text": [
      "Creating a neural network model for \u001b[1mRagged Point, Barbados\u001b[0;0m.\n"
     ]
    }
   ],
   "source": [
    "site = config.site\n",
    "site_name = config.site_dict[site]\n",
    "assert site == 'RPB', 'This script is only for Ragged Point, Barbados. The site can be changed in the config file.'\n",
    "\n",
    "compound = config.compound\n",
    "\n",
    "print(f\"Creating a neural network model for \\033[1m{site_name}\\033[0;0m.\")"
   ]
  },
  {
   "cell_type": "markdown",
   "metadata": {},
   "source": [
    "### Loading & Initialising Data"
   ]
  },
  {
   "cell_type": "code",
   "execution_count": 3,
   "metadata": {},
   "outputs": [
    {
     "data": {
      "text/html": [
       "<div>\n",
       "<style scoped>\n",
       "    .dataframe tbody tr th:only-of-type {\n",
       "        vertical-align: middle;\n",
       "    }\n",
       "\n",
       "    .dataframe tbody tr th {\n",
       "        vertical-align: top;\n",
       "    }\n",
       "\n",
       "    .dataframe thead th {\n",
       "        text-align: right;\n",
       "    }\n",
       "</style>\n",
       "<table border=\"1\" class=\"dataframe\">\n",
       "  <thead>\n",
       "    <tr style=\"text-align: right;\">\n",
       "      <th></th>\n",
       "      <th>time</th>\n",
       "      <th>flag</th>\n",
       "      <th>u10_0</th>\n",
       "      <th>u10_1</th>\n",
       "      <th>u10_2</th>\n",
       "      <th>u10_3</th>\n",
       "      <th>u10_4</th>\n",
       "      <th>u10_5</th>\n",
       "      <th>u10_6</th>\n",
       "      <th>u10_7</th>\n",
       "      <th>...</th>\n",
       "      <th>v500_7_past</th>\n",
       "      <th>v500_8_past</th>\n",
       "      <th>v500_9_past</th>\n",
       "      <th>v500_10_past</th>\n",
       "      <th>v500_11_past</th>\n",
       "      <th>v500_12_past</th>\n",
       "      <th>v500_13_past</th>\n",
       "      <th>v500_14_past</th>\n",
       "      <th>v500_15_past</th>\n",
       "      <th>v500_16_past</th>\n",
       "    </tr>\n",
       "  </thead>\n",
       "  <tbody>\n",
       "    <tr>\n",
       "      <th>14241</th>\n",
       "      <td>2009-01-12 15:00:00</td>\n",
       "      <td>1.0</td>\n",
       "      <td>-8.860311</td>\n",
       "      <td>-9.132447</td>\n",
       "      <td>-9.117777</td>\n",
       "      <td>-7.175416</td>\n",
       "      <td>-6.634445</td>\n",
       "      <td>-4.451489</td>\n",
       "      <td>-5.736250</td>\n",
       "      <td>-9.823056</td>\n",
       "      <td>...</td>\n",
       "      <td>-2.300700</td>\n",
       "      <td>-1.435736</td>\n",
       "      <td>-4.690631</td>\n",
       "      <td>-9.622684</td>\n",
       "      <td>-4.369424</td>\n",
       "      <td>0.469325</td>\n",
       "      <td>-0.618189</td>\n",
       "      <td>0.506799</td>\n",
       "      <td>1.104856</td>\n",
       "      <td>4.892800</td>\n",
       "    </tr>\n",
       "    <tr>\n",
       "      <th>27534</th>\n",
       "      <td>2019-05-07 17:00:00</td>\n",
       "      <td>1.0</td>\n",
       "      <td>-6.460570</td>\n",
       "      <td>-6.960177</td>\n",
       "      <td>-6.806536</td>\n",
       "      <td>-6.105846</td>\n",
       "      <td>-6.556915</td>\n",
       "      <td>-4.740596</td>\n",
       "      <td>-2.950189</td>\n",
       "      <td>-7.342271</td>\n",
       "      <td>...</td>\n",
       "      <td>-3.239177</td>\n",
       "      <td>-4.364377</td>\n",
       "      <td>-4.776350</td>\n",
       "      <td>3.093872</td>\n",
       "      <td>2.780772</td>\n",
       "      <td>0.279584</td>\n",
       "      <td>1.239480</td>\n",
       "      <td>-2.140240</td>\n",
       "      <td>-2.934832</td>\n",
       "      <td>-5.307280</td>\n",
       "    </tr>\n",
       "    <tr>\n",
       "      <th>28071</th>\n",
       "      <td>2020-01-08 03:00:00</td>\n",
       "      <td>1.0</td>\n",
       "      <td>-7.982812</td>\n",
       "      <td>-8.493238</td>\n",
       "      <td>-8.154759</td>\n",
       "      <td>-8.688654</td>\n",
       "      <td>-7.274261</td>\n",
       "      <td>-4.010417</td>\n",
       "      <td>-3.981533</td>\n",
       "      <td>-8.423286</td>\n",
       "      <td>...</td>\n",
       "      <td>-0.124955</td>\n",
       "      <td>-0.596417</td>\n",
       "      <td>-2.260795</td>\n",
       "      <td>-8.833577</td>\n",
       "      <td>-8.153229</td>\n",
       "      <td>2.344767</td>\n",
       "      <td>3.538522</td>\n",
       "      <td>4.561981</td>\n",
       "      <td>2.477314</td>\n",
       "      <td>0.827197</td>\n",
       "    </tr>\n",
       "    <tr>\n",
       "      <th>3045</th>\n",
       "      <td>2001-04-11 11:00:00</td>\n",
       "      <td>0.0</td>\n",
       "      <td>-7.976305</td>\n",
       "      <td>-6.671297</td>\n",
       "      <td>-4.789075</td>\n",
       "      <td>-6.709778</td>\n",
       "      <td>-7.728353</td>\n",
       "      <td>-4.195464</td>\n",
       "      <td>-5.026988</td>\n",
       "      <td>-8.695396</td>\n",
       "      <td>...</td>\n",
       "      <td>-0.665248</td>\n",
       "      <td>0.156959</td>\n",
       "      <td>-4.759787</td>\n",
       "      <td>3.376000</td>\n",
       "      <td>3.869578</td>\n",
       "      <td>-0.868262</td>\n",
       "      <td>4.836432</td>\n",
       "      <td>3.625961</td>\n",
       "      <td>-0.056206</td>\n",
       "      <td>-4.794045</td>\n",
       "    </tr>\n",
       "    <tr>\n",
       "      <th>10182</th>\n",
       "      <td>2006-02-06 01:00:00</td>\n",
       "      <td>1.0</td>\n",
       "      <td>-7.816668</td>\n",
       "      <td>-8.845702</td>\n",
       "      <td>-8.778575</td>\n",
       "      <td>-8.400253</td>\n",
       "      <td>-6.680540</td>\n",
       "      <td>-3.534846</td>\n",
       "      <td>-4.944918</td>\n",
       "      <td>-8.546926</td>\n",
       "      <td>...</td>\n",
       "      <td>-2.178932</td>\n",
       "      <td>4.660448</td>\n",
       "      <td>-6.958519</td>\n",
       "      <td>-11.807394</td>\n",
       "      <td>-4.933021</td>\n",
       "      <td>2.135924</td>\n",
       "      <td>-0.824634</td>\n",
       "      <td>-1.664509</td>\n",
       "      <td>4.373490</td>\n",
       "      <td>17.618313</td>\n",
       "    </tr>\n",
       "  </tbody>\n",
       "</table>\n",
       "<p>5 rows × 210 columns</p>\n",
       "</div>"
      ],
      "text/plain": [
       "                     time  flag     u10_0     u10_1     u10_2     u10_3  \\\n",
       "14241 2009-01-12 15:00:00   1.0 -8.860311 -9.132447 -9.117777 -7.175416   \n",
       "27534 2019-05-07 17:00:00   1.0 -6.460570 -6.960177 -6.806536 -6.105846   \n",
       "28071 2020-01-08 03:00:00   1.0 -7.982812 -8.493238 -8.154759 -8.688654   \n",
       "3045  2001-04-11 11:00:00   0.0 -7.976305 -6.671297 -4.789075 -6.709778   \n",
       "10182 2006-02-06 01:00:00   1.0 -7.816668 -8.845702 -8.778575 -8.400253   \n",
       "\n",
       "          u10_4     u10_5     u10_6     u10_7  ...  v500_7_past  v500_8_past  \\\n",
       "14241 -6.634445 -4.451489 -5.736250 -9.823056  ...    -2.300700    -1.435736   \n",
       "27534 -6.556915 -4.740596 -2.950189 -7.342271  ...    -3.239177    -4.364377   \n",
       "28071 -7.274261 -4.010417 -3.981533 -8.423286  ...    -0.124955    -0.596417   \n",
       "3045  -7.728353 -4.195464 -5.026988 -8.695396  ...    -0.665248     0.156959   \n",
       "10182 -6.680540 -3.534846 -4.944918 -8.546926  ...    -2.178932     4.660448   \n",
       "\n",
       "       v500_9_past  v500_10_past  v500_11_past  v500_12_past  v500_13_past  \\\n",
       "14241    -4.690631     -9.622684     -4.369424      0.469325     -0.618189   \n",
       "27534    -4.776350      3.093872      2.780772      0.279584      1.239480   \n",
       "28071    -2.260795     -8.833577     -8.153229      2.344767      3.538522   \n",
       "3045     -4.759787      3.376000      3.869578     -0.868262      4.836432   \n",
       "10182    -6.958519    -11.807394     -4.933021      2.135924     -0.824634   \n",
       "\n",
       "       v500_14_past  v500_15_past  v500_16_past  \n",
       "14241      0.506799      1.104856      4.892800  \n",
       "27534     -2.140240     -2.934832     -5.307280  \n",
       "28071      4.561981      2.477314      0.827197  \n",
       "3045       3.625961     -0.056206     -4.794045  \n",
       "10182     -1.664509      4.373490     17.618313  \n",
       "\n",
       "[5 rows x 210 columns]"
      ]
     },
     "execution_count": 3,
     "metadata": {},
     "output_type": "execute_result"
    }
   ],
   "source": [
    "data = pd.read_csv(data_path/f'for_model_{compound}_{site}.csv', parse_dates=['time'])\n",
    "data.sample(5)"
   ]
  },
  {
   "cell_type": "code",
   "execution_count": 4,
   "metadata": {},
   "outputs": [
    {
     "name": "stdout",
     "output_type": "stream",
     "text": [
      "Train range: 2014-01-01 17:00:00 -> 2018-12-31 23:00:00. Length: 5859\n",
      "Val range: 2019-01-01 01:00:00 -> 2019-12-31 13:00:00. Length: 1213\n",
      "Test range: 2020-01-01 17:00:00 -> 2022-12-30 19:00:00. Length: 3634\n"
     ]
    }
   ],
   "source": [
    "train_data = data[(data['time'].dt.year >= 2014) & (data['time'].dt.year <= 2018)]\n",
    "val_data = data[(data['time'].dt.year >= 2019) & (data['time'].dt.year <= 2019)]\n",
    "test_data = data[(data['time'].dt.year >= 2020) & (data['time'].dt.year <= 2023)]\n",
    "\n",
    "print(f\"Train range: {train_data['time'].min()} -> {train_data['time'].max()}. Length: {len(train_data)}\")\n",
    "print(f\"Val range: {val_data['time'].min()} -> {val_data['time'].max()}. Length: {len(val_data)}\")\n",
    "print(f\"Test range: {test_data['time'].min()} -> {test_data['time'].max()}. Length: {len(test_data)}\")\n",
    "\n",
    "\n",
    "# Drop the \"time\" column as it won't be used in the model\n",
    "train_data = train_data.drop(columns=['time'])\n",
    "val_data = val_data.drop(columns=['time'])\n",
    "test_data = test_data.drop(columns=['time'])\n",
    "\n",
    "# Define the features (X) and the target (y)\n",
    "X_train = train_data.drop(columns=['flag'])\n",
    "y_train = train_data['flag']\n",
    "X_val = val_data.drop(columns=['flag'])\n",
    "y_val = val_data['flag']\n",
    "X_test = test_data.drop(columns=['flag'])\n",
    "y_test = test_data['flag']\n",
    "\n",
    "# Balanced Data - removing NaN values and associated data\n",
    "y_train = y_train.dropna()\n",
    "y_val = y_val.dropna()\n",
    "y_test = y_test.dropna()\n",
    "\n",
    "# aligning indices of features sets\n",
    "X_train = X_train.loc[y_train.index]\n",
    "X_val = X_val.loc[y_val.index]\n",
    "X_test = X_test.loc[y_test.index]"
   ]
  },
  {
   "cell_type": "markdown",
   "metadata": {},
   "source": [
    "### Model"
   ]
  },
  {
   "cell_type": "code",
   "execution_count": 19,
   "metadata": {},
   "outputs": [
    {
     "name": "stdout",
     "output_type": "stream",
     "text": [
      "Precision on Training Set = 0.861\n",
      "Precision on Validation Set = 0.866\n",
      "Recall on Training Set = 0.912\n",
      "Recall on Validation Set = 0.935\n",
      "F1 Score on Training Set = 0.886\n",
      "F1 Score on Validation Set = 0.899\n"
     ]
    }
   ],
   "source": [
    "nn_model = MLPClassifier(random_state=42,\n",
    "                         max_iter=1000, \n",
    "                         hidden_layer_sizes=(200,), \n",
    "                         shuffle=False,\n",
    "                         activation='relu', \n",
    "                         solver='adam', \n",
    "                         alpha=0.05, \n",
    "                         learning_rate='constant', \n",
    "                         batch_size=100, \n",
    "                         early_stopping=True,\n",
    "                         learning_rate_init=0.001,\n",
    "                         beta_2=0.9,)\n",
    "\n",
    "nn_model.fit(X_train, y_train)\n",
    "\n",
    "y_pred_val = nn_model.predict(X_val)\n",
    "y_pred_train = nn_model.predict(X_train)\n",
    "\n",
    "\n",
    "precision_val = precision_score(y_val, y_pred_val)\n",
    "precision_train = precision_score(y_train, y_pred_train)\n",
    "recall_val = recall_score(y_val, y_pred_val)\n",
    "recall_train = recall_score(y_train, y_pred_train)\n",
    "f1_val = f1_score(y_val, y_pred_val)\n",
    "f1_train = f1_score(y_train, y_pred_train)\n",
    "\n",
    "print(f\"Precision on Training Set = {precision_train:.3f}\")\n",
    "print(f\"Precision on Validation Set = {precision_val:.3f}\")\n",
    "print(f\"Recall on Training Set = {recall_train:.3f}\")\n",
    "print(f\"Recall on Validation Set = {recall_val:.3f}\")\n",
    "print(f\"F1 Score on Training Set = {f1_train:.3f}\")\n",
    "print(f\"F1 Score on Validation Set = {f1_val:.3f}\")"
   ]
  },
  {
   "cell_type": "code",
   "execution_count": 20,
   "metadata": {},
   "outputs": [
    {
     "name": "stdout",
     "output_type": "stream",
     "text": [
      "Precision on Testing Set = 0.859\n",
      "Recall on Testing Set = 0.899\n",
      "F1 Score on Testing Set = 0.879\n"
     ]
    }
   ],
   "source": [
    "# evaluating model on test set\n",
    "\n",
    "y_pred_test = nn_model.predict(X_test)\n",
    "\n",
    "precision_test = precision_score(y_test, y_pred_test)\n",
    "recall_test = recall_score(y_test, y_pred_test)\n",
    "f1_test = f1_score(y_test, y_pred_test)\n",
    "\n",
    "print(f\"Precision on Testing Set = {precision_test:.3f}\")\n",
    "print(f\"Recall on Testing Set = {recall_test:.3f}\")\n",
    "print(f\"F1 Score on Testing Set = {f1_test:.3f}\")"
   ]
  },
  {
   "cell_type": "code",
   "execution_count": 21,
   "metadata": {},
   "outputs": [
    {
     "data": {
      "text/plain": [
       "['C:\\\\Users\\\\kirst\\\\OneDrive\\\\Kirstin\\\\Uni\\\\Year4\\\\MSciProject\\\\data_files\\\\saved_files\\\\nn_model_RPB.joblib']"
      ]
     },
     "execution_count": 21,
     "metadata": {},
     "output_type": "execute_result"
    }
   ],
   "source": [
    "# saving the model\n",
    "dump(nn_model, data_path/f'nn_model_{site}.joblib')"
   ]
  },
  {
   "cell_type": "markdown",
   "metadata": {},
   "source": [
    "### Assessing Feature Importance"
   ]
  },
  {
   "cell_type": "code",
   "execution_count": 22,
   "metadata": {},
   "outputs": [],
   "source": [
    "# finding most important features in the model using permutation importance\n",
    "# using the testing set\n",
    "perm_importance = permutation_importance(nn_model, X_train, y_train, n_repeats=30, random_state=42)\n",
    "sorted_importances = perm_importance.importances_mean.argsort()"
   ]
  },
  {
   "cell_type": "code",
   "execution_count": 23,
   "metadata": {},
   "outputs": [
    {
     "data": {
      "text/plain": [
       "Text(0.5, 0, 'Permutation Importance')"
      ]
     },
     "execution_count": 23,
     "metadata": {},
     "output_type": "execute_result"
    },
    {
     "data": {
      "image/png": "[encoded data removed]",
      "text/plain": [
       "<Figure size 1200x1200 with 1 Axes>"
      ]
     },
     "metadata": {},
     "output_type": "display_data"
    }
   ],
   "source": [
    "# plotting first 20 most important features in a histogram\n",
    "\n",
    "fig, ax = plt.subplots(figsize=(12, 12))\n",
    "sns.set_theme(style='ticks', font='Arial')\n",
    "\n",
    "ax.barh(X_val.columns[sorted_importances][-20:], perm_importance.importances_mean[sorted_importances][-20:], color='#FF620E')\n",
    "\n",
    "ax.set_xscale('log')\n",
    "\n",
    "ax.set_ylabel('Features', fontsize=12, fontstyle='italic')\n",
    "ax.set_xlabel('Permutation Importance', fontsize=12, fontstyle='italic')\n",
    "# ax.set_title('Permutation Importance (Testing Set)', fontsize=14)"
   ]
  }
 ],
 "metadata": {
  "kernelspec": {
   "display_name": "venv",
   "language": "python",
   "name": "python3"
  },
  "language_info": {
   "codemirror_mode": {
    "name": "ipython",
    "version": 3
   },
   "file_extension": ".py",
   "mimetype": "text/x-python",
   "name": "python",
   "nbconvert_exporter": "python",
   "pygments_lexer": "ipython3",
   "version": "3.11.5"
  }
 },
 "nbformat": 4,
 "nbformat_minor": 2
}
