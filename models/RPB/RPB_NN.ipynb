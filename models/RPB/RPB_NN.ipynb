{
 "cells": [
  {
   "cell_type": "markdown",
   "metadata": {},
   "source": [
    "# Neural Network Final Model - Ragged Point, Barbados"
   ]
  },
  {
   "cell_type": "code",
   "execution_count": 1,
   "metadata": {},
   "outputs": [],
   "source": [
    "import pandas as pd\n",
    "import numpy as np\n",
    "from joblib import dump\n",
    "from pathlib import Path\n",
    "import matplotlib.pyplot as plt\n",
    "import seaborn as sns\n",
    "\n",
    "from sklearn.neural_network import MLPClassifier\n",
    "from sklearn.metrics import precision_score, recall_score, f1_score, accuracy_score\n",
    "\n",
    "import sys\n",
    "sys.path.append('../../')\n",
    "import config as cfg`\n",
    "import functions as f\n",
    "\n",
    "data_path = Path.home()/'OneDrive'/'Kirstin'/'Uni'/'Year4'/'MSciProject'/'data_files'/'saved_files'"
   ]
  },
  {
   "cell_type": "code",
   "execution_count": 2,
   "metadata": {},
   "outputs": [
    {
     "name": "stdout",
     "output_type": "stream",
     "text": [
      "Creating a neural network model for \u001b[1mRagged Point, Barbados\u001b[0;0m.\n"
     ]
    }
   ],
   "source": [
    "site = cfg.site\n",
    "site_name = cfg.site_dict[site]\n",
    "assert site == 'RPB', 'This script is only for Ragged Point, Barbados. The site can be changed in the config file.'\n",
    "\n",
    "compound = cfg.compound\n",
    "\n",
    "print(f\"Creating a neural network model for \\033[1m{site_name}\\033[0;0m.\")"
   ]
  },
  {
   "cell_type": "markdown",
   "metadata": {},
   "source": [
    "### Loading & Initialising Data"
   ]
  },
  {
   "cell_type": "code",
   "execution_count": 3,
   "metadata": {},
   "outputs": [
    {
     "data": {
      "text/html": [
       "<div>\n",
       "<style scoped>\n",
       "    .dataframe tbody tr th:only-of-type {\n",
       "        vertical-align: middle;\n",
       "    }\n",
       "\n",
       "    .dataframe tbody tr th {\n",
       "        vertical-align: top;\n",
       "    }\n",
       "\n",
       "    .dataframe thead th {\n",
       "        text-align: right;\n",
       "    }\n",
       "</style>\n",
       "<table border=\"1\" class=\"dataframe\">\n",
       "  <thead>\n",
       "    <tr style=\"text-align: right;\">\n",
       "      <th></th>\n",
       "      <th>time</th>\n",
       "      <th>flag</th>\n",
       "      <th>u10_0</th>\n",
       "      <th>u10_1</th>\n",
       "      <th>u10_2</th>\n",
       "      <th>u10_3</th>\n",
       "      <th>u10_4</th>\n",
       "      <th>u10_5</th>\n",
       "      <th>u10_6</th>\n",
       "      <th>u10_7</th>\n",
       "      <th>...</th>\n",
       "      <th>v500_7_past</th>\n",
       "      <th>v500_8_past</th>\n",
       "      <th>v500_9_past</th>\n",
       "      <th>v500_10_past</th>\n",
       "      <th>v500_11_past</th>\n",
       "      <th>v500_12_past</th>\n",
       "      <th>v500_13_past</th>\n",
       "      <th>v500_14_past</th>\n",
       "      <th>v500_15_past</th>\n",
       "      <th>v500_16_past</th>\n",
       "    </tr>\n",
       "  </thead>\n",
       "  <tbody>\n",
       "    <tr>\n",
       "      <th>34969</th>\n",
       "      <td>2018-10-03 05:00:00</td>\n",
       "      <td>0.0</td>\n",
       "      <td>-3.309519</td>\n",
       "      <td>2.643076</td>\n",
       "      <td>-0.784700</td>\n",
       "      <td>-4.594163</td>\n",
       "      <td>-4.944146</td>\n",
       "      <td>-2.849188</td>\n",
       "      <td>-3.222641</td>\n",
       "      <td>-6.637241</td>\n",
       "      <td>...</td>\n",
       "      <td>0.223698</td>\n",
       "      <td>-1.069602</td>\n",
       "      <td>-3.697229</td>\n",
       "      <td>1.536565</td>\n",
       "      <td>-1.548672</td>\n",
       "      <td>0.988064</td>\n",
       "      <td>0.932520</td>\n",
       "      <td>-0.813340</td>\n",
       "      <td>1.416009</td>\n",
       "      <td>-2.948011</td>\n",
       "    </tr>\n",
       "    <tr>\n",
       "      <th>18334</th>\n",
       "      <td>2009-02-07 05:00:00</td>\n",
       "      <td>1.0</td>\n",
       "      <td>-7.584018</td>\n",
       "      <td>-6.675776</td>\n",
       "      <td>-8.373812</td>\n",
       "      <td>-8.117237</td>\n",
       "      <td>-9.602772</td>\n",
       "      <td>-4.125770</td>\n",
       "      <td>-3.424125</td>\n",
       "      <td>-7.629666</td>\n",
       "      <td>...</td>\n",
       "      <td>3.862597</td>\n",
       "      <td>8.308476</td>\n",
       "      <td>14.268000</td>\n",
       "      <td>14.512420</td>\n",
       "      <td>-7.514892</td>\n",
       "      <td>-1.033781</td>\n",
       "      <td>2.223549</td>\n",
       "      <td>0.888028</td>\n",
       "      <td>-2.117694</td>\n",
       "      <td>2.095747</td>\n",
       "    </tr>\n",
       "    <tr>\n",
       "      <th>1490</th>\n",
       "      <td>2000-07-09 23:00:00</td>\n",
       "      <td>1.0</td>\n",
       "      <td>-6.777973</td>\n",
       "      <td>-7.452922</td>\n",
       "      <td>-7.574826</td>\n",
       "      <td>-7.553577</td>\n",
       "      <td>-7.049183</td>\n",
       "      <td>-2.659781</td>\n",
       "      <td>-2.185584</td>\n",
       "      <td>-5.779810</td>\n",
       "      <td>...</td>\n",
       "      <td>-0.308753</td>\n",
       "      <td>-1.109318</td>\n",
       "      <td>2.811647</td>\n",
       "      <td>-1.825923</td>\n",
       "      <td>4.696146</td>\n",
       "      <td>3.807841</td>\n",
       "      <td>2.988385</td>\n",
       "      <td>-0.054352</td>\n",
       "      <td>-3.254095</td>\n",
       "      <td>-0.509419</td>\n",
       "    </tr>\n",
       "    <tr>\n",
       "      <th>13542</th>\n",
       "      <td>2006-06-21 17:00:00</td>\n",
       "      <td>0.0</td>\n",
       "      <td>-6.893951</td>\n",
       "      <td>-6.859172</td>\n",
       "      <td>-7.498916</td>\n",
       "      <td>-6.780680</td>\n",
       "      <td>-5.158506</td>\n",
       "      <td>-4.027707</td>\n",
       "      <td>-1.352589</td>\n",
       "      <td>-5.782616</td>\n",
       "      <td>...</td>\n",
       "      <td>-2.326270</td>\n",
       "      <td>-1.468891</td>\n",
       "      <td>-2.338794</td>\n",
       "      <td>-0.573941</td>\n",
       "      <td>1.783370</td>\n",
       "      <td>0.065722</td>\n",
       "      <td>3.093523</td>\n",
       "      <td>0.975603</td>\n",
       "      <td>4.146943</td>\n",
       "      <td>2.947094</td>\n",
       "    </tr>\n",
       "    <tr>\n",
       "      <th>19183</th>\n",
       "      <td>2009-05-16 21:00:00</td>\n",
       "      <td>0.0</td>\n",
       "      <td>-5.262296</td>\n",
       "      <td>-5.283430</td>\n",
       "      <td>-2.740947</td>\n",
       "      <td>-5.937249</td>\n",
       "      <td>-6.737331</td>\n",
       "      <td>-5.333750</td>\n",
       "      <td>-3.262929</td>\n",
       "      <td>-6.903050</td>\n",
       "      <td>...</td>\n",
       "      <td>-1.981978</td>\n",
       "      <td>-2.994074</td>\n",
       "      <td>-3.546125</td>\n",
       "      <td>0.784540</td>\n",
       "      <td>-0.025386</td>\n",
       "      <td>-3.310784</td>\n",
       "      <td>-0.489811</td>\n",
       "      <td>5.239761</td>\n",
       "      <td>1.039285</td>\n",
       "      <td>-0.566798</td>\n",
       "    </tr>\n",
       "  </tbody>\n",
       "</table>\n",
       "<p>5 rows × 210 columns</p>\n",
       "</div>"
      ],
      "text/plain": [
       "                     time  flag     u10_0     u10_1     u10_2     u10_3  \\\n",
       "34969 2018-10-03 05:00:00   0.0 -3.309519  2.643076 -0.784700 -4.594163   \n",
       "18334 2009-02-07 05:00:00   1.0 -7.584018 -6.675776 -8.373812 -8.117237   \n",
       "1490  2000-07-09 23:00:00   1.0 -6.777973 -7.452922 -7.574826 -7.553577   \n",
       "13542 2006-06-21 17:00:00   0.0 -6.893951 -6.859172 -7.498916 -6.780680   \n",
       "19183 2009-05-16 21:00:00   0.0 -5.262296 -5.283430 -2.740947 -5.937249   \n",
       "\n",
       "          u10_4     u10_5     u10_6     u10_7  ...  v500_7_past  v500_8_past  \\\n",
       "34969 -4.944146 -2.849188 -3.222641 -6.637241  ...     0.223698    -1.069602   \n",
       "18334 -9.602772 -4.125770 -3.424125 -7.629666  ...     3.862597     8.308476   \n",
       "1490  -7.049183 -2.659781 -2.185584 -5.779810  ...    -0.308753    -1.109318   \n",
       "13542 -5.158506 -4.027707 -1.352589 -5.782616  ...    -2.326270    -1.468891   \n",
       "19183 -6.737331 -5.333750 -3.262929 -6.903050  ...    -1.981978    -2.994074   \n",
       "\n",
       "       v500_9_past  v500_10_past  v500_11_past  v500_12_past  v500_13_past  \\\n",
       "34969    -3.697229      1.536565     -1.548672      0.988064      0.932520   \n",
       "18334    14.268000     14.512420     -7.514892     -1.033781      2.223549   \n",
       "1490      2.811647     -1.825923      4.696146      3.807841      2.988385   \n",
       "13542    -2.338794     -0.573941      1.783370      0.065722      3.093523   \n",
       "19183    -3.546125      0.784540     -0.025386     -3.310784     -0.489811   \n",
       "\n",
       "       v500_14_past  v500_15_past  v500_16_past  \n",
       "34969     -0.813340      1.416009     -2.948011  \n",
       "18334      0.888028     -2.117694      2.095747  \n",
       "1490      -0.054352     -3.254095     -0.509419  \n",
       "13542      0.975603      4.146943      2.947094  \n",
       "19183      5.239761      1.039285     -0.566798  \n",
       "\n",
       "[5 rows x 210 columns]"
      ]
     },
     "execution_count": 3,
     "metadata": {},
     "output_type": "execute_result"
    }
   ],
   "source": [
    "data = pd.read_csv(data_path/f'for_model_{compound}_{site}.csv', parse_dates=['time'])\n",
    "data.sample(5)"
   ]
  },
  {
   "cell_type": "code",
   "execution_count": 4,
   "metadata": {},
   "outputs": [
    {
     "name": "stdout",
     "output_type": "stream",
     "text": [
      "Train range: 2018-01-01 05:00:00 -> 2018-12-31 23:00:00. Length: 1862\n",
      "Val range: 2019-01-01 01:00:00 -> 2019-12-31 17:00:00. Length: 1667\n",
      "Test range: 2020-01-01 15:00:00 -> 2022-12-31 15:00:00. Length: 5047\n"
     ]
    }
   ],
   "source": [
    "train_data = data[(data['time'].dt.year >= 2018) & (data['time'].dt.year <= 2018)]\n",
    "val_data = data[(data['time'].dt.year >= 2019) & (data['time'].dt.year <= 2019)]\n",
    "test_data = data[(data['time'].dt.year >= 2020) & (data['time'].dt.year <= 2023)]\n",
    "\n",
    "print(f\"Train range: {train_data['time'].min()} -> {train_data['time'].max()}. Length: {len(train_data)}\")\n",
    "print(f\"Val range: {val_data['time'].min()} -> {val_data['time'].max()}. Length: {len(val_data)}\")\n",
    "print(f\"Test range: {test_data['time'].min()} -> {test_data['time'].max()}. Length: {len(test_data)}\")\n",
    "\n",
    "\n",
    "# Drop the \"time\" column as it won't be used in the model\n",
    "train_data = train_data.drop(columns=['time'])\n",
    "val_data = val_data.drop(columns=['time'])\n",
    "test_data = test_data.drop(columns=['time'])\n",
    "\n",
    "# Define the features (X) and the target (y)\n",
    "X_train = train_data.drop(columns=['flag'])\n",
    "y_train = train_data['flag']\n",
    "X_val = val_data.drop(columns=['flag'])\n",
    "y_val = val_data['flag']\n",
    "X_test = test_data.drop(columns=['flag'])\n",
    "y_test = test_data['flag']\n",
    "\n",
    "# Balanced Data - removing NaN values and associated data\n",
    "y_train = y_train.dropna()\n",
    "y_val = y_val.dropna()\n",
    "y_test = y_test.dropna()\n",
    "\n",
    "# aligning indices of features sets\n",
    "X_train = X_train.loc[y_train.index]\n",
    "X_val = X_val.loc[y_val.index]\n",
    "X_test = X_test.loc[y_test.index]"
   ]
  },
  {
   "cell_type": "markdown",
   "metadata": {},
   "source": [
    "### Model"
   ]
  },
  {
   "cell_type": "code",
   "execution_count": 5,
   "metadata": {},
   "outputs": [
    {
     "name": "stdout",
     "output_type": "stream",
     "text": [
      "Precision on Training Set = 0.834\n",
      "Precision on Validation Set = 0.783\n",
      "Recall on Training Set = 0.654\n",
      "Recall on Validation Set = 0.679\n",
      "F1 Score on Training Set = 0.734\n",
      "F1 Score on Validation Set = 0.727\n"
     ]
    }
   ],
   "source": [
    "nn_model = MLPClassifier(random_state=42,\n",
    "                         max_iter=1000, \n",
    "                         hidden_layer_sizes=(100), \n",
    "                         shuffle=True,\n",
    "                         activation='relu', \n",
    "                         solver='adam', \n",
    "                         alpha=0.001, \n",
    "                         learning_rate='constant', \n",
    "                         batch_size=100, \n",
    "                         early_stopping=True,\n",
    "                         learning_rate_init=0.001,\n",
    "                         beta_2=0.9,)\n",
    "\n",
    "nn_model.fit(X_train, y_train)\n",
    "\n",
    "class_probabilities_val = nn_model.predict_proba(X_val)\n",
    "class_probabilities_train = nn_model.predict_proba(X_train)\n",
    "\n",
    "confidence_threshold = config.confidence_threshold\n",
    "\n",
    "y_pred_val = (class_probabilities_val[:,1] > confidence_threshold).astype(int)\n",
    "y_pred_train = (class_probabilities_train[:,1] > confidence_threshold).astype(int)\n",
    "\n",
    "\n",
    "precision_val = precision_score(y_val, y_pred_val)\n",
    "precision_train = precision_score(y_train, y_pred_train)\n",
    "recall_val = recall_score(y_val, y_pred_val)\n",
    "recall_train = recall_score(y_train, y_pred_train)\n",
    "f1_val = f1_score(y_val, y_pred_val)\n",
    "f1_train = f1_score(y_train, y_pred_train)\n",
    "\n",
    "print(f\"Precision on Training Set = {precision_train:.3f}\")\n",
    "print(f\"Precision on Validation Set = {precision_val:.3f}\")\n",
    "print(f\"Recall on Training Set = {recall_train:.3f}\")\n",
    "print(f\"Recall on Validation Set = {recall_val:.3f}\")\n",
    "print(f\"F1 Score on Training Set = {f1_train:.3f}\")\n",
    "print(f\"F1 Score on Validation Set = {f1_val:.3f}\")"
   ]
  },
  {
   "cell_type": "code",
   "execution_count": 6,
   "metadata": {},
   "outputs": [
    {
     "name": "stdout",
     "output_type": "stream",
     "text": [
      "Precision on Testing Set = 0.759\n",
      "Recall on Testing Set = 0.644\n",
      "F1 Score on Testing Set = 0.697\n"
     ]
    }
   ],
   "source": [
    "# evaluating model on test set\n",
    "class_probabilities_test = nn_model.predict_proba(X_test)\n",
    "y_pred_test = (class_probabilities_test[:,1] > confidence_threshold).astype(int)\n",
    "\n",
    "precision_test = precision_score(y_test, y_pred_test)\n",
    "recall_test = recall_score(y_test, y_pred_test)\n",
    "f1_test = f1_score(y_test, y_pred_test)\n",
    "\n",
    "print(f\"Precision on Testing Set = {precision_test:.3f}\")\n",
    "print(f\"Recall on Testing Set = {recall_test:.3f}\")\n",
    "print(f\"F1 Score on Testing Set = {f1_test:.3f}\")"
   ]
  },
  {
   "cell_type": "code",
   "execution_count": 160,
   "metadata": {},
   "outputs": [
    {
     "data": {
      "text/plain": [
       "['C:\\\\Users\\\\kirst\\\\OneDrive\\\\Kirstin\\\\Uni\\\\Year4\\\\MSciProject\\\\data_files\\\\saved_files\\\\nn_model_RPB.joblib']"
      ]
     },
     "execution_count": 160,
     "metadata": {},
     "output_type": "execute_result"
    }
   ],
   "source": [
    "# saving the model\n",
    "dump(nn_model, data_path/f'nn_model_{site}.joblib')"
   ]
  },
  {
   "cell_type": "markdown",
   "metadata": {},
   "source": [
    "### Assessing Feature Importance"
   ]
  },
  {
   "cell_type": "code",
   "execution_count": 7,
   "metadata": {},
   "outputs": [],
   "source": [
    "# grouping features by category i.e. x-wind, y-wind, temporal etc.\n",
    "u_features = [col for col in data.columns if 'u' in col]\n",
    "v_features = [col for col in data.columns if 'v' in col]\n",
    "temporal_features = ['day_of_year', 'time_of_day']\n",
    "sp = ['sp']\n",
    "blh = ['blh']\n",
    "\n",
    "groups = [u_features, v_features, temporal_features, sp, blh]"
   ]
  },
  {
   "cell_type": "code",
   "execution_count": 8,
   "metadata": {},
   "outputs": [],
   "source": [
    "original_score = accuracy_score(y_train, nn_model.predict(X_train))\n",
    "importances = {}\n",
    "\n",
    "for group in groups:\n",
    "    scores_diff = []\n",
    "    for _ in range(100):\n",
    "        X_train_permuted = f.permute_group(X_train, group)\n",
    "        \n",
    "        permuted_score = accuracy_score(y_train, nn_model.predict(X_train_permuted))\n",
    "        scores_diff.append(original_score - permuted_score)\n",
    "    \n",
    "    importances[str(group)] = np.mean(scores_diff)\n",
    "\n",
    "# Sort groups by importance\n",
    "sorted_importances = sorted(importances.items(), key=lambda x: x[1], reverse=False)"
   ]
  },
  {
   "cell_type": "code",
   "execution_count": 9,
   "metadata": {},
   "outputs": [],
   "source": [
    "# matching the group names to the sorted importances\n",
    "n = len(groups)\n",
    "group_names_sorted = []\n",
    "\n",
    "for i in range(n):\n",
    "    name = sorted_importances[i][0]\n",
    "\n",
    "    if 'u10_0' in name:\n",
    "        group_names_sorted.append('u-wind')\n",
    "\n",
    "    elif 'v10_0' in name:\n",
    "        group_names_sorted.append('v-wind')\n",
    "\n",
    "    elif 'day_of_year' in name:\n",
    "        group_names_sorted.append('temporal')\n",
    "\n",
    "    elif 'sp' in name:\n",
    "        group_names_sorted.append('sp')\n",
    "\n",
    "    elif 'blh' in name:\n",
    "        group_names_sorted.append('blh')"
   ]
  },
  {
   "cell_type": "code",
   "execution_count": 10,
   "metadata": {},
   "outputs": [
    {
     "data": {
      "text/plain": [
       "Text(0, 0.5, 'Feature Group')"
      ]
     },
     "execution_count": 10,
     "metadata": {},
     "output_type": "execute_result"
    },
    {
     "data": {
      "image/png": "[encoded data removed]",
      "text/plain": [
       "<Figure size 1200x800 with 1 Axes>"
      ]
     },
     "metadata": {},
     "output_type": "display_data"
    }
   ],
   "source": [
    "# Plotting the importances of the groups\n",
    "fig, ax = plt.subplots(figsize=(12, 8))\n",
    "sns.set_theme(style='ticks', font='Arial')\n",
    "\n",
    "ax.barh(group_names_sorted, [importance for _, importance in sorted_importances], color='#FF620E')\n",
    "\n",
    "ax.set_xlabel('Importance', fontsize=12, fontstyle='italic')\n",
    "ax.set_ylabel('Feature Group', fontsize=12, fontstyle='italic')\n",
    "# ax.set_title('Permutation Importances', fontsize=14)"
   ]
  }
 ],
 "metadata": {
  "kernelspec": {
   "display_name": "venv",
   "language": "python",
   "name": "python3"
  },
  "language_info": {
   "codemirror_mode": {
    "name": "ipython",
    "version": 3
   },
   "file_extension": ".py",
   "mimetype": "text/x-python",
   "name": "python",
   "nbconvert_exporter": "python",
   "pygments_lexer": "ipython3",
   "version": "3.11.9"
  }
 },
 "nbformat": 4,
 "nbformat_minor": 2
}
