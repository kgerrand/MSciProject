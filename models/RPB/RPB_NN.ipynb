{
 "cells": [
  {
   "cell_type": "markdown",
   "metadata": {},
   "source": [
    "# Neural Network Final Model - Ragged Point, Barbados"
   ]
  },
  {
   "cell_type": "code",
   "execution_count": 1,
   "metadata": {},
   "outputs": [],
   "source": [
    "import pandas as pd\n",
    "from joblib import dump\n",
    "from pathlib import Path\n",
    "import matplotlib.pyplot as plt\n",
    "import seaborn as sns\n",
    "\n",
    "from sklearn.neural_network import MLPClassifier\n",
    "from sklearn.metrics import precision_score, recall_score, f1_score\n",
    "from sklearn.inspection import permutation_importance\n",
    "\n",
    "import sys\n",
    "sys.path.append('../../')\n",
    "import config\n",
    "\n",
    "data_path = Path.home()/'OneDrive'/'Kirstin'/'Uni'/'Year4'/'MSciProject'/'data_files'/'saved_files'"
   ]
  },
  {
   "cell_type": "code",
   "execution_count": 2,
   "metadata": {},
   "outputs": [
    {
     "name": "stdout",
     "output_type": "stream",
     "text": [
      "Creating a neural network model for \u001b[1mRagged Point, Barbados\u001b[0;0m.\n"
     ]
    }
   ],
   "source": [
    "site = config.site\n",
    "site_name = config.site_dict[site]\n",
    "assert site == 'RPB', 'This script is only for Ragged Point, Barbados. The site can be changed in the config file.'\n",
    "\n",
    "compound = config.compound\n",
    "\n",
    "print(f\"Creating a neural network model for \\033[1m{site_name}\\033[0;0m.\")"
   ]
  },
  {
   "cell_type": "markdown",
   "metadata": {},
   "source": [
    "### Loading & Initialising Data"
   ]
  },
  {
   "cell_type": "code",
   "execution_count": 3,
   "metadata": {},
   "outputs": [
    {
     "data": {
      "text/html": [
       "<div>\n",
       "<style scoped>\n",
       "    .dataframe tbody tr th:only-of-type {\n",
       "        vertical-align: middle;\n",
       "    }\n",
       "\n",
       "    .dataframe tbody tr th {\n",
       "        vertical-align: top;\n",
       "    }\n",
       "\n",
       "    .dataframe thead th {\n",
       "        text-align: right;\n",
       "    }\n",
       "</style>\n",
       "<table border=\"1\" class=\"dataframe\">\n",
       "  <thead>\n",
       "    <tr style=\"text-align: right;\">\n",
       "      <th></th>\n",
       "      <th>time</th>\n",
       "      <th>flag</th>\n",
       "      <th>u10_0</th>\n",
       "      <th>u10_1</th>\n",
       "      <th>u10_2</th>\n",
       "      <th>u10_3</th>\n",
       "      <th>u10_4</th>\n",
       "      <th>u10_5</th>\n",
       "      <th>u10_6</th>\n",
       "      <th>u10_7</th>\n",
       "      <th>...</th>\n",
       "      <th>v500_7_past</th>\n",
       "      <th>v500_8_past</th>\n",
       "      <th>v500_9_past</th>\n",
       "      <th>v500_10_past</th>\n",
       "      <th>v500_11_past</th>\n",
       "      <th>v500_12_past</th>\n",
       "      <th>v500_13_past</th>\n",
       "      <th>v500_14_past</th>\n",
       "      <th>v500_15_past</th>\n",
       "      <th>v500_16_past</th>\n",
       "    </tr>\n",
       "  </thead>\n",
       "  <tbody>\n",
       "    <tr>\n",
       "      <th>2724</th>\n",
       "      <td>2001-03-05 05:00:00</td>\n",
       "      <td>1.0</td>\n",
       "      <td>-6.891492</td>\n",
       "      <td>-4.532814</td>\n",
       "      <td>-1.415217</td>\n",
       "      <td>-5.737577</td>\n",
       "      <td>-5.273374</td>\n",
       "      <td>-3.687269</td>\n",
       "      <td>-3.669378</td>\n",
       "      <td>-8.723823</td>\n",
       "      <td>...</td>\n",
       "      <td>-0.825777</td>\n",
       "      <td>-0.715919</td>\n",
       "      <td>-1.900854</td>\n",
       "      <td>-7.199176</td>\n",
       "      <td>-1.710106</td>\n",
       "      <td>-0.927983</td>\n",
       "      <td>-4.125887</td>\n",
       "      <td>-2.794475</td>\n",
       "      <td>2.806641</td>\n",
       "      <td>3.395282</td>\n",
       "    </tr>\n",
       "    <tr>\n",
       "      <th>27650</th>\n",
       "      <td>2019-07-07 15:00:00</td>\n",
       "      <td>0.0</td>\n",
       "      <td>-5.350700</td>\n",
       "      <td>-7.426046</td>\n",
       "      <td>-6.456365</td>\n",
       "      <td>-7.021014</td>\n",
       "      <td>-4.798678</td>\n",
       "      <td>-2.248691</td>\n",
       "      <td>-3.898606</td>\n",
       "      <td>-6.190552</td>\n",
       "      <td>...</td>\n",
       "      <td>-2.260818</td>\n",
       "      <td>0.844528</td>\n",
       "      <td>-3.036814</td>\n",
       "      <td>-2.595979</td>\n",
       "      <td>0.495761</td>\n",
       "      <td>-3.874944</td>\n",
       "      <td>0.802350</td>\n",
       "      <td>4.197503</td>\n",
       "      <td>0.523880</td>\n",
       "      <td>4.692308</td>\n",
       "    </tr>\n",
       "    <tr>\n",
       "      <th>26596</th>\n",
       "      <td>2018-11-27 13:00:00</td>\n",
       "      <td>1.0</td>\n",
       "      <td>-7.563882</td>\n",
       "      <td>-4.603339</td>\n",
       "      <td>-4.596664</td>\n",
       "      <td>-6.722410</td>\n",
       "      <td>-8.526625</td>\n",
       "      <td>-3.126219</td>\n",
       "      <td>-5.402163</td>\n",
       "      <td>-7.705920</td>\n",
       "      <td>...</td>\n",
       "      <td>0.922969</td>\n",
       "      <td>0.707887</td>\n",
       "      <td>-6.702654</td>\n",
       "      <td>-3.596462</td>\n",
       "      <td>-2.655752</td>\n",
       "      <td>1.158146</td>\n",
       "      <td>1.690419</td>\n",
       "      <td>-0.387618</td>\n",
       "      <td>3.822769</td>\n",
       "      <td>2.546943</td>\n",
       "    </tr>\n",
       "    <tr>\n",
       "      <th>2607</th>\n",
       "      <td>2001-02-20 05:00:00</td>\n",
       "      <td>1.0</td>\n",
       "      <td>-6.933391</td>\n",
       "      <td>-5.425624</td>\n",
       "      <td>-6.018405</td>\n",
       "      <td>-5.917457</td>\n",
       "      <td>-5.100655</td>\n",
       "      <td>-3.589661</td>\n",
       "      <td>-3.847793</td>\n",
       "      <td>-8.234190</td>\n",
       "      <td>...</td>\n",
       "      <td>-2.375072</td>\n",
       "      <td>-1.336238</td>\n",
       "      <td>-0.654527</td>\n",
       "      <td>0.624315</td>\n",
       "      <td>-3.476799</td>\n",
       "      <td>4.483975</td>\n",
       "      <td>4.431202</td>\n",
       "      <td>3.658402</td>\n",
       "      <td>-1.971683</td>\n",
       "      <td>-1.843004</td>\n",
       "    </tr>\n",
       "    <tr>\n",
       "      <th>19408</th>\n",
       "      <td>2012-12-02 15:00:00</td>\n",
       "      <td>1.0</td>\n",
       "      <td>-5.055728</td>\n",
       "      <td>-4.048021</td>\n",
       "      <td>-6.083662</td>\n",
       "      <td>-5.069887</td>\n",
       "      <td>-5.454199</td>\n",
       "      <td>-1.182671</td>\n",
       "      <td>-2.383748</td>\n",
       "      <td>-3.548011</td>\n",
       "      <td>...</td>\n",
       "      <td>-3.401959</td>\n",
       "      <td>-1.305843</td>\n",
       "      <td>1.088227</td>\n",
       "      <td>-6.583077</td>\n",
       "      <td>-2.794005</td>\n",
       "      <td>-3.399550</td>\n",
       "      <td>-1.354833</td>\n",
       "      <td>-5.210562</td>\n",
       "      <td>-1.189392</td>\n",
       "      <td>0.483485</td>\n",
       "    </tr>\n",
       "  </tbody>\n",
       "</table>\n",
       "<p>5 rows × 210 columns</p>\n",
       "</div>"
      ],
      "text/plain": [
       "                     time  flag     u10_0     u10_1     u10_2     u10_3  \\\n",
       "2724  2001-03-05 05:00:00   1.0 -6.891492 -4.532814 -1.415217 -5.737577   \n",
       "27650 2019-07-07 15:00:00   0.0 -5.350700 -7.426046 -6.456365 -7.021014   \n",
       "26596 2018-11-27 13:00:00   1.0 -7.563882 -4.603339 -4.596664 -6.722410   \n",
       "2607  2001-02-20 05:00:00   1.0 -6.933391 -5.425624 -6.018405 -5.917457   \n",
       "19408 2012-12-02 15:00:00   1.0 -5.055728 -4.048021 -6.083662 -5.069887   \n",
       "\n",
       "          u10_4     u10_5     u10_6     u10_7  ...  v500_7_past  v500_8_past  \\\n",
       "2724  -5.273374 -3.687269 -3.669378 -8.723823  ...    -0.825777    -0.715919   \n",
       "27650 -4.798678 -2.248691 -3.898606 -6.190552  ...    -2.260818     0.844528   \n",
       "26596 -8.526625 -3.126219 -5.402163 -7.705920  ...     0.922969     0.707887   \n",
       "2607  -5.100655 -3.589661 -3.847793 -8.234190  ...    -2.375072    -1.336238   \n",
       "19408 -5.454199 -1.182671 -2.383748 -3.548011  ...    -3.401959    -1.305843   \n",
       "\n",
       "       v500_9_past  v500_10_past  v500_11_past  v500_12_past  v500_13_past  \\\n",
       "2724     -1.900854     -7.199176     -1.710106     -0.927983     -4.125887   \n",
       "27650    -3.036814     -2.595979      0.495761     -3.874944      0.802350   \n",
       "26596    -6.702654     -3.596462     -2.655752      1.158146      1.690419   \n",
       "2607     -0.654527      0.624315     -3.476799      4.483975      4.431202   \n",
       "19408     1.088227     -6.583077     -2.794005     -3.399550     -1.354833   \n",
       "\n",
       "       v500_14_past  v500_15_past  v500_16_past  \n",
       "2724      -2.794475      2.806641      3.395282  \n",
       "27650      4.197503      0.523880      4.692308  \n",
       "26596     -0.387618      3.822769      2.546943  \n",
       "2607       3.658402     -1.971683     -1.843004  \n",
       "19408     -5.210562     -1.189392      0.483485  \n",
       "\n",
       "[5 rows x 210 columns]"
      ]
     },
     "execution_count": 3,
     "metadata": {},
     "output_type": "execute_result"
    }
   ],
   "source": [
    "data = pd.read_csv(data_path/f'for_model_{compound}_{site}.csv', parse_dates=['time'])\n",
    "data.sample(5)"
   ]
  },
  {
   "cell_type": "code",
   "execution_count": 4,
   "metadata": {},
   "outputs": [
    {
     "name": "stdout",
     "output_type": "stream",
     "text": [
      "Train range: 2018-01-02 05:00:00 -> 2018-12-31 23:00:00. Length: 1371\n",
      "Val range: 2019-01-01 01:00:00 -> 2019-12-31 13:00:00. Length: 1213\n",
      "Test range: 2020-01-01 17:00:00 -> 2022-12-30 19:00:00. Length: 3634\n"
     ]
    }
   ],
   "source": [
    "train_data = data[(data['time'].dt.year >= 2018) & (data['time'].dt.year <= 2018)]\n",
    "val_data = data[(data['time'].dt.year >= 2019) & (data['time'].dt.year <= 2019)]\n",
    "test_data = data[(data['time'].dt.year >= 2020) & (data['time'].dt.year <= 2023)]\n",
    "\n",
    "print(f\"Train range: {train_data['time'].min()} -> {train_data['time'].max()}. Length: {len(train_data)}\")\n",
    "print(f\"Val range: {val_data['time'].min()} -> {val_data['time'].max()}. Length: {len(val_data)}\")\n",
    "print(f\"Test range: {test_data['time'].min()} -> {test_data['time'].max()}. Length: {len(test_data)}\")\n",
    "\n",
    "\n",
    "# Drop the \"time\" column as it won't be used in the model\n",
    "train_data = train_data.drop(columns=['time'])\n",
    "val_data = val_data.drop(columns=['time'])\n",
    "test_data = test_data.drop(columns=['time'])\n",
    "\n",
    "# Define the features (X) and the target (y)\n",
    "X_train = train_data.drop(columns=['flag'])\n",
    "y_train = train_data['flag']\n",
    "X_val = val_data.drop(columns=['flag'])\n",
    "y_val = val_data['flag']\n",
    "X_test = test_data.drop(columns=['flag'])\n",
    "y_test = test_data['flag']\n",
    "\n",
    "# Balanced Data - removing NaN values and associated data\n",
    "y_train = y_train.dropna()\n",
    "y_val = y_val.dropna()\n",
    "y_test = y_test.dropna()\n",
    "\n",
    "# aligning indices of features sets\n",
    "X_train = X_train.loc[y_train.index]\n",
    "X_val = X_val.loc[y_val.index]\n",
    "X_test = X_test.loc[y_test.index]"
   ]
  },
  {
   "cell_type": "markdown",
   "metadata": {},
   "source": [
    "### Model"
   ]
  },
  {
   "cell_type": "code",
   "execution_count": 21,
   "metadata": {},
   "outputs": [
    {
     "name": "stdout",
     "output_type": "stream",
     "text": [
      "Precision on Training Set = 0.879\n",
      "Precision on Validation Set = 0.846\n",
      "Recall on Training Set = 0.914\n",
      "Recall on Validation Set = 0.957\n",
      "F1 Score on Training Set = 0.896\n",
      "F1 Score on Validation Set = 0.898\n"
     ]
    }
   ],
   "source": [
    "nn_model = MLPClassifier(random_state=42,\n",
    "                         max_iter=1000, \n",
    "                         hidden_layer_sizes=(200,), \n",
    "                         shuffle=False,\n",
    "                         activation='relu', \n",
    "                         solver='adam', \n",
    "                         alpha=0.15, \n",
    "                         learning_rate='constant', \n",
    "                         batch_size=100, \n",
    "                         early_stopping=True,\n",
    "                         learning_rate_init=0.001,\n",
    "                         beta_2=0.9,)\n",
    "\n",
    "nn_model.fit(X_train, y_train)\n",
    "\n",
    "y_pred_val = nn_model.predict(X_val)\n",
    "y_pred_train = nn_model.predict(X_train)\n",
    "\n",
    "\n",
    "precision_val = precision_score(y_val, y_pred_val)\n",
    "precision_train = precision_score(y_train, y_pred_train)\n",
    "recall_val = recall_score(y_val, y_pred_val)\n",
    "recall_train = recall_score(y_train, y_pred_train)\n",
    "f1_val = f1_score(y_val, y_pred_val)\n",
    "f1_train = f1_score(y_train, y_pred_train)\n",
    "\n",
    "print(f\"Precision on Training Set = {precision_train:.3f}\")\n",
    "print(f\"Precision on Validation Set = {precision_val:.3f}\")\n",
    "print(f\"Recall on Training Set = {recall_train:.3f}\")\n",
    "print(f\"Recall on Validation Set = {recall_val:.3f}\")\n",
    "print(f\"F1 Score on Training Set = {f1_train:.3f}\")\n",
    "print(f\"F1 Score on Validation Set = {f1_val:.3f}\")"
   ]
  },
  {
   "cell_type": "code",
   "execution_count": 22,
   "metadata": {},
   "outputs": [
    {
     "name": "stdout",
     "output_type": "stream",
     "text": [
      "Precision on Testing Set = 0.845\n",
      "Recall on Testing Set = 0.929\n",
      "F1 Score on Testing Set = 0.885\n"
     ]
    }
   ],
   "source": [
    "# evaluating model on test set\n",
    "\n",
    "y_pred_test = nn_model.predict(X_test)\n",
    "\n",
    "precision_test = precision_score(y_test, y_pred_test)\n",
    "recall_test = recall_score(y_test, y_pred_test)\n",
    "f1_test = f1_score(y_test, y_pred_test)\n",
    "\n",
    "print(f\"Precision on Testing Set = {precision_test:.3f}\")\n",
    "print(f\"Recall on Testing Set = {recall_test:.3f}\")\n",
    "print(f\"F1 Score on Testing Set = {f1_test:.3f}\")"
   ]
  },
  {
   "cell_type": "code",
   "execution_count": 23,
   "metadata": {},
   "outputs": [
    {
     "data": {
      "text/plain": [
       "['C:\\\\Users\\\\kirst\\\\OneDrive\\\\Kirstin\\\\Uni\\\\Year4\\\\MSciProject\\\\data_files\\\\saved_files\\\\nn_model_RPB.joblib']"
      ]
     },
     "execution_count": 23,
     "metadata": {},
     "output_type": "execute_result"
    }
   ],
   "source": [
    "# saving the model\n",
    "dump(nn_model, data_path/f'nn_model_{site}.joblib')"
   ]
  },
  {
   "cell_type": "markdown",
   "metadata": {},
   "source": [
    "### Assessing Feature Importance"
   ]
  },
  {
   "cell_type": "code",
   "execution_count": 24,
   "metadata": {},
   "outputs": [],
   "source": [
    "# finding most important features in the model using permutation importance\n",
    "# using the testing set\n",
    "perm_importance = permutation_importance(nn_model, X_train, y_train, n_repeats=30, random_state=42)\n",
    "sorted_importances = perm_importance.importances_mean.argsort()"
   ]
  },
  {
   "cell_type": "code",
   "execution_count": 25,
   "metadata": {},
   "outputs": [
    {
     "data": {
      "text/plain": [
       "Text(0.5, 0, 'Permutation Importance')"
      ]
     },
     "execution_count": 25,
     "metadata": {},
     "output_type": "execute_result"
    },
    {
     "data": {
      "image/png": "[encoded data removed]",
      "text/plain": [
       "<Figure size 1200x1200 with 1 Axes>"
      ]
     },
     "metadata": {},
     "output_type": "display_data"
    }
   ],
   "source": [
    "# plotting first 20 most important features in a histogram\n",
    "\n",
    "fig, ax = plt.subplots(figsize=(12, 12))\n",
    "sns.set_theme(style='ticks', font='Arial')\n",
    "\n",
    "ax.barh(X_val.columns[sorted_importances][-20:], perm_importance.importances_mean[sorted_importances][-20:], color='#FF620E')\n",
    "\n",
    "ax.set_xscale('log')\n",
    "\n",
    "ax.set_ylabel('Features', fontsize=12, fontstyle='italic')\n",
    "ax.set_xlabel('Permutation Importance', fontsize=12, fontstyle='italic')\n",
    "# ax.set_title('Permutation Importance (Testing Set)', fontsize=14)"
   ]
  }
 ],
 "metadata": {
  "kernelspec": {
   "display_name": "venv",
   "language": "python",
   "name": "python3"
  },
  "language_info": {
   "codemirror_mode": {
    "name": "ipython",
    "version": 3
   },
   "file_extension": ".py",
   "mimetype": "text/x-python",
   "name": "python",
   "nbconvert_exporter": "python",
   "pygments_lexer": "ipython3",
   "version": "3.11.9"
  }
 },
 "nbformat": 4,
 "nbformat_minor": 2
}
