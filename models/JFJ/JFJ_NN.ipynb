{
 "cells": [
  {
   "cell_type": "markdown",
   "metadata": {},
   "source": [
    "# Neural Network Final Model - Jungfraujoch, Switzerland"
   ]
  },
  {
   "cell_type": "code",
   "execution_count": 1,
   "metadata": {},
   "outputs": [],
   "source": [
    "import pandas as pd\n",
    "import numpy as np\n",
    "from joblib import dump\n",
    "from pathlib import Path\n",
    "import matplotlib.pyplot as plt\n",
    "import seaborn as sns\n",
    "\n",
    "from sklearn.neural_network import MLPClassifier\n",
    "from sklearn.metrics import precision_score, recall_score, f1_score, accuracy_score\n",
    "\n",
    "import sys\n",
    "sys.path.append('../../')\n",
    "import config as cfg\n",
    "import functions as f\n",
    "\n",
    "data_path = Path.home()/'OneDrive'/'Kirstin'/'Uni'/'Year4'/'MSciProject'/'data_files'/'saved_files'"
   ]
  },
  {
   "cell_type": "code",
   "execution_count": 2,
   "metadata": {},
   "outputs": [
    {
     "name": "stdout",
     "output_type": "stream",
     "text": [
      "Creating a neural network model for \u001b[1mJungfraujoch, Switzerland\u001b[0;0m.\n"
     ]
    }
   ],
   "source": [
    "site = cfg.site\n",
    "site_name = cfg.site_dict[site]\n",
    "assert site == 'JFJ', 'This script is only for Jungfraujoch, Switzerland. The site can be changed in the config file.'\n",
    "\n",
    "compound = cfg.compound\n",
    "\n",
    "print(f\"Creating a neural network model for \\033[1m{site_name}\\033[0;0m.\")"
   ]
  },
  {
   "cell_type": "markdown",
   "metadata": {},
   "source": [
    "### Loading & Initialising Data"
   ]
  },
  {
   "cell_type": "code",
   "execution_count": 3,
   "metadata": {},
   "outputs": [
    {
     "data": {
      "text/html": [
       "<div>\n",
       "<style scoped>\n",
       "    .dataframe tbody tr th:only-of-type {\n",
       "        vertical-align: middle;\n",
       "    }\n",
       "\n",
       "    .dataframe tbody tr th {\n",
       "        vertical-align: top;\n",
       "    }\n",
       "\n",
       "    .dataframe thead th {\n",
       "        text-align: right;\n",
       "    }\n",
       "</style>\n",
       "<table border=\"1\" class=\"dataframe\">\n",
       "  <thead>\n",
       "    <tr style=\"text-align: right;\">\n",
       "      <th></th>\n",
       "      <th>time</th>\n",
       "      <th>flag</th>\n",
       "      <th>u10_0</th>\n",
       "      <th>u10_1</th>\n",
       "      <th>u10_2</th>\n",
       "      <th>u10_3</th>\n",
       "      <th>u10_4</th>\n",
       "      <th>u10_5</th>\n",
       "      <th>u10_6</th>\n",
       "      <th>u10_7</th>\n",
       "      <th>...</th>\n",
       "      <th>v500_7_past</th>\n",
       "      <th>v500_8_past</th>\n",
       "      <th>v500_9_past</th>\n",
       "      <th>v500_10_past</th>\n",
       "      <th>v500_11_past</th>\n",
       "      <th>v500_12_past</th>\n",
       "      <th>v500_13_past</th>\n",
       "      <th>v500_14_past</th>\n",
       "      <th>v500_15_past</th>\n",
       "      <th>v500_16_past</th>\n",
       "    </tr>\n",
       "  </thead>\n",
       "  <tbody>\n",
       "    <tr>\n",
       "      <th>184</th>\n",
       "      <td>2003-02-19 03:00:00</td>\n",
       "      <td>1.0</td>\n",
       "      <td>-0.579557</td>\n",
       "      <td>-4.705633</td>\n",
       "      <td>-0.564625</td>\n",
       "      <td>0.307418</td>\n",
       "      <td>-1.706045</td>\n",
       "      <td>-1.741285</td>\n",
       "      <td>1.501400</td>\n",
       "      <td>-3.650820</td>\n",
       "      <td>...</td>\n",
       "      <td>9.210632</td>\n",
       "      <td>12.886042</td>\n",
       "      <td>11.773314</td>\n",
       "      <td>-11.625433</td>\n",
       "      <td>-7.376602</td>\n",
       "      <td>-3.135645</td>\n",
       "      <td>-20.814611</td>\n",
       "      <td>-4.592162</td>\n",
       "      <td>-6.055240</td>\n",
       "      <td>14.422602</td>\n",
       "    </tr>\n",
       "    <tr>\n",
       "      <th>8454</th>\n",
       "      <td>2011-09-22 11:00:00</td>\n",
       "      <td>0.0</td>\n",
       "      <td>0.181444</td>\n",
       "      <td>4.816939</td>\n",
       "      <td>5.343205</td>\n",
       "      <td>-0.796402</td>\n",
       "      <td>1.195891</td>\n",
       "      <td>3.327665</td>\n",
       "      <td>-0.230072</td>\n",
       "      <td>0.003879</td>\n",
       "      <td>...</td>\n",
       "      <td>-23.039162</td>\n",
       "      <td>-10.177315</td>\n",
       "      <td>11.204216</td>\n",
       "      <td>18.918306</td>\n",
       "      <td>12.971244</td>\n",
       "      <td>-5.498338</td>\n",
       "      <td>5.495939</td>\n",
       "      <td>-6.958712</td>\n",
       "      <td>-32.840760</td>\n",
       "      <td>-6.252403</td>\n",
       "    </tr>\n",
       "    <tr>\n",
       "      <th>14621</th>\n",
       "      <td>2017-09-22 07:00:00</td>\n",
       "      <td>1.0</td>\n",
       "      <td>-0.030561</td>\n",
       "      <td>-0.169413</td>\n",
       "      <td>-0.831503</td>\n",
       "      <td>0.281011</td>\n",
       "      <td>-0.377128</td>\n",
       "      <td>-2.300744</td>\n",
       "      <td>-3.365844</td>\n",
       "      <td>1.513186</td>\n",
       "      <td>...</td>\n",
       "      <td>7.313276</td>\n",
       "      <td>12.535294</td>\n",
       "      <td>7.306398</td>\n",
       "      <td>4.954014</td>\n",
       "      <td>-16.445799</td>\n",
       "      <td>-7.091291</td>\n",
       "      <td>0.089670</td>\n",
       "      <td>5.857825</td>\n",
       "      <td>7.551266</td>\n",
       "      <td>9.849998</td>\n",
       "    </tr>\n",
       "    <tr>\n",
       "      <th>6160</th>\n",
       "      <td>2009-02-27 11:00:00</td>\n",
       "      <td>1.0</td>\n",
       "      <td>0.722143</td>\n",
       "      <td>5.098850</td>\n",
       "      <td>4.640087</td>\n",
       "      <td>0.699732</td>\n",
       "      <td>1.782704</td>\n",
       "      <td>7.748604</td>\n",
       "      <td>1.225728</td>\n",
       "      <td>-0.621190</td>\n",
       "      <td>...</td>\n",
       "      <td>-14.591600</td>\n",
       "      <td>-23.308134</td>\n",
       "      <td>-26.213148</td>\n",
       "      <td>-18.785585</td>\n",
       "      <td>-13.631191</td>\n",
       "      <td>-21.848192</td>\n",
       "      <td>-11.976492</td>\n",
       "      <td>8.620274</td>\n",
       "      <td>-7.175932</td>\n",
       "      <td>-18.190905</td>\n",
       "    </tr>\n",
       "    <tr>\n",
       "      <th>17287</th>\n",
       "      <td>2019-10-10 07:00:00</td>\n",
       "      <td>1.0</td>\n",
       "      <td>0.134590</td>\n",
       "      <td>4.308201</td>\n",
       "      <td>4.372410</td>\n",
       "      <td>0.075868</td>\n",
       "      <td>-0.848308</td>\n",
       "      <td>8.029602</td>\n",
       "      <td>-2.555071</td>\n",
       "      <td>3.529456</td>\n",
       "      <td>...</td>\n",
       "      <td>-9.076304</td>\n",
       "      <td>-6.530654</td>\n",
       "      <td>7.075413</td>\n",
       "      <td>8.968369</td>\n",
       "      <td>3.988917</td>\n",
       "      <td>15.350903</td>\n",
       "      <td>-9.056483</td>\n",
       "      <td>1.729262</td>\n",
       "      <td>-13.904264</td>\n",
       "      <td>2.118614</td>\n",
       "    </tr>\n",
       "  </tbody>\n",
       "</table>\n",
       "<p>5 rows × 210 columns</p>\n",
       "</div>"
      ],
      "text/plain": [
       "                     time  flag     u10_0     u10_1     u10_2     u10_3  \\\n",
       "184   2003-02-19 03:00:00   1.0 -0.579557 -4.705633 -0.564625  0.307418   \n",
       "8454  2011-09-22 11:00:00   0.0  0.181444  4.816939  5.343205 -0.796402   \n",
       "14621 2017-09-22 07:00:00   1.0 -0.030561 -0.169413 -0.831503  0.281011   \n",
       "6160  2009-02-27 11:00:00   1.0  0.722143  5.098850  4.640087  0.699732   \n",
       "17287 2019-10-10 07:00:00   1.0  0.134590  4.308201  4.372410  0.075868   \n",
       "\n",
       "          u10_4     u10_5     u10_6     u10_7  ...  v500_7_past  v500_8_past  \\\n",
       "184   -1.706045 -1.741285  1.501400 -3.650820  ...     9.210632    12.886042   \n",
       "8454   1.195891  3.327665 -0.230072  0.003879  ...   -23.039162   -10.177315   \n",
       "14621 -0.377128 -2.300744 -3.365844  1.513186  ...     7.313276    12.535294   \n",
       "6160   1.782704  7.748604  1.225728 -0.621190  ...   -14.591600   -23.308134   \n",
       "17287 -0.848308  8.029602 -2.555071  3.529456  ...    -9.076304    -6.530654   \n",
       "\n",
       "       v500_9_past  v500_10_past  v500_11_past  v500_12_past  v500_13_past  \\\n",
       "184      11.773314    -11.625433     -7.376602     -3.135645    -20.814611   \n",
       "8454     11.204216     18.918306     12.971244     -5.498338      5.495939   \n",
       "14621     7.306398      4.954014    -16.445799     -7.091291      0.089670   \n",
       "6160    -26.213148    -18.785585    -13.631191    -21.848192    -11.976492   \n",
       "17287     7.075413      8.968369      3.988917     15.350903     -9.056483   \n",
       "\n",
       "       v500_14_past  v500_15_past  v500_16_past  \n",
       "184       -4.592162     -6.055240     14.422602  \n",
       "8454      -6.958712    -32.840760     -6.252403  \n",
       "14621      5.857825      7.551266      9.849998  \n",
       "6160       8.620274     -7.175932    -18.190905  \n",
       "17287      1.729262    -13.904264      2.118614  \n",
       "\n",
       "[5 rows x 210 columns]"
      ]
     },
     "execution_count": 3,
     "metadata": {},
     "output_type": "execute_result"
    }
   ],
   "source": [
    "data = pd.read_csv(data_path/f'for_model_{compound}_{site}.csv', parse_dates=['time'])\n",
    "data.sample(5)"
   ]
  },
  {
   "cell_type": "code",
   "execution_count": 4,
   "metadata": {},
   "outputs": [
    {
     "name": "stdout",
     "output_type": "stream",
     "text": [
      "Train range: 2018-01-01 07:00:00 -> 2018-12-31 21:00:00. Length: 1082\n",
      "Val range: 2019-01-01 03:00:00 -> 2019-12-31 23:00:00. Length: 1380\n",
      "Test range: 2020-01-01 01:00:00 -> 2022-12-31 23:00:00. Length: 4206\n"
     ]
    }
   ],
   "source": [
    "train_data = data[(data['time'].dt.year >= 2018) & (data['time'].dt.year <= 2018)]\n",
    "val_data = data[(data['time'].dt.year >= 2019) & (data['time'].dt.year <= 2019)]\n",
    "test_data = data[(data['time'].dt.year >= 2020) & (data['time'].dt.year <= 2023)]\n",
    "\n",
    "\n",
    "print(f\"Train range: {train_data['time'].min()} -> {train_data['time'].max()}. Length: {len(train_data)}\")\n",
    "print(f\"Val range: {val_data['time'].min()} -> {val_data['time'].max()}. Length: {len(val_data)}\")\n",
    "print(f\"Test range: {test_data['time'].min()} -> {test_data['time'].max()}. Length: {len(test_data)}\")\n",
    "\n",
    "\n",
    "# Drop the \"time\" column as it won't be used in the model\n",
    "train_data = train_data.drop(columns=['time'])\n",
    "val_data = val_data.drop(columns=['time'])\n",
    "test_data = test_data.drop(columns=['time'])\n",
    "\n",
    "# Define the features (X) and the target (y)\n",
    "X_train = train_data.drop(columns=['flag'])\n",
    "y_train = train_data['flag']\n",
    "X_val = val_data.drop(columns=['flag'])\n",
    "y_val = val_data['flag']\n",
    "X_test = test_data.drop(columns=['flag'])\n",
    "y_test = test_data['flag']\n",
    "\n",
    "# Balanced Data - removing NaN values and associated data\n",
    "y_train = y_train.dropna()\n",
    "y_val = y_val.dropna()\n",
    "y_test = y_test.dropna()\n",
    "\n",
    "# aligning indices of features sets\n",
    "X_train = X_train.loc[y_train.index]\n",
    "X_val = X_val.loc[y_val.index]\n",
    "X_test = X_test.loc[y_test.index]"
   ]
  },
  {
   "cell_type": "markdown",
   "metadata": {},
   "source": [
    "### Model"
   ]
  },
  {
   "cell_type": "code",
   "execution_count": 5,
   "metadata": {},
   "outputs": [
    {
     "name": "stdout",
     "output_type": "stream",
     "text": [
      "Precision on Training Set = 0.904\n",
      "Precision on Validation Set = 0.908\n",
      "Recall on Training Set = 0.948\n",
      "Recall on Validation Set = 0.914\n",
      "F1 Score on Training Set = 0.926\n",
      "F1 Score on Validation Set = 0.911\n"
     ]
    }
   ],
   "source": [
    "nn_model = MLPClassifier(random_state=42,\n",
    "                         max_iter=200, \n",
    "                         hidden_layer_sizes=(100,), \n",
    "                         shuffle=False,\n",
    "                         activation='relu', \n",
    "                         solver='adam', \n",
    "                         alpha=0.001, \n",
    "                         learning_rate='invscaling', \n",
    "                         batch_size=100, \n",
    "                         early_stopping=True,\n",
    "                         validation_fraction=0.1,\n",
    "                         learning_rate_init=0.01,\n",
    "                         epsilon=2e-10,\n",
    "                         beta_2=0.8,\n",
    "                         tol=1e-3,)\n",
    "\n",
    "nn_model.fit(X_train, y_train)\n",
    "\n",
    "class_probabilities_val = nn_model.predict_proba(X_val)\n",
    "class_probabilities_train = nn_model.predict_proba(X_train)\n",
    "\n",
    "confidence_threshold = config.confidence_threshold\n",
    "\n",
    "y_pred_val = (class_probabilities_val[:,1] > confidence_threshold).astype(int)\n",
    "y_pred_train = (class_probabilities_train[:,1] > confidence_threshold).astype(int)\n",
    "\n",
    "precision_val = precision_score(y_val, y_pred_val)\n",
    "precision_train = precision_score(y_train, y_pred_train)\n",
    "recall_val = recall_score(y_val, y_pred_val)\n",
    "recall_train = recall_score(y_train, y_pred_train)\n",
    "f1_val = f1_score(y_val, y_pred_val)\n",
    "f1_train = f1_score(y_train, y_pred_train)\n",
    "\n",
    "print(f\"Precision on Training Set = {precision_train:.3f}\")\n",
    "print(f\"Precision on Validation Set = {precision_val:.3f}\")\n",
    "print(f\"Recall on Training Set = {recall_train:.3f}\")\n",
    "print(f\"Recall on Validation Set = {recall_val:.3f}\")\n",
    "print(f\"F1 Score on Training Set = {f1_train:.3f}\")\n",
    "print(f\"F1 Score on Validation Set = {f1_val:.3f}\")"
   ]
  },
  {
   "cell_type": "code",
   "execution_count": 6,
   "metadata": {},
   "outputs": [
    {
     "name": "stdout",
     "output_type": "stream",
     "text": [
      "Precision on Testing Set = 0.903\n",
      "Recall on Testing Set = 0.938\n",
      "F1 Score on Testing Set = 0.920\n"
     ]
    }
   ],
   "source": [
    "# evaluating model on test set\n",
    "class_probabilities_test = nn_model.predict_proba(X_test)\n",
    "\n",
    "y_pred_test = (class_probabilities_test[:,1] > confidence_threshold).astype(int)\n",
    "\n",
    "precision_test = precision_score(y_test, y_pred_test)\n",
    "recall_test = recall_score(y_test, y_pred_test)\n",
    "f1_test = f1_score(y_test, y_pred_test)\n",
    "\n",
    "print(f\"Precision on Testing Set = {precision_test:.3f}\")\n",
    "print(f\"Recall on Testing Set = {recall_test:.3f}\")\n",
    "print(f\"F1 Score on Testing Set = {f1_test:.3f}\")"
   ]
  },
  {
   "cell_type": "code",
   "execution_count": 122,
   "metadata": {},
   "outputs": [
    {
     "data": {
      "text/plain": [
       "['C:\\\\Users\\\\kirst\\\\OneDrive\\\\Kirstin\\\\Uni\\\\Year4\\\\MSciProject\\\\data_files\\\\saved_files\\\\nn_model_JFJ.joblib']"
      ]
     },
     "execution_count": 122,
     "metadata": {},
     "output_type": "execute_result"
    }
   ],
   "source": [
    "# saving the model\n",
    "dump(nn_model, data_path/f'nn_model_{site}.joblib')"
   ]
  },
  {
   "cell_type": "markdown",
   "metadata": {},
   "source": [
    "### Assessing Feature Importance"
   ]
  },
  {
   "cell_type": "code",
   "execution_count": 7,
   "metadata": {},
   "outputs": [],
   "source": [
    "# grouping features by category i.e. x-wind, y-wind, temporal etc.\n",
    "u_features = [col for col in data.columns if 'u' in col]\n",
    "v_features = [col for col in data.columns if 'v' in col]\n",
    "temporal_features = ['day_of_year', 'time_of_day']\n",
    "sp = ['sp']\n",
    "blh = ['blh']\n",
    "\n",
    "groups = [u_features, v_features, temporal_features, sp, blh]"
   ]
  },
  {
   "cell_type": "code",
   "execution_count": 8,
   "metadata": {},
   "outputs": [],
   "source": [
    "original_score = accuracy_score(y_train, nn_model.predict(X_train))\n",
    "importances = {}\n",
    "\n",
    "for group in groups:\n",
    "    scores_diff = []\n",
    "    for _ in range(100):\n",
    "        X_train_permuted = f.permute_group(X_train, group)\n",
    "        \n",
    "        permuted_score = accuracy_score(y_train, nn_model.predict(X_train_permuted))\n",
    "        scores_diff.append(original_score - permuted_score)\n",
    "    \n",
    "    importances[str(group)] = np.mean(scores_diff)\n",
    "\n",
    "# Sort groups by importance\n",
    "sorted_importances = sorted(importances.items(), key=lambda x: x[1], reverse=False)"
   ]
  },
  {
   "cell_type": "code",
   "execution_count": 9,
   "metadata": {},
   "outputs": [],
   "source": [
    "# matching the group names to the sorted importances\n",
    "n = len(groups)\n",
    "group_names_sorted = []\n",
    "\n",
    "for i in range(n):\n",
    "    name = sorted_importances[i][0]\n",
    "\n",
    "    if 'u10_0' in name:\n",
    "        group_names_sorted.append('u-wind')\n",
    "\n",
    "    elif 'v10_0' in name:\n",
    "        group_names_sorted.append('v-wind')\n",
    "\n",
    "    elif 'day_of_year' in name:\n",
    "        group_names_sorted.append('temporal')\n",
    "\n",
    "    elif 'sp' in name:\n",
    "        group_names_sorted.append('sp')\n",
    "\n",
    "    elif 'blh' in name:\n",
    "        group_names_sorted.append('blh')"
   ]
  },
  {
   "cell_type": "code",
   "execution_count": 10,
   "metadata": {},
   "outputs": [
    {
     "data": {
      "text/plain": [
       "Text(0, 0.5, 'Feature Group')"
      ]
     },
     "execution_count": 10,
     "metadata": {},
     "output_type": "execute_result"
    },
    {
     "data": {
      "image/png": "[encoded data removed]",
      "text/plain": [
       "<Figure size 1200x800 with 1 Axes>"
      ]
     },
     "metadata": {},
     "output_type": "display_data"
    }
   ],
   "source": [
    "# Plotting the importances of the groups\n",
    "fig, ax = plt.subplots(figsize=(12, 8))\n",
    "sns.set_theme(style='ticks', font='Arial')\n",
    "\n",
    "ax.barh(group_names_sorted, [importance for _, importance in sorted_importances], color='#FF620E')\n",
    "\n",
    "ax.set_xlabel('Importance', fontsize=12, fontstyle='italic')\n",
    "ax.set_ylabel('Feature Group', fontsize=12, fontstyle='italic')\n",
    "# ax.set_title('Permutation Importances', fontsize=14)"
   ]
  }
 ],
 "metadata": {
  "kernelspec": {
   "display_name": "venv",
   "language": "python",
   "name": "python3"
  },
  "language_info": {
   "codemirror_mode": {
    "name": "ipython",
    "version": 3
   },
   "file_extension": ".py",
   "mimetype": "text/x-python",
   "name": "python",
   "nbconvert_exporter": "python",
   "pygments_lexer": "ipython3",
   "version": "3.11.9"
  }
 },
 "nbformat": 4,
 "nbformat_minor": 2
}
