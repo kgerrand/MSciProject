{
 "cells": [
  {
   "cell_type": "markdown",
   "metadata": {},
   "source": [
    "# Neural Network Final Model - Jungfraujoch, Switzerland"
   ]
  },
  {
   "cell_type": "code",
   "execution_count": 1,
   "metadata": {},
   "outputs": [],
   "source": [
    "import pandas as pd\n",
    "from joblib import dump\n",
    "from pathlib import Path\n",
    "import matplotlib.pyplot as plt\n",
    "import seaborn as sns\n",
    "\n",
    "from sklearn.neural_network import MLPClassifier\n",
    "from sklearn.metrics import precision_score, recall_score, f1_score\n",
    "from sklearn.inspection import permutation_importance\n",
    "\n",
    "import sys\n",
    "sys.path.append('../../')\n",
    "import config\n",
    "\n",
    "data_path = Path.home()/'OneDrive'/'Kirstin'/'Uni'/'Year4'/'MSciProject'/'data_files'/'saved_files'"
   ]
  },
  {
   "cell_type": "code",
   "execution_count": 2,
   "metadata": {},
   "outputs": [
    {
     "name": "stdout",
     "output_type": "stream",
     "text": [
      "Creating a neural network model for \u001b[1mJungfraujoch, Switzerland\u001b[0;0m.\n"
     ]
    }
   ],
   "source": [
    "site = config.site\n",
    "site_name = config.site_dict[site]\n",
    "assert site == 'JFJ', 'This script is only for Jungfraujoch, Switzerland. The site can be changed in the config file.'\n",
    "\n",
    "compound = config.compound\n",
    "\n",
    "print(f\"Creating a neural network model for \\033[1m{site_name}\\033[0;0m.\")"
   ]
  },
  {
   "cell_type": "markdown",
   "metadata": {},
   "source": [
    "### Loading & Initialising Data"
   ]
  },
  {
   "cell_type": "code",
   "execution_count": 4,
   "metadata": {},
   "outputs": [
    {
     "data": {
      "text/html": [
       "<div>\n",
       "<style scoped>\n",
       "    .dataframe tbody tr th:only-of-type {\n",
       "        vertical-align: middle;\n",
       "    }\n",
       "\n",
       "    .dataframe tbody tr th {\n",
       "        vertical-align: top;\n",
       "    }\n",
       "\n",
       "    .dataframe thead th {\n",
       "        text-align: right;\n",
       "    }\n",
       "</style>\n",
       "<table border=\"1\" class=\"dataframe\">\n",
       "  <thead>\n",
       "    <tr style=\"text-align: right;\">\n",
       "      <th></th>\n",
       "      <th>time</th>\n",
       "      <th>flag</th>\n",
       "      <th>u10_0</th>\n",
       "      <th>u10_1</th>\n",
       "      <th>u10_2</th>\n",
       "      <th>u10_3</th>\n",
       "      <th>u10_4</th>\n",
       "      <th>u10_5</th>\n",
       "      <th>u10_6</th>\n",
       "      <th>u10_7</th>\n",
       "      <th>...</th>\n",
       "      <th>v500_7_past</th>\n",
       "      <th>v500_8_past</th>\n",
       "      <th>v500_9_past</th>\n",
       "      <th>v500_10_past</th>\n",
       "      <th>v500_11_past</th>\n",
       "      <th>v500_12_past</th>\n",
       "      <th>v500_13_past</th>\n",
       "      <th>v500_14_past</th>\n",
       "      <th>v500_15_past</th>\n",
       "      <th>v500_16_past</th>\n",
       "    </tr>\n",
       "  </thead>\n",
       "  <tbody>\n",
       "    <tr>\n",
       "      <th>4146</th>\n",
       "      <td>2007-03-28 23:00:00</td>\n",
       "      <td>0.0</td>\n",
       "      <td>-0.720127</td>\n",
       "      <td>-1.060147</td>\n",
       "      <td>-3.769863</td>\n",
       "      <td>0.113933</td>\n",
       "      <td>-0.737748</td>\n",
       "      <td>-9.218665</td>\n",
       "      <td>-7.091746</td>\n",
       "      <td>0.669974</td>\n",
       "      <td>...</td>\n",
       "      <td>10.641770</td>\n",
       "      <td>7.068478</td>\n",
       "      <td>6.922430</td>\n",
       "      <td>4.303313</td>\n",
       "      <td>0.020880</td>\n",
       "      <td>-2.977960</td>\n",
       "      <td>3.097611</td>\n",
       "      <td>1.598191</td>\n",
       "      <td>3.245281</td>\n",
       "      <td>12.003257</td>\n",
       "    </tr>\n",
       "    <tr>\n",
       "      <th>16903</th>\n",
       "      <td>2019-04-25 11:00:00</td>\n",
       "      <td>1.0</td>\n",
       "      <td>-1.800736</td>\n",
       "      <td>-0.219228</td>\n",
       "      <td>-1.048489</td>\n",
       "      <td>0.358922</td>\n",
       "      <td>0.530306</td>\n",
       "      <td>-4.825450</td>\n",
       "      <td>3.790403</td>\n",
       "      <td>2.925889</td>\n",
       "      <td>...</td>\n",
       "      <td>24.379295</td>\n",
       "      <td>25.548227</td>\n",
       "      <td>15.006354</td>\n",
       "      <td>5.883324</td>\n",
       "      <td>2.552544</td>\n",
       "      <td>5.085226</td>\n",
       "      <td>4.640495</td>\n",
       "      <td>4.944149</td>\n",
       "      <td>16.683167</td>\n",
       "      <td>17.146708</td>\n",
       "    </tr>\n",
       "    <tr>\n",
       "      <th>971</th>\n",
       "      <td>2004-01-25 23:00:00</td>\n",
       "      <td>1.0</td>\n",
       "      <td>-1.136524</td>\n",
       "      <td>0.743922</td>\n",
       "      <td>-0.502106</td>\n",
       "      <td>0.679100</td>\n",
       "      <td>-0.793806</td>\n",
       "      <td>0.800942</td>\n",
       "      <td>1.118451</td>\n",
       "      <td>-3.239647</td>\n",
       "      <td>...</td>\n",
       "      <td>-15.976497</td>\n",
       "      <td>-11.753719</td>\n",
       "      <td>3.953345</td>\n",
       "      <td>10.398124</td>\n",
       "      <td>-6.024098</td>\n",
       "      <td>-6.839435</td>\n",
       "      <td>-16.347990</td>\n",
       "      <td>-5.087713</td>\n",
       "      <td>-0.337610</td>\n",
       "      <td>-0.963722</td>\n",
       "    </tr>\n",
       "    <tr>\n",
       "      <th>21205</th>\n",
       "      <td>2022-07-07 15:00:00</td>\n",
       "      <td>1.0</td>\n",
       "      <td>1.688005</td>\n",
       "      <td>4.211962</td>\n",
       "      <td>4.098699</td>\n",
       "      <td>-0.270567</td>\n",
       "      <td>2.057160</td>\n",
       "      <td>8.629703</td>\n",
       "      <td>2.740935</td>\n",
       "      <td>0.668168</td>\n",
       "      <td>...</td>\n",
       "      <td>-11.263090</td>\n",
       "      <td>-24.078240</td>\n",
       "      <td>-17.107368</td>\n",
       "      <td>0.061173</td>\n",
       "      <td>-4.105533</td>\n",
       "      <td>-7.699220</td>\n",
       "      <td>0.398243</td>\n",
       "      <td>0.066359</td>\n",
       "      <td>-11.194378</td>\n",
       "      <td>-16.368406</td>\n",
       "    </tr>\n",
       "    <tr>\n",
       "      <th>10293</th>\n",
       "      <td>2013-10-17 05:00:00</td>\n",
       "      <td>1.0</td>\n",
       "      <td>0.956051</td>\n",
       "      <td>4.966564</td>\n",
       "      <td>2.366607</td>\n",
       "      <td>0.450116</td>\n",
       "      <td>-1.251883</td>\n",
       "      <td>7.503506</td>\n",
       "      <td>-2.553376</td>\n",
       "      <td>2.579887</td>\n",
       "      <td>...</td>\n",
       "      <td>-17.215614</td>\n",
       "      <td>-10.755186</td>\n",
       "      <td>-8.130733</td>\n",
       "      <td>-3.692050</td>\n",
       "      <td>6.682170</td>\n",
       "      <td>1.361548</td>\n",
       "      <td>-13.979297</td>\n",
       "      <td>-3.402139</td>\n",
       "      <td>-7.524972</td>\n",
       "      <td>0.186648</td>\n",
       "    </tr>\n",
       "  </tbody>\n",
       "</table>\n",
       "<p>5 rows × 210 columns</p>\n",
       "</div>"
      ],
      "text/plain": [
       "                     time  flag     u10_0     u10_1     u10_2     u10_3  \\\n",
       "4146  2007-03-28 23:00:00   0.0 -0.720127 -1.060147 -3.769863  0.113933   \n",
       "16903 2019-04-25 11:00:00   1.0 -1.800736 -0.219228 -1.048489  0.358922   \n",
       "971   2004-01-25 23:00:00   1.0 -1.136524  0.743922 -0.502106  0.679100   \n",
       "21205 2022-07-07 15:00:00   1.0  1.688005  4.211962  4.098699 -0.270567   \n",
       "10293 2013-10-17 05:00:00   1.0  0.956051  4.966564  2.366607  0.450116   \n",
       "\n",
       "          u10_4     u10_5     u10_6     u10_7  ...  v500_7_past  v500_8_past  \\\n",
       "4146  -0.737748 -9.218665 -7.091746  0.669974  ...    10.641770     7.068478   \n",
       "16903  0.530306 -4.825450  3.790403  2.925889  ...    24.379295    25.548227   \n",
       "971   -0.793806  0.800942  1.118451 -3.239647  ...   -15.976497   -11.753719   \n",
       "21205  2.057160  8.629703  2.740935  0.668168  ...   -11.263090   -24.078240   \n",
       "10293 -1.251883  7.503506 -2.553376  2.579887  ...   -17.215614   -10.755186   \n",
       "\n",
       "       v500_9_past  v500_10_past  v500_11_past  v500_12_past  v500_13_past  \\\n",
       "4146      6.922430      4.303313      0.020880     -2.977960      3.097611   \n",
       "16903    15.006354      5.883324      2.552544      5.085226      4.640495   \n",
       "971       3.953345     10.398124     -6.024098     -6.839435    -16.347990   \n",
       "21205   -17.107368      0.061173     -4.105533     -7.699220      0.398243   \n",
       "10293    -8.130733     -3.692050      6.682170      1.361548    -13.979297   \n",
       "\n",
       "       v500_14_past  v500_15_past  v500_16_past  \n",
       "4146       1.598191      3.245281     12.003257  \n",
       "16903      4.944149     16.683167     17.146708  \n",
       "971       -5.087713     -0.337610     -0.963722  \n",
       "21205      0.066359    -11.194378    -16.368406  \n",
       "10293     -3.402139     -7.524972      0.186648  \n",
       "\n",
       "[5 rows x 210 columns]"
      ]
     },
     "execution_count": 4,
     "metadata": {},
     "output_type": "execute_result"
    }
   ],
   "source": [
    "data = pd.read_csv(data_path/f'for_model_{compound}_{site}.csv', parse_dates=['time'])\n",
    "data.sample(5)"
   ]
  },
  {
   "cell_type": "code",
   "execution_count": 5,
   "metadata": {},
   "outputs": [
    {
     "name": "stdout",
     "output_type": "stream",
     "text": [
      "Train range: 2018-01-01 07:00:00 -> 2018-12-31 21:00:00. Length: 1082\n",
      "Val range: 2019-01-01 03:00:00 -> 2019-12-31 23:00:00. Length: 1380\n",
      "Test range: 2020-01-01 01:00:00 -> 2022-12-31 23:00:00. Length: 4206\n"
     ]
    }
   ],
   "source": [
    "train_data = data[(data['time'].dt.year >= 2018) & (data['time'].dt.year <= 2018)]\n",
    "val_data = data[(data['time'].dt.year >= 2019) & (data['time'].dt.year <= 2019)]\n",
    "test_data = data[(data['time'].dt.year >= 2020) & (data['time'].dt.year <= 2023)]\n",
    "\n",
    "\n",
    "print(f\"Train range: {train_data['time'].min()} -> {train_data['time'].max()}. Length: {len(train_data)}\")\n",
    "print(f\"Val range: {val_data['time'].min()} -> {val_data['time'].max()}. Length: {len(val_data)}\")\n",
    "print(f\"Test range: {test_data['time'].min()} -> {test_data['time'].max()}. Length: {len(test_data)}\")\n",
    "\n",
    "\n",
    "# Drop the \"time\" column as it won't be used in the model\n",
    "train_data = train_data.drop(columns=['time'])\n",
    "val_data = val_data.drop(columns=['time'])\n",
    "test_data = test_data.drop(columns=['time'])\n",
    "\n",
    "# Define the features (X) and the target (y)\n",
    "X_train = train_data.drop(columns=['flag'])\n",
    "y_train = train_data['flag']\n",
    "X_val = val_data.drop(columns=['flag'])\n",
    "y_val = val_data['flag']\n",
    "X_test = test_data.drop(columns=['flag'])\n",
    "y_test = test_data['flag']\n",
    "\n",
    "# Balanced Data - removing NaN values and associated data\n",
    "y_train = y_train.dropna()\n",
    "y_val = y_val.dropna()\n",
    "y_test = y_test.dropna()\n",
    "\n",
    "# aligning indices of features sets\n",
    "X_train = X_train.loc[y_train.index]\n",
    "X_val = X_val.loc[y_val.index]\n",
    "X_test = X_test.loc[y_test.index]"
   ]
  },
  {
   "cell_type": "markdown",
   "metadata": {},
   "source": [
    "### Model"
   ]
  },
  {
   "cell_type": "code",
   "execution_count": 119,
   "metadata": {},
   "outputs": [
    {
     "name": "stdout",
     "output_type": "stream",
     "text": [
      "Precision on Training Set = 0.904\n",
      "Precision on Validation Set = 0.908\n",
      "Recall on Training Set = 0.948\n",
      "Recall on Validation Set = 0.914\n",
      "F1 Score on Training Set = 0.926\n",
      "F1 Score on Validation Set = 0.911\n"
     ]
    }
   ],
   "source": [
    "nn_model = MLPClassifier(random_state=42,\n",
    "                         max_iter=200, \n",
    "                         hidden_layer_sizes=(100,), \n",
    "                         shuffle=False,\n",
    "                         activation='relu', \n",
    "                         solver='adam', \n",
    "                         alpha=0.001, \n",
    "                         learning_rate='invscaling', \n",
    "                         batch_size=100, \n",
    "                         early_stopping=True,\n",
    "                         validation_fraction=0.1,\n",
    "                         learning_rate_init=0.01,\n",
    "                         epsilon=2e-10,\n",
    "                         beta_2=0.8,\n",
    "                         tol=1e-3,)\n",
    "\n",
    "nn_model.fit(X_train, y_train)\n",
    "\n",
    "y_pred_val = nn_model.predict(X_val)\n",
    "y_pred_train = nn_model.predict(X_train)\n",
    "\n",
    "\n",
    "precision_val = precision_score(y_val, y_pred_val)\n",
    "precision_train = precision_score(y_train, y_pred_train)\n",
    "recall_val = recall_score(y_val, y_pred_val)\n",
    "recall_train = recall_score(y_train, y_pred_train)\n",
    "f1_val = f1_score(y_val, y_pred_val)\n",
    "f1_train = f1_score(y_train, y_pred_train)\n",
    "\n",
    "print(f\"Precision on Training Set = {precision_train:.3f}\")\n",
    "print(f\"Precision on Validation Set = {precision_val:.3f}\")\n",
    "print(f\"Recall on Training Set = {recall_train:.3f}\")\n",
    "print(f\"Recall on Validation Set = {recall_val:.3f}\")\n",
    "print(f\"F1 Score on Training Set = {f1_train:.3f}\")\n",
    "print(f\"F1 Score on Validation Set = {f1_val:.3f}\")"
   ]
  },
  {
   "cell_type": "code",
   "execution_count": 121,
   "metadata": {},
   "outputs": [
    {
     "name": "stdout",
     "output_type": "stream",
     "text": [
      "Precision on Testing Set = 0.903\n",
      "Recall on Testing Set = 0.938\n",
      "F1 Score on Testing Set = 0.920\n"
     ]
    }
   ],
   "source": [
    "# evaluating model on test set\n",
    "\n",
    "y_pred_test = nn_model.predict(X_test)\n",
    "\n",
    "precision_test = precision_score(y_test, y_pred_test)\n",
    "recall_test = recall_score(y_test, y_pred_test)\n",
    "f1_test = f1_score(y_test, y_pred_test)\n",
    "\n",
    "print(f\"Precision on Testing Set = {precision_test:.3f}\")\n",
    "print(f\"Recall on Testing Set = {recall_test:.3f}\")\n",
    "print(f\"F1 Score on Testing Set = {f1_test:.3f}\")"
   ]
  },
  {
   "cell_type": "code",
   "execution_count": 122,
   "metadata": {},
   "outputs": [
    {
     "data": {
      "text/plain": [
       "['C:\\\\Users\\\\kirst\\\\OneDrive\\\\Kirstin\\\\Uni\\\\Year4\\\\MSciProject\\\\data_files\\\\saved_files\\\\nn_model_JFJ.joblib']"
      ]
     },
     "execution_count": 122,
     "metadata": {},
     "output_type": "execute_result"
    }
   ],
   "source": [
    "# saving the model\n",
    "dump(nn_model, data_path/f'nn_model_{site}.joblib')"
   ]
  },
  {
   "cell_type": "markdown",
   "metadata": {},
   "source": [
    "### Assessing Feature Importance"
   ]
  },
  {
   "cell_type": "code",
   "execution_count": 123,
   "metadata": {},
   "outputs": [],
   "source": [
    "# finding most important features in the model using permutation importance\n",
    "# using the testing set\n",
    "perm_importance = permutation_importance(nn_model, X_train, y_train, n_repeats=30, random_state=42)\n",
    "sorted_importances = perm_importance.importances_mean.argsort()"
   ]
  },
  {
   "cell_type": "code",
   "execution_count": 124,
   "metadata": {},
   "outputs": [
    {
     "data": {
      "text/plain": [
       "Text(0.5, 0, 'Permutation Importance')"
      ]
     },
     "execution_count": 124,
     "metadata": {},
     "output_type": "execute_result"
    },
    {
     "data": {
      "image/png": "[encoded data removed]",
      "text/plain": [
       "<Figure size 1200x1200 with 1 Axes>"
      ]
     },
     "metadata": {},
     "output_type": "display_data"
    }
   ],
   "source": [
    "# plotting first 20 most important features in a histogram\n",
    "\n",
    "fig, ax = plt.subplots(figsize=(12, 12))\n",
    "sns.set_theme(style='ticks', font='Arial')\n",
    "\n",
    "ax.barh(X_val.columns[sorted_importances][-20:], perm_importance.importances_mean[sorted_importances][-20:], color='#FF620E')\n",
    "\n",
    "ax.set_xscale('log')\n",
    "\n",
    "ax.set_ylabel('Features', fontsize=12, fontstyle='italic')\n",
    "ax.set_xlabel('Permutation Importance', fontsize=12, fontstyle='italic')\n",
    "# ax.set_title('Permutation Importance (Testing Set)', fontsize=14)"
   ]
  }
 ],
 "metadata": {
  "kernelspec": {
   "display_name": "venv",
   "language": "python",
   "name": "python3"
  },
  "language_info": {
   "codemirror_mode": {
    "name": "ipython",
    "version": 3
   },
   "file_extension": ".py",
   "mimetype": "text/x-python",
   "name": "python",
   "nbconvert_exporter": "python",
   "pygments_lexer": "ipython3",
   "version": "3.11.9"
  }
 },
 "nbformat": 4,
 "nbformat_minor": 2
}
