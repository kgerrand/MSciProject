{
 "cells": [
  {
   "cell_type": "markdown",
   "metadata": {},
   "source": [
    "# Neural Network Final Model - Cape Grim, Australia"
   ]
  },
  {
   "cell_type": "code",
   "execution_count": 1,
   "metadata": {},
   "outputs": [],
   "source": [
    "import pandas as pd\n",
    "from joblib import dump\n",
    "from pathlib import Path\n",
    "import matplotlib.pyplot as plt\n",
    "import seaborn as sns\n",
    "\n",
    "from sklearn.neural_network import MLPClassifier\n",
    "from sklearn.metrics import precision_score, recall_score, f1_score\n",
    "from sklearn.inspection import permutation_importance\n",
    "\n",
    "import sys\n",
    "sys.path.append('../../')\n",
    "import config\n",
    "\n",
    "data_path = Path.home()/'OneDrive'/'Kirstin'/'Uni'/'Year4'/'MSciProject'/'data_files'/'saved_files'"
   ]
  },
  {
   "cell_type": "code",
   "execution_count": 2,
   "metadata": {},
   "outputs": [
    {
     "name": "stdout",
     "output_type": "stream",
     "text": [
      "Creating a neural network model for \u001b[1mCape Grim, Australia\u001b[0;0m.\n"
     ]
    }
   ],
   "source": [
    "site = config.site\n",
    "site_name = config.site_dict[site]\n",
    "assert site == 'CGO', 'This script is only for Cape Grim, Australia. The site can be changed in the config file.'\n",
    "\n",
    "compound = config.compound\n",
    "\n",
    "print(f\"Creating a neural network model for \\033[1m{site_name}\\033[0;0m.\")"
   ]
  },
  {
   "cell_type": "markdown",
   "metadata": {},
   "source": [
    "### Loading & Initialising Data"
   ]
  },
  {
   "cell_type": "code",
   "execution_count": 3,
   "metadata": {},
   "outputs": [
    {
     "data": {
      "text/html": [
       "<div>\n",
       "<style scoped>\n",
       "    .dataframe tbody tr th:only-of-type {\n",
       "        vertical-align: middle;\n",
       "    }\n",
       "\n",
       "    .dataframe tbody tr th {\n",
       "        vertical-align: top;\n",
       "    }\n",
       "\n",
       "    .dataframe thead th {\n",
       "        text-align: right;\n",
       "    }\n",
       "</style>\n",
       "<table border=\"1\" class=\"dataframe\">\n",
       "  <thead>\n",
       "    <tr style=\"text-align: right;\">\n",
       "      <th></th>\n",
       "      <th>time</th>\n",
       "      <th>flag</th>\n",
       "      <th>u10_0</th>\n",
       "      <th>u10_1</th>\n",
       "      <th>u10_2</th>\n",
       "      <th>u10_3</th>\n",
       "      <th>u10_4</th>\n",
       "      <th>u10_5</th>\n",
       "      <th>u10_6</th>\n",
       "      <th>u10_7</th>\n",
       "      <th>...</th>\n",
       "      <th>v500_7_past</th>\n",
       "      <th>v500_8_past</th>\n",
       "      <th>v500_9_past</th>\n",
       "      <th>v500_10_past</th>\n",
       "      <th>v500_11_past</th>\n",
       "      <th>v500_12_past</th>\n",
       "      <th>v500_13_past</th>\n",
       "      <th>v500_14_past</th>\n",
       "      <th>v500_15_past</th>\n",
       "      <th>v500_16_past</th>\n",
       "    </tr>\n",
       "  </thead>\n",
       "  <tbody>\n",
       "    <tr>\n",
       "      <th>4392</th>\n",
       "      <td>2003-12-03 23:00:00</td>\n",
       "      <td>0.0</td>\n",
       "      <td>3.533801</td>\n",
       "      <td>-1.112937</td>\n",
       "      <td>0.769443</td>\n",
       "      <td>1.166489</td>\n",
       "      <td>3.203449</td>\n",
       "      <td>7.438182</td>\n",
       "      <td>11.078282</td>\n",
       "      <td>9.695792</td>\n",
       "      <td>...</td>\n",
       "      <td>-9.189336</td>\n",
       "      <td>-6.218557</td>\n",
       "      <td>-1.055446</td>\n",
       "      <td>-9.266236</td>\n",
       "      <td>-2.756696</td>\n",
       "      <td>-16.376140</td>\n",
       "      <td>-4.826258</td>\n",
       "      <td>-13.422898</td>\n",
       "      <td>0.693024</td>\n",
       "      <td>-0.664199</td>\n",
       "    </tr>\n",
       "    <tr>\n",
       "      <th>10592</th>\n",
       "      <td>2008-09-09 03:00:00</td>\n",
       "      <td>1.0</td>\n",
       "      <td>4.368106</td>\n",
       "      <td>0.433840</td>\n",
       "      <td>1.078997</td>\n",
       "      <td>3.357423</td>\n",
       "      <td>-0.527939</td>\n",
       "      <td>4.798838</td>\n",
       "      <td>7.657216</td>\n",
       "      <td>6.761896</td>\n",
       "      <td>...</td>\n",
       "      <td>5.050536</td>\n",
       "      <td>4.740138</td>\n",
       "      <td>16.874018</td>\n",
       "      <td>10.209667</td>\n",
       "      <td>13.667987</td>\n",
       "      <td>5.343926</td>\n",
       "      <td>-2.870999</td>\n",
       "      <td>-15.102676</td>\n",
       "      <td>-4.530708</td>\n",
       "      <td>-0.274425</td>\n",
       "    </tr>\n",
       "    <tr>\n",
       "      <th>8044</th>\n",
       "      <td>2006-10-14 05:00:00</td>\n",
       "      <td>1.0</td>\n",
       "      <td>11.473775</td>\n",
       "      <td>3.884333</td>\n",
       "      <td>4.626988</td>\n",
       "      <td>13.811581</td>\n",
       "      <td>13.259893</td>\n",
       "      <td>15.158346</td>\n",
       "      <td>16.857718</td>\n",
       "      <td>13.917675</td>\n",
       "      <td>...</td>\n",
       "      <td>-14.778728</td>\n",
       "      <td>-10.894812</td>\n",
       "      <td>-3.084880</td>\n",
       "      <td>-3.341123</td>\n",
       "      <td>-15.340633</td>\n",
       "      <td>-13.929465</td>\n",
       "      <td>0.079725</td>\n",
       "      <td>2.067442</td>\n",
       "      <td>4.132031</td>\n",
       "      <td>-6.011545</td>\n",
       "    </tr>\n",
       "    <tr>\n",
       "      <th>6454</th>\n",
       "      <td>2005-07-07 13:00:00</td>\n",
       "      <td>1.0</td>\n",
       "      <td>5.841378</td>\n",
       "      <td>1.729111</td>\n",
       "      <td>1.755059</td>\n",
       "      <td>11.113311</td>\n",
       "      <td>4.420373</td>\n",
       "      <td>1.297866</td>\n",
       "      <td>0.710929</td>\n",
       "      <td>2.721344</td>\n",
       "      <td>...</td>\n",
       "      <td>-1.073381</td>\n",
       "      <td>-13.311907</td>\n",
       "      <td>-7.537526</td>\n",
       "      <td>10.857876</td>\n",
       "      <td>-12.813391</td>\n",
       "      <td>-3.335194</td>\n",
       "      <td>21.335655</td>\n",
       "      <td>11.854910</td>\n",
       "      <td>4.141285</td>\n",
       "      <td>-19.374434</td>\n",
       "    </tr>\n",
       "    <tr>\n",
       "      <th>6775</th>\n",
       "      <td>2005-10-03 09:00:00</td>\n",
       "      <td>1.0</td>\n",
       "      <td>11.480998</td>\n",
       "      <td>1.579311</td>\n",
       "      <td>0.136858</td>\n",
       "      <td>17.414776</td>\n",
       "      <td>13.018563</td>\n",
       "      <td>13.529140</td>\n",
       "      <td>12.077935</td>\n",
       "      <td>8.884933</td>\n",
       "      <td>...</td>\n",
       "      <td>13.030904</td>\n",
       "      <td>2.809526</td>\n",
       "      <td>-0.623910</td>\n",
       "      <td>7.452708</td>\n",
       "      <td>-8.934282</td>\n",
       "      <td>-39.801810</td>\n",
       "      <td>-1.039808</td>\n",
       "      <td>0.953163</td>\n",
       "      <td>8.114503</td>\n",
       "      <td>-1.986963</td>\n",
       "    </tr>\n",
       "  </tbody>\n",
       "</table>\n",
       "<p>5 rows × 210 columns</p>\n",
       "</div>"
      ],
      "text/plain": [
       "                     time  flag      u10_0     u10_1     u10_2      u10_3  \\\n",
       "4392  2003-12-03 23:00:00   0.0   3.533801 -1.112937  0.769443   1.166489   \n",
       "10592 2008-09-09 03:00:00   1.0   4.368106  0.433840  1.078997   3.357423   \n",
       "8044  2006-10-14 05:00:00   1.0  11.473775  3.884333  4.626988  13.811581   \n",
       "6454  2005-07-07 13:00:00   1.0   5.841378  1.729111  1.755059  11.113311   \n",
       "6775  2005-10-03 09:00:00   1.0  11.480998  1.579311  0.136858  17.414776   \n",
       "\n",
       "           u10_4      u10_5      u10_6      u10_7  ...  v500_7_past  \\\n",
       "4392    3.203449   7.438182  11.078282   9.695792  ...    -9.189336   \n",
       "10592  -0.527939   4.798838   7.657216   6.761896  ...     5.050536   \n",
       "8044   13.259893  15.158346  16.857718  13.917675  ...   -14.778728   \n",
       "6454    4.420373   1.297866   0.710929   2.721344  ...    -1.073381   \n",
       "6775   13.018563  13.529140  12.077935   8.884933  ...    13.030904   \n",
       "\n",
       "       v500_8_past  v500_9_past  v500_10_past  v500_11_past  v500_12_past  \\\n",
       "4392     -6.218557    -1.055446     -9.266236     -2.756696    -16.376140   \n",
       "10592     4.740138    16.874018     10.209667     13.667987      5.343926   \n",
       "8044    -10.894812    -3.084880     -3.341123    -15.340633    -13.929465   \n",
       "6454    -13.311907    -7.537526     10.857876    -12.813391     -3.335194   \n",
       "6775      2.809526    -0.623910      7.452708     -8.934282    -39.801810   \n",
       "\n",
       "       v500_13_past  v500_14_past  v500_15_past  v500_16_past  \n",
       "4392      -4.826258    -13.422898      0.693024     -0.664199  \n",
       "10592     -2.870999    -15.102676     -4.530708     -0.274425  \n",
       "8044       0.079725      2.067442      4.132031     -6.011545  \n",
       "6454      21.335655     11.854910      4.141285    -19.374434  \n",
       "6775      -1.039808      0.953163      8.114503     -1.986963  \n",
       "\n",
       "[5 rows x 210 columns]"
      ]
     },
     "execution_count": 3,
     "metadata": {},
     "output_type": "execute_result"
    }
   ],
   "source": [
    "data = pd.read_csv(data_path/f'for_model_{compound}_{site}.csv', parse_dates=['time'])\n",
    "data.sample(5)"
   ]
  },
  {
   "cell_type": "code",
   "execution_count": 4,
   "metadata": {},
   "outputs": [
    {
     "name": "stdout",
     "output_type": "stream",
     "text": [
      "Train range: 2018-01-01 01:00:00 -> 2018-12-31 21:00:00. Length: 1876\n",
      "Val range: 2019-01-01 09:00:00 -> 2019-12-31 23:00:00. Length: 2094\n",
      "Test range: 2020-01-01 01:00:00 -> 2022-12-31 07:00:00. Length: 5194\n"
     ]
    }
   ],
   "source": [
    "train_data = data[(data['time'].dt.year >= 2018) & (data['time'].dt.year <= 2018)]\n",
    "val_data = data[(data['time'].dt.year >= 2019) & (data['time'].dt.year <= 2019)]\n",
    "test_data = data[(data['time'].dt.year >= 2020) & (data['time'].dt.year <= 2023)]\n",
    "\n",
    "print(f\"Train range: {train_data['time'].min()} -> {train_data['time'].max()}. Length: {len(train_data)}\")\n",
    "print(f\"Val range: {val_data['time'].min()} -> {val_data['time'].max()}. Length: {len(val_data)}\")\n",
    "print(f\"Test range: {test_data['time'].min()} -> {test_data['time'].max()}. Length: {len(test_data)}\")\n",
    "\n",
    "\n",
    "# Drop the \"time\" column as it won't be used in the model\n",
    "train_data = train_data.drop(columns=['time'])\n",
    "val_data = val_data.drop(columns=['time'])\n",
    "test_data = test_data.drop(columns=['time'])\n",
    "\n",
    "# Define the features (X) and the target (y)\n",
    "X_train = train_data.drop(columns=['flag'])\n",
    "y_train = train_data['flag']\n",
    "X_val = val_data.drop(columns=['flag'])\n",
    "y_val = val_data['flag']\n",
    "X_test = test_data.drop(columns=['flag'])\n",
    "y_test = test_data['flag']\n",
    "\n",
    "# Balanced Data - removing NaN values and associated data\n",
    "y_train = y_train.dropna()\n",
    "y_val = y_val.dropna()\n",
    "y_test = y_test.dropna()\n",
    "\n",
    "# aligning indices of features sets\n",
    "X_train = X_train.loc[y_train.index]\n",
    "X_val = X_val.loc[y_val.index]\n",
    "X_test = X_test.loc[y_test.index]"
   ]
  },
  {
   "cell_type": "markdown",
   "metadata": {},
   "source": [
    "### Model"
   ]
  },
  {
   "cell_type": "code",
   "execution_count": 5,
   "metadata": {},
   "outputs": [
    {
     "name": "stdout",
     "output_type": "stream",
     "text": [
      "Precision on Training Set = 0.952\n",
      "Precision on Validation Set = 0.922\n",
      "Recall on Training Set = 0.984\n",
      "Recall on Validation Set = 0.976\n",
      "F1 Score on Training Set = 0.968\n",
      "F1 Score on Validation Set = 0.948\n"
     ]
    }
   ],
   "source": [
    "nn_model = MLPClassifier(random_state=42,\n",
    "                         max_iter=1000, \n",
    "                         hidden_layer_sizes=(50,), \n",
    "                         shuffle=False,\n",
    "                         activation='relu', \n",
    "                         solver='adam', \n",
    "                         alpha=0.05, \n",
    "                         learning_rate='constant', \n",
    "                         batch_size=100, \n",
    "                         early_stopping=True,\n",
    "                         learning_rate_init=0.001,\n",
    "                         beta_2=0.9,)\n",
    "\n",
    "nn_model.fit(X_train, y_train)\n",
    "\n",
    "y_pred_val = nn_model.predict(X_val)\n",
    "y_pred_train = nn_model.predict(X_train)\n",
    "\n",
    "\n",
    "precision_val = precision_score(y_val, y_pred_val)\n",
    "precision_train = precision_score(y_train, y_pred_train)\n",
    "recall_val = recall_score(y_val, y_pred_val)\n",
    "recall_train = recall_score(y_train, y_pred_train)\n",
    "f1_val = f1_score(y_val, y_pred_val)\n",
    "f1_train = f1_score(y_train, y_pred_train)\n",
    "\n",
    "print(f\"Precision on Training Set = {precision_train:.3f}\")\n",
    "print(f\"Precision on Validation Set = {precision_val:.3f}\")\n",
    "print(f\"Recall on Training Set = {recall_train:.3f}\")\n",
    "print(f\"Recall on Validation Set = {recall_val:.3f}\")\n",
    "print(f\"F1 Score on Training Set = {f1_train:.3f}\")\n",
    "print(f\"F1 Score on Validation Set = {f1_val:.3f}\")"
   ]
  },
  {
   "cell_type": "code",
   "execution_count": 6,
   "metadata": {},
   "outputs": [
    {
     "name": "stdout",
     "output_type": "stream",
     "text": [
      "Precision on Testing Set = 0.936\n",
      "Recall on Testing Set = 0.963\n",
      "F1 Score on Testing Set = 0.950\n"
     ]
    }
   ],
   "source": [
    "# evaluating model on test set\n",
    "\n",
    "y_pred_test = nn_model.predict(X_test)\n",
    "\n",
    "precision_test = precision_score(y_test, y_pred_test)\n",
    "recall_test = recall_score(y_test, y_pred_test)\n",
    "f1_test = f1_score(y_test, y_pred_test)\n",
    "\n",
    "print(f\"Precision on Testing Set = {precision_test:.3f}\")\n",
    "print(f\"Recall on Testing Set = {recall_test:.3f}\")\n",
    "print(f\"F1 Score on Testing Set = {f1_test:.3f}\")"
   ]
  },
  {
   "cell_type": "code",
   "execution_count": 7,
   "metadata": {},
   "outputs": [
    {
     "data": {
      "text/plain": [
       "['C:\\\\Users\\\\kirst\\\\OneDrive\\\\Kirstin\\\\Uni\\\\Year4\\\\MSciProject\\\\data_files\\\\saved_files\\\\nn_model_CGO.joblib']"
      ]
     },
     "execution_count": 7,
     "metadata": {},
     "output_type": "execute_result"
    }
   ],
   "source": [
    "# saving the model\n",
    "dump(nn_model, data_path/f'nn_model_{site}.joblib')"
   ]
  },
  {
   "cell_type": "markdown",
   "metadata": {},
   "source": [
    "### Assessing Feature Importance"
   ]
  },
  {
   "cell_type": "code",
   "execution_count": 8,
   "metadata": {},
   "outputs": [],
   "source": [
    "# finding most important features in the model using permutation importance\n",
    "# using the testing set\n",
    "perm_importance = permutation_importance(nn_model, X_train, y_train, n_repeats=30, random_state=42)\n",
    "sorted_importances = perm_importance.importances_mean.argsort()"
   ]
  },
  {
   "cell_type": "code",
   "execution_count": 9,
   "metadata": {},
   "outputs": [
    {
     "data": {
      "text/plain": [
       "Text(0.5, 0, 'Permutation Importance')"
      ]
     },
     "execution_count": 9,
     "metadata": {},
     "output_type": "execute_result"
    },
    {
     "data": {
      "image/png": "[encoded data removed]",
      "text/plain": [
       "<Figure size 1200x1200 with 1 Axes>"
      ]
     },
     "metadata": {},
     "output_type": "display_data"
    }
   ],
   "source": [
    "# plotting first 20 most important features in a histogram\n",
    "fig, ax = plt.subplots(figsize=(12, 12))\n",
    "sns.set_theme(style='ticks', font='Arial')\n",
    "\n",
    "ax.barh(X_val.columns[sorted_importances][-20:], perm_importance.importances_mean[sorted_importances][-20:], color='#FF620E')\n",
    "\n",
    "ax.set_xscale('log')\n",
    "\n",
    "ax.set_ylabel('Features', fontsize=12, fontstyle='italic')\n",
    "ax.set_xlabel('Permutation Importance', fontsize=12, fontstyle='italic')\n",
    "# ax.set_title('Permutation Importance (Testing Set)', fontsize=14)"
   ]
  }
 ],
 "metadata": {
  "kernelspec": {
   "display_name": "venv",
   "language": "python",
   "name": "python3"
  },
  "language_info": {
   "codemirror_mode": {
    "name": "ipython",
    "version": 3
   },
   "file_extension": ".py",
   "mimetype": "text/x-python",
   "name": "python",
   "nbconvert_exporter": "python",
   "pygments_lexer": "ipython3",
   "version": "3.11.9"
  }
 },
 "nbformat": 4,
 "nbformat_minor": 2
}
