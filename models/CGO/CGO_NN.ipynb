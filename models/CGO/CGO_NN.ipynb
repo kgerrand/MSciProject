{
 "cells": [
  {
   "cell_type": "markdown",
   "metadata": {},
   "source": [
    "# Neural Network Final Model - Cape Grim, Australia"
   ]
  },
  {
   "cell_type": "code",
   "execution_count": 9,
   "metadata": {},
   "outputs": [],
   "source": [
    "import pandas as pd\n",
    "import numpy as np\n",
    "from joblib import dump\n",
    "from pathlib import Path\n",
    "import matplotlib.pyplot as plt\n",
    "import seaborn as sns\n",
    "\n",
    "from sklearn.neural_network import MLPClassifier\n",
    "from sklearn.metrics import precision_score, recall_score, f1_score, accuracy_score\n",
    "\n",
    "import sys\n",
    "sys.path.append('../../')\n",
    "import config as cfg\n",
    "import functions as f\n",
    "\n",
    "data_path = Path.home()/'OneDrive'/'Kirstin'/'Uni'/'Year4'/'MSciProject'/'data_files'/'saved_files'"
   ]
  },
  {
   "cell_type": "code",
   "execution_count": 2,
   "metadata": {},
   "outputs": [
    {
     "name": "stdout",
     "output_type": "stream",
     "text": [
      "Creating a neural network model for \u001b[1mCape Grim, Australia\u001b[0;0m.\n"
     ]
    }
   ],
   "source": [
    "site = cfg.site\n",
    "site_name = cfg.site_dict[site]\n",
    "assert site == 'CGO', 'This script is only for Cape Grim, Australia. The site can be changed in the config file.'\n",
    "\n",
    "compound = cfg.compound\n",
    "\n",
    "print(f\"Creating a neural network model for \\033[1m{site_name}\\033[0;0m.\")"
   ]
  },
  {
   "cell_type": "markdown",
   "metadata": {},
   "source": [
    "### Loading & Initialising Data"
   ]
  },
  {
   "cell_type": "code",
   "execution_count": 3,
   "metadata": {},
   "outputs": [
    {
     "data": {
      "text/html": [
       "<div>\n",
       "<style scoped>\n",
       "    .dataframe tbody tr th:only-of-type {\n",
       "        vertical-align: middle;\n",
       "    }\n",
       "\n",
       "    .dataframe tbody tr th {\n",
       "        vertical-align: top;\n",
       "    }\n",
       "\n",
       "    .dataframe thead th {\n",
       "        text-align: right;\n",
       "    }\n",
       "</style>\n",
       "<table border=\"1\" class=\"dataframe\">\n",
       "  <thead>\n",
       "    <tr style=\"text-align: right;\">\n",
       "      <th></th>\n",
       "      <th>time</th>\n",
       "      <th>flag</th>\n",
       "      <th>u10_0</th>\n",
       "      <th>u10_1</th>\n",
       "      <th>u10_2</th>\n",
       "      <th>u10_3</th>\n",
       "      <th>u10_4</th>\n",
       "      <th>u10_5</th>\n",
       "      <th>u10_6</th>\n",
       "      <th>u10_7</th>\n",
       "      <th>...</th>\n",
       "      <th>v500_7_past</th>\n",
       "      <th>v500_8_past</th>\n",
       "      <th>v500_9_past</th>\n",
       "      <th>v500_10_past</th>\n",
       "      <th>v500_11_past</th>\n",
       "      <th>v500_12_past</th>\n",
       "      <th>v500_13_past</th>\n",
       "      <th>v500_14_past</th>\n",
       "      <th>v500_15_past</th>\n",
       "      <th>v500_16_past</th>\n",
       "    </tr>\n",
       "  </thead>\n",
       "  <tbody>\n",
       "    <tr>\n",
       "      <th>292</th>\n",
       "      <td>2000-04-22 19:00:00</td>\n",
       "      <td>1.0</td>\n",
       "      <td>8.523203</td>\n",
       "      <td>-0.057781</td>\n",
       "      <td>1.445818</td>\n",
       "      <td>8.796631</td>\n",
       "      <td>12.082988</td>\n",
       "      <td>9.926284</td>\n",
       "      <td>7.664375</td>\n",
       "      <td>8.277376</td>\n",
       "      <td>...</td>\n",
       "      <td>5.150241</td>\n",
       "      <td>1.822392</td>\n",
       "      <td>-4.864377</td>\n",
       "      <td>12.000541</td>\n",
       "      <td>12.250743</td>\n",
       "      <td>-11.672159</td>\n",
       "      <td>14.628478</td>\n",
       "      <td>18.834488</td>\n",
       "      <td>6.779006</td>\n",
       "      <td>4.952369</td>\n",
       "    </tr>\n",
       "    <tr>\n",
       "      <th>28888</th>\n",
       "      <td>2018-06-27 07:00:00</td>\n",
       "      <td>0.0</td>\n",
       "      <td>-1.933267</td>\n",
       "      <td>-0.735687</td>\n",
       "      <td>-1.482400</td>\n",
       "      <td>-1.200745</td>\n",
       "      <td>5.430702</td>\n",
       "      <td>2.663824</td>\n",
       "      <td>4.497311</td>\n",
       "      <td>0.160042</td>\n",
       "      <td>...</td>\n",
       "      <td>-2.991365</td>\n",
       "      <td>-0.714972</td>\n",
       "      <td>-1.697335</td>\n",
       "      <td>3.044897</td>\n",
       "      <td>9.319494</td>\n",
       "      <td>28.193699</td>\n",
       "      <td>13.488809</td>\n",
       "      <td>-0.667610</td>\n",
       "      <td>-1.031223</td>\n",
       "      <td>3.190037</td>\n",
       "    </tr>\n",
       "    <tr>\n",
       "      <th>6444</th>\n",
       "      <td>2005-07-05 23:00:00</td>\n",
       "      <td>0.0</td>\n",
       "      <td>3.527610</td>\n",
       "      <td>-0.203457</td>\n",
       "      <td>2.309870</td>\n",
       "      <td>3.398484</td>\n",
       "      <td>3.892747</td>\n",
       "      <td>9.027521</td>\n",
       "      <td>7.576859</td>\n",
       "      <td>10.130962</td>\n",
       "      <td>...</td>\n",
       "      <td>-22.115639</td>\n",
       "      <td>-13.438131</td>\n",
       "      <td>-6.871987</td>\n",
       "      <td>9.483448</td>\n",
       "      <td>-0.388717</td>\n",
       "      <td>-6.277846</td>\n",
       "      <td>-19.844902</td>\n",
       "      <td>-24.410603</td>\n",
       "      <td>-30.439980</td>\n",
       "      <td>-14.700359</td>\n",
       "    </tr>\n",
       "    <tr>\n",
       "      <th>8666</th>\n",
       "      <td>2007-06-07 03:00:00</td>\n",
       "      <td>0.0</td>\n",
       "      <td>-0.056230</td>\n",
       "      <td>-1.745984</td>\n",
       "      <td>-1.644140</td>\n",
       "      <td>1.411906</td>\n",
       "      <td>13.005657</td>\n",
       "      <td>11.510984</td>\n",
       "      <td>8.267030</td>\n",
       "      <td>-2.665451</td>\n",
       "      <td>...</td>\n",
       "      <td>16.007412</td>\n",
       "      <td>14.262960</td>\n",
       "      <td>-12.580180</td>\n",
       "      <td>-2.495282</td>\n",
       "      <td>6.268112</td>\n",
       "      <td>26.307898</td>\n",
       "      <td>24.242535</td>\n",
       "      <td>11.213464</td>\n",
       "      <td>9.546362</td>\n",
       "      <td>5.132573</td>\n",
       "    </tr>\n",
       "    <tr>\n",
       "      <th>8855</th>\n",
       "      <td>2007-08-28 15:00:00</td>\n",
       "      <td>1.0</td>\n",
       "      <td>7.376906</td>\n",
       "      <td>1.259904</td>\n",
       "      <td>1.149825</td>\n",
       "      <td>12.364532</td>\n",
       "      <td>14.102690</td>\n",
       "      <td>13.423361</td>\n",
       "      <td>8.904636</td>\n",
       "      <td>7.246149</td>\n",
       "      <td>...</td>\n",
       "      <td>-2.000219</td>\n",
       "      <td>-8.534998</td>\n",
       "      <td>-5.712573</td>\n",
       "      <td>-3.190242</td>\n",
       "      <td>-4.698467</td>\n",
       "      <td>-4.995973</td>\n",
       "      <td>-17.938766</td>\n",
       "      <td>-8.789818</td>\n",
       "      <td>-0.488113</td>\n",
       "      <td>6.654612</td>\n",
       "    </tr>\n",
       "  </tbody>\n",
       "</table>\n",
       "<p>5 rows × 210 columns</p>\n",
       "</div>"
      ],
      "text/plain": [
       "                     time  flag     u10_0     u10_1     u10_2      u10_3  \\\n",
       "292   2000-04-22 19:00:00   1.0  8.523203 -0.057781  1.445818   8.796631   \n",
       "28888 2018-06-27 07:00:00   0.0 -1.933267 -0.735687 -1.482400  -1.200745   \n",
       "6444  2005-07-05 23:00:00   0.0  3.527610 -0.203457  2.309870   3.398484   \n",
       "8666  2007-06-07 03:00:00   0.0 -0.056230 -1.745984 -1.644140   1.411906   \n",
       "8855  2007-08-28 15:00:00   1.0  7.376906  1.259904  1.149825  12.364532   \n",
       "\n",
       "           u10_4      u10_5     u10_6      u10_7  ...  v500_7_past  \\\n",
       "292    12.082988   9.926284  7.664375   8.277376  ...     5.150241   \n",
       "28888   5.430702   2.663824  4.497311   0.160042  ...    -2.991365   \n",
       "6444    3.892747   9.027521  7.576859  10.130962  ...   -22.115639   \n",
       "8666   13.005657  11.510984  8.267030  -2.665451  ...    16.007412   \n",
       "8855   14.102690  13.423361  8.904636   7.246149  ...    -2.000219   \n",
       "\n",
       "       v500_8_past  v500_9_past  v500_10_past  v500_11_past  v500_12_past  \\\n",
       "292       1.822392    -4.864377     12.000541     12.250743    -11.672159   \n",
       "28888    -0.714972    -1.697335      3.044897      9.319494     28.193699   \n",
       "6444    -13.438131    -6.871987      9.483448     -0.388717     -6.277846   \n",
       "8666     14.262960   -12.580180     -2.495282      6.268112     26.307898   \n",
       "8855     -8.534998    -5.712573     -3.190242     -4.698467     -4.995973   \n",
       "\n",
       "       v500_13_past  v500_14_past  v500_15_past  v500_16_past  \n",
       "292       14.628478     18.834488      6.779006      4.952369  \n",
       "28888     13.488809     -0.667610     -1.031223      3.190037  \n",
       "6444     -19.844902    -24.410603    -30.439980    -14.700359  \n",
       "8666      24.242535     11.213464      9.546362      5.132573  \n",
       "8855     -17.938766     -8.789818     -0.488113      6.654612  \n",
       "\n",
       "[5 rows x 210 columns]"
      ]
     },
     "execution_count": 3,
     "metadata": {},
     "output_type": "execute_result"
    }
   ],
   "source": [
    "data = pd.read_csv(data_path/f'for_model_{compound}_{site}.csv', parse_dates=['time'])\n",
    "data.sample(5)"
   ]
  },
  {
   "cell_type": "code",
   "execution_count": 4,
   "metadata": {},
   "outputs": [
    {
     "name": "stdout",
     "output_type": "stream",
     "text": [
      "Train range: 2018-01-01 01:00:00 -> 2018-12-31 21:00:00. Length: 1876\n",
      "Val range: 2019-01-01 09:00:00 -> 2019-12-31 23:00:00. Length: 2094\n",
      "Test range: 2020-01-01 01:00:00 -> 2022-12-31 07:00:00. Length: 5194\n"
     ]
    }
   ],
   "source": [
    "train_data = data[(data['time'].dt.year >= 2018) & (data['time'].dt.year <= 2018)]\n",
    "val_data = data[(data['time'].dt.year >= 2019) & (data['time'].dt.year <= 2019)]\n",
    "test_data = data[(data['time'].dt.year >= 2020) & (data['time'].dt.year <= 2023)]\n",
    "\n",
    "print(f\"Train range: {train_data['time'].min()} -> {train_data['time'].max()}. Length: {len(train_data)}\")\n",
    "print(f\"Val range: {val_data['time'].min()} -> {val_data['time'].max()}. Length: {len(val_data)}\")\n",
    "print(f\"Test range: {test_data['time'].min()} -> {test_data['time'].max()}. Length: {len(test_data)}\")\n",
    "\n",
    "\n",
    "# Drop the \"time\" column as it won't be used in the model\n",
    "train_data = train_data.drop(columns=['time'])\n",
    "val_data = val_data.drop(columns=['time'])\n",
    "test_data = test_data.drop(columns=['time'])\n",
    "\n",
    "# Define the features (X) and the target (y)\n",
    "X_train = train_data.drop(columns=['flag'])\n",
    "y_train = train_data['flag']\n",
    "X_val = val_data.drop(columns=['flag'])\n",
    "y_val = val_data['flag']\n",
    "X_test = test_data.drop(columns=['flag'])\n",
    "y_test = test_data['flag']\n",
    "\n",
    "# Balanced Data - removing NaN values and associated data\n",
    "y_train = y_train.dropna()\n",
    "y_val = y_val.dropna()\n",
    "y_test = y_test.dropna()\n",
    "\n",
    "# aligning indices of features sets\n",
    "X_train = X_train.loc[y_train.index]\n",
    "X_val = X_val.loc[y_val.index]\n",
    "X_test = X_test.loc[y_test.index]"
   ]
  },
  {
   "cell_type": "markdown",
   "metadata": {},
   "source": [
    "### Model"
   ]
  },
  {
   "cell_type": "code",
   "execution_count": 5,
   "metadata": {},
   "outputs": [
    {
     "name": "stdout",
     "output_type": "stream",
     "text": [
      "Precision on Training Set = 0.952\n",
      "Precision on Validation Set = 0.922\n",
      "Recall on Training Set = 0.984\n",
      "Recall on Validation Set = 0.976\n",
      "F1 Score on Training Set = 0.968\n",
      "F1 Score on Validation Set = 0.948\n"
     ]
    }
   ],
   "source": [
    "nn_model = MLPClassifier(random_state=42,\n",
    "                         max_iter=1000, \n",
    "                         hidden_layer_sizes=(50,), \n",
    "                         shuffle=False,\n",
    "                         activation='relu', \n",
    "                         solver='adam', \n",
    "                         alpha=0.05, \n",
    "                         learning_rate='constant', \n",
    "                         batch_size=100, \n",
    "                         early_stopping=True,\n",
    "                         learning_rate_init=0.001,\n",
    "                         beta_2=0.9,)\n",
    "\n",
    "nn_model.fit(X_train, y_train)\n",
    "\n",
    "class_probabilities_val = nn_model.predict_proba(X_val)\n",
    "class_probabilities_train = nn_model.predict_proba(X_train)\n",
    "\n",
    "confidence_threshold = cfg.confidence_threshold\n",
    "\n",
    "y_pred_val = (class_probabilities_val[:,1] > confidence_threshold).astype(int)\n",
    "y_pred_train = (class_probabilities_train[:,1] > confidence_threshold).astype(int)\n",
    "\n",
    "\n",
    "precision_val = precision_score(y_val, y_pred_val)\n",
    "precision_train = precision_score(y_train, y_pred_train)\n",
    "recall_val = recall_score(y_val, y_pred_val)\n",
    "recall_train = recall_score(y_train, y_pred_train)\n",
    "f1_val = f1_score(y_val, y_pred_val)\n",
    "f1_train = f1_score(y_train, y_pred_train)\n",
    "\n",
    "print(f\"Precision on Training Set = {precision_train:.3f}\")\n",
    "print(f\"Precision on Validation Set = {precision_val:.3f}\")\n",
    "print(f\"Recall on Training Set = {recall_train:.3f}\")\n",
    "print(f\"Recall on Validation Set = {recall_val:.3f}\")\n",
    "print(f\"F1 Score on Training Set = {f1_train:.3f}\")\n",
    "print(f\"F1 Score on Validation Set = {f1_val:.3f}\")"
   ]
  },
  {
   "cell_type": "code",
   "execution_count": 6,
   "metadata": {},
   "outputs": [
    {
     "name": "stdout",
     "output_type": "stream",
     "text": [
      "Precision on Testing Set = 0.936\n",
      "Recall on Testing Set = 0.963\n",
      "F1 Score on Testing Set = 0.950\n"
     ]
    }
   ],
   "source": [
    "# evaluating model on test set\n",
    "class_probabilities_test = nn_model.predict_proba(X_test)\n",
    "\n",
    "y_pred_test = (class_probabilities_test[:,1] > confidence_threshold).astype(int)\n",
    "\n",
    "precision_test = precision_score(y_test, y_pred_test)\n",
    "recall_test = recall_score(y_test, y_pred_test)\n",
    "f1_test = f1_score(y_test, y_pred_test)\n",
    "\n",
    "print(f\"Precision on Testing Set = {precision_test:.3f}\")\n",
    "print(f\"Recall on Testing Set = {recall_test:.3f}\")\n",
    "print(f\"F1 Score on Testing Set = {f1_test:.3f}\")"
   ]
  },
  {
   "cell_type": "code",
   "execution_count": 7,
   "metadata": {},
   "outputs": [
    {
     "data": {
      "text/plain": [
       "['C:\\\\Users\\\\kirst\\\\OneDrive\\\\Kirstin\\\\Uni\\\\Year4\\\\MSciProject\\\\data_files\\\\saved_files\\\\nn_model_CGO.joblib']"
      ]
     },
     "execution_count": 7,
     "metadata": {},
     "output_type": "execute_result"
    }
   ],
   "source": [
    "# saving the model\n",
    "dump(nn_model, data_path/f'nn_model_{site}.joblib')"
   ]
  },
  {
   "cell_type": "markdown",
   "metadata": {},
   "source": [
    "### Assessing Feature Importance"
   ]
  },
  {
   "cell_type": "code",
   "execution_count": 10,
   "metadata": {},
   "outputs": [],
   "source": [
    "# grouping features by category i.e. x-wind, y-wind, temporal etc.\n",
    "u_features = [col for col in data.columns if 'u' in col]\n",
    "v_features = [col for col in data.columns if 'v' in col]\n",
    "temporal_features = ['day_of_year', 'time_of_day']\n",
    "sp = ['sp']\n",
    "blh = ['blh']\n",
    "\n",
    "groups = [u_features, v_features, temporal_features, sp, blh]"
   ]
  },
  {
   "cell_type": "code",
   "execution_count": 11,
   "metadata": {},
   "outputs": [],
   "source": [
    "original_score = accuracy_score(y_train, nn_model.predict(X_train))\n",
    "importances = {}\n",
    "\n",
    "for group in groups:\n",
    "    scores_diff = []\n",
    "    for _ in range(100):\n",
    "        X_train_permuted = f.permute_group(X_train, group)\n",
    "        \n",
    "        permuted_score = accuracy_score(y_train, nn_model.predict(X_train_permuted))\n",
    "        scores_diff.append(original_score - permuted_score)\n",
    "    \n",
    "    importances[str(group)] = np.mean(scores_diff)\n",
    "\n",
    "# Sort groups by importance\n",
    "sorted_importances = sorted(importances.items(), key=lambda x: x[1], reverse=False)"
   ]
  },
  {
   "cell_type": "code",
   "execution_count": 12,
   "metadata": {},
   "outputs": [],
   "source": [
    "# matching the group names to the sorted importances\n",
    "n = len(groups)\n",
    "group_names_sorted = []\n",
    "\n",
    "for i in range(n):\n",
    "    name = sorted_importances[i][0]\n",
    "\n",
    "    if 'u10_0' in name:\n",
    "        group_names_sorted.append('u-wind')\n",
    "\n",
    "    elif 'v10_0' in name:\n",
    "        group_names_sorted.append('v-wind')\n",
    "\n",
    "    elif 'day_of_year' in name:\n",
    "        group_names_sorted.append('temporal')\n",
    "\n",
    "    elif 'sp' in name:\n",
    "        group_names_sorted.append('sp')\n",
    "\n",
    "    elif 'blh' in name:\n",
    "        group_names_sorted.append('blh')"
   ]
  },
  {
   "cell_type": "code",
   "execution_count": 13,
   "metadata": {},
   "outputs": [
    {
     "data": {
      "text/plain": [
       "Text(0, 0.5, 'Feature Group')"
      ]
     },
     "execution_count": 13,
     "metadata": {},
     "output_type": "execute_result"
    },
    {
     "data": {
      "image/png": "[encoded data removed]",
      "text/plain": [
       "<Figure size 1200x800 with 1 Axes>"
      ]
     },
     "metadata": {},
     "output_type": "display_data"
    }
   ],
   "source": [
    "# Plotting the importances of the groups\n",
    "fig, ax = plt.subplots(figsize=(12, 8))\n",
    "sns.set_theme(style='ticks', font='Arial')\n",
    "\n",
    "ax.barh(group_names_sorted, [importance for _, importance in sorted_importances], color='#FF620E')\n",
    "\n",
    "ax.set_xlabel('Importance', fontsize=12, fontstyle='italic')\n",
    "ax.set_ylabel('Feature Group', fontsize=12, fontstyle='italic')\n",
    "# ax.set_title('Permutation Importances', fontsize=14)"
   ]
  }
 ],
 "metadata": {
  "kernelspec": {
   "display_name": "venv",
   "language": "python",
   "name": "python3"
  },
  "language_info": {
   "codemirror_mode": {
    "name": "ipython",
    "version": 3
   },
   "file_extension": ".py",
   "mimetype": "text/x-python",
   "name": "python",
   "nbconvert_exporter": "python",
   "pygments_lexer": "ipython3",
   "version": "3.11.9"
  }
 },
 "nbformat": 4,
 "nbformat_minor": 2
}
