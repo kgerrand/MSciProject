{
 "cells": [
  {
   "cell_type": "markdown",
   "metadata": {},
   "source": [
    "# Neural Network Final Model - Mace Head, Ireland"
   ]
  },
  {
   "cell_type": "code",
   "execution_count": 1,
   "metadata": {},
   "outputs": [],
   "source": [
    "import pandas as pd\n",
    "from joblib import dump\n",
    "from pathlib import Path\n",
    "import matplotlib.pyplot as plt\n",
    "import seaborn as sns\n",
    "\n",
    "from sklearn.neural_network import MLPClassifier\n",
    "from sklearn.metrics import precision_score, recall_score, f1_score\n",
    "from sklearn.inspection import permutation_importance\n",
    "\n",
    "import sys\n",
    "sys.path.append('../../')\n",
    "import config\n",
    "\n",
    "data_path = Path.home()/'OneDrive'/'Kirstin'/'Uni'/'Year4'/'MSciProject'/'data_files'/'saved_files'"
   ]
  },
  {
   "cell_type": "code",
   "execution_count": 2,
   "metadata": {},
   "outputs": [
    {
     "name": "stdout",
     "output_type": "stream",
     "text": [
      "Creating a neural network model for \u001b[1mMace Head, Ireland\u001b[0;0m.\n"
     ]
    }
   ],
   "source": [
    "site = config.site\n",
    "site_name = config.site_dict[site]\n",
    "assert site == 'MHD', 'This script is only for Mace Head, Ireland. The site can be changed in the config file.'\n",
    "\n",
    "compound = config.compound\n",
    "\n",
    "print(f\"Creating a neural network model for \\033[1m{site_name}\\033[0;0m.\")"
   ]
  },
  {
   "cell_type": "markdown",
   "metadata": {},
   "source": [
    "### Loading & Initialising Data"
   ]
  },
  {
   "cell_type": "code",
   "execution_count": 3,
   "metadata": {},
   "outputs": [
    {
     "data": {
      "text/html": [
       "<div>\n",
       "<style scoped>\n",
       "    .dataframe tbody tr th:only-of-type {\n",
       "        vertical-align: middle;\n",
       "    }\n",
       "\n",
       "    .dataframe tbody tr th {\n",
       "        vertical-align: top;\n",
       "    }\n",
       "\n",
       "    .dataframe thead th {\n",
       "        text-align: right;\n",
       "    }\n",
       "</style>\n",
       "<table border=\"1\" class=\"dataframe\">\n",
       "  <thead>\n",
       "    <tr style=\"text-align: right;\">\n",
       "      <th></th>\n",
       "      <th>time</th>\n",
       "      <th>flag</th>\n",
       "      <th>u10_0</th>\n",
       "      <th>u10_1</th>\n",
       "      <th>u10_2</th>\n",
       "      <th>u10_3</th>\n",
       "      <th>u10_4</th>\n",
       "      <th>u10_5</th>\n",
       "      <th>u10_6</th>\n",
       "      <th>u10_7</th>\n",
       "      <th>...</th>\n",
       "      <th>v500_2_past</th>\n",
       "      <th>v500_3_past</th>\n",
       "      <th>v500_4_past</th>\n",
       "      <th>v500_5_past</th>\n",
       "      <th>v500_6_past</th>\n",
       "      <th>v500_7_past</th>\n",
       "      <th>v500_8_past</th>\n",
       "      <th>v500_13_past</th>\n",
       "      <th>v500_14_past</th>\n",
       "      <th>v500_15_past</th>\n",
       "    </tr>\n",
       "  </thead>\n",
       "  <tbody>\n",
       "    <tr>\n",
       "      <th>34745</th>\n",
       "      <td>2014-07-03 05:00:00</td>\n",
       "      <td>1.0</td>\n",
       "      <td>6.128238</td>\n",
       "      <td>10.186071</td>\n",
       "      <td>3.746720</td>\n",
       "      <td>4.601911</td>\n",
       "      <td>0.910660</td>\n",
       "      <td>4.699530</td>\n",
       "      <td>7.188836</td>\n",
       "      <td>7.767946</td>\n",
       "      <td>...</td>\n",
       "      <td>-11.179855</td>\n",
       "      <td>-5.357777</td>\n",
       "      <td>1.706974</td>\n",
       "      <td>9.308139</td>\n",
       "      <td>-0.330108</td>\n",
       "      <td>-1.791002</td>\n",
       "      <td>2.036992</td>\n",
       "      <td>2.702403</td>\n",
       "      <td>-7.316386</td>\n",
       "      <td>-14.005970</td>\n",
       "    </tr>\n",
       "    <tr>\n",
       "      <th>22167</th>\n",
       "      <td>2004-11-27 15:00:00</td>\n",
       "      <td>1.0</td>\n",
       "      <td>1.982540</td>\n",
       "      <td>3.943897</td>\n",
       "      <td>0.986557</td>\n",
       "      <td>6.748196</td>\n",
       "      <td>-1.067848</td>\n",
       "      <td>-0.444670</td>\n",
       "      <td>-6.005521</td>\n",
       "      <td>-0.601995</td>\n",
       "      <td>...</td>\n",
       "      <td>-3.709926</td>\n",
       "      <td>-4.979776</td>\n",
       "      <td>-9.257929</td>\n",
       "      <td>11.359066</td>\n",
       "      <td>14.063644</td>\n",
       "      <td>11.406794</td>\n",
       "      <td>2.814330</td>\n",
       "      <td>4.097197</td>\n",
       "      <td>16.804382</td>\n",
       "      <td>10.128265</td>\n",
       "    </tr>\n",
       "    <tr>\n",
       "      <th>21110</th>\n",
       "      <td>2004-03-06 11:00:00</td>\n",
       "      <td>1.0</td>\n",
       "      <td>2.785219</td>\n",
       "      <td>3.245081</td>\n",
       "      <td>3.543427</td>\n",
       "      <td>5.162819</td>\n",
       "      <td>1.029702</td>\n",
       "      <td>-0.751911</td>\n",
       "      <td>-2.625215</td>\n",
       "      <td>-0.152398</td>\n",
       "      <td>...</td>\n",
       "      <td>-7.521837</td>\n",
       "      <td>-10.167968</td>\n",
       "      <td>-11.212936</td>\n",
       "      <td>-12.443303</td>\n",
       "      <td>-8.330845</td>\n",
       "      <td>-6.725087</td>\n",
       "      <td>-15.746753</td>\n",
       "      <td>-9.493794</td>\n",
       "      <td>6.226704</td>\n",
       "      <td>8.754855</td>\n",
       "    </tr>\n",
       "    <tr>\n",
       "      <th>2065</th>\n",
       "      <td>1990-03-02 21:00:00</td>\n",
       "      <td>1.0</td>\n",
       "      <td>8.449013</td>\n",
       "      <td>11.401804</td>\n",
       "      <td>5.318428</td>\n",
       "      <td>9.090499</td>\n",
       "      <td>-2.708944</td>\n",
       "      <td>-5.028715</td>\n",
       "      <td>-2.931022</td>\n",
       "      <td>8.474411</td>\n",
       "      <td>...</td>\n",
       "      <td>-18.381681</td>\n",
       "      <td>-24.708694</td>\n",
       "      <td>-25.907920</td>\n",
       "      <td>-18.205753</td>\n",
       "      <td>-11.562390</td>\n",
       "      <td>-5.874536</td>\n",
       "      <td>-3.028995</td>\n",
       "      <td>-15.263370</td>\n",
       "      <td>-6.863939</td>\n",
       "      <td>8.054574</td>\n",
       "    </tr>\n",
       "    <tr>\n",
       "      <th>29516</th>\n",
       "      <td>2010-05-19 03:00:00</td>\n",
       "      <td>0.0</td>\n",
       "      <td>2.687743</td>\n",
       "      <td>3.996954</td>\n",
       "      <td>-0.850783</td>\n",
       "      <td>1.496044</td>\n",
       "      <td>1.101574</td>\n",
       "      <td>4.535266</td>\n",
       "      <td>4.446523</td>\n",
       "      <td>-0.079885</td>\n",
       "      <td>...</td>\n",
       "      <td>9.998421</td>\n",
       "      <td>1.947826</td>\n",
       "      <td>-10.370421</td>\n",
       "      <td>-12.229292</td>\n",
       "      <td>-9.540020</td>\n",
       "      <td>-13.747391</td>\n",
       "      <td>-9.516645</td>\n",
       "      <td>-13.950377</td>\n",
       "      <td>-4.235287</td>\n",
       "      <td>-12.483949</td>\n",
       "    </tr>\n",
       "  </tbody>\n",
       "</table>\n",
       "<p>5 rows × 150 columns</p>\n",
       "</div>"
      ],
      "text/plain": [
       "                     time  flag     u10_0      u10_1     u10_2     u10_3  \\\n",
       "34745 2014-07-03 05:00:00   1.0  6.128238  10.186071  3.746720  4.601911   \n",
       "22167 2004-11-27 15:00:00   1.0  1.982540   3.943897  0.986557  6.748196   \n",
       "21110 2004-03-06 11:00:00   1.0  2.785219   3.245081  3.543427  5.162819   \n",
       "2065  1990-03-02 21:00:00   1.0  8.449013  11.401804  5.318428  9.090499   \n",
       "29516 2010-05-19 03:00:00   0.0  2.687743   3.996954 -0.850783  1.496044   \n",
       "\n",
       "          u10_4     u10_5     u10_6     u10_7  ...  v500_2_past  v500_3_past  \\\n",
       "34745  0.910660  4.699530  7.188836  7.767946  ...   -11.179855    -5.357777   \n",
       "22167 -1.067848 -0.444670 -6.005521 -0.601995  ...    -3.709926    -4.979776   \n",
       "21110  1.029702 -0.751911 -2.625215 -0.152398  ...    -7.521837   -10.167968   \n",
       "2065  -2.708944 -5.028715 -2.931022  8.474411  ...   -18.381681   -24.708694   \n",
       "29516  1.101574  4.535266  4.446523 -0.079885  ...     9.998421     1.947826   \n",
       "\n",
       "       v500_4_past  v500_5_past  v500_6_past  v500_7_past  v500_8_past  \\\n",
       "34745     1.706974     9.308139    -0.330108    -1.791002     2.036992   \n",
       "22167    -9.257929    11.359066    14.063644    11.406794     2.814330   \n",
       "21110   -11.212936   -12.443303    -8.330845    -6.725087   -15.746753   \n",
       "2065    -25.907920   -18.205753   -11.562390    -5.874536    -3.028995   \n",
       "29516   -10.370421   -12.229292    -9.540020   -13.747391    -9.516645   \n",
       "\n",
       "       v500_13_past  v500_14_past  v500_15_past  \n",
       "34745      2.702403     -7.316386    -14.005970  \n",
       "22167      4.097197     16.804382     10.128265  \n",
       "21110     -9.493794      6.226704      8.754855  \n",
       "2065     -15.263370     -6.863939      8.054574  \n",
       "29516    -13.950377     -4.235287    -12.483949  \n",
       "\n",
       "[5 rows x 150 columns]"
      ]
     },
     "execution_count": 3,
     "metadata": {},
     "output_type": "execute_result"
    }
   ],
   "source": [
    "data = pd.read_csv(data_path/f'for_model_{compound}_{site}.csv', parse_dates=['time'])\n",
    "data.sample(5)"
   ]
  },
  {
   "cell_type": "code",
   "execution_count": 4,
   "metadata": {},
   "outputs": [
    {
     "name": "stdout",
     "output_type": "stream",
     "text": [
      "Train range: 2014-01-01 03:00:00 -> 2018-12-31 01:00:00. Length: 6851\n",
      "Val range: 2019-01-04 05:00:00 -> 2019-12-30 13:00:00. Length: 1067\n",
      "Test range: 2020-01-02 17:00:00 -> 2022-12-31 19:00:00. Length: 3985\n"
     ]
    }
   ],
   "source": [
    "train_data = data[(data['time'].dt.year >= 2014) & (data['time'].dt.year <= 2018)]\n",
    "val_data = data[(data['time'].dt.year >= 2019) & (data['time'].dt.year <= 2019)]\n",
    "test_data = data[(data['time'].dt.year >= 2020) & (data['time'].dt.year <= 2023)]\n",
    "\n",
    "print(f\"Train range: {train_data['time'].min()} -> {train_data['time'].max()}. Length: {len(train_data)}\")\n",
    "print(f\"Val range: {val_data['time'].min()} -> {val_data['time'].max()}. Length: {len(val_data)}\")\n",
    "print(f\"Test range: {test_data['time'].min()} -> {test_data['time'].max()}. Length: {len(test_data)}\")\n",
    "\n",
    "\n",
    "# Drop the \"time\" column as it won't be used in the model\n",
    "train_data = train_data.drop(columns=['time'])\n",
    "val_data = val_data.drop(columns=['time'])\n",
    "test_data = test_data.drop(columns=['time'])\n",
    "\n",
    "# Define the features (X) and the target (y)\n",
    "X_train = train_data.drop(columns=['flag'])\n",
    "y_train = train_data['flag']\n",
    "X_val = val_data.drop(columns=['flag'])\n",
    "y_val = val_data['flag']\n",
    "X_test = test_data.drop(columns=['flag'])\n",
    "y_test = test_data['flag']\n",
    "\n",
    "# Balanced Data - removing NaN values and associated data\n",
    "y_train = y_train.dropna()\n",
    "y_val = y_val.dropna()\n",
    "y_test = y_test.dropna()\n",
    "\n",
    "# aligning indices of features sets\n",
    "X_train = X_train.loc[y_train.index]\n",
    "X_val = X_val.loc[y_val.index]\n",
    "X_test = X_test.loc[y_test.index]"
   ]
  },
  {
   "cell_type": "markdown",
   "metadata": {},
   "source": [
    "### Model"
   ]
  },
  {
   "cell_type": "code",
   "execution_count": 5,
   "metadata": {},
   "outputs": [
    {
     "name": "stdout",
     "output_type": "stream",
     "text": [
      "Precision on Training Set = 0.884\n",
      "Precision on Validation Set = 0.821\n",
      "Recall on Training Set = 0.973\n",
      "Recall on Validation Set = 0.962\n",
      "F1 Score on Training Set = 0.926\n",
      "F1 Score on Validation Set = 0.886\n"
     ]
    }
   ],
   "source": [
    "nn_model = MLPClassifier(random_state=42,\n",
    "                         max_iter=1000, \n",
    "                         hidden_layer_sizes=(100,), \n",
    "                         shuffle=False,\n",
    "                         activation='relu', \n",
    "                         solver='adam', \n",
    "                         alpha=0.05, \n",
    "                         learning_rate='constant', \n",
    "                         batch_size=100, \n",
    "                         early_stopping=True,\n",
    "                         learning_rate_init=0.001,\n",
    "                         beta_2=0.9,)\n",
    "\n",
    "nn_model.fit(X_train, y_train)\n",
    "\n",
    "y_pred_val = nn_model.predict(X_val)\n",
    "y_pred_train = nn_model.predict(X_train)\n",
    "\n",
    "\n",
    "precision_val = precision_score(y_val, y_pred_val)\n",
    "precision_train = precision_score(y_train, y_pred_train)\n",
    "recall_val = recall_score(y_val, y_pred_val)\n",
    "recall_train = recall_score(y_train, y_pred_train)\n",
    "f1_val = f1_score(y_val, y_pred_val)\n",
    "f1_train = f1_score(y_train, y_pred_train)\n",
    "\n",
    "print(f\"Precision on Training Set = {precision_train:.3f}\")\n",
    "print(f\"Precision on Validation Set = {precision_val:.3f}\")\n",
    "print(f\"Recall on Training Set = {recall_train:.3f}\")\n",
    "print(f\"Recall on Validation Set = {recall_val:.3f}\")\n",
    "print(f\"F1 Score on Training Set = {f1_train:.3f}\")\n",
    "print(f\"F1 Score on Validation Set = {f1_val:.3f}\")"
   ]
  },
  {
   "cell_type": "code",
   "execution_count": 6,
   "metadata": {},
   "outputs": [
    {
     "name": "stdout",
     "output_type": "stream",
     "text": [
      "Precision on Testing Set = 0.883\n",
      "Recall on Testing Set = 0.968\n",
      "F1 Score on Testing Set = 0.924\n"
     ]
    }
   ],
   "source": [
    "# evaluating model on test set\n",
    "\n",
    "y_pred_test = nn_model.predict(X_test)\n",
    "\n",
    "precision_test = precision_score(y_test, y_pred_test)\n",
    "recall_test = recall_score(y_test, y_pred_test)\n",
    "f1_test = f1_score(y_test, y_pred_test)\n",
    "\n",
    "print(f\"Precision on Testing Set = {precision_test:.3f}\")\n",
    "print(f\"Recall on Testing Set = {recall_test:.3f}\")\n",
    "print(f\"F1 Score on Testing Set = {f1_test:.3f}\")"
   ]
  },
  {
   "cell_type": "code",
   "execution_count": 7,
   "metadata": {},
   "outputs": [
    {
     "data": {
      "text/plain": [
       "['C:\\\\Users\\\\kirst\\\\OneDrive\\\\Kirstin\\\\Uni\\\\Year4\\\\MSciProject\\\\data_files\\\\saved_files\\\\nn_model_MHD.joblib']"
      ]
     },
     "execution_count": 7,
     "metadata": {},
     "output_type": "execute_result"
    }
   ],
   "source": [
    "# saving the model\n",
    "dump(nn_model, data_path/f'nn_model_{site}.joblib')"
   ]
  },
  {
   "cell_type": "markdown",
   "metadata": {},
   "source": [
    "### Assessing Feature Importance"
   ]
  },
  {
   "cell_type": "code",
   "execution_count": 8,
   "metadata": {},
   "outputs": [],
   "source": [
    "# finding most important features in the model using permutation importance\n",
    "# using the testing set\n",
    "perm_importance = permutation_importance(nn_model, X_train, y_train, n_repeats=30, random_state=42)\n",
    "sorted_importances = perm_importance.importances_mean.argsort()"
   ]
  },
  {
   "cell_type": "code",
   "execution_count": 10,
   "metadata": {},
   "outputs": [
    {
     "data": {
      "text/plain": [
       "Text(0.5, 1.0, 'Permutation Importance (Testing Set)')"
      ]
     },
     "execution_count": 10,
     "metadata": {},
     "output_type": "execute_result"
    },
    {
     "data": {
      "image/png": "[encoded data removed]",
      "text/plain": [
       "<Figure size 1000x1000 with 1 Axes>"
      ]
     },
     "metadata": {},
     "output_type": "display_data"
    }
   ],
   "source": [
    "# plotting first 20 most important features in a histogram\n",
    "\n",
    "fig, ax = plt.subplots(figsize=(10, 10))\n",
    "sns.set(style=\"whitegrid\")\n",
    "sns.set_palette(\"viridis\")\n",
    "\n",
    "ax.barh(X_val.columns[sorted_importances][-20:], perm_importance.importances_mean[sorted_importances][-20:])\n",
    "\n",
    "ax.set_xscale('log')\n",
    "\n",
    "ax.set_ylabel('Features')\n",
    "ax.set_xlabel('Permutation Importance')\n",
    "ax.set_title('Permutation Importance (Testing Set)', fontsize=14)"
   ]
  }
 ],
 "metadata": {
  "kernelspec": {
   "display_name": "venv",
   "language": "python",
   "name": "python3"
  },
  "language_info": {
   "codemirror_mode": {
    "name": "ipython",
    "version": 3
   },
   "file_extension": ".py",
   "mimetype": "text/x-python",
   "name": "python",
   "nbconvert_exporter": "python",
   "pygments_lexer": "ipython3",
   "version": "3.11.8"
  }
 },
 "nbformat": 4,
 "nbformat_minor": 2
}
