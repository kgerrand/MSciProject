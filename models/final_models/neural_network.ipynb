{
 "cells": [
  {
   "cell_type": "markdown",
   "metadata": {},
   "source": [
    "# Neural Network Final Model"
   ]
  },
  {
   "cell_type": "code",
   "execution_count": 8,
   "metadata": {},
   "outputs": [],
   "source": [
    "import pandas as pd\n",
    "from joblib import dump\n",
    "from pathlib import Path\n",
    "import matplotlib.pyplot as plt\n",
    "import seaborn as sns\n",
    "\n",
    "from sklearn.neural_network import MLPClassifier\n",
    "from sklearn.metrics import precision_score, recall_score, f1_score\n",
    "from sklearn.inspection import permutation_importance\n",
    "\n",
    "import sys\n",
    "sys.path.append('../../')\n",
    "import config\n",
    "\n",
    "data_path = Path.home()/'OneDrive'/'Kirstin'/'Uni'/'Year4'/'MSciProject'/'data_files'/'saved_files'"
   ]
  },
  {
   "cell_type": "code",
   "execution_count": 9,
   "metadata": {},
   "outputs": [
    {
     "name": "stdout",
     "output_type": "stream",
     "text": [
      "Creating a neural network model for \u001b[1mMace Head, Ireland\u001b[0;0m.\n"
     ]
    }
   ],
   "source": [
    "site = config.site\n",
    "site_name = config.site_dict[site]\n",
    "compound = config.compound\n",
    "\n",
    "print(f\"Creating a neural network model for \\033[1m{site_name}\\033[0;0m.\")"
   ]
  },
  {
   "cell_type": "markdown",
   "metadata": {},
   "source": [
    "### Loading & Initialising Data"
   ]
  },
  {
   "cell_type": "code",
   "execution_count": 10,
   "metadata": {},
   "outputs": [
    {
     "data": {
      "text/html": [
       "<div>\n",
       "<style scoped>\n",
       "    .dataframe tbody tr th:only-of-type {\n",
       "        vertical-align: middle;\n",
       "    }\n",
       "\n",
       "    .dataframe tbody tr th {\n",
       "        vertical-align: top;\n",
       "    }\n",
       "\n",
       "    .dataframe thead th {\n",
       "        text-align: right;\n",
       "    }\n",
       "</style>\n",
       "<table border=\"1\" class=\"dataframe\">\n",
       "  <thead>\n",
       "    <tr style=\"text-align: right;\">\n",
       "      <th></th>\n",
       "      <th>time</th>\n",
       "      <th>flag</th>\n",
       "      <th>u10_0</th>\n",
       "      <th>u10_1</th>\n",
       "      <th>u10_2</th>\n",
       "      <th>u10_3</th>\n",
       "      <th>u10_4</th>\n",
       "      <th>u10_5</th>\n",
       "      <th>u10_6</th>\n",
       "      <th>u10_7</th>\n",
       "      <th>...</th>\n",
       "      <th>v500_2_past</th>\n",
       "      <th>v500_3_past</th>\n",
       "      <th>v500_4_past</th>\n",
       "      <th>v500_5_past</th>\n",
       "      <th>v500_6_past</th>\n",
       "      <th>v500_7_past</th>\n",
       "      <th>v500_8_past</th>\n",
       "      <th>v500_13_past</th>\n",
       "      <th>v500_14_past</th>\n",
       "      <th>v500_15_past</th>\n",
       "    </tr>\n",
       "  </thead>\n",
       "  <tbody>\n",
       "    <tr>\n",
       "      <th>12952</th>\n",
       "      <td>1998-04-12 21:00:00</td>\n",
       "      <td>1.0</td>\n",
       "      <td>-0.492588</td>\n",
       "      <td>-1.459531</td>\n",
       "      <td>-0.227481</td>\n",
       "      <td>1.580131</td>\n",
       "      <td>1.709196</td>\n",
       "      <td>3.081474</td>\n",
       "      <td>5.129077</td>\n",
       "      <td>-0.250503</td>\n",
       "      <td>...</td>\n",
       "      <td>-1.922535</td>\n",
       "      <td>-12.196097</td>\n",
       "      <td>-9.545477</td>\n",
       "      <td>-31.471990</td>\n",
       "      <td>-29.227335</td>\n",
       "      <td>-34.153725</td>\n",
       "      <td>-28.196127</td>\n",
       "      <td>-29.534030</td>\n",
       "      <td>-10.401854</td>\n",
       "      <td>-19.940530</td>\n",
       "    </tr>\n",
       "    <tr>\n",
       "      <th>38266</th>\n",
       "      <td>2016-10-19 11:00:00</td>\n",
       "      <td>1.0</td>\n",
       "      <td>1.178337</td>\n",
       "      <td>1.310433</td>\n",
       "      <td>1.000515</td>\n",
       "      <td>3.332521</td>\n",
       "      <td>-0.483591</td>\n",
       "      <td>-2.405761</td>\n",
       "      <td>-3.461966</td>\n",
       "      <td>-0.270770</td>\n",
       "      <td>...</td>\n",
       "      <td>-27.594944</td>\n",
       "      <td>-22.762785</td>\n",
       "      <td>-10.893583</td>\n",
       "      <td>-4.377347</td>\n",
       "      <td>-0.793212</td>\n",
       "      <td>-0.204058</td>\n",
       "      <td>0.182788</td>\n",
       "      <td>-3.699342</td>\n",
       "      <td>-1.063868</td>\n",
       "      <td>9.160896</td>\n",
       "    </tr>\n",
       "    <tr>\n",
       "      <th>18230</th>\n",
       "      <td>2001-12-03 05:00:00</td>\n",
       "      <td>1.0</td>\n",
       "      <td>-0.572872</td>\n",
       "      <td>-2.460939</td>\n",
       "      <td>-2.648267</td>\n",
       "      <td>-0.132722</td>\n",
       "      <td>-0.670057</td>\n",
       "      <td>6.443471</td>\n",
       "      <td>7.488563</td>\n",
       "      <td>4.039900</td>\n",
       "      <td>...</td>\n",
       "      <td>9.692261</td>\n",
       "      <td>1.227780</td>\n",
       "      <td>-0.001223</td>\n",
       "      <td>4.248893</td>\n",
       "      <td>2.546165</td>\n",
       "      <td>16.108402</td>\n",
       "      <td>17.090115</td>\n",
       "      <td>3.186737</td>\n",
       "      <td>-10.344217</td>\n",
       "      <td>19.136965</td>\n",
       "    </tr>\n",
       "    <tr>\n",
       "      <th>1588</th>\n",
       "      <td>1989-12-05 17:00:00</td>\n",
       "      <td>0.0</td>\n",
       "      <td>-6.272148</td>\n",
       "      <td>3.948664</td>\n",
       "      <td>2.136580</td>\n",
       "      <td>-4.137915</td>\n",
       "      <td>-10.325299</td>\n",
       "      <td>-11.952476</td>\n",
       "      <td>-12.141492</td>\n",
       "      <td>-5.404320</td>\n",
       "      <td>...</td>\n",
       "      <td>0.747110</td>\n",
       "      <td>-0.818177</td>\n",
       "      <td>-2.534185</td>\n",
       "      <td>0.131671</td>\n",
       "      <td>8.206171</td>\n",
       "      <td>0.825611</td>\n",
       "      <td>8.231292</td>\n",
       "      <td>7.582882</td>\n",
       "      <td>-7.540910</td>\n",
       "      <td>9.097931</td>\n",
       "    </tr>\n",
       "    <tr>\n",
       "      <th>42632</th>\n",
       "      <td>2020-03-01 15:00:00</td>\n",
       "      <td>1.0</td>\n",
       "      <td>10.254580</td>\n",
       "      <td>-1.733707</td>\n",
       "      <td>6.698659</td>\n",
       "      <td>8.934054</td>\n",
       "      <td>9.962376</td>\n",
       "      <td>15.231284</td>\n",
       "      <td>15.515574</td>\n",
       "      <td>13.750476</td>\n",
       "      <td>...</td>\n",
       "      <td>-2.600762</td>\n",
       "      <td>3.314376</td>\n",
       "      <td>3.122327</td>\n",
       "      <td>-5.936029</td>\n",
       "      <td>-2.455124</td>\n",
       "      <td>-2.317488</td>\n",
       "      <td>-3.953114</td>\n",
       "      <td>-4.378824</td>\n",
       "      <td>-9.903461</td>\n",
       "      <td>0.950561</td>\n",
       "    </tr>\n",
       "  </tbody>\n",
       "</table>\n",
       "<p>5 rows × 150 columns</p>\n",
       "</div>"
      ],
      "text/plain": [
       "                     time  flag      u10_0     u10_1     u10_2     u10_3  \\\n",
       "12952 1998-04-12 21:00:00   1.0  -0.492588 -1.459531 -0.227481  1.580131   \n",
       "38266 2016-10-19 11:00:00   1.0   1.178337  1.310433  1.000515  3.332521   \n",
       "18230 2001-12-03 05:00:00   1.0  -0.572872 -2.460939 -2.648267 -0.132722   \n",
       "1588  1989-12-05 17:00:00   0.0  -6.272148  3.948664  2.136580 -4.137915   \n",
       "42632 2020-03-01 15:00:00   1.0  10.254580 -1.733707  6.698659  8.934054   \n",
       "\n",
       "           u10_4      u10_5      u10_6      u10_7  ...  v500_2_past  \\\n",
       "12952   1.709196   3.081474   5.129077  -0.250503  ...    -1.922535   \n",
       "38266  -0.483591  -2.405761  -3.461966  -0.270770  ...   -27.594944   \n",
       "18230  -0.670057   6.443471   7.488563   4.039900  ...     9.692261   \n",
       "1588  -10.325299 -11.952476 -12.141492  -5.404320  ...     0.747110   \n",
       "42632   9.962376  15.231284  15.515574  13.750476  ...    -2.600762   \n",
       "\n",
       "       v500_3_past  v500_4_past  v500_5_past  v500_6_past  v500_7_past  \\\n",
       "12952   -12.196097    -9.545477   -31.471990   -29.227335   -34.153725   \n",
       "38266   -22.762785   -10.893583    -4.377347    -0.793212    -0.204058   \n",
       "18230     1.227780    -0.001223     4.248893     2.546165    16.108402   \n",
       "1588     -0.818177    -2.534185     0.131671     8.206171     0.825611   \n",
       "42632     3.314376     3.122327    -5.936029    -2.455124    -2.317488   \n",
       "\n",
       "       v500_8_past  v500_13_past  v500_14_past  v500_15_past  \n",
       "12952   -28.196127    -29.534030    -10.401854    -19.940530  \n",
       "38266     0.182788     -3.699342     -1.063868      9.160896  \n",
       "18230    17.090115      3.186737    -10.344217     19.136965  \n",
       "1588      8.231292      7.582882     -7.540910      9.097931  \n",
       "42632    -3.953114     -4.378824     -9.903461      0.950561  \n",
       "\n",
       "[5 rows x 150 columns]"
      ]
     },
     "execution_count": 10,
     "metadata": {},
     "output_type": "execute_result"
    }
   ],
   "source": [
    "data = pd.read_csv(data_path/f'for_model_{compound}_{site}.csv', parse_dates=['time'])\n",
    "data.sample(5)"
   ]
  },
  {
   "cell_type": "code",
   "execution_count": 11,
   "metadata": {},
   "outputs": [
    {
     "name": "stdout",
     "output_type": "stream",
     "text": [
      "Train range: 2014-01-01 03:00:00 -> 2018-12-31 01:00:00. Length: 6851\n",
      "Val range: 2019-01-04 05:00:00 -> 2019-12-30 13:00:00. Length: 1067\n",
      "Test range: 2020-01-02 17:00:00 -> 2022-12-31 19:00:00. Length: 3985\n"
     ]
    }
   ],
   "source": [
    "if site == \"MHD\":\n",
    "    train_data = data[(data['time'].dt.year >= 2014) & (data['time'].dt.year <= 2018)]\n",
    "    val_data = data[(data['time'].dt.year >= 2019) & (data['time'].dt.year <= 2019)]\n",
    "    test_data = data[(data['time'].dt.year >= 2020) & (data['time'].dt.year <= 2023)]\n",
    "\n",
    "if site == \"GSN\":\n",
    "    train_data = data[(data['time'].dt.year >= 2009) & (data['time'].dt.year <= 2013)]\n",
    "    val_data = data[(data['time'].dt.year >= 2014) & (data['time'].dt.year <= 2014)]\n",
    "    test_data = data[(data['time'].dt.year >= 2015) & (data['time'].dt.year <= 2017)]\n",
    "\n",
    "\n",
    "print(f\"Train range: {train_data['time'].min()} -> {train_data['time'].max()}. Length: {len(train_data)}\")\n",
    "print(f\"Val range: {val_data['time'].min()} -> {val_data['time'].max()}. Length: {len(val_data)}\")\n",
    "print(f\"Test range: {test_data['time'].min()} -> {test_data['time'].max()}. Length: {len(test_data)}\")\n",
    "\n",
    "# Drop the \"time\" column as it won't be used in the model\n",
    "train_data = train_data.drop(columns=['time'])\n",
    "val_data = val_data.drop(columns=['time'])\n",
    "test_data = test_data.drop(columns=['time'])\n",
    "\n",
    "\n",
    "# Define the features (X) and the target (y)\n",
    "X_train = train_data.drop(columns=['flag'])\n",
    "y_train = train_data['flag']\n",
    "X_val = val_data.drop(columns=['flag'])\n",
    "y_val = val_data['flag']\n",
    "X_test = test_data.drop(columns=['flag'])\n",
    "y_test = test_data['flag']\n",
    "\n",
    "\n",
    "# Balanced Data - removing NaN values and associated data\n",
    "y_train = y_train.dropna()\n",
    "y_val = y_val.dropna()\n",
    "y_test = y_test.dropna()\n",
    "\n",
    "# aligning indices of features sets\n",
    "X_train = X_train.loc[y_train.index]\n",
    "X_val = X_val.loc[y_val.index]\n",
    "X_test = X_test.loc[y_test.index]"
   ]
  },
  {
   "cell_type": "markdown",
   "metadata": {},
   "source": [
    "### Model"
   ]
  },
  {
   "cell_type": "code",
   "execution_count": 12,
   "metadata": {},
   "outputs": [
    {
     "name": "stdout",
     "output_type": "stream",
     "text": [
      "Precision on Training Set = 0.884\n",
      "Precision on Validation Set = 0.821\n",
      "Recall on Training Set = 0.973\n",
      "Recall on Validation Set = 0.962\n",
      "F1 Score on Training Set = 0.926\n",
      "F1 Score on Validation Set = 0.886\n"
     ]
    }
   ],
   "source": [
    "nn_model = MLPClassifier(random_state=42,\n",
    "                         max_iter=1000, \n",
    "                         hidden_layer_sizes=(100,), \n",
    "                         shuffle=False,\n",
    "                         activation='relu', \n",
    "                         solver='adam', \n",
    "                         alpha=0.05, \n",
    "                         learning_rate='constant', \n",
    "                         batch_size=100, \n",
    "                         early_stopping=True,\n",
    "                         learning_rate_init=0.001,\n",
    "                         beta_2=0.9,)\n",
    "\n",
    "nn_model.fit(X_train, y_train)\n",
    "\n",
    "y_pred_val = nn_model.predict(X_val)\n",
    "y_pred_train = nn_model.predict(X_train)\n",
    "\n",
    "\n",
    "precision_val = precision_score(y_val, y_pred_val)\n",
    "precision_train = precision_score(y_train, y_pred_train)\n",
    "recall_val = recall_score(y_val, y_pred_val)\n",
    "recall_train = recall_score(y_train, y_pred_train)\n",
    "f1_val = f1_score(y_val, y_pred_val)\n",
    "f1_train = f1_score(y_train, y_pred_train)\n",
    "\n",
    "print(f\"Precision on Training Set = {precision_train:.3f}\")\n",
    "print(f\"Precision on Validation Set = {precision_val:.3f}\")\n",
    "print(f\"Recall on Training Set = {recall_train:.3f}\")\n",
    "print(f\"Recall on Validation Set = {recall_val:.3f}\")\n",
    "print(f\"F1 Score on Training Set = {f1_train:.3f}\")\n",
    "print(f\"F1 Score on Validation Set = {f1_val:.3f}\")"
   ]
  },
  {
   "cell_type": "code",
   "execution_count": 13,
   "metadata": {},
   "outputs": [
    {
     "name": "stdout",
     "output_type": "stream",
     "text": [
      "Precision on Testing Set = 0.883\n",
      "Recall on Testing Set = 0.968\n",
      "F1 Score on Testing Set = 0.924\n"
     ]
    }
   ],
   "source": [
    "# evaluating model on test set\n",
    "\n",
    "y_pred_test = nn_model.predict(X_test)\n",
    "\n",
    "precision_test = precision_score(y_test, y_pred_test)\n",
    "recall_test = recall_score(y_test, y_pred_test)\n",
    "f1_test = f1_score(y_test, y_pred_test)\n",
    "\n",
    "print(f\"Precision on Testing Set = {precision_test:.3f}\")\n",
    "print(f\"Recall on Testing Set = {recall_test:.3f}\")\n",
    "print(f\"F1 Score on Testing Set = {f1_test:.3f}\")"
   ]
  },
  {
   "cell_type": "code",
   "execution_count": 14,
   "metadata": {},
   "outputs": [],
   "source": [
    "# finding most important features in the model using permutation importance\n",
    "# using the testing set\n",
    "perm_importance = permutation_importance(nn_model, X_train, y_train, n_repeats=30, random_state=42)\n",
    "sorted_importances = perm_importance.importances_mean.argsort()"
   ]
  },
  {
   "cell_type": "code",
   "execution_count": 15,
   "metadata": {},
   "outputs": [
    {
     "data": {
      "text/plain": [
       "Text(0.5, 1.0, 'Permutation Importance (Testing Set)')"
      ]
     },
     "execution_count": 15,
     "metadata": {},
     "output_type": "execute_result"
    },
    {
     "data": {
      "image/png": "[encoded data removed]",
      "text/plain": [
       "<Figure size 1000x1000 with 1 Axes>"
      ]
     },
     "metadata": {},
     "output_type": "display_data"
    }
   ],
   "source": [
    "# plotting first 20 most important features in a histogram\n",
    "\n",
    "fig, ax = plt.subplots(figsize=(10, 10))\n",
    "sns.set(style=\"whitegrid\")\n",
    "sns.set_palette(\"viridis\")\n",
    "\n",
    "ax.barh(X_val.columns[sorted_importances][-20:], perm_importance.importances_mean[sorted_importances][-20:])\n",
    "\n",
    "ax.set_xscale('log')\n",
    "\n",
    "ax.set_ylabel('Features')\n",
    "ax.set_xlabel('Permutation Importance')\n",
    "ax.set_title('Permutation Importance (Testing Set)', fontsize=14)"
   ]
  },
  {
   "cell_type": "code",
   "execution_count": 16,
   "metadata": {},
   "outputs": [
    {
     "data": {
      "text/plain": [
       "['C:\\\\Users\\\\kirst\\\\OneDrive\\\\Kirstin\\\\Uni\\\\Year4\\\\MSciProject\\\\data_files\\\\saved_files\\\\nn_model_MHD.joblib']"
      ]
     },
     "execution_count": 16,
     "metadata": {},
     "output_type": "execute_result"
    }
   ],
   "source": [
    "# saving the model\n",
    "dump(nn_model, data_path/f'nn_model_{site}.joblib')"
   ]
  }
 ],
 "metadata": {
  "kernelspec": {
   "display_name": "venv",
   "language": "python",
   "name": "python3"
  },
  "language_info": {
   "codemirror_mode": {
    "name": "ipython",
    "version": 3
   },
   "file_extension": ".py",
   "mimetype": "text/x-python",
   "name": "python",
   "nbconvert_exporter": "python",
   "pygments_lexer": "ipython3",
   "version": "3.11.8"
  }
 },
 "nbformat": 4,
 "nbformat_minor": 2
}
