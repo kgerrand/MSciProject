{
 "cells": [
  {
   "cell_type": "markdown",
   "metadata": {},
   "source": [
    "# Neural Network Final Model"
   ]
  },
  {
   "cell_type": "code",
   "execution_count": 21,
   "metadata": {},
   "outputs": [],
   "source": [
    "import pandas as pd\n",
    "from joblib import dump\n",
    "from pathlib import Path\n",
    "import matplotlib.pyplot as plt\n",
    "import seaborn as sns\n",
    "\n",
    "from sklearn.neural_network import MLPClassifier\n",
    "from sklearn.metrics import precision_score, recall_score, f1_score\n",
    "from sklearn.inspection import permutation_importance\n",
    "\n",
    "import sys\n",
    "sys.path.append('../../')\n",
    "import config\n",
    "\n",
    "data_path = Path.home()/'OneDrive'/'Kirstin'/'Uni'/'Year4'/'MSciProject'/'data_files'/'saved_files'"
   ]
  },
  {
   "cell_type": "code",
   "execution_count": 7,
   "metadata": {},
   "outputs": [
    {
     "name": "stdout",
     "output_type": "stream",
     "text": [
      "Exploring ch2cl2 at Mace Head, Ireland.\n"
     ]
    }
   ],
   "source": [
    "site = config.site\n",
    "site_name = config.site_dict[site]\n",
    "compound = config.compound\n",
    "\n",
    "print(f\"Exploring {compound} at {site_name}.\")"
   ]
  },
  {
   "cell_type": "markdown",
   "metadata": {},
   "source": [
    "### Loading & Initialising Data"
   ]
  },
  {
   "cell_type": "code",
   "execution_count": 8,
   "metadata": {},
   "outputs": [
    {
     "data": {
      "text/html": [
       "<div>\n",
       "<style scoped>\n",
       "    .dataframe tbody tr th:only-of-type {\n",
       "        vertical-align: middle;\n",
       "    }\n",
       "\n",
       "    .dataframe tbody tr th {\n",
       "        vertical-align: top;\n",
       "    }\n",
       "\n",
       "    .dataframe thead th {\n",
       "        text-align: right;\n",
       "    }\n",
       "</style>\n",
       "<table border=\"1\" class=\"dataframe\">\n",
       "  <thead>\n",
       "    <tr style=\"text-align: right;\">\n",
       "      <th></th>\n",
       "      <th>time</th>\n",
       "      <th>flag</th>\n",
       "      <th>u10_0</th>\n",
       "      <th>u10_1</th>\n",
       "      <th>u10_2</th>\n",
       "      <th>u10_3</th>\n",
       "      <th>u10_4</th>\n",
       "      <th>u10_5</th>\n",
       "      <th>u10_6</th>\n",
       "      <th>u10_7</th>\n",
       "      <th>...</th>\n",
       "      <th>v500_2_past</th>\n",
       "      <th>v500_3_past</th>\n",
       "      <th>v500_4_past</th>\n",
       "      <th>v500_5_past</th>\n",
       "      <th>v500_6_past</th>\n",
       "      <th>v500_7_past</th>\n",
       "      <th>v500_8_past</th>\n",
       "      <th>v500_13_past</th>\n",
       "      <th>v500_14_past</th>\n",
       "      <th>v500_15_past</th>\n",
       "    </tr>\n",
       "  </thead>\n",
       "  <tbody>\n",
       "    <tr>\n",
       "      <th>1973</th>\n",
       "      <td>2001-06-10 23:15:00</td>\n",
       "      <td>1.0</td>\n",
       "      <td>2.710897</td>\n",
       "      <td>6.646357</td>\n",
       "      <td>3.520554</td>\n",
       "      <td>2.957919</td>\n",
       "      <td>1.400237</td>\n",
       "      <td>0.250116</td>\n",
       "      <td>-0.065496</td>\n",
       "      <td>-0.102276</td>\n",
       "      <td>...</td>\n",
       "      <td>-25.975510</td>\n",
       "      <td>-12.634301</td>\n",
       "      <td>0.170765</td>\n",
       "      <td>-8.678596</td>\n",
       "      <td>-14.625347</td>\n",
       "      <td>-15.324613</td>\n",
       "      <td>-20.165493</td>\n",
       "      <td>-2.279661</td>\n",
       "      <td>-10.631261</td>\n",
       "      <td>-12.954548</td>\n",
       "    </tr>\n",
       "    <tr>\n",
       "      <th>5448</th>\n",
       "      <td>2005-10-08 20:06:00</td>\n",
       "      <td>1.0</td>\n",
       "      <td>8.290799</td>\n",
       "      <td>8.785448</td>\n",
       "      <td>2.819069</td>\n",
       "      <td>7.967324</td>\n",
       "      <td>1.006440</td>\n",
       "      <td>3.331291</td>\n",
       "      <td>4.782045</td>\n",
       "      <td>9.697946</td>\n",
       "      <td>...</td>\n",
       "      <td>25.634113</td>\n",
       "      <td>32.698875</td>\n",
       "      <td>4.102418</td>\n",
       "      <td>2.460347</td>\n",
       "      <td>-5.772502</td>\n",
       "      <td>-7.920691</td>\n",
       "      <td>7.900711</td>\n",
       "      <td>-0.258228</td>\n",
       "      <td>-3.071601</td>\n",
       "      <td>-7.186419</td>\n",
       "    </tr>\n",
       "    <tr>\n",
       "      <th>5095</th>\n",
       "      <td>2005-07-03 19:41:00</td>\n",
       "      <td>1.0</td>\n",
       "      <td>5.050467</td>\n",
       "      <td>12.155300</td>\n",
       "      <td>2.280093</td>\n",
       "      <td>2.197175</td>\n",
       "      <td>4.723338</td>\n",
       "      <td>9.704673</td>\n",
       "      <td>8.656837</td>\n",
       "      <td>10.313497</td>\n",
       "      <td>...</td>\n",
       "      <td>21.191470</td>\n",
       "      <td>27.044703</td>\n",
       "      <td>15.005737</td>\n",
       "      <td>18.952227</td>\n",
       "      <td>-2.073123</td>\n",
       "      <td>-8.237114</td>\n",
       "      <td>-7.642454</td>\n",
       "      <td>5.835202</td>\n",
       "      <td>-8.646341</td>\n",
       "      <td>-17.480543</td>\n",
       "    </tr>\n",
       "    <tr>\n",
       "      <th>9351</th>\n",
       "      <td>2009-04-26 06:08:00</td>\n",
       "      <td>1.0</td>\n",
       "      <td>4.269832</td>\n",
       "      <td>2.075483</td>\n",
       "      <td>-0.461545</td>\n",
       "      <td>-0.554456</td>\n",
       "      <td>8.234962</td>\n",
       "      <td>5.375477</td>\n",
       "      <td>6.924912</td>\n",
       "      <td>11.349134</td>\n",
       "      <td>...</td>\n",
       "      <td>19.321552</td>\n",
       "      <td>2.189260</td>\n",
       "      <td>11.361387</td>\n",
       "      <td>-5.848471</td>\n",
       "      <td>-23.475245</td>\n",
       "      <td>-23.439693</td>\n",
       "      <td>-23.391214</td>\n",
       "      <td>-0.767927</td>\n",
       "      <td>-27.932032</td>\n",
       "      <td>-32.716854</td>\n",
       "    </tr>\n",
       "    <tr>\n",
       "      <th>12488</th>\n",
       "      <td>2012-04-26 15:41:00</td>\n",
       "      <td>1.0</td>\n",
       "      <td>0.337694</td>\n",
       "      <td>-3.772571</td>\n",
       "      <td>-2.015186</td>\n",
       "      <td>-0.287575</td>\n",
       "      <td>7.589193</td>\n",
       "      <td>1.096950</td>\n",
       "      <td>-1.859545</td>\n",
       "      <td>-2.087592</td>\n",
       "      <td>...</td>\n",
       "      <td>-2.631880</td>\n",
       "      <td>-3.410871</td>\n",
       "      <td>-9.049419</td>\n",
       "      <td>-19.915829</td>\n",
       "      <td>-17.663626</td>\n",
       "      <td>-12.868374</td>\n",
       "      <td>-6.184838</td>\n",
       "      <td>-13.569904</td>\n",
       "      <td>-6.469835</td>\n",
       "      <td>-18.075775</td>\n",
       "    </tr>\n",
       "  </tbody>\n",
       "</table>\n",
       "<p>5 rows × 150 columns</p>\n",
       "</div>"
      ],
      "text/plain": [
       "                     time  flag     u10_0      u10_1     u10_2     u10_3  \\\n",
       "1973  2001-06-10 23:15:00   1.0  2.710897   6.646357  3.520554  2.957919   \n",
       "5448  2005-10-08 20:06:00   1.0  8.290799   8.785448  2.819069  7.967324   \n",
       "5095  2005-07-03 19:41:00   1.0  5.050467  12.155300  2.280093  2.197175   \n",
       "9351  2009-04-26 06:08:00   1.0  4.269832   2.075483 -0.461545 -0.554456   \n",
       "12488 2012-04-26 15:41:00   1.0  0.337694  -3.772571 -2.015186 -0.287575   \n",
       "\n",
       "          u10_4     u10_5     u10_6      u10_7  ...  v500_2_past  v500_3_past  \\\n",
       "1973   1.400237  0.250116 -0.065496  -0.102276  ...   -25.975510   -12.634301   \n",
       "5448   1.006440  3.331291  4.782045   9.697946  ...    25.634113    32.698875   \n",
       "5095   4.723338  9.704673  8.656837  10.313497  ...    21.191470    27.044703   \n",
       "9351   8.234962  5.375477  6.924912  11.349134  ...    19.321552     2.189260   \n",
       "12488  7.589193  1.096950 -1.859545  -2.087592  ...    -2.631880    -3.410871   \n",
       "\n",
       "       v500_4_past  v500_5_past  v500_6_past  v500_7_past  v500_8_past  \\\n",
       "1973      0.170765    -8.678596   -14.625347   -15.324613   -20.165493   \n",
       "5448      4.102418     2.460347    -5.772502    -7.920691     7.900711   \n",
       "5095     15.005737    18.952227    -2.073123    -8.237114    -7.642454   \n",
       "9351     11.361387    -5.848471   -23.475245   -23.439693   -23.391214   \n",
       "12488    -9.049419   -19.915829   -17.663626   -12.868374    -6.184838   \n",
       "\n",
       "       v500_13_past  v500_14_past  v500_15_past  \n",
       "1973      -2.279661    -10.631261    -12.954548  \n",
       "5448      -0.258228     -3.071601     -7.186419  \n",
       "5095       5.835202     -8.646341    -17.480543  \n",
       "9351      -0.767927    -27.932032    -32.716854  \n",
       "12488    -13.569904     -6.469835    -18.075775  \n",
       "\n",
       "[5 rows x 150 columns]"
      ]
     },
     "execution_count": 8,
     "metadata": {},
     "output_type": "execute_result"
    }
   ],
   "source": [
    "data = pd.read_csv(data_path/'for_model.csv', parse_dates=['time'])\n",
    "data.sample(5)"
   ]
  },
  {
   "cell_type": "code",
   "execution_count": 9,
   "metadata": {},
   "outputs": [
    {
     "name": "stdout",
     "output_type": "stream",
     "text": [
      "Train range: 2010-01-02 04:02:00 -> 2012-12-31 22:29:00. Length: 3295\n",
      "Val range: 2013-01-01 00:29:00 -> 2013-12-30 09:25:00. Length: 847\n",
      "Test range: 2014-01-02 20:09:00 -> 2016-12-31 21:51:00. Length: 3285\n"
     ]
    }
   ],
   "source": [
    "if compound == 'ch2cl2':\n",
    "    train_data = data[(data['time'].dt.year >= 2010) & (data['time'].dt.year <= 2012)]\n",
    "    val_data = data[(data['time'].dt.year >= 2013) & (data['time'].dt.year <= 2013)]\n",
    "    test_data = data[(data['time'].dt.year >= 2014) & (data['time'].dt.year <= 2016)]\n",
    "\n",
    "else:\n",
    "    train_data = data[(data['time'].dt.year >= 2016) & (data['time'].dt.year <= 2018)]\n",
    "    val_data = data[(data['time'].dt.year >= 2019) & (data['time'].dt.year <= 2019)]\n",
    "    test_data = data[(data['time'].dt.year >= 2020) & (data['time'].dt.year <= 2023)]\n",
    "\n",
    "print(f\"Train range: {train_data['time'].min()} -> {train_data['time'].max()}. Length: {len(train_data)}\")\n",
    "print(f\"Val range: {val_data['time'].min()} -> {val_data['time'].max()}. Length: {len(val_data)}\")\n",
    "print(f\"Test range: {test_data['time'].min()} -> {test_data['time'].max()}. Length: {len(test_data)}\")\n",
    "\n",
    "# Drop the \"time\" column as it won't be used in the model\n",
    "train_data = train_data.drop(columns=['time'])\n",
    "val_data = val_data.drop(columns=['time'])\n",
    "test_data = test_data.drop(columns=['time'])\n",
    "\n",
    "\n",
    "# Define the features (X) and the target (y)\n",
    "X_train = train_data.drop(columns=['flag'])\n",
    "y_train = train_data['flag']\n",
    "X_val = val_data.drop(columns=['flag'])\n",
    "y_val = val_data['flag']\n",
    "X_test = test_data.drop(columns=['flag'])\n",
    "y_test = test_data['flag']\n",
    "\n",
    "\n",
    "# Balanced Data - removing NaN values and associated data\n",
    "y_train = y_train.dropna()\n",
    "y_val = y_val.dropna()\n",
    "y_test = y_test.dropna()\n",
    "\n",
    "# aligning indices of features sets\n",
    "X_train = X_train.loc[y_train.index]\n",
    "X_val = X_val.loc[y_val.index]\n",
    "X_test = X_test.loc[y_test.index]"
   ]
  },
  {
   "cell_type": "markdown",
   "metadata": {},
   "source": [
    "### Model"
   ]
  },
  {
   "cell_type": "code",
   "execution_count": 10,
   "metadata": {},
   "outputs": [
    {
     "name": "stdout",
     "output_type": "stream",
     "text": [
      "Precision on Training Set = 0.869\n",
      "Precision on Testing Set = 0.887\n",
      "Recall on Training Set = 0.967\n",
      "Recall on Testing Set = 0.974\n",
      "F1 Score on Training Set = 0.915\n",
      "F1 Score on Testing Set = 0.929\n"
     ]
    }
   ],
   "source": [
    "nn_model = MLPClassifier(random_state=42,\n",
    "                         max_iter=1000, \n",
    "                         hidden_layer_sizes=(100,), \n",
    "                         shuffle=False,\n",
    "                         activation='relu', \n",
    "                         solver='adam', \n",
    "                         alpha=0.05, \n",
    "                         learning_rate='constant', \n",
    "                         batch_size=100, \n",
    "                         early_stopping=True,\n",
    "                         learning_rate_init=0.001,\n",
    "                         beta_2=0.9,)\n",
    "\n",
    "nn_model.fit(X_train, y_train)\n",
    "\n",
    "y_pred_val = nn_model.predict(X_val)\n",
    "y_pred_train = nn_model.predict(X_train)\n",
    "\n",
    "\n",
    "precision_val = precision_score(y_val, y_pred_val)\n",
    "precision_train = precision_score(y_train, y_pred_train)\n",
    "recall_val = recall_score(y_val, y_pred_val)\n",
    "recall_train = recall_score(y_train, y_pred_train)\n",
    "f1_val = f1_score(y_val, y_pred_val)\n",
    "f1_train = f1_score(y_train, y_pred_train)\n",
    "\n",
    "print(f\"Precision on Training Set = {precision_train:.3f}\")\n",
    "print(f\"Precision on Testing Set = {precision_val:.3f}\")\n",
    "print(f\"Recall on Training Set = {recall_train:.3f}\")\n",
    "print(f\"Recall on Testing Set = {recall_val:.3f}\")\n",
    "print(f\"F1 Score on Training Set = {f1_train:.3f}\")\n",
    "print(f\"F1 Score on Testing Set = {f1_val:.3f}\")"
   ]
  },
  {
   "cell_type": "code",
   "execution_count": 46,
   "metadata": {},
   "outputs": [
    {
     "name": "stdout",
     "output_type": "stream",
     "text": [
      "Precision on Testing Set = 0.885\n",
      "Recall on Testing Set = 0.972\n",
      "F1 Score on Testing Set = 0.926\n"
     ]
    }
   ],
   "source": [
    "# evaluating model on test set\n",
    "\n",
    "y_pred_test = nn_model.predict(X_test)\n",
    "\n",
    "precision_test = precision_score(y_test, y_pred_test)\n",
    "recall_test = recall_score(y_test, y_pred_test)\n",
    "f1_test = f1_score(y_test, y_pred_test)\n",
    "\n",
    "print(f\"Precision on Testing Set = {precision_test:.3f}\")\n",
    "print(f\"Recall on Testing Set = {recall_test:.3f}\")\n",
    "print(f\"F1 Score on Testing Set = {f1_test:.3f}\")"
   ]
  },
  {
   "cell_type": "code",
   "execution_count": 43,
   "metadata": {},
   "outputs": [],
   "source": [
    "# finding most important features in the model using permutation importance\n",
    "# using the testing set\n",
    "perm_importance = permutation_importance(nn_model, X_train, y_train, n_repeats=30, random_state=42)\n",
    "sorted_importances = perm_importance.importances_mean.argsort()"
   ]
  },
  {
   "cell_type": "code",
   "execution_count": 45,
   "metadata": {},
   "outputs": [
    {
     "data": {
      "text/plain": [
       "Text(0.5, 1.0, 'Permutation Importance (Testing Set)')"
      ]
     },
     "execution_count": 45,
     "metadata": {},
     "output_type": "execute_result"
    },
    {
     "data": {
      "image/png": "[encoded data removed]",
      "text/plain": [
       "<Figure size 1000x1000 with 1 Axes>"
      ]
     },
     "metadata": {},
     "output_type": "display_data"
    }
   ],
   "source": [
    "# plotting first 20 most important features in a histogram\n",
    "\n",
    "fig, ax = plt.subplots(figsize=(10, 10))\n",
    "sns.set(style=\"whitegrid\")\n",
    "sns.set_palette(\"viridis\")\n",
    "\n",
    "ax.barh(X_val.columns[sorted_importances][-20:], perm_importance.importances_mean[sorted_importances][-20:])\n",
    "\n",
    "ax.set_xscale('log')\n",
    "\n",
    "ax.set_ylabel('Features')\n",
    "ax.set_xlabel('Permutation Importance')\n",
    "ax.set_title('Permutation Importance (Testing Set)', fontsize=14)"
   ]
  },
  {
   "cell_type": "code",
   "execution_count": 47,
   "metadata": {},
   "outputs": [
    {
     "data": {
      "text/plain": [
       "['C:\\\\Users\\\\kirst\\\\OneDrive\\\\Kirstin\\\\Uni\\\\Year4\\\\MSciProject\\\\data_files\\\\saved_files\\\\nn_model.joblib']"
      ]
     },
     "execution_count": 47,
     "metadata": {},
     "output_type": "execute_result"
    }
   ],
   "source": [
    "# saving the model\n",
    "\n",
    "dump(nn_model, data_path/'nn_model.joblib')"
   ]
  }
 ],
 "metadata": {
  "kernelspec": {
   "display_name": "venv",
   "language": "python",
   "name": "python3"
  },
  "language_info": {
   "codemirror_mode": {
    "name": "ipython",
    "version": 3
   },
   "file_extension": ".py",
   "mimetype": "text/x-python",
   "name": "python",
   "nbconvert_exporter": "python",
   "pygments_lexer": "ipython3",
   "version": "3.11.8"
  }
 },
 "nbformat": 4,
 "nbformat_minor": 2
}
