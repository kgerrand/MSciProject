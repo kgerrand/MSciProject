{
 "cells": [
  {
   "cell_type": "markdown",
   "metadata": {},
   "source": [
    "# Neural Network Final Model - Gosan, South Korea"
   ]
  },
  {
   "cell_type": "code",
   "execution_count": 1,
   "metadata": {},
   "outputs": [],
   "source": [
    "import pandas as pd\n",
    "from joblib import dump\n",
    "from pathlib import Path\n",
    "import matplotlib.pyplot as plt\n",
    "import seaborn as sns\n",
    "\n",
    "from sklearn.neural_network import MLPClassifier\n",
    "from sklearn.metrics import precision_score, recall_score, f1_score\n",
    "from sklearn.inspection import permutation_importance\n",
    "\n",
    "import sys\n",
    "sys.path.append('../../')\n",
    "import config\n",
    "\n",
    "data_path = Path.home()/'OneDrive'/'Kirstin'/'Uni'/'Year4'/'MSciProject'/'data_files'/'saved_files'"
   ]
  },
  {
   "cell_type": "code",
   "execution_count": 2,
   "metadata": {},
   "outputs": [
    {
     "name": "stdout",
     "output_type": "stream",
     "text": [
      "Creating a neural network model for \u001b[1mGosan, South Korea\u001b[0;0m.\n"
     ]
    }
   ],
   "source": [
    "site = config.site\n",
    "site_name = config.site_dict[site]\n",
    "assert site == 'GSN', 'This script is only for Gosan, South Korea. The site can be changed in the config file.'\n",
    "\n",
    "compound = config.compound\n",
    "\n",
    "print(f\"Creating a neural network model for \\033[1m{site_name}\\033[0;0m.\")"
   ]
  },
  {
   "cell_type": "markdown",
   "metadata": {},
   "source": [
    "### Loading & Initialising Data"
   ]
  },
  {
   "cell_type": "code",
   "execution_count": 3,
   "metadata": {},
   "outputs": [
    {
     "data": {
      "text/html": [
       "<div>\n",
       "<style scoped>\n",
       "    .dataframe tbody tr th:only-of-type {\n",
       "        vertical-align: middle;\n",
       "    }\n",
       "\n",
       "    .dataframe tbody tr th {\n",
       "        vertical-align: top;\n",
       "    }\n",
       "\n",
       "    .dataframe thead th {\n",
       "        text-align: right;\n",
       "    }\n",
       "</style>\n",
       "<table border=\"1\" class=\"dataframe\">\n",
       "  <thead>\n",
       "    <tr style=\"text-align: right;\">\n",
       "      <th></th>\n",
       "      <th>time</th>\n",
       "      <th>flag</th>\n",
       "      <th>u10_0</th>\n",
       "      <th>u10_1</th>\n",
       "      <th>u10_2</th>\n",
       "      <th>u10_3</th>\n",
       "      <th>u10_4</th>\n",
       "      <th>u10_5</th>\n",
       "      <th>u10_6</th>\n",
       "      <th>u10_7</th>\n",
       "      <th>...</th>\n",
       "      <th>v500_7_past</th>\n",
       "      <th>v500_8_past</th>\n",
       "      <th>v500_9_past</th>\n",
       "      <th>v500_10_past</th>\n",
       "      <th>v500_11_past</th>\n",
       "      <th>v500_12_past</th>\n",
       "      <th>v500_13_past</th>\n",
       "      <th>v500_14_past</th>\n",
       "      <th>v500_15_past</th>\n",
       "      <th>v500_16_past</th>\n",
       "    </tr>\n",
       "  </thead>\n",
       "  <tbody>\n",
       "    <tr>\n",
       "      <th>2201</th>\n",
       "      <td>2009-09-20 13:00:00</td>\n",
       "      <td>1.0</td>\n",
       "      <td>-4.639429</td>\n",
       "      <td>-1.478975</td>\n",
       "      <td>-3.167312</td>\n",
       "      <td>-0.118478</td>\n",
       "      <td>-6.299684</td>\n",
       "      <td>-4.617666</td>\n",
       "      <td>-0.887180</td>\n",
       "      <td>-5.655238</td>\n",
       "      <td>...</td>\n",
       "      <td>3.067794</td>\n",
       "      <td>6.260865</td>\n",
       "      <td>12.663158</td>\n",
       "      <td>-8.391231</td>\n",
       "      <td>-7.502886</td>\n",
       "      <td>-5.521194</td>\n",
       "      <td>0.185333</td>\n",
       "      <td>-2.176545</td>\n",
       "      <td>7.417577</td>\n",
       "      <td>-2.480943</td>\n",
       "    </tr>\n",
       "    <tr>\n",
       "      <th>8751</th>\n",
       "      <td>2015-10-13 21:00:00</td>\n",
       "      <td>1.0</td>\n",
       "      <td>-0.842253</td>\n",
       "      <td>-0.324101</td>\n",
       "      <td>-6.972918</td>\n",
       "      <td>-0.082579</td>\n",
       "      <td>-3.463887</td>\n",
       "      <td>-2.583754</td>\n",
       "      <td>1.123215</td>\n",
       "      <td>0.927092</td>\n",
       "      <td>...</td>\n",
       "      <td>-2.721830</td>\n",
       "      <td>-3.073485</td>\n",
       "      <td>-25.566116</td>\n",
       "      <td>-17.329433</td>\n",
       "      <td>-3.663999</td>\n",
       "      <td>3.800370</td>\n",
       "      <td>-1.685444</td>\n",
       "      <td>2.815736</td>\n",
       "      <td>0.705808</td>\n",
       "      <td>1.793948</td>\n",
       "    </tr>\n",
       "    <tr>\n",
       "      <th>6314</th>\n",
       "      <td>2013-02-25 03:00:00</td>\n",
       "      <td>1.0</td>\n",
       "      <td>-3.558226</td>\n",
       "      <td>0.273328</td>\n",
       "      <td>-3.736411</td>\n",
       "      <td>0.436859</td>\n",
       "      <td>-2.516667</td>\n",
       "      <td>-5.722817</td>\n",
       "      <td>-0.794021</td>\n",
       "      <td>-5.582145</td>\n",
       "      <td>...</td>\n",
       "      <td>-6.786022</td>\n",
       "      <td>-15.069006</td>\n",
       "      <td>-28.115116</td>\n",
       "      <td>-16.860426</td>\n",
       "      <td>-19.419266</td>\n",
       "      <td>-7.222214</td>\n",
       "      <td>-7.245540</td>\n",
       "      <td>1.309191</td>\n",
       "      <td>-5.776015</td>\n",
       "      <td>-6.145729</td>\n",
       "    </tr>\n",
       "    <tr>\n",
       "      <th>2789</th>\n",
       "      <td>2010-02-13 03:00:00</td>\n",
       "      <td>1.0</td>\n",
       "      <td>4.354667</td>\n",
       "      <td>2.723719</td>\n",
       "      <td>-5.036480</td>\n",
       "      <td>3.423049</td>\n",
       "      <td>1.087838</td>\n",
       "      <td>-0.413897</td>\n",
       "      <td>-1.590626</td>\n",
       "      <td>-1.346502</td>\n",
       "      <td>...</td>\n",
       "      <td>-8.361807</td>\n",
       "      <td>-9.230078</td>\n",
       "      <td>-0.892438</td>\n",
       "      <td>-4.785652</td>\n",
       "      <td>9.306103</td>\n",
       "      <td>6.682244</td>\n",
       "      <td>3.172190</td>\n",
       "      <td>2.256864</td>\n",
       "      <td>-7.221292</td>\n",
       "      <td>-1.457094</td>\n",
       "    </tr>\n",
       "    <tr>\n",
       "      <th>6818</th>\n",
       "      <td>2013-09-17 17:00:00</td>\n",
       "      <td>1.0</td>\n",
       "      <td>-5.126628</td>\n",
       "      <td>0.061237</td>\n",
       "      <td>1.999852</td>\n",
       "      <td>-1.234875</td>\n",
       "      <td>-9.768538</td>\n",
       "      <td>-9.745469</td>\n",
       "      <td>0.319264</td>\n",
       "      <td>-6.296290</td>\n",
       "      <td>...</td>\n",
       "      <td>-8.747849</td>\n",
       "      <td>4.627377</td>\n",
       "      <td>-4.698784</td>\n",
       "      <td>4.675242</td>\n",
       "      <td>-5.627661</td>\n",
       "      <td>7.566577</td>\n",
       "      <td>-3.309209</td>\n",
       "      <td>0.911871</td>\n",
       "      <td>1.816815</td>\n",
       "      <td>-4.942596</td>\n",
       "    </tr>\n",
       "  </tbody>\n",
       "</table>\n",
       "<p>5 rows × 210 columns</p>\n",
       "</div>"
      ],
      "text/plain": [
       "                    time  flag     u10_0     u10_1     u10_2     u10_3  \\\n",
       "2201 2009-09-20 13:00:00   1.0 -4.639429 -1.478975 -3.167312 -0.118478   \n",
       "8751 2015-10-13 21:00:00   1.0 -0.842253 -0.324101 -6.972918 -0.082579   \n",
       "6314 2013-02-25 03:00:00   1.0 -3.558226  0.273328 -3.736411  0.436859   \n",
       "2789 2010-02-13 03:00:00   1.0  4.354667  2.723719 -5.036480  3.423049   \n",
       "6818 2013-09-17 17:00:00   1.0 -5.126628  0.061237  1.999852 -1.234875   \n",
       "\n",
       "         u10_4     u10_5     u10_6     u10_7  ...  v500_7_past  v500_8_past  \\\n",
       "2201 -6.299684 -4.617666 -0.887180 -5.655238  ...     3.067794     6.260865   \n",
       "8751 -3.463887 -2.583754  1.123215  0.927092  ...    -2.721830    -3.073485   \n",
       "6314 -2.516667 -5.722817 -0.794021 -5.582145  ...    -6.786022   -15.069006   \n",
       "2789  1.087838 -0.413897 -1.590626 -1.346502  ...    -8.361807    -9.230078   \n",
       "6818 -9.768538 -9.745469  0.319264 -6.296290  ...    -8.747849     4.627377   \n",
       "\n",
       "      v500_9_past  v500_10_past  v500_11_past  v500_12_past  v500_13_past  \\\n",
       "2201    12.663158     -8.391231     -7.502886     -5.521194      0.185333   \n",
       "8751   -25.566116    -17.329433     -3.663999      3.800370     -1.685444   \n",
       "6314   -28.115116    -16.860426    -19.419266     -7.222214     -7.245540   \n",
       "2789    -0.892438     -4.785652      9.306103      6.682244      3.172190   \n",
       "6818    -4.698784      4.675242     -5.627661      7.566577     -3.309209   \n",
       "\n",
       "      v500_14_past  v500_15_past  v500_16_past  \n",
       "2201     -2.176545      7.417577     -2.480943  \n",
       "8751      2.815736      0.705808      1.793948  \n",
       "6314      1.309191     -5.776015     -6.145729  \n",
       "2789      2.256864     -7.221292     -1.457094  \n",
       "6818      0.911871      1.816815     -4.942596  \n",
       "\n",
       "[5 rows x 210 columns]"
      ]
     },
     "execution_count": 3,
     "metadata": {},
     "output_type": "execute_result"
    }
   ],
   "source": [
    "data = pd.read_csv(data_path/f'for_model_{compound}_{site}.csv', parse_dates=['time'])\n",
    "data.sample(5)"
   ]
  },
  {
   "cell_type": "code",
   "execution_count": 4,
   "metadata": {},
   "outputs": [
    {
     "name": "stdout",
     "output_type": "stream",
     "text": [
      "Train range: 2009-01-01 01:00:00 -> 2013-12-30 09:00:00. Length: 5763\n",
      "Val range: 2014-01-03 19:00:00 -> 2014-12-31 23:00:00. Length: 933\n",
      "Test range: 2015-01-01 01:00:00 -> 2017-12-31 23:00:00. Length: 2824\n"
     ]
    }
   ],
   "source": [
    "train_data = data[(data['time'].dt.year >= 2009) & (data['time'].dt.year <= 2013)]\n",
    "val_data = data[(data['time'].dt.year >= 2014) & (data['time'].dt.year <= 2014)]\n",
    "test_data = data[(data['time'].dt.year >= 2015) & (data['time'].dt.year <= 2017)]\n",
    "\n",
    "print(f\"Train range: {train_data['time'].min()} -> {train_data['time'].max()}. Length: {len(train_data)}\")\n",
    "print(f\"Val range: {val_data['time'].min()} -> {val_data['time'].max()}. Length: {len(val_data)}\")\n",
    "print(f\"Test range: {test_data['time'].min()} -> {test_data['time'].max()}. Length: {len(test_data)}\")\n",
    "\n",
    "\n",
    "# Drop the \"time\" column as it won't be used in the model\n",
    "train_data = train_data.drop(columns=['time'])\n",
    "val_data = val_data.drop(columns=['time'])\n",
    "test_data = test_data.drop(columns=['time'])\n",
    "\n",
    "# Define the features (X) and the target (y)\n",
    "X_train = train_data.drop(columns=['flag'])\n",
    "y_train = train_data['flag']\n",
    "X_val = val_data.drop(columns=['flag'])\n",
    "y_val = val_data['flag']\n",
    "X_test = test_data.drop(columns=['flag'])\n",
    "y_test = test_data['flag']\n",
    "\n",
    "# Balanced Data - removing NaN values and associated data\n",
    "y_train = y_train.dropna()\n",
    "y_val = y_val.dropna()\n",
    "y_test = y_test.dropna()\n",
    "\n",
    "# aligning indices of features sets\n",
    "X_train = X_train.loc[y_train.index]\n",
    "X_val = X_val.loc[y_val.index]\n",
    "X_test = X_test.loc[y_test.index]"
   ]
  },
  {
   "cell_type": "markdown",
   "metadata": {},
   "source": [
    "### Model"
   ]
  },
  {
   "cell_type": "code",
   "execution_count": 5,
   "metadata": {},
   "outputs": [
    {
     "name": "stdout",
     "output_type": "stream",
     "text": [
      "Precision on Training Set = 0.823\n",
      "Precision on Validation Set = 0.739\n",
      "Recall on Training Set = 1.000\n",
      "Recall on Validation Set = 1.000\n",
      "F1 Score on Training Set = 0.903\n",
      "F1 Score on Validation Set = 0.850\n"
     ]
    }
   ],
   "source": [
    "nn_model = MLPClassifier(random_state=42,\n",
    "                         max_iter=1000, \n",
    "                         hidden_layer_sizes=(100,), \n",
    "                         shuffle=False,\n",
    "                         activation='relu', \n",
    "                         solver='adam', \n",
    "                         alpha=0.0001, \n",
    "                         learning_rate='constant', \n",
    "                         batch_size=100, \n",
    "                         early_stopping=False,\n",
    "                         learning_rate_init=0.0001,\n",
    "                         beta_2=0.9,)\n",
    "\n",
    "nn_model.fit(X_train, y_train)\n",
    "\n",
    "y_pred_val = nn_model.predict(X_val)\n",
    "y_pred_train = nn_model.predict(X_train)\n",
    "\n",
    "\n",
    "precision_val = precision_score(y_val, y_pred_val)\n",
    "precision_train = precision_score(y_train, y_pred_train)\n",
    "recall_val = recall_score(y_val, y_pred_val)\n",
    "recall_train = recall_score(y_train, y_pred_train)\n",
    "f1_val = f1_score(y_val, y_pred_val)\n",
    "f1_train = f1_score(y_train, y_pred_train)\n",
    "\n",
    "print(f\"Precision on Training Set = {precision_train:.3f}\")\n",
    "print(f\"Precision on Validation Set = {precision_val:.3f}\")\n",
    "print(f\"Recall on Training Set = {recall_train:.3f}\")\n",
    "print(f\"Recall on Validation Set = {recall_val:.3f}\")\n",
    "print(f\"F1 Score on Training Set = {f1_train:.3f}\")\n",
    "print(f\"F1 Score on Validation Set = {f1_val:.3f}\")"
   ]
  },
  {
   "cell_type": "code",
   "execution_count": 6,
   "metadata": {},
   "outputs": [
    {
     "name": "stdout",
     "output_type": "stream",
     "text": [
      "Precision on Testing Set = 0.757\n",
      "Recall on Testing Set = 1.000\n",
      "F1 Score on Testing Set = 0.862\n"
     ]
    }
   ],
   "source": [
    "# evaluating model on test set\n",
    "y_pred_test = nn_model.predict(X_test)\n",
    "\n",
    "precision_test = precision_score(y_test, y_pred_test)\n",
    "recall_test = recall_score(y_test, y_pred_test)\n",
    "f1_test = f1_score(y_test, y_pred_test)\n",
    "\n",
    "print(f\"Precision on Testing Set = {precision_test:.3f}\")\n",
    "print(f\"Recall on Testing Set = {recall_test:.3f}\")\n",
    "print(f\"F1 Score on Testing Set = {f1_test:.3f}\")"
   ]
  },
  {
   "cell_type": "code",
   "execution_count": 7,
   "metadata": {},
   "outputs": [
    {
     "data": {
      "text/plain": [
       "['C:\\\\Users\\\\kirst\\\\OneDrive\\\\Kirstin\\\\Uni\\\\Year4\\\\MSciProject\\\\data_files\\\\saved_files\\\\nn_model_GSN.joblib']"
      ]
     },
     "execution_count": 7,
     "metadata": {},
     "output_type": "execute_result"
    }
   ],
   "source": [
    "# saving the model\n",
    "dump(nn_model, data_path/f'nn_model_GSN.joblib')"
   ]
  },
  {
   "cell_type": "markdown",
   "metadata": {},
   "source": [
    "### Assessing Feature Importance"
   ]
  },
  {
   "cell_type": "code",
   "execution_count": 8,
   "metadata": {},
   "outputs": [],
   "source": [
    "# finding most important features in the model using permutation importance\n",
    "# using the testing set\n",
    "perm_importance = permutation_importance(nn_model, X_train, y_train, n_repeats=30, random_state=42)\n",
    "sorted_importances = perm_importance.importances_mean.argsort()"
   ]
  },
  {
   "cell_type": "code",
   "execution_count": 9,
   "metadata": {},
   "outputs": [
    {
     "data": {
      "text/plain": [
       "Text(0.5, 1.0, 'Permutation Importance (Testing Set)')"
      ]
     },
     "execution_count": 9,
     "metadata": {},
     "output_type": "execute_result"
    },
    {
     "data": {
      "image/png": "[encoded data removed]",
      "text/plain": [
       "<Figure size 1000x1000 with 1 Axes>"
      ]
     },
     "metadata": {},
     "output_type": "display_data"
    }
   ],
   "source": [
    "# plotting first 20 most important features in a histogram\n",
    "\n",
    "fig, ax = plt.subplots(figsize=(10, 10))\n",
    "sns.set_theme(style='ticks', font='Arial')\n",
    "ax.minorticks_on()\n",
    "\n",
    "ax.barh(X_val.columns[sorted_importances][-20:], perm_importance.importances_mean[sorted_importances][-20:], color='#FF620E')\n",
    "\n",
    "ax.set_xscale('log')\n",
    "\n",
    "ax.set_ylabel('Features')\n",
    "ax.set_xlabel('Permutation Importance')\n",
    "ax.set_title('Permutation Importance (Testing Set)', fontsize=14)"
   ]
  }
 ],
 "metadata": {
  "kernelspec": {
   "display_name": "venv",
   "language": "python",
   "name": "python3"
  },
  "language_info": {
   "codemirror_mode": {
    "name": "ipython",
    "version": 3
   },
   "file_extension": ".py",
   "mimetype": "text/x-python",
   "name": "python",
   "nbconvert_exporter": "python",
   "pygments_lexer": "ipython3",
   "version": "3.11.8"
  }
 },
 "nbformat": 4,
 "nbformat_minor": 2
}
