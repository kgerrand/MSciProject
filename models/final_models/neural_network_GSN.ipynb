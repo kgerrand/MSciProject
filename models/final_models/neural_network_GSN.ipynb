{
 "cells": [
  {
   "cell_type": "markdown",
   "metadata": {},
   "source": [
    "# Neural Network Final Model - Gosan, South Korea"
   ]
  },
  {
   "cell_type": "code",
   "execution_count": 1,
   "metadata": {},
   "outputs": [],
   "source": [
    "import pandas as pd\n",
    "from joblib import dump\n",
    "from pathlib import Path\n",
    "import matplotlib.pyplot as plt\n",
    "import seaborn as sns\n",
    "\n",
    "from sklearn.neural_network import MLPClassifier\n",
    "from sklearn.metrics import precision_score, recall_score, f1_score\n",
    "from sklearn.inspection import permutation_importance\n",
    "\n",
    "import sys\n",
    "sys.path.append('../../')\n",
    "import config\n",
    "\n",
    "data_path = Path.home()/'OneDrive'/'Kirstin'/'Uni'/'Year4'/'MSciProject'/'data_files'/'saved_files'"
   ]
  },
  {
   "cell_type": "code",
   "execution_count": 2,
   "metadata": {},
   "outputs": [
    {
     "name": "stdout",
     "output_type": "stream",
     "text": [
      "Creating a neural network model for \u001b[1mGosan, South Korea\u001b[0;0m.\n"
     ]
    }
   ],
   "source": [
    "site = config.site\n",
    "site_name = config.site_dict[site]\n",
    "assert site == 'GSN', 'This script is only for Gosan, South Korea. The site can be changed in the config file.'\n",
    "\n",
    "compound = config.compound\n",
    "\n",
    "print(f\"Creating a neural network model for \\033[1m{site_name}\\033[0;0m.\")"
   ]
  },
  {
   "cell_type": "markdown",
   "metadata": {},
   "source": [
    "### Loading & Initialising Data"
   ]
  },
  {
   "cell_type": "code",
   "execution_count": 3,
   "metadata": {},
   "outputs": [
    {
     "data": {
      "text/html": [
       "<div>\n",
       "<style scoped>\n",
       "    .dataframe tbody tr th:only-of-type {\n",
       "        vertical-align: middle;\n",
       "    }\n",
       "\n",
       "    .dataframe tbody tr th {\n",
       "        vertical-align: top;\n",
       "    }\n",
       "\n",
       "    .dataframe thead th {\n",
       "        text-align: right;\n",
       "    }\n",
       "</style>\n",
       "<table border=\"1\" class=\"dataframe\">\n",
       "  <thead>\n",
       "    <tr style=\"text-align: right;\">\n",
       "      <th></th>\n",
       "      <th>time</th>\n",
       "      <th>flag</th>\n",
       "      <th>u10_0</th>\n",
       "      <th>u10_1</th>\n",
       "      <th>u10_2</th>\n",
       "      <th>u10_3</th>\n",
       "      <th>u10_4</th>\n",
       "      <th>u10_5</th>\n",
       "      <th>u10_6</th>\n",
       "      <th>u10_7</th>\n",
       "      <th>...</th>\n",
       "      <th>v500_2_past</th>\n",
       "      <th>v500_3_past</th>\n",
       "      <th>v500_4_past</th>\n",
       "      <th>v500_5_past</th>\n",
       "      <th>v500_6_past</th>\n",
       "      <th>v500_7_past</th>\n",
       "      <th>v500_8_past</th>\n",
       "      <th>v500_13_past</th>\n",
       "      <th>v500_14_past</th>\n",
       "      <th>v500_15_past</th>\n",
       "    </tr>\n",
       "  </thead>\n",
       "  <tbody>\n",
       "    <tr>\n",
       "      <th>10563</th>\n",
       "      <td>2017-09-13 09:00:00</td>\n",
       "      <td>0.0</td>\n",
       "      <td>-2.609428</td>\n",
       "      <td>1.836746</td>\n",
       "      <td>-3.713417</td>\n",
       "      <td>-0.680469</td>\n",
       "      <td>-9.099390</td>\n",
       "      <td>-12.245153</td>\n",
       "      <td>-2.496611</td>\n",
       "      <td>-6.098676</td>\n",
       "      <td>...</td>\n",
       "      <td>-4.219768</td>\n",
       "      <td>3.275061</td>\n",
       "      <td>0.365661</td>\n",
       "      <td>2.728879</td>\n",
       "      <td>0.972529</td>\n",
       "      <td>-7.018505</td>\n",
       "      <td>0.960035</td>\n",
       "      <td>0.660170</td>\n",
       "      <td>6.835952</td>\n",
       "      <td>-3.491526</td>\n",
       "    </tr>\n",
       "    <tr>\n",
       "      <th>5930</th>\n",
       "      <td>2012-11-24 19:00:00</td>\n",
       "      <td>1.0</td>\n",
       "      <td>0.413681</td>\n",
       "      <td>-0.206393</td>\n",
       "      <td>3.228936</td>\n",
       "      <td>1.163706</td>\n",
       "      <td>2.120983</td>\n",
       "      <td>-2.472152</td>\n",
       "      <td>0.988943</td>\n",
       "      <td>-3.653484</td>\n",
       "      <td>...</td>\n",
       "      <td>-6.877046</td>\n",
       "      <td>-9.095465</td>\n",
       "      <td>-9.031342</td>\n",
       "      <td>-6.630418</td>\n",
       "      <td>-3.210923</td>\n",
       "      <td>-1.715125</td>\n",
       "      <td>-8.131149</td>\n",
       "      <td>-2.325529</td>\n",
       "      <td>2.142136</td>\n",
       "      <td>8.754229</td>\n",
       "    </tr>\n",
       "    <tr>\n",
       "      <th>8304</th>\n",
       "      <td>2015-02-06 19:00:00</td>\n",
       "      <td>1.0</td>\n",
       "      <td>4.687213</td>\n",
       "      <td>0.315978</td>\n",
       "      <td>3.011539</td>\n",
       "      <td>0.975310</td>\n",
       "      <td>1.086717</td>\n",
       "      <td>1.564251</td>\n",
       "      <td>0.801615</td>\n",
       "      <td>3.099653</td>\n",
       "      <td>...</td>\n",
       "      <td>-6.636755</td>\n",
       "      <td>2.036558</td>\n",
       "      <td>1.079724</td>\n",
       "      <td>-2.395095</td>\n",
       "      <td>-10.761673</td>\n",
       "      <td>-2.506116</td>\n",
       "      <td>4.421777</td>\n",
       "      <td>0.236199</td>\n",
       "      <td>-0.659975</td>\n",
       "      <td>-9.942183</td>\n",
       "    </tr>\n",
       "    <tr>\n",
       "      <th>6188</th>\n",
       "      <td>2013-01-24 19:00:00</td>\n",
       "      <td>1.0</td>\n",
       "      <td>5.317689</td>\n",
       "      <td>4.106913</td>\n",
       "      <td>13.940696</td>\n",
       "      <td>5.090399</td>\n",
       "      <td>8.759352</td>\n",
       "      <td>3.373338</td>\n",
       "      <td>-1.229010</td>\n",
       "      <td>0.577459</td>\n",
       "      <td>...</td>\n",
       "      <td>-3.243907</td>\n",
       "      <td>-12.138292</td>\n",
       "      <td>-7.066109</td>\n",
       "      <td>-1.222018</td>\n",
       "      <td>1.262292</td>\n",
       "      <td>-7.722409</td>\n",
       "      <td>-1.843397</td>\n",
       "      <td>2.179909</td>\n",
       "      <td>-0.775252</td>\n",
       "      <td>0.265196</td>\n",
       "    </tr>\n",
       "    <tr>\n",
       "      <th>10047</th>\n",
       "      <td>2017-02-09 03:00:00</td>\n",
       "      <td>1.0</td>\n",
       "      <td>6.381633</td>\n",
       "      <td>5.105897</td>\n",
       "      <td>-7.083622</td>\n",
       "      <td>5.546649</td>\n",
       "      <td>10.176229</td>\n",
       "      <td>7.038685</td>\n",
       "      <td>1.185165</td>\n",
       "      <td>8.332647</td>\n",
       "      <td>...</td>\n",
       "      <td>8.384868</td>\n",
       "      <td>13.421393</td>\n",
       "      <td>5.452887</td>\n",
       "      <td>1.159715</td>\n",
       "      <td>-17.862825</td>\n",
       "      <td>-6.004508</td>\n",
       "      <td>-13.000562</td>\n",
       "      <td>1.730025</td>\n",
       "      <td>-6.273821</td>\n",
       "      <td>-16.461422</td>\n",
       "    </tr>\n",
       "  </tbody>\n",
       "</table>\n",
       "<p>5 rows × 150 columns</p>\n",
       "</div>"
      ],
      "text/plain": [
       "                     time  flag     u10_0     u10_1      u10_2     u10_3  \\\n",
       "10563 2017-09-13 09:00:00   0.0 -2.609428  1.836746  -3.713417 -0.680469   \n",
       "5930  2012-11-24 19:00:00   1.0  0.413681 -0.206393   3.228936  1.163706   \n",
       "8304  2015-02-06 19:00:00   1.0  4.687213  0.315978   3.011539  0.975310   \n",
       "6188  2013-01-24 19:00:00   1.0  5.317689  4.106913  13.940696  5.090399   \n",
       "10047 2017-02-09 03:00:00   1.0  6.381633  5.105897  -7.083622  5.546649   \n",
       "\n",
       "           u10_4      u10_5     u10_6     u10_7  ...  v500_2_past  \\\n",
       "10563  -9.099390 -12.245153 -2.496611 -6.098676  ...    -4.219768   \n",
       "5930    2.120983  -2.472152  0.988943 -3.653484  ...    -6.877046   \n",
       "8304    1.086717   1.564251  0.801615  3.099653  ...    -6.636755   \n",
       "6188    8.759352   3.373338 -1.229010  0.577459  ...    -3.243907   \n",
       "10047  10.176229   7.038685  1.185165  8.332647  ...     8.384868   \n",
       "\n",
       "       v500_3_past  v500_4_past  v500_5_past  v500_6_past  v500_7_past  \\\n",
       "10563     3.275061     0.365661     2.728879     0.972529    -7.018505   \n",
       "5930     -9.095465    -9.031342    -6.630418    -3.210923    -1.715125   \n",
       "8304      2.036558     1.079724    -2.395095   -10.761673    -2.506116   \n",
       "6188    -12.138292    -7.066109    -1.222018     1.262292    -7.722409   \n",
       "10047    13.421393     5.452887     1.159715   -17.862825    -6.004508   \n",
       "\n",
       "       v500_8_past  v500_13_past  v500_14_past  v500_15_past  \n",
       "10563     0.960035      0.660170      6.835952     -3.491526  \n",
       "5930     -8.131149     -2.325529      2.142136      8.754229  \n",
       "8304      4.421777      0.236199     -0.659975     -9.942183  \n",
       "6188     -1.843397      2.179909     -0.775252      0.265196  \n",
       "10047   -13.000562      1.730025     -6.273821    -16.461422  \n",
       "\n",
       "[5 rows x 150 columns]"
      ]
     },
     "execution_count": 3,
     "metadata": {},
     "output_type": "execute_result"
    }
   ],
   "source": [
    "data = pd.read_csv(data_path/f'for_model_{compound}_{site}.csv', parse_dates=['time'])\n",
    "data.sample(5)"
   ]
  },
  {
   "cell_type": "code",
   "execution_count": 4,
   "metadata": {},
   "outputs": [
    {
     "name": "stdout",
     "output_type": "stream",
     "text": [
      "Train range: 2009-01-01 01:00:00 -> 2013-12-30 09:00:00. Length: 5763\n",
      "Val range: 2014-01-03 19:00:00 -> 2014-12-31 23:00:00. Length: 933\n",
      "Test range: 2015-01-01 01:00:00 -> 2017-12-31 23:00:00. Length: 2824\n"
     ]
    }
   ],
   "source": [
    "train_data = data[(data['time'].dt.year >= 2009) & (data['time'].dt.year <= 2013)]\n",
    "val_data = data[(data['time'].dt.year >= 2014) & (data['time'].dt.year <= 2014)]\n",
    "test_data = data[(data['time'].dt.year >= 2015) & (data['time'].dt.year <= 2017)]\n",
    "\n",
    "print(f\"Train range: {train_data['time'].min()} -> {train_data['time'].max()}. Length: {len(train_data)}\")\n",
    "print(f\"Val range: {val_data['time'].min()} -> {val_data['time'].max()}. Length: {len(val_data)}\")\n",
    "print(f\"Test range: {test_data['time'].min()} -> {test_data['time'].max()}. Length: {len(test_data)}\")\n",
    "\n",
    "\n",
    "# Drop the \"time\" column as it won't be used in the model\n",
    "train_data = train_data.drop(columns=['time'])\n",
    "val_data = val_data.drop(columns=['time'])\n",
    "test_data = test_data.drop(columns=['time'])\n",
    "\n",
    "# Define the features (X) and the target (y)\n",
    "X_train = train_data.drop(columns=['flag'])\n",
    "y_train = train_data['flag']\n",
    "X_val = val_data.drop(columns=['flag'])\n",
    "y_val = val_data['flag']\n",
    "X_test = test_data.drop(columns=['flag'])\n",
    "y_test = test_data['flag']\n",
    "\n",
    "# Balanced Data - removing NaN values and associated data\n",
    "y_train = y_train.dropna()\n",
    "y_val = y_val.dropna()\n",
    "y_test = y_test.dropna()\n",
    "\n",
    "# aligning indices of features sets\n",
    "X_train = X_train.loc[y_train.index]\n",
    "X_val = X_val.loc[y_val.index]\n",
    "X_test = X_test.loc[y_test.index]"
   ]
  },
  {
   "cell_type": "markdown",
   "metadata": {},
   "source": [
    "### Model"
   ]
  },
  {
   "cell_type": "code",
   "execution_count": 27,
   "metadata": {},
   "outputs": [
    {
     "name": "stdout",
     "output_type": "stream",
     "text": [
      "Precision on Training Set = 0.905\n",
      "Precision on Validation Set = 0.879\n",
      "Recall on Training Set = 0.715\n",
      "Recall on Validation Set = 0.773\n",
      "F1 Score on Training Set = 0.799\n",
      "F1 Score on Validation Set = 0.823\n"
     ]
    }
   ],
   "source": [
    "nn_model = MLPClassifier(random_state=42,\n",
    "                         max_iter=1000, \n",
    "                         hidden_layer_sizes=(100,), \n",
    "                         shuffle=False,\n",
    "                         activation='relu', \n",
    "                         solver='adam', \n",
    "                         alpha=0.0001, \n",
    "                         learning_rate='constant', \n",
    "                         batch_size=100, \n",
    "                         early_stopping=False,\n",
    "                         learning_rate_init=0.0001,\n",
    "                         beta_2=0.9,)\n",
    "\n",
    "nn_model.fit(X_train, y_train)\n",
    "\n",
    "y_pred_val = nn_model.predict(X_val)\n",
    "y_pred_train = nn_model.predict(X_train)\n",
    "\n",
    "\n",
    "precision_val = precision_score(y_val, y_pred_val)\n",
    "precision_train = precision_score(y_train, y_pred_train)\n",
    "recall_val = recall_score(y_val, y_pred_val)\n",
    "recall_train = recall_score(y_train, y_pred_train)\n",
    "f1_val = f1_score(y_val, y_pred_val)\n",
    "f1_train = f1_score(y_train, y_pred_train)\n",
    "\n",
    "print(f\"Precision on Training Set = {precision_train:.3f}\")\n",
    "print(f\"Precision on Validation Set = {precision_val:.3f}\")\n",
    "print(f\"Recall on Training Set = {recall_train:.3f}\")\n",
    "print(f\"Recall on Validation Set = {recall_val:.3f}\")\n",
    "print(f\"F1 Score on Training Set = {f1_train:.3f}\")\n",
    "print(f\"F1 Score on Validation Set = {f1_val:.3f}\")"
   ]
  },
  {
   "cell_type": "code",
   "execution_count": 28,
   "metadata": {},
   "outputs": [
    {
     "name": "stdout",
     "output_type": "stream",
     "text": [
      "Precision on Testing Set = 0.890\n",
      "Recall on Testing Set = 0.770\n",
      "F1 Score on Testing Set = 0.826\n"
     ]
    }
   ],
   "source": [
    "# evaluating model on test set\n",
    "y_pred_test = nn_model.predict(X_test)\n",
    "\n",
    "precision_test = precision_score(y_test, y_pred_test)\n",
    "recall_test = recall_score(y_test, y_pred_test)\n",
    "f1_test = f1_score(y_test, y_pred_test)\n",
    "\n",
    "print(f\"Precision on Testing Set = {precision_test:.3f}\")\n",
    "print(f\"Recall on Testing Set = {recall_test:.3f}\")\n",
    "print(f\"F1 Score on Testing Set = {f1_test:.3f}\")"
   ]
  },
  {
   "cell_type": "code",
   "execution_count": 26,
   "metadata": {},
   "outputs": [
    {
     "data": {
      "text/plain": [
       "['C:\\\\Users\\\\kirst\\\\OneDrive\\\\Kirstin\\\\Uni\\\\Year4\\\\MSciProject\\\\data_files\\\\saved_files\\\\nn_model_GSN.joblib']"
      ]
     },
     "execution_count": 26,
     "metadata": {},
     "output_type": "execute_result"
    }
   ],
   "source": [
    "# saving the model\n",
    "dump(nn_model, data_path/f'nn_model_GSN.joblib')"
   ]
  },
  {
   "cell_type": "markdown",
   "metadata": {},
   "source": [
    "### Assessing Feature Importance"
   ]
  },
  {
   "cell_type": "code",
   "execution_count": 29,
   "metadata": {},
   "outputs": [],
   "source": [
    "# finding most important features in the model using permutation importance\n",
    "# using the testing set\n",
    "perm_importance = permutation_importance(nn_model, X_train, y_train, n_repeats=30, random_state=42)\n",
    "sorted_importances = perm_importance.importances_mean.argsort()"
   ]
  },
  {
   "cell_type": "code",
   "execution_count": 32,
   "metadata": {},
   "outputs": [
    {
     "data": {
      "text/plain": [
       "Text(0.5, 1.0, 'Permutation Importance (Testing Set)')"
      ]
     },
     "execution_count": 32,
     "metadata": {},
     "output_type": "execute_result"
    },
    {
     "data": {
      "image/png": "[encoded data removed]",
      "text/plain": [
       "<Figure size 1000x1000 with 1 Axes>"
      ]
     },
     "metadata": {},
     "output_type": "display_data"
    }
   ],
   "source": [
    "# plotting first 20 most important features in a histogram\n",
    "\n",
    "fig, ax = plt.subplots(figsize=(10, 10))\n",
    "sns.set(style=\"whitegrid\")\n",
    "sns.set_palette(\"viridis\")\n",
    "\n",
    "ax.barh(X_val.columns[sorted_importances][-20:], perm_importance.importances_mean[sorted_importances][-20:])\n",
    "\n",
    "ax.set_xscale('log')\n",
    "\n",
    "ax.set_ylabel('Features')\n",
    "ax.set_xlabel('Permutation Importance')\n",
    "ax.set_title('Permutation Importance (Testing Set)', fontsize=14)"
   ]
  }
 ],
 "metadata": {
  "kernelspec": {
   "display_name": "venv",
   "language": "python",
   "name": "python3"
  },
  "language_info": {
   "codemirror_mode": {
    "name": "ipython",
    "version": 3
   },
   "file_extension": ".py",
   "mimetype": "text/x-python",
   "name": "python",
   "nbconvert_exporter": "python",
   "pygments_lexer": "ipython3",
   "version": "3.11.8"
  }
 },
 "nbformat": 4,
 "nbformat_minor": 2
}
