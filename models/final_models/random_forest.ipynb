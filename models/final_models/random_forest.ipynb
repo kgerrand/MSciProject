{
 "cells": [
  {
   "cell_type": "markdown",
   "metadata": {},
   "source": [
    "# Random Forest Final Model"
   ]
  },
  {
   "cell_type": "code",
   "execution_count": 2,
   "metadata": {},
   "outputs": [],
   "source": [
    "import pandas as pd\n",
    "from sklearn.ensemble import RandomForestClassifier\n",
    "from sklearn.metrics import precision_score, recall_score, f1_score\n",
    "from joblib import dump\n",
    "import matplotlib.pyplot as plt\n",
    "import seaborn as sns\n",
    "from pathlib import Path\n",
    "\n",
    "import sys\n",
    "sys.path.append('../../')\n",
    "import config\n",
    "\n",
    "data_path = Path.home()/'OneDrive'/'Kirstin'/'Uni'/'Year4'/'MSciProject'/'data_files'/'saved_files'"
   ]
  },
  {
   "cell_type": "code",
   "execution_count": 3,
   "metadata": {},
   "outputs": [
    {
     "name": "stdout",
     "output_type": "stream",
     "text": [
      "Exploring ch2cl2 at Mace Head, Ireland.\n"
     ]
    }
   ],
   "source": [
    "site = config.site\n",
    "site_name = config.site_dict[site]\n",
    "compound = config.compound\n",
    "\n",
    "print(f\"Exploring {compound} at {site_name}.\")"
   ]
  },
  {
   "cell_type": "markdown",
   "metadata": {},
   "source": [
    "### Loading & Initialising Data"
   ]
  },
  {
   "cell_type": "code",
   "execution_count": 4,
   "metadata": {},
   "outputs": [
    {
     "data": {
      "text/html": [
       "<div>\n",
       "<style scoped>\n",
       "    .dataframe tbody tr th:only-of-type {\n",
       "        vertical-align: middle;\n",
       "    }\n",
       "\n",
       "    .dataframe tbody tr th {\n",
       "        vertical-align: top;\n",
       "    }\n",
       "\n",
       "    .dataframe thead th {\n",
       "        text-align: right;\n",
       "    }\n",
       "</style>\n",
       "<table border=\"1\" class=\"dataframe\">\n",
       "  <thead>\n",
       "    <tr style=\"text-align: right;\">\n",
       "      <th></th>\n",
       "      <th>time</th>\n",
       "      <th>PC1</th>\n",
       "      <th>PC2</th>\n",
       "      <th>PC3</th>\n",
       "      <th>PC4</th>\n",
       "      <th>PC5</th>\n",
       "      <th>PC6</th>\n",
       "      <th>PC7</th>\n",
       "      <th>PC8</th>\n",
       "      <th>PC9</th>\n",
       "      <th>...</th>\n",
       "      <th>PC12</th>\n",
       "      <th>PC13</th>\n",
       "      <th>PC14</th>\n",
       "      <th>PC15</th>\n",
       "      <th>PC16</th>\n",
       "      <th>PC17</th>\n",
       "      <th>PC18</th>\n",
       "      <th>PC19</th>\n",
       "      <th>PC20</th>\n",
       "      <th>flag</th>\n",
       "    </tr>\n",
       "  </thead>\n",
       "  <tbody>\n",
       "    <tr>\n",
       "      <th>10296</th>\n",
       "      <td>2010-05-02 19:50:00</td>\n",
       "      <td>-13.503289</td>\n",
       "      <td>2.434403</td>\n",
       "      <td>2.257658</td>\n",
       "      <td>0.054526</td>\n",
       "      <td>1.419001</td>\n",
       "      <td>0.258298</td>\n",
       "      <td>1.381002</td>\n",
       "      <td>1.358031</td>\n",
       "      <td>1.146720</td>\n",
       "      <td>...</td>\n",
       "      <td>0.169676</td>\n",
       "      <td>0.130085</td>\n",
       "      <td>1.592792</td>\n",
       "      <td>0.577859</td>\n",
       "      <td>1.057431</td>\n",
       "      <td>0.276520</td>\n",
       "      <td>0.403748</td>\n",
       "      <td>1.135829</td>\n",
       "      <td>0.077331</td>\n",
       "      <td>1.0</td>\n",
       "    </tr>\n",
       "    <tr>\n",
       "      <th>10250</th>\n",
       "      <td>2010-04-04 14:21:00</td>\n",
       "      <td>-1.135578</td>\n",
       "      <td>0.396661</td>\n",
       "      <td>1.063558</td>\n",
       "      <td>4.075485</td>\n",
       "      <td>5.977330</td>\n",
       "      <td>2.461019</td>\n",
       "      <td>-3.326527</td>\n",
       "      <td>-1.797675</td>\n",
       "      <td>0.282842</td>\n",
       "      <td>...</td>\n",
       "      <td>-1.777167</td>\n",
       "      <td>-0.242580</td>\n",
       "      <td>-0.721334</td>\n",
       "      <td>0.234011</td>\n",
       "      <td>-0.612741</td>\n",
       "      <td>0.375524</td>\n",
       "      <td>0.666086</td>\n",
       "      <td>0.533747</td>\n",
       "      <td>0.784977</td>\n",
       "      <td>1.0</td>\n",
       "    </tr>\n",
       "    <tr>\n",
       "      <th>9524</th>\n",
       "      <td>2009-07-02 22:41:00</td>\n",
       "      <td>0.936018</td>\n",
       "      <td>11.653263</td>\n",
       "      <td>2.998928</td>\n",
       "      <td>0.077999</td>\n",
       "      <td>0.473669</td>\n",
       "      <td>0.459048</td>\n",
       "      <td>-0.504847</td>\n",
       "      <td>-0.119139</td>\n",
       "      <td>1.009601</td>\n",
       "      <td>...</td>\n",
       "      <td>-0.583314</td>\n",
       "      <td>-0.627178</td>\n",
       "      <td>-0.427016</td>\n",
       "      <td>-0.577548</td>\n",
       "      <td>-1.920058</td>\n",
       "      <td>-0.492567</td>\n",
       "      <td>-0.253626</td>\n",
       "      <td>1.790473</td>\n",
       "      <td>0.219491</td>\n",
       "      <td>0.0</td>\n",
       "    </tr>\n",
       "    <tr>\n",
       "      <th>12109</th>\n",
       "      <td>2011-12-24 16:19:00</td>\n",
       "      <td>5.070052</td>\n",
       "      <td>-7.149243</td>\n",
       "      <td>-7.390926</td>\n",
       "      <td>-0.871966</td>\n",
       "      <td>1.242856</td>\n",
       "      <td>-0.397560</td>\n",
       "      <td>1.875728</td>\n",
       "      <td>0.313298</td>\n",
       "      <td>0.052109</td>\n",
       "      <td>...</td>\n",
       "      <td>1.311766</td>\n",
       "      <td>-0.524631</td>\n",
       "      <td>1.054252</td>\n",
       "      <td>-1.097402</td>\n",
       "      <td>-1.013153</td>\n",
       "      <td>-1.932349</td>\n",
       "      <td>0.088072</td>\n",
       "      <td>0.614058</td>\n",
       "      <td>-0.849371</td>\n",
       "      <td>1.0</td>\n",
       "    </tr>\n",
       "    <tr>\n",
       "      <th>6843</th>\n",
       "      <td>2007-01-24 12:27:00</td>\n",
       "      <td>-17.077004</td>\n",
       "      <td>3.202798</td>\n",
       "      <td>1.937862</td>\n",
       "      <td>-0.473748</td>\n",
       "      <td>-0.976504</td>\n",
       "      <td>-2.881753</td>\n",
       "      <td>0.000075</td>\n",
       "      <td>1.236787</td>\n",
       "      <td>-1.290514</td>\n",
       "      <td>...</td>\n",
       "      <td>-0.637460</td>\n",
       "      <td>-0.916590</td>\n",
       "      <td>2.811722</td>\n",
       "      <td>2.443556</td>\n",
       "      <td>-0.312029</td>\n",
       "      <td>0.799701</td>\n",
       "      <td>-1.215974</td>\n",
       "      <td>0.401403</td>\n",
       "      <td>0.922003</td>\n",
       "      <td>0.0</td>\n",
       "    </tr>\n",
       "  </tbody>\n",
       "</table>\n",
       "<p>5 rows × 22 columns</p>\n",
       "</div>"
      ],
      "text/plain": [
       "                     time        PC1        PC2       PC3       PC4       PC5  \\\n",
       "10296 2010-05-02 19:50:00 -13.503289   2.434403  2.257658  0.054526  1.419001   \n",
       "10250 2010-04-04 14:21:00  -1.135578   0.396661  1.063558  4.075485  5.977330   \n",
       "9524  2009-07-02 22:41:00   0.936018  11.653263  2.998928  0.077999  0.473669   \n",
       "12109 2011-12-24 16:19:00   5.070052  -7.149243 -7.390926 -0.871966  1.242856   \n",
       "6843  2007-01-24 12:27:00 -17.077004   3.202798  1.937862 -0.473748 -0.976504   \n",
       "\n",
       "            PC6       PC7       PC8       PC9  ...      PC12      PC13  \\\n",
       "10296  0.258298  1.381002  1.358031  1.146720  ...  0.169676  0.130085   \n",
       "10250  2.461019 -3.326527 -1.797675  0.282842  ... -1.777167 -0.242580   \n",
       "9524   0.459048 -0.504847 -0.119139  1.009601  ... -0.583314 -0.627178   \n",
       "12109 -0.397560  1.875728  0.313298  0.052109  ...  1.311766 -0.524631   \n",
       "6843  -2.881753  0.000075  1.236787 -1.290514  ... -0.637460 -0.916590   \n",
       "\n",
       "           PC14      PC15      PC16      PC17      PC18      PC19      PC20  \\\n",
       "10296  1.592792  0.577859  1.057431  0.276520  0.403748  1.135829  0.077331   \n",
       "10250 -0.721334  0.234011 -0.612741  0.375524  0.666086  0.533747  0.784977   \n",
       "9524  -0.427016 -0.577548 -1.920058 -0.492567 -0.253626  1.790473  0.219491   \n",
       "12109  1.054252 -1.097402 -1.013153 -1.932349  0.088072  0.614058 -0.849371   \n",
       "6843   2.811722  2.443556 -0.312029  0.799701 -1.215974  0.401403  0.922003   \n",
       "\n",
       "       flag  \n",
       "10296   1.0  \n",
       "10250   1.0  \n",
       "9524    0.0  \n",
       "12109   1.0  \n",
       "6843    0.0  \n",
       "\n",
       "[5 rows x 22 columns]"
      ]
     },
     "execution_count": 4,
     "metadata": {},
     "output_type": "execute_result"
    }
   ],
   "source": [
    "data = pd.read_csv(data_path/'for_model_pca.csv', parse_dates=['time'])\n",
    "data.sample(5)"
   ]
  },
  {
   "cell_type": "code",
   "execution_count": 5,
   "metadata": {},
   "outputs": [
    {
     "name": "stdout",
     "output_type": "stream",
     "text": [
      "Train range: 2010-01-02 04:02:00 -> 2012-12-31 22:29:00. Length: 3295\n",
      "Val range: 2013-01-01 00:29:00 -> 2013-12-30 09:25:00. Length: 847\n",
      "Test range: 2014-01-02 20:09:00 -> 2016-12-31 21:51:00. Length: 3285\n"
     ]
    }
   ],
   "source": [
    "if compound == 'ch2cl2':\n",
    "    train_data = data[(data['time'].dt.year >= 2010) & (data['time'].dt.year <= 2012)]\n",
    "    val_data = data[(data['time'].dt.year >= 2013) & (data['time'].dt.year <= 2013)]\n",
    "    test_data = data[(data['time'].dt.year >= 2014) & (data['time'].dt.year <= 2016)]\n",
    "\n",
    "else:\n",
    "    train_data = data[(data['time'].dt.year >= 2016) & (data['time'].dt.year <= 2018)]\n",
    "    val_data = data[(data['time'].dt.year >= 2019) & (data['time'].dt.year <= 2019)]\n",
    "    test_data = data[(data['time'].dt.year >= 2020) & (data['time'].dt.year <= 2023)]\n",
    "\n",
    "print(f\"Train range: {train_data['time'].min()} -> {train_data['time'].max()}. Length: {len(train_data)}\")\n",
    "print(f\"Val range: {val_data['time'].min()} -> {val_data['time'].max()}. Length: {len(val_data)}\")\n",
    "print(f\"Test range: {test_data['time'].min()} -> {test_data['time'].max()}. Length: {len(test_data)}\")\n",
    "\n",
    "# Drop the \"time\" column as it won't be used in the model\n",
    "train_data = train_data.drop(columns=['time'])\n",
    "val_data = val_data.drop(columns=['time'])\n",
    "test_data = test_data.drop(columns=['time'])\n",
    "\n",
    "\n",
    "# Define the features (X) and the target (y)\n",
    "X_train = train_data.drop(columns=['flag'])\n",
    "y_train = train_data['flag']\n",
    "X_val = val_data.drop(columns=['flag'])\n",
    "y_val = val_data['flag']\n",
    "X_test = test_data.drop(columns=['flag'])\n",
    "y_test = test_data['flag']\n",
    "\n",
    "\n",
    "# Balanced Data - removing NaN values and associated data\n",
    "y_train = y_train.dropna()\n",
    "y_val = y_val.dropna()\n",
    "y_test = y_test.dropna()\n",
    "\n",
    "# aligning indices of features sets\n",
    "X_train = X_train.loc[y_train.index]\n",
    "X_val = X_val.loc[y_val.index]\n",
    "X_test = X_test.loc[y_test.index]"
   ]
  },
  {
   "cell_type": "markdown",
   "metadata": {},
   "source": [
    "### Model"
   ]
  },
  {
   "cell_type": "code",
   "execution_count": 6,
   "metadata": {},
   "outputs": [
    {
     "name": "stdout",
     "output_type": "stream",
     "text": [
      "Precision on Training Set = 0.953\n",
      "Precision on Validation Set = 0.948\n",
      "Recall on Training Set = 0.818\n",
      "Recall on Validation Set = 0.773\n",
      "F1 Score on Training Set = 0.881\n",
      "F1 Score on Validation Set = 0.851\n"
     ]
    }
   ],
   "source": [
    "# fitting models based on optimal hyperparameters\n",
    "\n",
    "rf_model = RandomForestClassifier(random_state=42,\n",
    "                                  n_estimators=100,\n",
    "                                  max_depth=5,\n",
    "                                  criterion='entropy',\n",
    "                                  bootstrap=False,)\n",
    "\n",
    "rf_model.fit(X_train, y_train)\n",
    "\n",
    "class_probabilities_val = rf_model.predict_proba(X_val)\n",
    "class_probabilites_train = rf_model.predict_proba(X_train)\n",
    "\n",
    "confidence_threshold = config.confidence_threshold\n",
    "\n",
    "y_pred_val = (class_probabilities_val[:, 1] >= confidence_threshold).astype(int)\n",
    "y_pred_train = (class_probabilites_train[:, 1] >= confidence_threshold).astype(int)\n",
    "\n",
    "\n",
    "precision_val = precision_score(y_val, y_pred_val)\n",
    "precision_train = precision_score(y_train, y_pred_train)\n",
    "recall_val = recall_score(y_val, y_pred_val)\n",
    "recall_train = recall_score(y_train, y_pred_train)\n",
    "f1_val = f1_score(y_val, y_pred_val)\n",
    "f1_train = f1_score(y_train, y_pred_train)\n",
    "\n",
    "print(f\"Precision on Training Set = {precision_train:.3f}\")\n",
    "print(f\"Precision on Validation Set = {precision_val:.3f}\")\n",
    "print(f\"Recall on Training Set = {recall_train:.3f}\")\n",
    "print(f\"Recall on Validation Set = {recall_val:.3f}\")\n",
    "print(f\"F1 Score on Training Set = {f1_train:.3f}\")\n",
    "print(f\"F1 Score on Validation Set = {f1_val:.3f}\")"
   ]
  },
  {
   "cell_type": "code",
   "execution_count": 18,
   "metadata": {},
   "outputs": [
    {
     "name": "stderr",
     "output_type": "stream",
     "text": [
      "C:\\Users\\kirst\\AppData\\Local\\Temp\\ipykernel_4784\\3156113180.py:23: UserWarning: set_ticklabels() should only be used with a fixed number of ticks, i.e. after set_ticks() or using a FixedLocator.\n",
      "  ax.set_yticklabels(feature_importances.index)\n"
     ]
    },
    {
     "data": {
      "image/png": "[encoded data removed]",
      "text/plain": [
       "<Figure size 1000x1000 with 1 Axes>"
      ]
     },
     "metadata": {},
     "output_type": "display_data"
    }
   ],
   "source": [
    "# finding most important features in the model\n",
    "\n",
    "feature_importances = pd.DataFrame(rf_model.feature_importances_,\n",
    "                                   index = X_train.columns,\n",
    "                                   columns=['importance']).sort_values('importance', ascending=False)\n",
    "\n",
    "fig, ax = plt.subplots(figsize=(10, 10))\n",
    "sns.set(style='whitegrid')\n",
    "sns.set_palette(\"viridis\")\n",
    "\n",
    "# sorting feature importances\n",
    "feature_importances = feature_importances.sort_values('importance', ascending=True)\n",
    "\n",
    "# bar chart of feature importances\n",
    "ax.barh(feature_importances.index, feature_importances['importance'])\n",
    "\n",
    "# making y axis logaritmic\n",
    "ax.set_xscale('log')\n",
    "\n",
    "ax.set_ylabel('Feature')\n",
    "ax.set_xlabel('Importance')\n",
    "ax.set_title('Feature Importances', fontsize=14)\n",
    "ax.set_yticklabels(feature_importances.index)\n",
    "\n",
    "fig.tight_layout()"
   ]
  },
  {
   "cell_type": "code",
   "execution_count": 8,
   "metadata": {},
   "outputs": [
    {
     "name": "stdout",
     "output_type": "stream",
     "text": [
      "Precision on Test Set = 0.929\n",
      "Recall on Test Set = 0.742\n",
      "F1 Score on Test Set = 0.825\n"
     ]
    }
   ],
   "source": [
    "# evaluating the model on the test set\n",
    "\n",
    "class_probabilities_test = rf_model.predict_proba(X_test)\n",
    "\n",
    "y_pred_test = (class_probabilities_test[:, 1] >= confidence_threshold).astype(int)\n",
    "\n",
    "precision_test = precision_score(y_test, y_pred_test)\n",
    "recall_test = recall_score(y_test, y_pred_test)\n",
    "f1_test = f1_score(y_test, y_pred_test)\n",
    "\n",
    "print(f\"Precision on Test Set = {precision_test:.3f}\")\n",
    "print(f\"Recall on Test Set = {recall_test:.3f}\")\n",
    "print(f\"F1 Score on Test Set = {f1_test:.3f}\")"
   ]
  },
  {
   "cell_type": "code",
   "execution_count": 9,
   "metadata": {},
   "outputs": [
    {
     "data": {
      "text/plain": [
       "['C:\\\\Users\\\\kirst\\\\OneDrive\\\\Kirstin\\\\Uni\\\\Year4\\\\MSciProject\\\\data_files\\\\saved_files\\\\rf_model.joblib']"
      ]
     },
     "execution_count": 9,
     "metadata": {},
     "output_type": "execute_result"
    }
   ],
   "source": [
    "# saving model\n",
    "\n",
    "dump(rf_model, data_path/'rf_model.joblib')"
   ]
  }
 ],
 "metadata": {
  "kernelspec": {
   "display_name": "venv",
   "language": "python",
   "name": "python3"
  },
  "language_info": {
   "codemirror_mode": {
    "name": "ipython",
    "version": 3
   },
   "file_extension": ".py",
   "mimetype": "text/x-python",
   "name": "python",
   "nbconvert_exporter": "python",
   "pygments_lexer": "ipython3",
   "version": "3.11.8"
  }
 },
 "nbformat": 4,
 "nbformat_minor": 2
}
