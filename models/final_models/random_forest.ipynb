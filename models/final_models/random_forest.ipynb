{
 "cells": [
  {
   "cell_type": "markdown",
   "metadata": {},
   "source": [
    "# Random Forest Final Model"
   ]
  },
  {
   "cell_type": "code",
   "execution_count": 2,
   "metadata": {},
   "outputs": [],
   "source": [
    "import pandas as pd\n",
    "from sklearn.ensemble import RandomForestClassifier\n",
    "from sklearn.metrics import precision_score, recall_score, f1_score\n",
    "from joblib import dump\n",
    "import matplotlib.pyplot as plt\n",
    "import seaborn as sns\n",
    "from pathlib import Path\n",
    "\n",
    "import sys\n",
    "sys.path.append('../../')\n",
    "import config\n",
    "\n",
    "data_path = Path.home()/'OneDrive'/'Kirstin'/'Uni'/'Year4'/'MSciProject'/'data_files'/'saved_files'"
   ]
  },
  {
   "cell_type": "code",
   "execution_count": 3,
   "metadata": {},
   "outputs": [
    {
     "name": "stdout",
     "output_type": "stream",
     "text": [
      "Creating a random forest model for \u001b[1mMace Head, Ireland\u001b[0;0m.\n"
     ]
    }
   ],
   "source": [
    "site = config.site\n",
    "site_name = config.site_dict[site]\n",
    "compound = config.compound\n",
    "\n",
    "print(f\"Creating a random forest model for \\033[1m{site_name}\\033[0;0m.\")"
   ]
  },
  {
   "cell_type": "markdown",
   "metadata": {},
   "source": [
    "### Loading & Initialising Data"
   ]
  },
  {
   "cell_type": "code",
   "execution_count": 4,
   "metadata": {},
   "outputs": [
    {
     "data": {
      "text/html": [
       "<div>\n",
       "<style scoped>\n",
       "    .dataframe tbody tr th:only-of-type {\n",
       "        vertical-align: middle;\n",
       "    }\n",
       "\n",
       "    .dataframe tbody tr th {\n",
       "        vertical-align: top;\n",
       "    }\n",
       "\n",
       "    .dataframe thead th {\n",
       "        text-align: right;\n",
       "    }\n",
       "</style>\n",
       "<table border=\"1\" class=\"dataframe\">\n",
       "  <thead>\n",
       "    <tr style=\"text-align: right;\">\n",
       "      <th></th>\n",
       "      <th>time</th>\n",
       "      <th>PC1</th>\n",
       "      <th>PC2</th>\n",
       "      <th>PC3</th>\n",
       "      <th>PC4</th>\n",
       "      <th>PC5</th>\n",
       "      <th>PC6</th>\n",
       "      <th>PC7</th>\n",
       "      <th>PC8</th>\n",
       "      <th>PC9</th>\n",
       "      <th>...</th>\n",
       "      <th>PC12</th>\n",
       "      <th>PC13</th>\n",
       "      <th>PC14</th>\n",
       "      <th>PC15</th>\n",
       "      <th>PC16</th>\n",
       "      <th>PC17</th>\n",
       "      <th>PC18</th>\n",
       "      <th>PC19</th>\n",
       "      <th>PC20</th>\n",
       "      <th>flag</th>\n",
       "    </tr>\n",
       "  </thead>\n",
       "  <tbody>\n",
       "    <tr>\n",
       "      <th>21080</th>\n",
       "      <td>2004-03-03 17:00:00</td>\n",
       "      <td>1.324973</td>\n",
       "      <td>-6.900644</td>\n",
       "      <td>-0.922967</td>\n",
       "      <td>2.987667</td>\n",
       "      <td>-3.613479</td>\n",
       "      <td>3.577829</td>\n",
       "      <td>2.205443</td>\n",
       "      <td>1.052110</td>\n",
       "      <td>2.353584</td>\n",
       "      <td>...</td>\n",
       "      <td>-0.889925</td>\n",
       "      <td>0.780451</td>\n",
       "      <td>-0.619840</td>\n",
       "      <td>0.513996</td>\n",
       "      <td>0.384157</td>\n",
       "      <td>-0.661107</td>\n",
       "      <td>-2.011763</td>\n",
       "      <td>-0.070103</td>\n",
       "      <td>-0.574646</td>\n",
       "      <td>1.0</td>\n",
       "    </tr>\n",
       "    <tr>\n",
       "      <th>40414</th>\n",
       "      <td>2018-07-28 07:00:00</td>\n",
       "      <td>2.561875</td>\n",
       "      <td>-1.519396</td>\n",
       "      <td>9.665077</td>\n",
       "      <td>-0.859198</td>\n",
       "      <td>-3.373032</td>\n",
       "      <td>-0.357500</td>\n",
       "      <td>-2.426086</td>\n",
       "      <td>-0.677417</td>\n",
       "      <td>-1.440952</td>\n",
       "      <td>...</td>\n",
       "      <td>-1.195705</td>\n",
       "      <td>-0.903818</td>\n",
       "      <td>-1.693662</td>\n",
       "      <td>0.653105</td>\n",
       "      <td>-0.665521</td>\n",
       "      <td>-2.424869</td>\n",
       "      <td>-0.965663</td>\n",
       "      <td>-1.037280</td>\n",
       "      <td>0.026243</td>\n",
       "      <td>1.0</td>\n",
       "    </tr>\n",
       "    <tr>\n",
       "      <th>19183</th>\n",
       "      <td>2002-08-09 05:00:00</td>\n",
       "      <td>-5.258404</td>\n",
       "      <td>1.705915</td>\n",
       "      <td>3.772836</td>\n",
       "      <td>-2.432804</td>\n",
       "      <td>-2.287081</td>\n",
       "      <td>0.572901</td>\n",
       "      <td>-0.888389</td>\n",
       "      <td>1.509090</td>\n",
       "      <td>-2.048877</td>\n",
       "      <td>...</td>\n",
       "      <td>-1.066433</td>\n",
       "      <td>-0.680435</td>\n",
       "      <td>0.528191</td>\n",
       "      <td>0.386422</td>\n",
       "      <td>0.390223</td>\n",
       "      <td>-0.760805</td>\n",
       "      <td>1.269584</td>\n",
       "      <td>-0.527053</td>\n",
       "      <td>-0.298845</td>\n",
       "      <td>1.0</td>\n",
       "    </tr>\n",
       "    <tr>\n",
       "      <th>5557</th>\n",
       "      <td>1992-09-09 15:00:00</td>\n",
       "      <td>5.429634</td>\n",
       "      <td>-1.335752</td>\n",
       "      <td>-6.223217</td>\n",
       "      <td>0.434550</td>\n",
       "      <td>-0.074255</td>\n",
       "      <td>-0.317189</td>\n",
       "      <td>0.236458</td>\n",
       "      <td>0.077190</td>\n",
       "      <td>-3.400387</td>\n",
       "      <td>...</td>\n",
       "      <td>-0.003063</td>\n",
       "      <td>-0.088664</td>\n",
       "      <td>-0.878365</td>\n",
       "      <td>-0.039803</td>\n",
       "      <td>-0.425099</td>\n",
       "      <td>0.382190</td>\n",
       "      <td>0.372125</td>\n",
       "      <td>0.800907</td>\n",
       "      <td>0.871772</td>\n",
       "      <td>1.0</td>\n",
       "    </tr>\n",
       "    <tr>\n",
       "      <th>26461</th>\n",
       "      <td>2007-12-07 17:00:00</td>\n",
       "      <td>-4.055375</td>\n",
       "      <td>10.241556</td>\n",
       "      <td>1.199472</td>\n",
       "      <td>4.614822</td>\n",
       "      <td>-1.746508</td>\n",
       "      <td>-2.732027</td>\n",
       "      <td>-0.494367</td>\n",
       "      <td>0.715782</td>\n",
       "      <td>-0.301527</td>\n",
       "      <td>...</td>\n",
       "      <td>-0.552440</td>\n",
       "      <td>-1.359225</td>\n",
       "      <td>1.017880</td>\n",
       "      <td>-1.269821</td>\n",
       "      <td>0.102481</td>\n",
       "      <td>-0.976515</td>\n",
       "      <td>0.226473</td>\n",
       "      <td>1.101781</td>\n",
       "      <td>0.764818</td>\n",
       "      <td>1.0</td>\n",
       "    </tr>\n",
       "  </tbody>\n",
       "</table>\n",
       "<p>5 rows × 22 columns</p>\n",
       "</div>"
      ],
      "text/plain": [
       "                     time       PC1        PC2       PC3       PC4       PC5  \\\n",
       "21080 2004-03-03 17:00:00  1.324973  -6.900644 -0.922967  2.987667 -3.613479   \n",
       "40414 2018-07-28 07:00:00  2.561875  -1.519396  9.665077 -0.859198 -3.373032   \n",
       "19183 2002-08-09 05:00:00 -5.258404   1.705915  3.772836 -2.432804 -2.287081   \n",
       "5557  1992-09-09 15:00:00  5.429634  -1.335752 -6.223217  0.434550 -0.074255   \n",
       "26461 2007-12-07 17:00:00 -4.055375  10.241556  1.199472  4.614822 -1.746508   \n",
       "\n",
       "            PC6       PC7       PC8       PC9  ...      PC12      PC13  \\\n",
       "21080  3.577829  2.205443  1.052110  2.353584  ... -0.889925  0.780451   \n",
       "40414 -0.357500 -2.426086 -0.677417 -1.440952  ... -1.195705 -0.903818   \n",
       "19183  0.572901 -0.888389  1.509090 -2.048877  ... -1.066433 -0.680435   \n",
       "5557  -0.317189  0.236458  0.077190 -3.400387  ... -0.003063 -0.088664   \n",
       "26461 -2.732027 -0.494367  0.715782 -0.301527  ... -0.552440 -1.359225   \n",
       "\n",
       "           PC14      PC15      PC16      PC17      PC18      PC19      PC20  \\\n",
       "21080 -0.619840  0.513996  0.384157 -0.661107 -2.011763 -0.070103 -0.574646   \n",
       "40414 -1.693662  0.653105 -0.665521 -2.424869 -0.965663 -1.037280  0.026243   \n",
       "19183  0.528191  0.386422  0.390223 -0.760805  1.269584 -0.527053 -0.298845   \n",
       "5557  -0.878365 -0.039803 -0.425099  0.382190  0.372125  0.800907  0.871772   \n",
       "26461  1.017880 -1.269821  0.102481 -0.976515  0.226473  1.101781  0.764818   \n",
       "\n",
       "       flag  \n",
       "21080   1.0  \n",
       "40414   1.0  \n",
       "19183   1.0  \n",
       "5557    1.0  \n",
       "26461   1.0  \n",
       "\n",
       "[5 rows x 22 columns]"
      ]
     },
     "execution_count": 4,
     "metadata": {},
     "output_type": "execute_result"
    }
   ],
   "source": [
    "data = pd.read_csv(data_path/f'for_model_pca_{compound}_{site}.csv', parse_dates=['time'])\n",
    "data.sample(5)"
   ]
  },
  {
   "cell_type": "code",
   "execution_count": 5,
   "metadata": {},
   "outputs": [
    {
     "name": "stdout",
     "output_type": "stream",
     "text": [
      "Train range: 2016-01-01 01:00:00 -> 2018-12-31 01:00:00. Length: 3991\n",
      "Val range: 2019-01-04 05:00:00 -> 2019-12-30 13:00:00. Length: 1067\n",
      "Test range: 2020-01-02 17:00:00 -> 2022-12-31 19:00:00. Length: 3985\n"
     ]
    }
   ],
   "source": [
    "if site == \"MHD\":\n",
    "    train_data = data[(data['time'].dt.year >= 2016) & (data['time'].dt.year <= 2018)]\n",
    "    val_data = data[(data['time'].dt.year >= 2019) & (data['time'].dt.year <= 2019)]\n",
    "    test_data = data[(data['time'].dt.year >= 2020) & (data['time'].dt.year <= 2023)]\n",
    "\n",
    "if site == \"GSN\":\n",
    "    train_data = data[(data['time'].dt.year >= 2011) & (data['time'].dt.year <= 2013)]\n",
    "    val_data = data[(data['time'].dt.year >= 2014) & (data['time'].dt.year <= 2014)]\n",
    "    test_data = data[(data['time'].dt.year >= 2015) & (data['time'].dt.year <= 2017)]\n",
    "\n",
    "\n",
    "print(f\"Train range: {train_data['time'].min()} -> {train_data['time'].max()}. Length: {len(train_data)}\")\n",
    "print(f\"Val range: {val_data['time'].min()} -> {val_data['time'].max()}. Length: {len(val_data)}\")\n",
    "print(f\"Test range: {test_data['time'].min()} -> {test_data['time'].max()}. Length: {len(test_data)}\")\n",
    "\n",
    "\n",
    "# Drop the \"time\" column as it won't be used in the model\n",
    "train_data = train_data.drop(columns=['time'])\n",
    "val_data = val_data.drop(columns=['time'])\n",
    "test_data = test_data.drop(columns=['time'])\n",
    "\n",
    "# Define the features (X) and the target (y)\n",
    "X_train = train_data.drop(columns=['flag'])\n",
    "y_train = train_data['flag']\n",
    "X_val = val_data.drop(columns=['flag'])\n",
    "y_val = val_data['flag']\n",
    "X_test = test_data.drop(columns=['flag'])\n",
    "y_test = test_data['flag']\n",
    "\n",
    "# Balanced Data - removing NaN values and associated data\n",
    "y_train = y_train.dropna()\n",
    "y_val = y_val.dropna()\n",
    "y_test = y_test.dropna()\n",
    "\n",
    "# aligning indices of features sets\n",
    "X_train = X_train.loc[y_train.index]\n",
    "X_val = X_val.loc[y_val.index]\n",
    "X_test = X_test.loc[y_test.index]"
   ]
  },
  {
   "cell_type": "markdown",
   "metadata": {},
   "source": [
    "### Model"
   ]
  },
  {
   "cell_type": "code",
   "execution_count": 6,
   "metadata": {},
   "outputs": [
    {
     "name": "stdout",
     "output_type": "stream",
     "text": [
      "Precision on Training Set = 0.957\n",
      "Precision on Validation Set = 0.895\n",
      "Recall on Training Set = 0.803\n",
      "Recall on Validation Set = 0.726\n",
      "F1 Score on Training Set = 0.873\n",
      "F1 Score on Validation Set = 0.801\n"
     ]
    }
   ],
   "source": [
    "# fitting models based on optimal hyperparameters\n",
    "\n",
    "rf_model = RandomForestClassifier(random_state=42,\n",
    "                                  n_estimators=100,\n",
    "                                  max_depth=5,\n",
    "                                  criterion='entropy',\n",
    "                                  bootstrap=False,)\n",
    "\n",
    "rf_model.fit(X_train, y_train)\n",
    "\n",
    "class_probabilities_val = rf_model.predict_proba(X_val)\n",
    "class_probabilites_train = rf_model.predict_proba(X_train)\n",
    "\n",
    "confidence_threshold = config.confidence_threshold\n",
    "\n",
    "y_pred_val = (class_probabilities_val[:, 1] >= confidence_threshold).astype(int)\n",
    "y_pred_train = (class_probabilites_train[:, 1] >= confidence_threshold).astype(int)\n",
    "\n",
    "\n",
    "precision_val = precision_score(y_val, y_pred_val)\n",
    "precision_train = precision_score(y_train, y_pred_train)\n",
    "recall_val = recall_score(y_val, y_pred_val)\n",
    "recall_train = recall_score(y_train, y_pred_train)\n",
    "f1_val = f1_score(y_val, y_pred_val)\n",
    "f1_train = f1_score(y_train, y_pred_train)\n",
    "\n",
    "print(f\"Precision on Training Set = {precision_train:.3f}\")\n",
    "print(f\"Precision on Validation Set = {precision_val:.3f}\")\n",
    "print(f\"Recall on Training Set = {recall_train:.3f}\")\n",
    "print(f\"Recall on Validation Set = {recall_val:.3f}\")\n",
    "print(f\"F1 Score on Training Set = {f1_train:.3f}\")\n",
    "print(f\"F1 Score on Validation Set = {f1_val:.3f}\")"
   ]
  },
  {
   "cell_type": "code",
   "execution_count": 7,
   "metadata": {},
   "outputs": [
    {
     "name": "stderr",
     "output_type": "stream",
     "text": [
      "C:\\Users\\kirst\\AppData\\Local\\Temp\\ipykernel_3956\\3156113180.py:23: UserWarning: set_ticklabels() should only be used with a fixed number of ticks, i.e. after set_ticks() or using a FixedLocator.\n",
      "  ax.set_yticklabels(feature_importances.index)\n"
     ]
    },
    {
     "data": {
      "image/png": "[encoded data removed]",
      "text/plain": [
       "<Figure size 1000x1000 with 1 Axes>"
      ]
     },
     "metadata": {},
     "output_type": "display_data"
    }
   ],
   "source": [
    "# finding most important features in the model\n",
    "\n",
    "feature_importances = pd.DataFrame(rf_model.feature_importances_,\n",
    "                                   index = X_train.columns,\n",
    "                                   columns=['importance']).sort_values('importance', ascending=False)\n",
    "\n",
    "fig, ax = plt.subplots(figsize=(10, 10))\n",
    "sns.set(style='whitegrid')\n",
    "sns.set_palette(\"viridis\")\n",
    "\n",
    "# sorting feature importances\n",
    "feature_importances = feature_importances.sort_values('importance', ascending=True)\n",
    "\n",
    "# bar chart of feature importances\n",
    "ax.barh(feature_importances.index, feature_importances['importance'])\n",
    "\n",
    "# making y axis logaritmic\n",
    "ax.set_xscale('log')\n",
    "\n",
    "ax.set_ylabel('Feature')\n",
    "ax.set_xlabel('Importance')\n",
    "ax.set_title('Feature Importances', fontsize=14)\n",
    "ax.set_yticklabels(feature_importances.index)\n",
    "\n",
    "fig.tight_layout()"
   ]
  },
  {
   "cell_type": "code",
   "execution_count": 8,
   "metadata": {},
   "outputs": [
    {
     "name": "stdout",
     "output_type": "stream",
     "text": [
      "Precision on Test Set = 0.936\n",
      "Recall on Test Set = 0.714\n",
      "F1 Score on Test Set = 0.810\n"
     ]
    }
   ],
   "source": [
    "# evaluating the model on the test set\n",
    "\n",
    "class_probabilities_test = rf_model.predict_proba(X_test)\n",
    "\n",
    "y_pred_test = (class_probabilities_test[:, 1] >= confidence_threshold).astype(int)\n",
    "\n",
    "precision_test = precision_score(y_test, y_pred_test)\n",
    "recall_test = recall_score(y_test, y_pred_test)\n",
    "f1_test = f1_score(y_test, y_pred_test)\n",
    "\n",
    "print(f\"Precision on Test Set = {precision_test:.3f}\")\n",
    "print(f\"Recall on Test Set = {recall_test:.3f}\")\n",
    "print(f\"F1 Score on Test Set = {f1_test:.3f}\")"
   ]
  },
  {
   "cell_type": "code",
   "execution_count": 9,
   "metadata": {},
   "outputs": [
    {
     "data": {
      "text/plain": [
       "['C:\\\\Users\\\\kirst\\\\OneDrive\\\\Kirstin\\\\Uni\\\\Year4\\\\MSciProject\\\\data_files\\\\saved_files\\\\rf_model_MHD.joblib']"
      ]
     },
     "execution_count": 9,
     "metadata": {},
     "output_type": "execute_result"
    }
   ],
   "source": [
    "# saving model\n",
    "dump(rf_model, data_path/f'rf_model_{site}.joblib')"
   ]
  }
 ],
 "metadata": {
  "kernelspec": {
   "display_name": "venv",
   "language": "python",
   "name": "python3"
  },
  "language_info": {
   "codemirror_mode": {
    "name": "ipython",
    "version": 3
   },
   "file_extension": ".py",
   "mimetype": "text/x-python",
   "name": "python",
   "nbconvert_exporter": "python",
   "pygments_lexer": "ipython3",
   "version": "3.11.8"
  }
 },
 "nbformat": 4,
 "nbformat_minor": 2
}
