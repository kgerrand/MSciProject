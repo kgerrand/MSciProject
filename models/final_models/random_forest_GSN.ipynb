{
 "cells": [
  {
   "cell_type": "markdown",
   "metadata": {},
   "source": [
    "# Random Forest Final Model"
   ]
  },
  {
   "cell_type": "code",
   "execution_count": 2,
   "metadata": {},
   "outputs": [],
   "source": [
    "import pandas as pd\n",
    "from sklearn.ensemble import RandomForestClassifier\n",
    "from sklearn.metrics import precision_score, recall_score, f1_score\n",
    "from joblib import dump\n",
    "import matplotlib.pyplot as plt\n",
    "import seaborn as sns\n",
    "from pathlib import Path\n",
    "\n",
    "import sys\n",
    "sys.path.append('../../')\n",
    "import config\n",
    "\n",
    "data_path = Path.home()/'OneDrive'/'Kirstin'/'Uni'/'Year4'/'MSciProject'/'data_files'/'saved_files'"
   ]
  },
  {
   "cell_type": "code",
   "execution_count": 3,
   "metadata": {},
   "outputs": [
    {
     "name": "stdout",
     "output_type": "stream",
     "text": [
      "Creating a random forest model for \u001b[1mGosan, South Korea\u001b[0;0m.\n"
     ]
    }
   ],
   "source": [
    "site = config.site\n",
    "site_name = config.site_dict[site]\n",
    "assert site == 'GSN', 'This script is only for Gosan, South Korea.'\n",
    "\n",
    "compound = config.compound\n",
    "\n",
    "print(f\"Creating a random forest model for \\033[1m{site_name}\\033[0;0m.\")"
   ]
  },
  {
   "cell_type": "markdown",
   "metadata": {},
   "source": [
    "### Loading & Initialising Data"
   ]
  },
  {
   "cell_type": "code",
   "execution_count": 4,
   "metadata": {},
   "outputs": [
    {
     "data": {
      "text/html": [
       "<div>\n",
       "<style scoped>\n",
       "    .dataframe tbody tr th:only-of-type {\n",
       "        vertical-align: middle;\n",
       "    }\n",
       "\n",
       "    .dataframe tbody tr th {\n",
       "        vertical-align: top;\n",
       "    }\n",
       "\n",
       "    .dataframe thead th {\n",
       "        text-align: right;\n",
       "    }\n",
       "</style>\n",
       "<table border=\"1\" class=\"dataframe\">\n",
       "  <thead>\n",
       "    <tr style=\"text-align: right;\">\n",
       "      <th></th>\n",
       "      <th>time</th>\n",
       "      <th>PC1</th>\n",
       "      <th>PC2</th>\n",
       "      <th>PC3</th>\n",
       "      <th>PC4</th>\n",
       "      <th>PC5</th>\n",
       "      <th>PC6</th>\n",
       "      <th>PC7</th>\n",
       "      <th>PC8</th>\n",
       "      <th>PC9</th>\n",
       "      <th>...</th>\n",
       "      <th>PC12</th>\n",
       "      <th>PC13</th>\n",
       "      <th>PC14</th>\n",
       "      <th>PC15</th>\n",
       "      <th>PC16</th>\n",
       "      <th>PC17</th>\n",
       "      <th>PC18</th>\n",
       "      <th>PC19</th>\n",
       "      <th>PC20</th>\n",
       "      <th>flag</th>\n",
       "    </tr>\n",
       "  </thead>\n",
       "  <tbody>\n",
       "    <tr>\n",
       "      <th>9380</th>\n",
       "      <td>2016-07-08 17:00:00</td>\n",
       "      <td>10.125860</td>\n",
       "      <td>-3.105480</td>\n",
       "      <td>2.753387</td>\n",
       "      <td>0.338740</td>\n",
       "      <td>1.982636</td>\n",
       "      <td>2.806766</td>\n",
       "      <td>-1.784353</td>\n",
       "      <td>2.876619</td>\n",
       "      <td>1.680387</td>\n",
       "      <td>...</td>\n",
       "      <td>1.827028</td>\n",
       "      <td>2.083966</td>\n",
       "      <td>2.635722</td>\n",
       "      <td>-0.038497</td>\n",
       "      <td>-1.707998</td>\n",
       "      <td>0.887971</td>\n",
       "      <td>-0.695556</td>\n",
       "      <td>-0.084464</td>\n",
       "      <td>-0.050416</td>\n",
       "      <td>0.0</td>\n",
       "    </tr>\n",
       "    <tr>\n",
       "      <th>7043</th>\n",
       "      <td>2013-11-28 19:00:00</td>\n",
       "      <td>-7.592790</td>\n",
       "      <td>4.642798</td>\n",
       "      <td>1.636641</td>\n",
       "      <td>-5.025380</td>\n",
       "      <td>4.809820</td>\n",
       "      <td>0.505511</td>\n",
       "      <td>-3.207865</td>\n",
       "      <td>-0.225591</td>\n",
       "      <td>0.245325</td>\n",
       "      <td>...</td>\n",
       "      <td>-1.887251</td>\n",
       "      <td>1.060726</td>\n",
       "      <td>-2.042437</td>\n",
       "      <td>-0.385945</td>\n",
       "      <td>1.402942</td>\n",
       "      <td>0.664568</td>\n",
       "      <td>0.819315</td>\n",
       "      <td>-0.543561</td>\n",
       "      <td>-0.990304</td>\n",
       "      <td>1.0</td>\n",
       "    </tr>\n",
       "    <tr>\n",
       "      <th>9283</th>\n",
       "      <td>2016-04-18 13:00:00</td>\n",
       "      <td>-0.889724</td>\n",
       "      <td>4.645906</td>\n",
       "      <td>-0.060927</td>\n",
       "      <td>0.224448</td>\n",
       "      <td>0.538654</td>\n",
       "      <td>-0.645266</td>\n",
       "      <td>-2.466586</td>\n",
       "      <td>4.664384</td>\n",
       "      <td>-0.531360</td>\n",
       "      <td>...</td>\n",
       "      <td>1.043065</td>\n",
       "      <td>-1.029275</td>\n",
       "      <td>1.780407</td>\n",
       "      <td>1.653178</td>\n",
       "      <td>-1.116741</td>\n",
       "      <td>-0.500994</td>\n",
       "      <td>3.770398</td>\n",
       "      <td>-0.545271</td>\n",
       "      <td>-0.097949</td>\n",
       "      <td>1.0</td>\n",
       "    </tr>\n",
       "    <tr>\n",
       "      <th>5003</th>\n",
       "      <td>2011-12-17 03:00:00</td>\n",
       "      <td>-6.672218</td>\n",
       "      <td>-0.750634</td>\n",
       "      <td>-1.029859</td>\n",
       "      <td>0.670512</td>\n",
       "      <td>2.380378</td>\n",
       "      <td>-0.171419</td>\n",
       "      <td>-0.237350</td>\n",
       "      <td>-0.350088</td>\n",
       "      <td>-0.418840</td>\n",
       "      <td>...</td>\n",
       "      <td>0.493256</td>\n",
       "      <td>1.889892</td>\n",
       "      <td>-2.419431</td>\n",
       "      <td>0.910049</td>\n",
       "      <td>1.695579</td>\n",
       "      <td>-0.715413</td>\n",
       "      <td>-0.395906</td>\n",
       "      <td>-0.439826</td>\n",
       "      <td>1.315512</td>\n",
       "      <td>1.0</td>\n",
       "    </tr>\n",
       "    <tr>\n",
       "      <th>6743</th>\n",
       "      <td>2013-08-16 19:00:00</td>\n",
       "      <td>10.755849</td>\n",
       "      <td>-1.351726</td>\n",
       "      <td>-3.273224</td>\n",
       "      <td>-1.630861</td>\n",
       "      <td>1.720608</td>\n",
       "      <td>1.557657</td>\n",
       "      <td>0.071176</td>\n",
       "      <td>2.328395</td>\n",
       "      <td>-0.148697</td>\n",
       "      <td>...</td>\n",
       "      <td>-1.038361</td>\n",
       "      <td>-0.508888</td>\n",
       "      <td>-2.870782</td>\n",
       "      <td>-0.194511</td>\n",
       "      <td>-0.645367</td>\n",
       "      <td>0.111486</td>\n",
       "      <td>1.874873</td>\n",
       "      <td>0.502733</td>\n",
       "      <td>0.816860</td>\n",
       "      <td>0.0</td>\n",
       "    </tr>\n",
       "  </tbody>\n",
       "</table>\n",
       "<p>5 rows × 22 columns</p>\n",
       "</div>"
      ],
      "text/plain": [
       "                    time        PC1       PC2       PC3       PC4       PC5  \\\n",
       "9380 2016-07-08 17:00:00  10.125860 -3.105480  2.753387  0.338740  1.982636   \n",
       "7043 2013-11-28 19:00:00  -7.592790  4.642798  1.636641 -5.025380  4.809820   \n",
       "9283 2016-04-18 13:00:00  -0.889724  4.645906 -0.060927  0.224448  0.538654   \n",
       "5003 2011-12-17 03:00:00  -6.672218 -0.750634 -1.029859  0.670512  2.380378   \n",
       "6743 2013-08-16 19:00:00  10.755849 -1.351726 -3.273224 -1.630861  1.720608   \n",
       "\n",
       "           PC6       PC7       PC8       PC9  ...      PC12      PC13  \\\n",
       "9380  2.806766 -1.784353  2.876619  1.680387  ...  1.827028  2.083966   \n",
       "7043  0.505511 -3.207865 -0.225591  0.245325  ... -1.887251  1.060726   \n",
       "9283 -0.645266 -2.466586  4.664384 -0.531360  ...  1.043065 -1.029275   \n",
       "5003 -0.171419 -0.237350 -0.350088 -0.418840  ...  0.493256  1.889892   \n",
       "6743  1.557657  0.071176  2.328395 -0.148697  ... -1.038361 -0.508888   \n",
       "\n",
       "          PC14      PC15      PC16      PC17      PC18      PC19      PC20  \\\n",
       "9380  2.635722 -0.038497 -1.707998  0.887971 -0.695556 -0.084464 -0.050416   \n",
       "7043 -2.042437 -0.385945  1.402942  0.664568  0.819315 -0.543561 -0.990304   \n",
       "9283  1.780407  1.653178 -1.116741 -0.500994  3.770398 -0.545271 -0.097949   \n",
       "5003 -2.419431  0.910049  1.695579 -0.715413 -0.395906 -0.439826  1.315512   \n",
       "6743 -2.870782 -0.194511 -0.645367  0.111486  1.874873  0.502733  0.816860   \n",
       "\n",
       "      flag  \n",
       "9380   0.0  \n",
       "7043   1.0  \n",
       "9283   1.0  \n",
       "5003   1.0  \n",
       "6743   0.0  \n",
       "\n",
       "[5 rows x 22 columns]"
      ]
     },
     "execution_count": 4,
     "metadata": {},
     "output_type": "execute_result"
    }
   ],
   "source": [
    "data = pd.read_csv(data_path/f'for_model_pca_{compound}_{site}.csv', parse_dates=['time'])\n",
    "data.sample(5)"
   ]
  },
  {
   "cell_type": "code",
   "execution_count": 5,
   "metadata": {},
   "outputs": [
    {
     "name": "stdout",
     "output_type": "stream",
     "text": [
      "Train range: 2011-01-01 11:00:00 -> 2013-12-30 09:00:00. Length: 3186\n",
      "Val range: 2014-01-03 19:00:00 -> 2014-12-31 23:00:00. Length: 933\n",
      "Test range: 2015-01-01 01:00:00 -> 2017-12-31 23:00:00. Length: 2824\n"
     ]
    }
   ],
   "source": [
    "train_data = data[(data['time'].dt.year >= 2011) & (data['time'].dt.year <= 2013)]\n",
    "val_data = data[(data['time'].dt.year >= 2014) & (data['time'].dt.year <= 2014)]\n",
    "test_data = data[(data['time'].dt.year >= 2015) & (data['time'].dt.year <= 2017)]\n",
    "\n",
    "\n",
    "print(f\"Train range: {train_data['time'].min()} -> {train_data['time'].max()}. Length: {len(train_data)}\")\n",
    "print(f\"Val range: {val_data['time'].min()} -> {val_data['time'].max()}. Length: {len(val_data)}\")\n",
    "print(f\"Test range: {test_data['time'].min()} -> {test_data['time'].max()}. Length: {len(test_data)}\")\n",
    "\n",
    "\n",
    "# Drop the \"time\" column as it won't be used in the model\n",
    "train_data = train_data.drop(columns=['time'])\n",
    "val_data = val_data.drop(columns=['time'])\n",
    "test_data = test_data.drop(columns=['time'])\n",
    "\n",
    "# Define the features (X) and the target (y)\n",
    "X_train = train_data.drop(columns=['flag'])\n",
    "y_train = train_data['flag']\n",
    "X_val = val_data.drop(columns=['flag'])\n",
    "y_val = val_data['flag']\n",
    "X_test = test_data.drop(columns=['flag'])\n",
    "y_test = test_data['flag']\n",
    "\n",
    "# Balanced Data - removing NaN values and associated data\n",
    "y_train = y_train.dropna()\n",
    "y_val = y_val.dropna()\n",
    "y_test = y_test.dropna()\n",
    "\n",
    "# aligning indices of features sets\n",
    "X_train = X_train.loc[y_train.index]\n",
    "X_val = X_val.loc[y_val.index]\n",
    "X_test = X_test.loc[y_test.index]"
   ]
  },
  {
   "cell_type": "markdown",
   "metadata": {},
   "source": [
    "### Model"
   ]
  },
  {
   "cell_type": "code",
   "execution_count": 9,
   "metadata": {},
   "outputs": [
    {
     "name": "stdout",
     "output_type": "stream",
     "text": [
      "Precision on Training Set = 0.976\n",
      "Precision on Validation Set = 0.923\n",
      "Recall on Training Set = 0.814\n",
      "Recall on Validation Set = 0.596\n",
      "F1 Score on Training Set = 0.888\n",
      "F1 Score on Validation Set = 0.724\n"
     ]
    }
   ],
   "source": [
    "# fitting models based on optimal hyperparameters\n",
    "\n",
    "rf_model = RandomForestClassifier(random_state=42,\n",
    "                                  n_estimators=200,\n",
    "                                  max_depth=5,\n",
    "                                  criterion='entropy',\n",
    "                                  bootstrap=True,\n",
    "                                  max_features=None,)\n",
    "\n",
    "rf_model.fit(X_train, y_train)\n",
    "\n",
    "class_probabilities_val = rf_model.predict_proba(X_val)\n",
    "class_probabilites_train = rf_model.predict_proba(X_train)\n",
    "\n",
    "confidence_threshold = config.confidence_threshold\n",
    "\n",
    "y_pred_val = (class_probabilities_val[:, 1] >= confidence_threshold).astype(int)\n",
    "y_pred_train = (class_probabilites_train[:, 1] >= confidence_threshold).astype(int)\n",
    "\n",
    "\n",
    "precision_val = precision_score(y_val, y_pred_val)\n",
    "precision_train = precision_score(y_train, y_pred_train)\n",
    "recall_val = recall_score(y_val, y_pred_val)\n",
    "recall_train = recall_score(y_train, y_pred_train)\n",
    "f1_val = f1_score(y_val, y_pred_val)\n",
    "f1_train = f1_score(y_train, y_pred_train)\n",
    "\n",
    "print(f\"Precision on Training Set = {precision_train:.3f}\")\n",
    "print(f\"Precision on Validation Set = {precision_val:.3f}\")\n",
    "print(f\"Recall on Training Set = {recall_train:.3f}\")\n",
    "print(f\"Recall on Validation Set = {recall_val:.3f}\")\n",
    "print(f\"F1 Score on Training Set = {f1_train:.3f}\")\n",
    "print(f\"F1 Score on Validation Set = {f1_val:.3f}\")"
   ]
  },
  {
   "cell_type": "code",
   "execution_count": 10,
   "metadata": {},
   "outputs": [
    {
     "name": "stderr",
     "output_type": "stream",
     "text": [
      "C:\\Users\\kirst\\AppData\\Local\\Temp\\ipykernel_11380\\3156113180.py:23: UserWarning: set_ticklabels() should only be used with a fixed number of ticks, i.e. after set_ticks() or using a FixedLocator.\n",
      "  ax.set_yticklabels(feature_importances.index)\n"
     ]
    },
    {
     "data": {
      "image/png": "[encoded data removed]",
      "text/plain": [
       "<Figure size 1000x1000 with 1 Axes>"
      ]
     },
     "metadata": {},
     "output_type": "display_data"
    }
   ],
   "source": [
    "# finding most important features in the model\n",
    "\n",
    "feature_importances = pd.DataFrame(rf_model.feature_importances_,\n",
    "                                   index = X_train.columns,\n",
    "                                   columns=['importance']).sort_values('importance', ascending=False)\n",
    "\n",
    "fig, ax = plt.subplots(figsize=(10, 10))\n",
    "sns.set(style='whitegrid')\n",
    "sns.set_palette(\"viridis\")\n",
    "\n",
    "# sorting feature importances\n",
    "feature_importances = feature_importances.sort_values('importance', ascending=True)\n",
    "\n",
    "# bar chart of feature importances\n",
    "ax.barh(feature_importances.index, feature_importances['importance'])\n",
    "\n",
    "# making y axis logaritmic\n",
    "ax.set_xscale('log')\n",
    "\n",
    "ax.set_ylabel('Feature')\n",
    "ax.set_xlabel('Importance')\n",
    "ax.set_title('Feature Importances', fontsize=14)\n",
    "ax.set_yticklabels(feature_importances.index)\n",
    "\n",
    "fig.tight_layout()"
   ]
  },
  {
   "cell_type": "code",
   "execution_count": 11,
   "metadata": {},
   "outputs": [
    {
     "name": "stdout",
     "output_type": "stream",
     "text": [
      "Precision on Test Set = 0.921\n",
      "Recall on Test Set = 0.722\n",
      "F1 Score on Test Set = 0.809\n"
     ]
    }
   ],
   "source": [
    "# evaluating the model on the test set\n",
    "\n",
    "class_probabilities_test = rf_model.predict_proba(X_test)\n",
    "\n",
    "y_pred_test = (class_probabilities_test[:, 1] >= confidence_threshold).astype(int)\n",
    "\n",
    "precision_test = precision_score(y_test, y_pred_test)\n",
    "recall_test = recall_score(y_test, y_pred_test)\n",
    "f1_test = f1_score(y_test, y_pred_test)\n",
    "\n",
    "print(f\"Precision on Test Set = {precision_test:.3f}\")\n",
    "print(f\"Recall on Test Set = {recall_test:.3f}\")\n",
    "print(f\"F1 Score on Test Set = {f1_test:.3f}\")"
   ]
  },
  {
   "cell_type": "code",
   "execution_count": 12,
   "metadata": {},
   "outputs": [
    {
     "data": {
      "text/plain": [
       "['C:\\\\Users\\\\kirst\\\\OneDrive\\\\Kirstin\\\\Uni\\\\Year4\\\\MSciProject\\\\data_files\\\\saved_files\\\\rf_model_GSN.joblib']"
      ]
     },
     "execution_count": 12,
     "metadata": {},
     "output_type": "execute_result"
    }
   ],
   "source": [
    "# saving model\n",
    "dump(rf_model, data_path/f'rf_model_GSN.joblib')"
   ]
  }
 ],
 "metadata": {
  "kernelspec": {
   "display_name": "venv",
   "language": "python",
   "name": "python3"
  },
  "language_info": {
   "codemirror_mode": {
    "name": "ipython",
    "version": 3
   },
   "file_extension": ".py",
   "mimetype": "text/x-python",
   "name": "python",
   "nbconvert_exporter": "python",
   "pygments_lexer": "ipython3",
   "version": "3.11.8"
  }
 },
 "nbformat": 4,
 "nbformat_minor": 2
}
