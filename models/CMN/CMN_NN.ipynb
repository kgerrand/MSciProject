{
 "cells": [
  {
   "cell_type": "markdown",
   "metadata": {},
   "source": [
    "# Neural Network Final Model - Monte Cimone, Italy"
   ]
  },
  {
   "cell_type": "code",
   "execution_count": 2,
   "metadata": {},
   "outputs": [],
   "source": [
    "import pandas as pd\n",
    "from joblib import dump\n",
    "from pathlib import Path\n",
    "import matplotlib.pyplot as plt\n",
    "import seaborn as sns\n",
    "\n",
    "from sklearn.neural_network import MLPClassifier\n",
    "from sklearn.metrics import precision_score, recall_score, f1_score\n",
    "from sklearn.inspection import permutation_importance\n",
    "\n",
    "import sys\n",
    "sys.path.append('../../')\n",
    "import config\n",
    "\n",
    "data_path = Path.home()/'OneDrive'/'Kirstin'/'Uni'/'Year4'/'MSciProject'/'data_files'/'saved_files'"
   ]
  },
  {
   "cell_type": "code",
   "execution_count": 3,
   "metadata": {},
   "outputs": [
    {
     "name": "stdout",
     "output_type": "stream",
     "text": [
      "Creating a neural network model for \u001b[1mMonte Cimone, Italy\u001b[0;0m.\n"
     ]
    }
   ],
   "source": [
    "site = config.site\n",
    "site_name = config.site_dict[site]\n",
    "assert site == 'CMN', 'This script is only for Monte Cimone, Italy. The site can be changed in the config file.'\n",
    "\n",
    "compound = config.compound\n",
    "\n",
    "print(f\"Creating a neural network model for \\033[1m{site_name}\\033[0;0m.\")"
   ]
  },
  {
   "cell_type": "markdown",
   "metadata": {},
   "source": [
    "### Loading & Initialising Data"
   ]
  },
  {
   "cell_type": "code",
   "execution_count": 4,
   "metadata": {},
   "outputs": [
    {
     "data": {
      "text/html": [
       "<div>\n",
       "<style scoped>\n",
       "    .dataframe tbody tr th:only-of-type {\n",
       "        vertical-align: middle;\n",
       "    }\n",
       "\n",
       "    .dataframe tbody tr th {\n",
       "        vertical-align: top;\n",
       "    }\n",
       "\n",
       "    .dataframe thead th {\n",
       "        text-align: right;\n",
       "    }\n",
       "</style>\n",
       "<table border=\"1\" class=\"dataframe\">\n",
       "  <thead>\n",
       "    <tr style=\"text-align: right;\">\n",
       "      <th></th>\n",
       "      <th>time</th>\n",
       "      <th>flag</th>\n",
       "      <th>u10_0</th>\n",
       "      <th>u10_1</th>\n",
       "      <th>u10_2</th>\n",
       "      <th>u10_3</th>\n",
       "      <th>u10_4</th>\n",
       "      <th>u10_5</th>\n",
       "      <th>u10_6</th>\n",
       "      <th>u10_7</th>\n",
       "      <th>...</th>\n",
       "      <th>v500_7_past</th>\n",
       "      <th>v500_8_past</th>\n",
       "      <th>v500_9_past</th>\n",
       "      <th>v500_10_past</th>\n",
       "      <th>v500_11_past</th>\n",
       "      <th>v500_12_past</th>\n",
       "      <th>v500_13_past</th>\n",
       "      <th>v500_14_past</th>\n",
       "      <th>v500_15_past</th>\n",
       "      <th>v500_16_past</th>\n",
       "    </tr>\n",
       "  </thead>\n",
       "  <tbody>\n",
       "    <tr>\n",
       "      <th>6330</th>\n",
       "      <td>2019-04-05 05:00:00</td>\n",
       "      <td>1.0</td>\n",
       "      <td>0.705431</td>\n",
       "      <td>1.875723</td>\n",
       "      <td>-3.297430</td>\n",
       "      <td>-1.450922</td>\n",
       "      <td>-0.259171</td>\n",
       "      <td>-0.877290</td>\n",
       "      <td>-0.299471</td>\n",
       "      <td>-0.683114</td>\n",
       "      <td>...</td>\n",
       "      <td>-17.793198</td>\n",
       "      <td>7.194434</td>\n",
       "      <td>6.860065</td>\n",
       "      <td>-5.324897</td>\n",
       "      <td>6.872151</td>\n",
       "      <td>-5.750578</td>\n",
       "      <td>8.190823</td>\n",
       "      <td>2.323940</td>\n",
       "      <td>9.040844</td>\n",
       "      <td>12.330811</td>\n",
       "    </tr>\n",
       "    <tr>\n",
       "      <th>706</th>\n",
       "      <td>2005-11-06 01:00:00</td>\n",
       "      <td>0.0</td>\n",
       "      <td>-0.632025</td>\n",
       "      <td>1.103609</td>\n",
       "      <td>1.616200</td>\n",
       "      <td>-0.841302</td>\n",
       "      <td>-1.469130</td>\n",
       "      <td>6.004479</td>\n",
       "      <td>1.698824</td>\n",
       "      <td>0.108867</td>\n",
       "      <td>...</td>\n",
       "      <td>11.019250</td>\n",
       "      <td>15.261982</td>\n",
       "      <td>16.431217</td>\n",
       "      <td>2.552232</td>\n",
       "      <td>-11.499867</td>\n",
       "      <td>-1.236428</td>\n",
       "      <td>-1.490425</td>\n",
       "      <td>3.280166</td>\n",
       "      <td>10.709914</td>\n",
       "      <td>19.205310</td>\n",
       "    </tr>\n",
       "    <tr>\n",
       "      <th>7060</th>\n",
       "      <td>2020-05-11 21:00:00</td>\n",
       "      <td>1.0</td>\n",
       "      <td>1.165244</td>\n",
       "      <td>0.223781</td>\n",
       "      <td>2.940149</td>\n",
       "      <td>-0.727926</td>\n",
       "      <td>3.251177</td>\n",
       "      <td>6.507187</td>\n",
       "      <td>6.655251</td>\n",
       "      <td>0.200035</td>\n",
       "      <td>...</td>\n",
       "      <td>9.237605</td>\n",
       "      <td>4.680360</td>\n",
       "      <td>-3.132970</td>\n",
       "      <td>-0.347137</td>\n",
       "      <td>-12.473028</td>\n",
       "      <td>-9.099699</td>\n",
       "      <td>-4.088768</td>\n",
       "      <td>10.448282</td>\n",
       "      <td>10.576997</td>\n",
       "      <td>-1.123245</td>\n",
       "    </tr>\n",
       "    <tr>\n",
       "      <th>8066</th>\n",
       "      <td>2021-12-30 17:00:00</td>\n",
       "      <td>1.0</td>\n",
       "      <td>-0.287552</td>\n",
       "      <td>5.108218</td>\n",
       "      <td>4.417710</td>\n",
       "      <td>-0.536049</td>\n",
       "      <td>1.651906</td>\n",
       "      <td>-1.675036</td>\n",
       "      <td>6.042371</td>\n",
       "      <td>-0.664879</td>\n",
       "      <td>...</td>\n",
       "      <td>-16.788235</td>\n",
       "      <td>-11.326092</td>\n",
       "      <td>-12.593357</td>\n",
       "      <td>-15.501239</td>\n",
       "      <td>-8.192077</td>\n",
       "      <td>-24.847132</td>\n",
       "      <td>-14.830423</td>\n",
       "      <td>-0.037565</td>\n",
       "      <td>2.753454</td>\n",
       "      <td>7.191160</td>\n",
       "    </tr>\n",
       "    <tr>\n",
       "      <th>1157</th>\n",
       "      <td>2007-05-05 11:00:00</td>\n",
       "      <td>0.0</td>\n",
       "      <td>-0.846708</td>\n",
       "      <td>-4.291327</td>\n",
       "      <td>-4.067740</td>\n",
       "      <td>0.156740</td>\n",
       "      <td>2.643057</td>\n",
       "      <td>4.951472</td>\n",
       "      <td>4.826243</td>\n",
       "      <td>1.058608</td>\n",
       "      <td>...</td>\n",
       "      <td>2.079646</td>\n",
       "      <td>1.801358</td>\n",
       "      <td>7.482383</td>\n",
       "      <td>-7.156242</td>\n",
       "      <td>3.163686</td>\n",
       "      <td>0.953687</td>\n",
       "      <td>-0.166450</td>\n",
       "      <td>-3.936723</td>\n",
       "      <td>9.436218</td>\n",
       "      <td>19.564024</td>\n",
       "    </tr>\n",
       "  </tbody>\n",
       "</table>\n",
       "<p>5 rows × 210 columns</p>\n",
       "</div>"
      ],
      "text/plain": [
       "                    time  flag     u10_0     u10_1     u10_2     u10_3  \\\n",
       "6330 2019-04-05 05:00:00   1.0  0.705431  1.875723 -3.297430 -1.450922   \n",
       "706  2005-11-06 01:00:00   0.0 -0.632025  1.103609  1.616200 -0.841302   \n",
       "7060 2020-05-11 21:00:00   1.0  1.165244  0.223781  2.940149 -0.727926   \n",
       "8066 2021-12-30 17:00:00   1.0 -0.287552  5.108218  4.417710 -0.536049   \n",
       "1157 2007-05-05 11:00:00   0.0 -0.846708 -4.291327 -4.067740  0.156740   \n",
       "\n",
       "         u10_4     u10_5     u10_6     u10_7  ...  v500_7_past  v500_8_past  \\\n",
       "6330 -0.259171 -0.877290 -0.299471 -0.683114  ...   -17.793198     7.194434   \n",
       "706  -1.469130  6.004479  1.698824  0.108867  ...    11.019250    15.261982   \n",
       "7060  3.251177  6.507187  6.655251  0.200035  ...     9.237605     4.680360   \n",
       "8066  1.651906 -1.675036  6.042371 -0.664879  ...   -16.788235   -11.326092   \n",
       "1157  2.643057  4.951472  4.826243  1.058608  ...     2.079646     1.801358   \n",
       "\n",
       "      v500_9_past  v500_10_past  v500_11_past  v500_12_past  v500_13_past  \\\n",
       "6330     6.860065     -5.324897      6.872151     -5.750578      8.190823   \n",
       "706     16.431217      2.552232    -11.499867     -1.236428     -1.490425   \n",
       "7060    -3.132970     -0.347137    -12.473028     -9.099699     -4.088768   \n",
       "8066   -12.593357    -15.501239     -8.192077    -24.847132    -14.830423   \n",
       "1157     7.482383     -7.156242      3.163686      0.953687     -0.166450   \n",
       "\n",
       "      v500_14_past  v500_15_past  v500_16_past  \n",
       "6330      2.323940      9.040844     12.330811  \n",
       "706       3.280166     10.709914     19.205310  \n",
       "7060     10.448282     10.576997     -1.123245  \n",
       "8066     -0.037565      2.753454      7.191160  \n",
       "1157     -3.936723      9.436218     19.564024  \n",
       "\n",
       "[5 rows x 210 columns]"
      ]
     },
     "execution_count": 4,
     "metadata": {},
     "output_type": "execute_result"
    }
   ],
   "source": [
    "data = pd.read_csv(data_path/f'for_model_{compound}_{site}.csv', parse_dates=['time'])\n",
    "data.sample(5)"
   ]
  },
  {
   "cell_type": "code",
   "execution_count": 5,
   "metadata": {},
   "outputs": [
    {
     "name": "stdout",
     "output_type": "stream",
     "text": [
      "Train range: 2018-01-01 01:00:00 -> 2018-12-31 01:00:00. Length: 520\n",
      "Val range: 2019-01-02 03:00:00 -> 2019-12-31 23:00:00. Length: 732\n",
      "Test range: 2020-01-04 17:00:00 -> 2022-12-31 21:00:00. Length: 1894\n"
     ]
    }
   ],
   "source": [
    "train_data = data[(data['time'].dt.year >= 2018) & (data['time'].dt.year <= 2018)]\n",
    "val_data = data[(data['time'].dt.year >= 2019) & (data['time'].dt.year <= 2019)]\n",
    "test_data = data[(data['time'].dt.year >= 2020) & (data['time'].dt.year <= 2023)]\n",
    "\n",
    "print(f\"Train range: {train_data['time'].min()} -> {train_data['time'].max()}. Length: {len(train_data)}\")\n",
    "print(f\"Val range: {val_data['time'].min()} -> {val_data['time'].max()}. Length: {len(val_data)}\")\n",
    "print(f\"Test range: {test_data['time'].min()} -> {test_data['time'].max()}. Length: {len(test_data)}\")\n",
    "\n",
    "\n",
    "# Drop the \"time\" column as it won't be used in the model\n",
    "train_data = train_data.drop(columns=['time'])\n",
    "val_data = val_data.drop(columns=['time'])\n",
    "test_data = test_data.drop(columns=['time'])\n",
    "\n",
    "# Define the features (X) and the target (y)\n",
    "X_train = train_data.drop(columns=['flag'])\n",
    "y_train = train_data['flag']\n",
    "X_val = val_data.drop(columns=['flag'])\n",
    "y_val = val_data['flag']\n",
    "X_test = test_data.drop(columns=['flag'])\n",
    "y_test = test_data['flag']\n",
    "\n",
    "# Balanced Data - removing NaN values and associated data\n",
    "y_train = y_train.dropna()\n",
    "y_val = y_val.dropna()\n",
    "y_test = y_test.dropna()\n",
    "\n",
    "# aligning indices of features sets\n",
    "X_train = X_train.loc[y_train.index]\n",
    "X_val = X_val.loc[y_val.index]\n",
    "X_test = X_test.loc[y_test.index]"
   ]
  },
  {
   "cell_type": "markdown",
   "metadata": {},
   "source": [
    "### Model"
   ]
  },
  {
   "cell_type": "code",
   "execution_count": 60,
   "metadata": {},
   "outputs": [
    {
     "name": "stdout",
     "output_type": "stream",
     "text": [
      "Precision on Training Set = 0.923\n",
      "Precision on Validation Set = 0.926\n",
      "Recall on Training Set = 0.681\n",
      "Recall on Validation Set = 0.591\n",
      "F1 Score on Training Set = 0.784\n",
      "F1 Score on Validation Set = 0.722\n"
     ]
    }
   ],
   "source": [
    "nn_model = MLPClassifier(random_state=42,\n",
    "                         max_iter=1000, \n",
    "                         hidden_layer_sizes=(100,), \n",
    "                         shuffle=False,\n",
    "                         activation='relu', \n",
    "                         solver='adam', \n",
    "                         alpha=0.5, \n",
    "                         learning_rate='constant', \n",
    "                         batch_size=250, \n",
    "                         early_stopping=False,\n",
    "                         learning_rate_init=0.01,\n",
    "                         beta_2=0.9,)\n",
    "\n",
    "nn_model.fit(X_train, y_train)\n",
    "\n",
    "y_pred_val = nn_model.predict(X_val)\n",
    "y_pred_train = nn_model.predict(X_train)\n",
    "\n",
    "\n",
    "precision_val = precision_score(y_val, y_pred_val)\n",
    "precision_train = precision_score(y_train, y_pred_train)\n",
    "recall_val = recall_score(y_val, y_pred_val)\n",
    "recall_train = recall_score(y_train, y_pred_train)\n",
    "f1_val = f1_score(y_val, y_pred_val)\n",
    "f1_train = f1_score(y_train, y_pred_train)\n",
    "\n",
    "print(f\"Precision on Training Set = {precision_train:.3f}\")\n",
    "print(f\"Precision on Validation Set = {precision_val:.3f}\")\n",
    "print(f\"Recall on Training Set = {recall_train:.3f}\")\n",
    "print(f\"Recall on Validation Set = {recall_val:.3f}\")\n",
    "print(f\"F1 Score on Training Set = {f1_train:.3f}\")\n",
    "print(f\"F1 Score on Validation Set = {f1_val:.3f}\")"
   ]
  },
  {
   "cell_type": "code",
   "execution_count": 61,
   "metadata": {},
   "outputs": [
    {
     "name": "stdout",
     "output_type": "stream",
     "text": [
      "Precision on Testing Set = 0.934\n",
      "Recall on Testing Set = 0.573\n",
      "F1 Score on Testing Set = 0.710\n"
     ]
    }
   ],
   "source": [
    "# evaluating model on test set\n",
    "\n",
    "y_pred_test = nn_model.predict(X_test)\n",
    "\n",
    "precision_test = precision_score(y_test, y_pred_test)\n",
    "recall_test = recall_score(y_test, y_pred_test)\n",
    "f1_test = f1_score(y_test, y_pred_test)\n",
    "\n",
    "print(f\"Precision on Testing Set = {precision_test:.3f}\")\n",
    "print(f\"Recall on Testing Set = {recall_test:.3f}\")\n",
    "print(f\"F1 Score on Testing Set = {f1_test:.3f}\")"
   ]
  },
  {
   "cell_type": "code",
   "execution_count": 62,
   "metadata": {},
   "outputs": [
    {
     "data": {
      "text/plain": [
       "['C:\\\\Users\\\\kirst\\\\OneDrive\\\\Kirstin\\\\Uni\\\\Year4\\\\MSciProject\\\\data_files\\\\saved_files\\\\nn_model_CMN.joblib']"
      ]
     },
     "execution_count": 62,
     "metadata": {},
     "output_type": "execute_result"
    }
   ],
   "source": [
    "# saving the model\n",
    "dump(nn_model, data_path/f'nn_model_{site}.joblib')"
   ]
  },
  {
   "cell_type": "markdown",
   "metadata": {},
   "source": [
    "### Assessing Feature Importance"
   ]
  },
  {
   "cell_type": "code",
   "execution_count": 54,
   "metadata": {},
   "outputs": [],
   "source": [
    "# finding most important features in the model using permutation importance\n",
    "# using the testing set\n",
    "perm_importance = permutation_importance(nn_model, X_train, y_train, n_repeats=30, random_state=42)\n",
    "sorted_importances = perm_importance.importances_mean.argsort()"
   ]
  },
  {
   "cell_type": "code",
   "execution_count": 55,
   "metadata": {},
   "outputs": [
    {
     "data": {
      "text/plain": [
       "Text(0.5, 0, 'Permutation Importance')"
      ]
     },
     "execution_count": 55,
     "metadata": {},
     "output_type": "execute_result"
    },
    {
     "data": {
      "image/png": "[encoded data removed]",
      "text/plain": [
       "<Figure size 1200x1200 with 1 Axes>"
      ]
     },
     "metadata": {},
     "output_type": "display_data"
    }
   ],
   "source": [
    "# plotting first 20 most important features in a histogram\n",
    "fig, ax = plt.subplots(figsize=(12, 12))\n",
    "sns.set_theme(style='ticks', font='Arial')\n",
    "\n",
    "ax.barh(X_val.columns[sorted_importances][-20:], perm_importance.importances_mean[sorted_importances][-20:], color='#FF620E')\n",
    "\n",
    "ax.set_xscale('log')\n",
    "\n",
    "ax.set_ylabel('Features', fontsize=12, fontstyle='italic')\n",
    "ax.set_xlabel('Permutation Importance', fontsize=12, fontstyle='italic')\n",
    "# ax.set_title('Permutation Importance (Testing Set)', fontsize=14)"
   ]
  }
 ],
 "metadata": {
  "kernelspec": {
   "display_name": "venv",
   "language": "python",
   "name": "python3"
  },
  "language_info": {
   "codemirror_mode": {
    "name": "ipython",
    "version": 3
   },
   "file_extension": ".py",
   "mimetype": "text/x-python",
   "name": "python",
   "nbconvert_exporter": "python",
   "pygments_lexer": "ipython3",
   "version": "3.11.5"
  }
 },
 "nbformat": 4,
 "nbformat_minor": 2
}
