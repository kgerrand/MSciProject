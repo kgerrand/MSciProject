{
 "cells": [
  {
   "cell_type": "markdown",
   "metadata": {},
   "source": [
    "# Neural Network Final Model - Monte Cimone, Italy"
   ]
  },
  {
   "cell_type": "code",
   "execution_count": 1,
   "metadata": {},
   "outputs": [],
   "source": [
    "import pandas as pd\n",
    "from joblib import dump\n",
    "from pathlib import Path\n",
    "import matplotlib.pyplot as plt\n",
    "import seaborn as sns\n",
    "\n",
    "from sklearn.neural_network import MLPClassifier\n",
    "from sklearn.metrics import precision_score, recall_score, f1_score\n",
    "from sklearn.inspection import permutation_importance\n",
    "\n",
    "import sys\n",
    "sys.path.append('../../')\n",
    "import config\n",
    "\n",
    "data_path = Path.home()/'OneDrive'/'Kirstin'/'Uni'/'Year4'/'MSciProject'/'data_files'/'saved_files'"
   ]
  },
  {
   "cell_type": "code",
   "execution_count": 2,
   "metadata": {},
   "outputs": [
    {
     "name": "stdout",
     "output_type": "stream",
     "text": [
      "Creating a neural network model for \u001b[1mMonte Cimone, Italy\u001b[0;0m.\n"
     ]
    }
   ],
   "source": [
    "site = config.site\n",
    "site_name = config.site_dict[site]\n",
    "assert site == 'CMN', 'This script is only for Monte Cimone, Italy. The site can be changed in the config file.'\n",
    "\n",
    "compound = config.compound\n",
    "\n",
    "print(f\"Creating a neural network model for \\033[1m{site_name}\\033[0;0m.\")"
   ]
  },
  {
   "cell_type": "markdown",
   "metadata": {},
   "source": [
    "### Loading & Initialising Data"
   ]
  },
  {
   "cell_type": "code",
   "execution_count": 3,
   "metadata": {},
   "outputs": [
    {
     "data": {
      "text/html": [
       "<div>\n",
       "<style scoped>\n",
       "    .dataframe tbody tr th:only-of-type {\n",
       "        vertical-align: middle;\n",
       "    }\n",
       "\n",
       "    .dataframe tbody tr th {\n",
       "        vertical-align: top;\n",
       "    }\n",
       "\n",
       "    .dataframe thead th {\n",
       "        text-align: right;\n",
       "    }\n",
       "</style>\n",
       "<table border=\"1\" class=\"dataframe\">\n",
       "  <thead>\n",
       "    <tr style=\"text-align: right;\">\n",
       "      <th></th>\n",
       "      <th>time</th>\n",
       "      <th>flag</th>\n",
       "      <th>u10_0</th>\n",
       "      <th>u10_1</th>\n",
       "      <th>u10_2</th>\n",
       "      <th>u10_3</th>\n",
       "      <th>u10_4</th>\n",
       "      <th>u10_5</th>\n",
       "      <th>u10_6</th>\n",
       "      <th>u10_7</th>\n",
       "      <th>...</th>\n",
       "      <th>v500_7_past</th>\n",
       "      <th>v500_8_past</th>\n",
       "      <th>v500_9_past</th>\n",
       "      <th>v500_10_past</th>\n",
       "      <th>v500_11_past</th>\n",
       "      <th>v500_12_past</th>\n",
       "      <th>v500_13_past</th>\n",
       "      <th>v500_14_past</th>\n",
       "      <th>v500_15_past</th>\n",
       "      <th>v500_16_past</th>\n",
       "    </tr>\n",
       "  </thead>\n",
       "  <tbody>\n",
       "    <tr>\n",
       "      <th>6436</th>\n",
       "      <td>2019-08-25 15:00:00</td>\n",
       "      <td>0.0</td>\n",
       "      <td>-0.675454</td>\n",
       "      <td>-0.753002</td>\n",
       "      <td>-2.870718</td>\n",
       "      <td>-0.951409</td>\n",
       "      <td>2.044496</td>\n",
       "      <td>-0.278227</td>\n",
       "      <td>-3.024989</td>\n",
       "      <td>1.434013</td>\n",
       "      <td>...</td>\n",
       "      <td>6.784968</td>\n",
       "      <td>17.826725</td>\n",
       "      <td>13.858530</td>\n",
       "      <td>7.299848</td>\n",
       "      <td>-9.074735</td>\n",
       "      <td>-5.102518</td>\n",
       "      <td>-0.041210</td>\n",
       "      <td>-3.276304</td>\n",
       "      <td>10.535948</td>\n",
       "      <td>6.444061</td>\n",
       "    </tr>\n",
       "    <tr>\n",
       "      <th>6817</th>\n",
       "      <td>2020-01-30 09:00:00</td>\n",
       "      <td>1.0</td>\n",
       "      <td>0.586256</td>\n",
       "      <td>3.576448</td>\n",
       "      <td>3.586214</td>\n",
       "      <td>-0.988980</td>\n",
       "      <td>2.358541</td>\n",
       "      <td>3.064582</td>\n",
       "      <td>5.041958</td>\n",
       "      <td>-0.154254</td>\n",
       "      <td>...</td>\n",
       "      <td>-11.254047</td>\n",
       "      <td>-8.756488</td>\n",
       "      <td>-13.408503</td>\n",
       "      <td>-10.048542</td>\n",
       "      <td>-14.173534</td>\n",
       "      <td>-5.606719</td>\n",
       "      <td>-14.093167</td>\n",
       "      <td>-3.498630</td>\n",
       "      <td>-4.728864</td>\n",
       "      <td>-10.416376</td>\n",
       "    </tr>\n",
       "    <tr>\n",
       "      <th>8259</th>\n",
       "      <td>2022-02-21 05:00:00</td>\n",
       "      <td>1.0</td>\n",
       "      <td>1.032885</td>\n",
       "      <td>9.827482</td>\n",
       "      <td>5.909710</td>\n",
       "      <td>-1.885922</td>\n",
       "      <td>3.627766</td>\n",
       "      <td>9.328867</td>\n",
       "      <td>7.544960</td>\n",
       "      <td>2.161421</td>\n",
       "      <td>...</td>\n",
       "      <td>-3.801436</td>\n",
       "      <td>1.325693</td>\n",
       "      <td>15.651946</td>\n",
       "      <td>-2.914755</td>\n",
       "      <td>-10.669768</td>\n",
       "      <td>3.803499</td>\n",
       "      <td>-3.002045</td>\n",
       "      <td>0.608997</td>\n",
       "      <td>-6.741726</td>\n",
       "      <td>-0.135263</td>\n",
       "    </tr>\n",
       "    <tr>\n",
       "      <th>6496</th>\n",
       "      <td>2019-10-12 07:00:00</td>\n",
       "      <td>1.0</td>\n",
       "      <td>0.215331</td>\n",
       "      <td>1.864149</td>\n",
       "      <td>1.003219</td>\n",
       "      <td>-1.073648</td>\n",
       "      <td>-0.486088</td>\n",
       "      <td>-4.586650</td>\n",
       "      <td>-6.433112</td>\n",
       "      <td>-1.383539</td>\n",
       "      <td>...</td>\n",
       "      <td>9.498095</td>\n",
       "      <td>10.517270</td>\n",
       "      <td>5.241626</td>\n",
       "      <td>-4.807153</td>\n",
       "      <td>-4.988340</td>\n",
       "      <td>-1.415566</td>\n",
       "      <td>-1.608077</td>\n",
       "      <td>9.795355</td>\n",
       "      <td>10.501699</td>\n",
       "      <td>18.606970</td>\n",
       "    </tr>\n",
       "    <tr>\n",
       "      <th>445</th>\n",
       "      <td>2004-09-04 07:00:00</td>\n",
       "      <td>0.0</td>\n",
       "      <td>-0.241907</td>\n",
       "      <td>0.302868</td>\n",
       "      <td>-0.228481</td>\n",
       "      <td>-1.514254</td>\n",
       "      <td>1.356273</td>\n",
       "      <td>-1.363989</td>\n",
       "      <td>-5.250226</td>\n",
       "      <td>-0.435547</td>\n",
       "      <td>...</td>\n",
       "      <td>-5.949942</td>\n",
       "      <td>1.620057</td>\n",
       "      <td>9.691835</td>\n",
       "      <td>14.296583</td>\n",
       "      <td>-2.239945</td>\n",
       "      <td>-2.796656</td>\n",
       "      <td>4.512418</td>\n",
       "      <td>-2.491363</td>\n",
       "      <td>-5.413302</td>\n",
       "      <td>2.946867</td>\n",
       "    </tr>\n",
       "  </tbody>\n",
       "</table>\n",
       "<p>5 rows × 210 columns</p>\n",
       "</div>"
      ],
      "text/plain": [
       "                    time  flag     u10_0     u10_1     u10_2     u10_3  \\\n",
       "6436 2019-08-25 15:00:00   0.0 -0.675454 -0.753002 -2.870718 -0.951409   \n",
       "6817 2020-01-30 09:00:00   1.0  0.586256  3.576448  3.586214 -0.988980   \n",
       "8259 2022-02-21 05:00:00   1.0  1.032885  9.827482  5.909710 -1.885922   \n",
       "6496 2019-10-12 07:00:00   1.0  0.215331  1.864149  1.003219 -1.073648   \n",
       "445  2004-09-04 07:00:00   0.0 -0.241907  0.302868 -0.228481 -1.514254   \n",
       "\n",
       "         u10_4     u10_5     u10_6     u10_7  ...  v500_7_past  v500_8_past  \\\n",
       "6436  2.044496 -0.278227 -3.024989  1.434013  ...     6.784968    17.826725   \n",
       "6817  2.358541  3.064582  5.041958 -0.154254  ...   -11.254047    -8.756488   \n",
       "8259  3.627766  9.328867  7.544960  2.161421  ...    -3.801436     1.325693   \n",
       "6496 -0.486088 -4.586650 -6.433112 -1.383539  ...     9.498095    10.517270   \n",
       "445   1.356273 -1.363989 -5.250226 -0.435547  ...    -5.949942     1.620057   \n",
       "\n",
       "      v500_9_past  v500_10_past  v500_11_past  v500_12_past  v500_13_past  \\\n",
       "6436    13.858530      7.299848     -9.074735     -5.102518     -0.041210   \n",
       "6817   -13.408503    -10.048542    -14.173534     -5.606719    -14.093167   \n",
       "8259    15.651946     -2.914755    -10.669768      3.803499     -3.002045   \n",
       "6496     5.241626     -4.807153     -4.988340     -1.415566     -1.608077   \n",
       "445      9.691835     14.296583     -2.239945     -2.796656      4.512418   \n",
       "\n",
       "      v500_14_past  v500_15_past  v500_16_past  \n",
       "6436     -3.276304     10.535948      6.444061  \n",
       "6817     -3.498630     -4.728864    -10.416376  \n",
       "8259      0.608997     -6.741726     -0.135263  \n",
       "6496      9.795355     10.501699     18.606970  \n",
       "445      -2.491363     -5.413302      2.946867  \n",
       "\n",
       "[5 rows x 210 columns]"
      ]
     },
     "execution_count": 3,
     "metadata": {},
     "output_type": "execute_result"
    }
   ],
   "source": [
    "data = pd.read_csv(data_path/f'for_model_{compound}_{site}.csv', parse_dates=['time'])\n",
    "data.sample(5)"
   ]
  },
  {
   "cell_type": "code",
   "execution_count": 4,
   "metadata": {},
   "outputs": [
    {
     "name": "stdout",
     "output_type": "stream",
     "text": [
      "Train range: 2018-01-01 01:00:00 -> 2018-12-31 01:00:00. Length: 520\n",
      "Val range: 2019-01-02 03:00:00 -> 2019-12-31 23:00:00. Length: 732\n",
      "Test range: 2020-01-04 17:00:00 -> 2022-12-31 21:00:00. Length: 1894\n"
     ]
    }
   ],
   "source": [
    "train_data = data[(data['time'].dt.year >= 2018) & (data['time'].dt.year <= 2018)]\n",
    "val_data = data[(data['time'].dt.year >= 2019) & (data['time'].dt.year <= 2019)]\n",
    "test_data = data[(data['time'].dt.year >= 2020) & (data['time'].dt.year <= 2023)]\n",
    "\n",
    "print(f\"Train range: {train_data['time'].min()} -> {train_data['time'].max()}. Length: {len(train_data)}\")\n",
    "print(f\"Val range: {val_data['time'].min()} -> {val_data['time'].max()}. Length: {len(val_data)}\")\n",
    "print(f\"Test range: {test_data['time'].min()} -> {test_data['time'].max()}. Length: {len(test_data)}\")\n",
    "\n",
    "\n",
    "# Drop the \"time\" column as it won't be used in the model\n",
    "train_data = train_data.drop(columns=['time'])\n",
    "val_data = val_data.drop(columns=['time'])\n",
    "test_data = test_data.drop(columns=['time'])\n",
    "\n",
    "# Define the features (X) and the target (y)\n",
    "X_train = train_data.drop(columns=['flag'])\n",
    "y_train = train_data['flag']\n",
    "X_val = val_data.drop(columns=['flag'])\n",
    "y_val = val_data['flag']\n",
    "X_test = test_data.drop(columns=['flag'])\n",
    "y_test = test_data['flag']\n",
    "\n",
    "# Balanced Data - removing NaN values and associated data\n",
    "y_train = y_train.dropna()\n",
    "y_val = y_val.dropna()\n",
    "y_test = y_test.dropna()\n",
    "\n",
    "# aligning indices of features sets\n",
    "X_train = X_train.loc[y_train.index]\n",
    "X_val = X_val.loc[y_val.index]\n",
    "X_test = X_test.loc[y_test.index]"
   ]
  },
  {
   "cell_type": "markdown",
   "metadata": {},
   "source": [
    "### Model"
   ]
  },
  {
   "cell_type": "code",
   "execution_count": 34,
   "metadata": {},
   "outputs": [
    {
     "name": "stdout",
     "output_type": "stream",
     "text": [
      "Precision on Training Set = 0.863\n",
      "Precision on Validation Set = 0.902\n",
      "Recall on Training Set = 0.993\n",
      "Recall on Validation Set = 0.950\n",
      "F1 Score on Training Set = 0.924\n",
      "F1 Score on Validation Set = 0.925\n"
     ]
    }
   ],
   "source": [
    "nn_model = MLPClassifier(random_state=42,\n",
    "                         max_iter=1000, \n",
    "                         hidden_layer_sizes=(200,), \n",
    "                         shuffle=False,\n",
    "                         activation='relu', \n",
    "                         solver='adam', \n",
    "                         alpha=0.05, \n",
    "                         learning_rate='constant', \n",
    "                         batch_size=100, \n",
    "                         early_stopping=True,\n",
    "                         learning_rate_init=0.001,\n",
    "                         beta_2=0.9,\n",
    "                         n_iter_no_change=20,\n",
    "                         validation_fraction=0.2,)\n",
    "\n",
    "nn_model.fit(X_train, y_train)\n",
    "\n",
    "y_pred_val = nn_model.predict(X_val)\n",
    "y_pred_train = nn_model.predict(X_train)\n",
    "\n",
    "\n",
    "precision_val = precision_score(y_val, y_pred_val)\n",
    "precision_train = precision_score(y_train, y_pred_train)\n",
    "recall_val = recall_score(y_val, y_pred_val)\n",
    "recall_train = recall_score(y_train, y_pred_train)\n",
    "f1_val = f1_score(y_val, y_pred_val)\n",
    "f1_train = f1_score(y_train, y_pred_train)\n",
    "\n",
    "print(f\"Precision on Training Set = {precision_train:.3f}\")\n",
    "print(f\"Precision on Validation Set = {precision_val:.3f}\")\n",
    "print(f\"Recall on Training Set = {recall_train:.3f}\")\n",
    "print(f\"Recall on Validation Set = {recall_val:.3f}\")\n",
    "print(f\"F1 Score on Training Set = {f1_train:.3f}\")\n",
    "print(f\"F1 Score on Validation Set = {f1_val:.3f}\")"
   ]
  },
  {
   "cell_type": "code",
   "execution_count": 35,
   "metadata": {},
   "outputs": [
    {
     "name": "stdout",
     "output_type": "stream",
     "text": [
      "Precision on Testing Set = 0.897\n",
      "Recall on Testing Set = 0.968\n",
      "F1 Score on Testing Set = 0.931\n"
     ]
    }
   ],
   "source": [
    "# evaluating model on test set\n",
    "\n",
    "y_pred_test = nn_model.predict(X_test)\n",
    "\n",
    "precision_test = precision_score(y_test, y_pred_test)\n",
    "recall_test = recall_score(y_test, y_pred_test)\n",
    "f1_test = f1_score(y_test, y_pred_test)\n",
    "\n",
    "print(f\"Precision on Testing Set = {precision_test:.3f}\")\n",
    "print(f\"Recall on Testing Set = {recall_test:.3f}\")\n",
    "print(f\"F1 Score on Testing Set = {f1_test:.3f}\")"
   ]
  },
  {
   "cell_type": "code",
   "execution_count": 36,
   "metadata": {},
   "outputs": [
    {
     "data": {
      "text/plain": [
       "['C:\\\\Users\\\\kirst\\\\OneDrive\\\\Kirstin\\\\Uni\\\\Year4\\\\MSciProject\\\\data_files\\\\saved_files\\\\nn_model_CMN.joblib']"
      ]
     },
     "execution_count": 36,
     "metadata": {},
     "output_type": "execute_result"
    }
   ],
   "source": [
    "# saving the model\n",
    "dump(nn_model, data_path/f'nn_model_{site}.joblib')"
   ]
  },
  {
   "cell_type": "markdown",
   "metadata": {},
   "source": [
    "### Assessing Feature Importance"
   ]
  },
  {
   "cell_type": "code",
   "execution_count": 37,
   "metadata": {},
   "outputs": [],
   "source": [
    "# finding most important features in the model using permutation importance\n",
    "# using the testing set\n",
    "perm_importance = permutation_importance(nn_model, X_train, y_train, n_repeats=30, random_state=42)\n",
    "sorted_importances = perm_importance.importances_mean.argsort()"
   ]
  },
  {
   "cell_type": "code",
   "execution_count": 38,
   "metadata": {},
   "outputs": [
    {
     "data": {
      "text/plain": [
       "Text(0.5, 0, 'Permutation Importance')"
      ]
     },
     "execution_count": 38,
     "metadata": {},
     "output_type": "execute_result"
    },
    {
     "data": {
      "image/png": "[encoded data removed]",
      "text/plain": [
       "<Figure size 1200x1200 with 1 Axes>"
      ]
     },
     "metadata": {},
     "output_type": "display_data"
    }
   ],
   "source": [
    "# plotting first 20 most important features in a histogram\n",
    "fig, ax = plt.subplots(figsize=(12, 12))\n",
    "sns.set_theme(style='ticks', font='Arial')\n",
    "\n",
    "ax.barh(X_val.columns[sorted_importances][-20:], perm_importance.importances_mean[sorted_importances][-20:], color='#FF620E')\n",
    "\n",
    "ax.set_xscale('log')\n",
    "\n",
    "ax.set_ylabel('Features', fontsize=12, fontstyle='italic')\n",
    "ax.set_xlabel('Permutation Importance', fontsize=12, fontstyle='italic')\n",
    "# ax.set_title('Permutation Importance (Testing Set)', fontsize=14)"
   ]
  }
 ],
 "metadata": {
  "kernelspec": {
   "display_name": "venv",
   "language": "python",
   "name": "python3"
  },
  "language_info": {
   "codemirror_mode": {
    "name": "ipython",
    "version": 3
   },
   "file_extension": ".py",
   "mimetype": "text/x-python",
   "name": "python",
   "nbconvert_exporter": "python",
   "pygments_lexer": "ipython3",
   "version": "3.11.9"
  }
 },
 "nbformat": 4,
 "nbformat_minor": 2
}
