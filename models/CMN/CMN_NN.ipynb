{
 "cells": [
  {
   "cell_type": "markdown",
   "metadata": {},
   "source": [
    "# Neural Network Final Model - Monte Cimone, Italy"
   ]
  },
  {
   "cell_type": "code",
   "execution_count": 2,
   "metadata": {},
   "outputs": [],
   "source": [
    "import pandas as pd\n",
    "import numpy as np\n",
    "from joblib import dump\n",
    "from pathlib import Path\n",
    "import matplotlib.pyplot as plt\n",
    "import seaborn as sns\n",
    "\n",
    "from sklearn.neural_network import MLPClassifier\n",
    "from sklearn.metrics import precision_score, recall_score, f1_score, accuracy_score\n",
    "\n",
    "import sys\n",
    "sys.path.append('../../')\n",
    "import config as cfg\n",
    "import functions as f\n",
    "\n",
    "data_path = Path.home()/'OneDrive'/'Kirstin'/'Uni'/'Year4'/'MSciProject'/'data_files'/'saved_files'"
   ]
  },
  {
   "cell_type": "code",
   "execution_count": 3,
   "metadata": {},
   "outputs": [
    {
     "name": "stdout",
     "output_type": "stream",
     "text": [
      "Creating a neural network model for \u001b[1mMonte Cimone, Italy\u001b[0;0m.\n"
     ]
    }
   ],
   "source": [
    "site = cfg.site\n",
    "site_name = cfg.site_dict[site]\n",
    "assert site == 'CMN', 'This script is only for Monte Cimone, Italy. The site can be changed in the config file.'\n",
    "\n",
    "compound = cfg.compound\n",
    "\n",
    "print(f\"Creating a neural network model for \\033[1m{site_name}\\033[0;0m.\")"
   ]
  },
  {
   "cell_type": "markdown",
   "metadata": {},
   "source": [
    "### Loading & Initialising Data"
   ]
  },
  {
   "cell_type": "code",
   "execution_count": 4,
   "metadata": {},
   "outputs": [
    {
     "data": {
      "text/html": [
       "<div>\n",
       "<style scoped>\n",
       "    .dataframe tbody tr th:only-of-type {\n",
       "        vertical-align: middle;\n",
       "    }\n",
       "\n",
       "    .dataframe tbody tr th {\n",
       "        vertical-align: top;\n",
       "    }\n",
       "\n",
       "    .dataframe thead th {\n",
       "        text-align: right;\n",
       "    }\n",
       "</style>\n",
       "<table border=\"1\" class=\"dataframe\">\n",
       "  <thead>\n",
       "    <tr style=\"text-align: right;\">\n",
       "      <th></th>\n",
       "      <th>time</th>\n",
       "      <th>flag</th>\n",
       "      <th>u10_0</th>\n",
       "      <th>u10_1</th>\n",
       "      <th>u10_2</th>\n",
       "      <th>u10_3</th>\n",
       "      <th>u10_4</th>\n",
       "      <th>u10_5</th>\n",
       "      <th>u10_6</th>\n",
       "      <th>u10_7</th>\n",
       "      <th>...</th>\n",
       "      <th>v500_7_past</th>\n",
       "      <th>v500_8_past</th>\n",
       "      <th>v500_9_past</th>\n",
       "      <th>v500_10_past</th>\n",
       "      <th>v500_11_past</th>\n",
       "      <th>v500_12_past</th>\n",
       "      <th>v500_13_past</th>\n",
       "      <th>v500_14_past</th>\n",
       "      <th>v500_15_past</th>\n",
       "      <th>v500_16_past</th>\n",
       "    </tr>\n",
       "  </thead>\n",
       "  <tbody>\n",
       "    <tr>\n",
       "      <th>3667</th>\n",
       "      <td>2014-08-22 03:00:00</td>\n",
       "      <td>1.0</td>\n",
       "      <td>0.493401</td>\n",
       "      <td>1.524596</td>\n",
       "      <td>-0.548075</td>\n",
       "      <td>-0.812814</td>\n",
       "      <td>1.124147</td>\n",
       "      <td>-1.980234</td>\n",
       "      <td>-3.941355</td>\n",
       "      <td>-0.128092</td>\n",
       "      <td>...</td>\n",
       "      <td>0.461325</td>\n",
       "      <td>1.794425</td>\n",
       "      <td>5.503472</td>\n",
       "      <td>1.426159</td>\n",
       "      <td>1.108372</td>\n",
       "      <td>-3.975076</td>\n",
       "      <td>1.746241</td>\n",
       "      <td>-0.771965</td>\n",
       "      <td>0.779112</td>\n",
       "      <td>2.127126</td>\n",
       "    </tr>\n",
       "    <tr>\n",
       "      <th>2473</th>\n",
       "      <td>2011-05-27 23:00:00</td>\n",
       "      <td>0.0</td>\n",
       "      <td>1.123186</td>\n",
       "      <td>2.423138</td>\n",
       "      <td>3.706761</td>\n",
       "      <td>-1.823302</td>\n",
       "      <td>1.536137</td>\n",
       "      <td>5.910570</td>\n",
       "      <td>-0.560747</td>\n",
       "      <td>0.863511</td>\n",
       "      <td>...</td>\n",
       "      <td>-0.544615</td>\n",
       "      <td>3.113453</td>\n",
       "      <td>10.338076</td>\n",
       "      <td>6.102952</td>\n",
       "      <td>2.784253</td>\n",
       "      <td>-11.428576</td>\n",
       "      <td>1.031481</td>\n",
       "      <td>3.632040</td>\n",
       "      <td>0.497642</td>\n",
       "      <td>11.149002</td>\n",
       "    </tr>\n",
       "    <tr>\n",
       "      <th>8283</th>\n",
       "      <td>2022-03-01 21:00:00</td>\n",
       "      <td>1.0</td>\n",
       "      <td>0.020698</td>\n",
       "      <td>-2.069372</td>\n",
       "      <td>-1.215909</td>\n",
       "      <td>-1.554685</td>\n",
       "      <td>-0.625533</td>\n",
       "      <td>0.842840</td>\n",
       "      <td>5.612835</td>\n",
       "      <td>2.052304</td>\n",
       "      <td>...</td>\n",
       "      <td>-16.591694</td>\n",
       "      <td>-5.191948</td>\n",
       "      <td>-3.642171</td>\n",
       "      <td>-20.723415</td>\n",
       "      <td>6.932151</td>\n",
       "      <td>3.439026</td>\n",
       "      <td>-7.790735</td>\n",
       "      <td>9.109803</td>\n",
       "      <td>9.192498</td>\n",
       "      <td>14.684102</td>\n",
       "    </tr>\n",
       "    <tr>\n",
       "      <th>7923</th>\n",
       "      <td>2021-11-03 01:00:00</td>\n",
       "      <td>1.0</td>\n",
       "      <td>0.057385</td>\n",
       "      <td>-1.287275</td>\n",
       "      <td>1.688355</td>\n",
       "      <td>-2.356123</td>\n",
       "      <td>-3.217965</td>\n",
       "      <td>4.791688</td>\n",
       "      <td>8.702049</td>\n",
       "      <td>-1.978265</td>\n",
       "      <td>...</td>\n",
       "      <td>5.523508</td>\n",
       "      <td>3.606606</td>\n",
       "      <td>3.839165</td>\n",
       "      <td>13.331329</td>\n",
       "      <td>6.337463</td>\n",
       "      <td>-6.131797</td>\n",
       "      <td>2.491692</td>\n",
       "      <td>0.583341</td>\n",
       "      <td>5.668857</td>\n",
       "      <td>-3.611269</td>\n",
       "    </tr>\n",
       "    <tr>\n",
       "      <th>5225</th>\n",
       "      <td>2017-09-16 21:00:00</td>\n",
       "      <td>1.0</td>\n",
       "      <td>0.268942</td>\n",
       "      <td>-0.721884</td>\n",
       "      <td>0.816729</td>\n",
       "      <td>-1.663008</td>\n",
       "      <td>-2.659178</td>\n",
       "      <td>4.390436</td>\n",
       "      <td>-2.787441</td>\n",
       "      <td>1.831604</td>\n",
       "      <td>...</td>\n",
       "      <td>10.897058</td>\n",
       "      <td>4.458255</td>\n",
       "      <td>3.757377</td>\n",
       "      <td>4.848238</td>\n",
       "      <td>10.239815</td>\n",
       "      <td>3.053772</td>\n",
       "      <td>4.923235</td>\n",
       "      <td>6.588160</td>\n",
       "      <td>-0.316986</td>\n",
       "      <td>-3.461391</td>\n",
       "    </tr>\n",
       "  </tbody>\n",
       "</table>\n",
       "<p>5 rows × 210 columns</p>\n",
       "</div>"
      ],
      "text/plain": [
       "                    time  flag     u10_0     u10_1     u10_2     u10_3  \\\n",
       "3667 2014-08-22 03:00:00   1.0  0.493401  1.524596 -0.548075 -0.812814   \n",
       "2473 2011-05-27 23:00:00   0.0  1.123186  2.423138  3.706761 -1.823302   \n",
       "8283 2022-03-01 21:00:00   1.0  0.020698 -2.069372 -1.215909 -1.554685   \n",
       "7923 2021-11-03 01:00:00   1.0  0.057385 -1.287275  1.688355 -2.356123   \n",
       "5225 2017-09-16 21:00:00   1.0  0.268942 -0.721884  0.816729 -1.663008   \n",
       "\n",
       "         u10_4     u10_5     u10_6     u10_7  ...  v500_7_past  v500_8_past  \\\n",
       "3667  1.124147 -1.980234 -3.941355 -0.128092  ...     0.461325     1.794425   \n",
       "2473  1.536137  5.910570 -0.560747  0.863511  ...    -0.544615     3.113453   \n",
       "8283 -0.625533  0.842840  5.612835  2.052304  ...   -16.591694    -5.191948   \n",
       "7923 -3.217965  4.791688  8.702049 -1.978265  ...     5.523508     3.606606   \n",
       "5225 -2.659178  4.390436 -2.787441  1.831604  ...    10.897058     4.458255   \n",
       "\n",
       "      v500_9_past  v500_10_past  v500_11_past  v500_12_past  v500_13_past  \\\n",
       "3667     5.503472      1.426159      1.108372     -3.975076      1.746241   \n",
       "2473    10.338076      6.102952      2.784253    -11.428576      1.031481   \n",
       "8283    -3.642171    -20.723415      6.932151      3.439026     -7.790735   \n",
       "7923     3.839165     13.331329      6.337463     -6.131797      2.491692   \n",
       "5225     3.757377      4.848238     10.239815      3.053772      4.923235   \n",
       "\n",
       "      v500_14_past  v500_15_past  v500_16_past  \n",
       "3667     -0.771965      0.779112      2.127126  \n",
       "2473      3.632040      0.497642     11.149002  \n",
       "8283      9.109803      9.192498     14.684102  \n",
       "7923      0.583341      5.668857     -3.611269  \n",
       "5225      6.588160     -0.316986     -3.461391  \n",
       "\n",
       "[5 rows x 210 columns]"
      ]
     },
     "execution_count": 4,
     "metadata": {},
     "output_type": "execute_result"
    }
   ],
   "source": [
    "data = pd.read_csv(data_path/f'for_model_{compound}_{site}.csv', parse_dates=['time'])\n",
    "data.sample(5)"
   ]
  },
  {
   "cell_type": "code",
   "execution_count": 5,
   "metadata": {},
   "outputs": [
    {
     "name": "stdout",
     "output_type": "stream",
     "text": [
      "Train range: 2018-01-01 01:00:00 -> 2018-12-31 01:00:00. Length: 520\n",
      "Val range: 2019-01-02 03:00:00 -> 2019-12-31 23:00:00. Length: 732\n",
      "Test range: 2020-01-04 17:00:00 -> 2022-12-31 21:00:00. Length: 1894\n"
     ]
    }
   ],
   "source": [
    "train_data = data[(data['time'].dt.year >= 2018) & (data['time'].dt.year <= 2018)]\n",
    "val_data = data[(data['time'].dt.year >= 2019) & (data['time'].dt.year <= 2019)]\n",
    "test_data = data[(data['time'].dt.year >= 2020) & (data['time'].dt.year <= 2023)]\n",
    "\n",
    "print(f\"Train range: {train_data['time'].min()} -> {train_data['time'].max()}. Length: {len(train_data)}\")\n",
    "print(f\"Val range: {val_data['time'].min()} -> {val_data['time'].max()}. Length: {len(val_data)}\")\n",
    "print(f\"Test range: {test_data['time'].min()} -> {test_data['time'].max()}. Length: {len(test_data)}\")\n",
    "\n",
    "\n",
    "# Drop the \"time\" column as it won't be used in the model\n",
    "train_data = train_data.drop(columns=['time'])\n",
    "val_data = val_data.drop(columns=['time'])\n",
    "test_data = test_data.drop(columns=['time'])\n",
    "\n",
    "# Define the features (X) and the target (y)\n",
    "X_train = train_data.drop(columns=['flag'])\n",
    "y_train = train_data['flag']\n",
    "X_val = val_data.drop(columns=['flag'])\n",
    "y_val = val_data['flag']\n",
    "X_test = test_data.drop(columns=['flag'])\n",
    "y_test = test_data['flag']\n",
    "\n",
    "# Balanced Data - removing NaN values and associated data\n",
    "y_train = y_train.dropna()\n",
    "y_val = y_val.dropna()\n",
    "y_test = y_test.dropna()\n",
    "\n",
    "# aligning indices of features sets\n",
    "X_train = X_train.loc[y_train.index]\n",
    "X_val = X_val.loc[y_val.index]\n",
    "X_test = X_test.loc[y_test.index]"
   ]
  },
  {
   "cell_type": "markdown",
   "metadata": {},
   "source": [
    "### Model"
   ]
  },
  {
   "cell_type": "code",
   "execution_count": 6,
   "metadata": {},
   "outputs": [
    {
     "name": "stdout",
     "output_type": "stream",
     "text": [
      "Precision on Training Set = 0.923\n",
      "Precision on Validation Set = 0.926\n",
      "Recall on Training Set = 0.681\n",
      "Recall on Validation Set = 0.591\n",
      "F1 Score on Training Set = 0.784\n",
      "F1 Score on Validation Set = 0.722\n"
     ]
    }
   ],
   "source": [
    "nn_model = MLPClassifier(random_state=42,\n",
    "                         max_iter=1000, \n",
    "                         hidden_layer_sizes=(100,), \n",
    "                         shuffle=False,\n",
    "                         activation='relu', \n",
    "                         solver='adam', \n",
    "                         alpha=0.5, \n",
    "                         learning_rate='constant', \n",
    "                         batch_size=250, \n",
    "                         early_stopping=False,\n",
    "                         learning_rate_init=0.01,\n",
    "                         beta_2=0.9,)\n",
    "\n",
    "nn_model.fit(X_train, y_train)\n",
    "\n",
    "class_probabilities_val = nn_model.predict_proba(X_val)\n",
    "class_probabilities_train = nn_model.predict_proba(X_train)\n",
    "\n",
    "confidence_threshold = config.confidence_threshold\n",
    "\n",
    "y_pred_val = (class_probabilities_val[:,1] > confidence_threshold).astype(int)\n",
    "y_pred_train = (class_probabilities_train[:,1] > confidence_threshold).astype(int)\n",
    "\n",
    "\n",
    "precision_val = precision_score(y_val, y_pred_val)\n",
    "precision_train = precision_score(y_train, y_pred_train)\n",
    "recall_val = recall_score(y_val, y_pred_val)\n",
    "recall_train = recall_score(y_train, y_pred_train)\n",
    "f1_val = f1_score(y_val, y_pred_val)\n",
    "f1_train = f1_score(y_train, y_pred_train)\n",
    "\n",
    "print(f\"Precision on Training Set = {precision_train:.3f}\")\n",
    "print(f\"Precision on Validation Set = {precision_val:.3f}\")\n",
    "print(f\"Recall on Training Set = {recall_train:.3f}\")\n",
    "print(f\"Recall on Validation Set = {recall_val:.3f}\")\n",
    "print(f\"F1 Score on Training Set = {f1_train:.3f}\")\n",
    "print(f\"F1 Score on Validation Set = {f1_val:.3f}\")"
   ]
  },
  {
   "cell_type": "code",
   "execution_count": 7,
   "metadata": {},
   "outputs": [
    {
     "name": "stdout",
     "output_type": "stream",
     "text": [
      "Precision on Testing Set = 0.934\n",
      "Recall on Testing Set = 0.573\n",
      "F1 Score on Testing Set = 0.710\n"
     ]
    }
   ],
   "source": [
    "# evaluating model on test set\n",
    "class_probabilities_test = nn_model.predict_proba(X_test)\n",
    "\n",
    "y_pred_test = (class_probabilities_test[:,1] > confidence_threshold).astype(int)\n",
    "\n",
    "precision_test = precision_score(y_test, y_pred_test)\n",
    "recall_test = recall_score(y_test, y_pred_test)\n",
    "f1_test = f1_score(y_test, y_pred_test)\n",
    "\n",
    "print(f\"Precision on Testing Set = {precision_test:.3f}\")\n",
    "print(f\"Recall on Testing Set = {recall_test:.3f}\")\n",
    "print(f\"F1 Score on Testing Set = {f1_test:.3f}\")"
   ]
  },
  {
   "cell_type": "code",
   "execution_count": 62,
   "metadata": {},
   "outputs": [
    {
     "data": {
      "text/plain": [
       "['C:\\\\Users\\\\kirst\\\\OneDrive\\\\Kirstin\\\\Uni\\\\Year4\\\\MSciProject\\\\data_files\\\\saved_files\\\\nn_model_CMN.joblib']"
      ]
     },
     "execution_count": 62,
     "metadata": {},
     "output_type": "execute_result"
    }
   ],
   "source": [
    "# saving the model\n",
    "dump(nn_model, data_path/f'nn_model_{site}.joblib')"
   ]
  },
  {
   "cell_type": "markdown",
   "metadata": {},
   "source": [
    "### Assessing Feature Importance"
   ]
  },
  {
   "cell_type": "code",
   "execution_count": 8,
   "metadata": {},
   "outputs": [],
   "source": [
    "# grouping features by category i.e. x-wind, y-wind, temporal etc.\n",
    "u_features = [col for col in data.columns if 'u' in col]\n",
    "v_features = [col for col in data.columns if 'v' in col]\n",
    "temporal_features = ['day_of_year', 'time_of_day']\n",
    "sp = ['sp']\n",
    "blh = ['blh']\n",
    "\n",
    "groups = [u_features, v_features, temporal_features, sp, blh]"
   ]
  },
  {
   "cell_type": "code",
   "execution_count": 9,
   "metadata": {},
   "outputs": [],
   "source": [
    "original_score = accuracy_score(y_train, nn_model.predict(X_train))\n",
    "importances = {}\n",
    "\n",
    "for group in groups:\n",
    "    scores_diff = []\n",
    "    for _ in range(100):\n",
    "        X_train_permuted = f.permute_group(X_train, group)\n",
    "        \n",
    "        permuted_score = accuracy_score(y_train, nn_model.predict(X_train_permuted))\n",
    "        scores_diff.append(original_score - permuted_score)\n",
    "    \n",
    "    importances[str(group)] = np.mean(scores_diff)\n",
    "\n",
    "# Sort groups by importance\n",
    "sorted_importances = sorted(importances.items(), key=lambda x: x[1], reverse=False)"
   ]
  },
  {
   "cell_type": "code",
   "execution_count": 10,
   "metadata": {},
   "outputs": [],
   "source": [
    "# matching the group names to the sorted importances\n",
    "n = len(groups)\n",
    "group_names_sorted = []\n",
    "\n",
    "for i in range(n):\n",
    "    name = sorted_importances[i][0]\n",
    "\n",
    "    if 'u10_0' in name:\n",
    "        group_names_sorted.append('u-wind')\n",
    "\n",
    "    elif 'v10_0' in name:\n",
    "        group_names_sorted.append('v-wind')\n",
    "\n",
    "    elif 'day_of_year' in name:\n",
    "        group_names_sorted.append('temporal')\n",
    "\n",
    "    elif 'sp' in name:\n",
    "        group_names_sorted.append('sp')\n",
    "\n",
    "    elif 'blh' in name:\n",
    "        group_names_sorted.append('blh')"
   ]
  },
  {
   "cell_type": "code",
   "execution_count": 11,
   "metadata": {},
   "outputs": [
    {
     "data": {
      "text/plain": [
       "Text(0, 0.5, 'Feature Group')"
      ]
     },
     "execution_count": 11,
     "metadata": {},
     "output_type": "execute_result"
    },
    {
     "data": {
      "image/png": "[encoded data removed]",
      "text/plain": [
       "<Figure size 1200x800 with 1 Axes>"
      ]
     },
     "metadata": {},
     "output_type": "display_data"
    }
   ],
   "source": [
    "# Plotting the importances of the groups\n",
    "fig, ax = plt.subplots(figsize=(12, 8))\n",
    "sns.set_theme(style='ticks', font='Arial')\n",
    "\n",
    "ax.barh(group_names_sorted, [importance for _, importance in sorted_importances], color='#FF620E')\n",
    "\n",
    "ax.set_xlabel('Importance', fontsize=12, fontstyle='italic')\n",
    "ax.set_ylabel('Feature Group', fontsize=12, fontstyle='italic')\n",
    "# ax.set_title('Permutation Importances', fontsize=14)"
   ]
  }
 ],
 "metadata": {
  "kernelspec": {
   "display_name": "venv",
   "language": "python",
   "name": "python3"
  },
  "language_info": {
   "codemirror_mode": {
    "name": "ipython",
    "version": 3
   },
   "file_extension": ".py",
   "mimetype": "text/x-python",
   "name": "python",
   "nbconvert_exporter": "python",
   "pygments_lexer": "ipython3",
   "version": "3.11.9"
  }
 },
 "nbformat": 4,
 "nbformat_minor": 2
}
