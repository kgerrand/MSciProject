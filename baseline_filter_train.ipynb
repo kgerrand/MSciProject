{
 "cells": [
  {
   "cell_type": "code",
   "execution_count": 1,
   "metadata": {},
   "outputs": [],
   "source": [
    "import pandas as pd\n",
    "from sklearn.ensemble import RandomForestClassifier, GradientBoostingClassifier\n",
    "from sklearn.model_selection import GridSearchCV, RandomizedSearchCV\n",
    "from sklearn.metrics import accuracy_score, precision_score, recall_score, roc_auc_score, f1_score\n",
    "from joblib import dump\n",
    "import numpy as np"
   ]
  },
  {
   "cell_type": "code",
   "execution_count": 2,
   "metadata": {},
   "outputs": [
    {
     "data": {
      "text/plain": [
       "'\\nSyntax for using WandB:\\n\\nwandb.init(project=\"MSciProject\", name=\"name\", notebook=\"your-notebook-name\")\\n# code here\\nwandb.finish()\\n'"
      ]
     },
     "execution_count": 2,
     "metadata": {},
     "output_type": "execute_result"
    }
   ],
   "source": [
    "# initialising WandB\n",
    "import wandb, os\n",
    "\n",
    "os.environ[\"WANDB_API_KEY\"] = \"e84d2e19bd2cc42ec6e5d232cd0b6f0fe41f2189\"\n",
    "os.environ[\"WANDB_NOTEBOOK_NAME\"] = \"baseline_filter_train.ipynb\"\n",
    "\n",
    "'''\n",
    "Syntax for using WandB:\n",
    "\n",
    "wandb.init(project=\"MSciProject\", name=\"name\", notebook=\"your-notebook-name\")\n",
    "# code here\n",
    "wandb.finish()\n",
    "'''"
   ]
  },
  {
   "cell_type": "code",
   "execution_count": 3,
   "metadata": {},
   "outputs": [],
   "source": [
    "# Load the data\n",
    "data = pd.read_csv('/Users/kirst/Downloads/uvf.csv', parse_dates=['time'])"
   ]
  },
  {
   "cell_type": "code",
   "execution_count": 6,
   "metadata": {},
   "outputs": [
    {
     "name": "stdout",
     "output_type": "stream",
     "text": [
      "Train range: 2003-05-22 12:56:00 -> 2012-12-31 22:29:00\n",
      "Test range: 2014-01-01 00:25:00 -> 2016-12-31 21:51:00\n"
     ]
    }
   ],
   "source": [
    "# Convert \"time\" column to datetime format\n",
    "#data['time'] = pd.to_datetime(data['time'], format='%d/%m/%Y %H:%M')\n",
    "\n",
    "# Split the data into training and testing sets based on the date\n",
    "train_data = data[data['time'].dt.year <= 2012]\n",
    "test_data = data[(data['time'].dt.year >= 2014) & (data['time'].dt.year <= 2016)]\n",
    "\n",
    "print(f\"Train range: {train_data['time'].min()} -> {train_data['time'].max()}\")\n",
    "print(f\"Test range: {test_data['time'].min()} -> {test_data['time'].max()}\")\n",
    "\n",
    "training_date_range = \"2003-05-22 to 2012-12-31\"\n",
    "testing_date_range = \"2014-01-01 to 2016-12-31\"\n",
    "\n",
    "# Drop the \"time\" column as it won't be used in the model\n",
    "train_data = train_data.drop(columns=['time'])\n",
    "test_data = test_data.drop(columns=['time'])\n",
    "\n",
    "# Check the size of the training and testing sets\n",
    "len(train_data), len(test_data)\n",
    "\n",
    "# Define the features (X) and the target (y)\n",
    "X_train = train_data.drop(columns=['flag'])\n",
    "y_train = train_data['flag']\n",
    "X_test = test_data.drop(columns=['flag'])\n",
    "y_test = test_data['flag']"
   ]
  },
  {
   "cell_type": "code",
   "execution_count": 5,
   "metadata": {},
   "outputs": [
    {
     "name": "stderr",
     "output_type": "stream",
     "text": [
      "\u001b[34m\u001b[1mwandb\u001b[0m: Currently logged in as: \u001b[33mkgerrand\u001b[0m. Use \u001b[1m`wandb login --relogin`\u001b[0m to force relogin\n"
     ]
    },
    {
     "data": {
      "text/html": [
       "Tracking run with wandb version 0.15.12"
      ],
      "text/plain": [
       "<IPython.core.display.HTML object>"
      ]
     },
     "metadata": {},
     "output_type": "display_data"
    },
    {
     "data": {
      "text/html": [
       "Run data is saved locally in <code>c:\\Users\\kirst\\OneDrive\\Kirstin\\Uni\\Year4\\MSciProject\\my_code\\optimising_algorithm\\wandb\\run-20231030_174137-ojnbz180</code>"
      ],
      "text/plain": [
       "<IPython.core.display.HTML object>"
      ]
     },
     "metadata": {},
     "output_type": "display_data"
    },
    {
     "data": {
      "text/html": [
       "Syncing run <strong><a href='https://wandb.ai/kgerrand/MSciProject/runs/ojnbz180' target=\"_blank\">scary-ritual-9</a></strong> to <a href='https://wandb.ai/kgerrand/MSciProject' target=\"_blank\">Weights & Biases</a> (<a href='https://wandb.me/run' target=\"_blank\">docs</a>)<br/>"
      ],
      "text/plain": [
       "<IPython.core.display.HTML object>"
      ]
     },
     "metadata": {},
     "output_type": "display_data"
    },
    {
     "data": {
      "text/html": [
       " View project at <a href='https://wandb.ai/kgerrand/MSciProject' target=\"_blank\">https://wandb.ai/kgerrand/MSciProject</a>"
      ],
      "text/plain": [
       "<IPython.core.display.HTML object>"
      ]
     },
     "metadata": {},
     "output_type": "display_data"
    },
    {
     "data": {
      "text/html": [
       " View run at <a href='https://wandb.ai/kgerrand/MSciProject/runs/ojnbz180' target=\"_blank\">https://wandb.ai/kgerrand/MSciProject/runs/ojnbz180</a>"
      ],
      "text/plain": [
       "<IPython.core.display.HTML object>"
      ]
     },
     "metadata": {},
     "output_type": "display_data"
    },
    {
     "data": {
      "text/html": [
       "Waiting for W&B process to finish... <strong style=\"color:green\">(success).</strong>"
      ],
      "text/plain": [
       "<IPython.core.display.HTML object>"
      ]
     },
     "metadata": {},
     "output_type": "display_data"
    },
    {
     "data": {
      "text/html": [
       "<style>\n",
       "    table.wandb td:nth-child(1) { padding: 0 10px; text-align: left ; width: auto;} td:nth-child(2) {text-align: left ; width: 100%}\n",
       "    .wandb-row { display: flex; flex-direction: row; flex-wrap: wrap; justify-content: flex-start; width: 100% }\n",
       "    .wandb-col { display: flex; flex-direction: column; flex-basis: 100%; flex: 1; padding: 10px; }\n",
       "    </style>\n",
       "<div class=\"wandb-row\"><div class=\"wandb-col\"><h3>Run history:</h3><br/><table class=\"wandb\"><tr><td>accuracy</td><td>▁</td></tr><tr><td>auc_roc</td><td>▁</td></tr><tr><td>f1_score</td><td>▁</td></tr><tr><td>precision</td><td>▁</td></tr><tr><td>recall</td><td>▁</td></tr></table><br/></div><div class=\"wandb-col\"><h3>Run summary:</h3><br/><table class=\"wandb\"><tr><td>accuracy</td><td>0.75587</td></tr><tr><td>auc_roc</td><td>0.64211</td></tr><tr><td>f1_score</td><td>0.46786</td></tr><tr><td>model_name</td><td>Random Forest</td></tr><tr><td>precision</td><td>0.59554</td></tr><tr><td>recall</td><td>0.38525</td></tr><tr><td>testing date range</td><td>2014-01-01 to 2015-1...</td></tr><tr><td>training date range</td><td>2003-05-22 to 2012-1...</td></tr></table><br/></div></div>"
      ],
      "text/plain": [
       "<IPython.core.display.HTML object>"
      ]
     },
     "metadata": {},
     "output_type": "display_data"
    },
    {
     "data": {
      "text/html": [
       " View run <strong style=\"color:#cdcd00\">scary-ritual-9</strong> at: <a href='https://wandb.ai/kgerrand/MSciProject/runs/ojnbz180' target=\"_blank\">https://wandb.ai/kgerrand/MSciProject/runs/ojnbz180</a><br/> View job at <a href='https://wandb.ai/kgerrand/MSciProject/jobs/QXJ0aWZhY3RDb2xsZWN0aW9uOjExMTI3ODcxMg==/version_details/v0' target=\"_blank\">https://wandb.ai/kgerrand/MSciProject/jobs/QXJ0aWZhY3RDb2xsZWN0aW9uOjExMTI3ODcxMg==/version_details/v0</a><br/>Synced 4 W&B file(s), 0 media file(s), 2 artifact file(s) and 0 other file(s)"
      ],
      "text/plain": [
       "<IPython.core.display.HTML object>"
      ]
     },
     "metadata": {},
     "output_type": "display_data"
    },
    {
     "data": {
      "text/html": [
       "Find logs at: <code>.\\wandb\\run-20231030_174137-ojnbz180\\logs</code>"
      ],
      "text/plain": [
       "<IPython.core.display.HTML object>"
      ]
     },
     "metadata": {},
     "output_type": "display_data"
    }
   ],
   "source": [
    "wandb.init(project=\"MSciProject\")\n",
    "\n",
    "# Initialize the Random Forest model\n",
    "rf_model = RandomForestClassifier(n_estimators=100, random_state=42)\n",
    "\n",
    "# Train the model\n",
    "rf_model.fit(X_train, y_train)\n",
    "\n",
    "# Use the model to make predictions on the test data\n",
    "y_pred_rf = rf_model.predict(X_test)\n",
    "\n",
    "# Calculate the performance metrics\n",
    "accuracy = accuracy_score(y_test, y_pred_rf)\n",
    "precision = precision_score(y_test, y_pred_rf)\n",
    "recall = recall_score(y_test, y_pred_rf)\n",
    "auc_roc = roc_auc_score(y_test, y_pred_rf)\n",
    "f1 = f1_score(y_test, y_pred_rf)\n",
    "\n",
    "accuracy, precision, recall, auc_roc, f1\n",
    "\n",
    "wandb.log({\"model_name\":\"Random Forest\", \"accuracy\":accuracy, \"precision\":precision, \"recall\":recall, \n",
    "           \"auc_roc\":auc_roc, \"f1_score\":f1, \"training date range\": training_date_range, \"testing date range\": testing_date_range})\n",
    "\n",
    "wandb.finish()\n"
   ]
  },
  {
   "cell_type": "code",
   "execution_count": null,
   "metadata": {},
   "outputs": [],
   "source": [
    "wandb.init(project=\"MSciProject\")\n",
    "\n",
    "# Initialize Gradient boosted tree model\n",
    "gbt_model = GradientBoostingClassifier(random_state=42)\n",
    "\n",
    "# Train the model\n",
    "gbt_model.fit(X_train, y_train)\n",
    "\n",
    "# Use the model to make predictions on the test data\n",
    "y_pred_gbt = gbt_model.predict(X_test)\n",
    "\n",
    "# Calculate the performance metrics\n",
    "accuracy = accuracy_score(y_test, y_pred_gbt)\n",
    "precision = precision_score(y_test, y_pred_gbt)\n",
    "recall = recall_score(y_test, y_pred_gbt)\n",
    "auc_roc = roc_auc_score(y_test, y_pred_gbt)\n",
    "f1 = f1_score(y_test, y_pred_gbt)\n",
    "\n",
    "accuracy, precision, recall, auc_roc, f1\n",
    "\n",
    "wandb.log({\"model_name\":\"Gradient boosted tree\", \"accuracy\":accuracy, \"precision\":precision, \n",
    "           \"recall\":recall, \"auc_roc\":auc_roc, \"f1_score\":f1, \"training date range\": training_date_range, \"testing date range\": testing_date_range})\n",
    "\n",
    "wandb.finish()"
   ]
  },
  {
   "cell_type": "code",
   "execution_count": null,
   "metadata": {},
   "outputs": [],
   "source": [
    "wandb.init(project=\"MSciProject\")\n",
    "\n",
    "# Define the hyperparameters to search over\n",
    "param_grid = {'n_estimators': [50, 100, 200],\n",
    "    'max_depth': [None, 10, 20],\n",
    "    'min_samples_split': [2, 5, 10],\n",
    "    'min_samples_leaf': [1, 2, 4],\n",
    "    'class_weight': [None, 'balanced']}\n",
    "\n",
    "# Initialize the grid search with 5-fold cross-validation\n",
    "grid_search = GridSearchCV(estimator=RandomForestClassifier(random_state=42),\n",
    "                           param_grid=param_grid, cv=5, scoring='recall', n_jobs=-1)\n",
    "\n",
    "# Perform the grid search on the training data\n",
    "grid_search.fit(X_train, y_train)\n",
    "\n",
    "# Get the best parameters and the best recall score\n",
    "best_params = grid_search.best_params_\n",
    "best_recall = grid_search.best_score_\n",
    "\n",
    "best_params, best_recall\n",
    "\n",
    "wandb.log({\"model_name\":\"Random Forest Grid Search\", \"Best Parameters\": best_params, \"Best Recall\": best_recall})"
   ]
  },
  {
   "cell_type": "code",
   "execution_count": null,
   "metadata": {},
   "outputs": [],
   "source": [
    "wandb.init(project=\"MSciProject\")\n",
    "\n",
    "# Hyperparameters grid for the randomized search\n",
    "param_dist = {\n",
    "    'n_estimators': np.arange(50, 301, 50),\n",
    "    'learning_rate': [0.001, 0.01, 0.05, 0.1, 0.5],\n",
    "    'max_depth': np.arange(3, 15, 1),\n",
    "    'min_samples_split': np.arange(2, 11, 1),\n",
    "    'min_samples_leaf': np.arange(1, 11, 1),\n",
    "    'subsample': [0.7, 0.8, 0.9, 1]\n",
    "}\n",
    "\n",
    "# Initialize the randomized search with 5-fold cross-validation\n",
    "random_search = RandomizedSearchCV(GradientBoostingClassifier(random_state=42),\n",
    "                                   param_distributions=param_dist, n_iter=20, \n",
    "                                   scoring='recall', cv=5, n_jobs=-1, random_state=42)\n",
    "\n",
    "# Perform the randomized search on the training data\n",
    "random_search.fit(X_train, y_train)\n",
    "\n",
    "# Get the best parameters and the best recall score\n",
    "best_params_random = random_search.best_params_\n",
    "best_recall_random = random_search.best_score_\n",
    "\n",
    "best_params_random, best_recall_random\n",
    "\n",
    "wandb.log({\"model_name\":\"Gradient Boosting Random Search\", \"Best Parameters\": best_params, \"Best Recall\": best_recall})"
   ]
  },
  {
   "cell_type": "code",
   "execution_count": null,
   "metadata": {},
   "outputs": [],
   "source": [
    "wandb.init(project=\"MSciProject\")\n",
    "\n",
    "# Run model with best parameters\n",
    "# try this against gradient boosted tree and compare?\n",
    "\n",
    "rf_model = RandomForestClassifier(random_state=42,\n",
    "                                  class_weight=\"balanced\",\n",
    "                                  max_depth=10,\n",
    "                                  min_samples_leaf=4,\n",
    "                                  min_samples_split=2,\n",
    "                                  n_estimators=200)\n",
    "\n",
    "\n",
    "rf_model.fit(X_train, y_train)\n",
    "\n",
    "# Use the model to make predictions on the test data\n",
    "y_pred = rf_model.predict(X_test)\n",
    "\n",
    "# Calculate the performance metrics\n",
    "accuracy = accuracy_score(y_test, y_pred)\n",
    "precision = precision_score(y_test, y_pred)\n",
    "recall = recall_score(y_test, y_pred)\n",
    "auc_roc = roc_auc_score(y_test, y_pred)\n",
    "f1 = f1_score(y_test, y_pred)\n",
    "\n",
    "accuracy, precision, recall, auc_roc, f1\n",
    "\n",
    "wandb.log({\"model_name\":\"Final Random Forest\", \"accuracy\":accuracy, \"precision\":precision, \n",
    "           \"recall\":recall, \"auc_roc\":auc_roc, \"f1_score\":f1, \"training date range\": training_date_range, \"testing date range\": testing_date_range })\n",
    "\n",
    "wandb.finish()"
   ]
  },
  {
   "cell_type": "code",
   "execution_count": null,
   "metadata": {},
   "outputs": [],
   "source": [
    "# Save the model\n",
    "dump(rf_model, '/Users/kirst/Downloads/rf_model.joblib')"
   ]
  }
 ],
 "metadata": {
  "kernelspec": {
   "display_name": "Python 3",
   "language": "python",
   "name": "python3"
  },
  "language_info": {
   "codemirror_mode": {
    "name": "ipython",
    "version": 3
   },
   "file_extension": ".py",
   "mimetype": "text/x-python",
   "name": "python",
   "nbconvert_exporter": "python",
   "pygments_lexer": "ipython3",
   "version": "3.11.5"
  },
  "orig_nbformat": 4
 },
 "nbformat": 4,
 "nbformat_minor": 2
}
