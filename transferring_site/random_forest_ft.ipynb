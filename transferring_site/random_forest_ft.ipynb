{
 "cells": [
  {
   "cell_type": "markdown",
   "metadata": {},
   "source": [
    "# Finetuning of Random Forest Model for a New Site"
   ]
  },
  {
   "cell_type": "code",
   "execution_count": 14,
   "metadata": {},
   "outputs": [],
   "source": [
    "import pandas as pd\n",
    "from sklearn.ensemble import RandomForestClassifier\n",
    "from sklearn.metrics import precision_score, recall_score, f1_score\n",
    "from joblib import load, dump\n",
    "import matplotlib.pyplot as plt\n",
    "import seaborn as sns\n",
    "from pathlib import Path\n",
    "\n",
    "import sys\n",
    "sys.path.append('../')\n",
    "import config\n",
    "\n",
    "data_path = Path.home()/'OneDrive'/'Kirstin'/'Uni'/'Year4'/'MSciProject'/'data_files'/'saved_files'"
   ]
  },
  {
   "cell_type": "code",
   "execution_count": 15,
   "metadata": {},
   "outputs": [
    {
     "name": "stdout",
     "output_type": "stream",
     "text": [
      "Finetuning a random forest model based on \u001b[1mMace Head, Ireland\u001b[0;0m to be applicable at \u001b[1mGosan, South Korea\u001b[0;0m.\n"
     ]
    }
   ],
   "source": [
    "site = 'MHD'\n",
    "site_name = config.site_dict[site]\n",
    "\n",
    "transferred_site = 'GSN'\n",
    "transferred_site_name = config.site_dict[transferred_site]\n",
    "\n",
    "compound = config.compound\n",
    "\n",
    "print(f\"Finetuning a random forest model based on \\033[1m{site_name}\\033[0;0m to be applicable at \\033[1m{transferred_site_name}\\033[0;0m.\")"
   ]
  },
  {
   "cell_type": "markdown",
   "metadata": {},
   "source": [
    "### Loading in Model & Initialising Data"
   ]
  },
  {
   "cell_type": "code",
   "execution_count": 16,
   "metadata": {},
   "outputs": [
    {
     "data": {
      "text/html": [
       "<style>#sk-container-id-3 {color: black;}#sk-container-id-3 pre{padding: 0;}#sk-container-id-3 div.sk-toggleable {background-color: white;}#sk-container-id-3 label.sk-toggleable__label {cursor: pointer;display: block;width: 100%;margin-bottom: 0;padding: 0.3em;box-sizing: border-box;text-align: center;}#sk-container-id-3 label.sk-toggleable__label-arrow:before {content: \"▸\";float: left;margin-right: 0.25em;color: #696969;}#sk-container-id-3 label.sk-toggleable__label-arrow:hover:before {color: black;}#sk-container-id-3 div.sk-estimator:hover label.sk-toggleable__label-arrow:before {color: black;}#sk-container-id-3 div.sk-toggleable__content {max-height: 0;max-width: 0;overflow: hidden;text-align: left;background-color: #f0f8ff;}#sk-container-id-3 div.sk-toggleable__content pre {margin: 0.2em;color: black;border-radius: 0.25em;background-color: #f0f8ff;}#sk-container-id-3 input.sk-toggleable__control:checked~div.sk-toggleable__content {max-height: 200px;max-width: 100%;overflow: auto;}#sk-container-id-3 input.sk-toggleable__control:checked~label.sk-toggleable__label-arrow:before {content: \"▾\";}#sk-container-id-3 div.sk-estimator input.sk-toggleable__control:checked~label.sk-toggleable__label {background-color: #d4ebff;}#sk-container-id-3 div.sk-label input.sk-toggleable__control:checked~label.sk-toggleable__label {background-color: #d4ebff;}#sk-container-id-3 input.sk-hidden--visually {border: 0;clip: rect(1px 1px 1px 1px);clip: rect(1px, 1px, 1px, 1px);height: 1px;margin: -1px;overflow: hidden;padding: 0;position: absolute;width: 1px;}#sk-container-id-3 div.sk-estimator {font-family: monospace;background-color: #f0f8ff;border: 1px dotted black;border-radius: 0.25em;box-sizing: border-box;margin-bottom: 0.5em;}#sk-container-id-3 div.sk-estimator:hover {background-color: #d4ebff;}#sk-container-id-3 div.sk-parallel-item::after {content: \"\";width: 100%;border-bottom: 1px solid gray;flex-grow: 1;}#sk-container-id-3 div.sk-label:hover label.sk-toggleable__label {background-color: #d4ebff;}#sk-container-id-3 div.sk-serial::before {content: \"\";position: absolute;border-left: 1px solid gray;box-sizing: border-box;top: 0;bottom: 0;left: 50%;z-index: 0;}#sk-container-id-3 div.sk-serial {display: flex;flex-direction: column;align-items: center;background-color: white;padding-right: 0.2em;padding-left: 0.2em;position: relative;}#sk-container-id-3 div.sk-item {position: relative;z-index: 1;}#sk-container-id-3 div.sk-parallel {display: flex;align-items: stretch;justify-content: center;background-color: white;position: relative;}#sk-container-id-3 div.sk-item::before, #sk-container-id-3 div.sk-parallel-item::before {content: \"\";position: absolute;border-left: 1px solid gray;box-sizing: border-box;top: 0;bottom: 0;left: 50%;z-index: -1;}#sk-container-id-3 div.sk-parallel-item {display: flex;flex-direction: column;z-index: 1;position: relative;background-color: white;}#sk-container-id-3 div.sk-parallel-item:first-child::after {align-self: flex-end;width: 50%;}#sk-container-id-3 div.sk-parallel-item:last-child::after {align-self: flex-start;width: 50%;}#sk-container-id-3 div.sk-parallel-item:only-child::after {width: 0;}#sk-container-id-3 div.sk-dashed-wrapped {border: 1px dashed gray;margin: 0 0.4em 0.5em 0.4em;box-sizing: border-box;padding-bottom: 0.4em;background-color: white;}#sk-container-id-3 div.sk-label label {font-family: monospace;font-weight: bold;display: inline-block;line-height: 1.2em;}#sk-container-id-3 div.sk-label-container {text-align: center;}#sk-container-id-3 div.sk-container {/* jupyter's `normalize.less` sets `[hidden] { display: none; }` but bootstrap.min.css set `[hidden] { display: none !important; }` so we also need the `!important` here to be able to override the default hidden behavior on the sphinx rendered scikit-learn.org. See: https://github.com/scikit-learn/scikit-learn/issues/21755 */display: inline-block !important;position: relative;}#sk-container-id-3 div.sk-text-repr-fallback {display: none;}</style><div id=\"sk-container-id-3\" class=\"sk-top-container\"><div class=\"sk-text-repr-fallback\"><pre>RandomForestClassifier(bootstrap=False, criterion=&#x27;entropy&#x27;, max_depth=5,\n",
       "                       random_state=42)</pre><b>In a Jupyter environment, please rerun this cell to show the HTML representation or trust the notebook. <br />On GitHub, the HTML representation is unable to render, please try loading this page with nbviewer.org.</b></div><div class=\"sk-container\" hidden><div class=\"sk-item\"><div class=\"sk-estimator sk-toggleable\"><input class=\"sk-toggleable__control sk-hidden--visually\" id=\"sk-estimator-id-3\" type=\"checkbox\" checked><label for=\"sk-estimator-id-3\" class=\"sk-toggleable__label sk-toggleable__label-arrow\">RandomForestClassifier</label><div class=\"sk-toggleable__content\"><pre>RandomForestClassifier(bootstrap=False, criterion=&#x27;entropy&#x27;, max_depth=5,\n",
       "                       random_state=42)</pre></div></div></div></div></div>"
      ],
      "text/plain": [
       "RandomForestClassifier(bootstrap=False, criterion='entropy', max_depth=5,\n",
       "                       random_state=42)"
      ]
     },
     "execution_count": 16,
     "metadata": {},
     "output_type": "execute_result"
    }
   ],
   "source": [
    "# loading in model\n",
    "mhd_model = load(data_path/f'rf_model_{site}.joblib')\n",
    "\n",
    "# loading in training data\n",
    "mhd_data = pd.read_csv(data_path/f'for_model_pca_{compound}_{site}.csv', parse_dates=['time'])\n",
    "\n",
    "train_data = mhd_data[(mhd_data['time'].dt.year >= 2016) & (mhd_data['time'].dt.year <= 2018)]\n",
    "\n",
    "train_data = train_data.drop(columns=['time'])\n",
    "X_train_MHD = train_data.drop(columns=['flag'])\n",
    "y_train_MHD = train_data['flag']\n",
    "\n",
    "y_train_MHD = y_train_MHD.dropna()\n",
    "X_train_MHD = X_train_MHD.loc[y_train_MHD.index]\n",
    "\n",
    "# training the model on MHD training data\n",
    "mhd_model.fit(X_train_MHD, y_train_MHD)"
   ]
  },
  {
   "cell_type": "code",
   "execution_count": 17,
   "metadata": {},
   "outputs": [
    {
     "data": {
      "text/html": [
       "<div>\n",
       "<style scoped>\n",
       "    .dataframe tbody tr th:only-of-type {\n",
       "        vertical-align: middle;\n",
       "    }\n",
       "\n",
       "    .dataframe tbody tr th {\n",
       "        vertical-align: top;\n",
       "    }\n",
       "\n",
       "    .dataframe thead th {\n",
       "        text-align: right;\n",
       "    }\n",
       "</style>\n",
       "<table border=\"1\" class=\"dataframe\">\n",
       "  <thead>\n",
       "    <tr style=\"text-align: right;\">\n",
       "      <th></th>\n",
       "      <th>time</th>\n",
       "      <th>PC1</th>\n",
       "      <th>PC2</th>\n",
       "      <th>PC3</th>\n",
       "      <th>PC4</th>\n",
       "      <th>PC5</th>\n",
       "      <th>PC6</th>\n",
       "      <th>PC7</th>\n",
       "      <th>PC8</th>\n",
       "      <th>PC9</th>\n",
       "      <th>...</th>\n",
       "      <th>PC12</th>\n",
       "      <th>PC13</th>\n",
       "      <th>PC14</th>\n",
       "      <th>PC15</th>\n",
       "      <th>PC16</th>\n",
       "      <th>PC17</th>\n",
       "      <th>PC18</th>\n",
       "      <th>PC19</th>\n",
       "      <th>PC20</th>\n",
       "      <th>flag</th>\n",
       "    </tr>\n",
       "  </thead>\n",
       "  <tbody>\n",
       "    <tr>\n",
       "      <th>3799</th>\n",
       "      <td>2010-12-04 17:00:00</td>\n",
       "      <td>-3.294094</td>\n",
       "      <td>-2.318510</td>\n",
       "      <td>-9.387593</td>\n",
       "      <td>-0.874306</td>\n",
       "      <td>-1.532845</td>\n",
       "      <td>1.221644</td>\n",
       "      <td>-0.130776</td>\n",
       "      <td>1.854754</td>\n",
       "      <td>-0.312494</td>\n",
       "      <td>...</td>\n",
       "      <td>1.927880</td>\n",
       "      <td>-0.268347</td>\n",
       "      <td>-1.867585</td>\n",
       "      <td>0.050442</td>\n",
       "      <td>2.041996</td>\n",
       "      <td>-0.162285</td>\n",
       "      <td>0.928870</td>\n",
       "      <td>1.049390</td>\n",
       "      <td>-1.218149</td>\n",
       "      <td>1.0</td>\n",
       "    </tr>\n",
       "    <tr>\n",
       "      <th>10624</th>\n",
       "      <td>2017-11-01 21:00:00</td>\n",
       "      <td>-5.243195</td>\n",
       "      <td>0.887696</td>\n",
       "      <td>-3.058068</td>\n",
       "      <td>2.865750</td>\n",
       "      <td>-0.905483</td>\n",
       "      <td>-0.501940</td>\n",
       "      <td>-2.684658</td>\n",
       "      <td>0.060420</td>\n",
       "      <td>-0.064407</td>\n",
       "      <td>...</td>\n",
       "      <td>0.730701</td>\n",
       "      <td>2.041881</td>\n",
       "      <td>0.125418</td>\n",
       "      <td>1.154295</td>\n",
       "      <td>1.820410</td>\n",
       "      <td>-0.928375</td>\n",
       "      <td>0.360848</td>\n",
       "      <td>-1.538721</td>\n",
       "      <td>-1.011875</td>\n",
       "      <td>1.0</td>\n",
       "    </tr>\n",
       "    <tr>\n",
       "      <th>5979</th>\n",
       "      <td>2012-12-05 23:00:00</td>\n",
       "      <td>10.616668</td>\n",
       "      <td>4.736620</td>\n",
       "      <td>0.006338</td>\n",
       "      <td>0.966348</td>\n",
       "      <td>-2.935776</td>\n",
       "      <td>-5.123700</td>\n",
       "      <td>0.646602</td>\n",
       "      <td>3.282630</td>\n",
       "      <td>-0.675827</td>\n",
       "      <td>...</td>\n",
       "      <td>-1.924348</td>\n",
       "      <td>1.698157</td>\n",
       "      <td>4.766678</td>\n",
       "      <td>-1.839353</td>\n",
       "      <td>1.082081</td>\n",
       "      <td>-3.905980</td>\n",
       "      <td>-0.359750</td>\n",
       "      <td>0.447073</td>\n",
       "      <td>-1.559378</td>\n",
       "      <td>1.0</td>\n",
       "    </tr>\n",
       "    <tr>\n",
       "      <th>2149</th>\n",
       "      <td>2009-09-02 13:00:00</td>\n",
       "      <td>-10.136958</td>\n",
       "      <td>-6.363420</td>\n",
       "      <td>3.072996</td>\n",
       "      <td>4.679500</td>\n",
       "      <td>-3.620370</td>\n",
       "      <td>-3.216948</td>\n",
       "      <td>0.034568</td>\n",
       "      <td>-4.401476</td>\n",
       "      <td>-0.870358</td>\n",
       "      <td>...</td>\n",
       "      <td>-1.021462</td>\n",
       "      <td>-1.389418</td>\n",
       "      <td>1.048921</td>\n",
       "      <td>-0.705923</td>\n",
       "      <td>-1.581204</td>\n",
       "      <td>-2.443585</td>\n",
       "      <td>0.416531</td>\n",
       "      <td>-1.347377</td>\n",
       "      <td>-1.883893</td>\n",
       "      <td>1.0</td>\n",
       "    </tr>\n",
       "    <tr>\n",
       "      <th>7027</th>\n",
       "      <td>2013-11-27 11:00:00</td>\n",
       "      <td>5.931783</td>\n",
       "      <td>10.676172</td>\n",
       "      <td>-4.343182</td>\n",
       "      <td>2.794374</td>\n",
       "      <td>-0.972233</td>\n",
       "      <td>0.367602</td>\n",
       "      <td>-1.429255</td>\n",
       "      <td>-1.820862</td>\n",
       "      <td>0.330571</td>\n",
       "      <td>...</td>\n",
       "      <td>2.093504</td>\n",
       "      <td>0.556513</td>\n",
       "      <td>0.055047</td>\n",
       "      <td>-1.380812</td>\n",
       "      <td>-0.801746</td>\n",
       "      <td>0.773093</td>\n",
       "      <td>-0.588358</td>\n",
       "      <td>1.002584</td>\n",
       "      <td>0.300985</td>\n",
       "      <td>1.0</td>\n",
       "    </tr>\n",
       "  </tbody>\n",
       "</table>\n",
       "<p>5 rows × 22 columns</p>\n",
       "</div>"
      ],
      "text/plain": [
       "                     time        PC1        PC2       PC3       PC4       PC5  \\\n",
       "3799  2010-12-04 17:00:00  -3.294094  -2.318510 -9.387593 -0.874306 -1.532845   \n",
       "10624 2017-11-01 21:00:00  -5.243195   0.887696 -3.058068  2.865750 -0.905483   \n",
       "5979  2012-12-05 23:00:00  10.616668   4.736620  0.006338  0.966348 -2.935776   \n",
       "2149  2009-09-02 13:00:00 -10.136958  -6.363420  3.072996  4.679500 -3.620370   \n",
       "7027  2013-11-27 11:00:00   5.931783  10.676172 -4.343182  2.794374 -0.972233   \n",
       "\n",
       "            PC6       PC7       PC8       PC9  ...      PC12      PC13  \\\n",
       "3799   1.221644 -0.130776  1.854754 -0.312494  ...  1.927880 -0.268347   \n",
       "10624 -0.501940 -2.684658  0.060420 -0.064407  ...  0.730701  2.041881   \n",
       "5979  -5.123700  0.646602  3.282630 -0.675827  ... -1.924348  1.698157   \n",
       "2149  -3.216948  0.034568 -4.401476 -0.870358  ... -1.021462 -1.389418   \n",
       "7027   0.367602 -1.429255 -1.820862  0.330571  ...  2.093504  0.556513   \n",
       "\n",
       "           PC14      PC15      PC16      PC17      PC18      PC19      PC20  \\\n",
       "3799  -1.867585  0.050442  2.041996 -0.162285  0.928870  1.049390 -1.218149   \n",
       "10624  0.125418  1.154295  1.820410 -0.928375  0.360848 -1.538721 -1.011875   \n",
       "5979   4.766678 -1.839353  1.082081 -3.905980 -0.359750  0.447073 -1.559378   \n",
       "2149   1.048921 -0.705923 -1.581204 -2.443585  0.416531 -1.347377 -1.883893   \n",
       "7027   0.055047 -1.380812 -0.801746  0.773093 -0.588358  1.002584  0.300985   \n",
       "\n",
       "       flag  \n",
       "3799    1.0  \n",
       "10624   1.0  \n",
       "5979    1.0  \n",
       "2149    1.0  \n",
       "7027    1.0  \n",
       "\n",
       "[5 rows x 22 columns]"
      ]
     },
     "execution_count": 17,
     "metadata": {},
     "output_type": "execute_result"
    }
   ],
   "source": [
    "# loading in data\n",
    "data = pd.read_csv(data_path/f'for_model_pca_{compound}_{transferred_site}.csv',\n",
    "                   parse_dates=['time'])\n",
    "data.sample(5)"
   ]
  },
  {
   "cell_type": "code",
   "execution_count": 18,
   "metadata": {},
   "outputs": [
    {
     "name": "stdout",
     "output_type": "stream",
     "text": [
      "Train range: 2014-01-02 09:00:00 -> 2014-12-31 23:00:00. Length: 915\n",
      "Val range: 2015-01-01 01:00:00 -> 2015-12-31 19:00:00. Length: 813\n",
      "Test range: 2016-01-01 11:00:00 -> 2017-12-31 23:00:00. Length: 1995\n"
     ]
    }
   ],
   "source": [
    "# setting up data for finetuning\n",
    "train_data_ft = data[(data['time'].dt.year >= 2014) & (data['time'].dt.year <= 2014)]\n",
    "val_data_ft = data[(data['time'].dt.year >= 2015) & (data['time'].dt.year <= 2015)]\n",
    "test_data_ft = data[(data['time'].dt.year >= 2016) & (data['time'].dt.year <= 2017)]\n",
    "\n",
    "print(f\"Train range: {train_data_ft['time'].min()} -> {train_data_ft['time'].max()}. Length: {len(train_data_ft)}\")\n",
    "print(f\"Val range: {val_data_ft['time'].min()} -> {val_data_ft['time'].max()}. Length: {len(val_data_ft)}\")\n",
    "print(f\"Test range: {test_data_ft['time'].min()} -> {test_data_ft['time'].max()}. Length: {len(test_data_ft)}\")\n",
    "\n",
    "train_data_ft = train_data_ft.drop(columns=['time'])\n",
    "val_data_ft = val_data_ft.drop(columns=['time'])\n",
    "test_data_ft = test_data_ft.drop(columns=['time'])\n",
    "\n",
    "X_train_ft = train_data_ft.drop(columns=['flag'])\n",
    "y_train_ft = train_data_ft['flag']\n",
    "X_val_ft = val_data_ft.drop(columns=['flag'])\n",
    "y_val_ft = val_data_ft['flag']\n",
    "X_test_ft = test_data_ft.drop(columns=['flag'])\n",
    "y_test_ft = test_data_ft['flag']\n",
    "\n",
    "y_train_ft = y_train_ft.dropna()\n",
    "y_val_ft = y_val_ft.dropna()\n",
    "y_test_ft = y_test_ft.dropna()\n",
    "\n",
    "X_train_ft = X_train_ft.loc[y_train_ft.index]\n",
    "X_val_ft = X_val_ft.loc[y_val_ft.index]\n",
    "X_test_ft = X_test_ft.loc[y_test_ft.index]"
   ]
  },
  {
   "cell_type": "code",
   "execution_count": 19,
   "metadata": {},
   "outputs": [
    {
     "name": "stdout",
     "output_type": "stream",
     "text": [
      "Train range: 2011-01-02 17:00:00 -> 2013-12-30 11:00:00. Length: 3215\n",
      "Val range: 2014-01-02 09:00:00 -> 2014-12-31 23:00:00. Length: 915\n",
      "Test range: 2015-01-01 01:00:00 -> 2017-12-31 23:00:00. Length: 2808\n"
     ]
    }
   ],
   "source": [
    "# setting up data for full retuning\n",
    "train_data = data[(data['time'].dt.year >= 2011) & (data['time'].dt.year <= 2013)]\n",
    "val_data = data[(data['time'].dt.year >= 2014) & (data['time'].dt.year <= 2014)]\n",
    "test_data = data[(data['time'].dt.year >= 2015) & (data['time'].dt.year <= 2017)]\n",
    "\n",
    "print(f\"Train range: {train_data['time'].min()} -> {train_data['time'].max()}. Length: {len(train_data)}\")\n",
    "print(f\"Val range: {val_data['time'].min()} -> {val_data['time'].max()}. Length: {len(val_data)}\")\n",
    "print(f\"Test range: {test_data['time'].min()} -> {test_data['time'].max()}. Length: {len(test_data)}\")\n",
    "\n",
    "train_data = train_data.drop(columns=['time'])\n",
    "val_data = val_data.drop(columns=['time'])\n",
    "test_data = test_data.drop(columns=['time'])\n",
    "\n",
    "X_train = train_data.drop(columns=['flag'])\n",
    "y_train = train_data['flag']\n",
    "X_val = val_data.drop(columns=['flag'])\n",
    "y_val = val_data['flag']\n",
    "X_test = test_data.drop(columns=['flag'])\n",
    "y_test = test_data['flag']\n",
    "\n",
    "y_train = y_train.dropna()\n",
    "y_val = y_val.dropna()\n",
    "y_test = y_test.dropna()\n",
    "\n",
    "X_train = X_train.loc[y_train.index]\n",
    "X_val = X_val.loc[y_val.index]\n",
    "X_test = X_test.loc[y_test.index]"
   ]
  },
  {
   "cell_type": "markdown",
   "metadata": {},
   "source": [
    "### Testing Existing Model on Data"
   ]
  },
  {
   "cell_type": "code",
   "execution_count": 20,
   "metadata": {},
   "outputs": [],
   "source": [
    "class_probabilities_val = mhd_model.predict_proba(X_val)\n",
    "confidence_threshold = config.confidence_threshold\n",
    "\n",
    "y_val_pred = class_probabilities_val[:, 1] > confidence_threshold"
   ]
  },
  {
   "cell_type": "code",
   "execution_count": 21,
   "metadata": {},
   "outputs": [
    {
     "name": "stdout",
     "output_type": "stream",
     "text": [
      "MHD Model Precision: 0.844\n",
      "MHD Model Recall: 0.433\n",
      "MHD Model F1 Score: 0.573\n"
     ]
    }
   ],
   "source": [
    "precision = precision_score(y_val, y_val_pred)\n",
    "recall = recall_score(y_val, y_val_pred)\n",
    "f1 = f1_score(y_val, y_val_pred)\n",
    "\n",
    "print(f\"{site} Model Precision: {precision:.3f}\")\n",
    "print(f\"{site} Model Recall: {recall:.3f}\")\n",
    "print(f\"{site} Model F1 Score: {f1:.3f}\")"
   ]
  },
  {
   "cell_type": "markdown",
   "metadata": {},
   "source": [
    "### Finetuning Model"
   ]
  },
  {
   "cell_type": "code",
   "execution_count": 22,
   "metadata": {},
   "outputs": [
    {
     "data": {
      "text/html": [
       "<style>#sk-container-id-4 {color: black;}#sk-container-id-4 pre{padding: 0;}#sk-container-id-4 div.sk-toggleable {background-color: white;}#sk-container-id-4 label.sk-toggleable__label {cursor: pointer;display: block;width: 100%;margin-bottom: 0;padding: 0.3em;box-sizing: border-box;text-align: center;}#sk-container-id-4 label.sk-toggleable__label-arrow:before {content: \"▸\";float: left;margin-right: 0.25em;color: #696969;}#sk-container-id-4 label.sk-toggleable__label-arrow:hover:before {color: black;}#sk-container-id-4 div.sk-estimator:hover label.sk-toggleable__label-arrow:before {color: black;}#sk-container-id-4 div.sk-toggleable__content {max-height: 0;max-width: 0;overflow: hidden;text-align: left;background-color: #f0f8ff;}#sk-container-id-4 div.sk-toggleable__content pre {margin: 0.2em;color: black;border-radius: 0.25em;background-color: #f0f8ff;}#sk-container-id-4 input.sk-toggleable__control:checked~div.sk-toggleable__content {max-height: 200px;max-width: 100%;overflow: auto;}#sk-container-id-4 input.sk-toggleable__control:checked~label.sk-toggleable__label-arrow:before {content: \"▾\";}#sk-container-id-4 div.sk-estimator input.sk-toggleable__control:checked~label.sk-toggleable__label {background-color: #d4ebff;}#sk-container-id-4 div.sk-label input.sk-toggleable__control:checked~label.sk-toggleable__label {background-color: #d4ebff;}#sk-container-id-4 input.sk-hidden--visually {border: 0;clip: rect(1px 1px 1px 1px);clip: rect(1px, 1px, 1px, 1px);height: 1px;margin: -1px;overflow: hidden;padding: 0;position: absolute;width: 1px;}#sk-container-id-4 div.sk-estimator {font-family: monospace;background-color: #f0f8ff;border: 1px dotted black;border-radius: 0.25em;box-sizing: border-box;margin-bottom: 0.5em;}#sk-container-id-4 div.sk-estimator:hover {background-color: #d4ebff;}#sk-container-id-4 div.sk-parallel-item::after {content: \"\";width: 100%;border-bottom: 1px solid gray;flex-grow: 1;}#sk-container-id-4 div.sk-label:hover label.sk-toggleable__label {background-color: #d4ebff;}#sk-container-id-4 div.sk-serial::before {content: \"\";position: absolute;border-left: 1px solid gray;box-sizing: border-box;top: 0;bottom: 0;left: 50%;z-index: 0;}#sk-container-id-4 div.sk-serial {display: flex;flex-direction: column;align-items: center;background-color: white;padding-right: 0.2em;padding-left: 0.2em;position: relative;}#sk-container-id-4 div.sk-item {position: relative;z-index: 1;}#sk-container-id-4 div.sk-parallel {display: flex;align-items: stretch;justify-content: center;background-color: white;position: relative;}#sk-container-id-4 div.sk-item::before, #sk-container-id-4 div.sk-parallel-item::before {content: \"\";position: absolute;border-left: 1px solid gray;box-sizing: border-box;top: 0;bottom: 0;left: 50%;z-index: -1;}#sk-container-id-4 div.sk-parallel-item {display: flex;flex-direction: column;z-index: 1;position: relative;background-color: white;}#sk-container-id-4 div.sk-parallel-item:first-child::after {align-self: flex-end;width: 50%;}#sk-container-id-4 div.sk-parallel-item:last-child::after {align-self: flex-start;width: 50%;}#sk-container-id-4 div.sk-parallel-item:only-child::after {width: 0;}#sk-container-id-4 div.sk-dashed-wrapped {border: 1px dashed gray;margin: 0 0.4em 0.5em 0.4em;box-sizing: border-box;padding-bottom: 0.4em;background-color: white;}#sk-container-id-4 div.sk-label label {font-family: monospace;font-weight: bold;display: inline-block;line-height: 1.2em;}#sk-container-id-4 div.sk-label-container {text-align: center;}#sk-container-id-4 div.sk-container {/* jupyter's `normalize.less` sets `[hidden] { display: none; }` but bootstrap.min.css set `[hidden] { display: none !important; }` so we also need the `!important` here to be able to override the default hidden behavior on the sphinx rendered scikit-learn.org. See: https://github.com/scikit-learn/scikit-learn/issues/21755 */display: inline-block !important;position: relative;}#sk-container-id-4 div.sk-text-repr-fallback {display: none;}</style><div id=\"sk-container-id-4\" class=\"sk-top-container\"><div class=\"sk-text-repr-fallback\"><pre>RandomForestClassifier(bootstrap=False, criterion=&#x27;entropy&#x27;, max_depth=5,\n",
       "                       n_estimators=150, random_state=42, warm_start=True)</pre><b>In a Jupyter environment, please rerun this cell to show the HTML representation or trust the notebook. <br />On GitHub, the HTML representation is unable to render, please try loading this page with nbviewer.org.</b></div><div class=\"sk-container\" hidden><div class=\"sk-item\"><div class=\"sk-estimator sk-toggleable\"><input class=\"sk-toggleable__control sk-hidden--visually\" id=\"sk-estimator-id-4\" type=\"checkbox\" checked><label for=\"sk-estimator-id-4\" class=\"sk-toggleable__label sk-toggleable__label-arrow\">RandomForestClassifier</label><div class=\"sk-toggleable__content\"><pre>RandomForestClassifier(bootstrap=False, criterion=&#x27;entropy&#x27;, max_depth=5,\n",
       "                       n_estimators=150, random_state=42, warm_start=True)</pre></div></div></div></div></div>"
      ],
      "text/plain": [
       "RandomForestClassifier(bootstrap=False, criterion='entropy', max_depth=5,\n",
       "                       n_estimators=150, random_state=42, warm_start=True)"
      ]
     },
     "execution_count": 22,
     "metadata": {},
     "output_type": "execute_result"
    }
   ],
   "source": [
    "# allowing warm start & therefore fine-tuning\n",
    "mhd_model.warm_start = True\n",
    "\n",
    "# adding more trees to the forest\n",
    "mhd_model.n_estimators += 50\n",
    "\n",
    "# fitting the model to the new data (one years worth)\n",
    "mhd_model.fit(X_train_ft, y_train_ft)"
   ]
  },
  {
   "cell_type": "code",
   "execution_count": 23,
   "metadata": {},
   "outputs": [
    {
     "name": "stdout",
     "output_type": "stream",
     "text": [
      "Finetuned Model Precision: 0.857\n",
      "Finetuned Model Recall: 0.530\n",
      "Finetuned Model F1 Score: 0.655\n"
     ]
    }
   ],
   "source": [
    "# evaluating on the validation set\n",
    "class_probabilities_val = mhd_model.predict_proba(X_val_ft)\n",
    "confidence_threshold = config.confidence_threshold\n",
    "\n",
    "y_val_pred_ft = class_probabilities_val[:, 1] > confidence_threshold\n",
    "\n",
    "precision = precision_score(y_val_ft, y_val_pred_ft)\n",
    "recall = recall_score(y_val_ft, y_val_pred_ft)\n",
    "f1 = f1_score(y_val_ft, y_val_pred_ft)\n",
    "\n",
    "print(f\"Finetuned Model Precision: {precision:.3f}\")\n",
    "print(f\"Finetuned Model Recall: {recall:.3f}\")\n",
    "print(f\"Finetuned Model F1 Score: {f1:.3f}\")"
   ]
  },
  {
   "cell_type": "code",
   "execution_count": 24,
   "metadata": {},
   "outputs": [
    {
     "name": "stdout",
     "output_type": "stream",
     "text": [
      "Finetuned Model Precision: 0.920\n",
      "Finetuned Model Recall: 0.572\n",
      "Finetuned Model F1 Score: 0.705\n"
     ]
    }
   ],
   "source": [
    "# evaluating on the test set\n",
    "class_probabilities_test = mhd_model.predict_proba(X_test_ft)\n",
    "confidence_threshold = config.confidence_threshold\n",
    "\n",
    "y_test_pred_ft = class_probabilities_test[:, 1] > confidence_threshold\n",
    "\n",
    "precision = precision_score(y_test_ft, y_test_pred_ft)\n",
    "recall = recall_score(y_test_ft, y_test_pred_ft)\n",
    "f1 = f1_score(y_test_ft, y_test_pred_ft)\n",
    "\n",
    "print(f\"Finetuned Model Precision: {precision:.3f}\")\n",
    "print(f\"Finetuned Model Recall: {recall:.3f}\")\n",
    "print(f\"Finetuned Model F1 Score: {f1:.3f}\")"
   ]
  },
  {
   "cell_type": "code",
   "execution_count": 25,
   "metadata": {},
   "outputs": [
    {
     "data": {
      "text/plain": [
       "['C:\\\\Users\\\\kirst\\\\OneDrive\\\\Kirstin\\\\Uni\\\\Year4\\\\MSciProject\\\\data_files\\\\saved_files\\\\rf_model_GSN_finetuned.joblib']"
      ]
     },
     "execution_count": 25,
     "metadata": {},
     "output_type": "execute_result"
    }
   ],
   "source": [
    "# saving model\n",
    "dump(mhd_model, data_path/f'rf_model_{transferred_site}_finetuned.joblib')"
   ]
  },
  {
   "cell_type": "markdown",
   "metadata": {},
   "source": [
    "### Retuning Model Completely"
   ]
  },
  {
   "cell_type": "code",
   "execution_count": 26,
   "metadata": {},
   "outputs": [
    {
     "name": "stdout",
     "output_type": "stream",
     "text": [
      "Precision on Training Set = 0.975\n",
      "Precision on Validation Set = 0.920\n",
      "Recall on Training Set = 0.692\n",
      "Recall on Validation Set = 0.555\n",
      "F1 Score on Training Set = 0.810\n",
      "F1 Score on Validation Set = 0.693\n"
     ]
    }
   ],
   "source": [
    "# retuning model completely using same hyperparameters as original model\n",
    "gsn_model = RandomForestClassifier(random_state=42,\n",
    "                                  n_estimators=100,\n",
    "                                  max_depth=5,\n",
    "                                  criterion='entropy',\n",
    "                                  bootstrap=False,)\n",
    "\n",
    "gsn_model.fit(X_train, y_train)\n",
    "\n",
    "class_probabilities_val = gsn_model.predict_proba(X_val)\n",
    "class_probabilites_train = gsn_model.predict_proba(X_train)\n",
    "\n",
    "confidence_threshold = config.confidence_threshold\n",
    "\n",
    "y_pred_val = (class_probabilities_val[:, 1] >= confidence_threshold).astype(int)\n",
    "y_pred_train = (class_probabilites_train[:, 1] >= confidence_threshold).astype(int)\n",
    "\n",
    "precision_val = precision_score(y_val, y_pred_val)\n",
    "precision_train = precision_score(y_train, y_pred_train)\n",
    "recall_val = recall_score(y_val, y_pred_val)\n",
    "recall_train = recall_score(y_train, y_pred_train)\n",
    "f1_val = f1_score(y_val, y_pred_val)\n",
    "f1_train = f1_score(y_train, y_pred_train)\n",
    "\n",
    "print(f\"Precision on Training Set = {precision_train:.3f}\")\n",
    "print(f\"Precision on Validation Set = {precision_val:.3f}\")\n",
    "print(f\"Recall on Training Set = {recall_train:.3f}\")\n",
    "print(f\"Recall on Validation Set = {recall_val:.3f}\")\n",
    "print(f\"F1 Score on Training Set = {f1_train:.3f}\")\n",
    "print(f\"F1 Score on Validation Set = {f1_val:.3f}\")"
   ]
  },
  {
   "cell_type": "code",
   "execution_count": 27,
   "metadata": {},
   "outputs": [
    {
     "name": "stdout",
     "output_type": "stream",
     "text": [
      "Test Precision: 0.934\n",
      "Test Recall: 0.674\n",
      "Test F1 Score: 0.783\n"
     ]
    }
   ],
   "source": [
    "# evaluating on test set\n",
    "class_probabilities_test = gsn_model.predict_proba(X_test)\n",
    "\n",
    "y_pred_test = class_probabilities_test[:, 1] > confidence_threshold\n",
    "\n",
    "precision = precision_score(y_test, y_pred_test)\n",
    "recall = recall_score(y_test, y_pred_test)\n",
    "f1 = f1_score(y_test, y_pred_test)\n",
    "\n",
    "print(f\"Test Precision: {precision:.3f}\")\n",
    "print(f\"Test Recall: {recall:.3f}\")\n",
    "print(f\"Test F1 Score: {f1:.3f}\")"
   ]
  }
 ],
 "metadata": {
  "kernelspec": {
   "display_name": "venv",
   "language": "python",
   "name": "python3"
  },
  "language_info": {
   "codemirror_mode": {
    "name": "ipython",
    "version": 3
   },
   "file_extension": ".py",
   "mimetype": "text/x-python",
   "name": "python",
   "nbconvert_exporter": "python",
   "pygments_lexer": "ipython3",
   "version": "3.11.8"
  }
 },
 "nbformat": 4,
 "nbformat_minor": 2
}
