{
 "cells": [
  {
   "cell_type": "markdown",
   "metadata": {},
   "source": [
    "# Finetuning of Neural Network Model for a New Site"
   ]
  },
  {
   "cell_type": "code",
   "execution_count": 1,
   "metadata": {},
   "outputs": [],
   "source": [
    "import pandas as pd\n",
    "import numpy as np\n",
    "from joblib import load, dump\n",
    "from pathlib import Path\n",
    "import matplotlib.pyplot as plt\n",
    "import seaborn as sns\n",
    "\n",
    "from sklearn.neural_network import MLPClassifier\n",
    "from sklearn.metrics import precision_score, recall_score, f1_score\n",
    "from sklearn.inspection import permutation_importance\n",
    "\n",
    "import sys\n",
    "sys.path.append('../')\n",
    "import config\n",
    "\n",
    "data_path = Path.home()/'OneDrive'/'Kirstin'/'Uni'/'Year4'/'MSciProject'/'data_files'/'saved_files'"
   ]
  },
  {
   "cell_type": "code",
   "execution_count": 2,
   "metadata": {},
   "outputs": [
    {
     "name": "stdout",
     "output_type": "stream",
     "text": [
      "Finetuning a neural network model based on \u001b[1mMace Head, Ireland\u001b[0;0m to be applicable at \u001b[1mGosan, South Korea\u001b[0;0m.\n"
     ]
    }
   ],
   "source": [
    "site = 'MHD'\n",
    "site_name = config.site_dict[site]\n",
    "\n",
    "transferred_site = 'GSN'\n",
    "transferred_site_name = config.site_dict[transferred_site]\n",
    "\n",
    "compound = config.compound\n",
    "\n",
    "print(f\"Finetuning a neural network model based on \\033[1m{site_name}\\033[0;0m to be applicable at \\033[1m{transferred_site_name}\\033[0;0m.\")"
   ]
  },
  {
   "cell_type": "markdown",
   "metadata": {},
   "source": [
    "### Loading in Model & Initialising Data"
   ]
  },
  {
   "cell_type": "code",
   "execution_count": 3,
   "metadata": {},
   "outputs": [
    {
     "data": {
      "text/html": [
       "<style>#sk-container-id-1 {color: black;}#sk-container-id-1 pre{padding: 0;}#sk-container-id-1 div.sk-toggleable {background-color: white;}#sk-container-id-1 label.sk-toggleable__label {cursor: pointer;display: block;width: 100%;margin-bottom: 0;padding: 0.3em;box-sizing: border-box;text-align: center;}#sk-container-id-1 label.sk-toggleable__label-arrow:before {content: \"▸\";float: left;margin-right: 0.25em;color: #696969;}#sk-container-id-1 label.sk-toggleable__label-arrow:hover:before {color: black;}#sk-container-id-1 div.sk-estimator:hover label.sk-toggleable__label-arrow:before {color: black;}#sk-container-id-1 div.sk-toggleable__content {max-height: 0;max-width: 0;overflow: hidden;text-align: left;background-color: #f0f8ff;}#sk-container-id-1 div.sk-toggleable__content pre {margin: 0.2em;color: black;border-radius: 0.25em;background-color: #f0f8ff;}#sk-container-id-1 input.sk-toggleable__control:checked~div.sk-toggleable__content {max-height: 200px;max-width: 100%;overflow: auto;}#sk-container-id-1 input.sk-toggleable__control:checked~label.sk-toggleable__label-arrow:before {content: \"▾\";}#sk-container-id-1 div.sk-estimator input.sk-toggleable__control:checked~label.sk-toggleable__label {background-color: #d4ebff;}#sk-container-id-1 div.sk-label input.sk-toggleable__control:checked~label.sk-toggleable__label {background-color: #d4ebff;}#sk-container-id-1 input.sk-hidden--visually {border: 0;clip: rect(1px 1px 1px 1px);clip: rect(1px, 1px, 1px, 1px);height: 1px;margin: -1px;overflow: hidden;padding: 0;position: absolute;width: 1px;}#sk-container-id-1 div.sk-estimator {font-family: monospace;background-color: #f0f8ff;border: 1px dotted black;border-radius: 0.25em;box-sizing: border-box;margin-bottom: 0.5em;}#sk-container-id-1 div.sk-estimator:hover {background-color: #d4ebff;}#sk-container-id-1 div.sk-parallel-item::after {content: \"\";width: 100%;border-bottom: 1px solid gray;flex-grow: 1;}#sk-container-id-1 div.sk-label:hover label.sk-toggleable__label {background-color: #d4ebff;}#sk-container-id-1 div.sk-serial::before {content: \"\";position: absolute;border-left: 1px solid gray;box-sizing: border-box;top: 0;bottom: 0;left: 50%;z-index: 0;}#sk-container-id-1 div.sk-serial {display: flex;flex-direction: column;align-items: center;background-color: white;padding-right: 0.2em;padding-left: 0.2em;position: relative;}#sk-container-id-1 div.sk-item {position: relative;z-index: 1;}#sk-container-id-1 div.sk-parallel {display: flex;align-items: stretch;justify-content: center;background-color: white;position: relative;}#sk-container-id-1 div.sk-item::before, #sk-container-id-1 div.sk-parallel-item::before {content: \"\";position: absolute;border-left: 1px solid gray;box-sizing: border-box;top: 0;bottom: 0;left: 50%;z-index: -1;}#sk-container-id-1 div.sk-parallel-item {display: flex;flex-direction: column;z-index: 1;position: relative;background-color: white;}#sk-container-id-1 div.sk-parallel-item:first-child::after {align-self: flex-end;width: 50%;}#sk-container-id-1 div.sk-parallel-item:last-child::after {align-self: flex-start;width: 50%;}#sk-container-id-1 div.sk-parallel-item:only-child::after {width: 0;}#sk-container-id-1 div.sk-dashed-wrapped {border: 1px dashed gray;margin: 0 0.4em 0.5em 0.4em;box-sizing: border-box;padding-bottom: 0.4em;background-color: white;}#sk-container-id-1 div.sk-label label {font-family: monospace;font-weight: bold;display: inline-block;line-height: 1.2em;}#sk-container-id-1 div.sk-label-container {text-align: center;}#sk-container-id-1 div.sk-container {/* jupyter's `normalize.less` sets `[hidden] { display: none; }` but bootstrap.min.css set `[hidden] { display: none !important; }` so we also need the `!important` here to be able to override the default hidden behavior on the sphinx rendered scikit-learn.org. See: https://github.com/scikit-learn/scikit-learn/issues/21755 */display: inline-block !important;position: relative;}#sk-container-id-1 div.sk-text-repr-fallback {display: none;}</style><div id=\"sk-container-id-1\" class=\"sk-top-container\"><div class=\"sk-text-repr-fallback\"><pre>MLPClassifier(alpha=0.05, batch_size=100, beta_2=0.9, early_stopping=True,\n",
       "              max_iter=1000, random_state=42, shuffle=False)</pre><b>In a Jupyter environment, please rerun this cell to show the HTML representation or trust the notebook. <br />On GitHub, the HTML representation is unable to render, please try loading this page with nbviewer.org.</b></div><div class=\"sk-container\" hidden><div class=\"sk-item\"><div class=\"sk-estimator sk-toggleable\"><input class=\"sk-toggleable__control sk-hidden--visually\" id=\"sk-estimator-id-1\" type=\"checkbox\" checked><label for=\"sk-estimator-id-1\" class=\"sk-toggleable__label sk-toggleable__label-arrow\">MLPClassifier</label><div class=\"sk-toggleable__content\"><pre>MLPClassifier(alpha=0.05, batch_size=100, beta_2=0.9, early_stopping=True,\n",
       "              max_iter=1000, random_state=42, shuffle=False)</pre></div></div></div></div></div>"
      ],
      "text/plain": [
       "MLPClassifier(alpha=0.05, batch_size=100, beta_2=0.9, early_stopping=True,\n",
       "              max_iter=1000, random_state=42, shuffle=False)"
      ]
     },
     "execution_count": 3,
     "metadata": {},
     "output_type": "execute_result"
    }
   ],
   "source": [
    "# loading in model\n",
    "original_model = load(data_path/f'nn_model_{site}.joblib')\n",
    "\n",
    "# loading in training data\n",
    "original_data = pd.read_csv(data_path/f'for_model_{compound}_{site}.csv', parse_dates=['time'])\n",
    "\n",
    "training = original_data[(original_data['time'].dt.year >= 2016) & (original_data['time'].dt.year <= 2018)]\n",
    "training = training.drop(columns=['time'])\n",
    "\n",
    "X_train = training.drop(columns=['flag'])\n",
    "y_train = training['flag']\n",
    "y_train = y_train.dropna()\n",
    "X_train = X_train.loc[y_train.index]\n",
    "\n",
    "# training model on original site training data\n",
    "original_model.fit(X_train, y_train)"
   ]
  },
  {
   "cell_type": "code",
   "execution_count": 4,
   "metadata": {},
   "outputs": [
    {
     "data": {
      "text/html": [
       "<div>\n",
       "<style scoped>\n",
       "    .dataframe tbody tr th:only-of-type {\n",
       "        vertical-align: middle;\n",
       "    }\n",
       "\n",
       "    .dataframe tbody tr th {\n",
       "        vertical-align: top;\n",
       "    }\n",
       "\n",
       "    .dataframe thead th {\n",
       "        text-align: right;\n",
       "    }\n",
       "</style>\n",
       "<table border=\"1\" class=\"dataframe\">\n",
       "  <thead>\n",
       "    <tr style=\"text-align: right;\">\n",
       "      <th></th>\n",
       "      <th>time</th>\n",
       "      <th>flag</th>\n",
       "      <th>u10_0</th>\n",
       "      <th>u10_1</th>\n",
       "      <th>u10_2</th>\n",
       "      <th>u10_3</th>\n",
       "      <th>u10_4</th>\n",
       "      <th>u10_5</th>\n",
       "      <th>u10_6</th>\n",
       "      <th>u10_7</th>\n",
       "      <th>...</th>\n",
       "      <th>v500_2_past</th>\n",
       "      <th>v500_3_past</th>\n",
       "      <th>v500_4_past</th>\n",
       "      <th>v500_5_past</th>\n",
       "      <th>v500_6_past</th>\n",
       "      <th>v500_7_past</th>\n",
       "      <th>v500_8_past</th>\n",
       "      <th>v500_13_past</th>\n",
       "      <th>v500_14_past</th>\n",
       "      <th>v500_15_past</th>\n",
       "    </tr>\n",
       "  </thead>\n",
       "  <tbody>\n",
       "    <tr>\n",
       "      <th>6387</th>\n",
       "      <td>2013-03-17 03:00:00</td>\n",
       "      <td>1.0</td>\n",
       "      <td>-2.534051</td>\n",
       "      <td>-0.383627</td>\n",
       "      <td>3.186323</td>\n",
       "      <td>0.659290</td>\n",
       "      <td>-3.891838</td>\n",
       "      <td>-1.558571</td>\n",
       "      <td>0.771371</td>\n",
       "      <td>-5.957251</td>\n",
       "      <td>...</td>\n",
       "      <td>3.116105</td>\n",
       "      <td>-3.509091</td>\n",
       "      <td>-0.834657</td>\n",
       "      <td>2.346402</td>\n",
       "      <td>-0.641657</td>\n",
       "      <td>-1.307968</td>\n",
       "      <td>6.003069</td>\n",
       "      <td>-1.114968</td>\n",
       "      <td>-2.421166</td>\n",
       "      <td>-0.016704</td>\n",
       "    </tr>\n",
       "    <tr>\n",
       "      <th>6304</th>\n",
       "      <td>2013-02-23 05:00:00</td>\n",
       "      <td>1.0</td>\n",
       "      <td>2.615645</td>\n",
       "      <td>6.656462</td>\n",
       "      <td>9.826373</td>\n",
       "      <td>4.090222</td>\n",
       "      <td>2.263040</td>\n",
       "      <td>-1.679270</td>\n",
       "      <td>-3.596373</td>\n",
       "      <td>-1.309489</td>\n",
       "      <td>...</td>\n",
       "      <td>-11.102421</td>\n",
       "      <td>-8.887543</td>\n",
       "      <td>-7.811907</td>\n",
       "      <td>-14.584892</td>\n",
       "      <td>-10.239186</td>\n",
       "      <td>-15.207329</td>\n",
       "      <td>-14.961988</td>\n",
       "      <td>-1.848773</td>\n",
       "      <td>1.722293</td>\n",
       "      <td>-16.225037</td>\n",
       "    </tr>\n",
       "    <tr>\n",
       "      <th>10065</th>\n",
       "      <td>2017-02-10 15:00:00</td>\n",
       "      <td>1.0</td>\n",
       "      <td>6.233916</td>\n",
       "      <td>3.567819</td>\n",
       "      <td>3.817690</td>\n",
       "      <td>3.398999</td>\n",
       "      <td>8.864523</td>\n",
       "      <td>7.446825</td>\n",
       "      <td>-0.613816</td>\n",
       "      <td>5.819541</td>\n",
       "      <td>...</td>\n",
       "      <td>-9.765146</td>\n",
       "      <td>-14.710276</td>\n",
       "      <td>-1.067909</td>\n",
       "      <td>-9.062006</td>\n",
       "      <td>-7.778808</td>\n",
       "      <td>-24.811352</td>\n",
       "      <td>-20.202560</td>\n",
       "      <td>-3.255318</td>\n",
       "      <td>-11.194578</td>\n",
       "      <td>-21.482105</td>\n",
       "    </tr>\n",
       "    <tr>\n",
       "      <th>5453</th>\n",
       "      <td>2012-03-29 23:00:00</td>\n",
       "      <td>1.0</td>\n",
       "      <td>1.126471</td>\n",
       "      <td>0.854506</td>\n",
       "      <td>6.679174</td>\n",
       "      <td>0.501291</td>\n",
       "      <td>-5.972256</td>\n",
       "      <td>-1.068994</td>\n",
       "      <td>0.272773</td>\n",
       "      <td>2.581086</td>\n",
       "      <td>...</td>\n",
       "      <td>6.064084</td>\n",
       "      <td>3.146364</td>\n",
       "      <td>1.281326</td>\n",
       "      <td>-3.964563</td>\n",
       "      <td>2.267668</td>\n",
       "      <td>3.212704</td>\n",
       "      <td>3.294065</td>\n",
       "      <td>-5.834608</td>\n",
       "      <td>0.357569</td>\n",
       "      <td>2.516757</td>\n",
       "    </tr>\n",
       "    <tr>\n",
       "      <th>2307</th>\n",
       "      <td>2009-11-03 07:00:00</td>\n",
       "      <td>1.0</td>\n",
       "      <td>0.855831</td>\n",
       "      <td>2.172136</td>\n",
       "      <td>9.000013</td>\n",
       "      <td>1.054592</td>\n",
       "      <td>-6.778291</td>\n",
       "      <td>-6.584008</td>\n",
       "      <td>-2.748751</td>\n",
       "      <td>1.178888</td>\n",
       "      <td>...</td>\n",
       "      <td>-25.025118</td>\n",
       "      <td>-19.689665</td>\n",
       "      <td>3.857750</td>\n",
       "      <td>-6.332026</td>\n",
       "      <td>-9.478883</td>\n",
       "      <td>-6.238000</td>\n",
       "      <td>-1.566728</td>\n",
       "      <td>3.056531</td>\n",
       "      <td>-2.046859</td>\n",
       "      <td>-6.744138</td>\n",
       "    </tr>\n",
       "  </tbody>\n",
       "</table>\n",
       "<p>5 rows × 150 columns</p>\n",
       "</div>"
      ],
      "text/plain": [
       "                     time  flag     u10_0     u10_1     u10_2     u10_3  \\\n",
       "6387  2013-03-17 03:00:00   1.0 -2.534051 -0.383627  3.186323  0.659290   \n",
       "6304  2013-02-23 05:00:00   1.0  2.615645  6.656462  9.826373  4.090222   \n",
       "10065 2017-02-10 15:00:00   1.0  6.233916  3.567819  3.817690  3.398999   \n",
       "5453  2012-03-29 23:00:00   1.0  1.126471  0.854506  6.679174  0.501291   \n",
       "2307  2009-11-03 07:00:00   1.0  0.855831  2.172136  9.000013  1.054592   \n",
       "\n",
       "          u10_4     u10_5     u10_6     u10_7  ...  v500_2_past  v500_3_past  \\\n",
       "6387  -3.891838 -1.558571  0.771371 -5.957251  ...     3.116105    -3.509091   \n",
       "6304   2.263040 -1.679270 -3.596373 -1.309489  ...   -11.102421    -8.887543   \n",
       "10065  8.864523  7.446825 -0.613816  5.819541  ...    -9.765146   -14.710276   \n",
       "5453  -5.972256 -1.068994  0.272773  2.581086  ...     6.064084     3.146364   \n",
       "2307  -6.778291 -6.584008 -2.748751  1.178888  ...   -25.025118   -19.689665   \n",
       "\n",
       "       v500_4_past  v500_5_past  v500_6_past  v500_7_past  v500_8_past  \\\n",
       "6387     -0.834657     2.346402    -0.641657    -1.307968     6.003069   \n",
       "6304     -7.811907   -14.584892   -10.239186   -15.207329   -14.961988   \n",
       "10065    -1.067909    -9.062006    -7.778808   -24.811352   -20.202560   \n",
       "5453      1.281326    -3.964563     2.267668     3.212704     3.294065   \n",
       "2307      3.857750    -6.332026    -9.478883    -6.238000    -1.566728   \n",
       "\n",
       "       v500_13_past  v500_14_past  v500_15_past  \n",
       "6387      -1.114968     -2.421166     -0.016704  \n",
       "6304      -1.848773      1.722293    -16.225037  \n",
       "10065     -3.255318    -11.194578    -21.482105  \n",
       "5453      -5.834608      0.357569      2.516757  \n",
       "2307       3.056531     -2.046859     -6.744138  \n",
       "\n",
       "[5 rows x 150 columns]"
      ]
     },
     "execution_count": 4,
     "metadata": {},
     "output_type": "execute_result"
    }
   ],
   "source": [
    "# loading in data\n",
    "data = pd.read_csv(data_path/f'for_model_{compound}_{transferred_site}.csv', parse_dates=['time'])\n",
    "data.sample(5)"
   ]
  },
  {
   "cell_type": "code",
   "execution_count": 5,
   "metadata": {},
   "outputs": [
    {
     "name": "stdout",
     "output_type": "stream",
     "text": [
      "Train range: 2013-01-01 01:00:00 -> 2014-12-31 23:00:00. Length: 2004\n",
      "Val range: 2015-01-01 01:00:00 -> 2015-12-31 19:00:00. Length: 812\n",
      "Test range: 2016-01-01 21:00:00 -> 2017-12-31 23:00:00. Length: 2012\n"
     ]
    }
   ],
   "source": [
    "# setting up data for finetuning\n",
    "train_data_ft = data[(data['time'].dt.year >= 2013) & (data['time'].dt.year <= 2014)]\n",
    "val_data_ft = data[(data['time'].dt.year >= 2015) & (data['time'].dt.year <= 2015)]\n",
    "test_data_ft = data[(data['time'].dt.year >= 2016) & (data['time'].dt.year <= 2017)]\n",
    "\n",
    "print(f\"Train range: {train_data_ft['time'].min()} -> {train_data_ft['time'].max()}. Length: {len(train_data_ft)}\")\n",
    "print(f\"Val range: {val_data_ft['time'].min()} -> {val_data_ft['time'].max()}. Length: {len(val_data_ft)}\")\n",
    "print(f\"Test range: {test_data_ft['time'].min()} -> {test_data_ft['time'].max()}. Length: {len(test_data_ft)}\")\n",
    "\n",
    "train_data_ft = train_data_ft.drop(columns=['time'])\n",
    "val_data_ft = val_data_ft.drop(columns=['time'])\n",
    "test_data_ft = test_data_ft.drop(columns=['time'])\n",
    "\n",
    "X_train_ft = train_data_ft.drop(columns=['flag'])\n",
    "y_train_ft = train_data_ft['flag']\n",
    "X_val_ft = val_data_ft.drop(columns=['flag'])\n",
    "y_val_ft = val_data_ft['flag']\n",
    "X_test_ft = test_data_ft.drop(columns=['flag'])\n",
    "y_test_ft = test_data_ft['flag']\n",
    "\n",
    "y_train_ft = y_train_ft.dropna()\n",
    "y_val_ft = y_val_ft.dropna()\n",
    "y_test_ft = y_test_ft.dropna()\n",
    "\n",
    "X_train_ft = X_train_ft.loc[y_train_ft.index]\n",
    "X_val_ft = X_val_ft.loc[y_val_ft.index]\n",
    "X_test_ft = X_test_ft.loc[y_test_ft.index]"
   ]
  },
  {
   "cell_type": "code",
   "execution_count": 6,
   "metadata": {},
   "outputs": [
    {
     "name": "stdout",
     "output_type": "stream",
     "text": [
      "Train range: 2009-01-01 01:00:00 -> 2013-12-30 09:00:00. Length: 5763\n",
      "Val range: 2014-01-03 19:00:00 -> 2014-12-31 23:00:00. Length: 933\n",
      "Test range: 2015-01-01 01:00:00 -> 2017-12-31 23:00:00. Length: 2824\n"
     ]
    }
   ],
   "source": [
    "# setting up data for full retuning\n",
    "train_data = data[(data['time'].dt.year >= 2009) & (data['time'].dt.year <= 2013)]\n",
    "val_data = data[(data['time'].dt.year >= 2014) & (data['time'].dt.year <= 2014)]\n",
    "test_data = data[(data['time'].dt.year >= 2015) & (data['time'].dt.year <= 2017)]\n",
    "\n",
    "print(f\"Train range: {train_data['time'].min()} -> {train_data['time'].max()}. Length: {len(train_data)}\")\n",
    "print(f\"Val range: {val_data['time'].min()} -> {val_data['time'].max()}. Length: {len(val_data)}\")\n",
    "print(f\"Test range: {test_data['time'].min()} -> {test_data['time'].max()}. Length: {len(test_data)}\")\n",
    "\n",
    "train_data = train_data.drop(columns=['time'])\n",
    "val_data = val_data.drop(columns=['time'])\n",
    "test_data = test_data.drop(columns=['time'])\n",
    "\n",
    "X_train = train_data.drop(columns=['flag'])\n",
    "y_train = train_data['flag']\n",
    "X_val = val_data.drop(columns=['flag'])\n",
    "y_val = val_data['flag']\n",
    "X_test = test_data.drop(columns=['flag'])\n",
    "y_test = test_data['flag']\n",
    "\n",
    "y_train = y_train.dropna()\n",
    "y_val = y_val.dropna()\n",
    "y_test = y_test.dropna()\n",
    "\n",
    "X_train = X_train.loc[y_train.index]\n",
    "X_val = X_val.loc[y_val.index]\n",
    "X_test = X_test.loc[y_test.index]"
   ]
  },
  {
   "cell_type": "markdown",
   "metadata": {},
   "source": [
    "### Testing Existing Model on Data"
   ]
  },
  {
   "cell_type": "code",
   "execution_count": 7,
   "metadata": {},
   "outputs": [
    {
     "name": "stdout",
     "output_type": "stream",
     "text": [
      "MHD Model Precision: 0.87\n",
      "MHD Model Recall: 0.80\n",
      "MHD Model F1: 0.83\n"
     ]
    }
   ],
   "source": [
    "y_val_pred = original_model.predict(X_val)\n",
    "\n",
    "precision = precision_score(y_val, y_val_pred)\n",
    "recall = recall_score(y_val, y_val_pred)\n",
    "f1 = f1_score(y_val, y_val_pred)\n",
    "\n",
    "print(f'{site} Model Precision: {precision:.2f}')\n",
    "print(f'{site} Model Recall: {recall:.2f}')\n",
    "print(f'{site} Model F1: {f1:.2f}')"
   ]
  },
  {
   "cell_type": "markdown",
   "metadata": {},
   "source": [
    "### Finetuning Model"
   ]
  },
  {
   "cell_type": "code",
   "execution_count": 8,
   "metadata": {},
   "outputs": [
    {
     "data": {
      "text/html": [
       "<style>#sk-container-id-2 {color: black;}#sk-container-id-2 pre{padding: 0;}#sk-container-id-2 div.sk-toggleable {background-color: white;}#sk-container-id-2 label.sk-toggleable__label {cursor: pointer;display: block;width: 100%;margin-bottom: 0;padding: 0.3em;box-sizing: border-box;text-align: center;}#sk-container-id-2 label.sk-toggleable__label-arrow:before {content: \"▸\";float: left;margin-right: 0.25em;color: #696969;}#sk-container-id-2 label.sk-toggleable__label-arrow:hover:before {color: black;}#sk-container-id-2 div.sk-estimator:hover label.sk-toggleable__label-arrow:before {color: black;}#sk-container-id-2 div.sk-toggleable__content {max-height: 0;max-width: 0;overflow: hidden;text-align: left;background-color: #f0f8ff;}#sk-container-id-2 div.sk-toggleable__content pre {margin: 0.2em;color: black;border-radius: 0.25em;background-color: #f0f8ff;}#sk-container-id-2 input.sk-toggleable__control:checked~div.sk-toggleable__content {max-height: 200px;max-width: 100%;overflow: auto;}#sk-container-id-2 input.sk-toggleable__control:checked~label.sk-toggleable__label-arrow:before {content: \"▾\";}#sk-container-id-2 div.sk-estimator input.sk-toggleable__control:checked~label.sk-toggleable__label {background-color: #d4ebff;}#sk-container-id-2 div.sk-label input.sk-toggleable__control:checked~label.sk-toggleable__label {background-color: #d4ebff;}#sk-container-id-2 input.sk-hidden--visually {border: 0;clip: rect(1px 1px 1px 1px);clip: rect(1px, 1px, 1px, 1px);height: 1px;margin: -1px;overflow: hidden;padding: 0;position: absolute;width: 1px;}#sk-container-id-2 div.sk-estimator {font-family: monospace;background-color: #f0f8ff;border: 1px dotted black;border-radius: 0.25em;box-sizing: border-box;margin-bottom: 0.5em;}#sk-container-id-2 div.sk-estimator:hover {background-color: #d4ebff;}#sk-container-id-2 div.sk-parallel-item::after {content: \"\";width: 100%;border-bottom: 1px solid gray;flex-grow: 1;}#sk-container-id-2 div.sk-label:hover label.sk-toggleable__label {background-color: #d4ebff;}#sk-container-id-2 div.sk-serial::before {content: \"\";position: absolute;border-left: 1px solid gray;box-sizing: border-box;top: 0;bottom: 0;left: 50%;z-index: 0;}#sk-container-id-2 div.sk-serial {display: flex;flex-direction: column;align-items: center;background-color: white;padding-right: 0.2em;padding-left: 0.2em;position: relative;}#sk-container-id-2 div.sk-item {position: relative;z-index: 1;}#sk-container-id-2 div.sk-parallel {display: flex;align-items: stretch;justify-content: center;background-color: white;position: relative;}#sk-container-id-2 div.sk-item::before, #sk-container-id-2 div.sk-parallel-item::before {content: \"\";position: absolute;border-left: 1px solid gray;box-sizing: border-box;top: 0;bottom: 0;left: 50%;z-index: -1;}#sk-container-id-2 div.sk-parallel-item {display: flex;flex-direction: column;z-index: 1;position: relative;background-color: white;}#sk-container-id-2 div.sk-parallel-item:first-child::after {align-self: flex-end;width: 50%;}#sk-container-id-2 div.sk-parallel-item:last-child::after {align-self: flex-start;width: 50%;}#sk-container-id-2 div.sk-parallel-item:only-child::after {width: 0;}#sk-container-id-2 div.sk-dashed-wrapped {border: 1px dashed gray;margin: 0 0.4em 0.5em 0.4em;box-sizing: border-box;padding-bottom: 0.4em;background-color: white;}#sk-container-id-2 div.sk-label label {font-family: monospace;font-weight: bold;display: inline-block;line-height: 1.2em;}#sk-container-id-2 div.sk-label-container {text-align: center;}#sk-container-id-2 div.sk-container {/* jupyter's `normalize.less` sets `[hidden] { display: none; }` but bootstrap.min.css set `[hidden] { display: none !important; }` so we also need the `!important` here to be able to override the default hidden behavior on the sphinx rendered scikit-learn.org. See: https://github.com/scikit-learn/scikit-learn/issues/21755 */display: inline-block !important;position: relative;}#sk-container-id-2 div.sk-text-repr-fallback {display: none;}</style><div id=\"sk-container-id-2\" class=\"sk-top-container\"><div class=\"sk-text-repr-fallback\"><pre>MLPClassifier(alpha=0.05, batch_size=100, beta_2=0.9, early_stopping=True,\n",
       "              max_iter=1250, random_state=42, shuffle=False, warm_start=True)</pre><b>In a Jupyter environment, please rerun this cell to show the HTML representation or trust the notebook. <br />On GitHub, the HTML representation is unable to render, please try loading this page with nbviewer.org.</b></div><div class=\"sk-container\" hidden><div class=\"sk-item\"><div class=\"sk-estimator sk-toggleable\"><input class=\"sk-toggleable__control sk-hidden--visually\" id=\"sk-estimator-id-2\" type=\"checkbox\" checked><label for=\"sk-estimator-id-2\" class=\"sk-toggleable__label sk-toggleable__label-arrow\">MLPClassifier</label><div class=\"sk-toggleable__content\"><pre>MLPClassifier(alpha=0.05, batch_size=100, beta_2=0.9, early_stopping=True,\n",
       "              max_iter=1250, random_state=42, shuffle=False, warm_start=True)</pre></div></div></div></div></div>"
      ],
      "text/plain": [
       "MLPClassifier(alpha=0.05, batch_size=100, beta_2=0.9, early_stopping=True,\n",
       "              max_iter=1250, random_state=42, shuffle=False, warm_start=True)"
      ]
     },
     "execution_count": 8,
     "metadata": {},
     "output_type": "execute_result"
    }
   ],
   "source": [
    "# allowing warm start & therefore fine-tuning\n",
    "original_model.warm_start = True\n",
    "\n",
    "# adding more iterations to the model\n",
    "original_model.max_iter += 250\n",
    "\n",
    "# fitting the model to the new data (one years worth)\n",
    "original_model.fit(X_train_ft, y_train_ft)"
   ]
  },
  {
   "cell_type": "code",
   "execution_count": 9,
   "metadata": {},
   "outputs": [
    {
     "name": "stdout",
     "output_type": "stream",
     "text": [
      "Finetuned Model Precision: 0.94\n",
      "Finetuned Model Recall: 0.21\n",
      "Finetuned Model F1: 0.35\n"
     ]
    }
   ],
   "source": [
    "# evaluating model on validation set\n",
    "y_val_pred = original_model.predict(X_val_ft)\n",
    "\n",
    "precision = precision_score(y_val_ft, y_val_pred)\n",
    "recall = recall_score(y_val_ft, y_val_pred)\n",
    "f1 = f1_score(y_val_ft, y_val_pred)\n",
    "\n",
    "print(f'Finetuned Model Precision: {precision:.2f}')\n",
    "print(f'Finetuned Model Recall: {recall:.2f}')\n",
    "print(f'Finetuned Model F1: {f1:.2f}')"
   ]
  },
  {
   "cell_type": "code",
   "execution_count": 10,
   "metadata": {},
   "outputs": [
    {
     "name": "stdout",
     "output_type": "stream",
     "text": [
      "Number of non-baselines: 681\n",
      "Number of baselines: 131\n"
     ]
    }
   ],
   "source": [
    "# exploring the distribution of the predictions\n",
    "y_val_pred_int = y_val_pred.astype(int)\n",
    "\n",
    "counts = np.bincount(y_val_pred_int)\n",
    "\n",
    "print(\"Number of non-baselines:\", counts[0])\n",
    "print(\"Number of baselines:\", counts[1])\n",
    "\n",
    "assert counts[0] > 0, \"Model has predicted no non-baselines. This is likely due to the model being overfit.\""
   ]
  },
  {
   "cell_type": "code",
   "execution_count": 11,
   "metadata": {},
   "outputs": [
    {
     "data": {
      "text/plain": [
       "['C:\\\\Users\\\\kirst\\\\OneDrive\\\\Kirstin\\\\Uni\\\\Year4\\\\MSciProject\\\\data_files\\\\saved_files\\\\nn_model_GSN_finetuned.joblib']"
      ]
     },
     "execution_count": 11,
     "metadata": {},
     "output_type": "execute_result"
    }
   ],
   "source": [
    "# saving model\n",
    "dump(original_model, data_path/f'nn_model_{transferred_site}_finetuned.joblib')"
   ]
  },
  {
   "cell_type": "markdown",
   "metadata": {},
   "source": [
    "### Retuning Model Completely"
   ]
  },
  {
   "cell_type": "code",
   "execution_count": 12,
   "metadata": {},
   "outputs": [
    {
     "name": "stdout",
     "output_type": "stream",
     "text": [
      "Precision on Training Set = 0.863\n",
      "Precision on Validation Set = 0.802\n",
      "Recall on Training Set = 0.977\n",
      "Recall on Validation Set = 0.988\n",
      "F1 Score on Training Set = 0.916\n",
      "F1 Score on Validation Set = 0.885\n"
     ]
    }
   ],
   "source": [
    "new_model = MLPClassifier(random_state=42,\n",
    "                         max_iter=1000, \n",
    "                         hidden_layer_sizes=(100,), \n",
    "                         shuffle=False,\n",
    "                         activation='relu', \n",
    "                         solver='adam', \n",
    "                         alpha=0.05, \n",
    "                         learning_rate='constant', \n",
    "                         batch_size=100, \n",
    "                         early_stopping=True,\n",
    "                         learning_rate_init=0.001,\n",
    "                         beta_2=0.9,)\n",
    "\n",
    "new_model.fit(X_train, y_train)\n",
    "\n",
    "y_val_pred = new_model.predict(X_val)\n",
    "y_train_pred = new_model.predict(X_train)\n",
    "\n",
    "precision_val = precision_score(y_val, y_val_pred)\n",
    "precision_train = precision_score(y_train, y_train_pred)\n",
    "recall_val = recall_score(y_val, y_val_pred)\n",
    "recall_train = recall_score(y_train, y_train_pred)\n",
    "f1_val = f1_score(y_val, y_val_pred)\n",
    "f1_train = f1_score(y_train, y_train_pred)\n",
    "\n",
    "print(f\"Precision on Training Set = {precision_train:.3f}\")\n",
    "print(f\"Precision on Validation Set = {precision_val:.3f}\")\n",
    "print(f\"Recall on Training Set = {recall_train:.3f}\")\n",
    "print(f\"Recall on Validation Set = {recall_val:.3f}\")\n",
    "print(f\"F1 Score on Training Set = {f1_train:.3f}\")\n",
    "print(f\"F1 Score on Validation Set = {f1_val:.3f}\")"
   ]
  },
  {
   "cell_type": "code",
   "execution_count": 13,
   "metadata": {},
   "outputs": [
    {
     "name": "stdout",
     "output_type": "stream",
     "text": [
      "Test Precision: 0.813\n",
      "Test Recall: 0.983\n",
      "Test F1 Score: 0.890\n"
     ]
    }
   ],
   "source": [
    "# evaluating model on test set\n",
    "y_test_pred = new_model.predict(X_test)\n",
    "\n",
    "precision = precision_score(y_test, y_test_pred)\n",
    "recall = recall_score(y_test, y_test_pred)\n",
    "f1 = f1_score(y_test, y_test_pred)\n",
    "\n",
    "print(f\"Test Precision: {precision:.3f}\")\n",
    "print(f\"Test Recall: {recall:.3f}\")\n",
    "print(f\"Test F1 Score: {f1:.3f}\")"
   ]
  }
 ],
 "metadata": {
  "kernelspec": {
   "display_name": "venv",
   "language": "python",
   "name": "python3"
  },
  "language_info": {
   "codemirror_mode": {
    "name": "ipython",
    "version": 3
   },
   "file_extension": ".py",
   "mimetype": "text/x-python",
   "name": "python",
   "nbconvert_exporter": "python",
   "pygments_lexer": "ipython3",
   "version": "3.11.8"
  }
 },
 "nbformat": 4,
 "nbformat_minor": 2
}
