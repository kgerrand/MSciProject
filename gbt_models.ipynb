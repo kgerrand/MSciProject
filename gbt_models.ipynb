{
 "cells": [
  {
   "cell_type": "markdown",
   "metadata": {},
   "source": [
    "## Gradient Boosted Tree"
   ]
  },
  {
   "cell_type": "code",
   "execution_count": null,
   "metadata": {},
   "outputs": [],
   "source": [
    "import pandas as pd\n",
    "from sklearn.ensemble import RandomForestClassifier, GradientBoostingClassifier\n",
    "from sklearn.model_selection import GridSearchCV, RandomizedSearchCV\n",
    "from sklearn.metrics import accuracy_score, precision_score, recall_score, roc_auc_score, f1_score\n",
    "from sklearn.metrics import precision_recall_curve, auc, confusion_matrix\n",
    "from joblib import dump\n",
    "import numpy as np"
   ]
  },
  {
   "cell_type": "markdown",
   "metadata": {},
   "source": [
    "#### Initialising"
   ]
  },
  {
   "cell_type": "code",
   "execution_count": null,
   "metadata": {},
   "outputs": [],
   "source": [
    "# initialising WandB\n",
    "import wandb, os\n",
    "\n",
    "os.environ[\"WANDB_API_KEY\"] = \"e84d2e19bd2cc42ec6e5d232cd0b6f0fe41f2189\"\n",
    "os.environ[\"WANDB_NOTEBOOK_NAME\"] = \"gbt_models.ipynb\"\n",
    "\n",
    "'''\n",
    "Syntax for using WandB:\n",
    "\n",
    "wandb.init(project=\"MSciProject\", name=\"name\", notebook=\"your-notebook-name\")\n",
    "# code here\n",
    "wandb.finish()\n",
    "'''"
   ]
  },
  {
   "cell_type": "code",
   "execution_count": null,
   "metadata": {},
   "outputs": [],
   "source": [
    "# Load the data\n",
    "data = pd.read_csv('/Users/kirst/Downloads/uvf.csv', parse_dates=['time'])\n",
    "\n",
    "assert len(data.columns) == 20"
   ]
  },
  {
   "cell_type": "code",
   "execution_count": null,
   "metadata": {},
   "outputs": [],
   "source": [
    "# Convert \"time\" column to datetime format\n",
    "#data['time'] = pd.to_datetime(data['time'], format='%d/%m/%Y %H:%M')\n",
    "\n",
    "# Split the data into training and testing sets based on the date\n",
    "train_data = data[data['time'].dt.year <= 2012]\n",
    "test_data = data[(data['time'].dt.year >= 2014) & (data['time'].dt.year <= 2016)]\n",
    "\n",
    "print(f\"Train range: {train_data['time'].min()} -> {train_data['time'].max()}\")\n",
    "print(f\"Test range: {test_data['time'].min()} -> {test_data['time'].max()}\")\n",
    "\n",
    "training_date_range = \"2003-05-22 to 2012-12-31\"\n",
    "testing_date_range = \"2014-01-01 to 2016-12-31\"\n",
    "\n",
    "# Drop the \"time\" column as it won't be used in the model\n",
    "train_data = train_data.drop(columns=['time'])\n",
    "test_data = test_data.drop(columns=['time'])\n",
    "\n",
    "# Check the size of the training and testing sets\n",
    "len(train_data), len(test_data)\n",
    "\n",
    "# Define the features (X) and the target (y)\n",
    "X_train = train_data.drop(columns=['flag'])\n",
    "y_train = train_data['flag']\n",
    "X_test = test_data.drop(columns=['flag'])\n",
    "y_test = test_data['flag']\n",
    "\n",
    "# Balanced Data - removing NaN values and associated data\n",
    "y_train = y_train.dropna()\n",
    "y_test = y_test.dropna()\n",
    "\n",
    "X_train = X_train.loc[y_train.index]\n",
    "X_test = X_test.loc[y_test.index]\n",
    "\n",
    "assert len(X_train.columns)==18"
   ]
  },
  {
   "cell_type": "markdown",
   "metadata": {},
   "source": [
    "### Initial Model"
   ]
  },
  {
   "cell_type": "code",
   "execution_count": null,
   "metadata": {},
   "outputs": [],
   "source": [
    "wandb.init(project=\"MSciProject - GBT\")\n",
    "\n",
    "# Initialize Gradient boosted tree model\n",
    "gbt_model = GradientBoostingClassifier(random_state=42, bootstrap=False, subsample=0.8, n_estimators=50,\n",
    "                                       min_samples_split=2, min_samples_leaf=10, max_depth=5, learning_rate=0.01)\n",
    "\n",
    "# Train the model\n",
    "gbt_model.fit(X_train, y_train)\n",
    "\n",
    "# Use the model to make predictions on the test data\n",
    "y_pred_gbt = gbt_model.predict(X_test)\n",
    "\n",
    "# Calculate the performance metrics\n",
    "accuracy = accuracy_score(y_test, y_pred_gbt)\n",
    "precision = precision_score(y_test, y_pred_gbt)\n",
    "recall = recall_score(y_test, y_pred_gbt)\n",
    "auc_roc = roc_auc_score(y_test, y_pred_gbt)\n",
    "f1 = f1_score(y_test, y_pred_gbt)\n",
    "\n",
    "#auc_pr\n",
    "precision1, recall1, _ = precision_recall_curve(y_test, y_pred_gbt)\n",
    "auc_pr = auc(recall1, precision1)\n",
    "\n",
    "#specificity\n",
    "threshold = 0.5\n",
    "# Convert predicted probabilities to binary predictions using the threshold\n",
    "y_pred_binary = (y_pred_gbt > threshold).astype(int)\n",
    "\n",
    "conf_matrix = confusion_matrix(y_test, y_pred_binary)\n",
    "tn, fp, fn, tp = conf_matrix.ravel()\n",
    "\n",
    "specificity = tn / (tn + fp)\n",
    "\n",
    "accuracy, precision, recall, auc_roc, f1, auc_pr, specificity\n",
    "\n",
    "wandb.log({\"model_name\":\"Gradient boosted tree\", \"accuracy\":accuracy, \"precision\":precision, \n",
    "           \"recall\":recall, \"auc_roc\":auc_roc, \"f1_score\":f1, \"auc_pr\":auc_pr, \"specificity\":specificity,\n",
    "           \"training date range\": training_date_range, \"testing date range\": testing_date_range})\n",
    "\n",
    "wandb.finish()"
   ]
  },
  {
   "cell_type": "markdown",
   "metadata": {},
   "source": [
    "### Optimising Hyperparameters"
   ]
  },
  {
   "cell_type": "code",
   "execution_count": null,
   "metadata": {},
   "outputs": [],
   "source": [
    "gbt_classifier = GradientBoostingClassifier()\n",
    "params = gbt_classifier.get_params()\n",
    "\n",
    "print(params)"
   ]
  },
  {
   "cell_type": "code",
   "execution_count": null,
   "metadata": {},
   "outputs": [],
   "source": [
    "# Hyperparameters grid for the randomized search\n",
    "param_dist = {\n",
    "    'n_estimators': np.arange(50, 301, 50),\n",
    "    'learning_rate': [0.001, 0.01, 0.05, 0.1, 0.5],\n",
    "    'max_depth': np.arange(3, 15, 1),\n",
    "    'min_samples_split': np.arange(2, 11, 1),\n",
    "    'min_samples_leaf': np.arange(1, 11, 1),\n",
    "    'subsample': [0.7, 0.8, 0.9, 1]\n",
    "}\n",
    "\n",
    "# Initialize the randomized search with 5-fold cross-validation\n",
    "random_search = RandomizedSearchCV(GradientBoostingClassifier(random_state=42),\n",
    "                                   param_distributions=param_dist, n_iter=20, \n",
    "                                   scoring='recall', cv=5, n_jobs=-1, random_state=42)\n",
    "\n",
    "# Perform the randomized search on the training data\n",
    "random_search.fit(X_train, y_train)\n",
    "\n",
    "# Get the best parameters and the best recall score\n",
    "best_params_random = random_search.best_params_\n",
    "best_recall_random = random_search.best_score_\n",
    "\n",
    "best_params_random, best_recall_random"
   ]
  },
  {
   "cell_type": "markdown",
   "metadata": {},
   "source": [
    "### Optimised Model"
   ]
  },
  {
   "cell_type": "code",
   "execution_count": null,
   "metadata": {},
   "outputs": [],
   "source": [
    "wandb.init(project=\"MSciProject\")\n",
    "\n",
    "# Run model with best parameters\n",
    "# try this against gradient boosted tree and compare?\n",
    "\n",
    "rf_model = RandomForestClassifier(random_state=42,\n",
    "                                  max_depth=20,\n",
    "                                  min_samples_leaf=1,\n",
    "                                  min_samples_split=2,\n",
    "                                  n_estimators=200,\n",
    "                                  bootstrap=False)\n",
    "\n",
    "\n",
    "rf_model.fit(X_train, y_train)\n",
    "\n",
    "# Use the model to make predictions on the test data\n",
    "y_pred = rf_model.predict(X_test)\n",
    "\n",
    "# Calculate the performance metrics\n",
    "accuracy = accuracy_score(y_test, y_pred)\n",
    "precision = precision_score(y_test, y_pred)\n",
    "recall = recall_score(y_test, y_pred)\n",
    "auc_roc = roc_auc_score(y_test, y_pred)\n",
    "f1 = f1_score(y_test, y_pred)\n",
    "\n",
    "#auc_pr\n",
    "precision1, recall1, _ = precision_recall_curve(y_test, y_pred)\n",
    "auc_pr = auc(recall1, precision1)\n",
    "\n",
    "#specificity\n",
    "threshold = 0.5\n",
    "# Convert predicted probabilities to binary predictions using the threshold\n",
    "y_pred_binary = (y_pred > threshold).astype(int)\n",
    "\n",
    "conf_matrix = confusion_matrix(y_test, y_pred_binary)\n",
    "tn, fp, fn, tp = conf_matrix.ravel()\n",
    "\n",
    "specificity = tn / (tn + fp)\n",
    "\n",
    "accuracy, precision, recall, auc_roc, f1, auc_pr, specificity\n",
    "\n",
    "wandb.log({\"model_name\":\"Final Random Forest, bootstrap=False\", \"accuracy\":accuracy, \"precision\":precision, \n",
    "           \"recall\":recall, \"auc_roc\":auc_roc, \"f1_score\":f1, \"auc_pr\":auc_pr, \"specificity\":specificity,\n",
    "           \"training date range\": training_date_range, \"testing date range\": testing_date_range })\n",
    "\n",
    "wandb.finish()"
   ]
  },
  {
   "cell_type": "code",
   "execution_count": null,
   "metadata": {},
   "outputs": [],
   "source": [
    "# Save the model\n",
    "dump(rf_model, '/Users/kirst/Downloads/rf_model.joblib')"
   ]
  }
 ],
 "metadata": {
  "kernelspec": {
   "display_name": "Python 3",
   "language": "python",
   "name": "python3"
  },
  "language_info": {
   "codemirror_mode": {
    "name": "ipython",
    "version": 3
   },
   "file_extension": ".py",
   "mimetype": "text/x-python",
   "name": "python",
   "nbconvert_exporter": "python",
   "pygments_lexer": "ipython3",
   "version": "3.11.5"
  },
  "orig_nbformat": 4
 },
 "nbformat": 4,
 "nbformat_minor": 2
}
