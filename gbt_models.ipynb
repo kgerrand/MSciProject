{
 "cells": [
  {
   "cell_type": "markdown",
   "metadata": {},
   "source": [
    "## Gradient Boosted Tree"
   ]
  },
  {
   "cell_type": "code",
   "execution_count": 37,
   "metadata": {},
   "outputs": [],
   "source": [
    "import pandas as pd\n",
    "from sklearn.ensemble import RandomForestClassifier, GradientBoostingClassifier\n",
    "from sklearn.model_selection import GridSearchCV, RandomizedSearchCV\n",
    "from sklearn.metrics import accuracy_score, precision_score, recall_score, roc_auc_score, f1_score\n",
    "from sklearn.metrics import precision_recall_curve, auc, confusion_matrix\n",
    "from joblib import dump\n",
    "import numpy as np"
   ]
  },
  {
   "cell_type": "markdown",
   "metadata": {},
   "source": [
    "#### Initialising"
   ]
  },
  {
   "cell_type": "code",
   "execution_count": 38,
   "metadata": {},
   "outputs": [
    {
     "data": {
      "text/plain": [
       "'\\nSyntax for using WandB:\\n\\nwandb.init(project=\"MSciProject\", name=\"name\", notebook=\"your-notebook-name\")\\n# code here\\nwandb.finish()\\n'"
      ]
     },
     "execution_count": 38,
     "metadata": {},
     "output_type": "execute_result"
    }
   ],
   "source": [
    "# initialising WandB\n",
    "import wandb, os\n",
    "\n",
    "os.environ[\"WANDB_API_KEY\"] = \"e84d2e19bd2cc42ec6e5d232cd0b6f0fe41f2189\"\n",
    "os.environ[\"WANDB_NOTEBOOK_NAME\"] = \"baseline_filter_train.ipynb\"\n",
    "\n",
    "'''\n",
    "Syntax for using WandB:\n",
    "\n",
    "wandb.init(project=\"MSciProject\", name=\"name\", notebook=\"your-notebook-name\")\n",
    "# code here\n",
    "wandb.finish()\n",
    "'''"
   ]
  },
  {
   "cell_type": "code",
   "execution_count": 49,
   "metadata": {},
   "outputs": [],
   "source": [
    "# Load the data\n",
    "data = pd.read_csv('/Users/kirst/Downloads/uvf.csv', parse_dates=['time'])"
   ]
  },
  {
   "cell_type": "code",
   "execution_count": 50,
   "metadata": {},
   "outputs": [
    {
     "data": {
      "text/plain": [
       "Index(['time', 'flag', 'u_0', 'v_0', 'u_1', 'v_1', 'u_2', 'v_2', 'u_3', 'v_3',\n",
       "       'u_4', 'v_4', 'u_5', 'v_5', 'u_6', 'v_6', 'u_7', 'v_7', 'u_8', 'v_8',\n",
       "       'time_of_day'],\n",
       "      dtype='object')"
      ]
     },
     "execution_count": 50,
     "metadata": {},
     "output_type": "execute_result"
    }
   ],
   "source": [
    "data.columns"
   ]
  },
  {
   "cell_type": "code",
   "execution_count": 45,
   "metadata": {},
   "outputs": [
    {
     "name": "stdout",
     "output_type": "stream",
     "text": [
      "Train range: 2003-05-22 12:56:00 -> 2012-12-31 22:29:00\n",
      "Test range: 2014-01-01 00:25:00 -> 2016-12-31 21:51:00\n"
     ]
    }
   ],
   "source": [
    "# Convert \"time\" column to datetime format\n",
    "#data['time'] = pd.to_datetime(data['time'], format='%d/%m/%Y %H:%M')\n",
    "\n",
    "# Split the data into training and testing sets based on the date\n",
    "train_data = data[data['time'].dt.year <= 2012]\n",
    "test_data = data[(data['time'].dt.year >= 2014) & (data['time'].dt.year <= 2016)]\n",
    "\n",
    "print(f\"Train range: {train_data['time'].min()} -> {train_data['time'].max()}\")\n",
    "print(f\"Test range: {test_data['time'].min()} -> {test_data['time'].max()}\")\n",
    "\n",
    "training_date_range = \"2003-05-22 to 2012-12-31\"\n",
    "testing_date_range = \"2014-01-01 to 2016-12-31\"\n",
    "\n",
    "# Drop the \"time\" column as it won't be used in the model\n",
    "train_data = train_data.drop(columns=['time'])\n",
    "test_data = test_data.drop(columns=['time'])\n",
    "\n",
    "# Check the size of the training and testing sets\n",
    "len(train_data), len(test_data)\n",
    "\n",
    "# Define the features (X) and the target (y)\n",
    "X_train = train_data.drop(columns=['flag'])\n",
    "y_train = train_data['flag']\n",
    "X_test = test_data.drop(columns=['flag'])\n",
    "y_test = test_data['flag']\n",
    "\n",
    "# Balanced Data - removing NaN values and associated data\n",
    "y_train = y_train.dropna()\n",
    "y_test = y_test.dropna()\n",
    "\n",
    "X_train = X_train.loc[y_train.index]\n",
    "X_test = X_test.loc[y_test.index]"
   ]
  },
  {
   "cell_type": "code",
   "execution_count": 46,
   "metadata": {},
   "outputs": [
    {
     "data": {
      "text/plain": [
       "Index(['u_0', 'v_0', 'u_1', 'v_1', 'u_2', 'v_2', 'u_3', 'v_3', 'u_4', 'v_4',\n",
       "       'u_5', 'v_5', 'u_6', 'v_6', 'u_7', 'v_7', 'u_8', 'v_8'],\n",
       "      dtype='object')"
      ]
     },
     "execution_count": 46,
     "metadata": {},
     "output_type": "execute_result"
    }
   ],
   "source": [
    "X_train.columns"
   ]
  },
  {
   "cell_type": "markdown",
   "metadata": {},
   "source": [
    "### Initial Model"
   ]
  },
  {
   "cell_type": "code",
   "execution_count": 30,
   "metadata": {},
   "outputs": [
    {
     "data": {
      "text/html": [
       "wandb version 0.16.0 is available!  To upgrade, please run:\n",
       " $ pip install wandb --upgrade"
      ],
      "text/plain": [
       "<IPython.core.display.HTML object>"
      ]
     },
     "metadata": {},
     "output_type": "display_data"
    },
    {
     "data": {
      "text/html": [
       "Tracking run with wandb version 0.15.12"
      ],
      "text/plain": [
       "<IPython.core.display.HTML object>"
      ]
     },
     "metadata": {},
     "output_type": "display_data"
    },
    {
     "data": {
      "text/html": [
       "Run data is saved locally in <code>c:\\Users\\kirst\\OneDrive\\Kirstin\\Uni\\Year4\\MSciProject\\my_code\\optimising_algorithm\\wandb\\run-20231112_131936-fe4r2i3p</code>"
      ],
      "text/plain": [
       "<IPython.core.display.HTML object>"
      ]
     },
     "metadata": {},
     "output_type": "display_data"
    },
    {
     "data": {
      "text/html": [
       "Syncing run <strong><a href='https://wandb.ai/kgerrand/MSciProject/runs/fe4r2i3p' target=\"_blank\">dandy-breeze-16</a></strong> to <a href='https://wandb.ai/kgerrand/MSciProject' target=\"_blank\">Weights & Biases</a> (<a href='https://wandb.me/run' target=\"_blank\">docs</a>)<br/>"
      ],
      "text/plain": [
       "<IPython.core.display.HTML object>"
      ]
     },
     "metadata": {},
     "output_type": "display_data"
    },
    {
     "data": {
      "text/html": [
       " View project at <a href='https://wandb.ai/kgerrand/MSciProject' target=\"_blank\">https://wandb.ai/kgerrand/MSciProject</a>"
      ],
      "text/plain": [
       "<IPython.core.display.HTML object>"
      ]
     },
     "metadata": {},
     "output_type": "display_data"
    },
    {
     "data": {
      "text/html": [
       " View run at <a href='https://wandb.ai/kgerrand/MSciProject/runs/fe4r2i3p' target=\"_blank\">https://wandb.ai/kgerrand/MSciProject/runs/fe4r2i3p</a>"
      ],
      "text/plain": [
       "<IPython.core.display.HTML object>"
      ]
     },
     "metadata": {},
     "output_type": "display_data"
    },
    {
     "data": {
      "text/html": [
       "Waiting for W&B process to finish... <strong style=\"color:green\">(success).</strong>"
      ],
      "text/plain": [
       "<IPython.core.display.HTML object>"
      ]
     },
     "metadata": {},
     "output_type": "display_data"
    },
    {
     "data": {
      "text/html": [
       "<style>\n",
       "    table.wandb td:nth-child(1) { padding: 0 10px; text-align: left ; width: auto;} td:nth-child(2) {text-align: left ; width: 100%}\n",
       "    .wandb-row { display: flex; flex-direction: row; flex-wrap: wrap; justify-content: flex-start; width: 100% }\n",
       "    .wandb-col { display: flex; flex-direction: column; flex-basis: 100%; flex: 1; padding: 10px; }\n",
       "    </style>\n",
       "<div class=\"wandb-row\"><div class=\"wandb-col\"><h3>Run history:</h3><br/><table class=\"wandb\"><tr><td>accuracy</td><td>▁</td></tr><tr><td>auc_pr</td><td>▁</td></tr><tr><td>auc_roc</td><td>▁</td></tr><tr><td>f1_score</td><td>▁</td></tr><tr><td>precision</td><td>▁</td></tr><tr><td>recall</td><td>▁</td></tr><tr><td>specificity</td><td>▁</td></tr></table><br/></div><div class=\"wandb-col\"><h3>Run summary:</h3><br/><table class=\"wandb\"><tr><td>accuracy</td><td>0.71197</td></tr><tr><td>auc_pr</td><td>0.80014</td></tr><tr><td>auc_roc</td><td>0.70796</td></tr><tr><td>f1_score</td><td>0.74153</td></tr><tr><td>model_name</td><td>Gradient boosted tre...</td></tr><tr><td>precision</td><td>0.70176</td></tr><tr><td>recall</td><td>0.78609</td></tr><tr><td>specificity</td><td>0.62984</td></tr><tr><td>testing date range</td><td>2014-01-01 to 2016-1...</td></tr><tr><td>training date range</td><td>2003-05-22 to 2012-1...</td></tr></table><br/></div></div>"
      ],
      "text/plain": [
       "<IPython.core.display.HTML object>"
      ]
     },
     "metadata": {},
     "output_type": "display_data"
    },
    {
     "data": {
      "text/html": [
       " View run <strong style=\"color:#cdcd00\">dandy-breeze-16</strong> at: <a href='https://wandb.ai/kgerrand/MSciProject/runs/fe4r2i3p' target=\"_blank\">https://wandb.ai/kgerrand/MSciProject/runs/fe4r2i3p</a><br/> View job at <a href='https://wandb.ai/kgerrand/MSciProject/jobs/QXJ0aWZhY3RDb2xsZWN0aW9uOjExMTI3ODcxMg==/version_details/v4' target=\"_blank\">https://wandb.ai/kgerrand/MSciProject/jobs/QXJ0aWZhY3RDb2xsZWN0aW9uOjExMTI3ODcxMg==/version_details/v4</a><br/>Synced 4 W&B file(s), 0 media file(s), 0 artifact file(s) and 0 other file(s)"
      ],
      "text/plain": [
       "<IPython.core.display.HTML object>"
      ]
     },
     "metadata": {},
     "output_type": "display_data"
    },
    {
     "data": {
      "text/html": [
       "Find logs at: <code>.\\wandb\\run-20231112_131936-fe4r2i3p\\logs</code>"
      ],
      "text/plain": [
       "<IPython.core.display.HTML object>"
      ]
     },
     "metadata": {},
     "output_type": "display_data"
    }
   ],
   "source": [
    "wandb.init(project=\"MSciProject - GBT\")\n",
    "\n",
    "# Initialize Gradient boosted tree model\n",
    "gbt_model = GradientBoostingClassifier(random_state=42)\n",
    "\n",
    "# Train the model\n",
    "gbt_model.fit(X_train, y_train)\n",
    "\n",
    "# Use the model to make predictions on the test data\n",
    "y_pred_gbt = gbt_model.predict(X_test)\n",
    "\n",
    "# Calculate the performance metrics\n",
    "accuracy = accuracy_score(y_test, y_pred_gbt)\n",
    "precision = precision_score(y_test, y_pred_gbt)\n",
    "recall = recall_score(y_test, y_pred_gbt)\n",
    "auc_roc = roc_auc_score(y_test, y_pred_gbt)\n",
    "f1 = f1_score(y_test, y_pred_gbt)\n",
    "\n",
    "#auc_pr\n",
    "precision1, recall1, _ = precision_recall_curve(y_test, y_pred_gbt)\n",
    "auc_pr = auc(recall1, precision1)\n",
    "\n",
    "#specificity\n",
    "threshold = 0.5\n",
    "# Convert predicted probabilities to binary predictions using the threshold\n",
    "y_pred_binary = (y_pred_gbt > threshold).astype(int)\n",
    "\n",
    "conf_matrix = confusion_matrix(y_test, y_pred_binary)\n",
    "tn, fp, fn, tp = conf_matrix.ravel()\n",
    "\n",
    "specificity = tn / (tn + fp)\n",
    "\n",
    "accuracy, precision, recall, auc_roc, f1, auc_pr, specificity\n",
    "\n",
    "wandb.log({\"model_name\":\"Gradient boosted tree (Balanced Data)\", \"accuracy\":accuracy, \"precision\":precision, \n",
    "           \"recall\":recall, \"auc_roc\":auc_roc, \"f1_score\":f1, \"auc_pr\":auc_pr, \"specificity\":specificity,\n",
    "           \"training date range\": training_date_range, \"testing date range\": testing_date_range})\n",
    "\n",
    "wandb.finish()"
   ]
  },
  {
   "cell_type": "markdown",
   "metadata": {},
   "source": [
    "### Optimising Hyperparameters"
   ]
  },
  {
   "cell_type": "code",
   "execution_count": null,
   "metadata": {},
   "outputs": [],
   "source": [
    "wandb.init(project=\"MSciProject\")\n",
    "\n",
    "# Hyperparameters grid for the randomized search\n",
    "param_dist = {\n",
    "    'n_estimators': np.arange(50, 301, 50),\n",
    "    'learning_rate': [0.001, 0.01, 0.05, 0.1, 0.5],\n",
    "    'max_depth': np.arange(3, 15, 1),\n",
    "    'min_samples_split': np.arange(2, 11, 1),\n",
    "    'min_samples_leaf': np.arange(1, 11, 1),\n",
    "    'subsample': [0.7, 0.8, 0.9, 1]\n",
    "}\n",
    "\n",
    "# Initialize the randomized search with 5-fold cross-validation\n",
    "random_search = RandomizedSearchCV(GradientBoostingClassifier(random_state=42),\n",
    "                                   param_distributions=param_dist, n_iter=20, \n",
    "                                   scoring='recall', cv=5, n_jobs=-1, random_state=42)\n",
    "\n",
    "# Perform the randomized search on the training data\n",
    "random_search.fit(X_train, y_train)\n",
    "\n",
    "# Get the best parameters and the best recall score\n",
    "best_params_random = random_search.best_params_\n",
    "best_recall_random = random_search.best_score_\n",
    "\n",
    "best_params_random, best_recall_random\n",
    "\n",
    "wandb.log({\"model_name\":\"Gradient Boosting Random Search\", \"Best Parameters\": best_params, \"Best Recall\": best_recall})"
   ]
  },
  {
   "cell_type": "markdown",
   "metadata": {},
   "source": [
    "### Optimised Model"
   ]
  },
  {
   "cell_type": "code",
   "execution_count": 15,
   "metadata": {},
   "outputs": [
    {
     "data": {
      "text/html": [
       "Finishing last run (ID:2nhe53ys) before initializing another..."
      ],
      "text/plain": [
       "<IPython.core.display.HTML object>"
      ]
     },
     "metadata": {},
     "output_type": "display_data"
    },
    {
     "data": {
      "text/html": [
       "Waiting for W&B process to finish... <strong style=\"color:green\">(success).</strong>"
      ],
      "text/plain": [
       "<IPython.core.display.HTML object>"
      ]
     },
     "metadata": {},
     "output_type": "display_data"
    },
    {
     "data": {
      "text/html": [
       " View run <strong style=\"color:#cdcd00\">polar-fog-21</strong> at: <a href='https://wandb.ai/kgerrand/MSciProject/runs/2nhe53ys' target=\"_blank\">https://wandb.ai/kgerrand/MSciProject/runs/2nhe53ys</a><br/> View job at <a href='https://wandb.ai/kgerrand/MSciProject/jobs/QXJ0aWZhY3RDb2xsZWN0aW9uOjExMTI3ODcxMg==/version_details/v8' target=\"_blank\">https://wandb.ai/kgerrand/MSciProject/jobs/QXJ0aWZhY3RDb2xsZWN0aW9uOjExMTI3ODcxMg==/version_details/v8</a><br/>Synced 4 W&B file(s), 0 media file(s), 2 artifact file(s) and 0 other file(s)"
      ],
      "text/plain": [
       "<IPython.core.display.HTML object>"
      ]
     },
     "metadata": {},
     "output_type": "display_data"
    },
    {
     "data": {
      "text/html": [
       "Find logs at: <code>.\\wandb\\run-20231113_120938-2nhe53ys\\logs</code>"
      ],
      "text/plain": [
       "<IPython.core.display.HTML object>"
      ]
     },
     "metadata": {},
     "output_type": "display_data"
    },
    {
     "data": {
      "text/html": [
       "Successfully finished last run (ID:2nhe53ys). Initializing new run:<br/>"
      ],
      "text/plain": [
       "<IPython.core.display.HTML object>"
      ]
     },
     "metadata": {},
     "output_type": "display_data"
    },
    {
     "data": {
      "text/html": [
       "wandb version 0.16.0 is available!  To upgrade, please run:\n",
       " $ pip install wandb --upgrade"
      ],
      "text/plain": [
       "<IPython.core.display.HTML object>"
      ]
     },
     "metadata": {},
     "output_type": "display_data"
    },
    {
     "data": {
      "text/html": [
       "Tracking run with wandb version 0.15.12"
      ],
      "text/plain": [
       "<IPython.core.display.HTML object>"
      ]
     },
     "metadata": {},
     "output_type": "display_data"
    },
    {
     "data": {
      "text/html": [
       "Run data is saved locally in <code>c:\\Users\\kirst\\OneDrive\\Kirstin\\Uni\\Year4\\MSciProject\\my_code\\optimising_algorithm\\wandb\\run-20231113_120956-0c9ahcrq</code>"
      ],
      "text/plain": [
       "<IPython.core.display.HTML object>"
      ]
     },
     "metadata": {},
     "output_type": "display_data"
    },
    {
     "data": {
      "text/html": [
       "Syncing run <strong><a href='https://wandb.ai/kgerrand/MSciProject/runs/0c9ahcrq' target=\"_blank\">fancy-bush-22</a></strong> to <a href='https://wandb.ai/kgerrand/MSciProject' target=\"_blank\">Weights & Biases</a> (<a href='https://wandb.me/run' target=\"_blank\">docs</a>)<br/>"
      ],
      "text/plain": [
       "<IPython.core.display.HTML object>"
      ]
     },
     "metadata": {},
     "output_type": "display_data"
    },
    {
     "data": {
      "text/html": [
       " View project at <a href='https://wandb.ai/kgerrand/MSciProject' target=\"_blank\">https://wandb.ai/kgerrand/MSciProject</a>"
      ],
      "text/plain": [
       "<IPython.core.display.HTML object>"
      ]
     },
     "metadata": {},
     "output_type": "display_data"
    },
    {
     "data": {
      "text/html": [
       " View run at <a href='https://wandb.ai/kgerrand/MSciProject/runs/0c9ahcrq' target=\"_blank\">https://wandb.ai/kgerrand/MSciProject/runs/0c9ahcrq</a>"
      ],
      "text/plain": [
       "<IPython.core.display.HTML object>"
      ]
     },
     "metadata": {},
     "output_type": "display_data"
    },
    {
     "data": {
      "text/html": [
       "Waiting for W&B process to finish... <strong style=\"color:green\">(success).</strong>"
      ],
      "text/plain": [
       "<IPython.core.display.HTML object>"
      ]
     },
     "metadata": {},
     "output_type": "display_data"
    },
    {
     "data": {
      "text/html": [
       "<style>\n",
       "    table.wandb td:nth-child(1) { padding: 0 10px; text-align: left ; width: auto;} td:nth-child(2) {text-align: left ; width: 100%}\n",
       "    .wandb-row { display: flex; flex-direction: row; flex-wrap: wrap; justify-content: flex-start; width: 100% }\n",
       "    .wandb-col { display: flex; flex-direction: column; flex-basis: 100%; flex: 1; padding: 10px; }\n",
       "    </style>\n",
       "<div class=\"wandb-row\"><div class=\"wandb-col\"><h3>Run history:</h3><br/><table class=\"wandb\"><tr><td>accuracy</td><td>▁</td></tr><tr><td>auc_pr</td><td>▁</td></tr><tr><td>auc_roc</td><td>▁</td></tr><tr><td>f1_score</td><td>▁</td></tr><tr><td>precision</td><td>▁</td></tr><tr><td>recall</td><td>▁</td></tr><tr><td>specificity</td><td>▁</td></tr></table><br/></div><div class=\"wandb-col\"><h3>Run summary:</h3><br/><table class=\"wandb\"><tr><td>accuracy</td><td>0.6887</td></tr><tr><td>auc_pr</td><td>0.78208</td></tr><tr><td>auc_roc</td><td>0.69214</td></tr><tr><td>f1_score</td><td>0.67851</td></tr><tr><td>model_name</td><td>Final Random Forest,...</td></tr><tr><td>precision</td><td>0.74205</td></tr><tr><td>recall</td><td>0.625</td></tr><tr><td>specificity</td><td>0.75927</td></tr><tr><td>testing date range</td><td>2014-01-01 to 2016-1...</td></tr><tr><td>training date range</td><td>2003-05-22 to 2012-1...</td></tr></table><br/></div></div>"
      ],
      "text/plain": [
       "<IPython.core.display.HTML object>"
      ]
     },
     "metadata": {},
     "output_type": "display_data"
    },
    {
     "data": {
      "text/html": [
       " View run <strong style=\"color:#cdcd00\">fancy-bush-22</strong> at: <a href='https://wandb.ai/kgerrand/MSciProject/runs/0c9ahcrq' target=\"_blank\">https://wandb.ai/kgerrand/MSciProject/runs/0c9ahcrq</a><br/> View job at <a href='https://wandb.ai/kgerrand/MSciProject/jobs/QXJ0aWZhY3RDb2xsZWN0aW9uOjExMTI3ODcxMg==/version_details/v9' target=\"_blank\">https://wandb.ai/kgerrand/MSciProject/jobs/QXJ0aWZhY3RDb2xsZWN0aW9uOjExMTI3ODcxMg==/version_details/v9</a><br/>Synced 4 W&B file(s), 0 media file(s), 2 artifact file(s) and 0 other file(s)"
      ],
      "text/plain": [
       "<IPython.core.display.HTML object>"
      ]
     },
     "metadata": {},
     "output_type": "display_data"
    },
    {
     "data": {
      "text/html": [
       "Find logs at: <code>.\\wandb\\run-20231113_120956-0c9ahcrq\\logs</code>"
      ],
      "text/plain": [
       "<IPython.core.display.HTML object>"
      ]
     },
     "metadata": {},
     "output_type": "display_data"
    }
   ],
   "source": [
    "wandb.init(project=\"MSciProject\")\n",
    "\n",
    "# Run model with best parameters\n",
    "# try this against gradient boosted tree and compare?\n",
    "\n",
    "rf_model = RandomForestClassifier(random_state=42,\n",
    "                                  max_depth=20,\n",
    "                                  min_samples_leaf=1,\n",
    "                                  min_samples_split=2,\n",
    "                                  n_estimators=200,\n",
    "                                  bootstrap=False)\n",
    "\n",
    "\n",
    "rf_model.fit(X_train, y_train)\n",
    "\n",
    "# Use the model to make predictions on the test data\n",
    "y_pred = rf_model.predict(X_test)\n",
    "\n",
    "# Calculate the performance metrics\n",
    "accuracy = accuracy_score(y_test, y_pred)\n",
    "precision = precision_score(y_test, y_pred)\n",
    "recall = recall_score(y_test, y_pred)\n",
    "auc_roc = roc_auc_score(y_test, y_pred)\n",
    "f1 = f1_score(y_test, y_pred)\n",
    "\n",
    "#auc_pr\n",
    "precision1, recall1, _ = precision_recall_curve(y_test, y_pred)\n",
    "auc_pr = auc(recall1, precision1)\n",
    "\n",
    "#specificity\n",
    "threshold = 0.5\n",
    "# Convert predicted probabilities to binary predictions using the threshold\n",
    "y_pred_binary = (y_pred > threshold).astype(int)\n",
    "\n",
    "conf_matrix = confusion_matrix(y_test, y_pred_binary)\n",
    "tn, fp, fn, tp = conf_matrix.ravel()\n",
    "\n",
    "specificity = tn / (tn + fp)\n",
    "\n",
    "accuracy, precision, recall, auc_roc, f1, auc_pr, specificity\n",
    "\n",
    "wandb.log({\"model_name\":\"Final Random Forest, bootstrap=False\", \"accuracy\":accuracy, \"precision\":precision, \n",
    "           \"recall\":recall, \"auc_roc\":auc_roc, \"f1_score\":f1, \"auc_pr\":auc_pr, \"specificity\":specificity,\n",
    "           \"training date range\": training_date_range, \"testing date range\": testing_date_range })\n",
    "\n",
    "wandb.finish()"
   ]
  },
  {
   "cell_type": "code",
   "execution_count": null,
   "metadata": {},
   "outputs": [],
   "source": [
    "# Save the model\n",
    "dump(rf_model, '/Users/kirst/Downloads/rf_model.joblib')"
   ]
  }
 ],
 "metadata": {
  "kernelspec": {
   "display_name": "Python 3",
   "language": "python",
   "name": "python3"
  },
  "language_info": {
   "codemirror_mode": {
    "name": "ipython",
    "version": 3
   },
   "file_extension": ".py",
   "mimetype": "text/x-python",
   "name": "python",
   "nbconvert_exporter": "python",
   "pygments_lexer": "ipython3",
   "version": "3.11.5"
  },
  "orig_nbformat": 4
 },
 "nbformat": 4,
 "nbformat_minor": 2
}
